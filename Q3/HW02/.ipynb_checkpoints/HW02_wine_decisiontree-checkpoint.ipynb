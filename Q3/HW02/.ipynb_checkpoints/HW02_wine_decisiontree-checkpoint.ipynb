{
 "cells": [
  {
   "cell_type": "markdown",
   "metadata": {
    "collapsed": true
   },
   "source": [
    "# Automated Sensing of Red vs. White Wine\n",
    "_... with the cheapest sensor possible_"
   ]
  },
  {
   "cell_type": "markdown",
   "metadata": {},
   "source": [
    "#### Data Science 420 BB\n",
    "#### University of Washington Professional & Continuing Education\n",
    "\n",
    "#### Homework 2: Low-cost Sensor, Desigion Trees\n",
    "#### Leo Salemann, 4/25/18"
   ]
  },
  {
   "cell_type": "markdown",
   "metadata": {},
   "source": [
    "# OBJECTIVES"
   ]
  },
  {
   "cell_type": "markdown",
   "metadata": {},
   "source": [
    "1. Design a simple, low-cost sensor that can distinguish between red wine and white wine for at least 95%\n",
    "of the samples. In other words, achive 95% accuracy with the minimum number of features.\n",
    "1. Assess Accuracy when using all sensors\n",
    "1. Find the ninimum number of sensors that still maintains 90% accuracy or better."
   ]
  },
  {
   "cell_type": "markdown",
   "metadata": {},
   "source": [
    "# LOAD DATA"
   ]
  },
  {
   "cell_type": "code",
   "execution_count": 1,
   "metadata": {
    "scrolled": true
   },
   "outputs": [
    {
     "data": {
      "text/html": [
       "<table>\n",
       "<thead><tr><th scope=col>fixed.acidity</th><th scope=col>volatile.acidity</th><th scope=col>citric.acid</th><th scope=col>residual.sugar</th><th scope=col>chlorides</th><th scope=col>free.sulfur.dioxide</th><th scope=col>total.sulfur.dioxide</th><th scope=col>density</th><th scope=col>pH</th><th scope=col>sulphates</th><th scope=col>alcohol</th><th scope=col>quality</th><th scope=col>Class</th></tr></thead>\n",
       "<tbody>\n",
       "\t<tr><td> 7.4  </td><td>0.70  </td><td>0.00  </td><td>1.9   </td><td>0.076 </td><td>11    </td><td>34    </td><td>0.9978</td><td>3.51  </td><td>0.56  </td><td>9.4   </td><td>5     </td><td>1     </td></tr>\n",
       "\t<tr><td> 7.8  </td><td>0.88  </td><td>0.00  </td><td>2.6   </td><td>0.098 </td><td>25    </td><td>67    </td><td>0.9968</td><td>3.20  </td><td>0.68  </td><td>9.8   </td><td>5     </td><td>1     </td></tr>\n",
       "\t<tr><td> 7.8  </td><td>0.76  </td><td>0.04  </td><td>2.3   </td><td>0.092 </td><td>15    </td><td>54    </td><td>0.9970</td><td>3.26  </td><td>0.65  </td><td>9.8   </td><td>5     </td><td>1     </td></tr>\n",
       "\t<tr><td>11.2  </td><td>0.28  </td><td>0.56  </td><td>1.9   </td><td>0.075 </td><td>17    </td><td>60    </td><td>0.9980</td><td>3.16  </td><td>0.58  </td><td>9.8   </td><td>6     </td><td>1     </td></tr>\n",
       "\t<tr><td> 7.4  </td><td>0.70  </td><td>0.00  </td><td>1.9   </td><td>0.076 </td><td>11    </td><td>34    </td><td>0.9978</td><td>3.51  </td><td>0.56  </td><td>9.4   </td><td>5     </td><td>1     </td></tr>\n",
       "\t<tr><td> 7.4  </td><td>0.66  </td><td>0.00  </td><td>1.8   </td><td>0.075 </td><td>13    </td><td>40    </td><td>0.9978</td><td>3.51  </td><td>0.56  </td><td>9.4   </td><td>5     </td><td>1     </td></tr>\n",
       "</tbody>\n",
       "</table>\n"
      ],
      "text/latex": [
       "\\begin{tabular}{r|lllllllllllll}\n",
       " fixed.acidity & volatile.acidity & citric.acid & residual.sugar & chlorides & free.sulfur.dioxide & total.sulfur.dioxide & density & pH & sulphates & alcohol & quality & Class\\\\\n",
       "\\hline\n",
       "\t  7.4   & 0.70   & 0.00   & 1.9    & 0.076  & 11     & 34     & 0.9978 & 3.51   & 0.56   & 9.4    & 5      & 1     \\\\\n",
       "\t  7.8   & 0.88   & 0.00   & 2.6    & 0.098  & 25     & 67     & 0.9968 & 3.20   & 0.68   & 9.8    & 5      & 1     \\\\\n",
       "\t  7.8   & 0.76   & 0.04   & 2.3    & 0.092  & 15     & 54     & 0.9970 & 3.26   & 0.65   & 9.8    & 5      & 1     \\\\\n",
       "\t 11.2   & 0.28   & 0.56   & 1.9    & 0.075  & 17     & 60     & 0.9980 & 3.16   & 0.58   & 9.8    & 6      & 1     \\\\\n",
       "\t  7.4   & 0.70   & 0.00   & 1.9    & 0.076  & 11     & 34     & 0.9978 & 3.51   & 0.56   & 9.4    & 5      & 1     \\\\\n",
       "\t  7.4   & 0.66   & 0.00   & 1.8    & 0.075  & 13     & 40     & 0.9978 & 3.51   & 0.56   & 9.4    & 5      & 1     \\\\\n",
       "\\end{tabular}\n"
      ],
      "text/markdown": [
       "\n",
       "fixed.acidity | volatile.acidity | citric.acid | residual.sugar | chlorides | free.sulfur.dioxide | total.sulfur.dioxide | density | pH | sulphates | alcohol | quality | Class | \n",
       "|---|---|---|---|---|---|\n",
       "|  7.4   | 0.70   | 0.00   | 1.9    | 0.076  | 11     | 34     | 0.9978 | 3.51   | 0.56   | 9.4    | 5      | 1      | \n",
       "|  7.8   | 0.88   | 0.00   | 2.6    | 0.098  | 25     | 67     | 0.9968 | 3.20   | 0.68   | 9.8    | 5      | 1      | \n",
       "|  7.8   | 0.76   | 0.04   | 2.3    | 0.092  | 15     | 54     | 0.9970 | 3.26   | 0.65   | 9.8    | 5      | 1      | \n",
       "| 11.2   | 0.28   | 0.56   | 1.9    | 0.075  | 17     | 60     | 0.9980 | 3.16   | 0.58   | 9.8    | 6      | 1      | \n",
       "|  7.4   | 0.70   | 0.00   | 1.9    | 0.076  | 11     | 34     | 0.9978 | 3.51   | 0.56   | 9.4    | 5      | 1      | \n",
       "|  7.4   | 0.66   | 0.00   | 1.8    | 0.075  | 13     | 40     | 0.9978 | 3.51   | 0.56   | 9.4    | 5      | 1      | \n",
       "\n",
       "\n"
      ],
      "text/plain": [
       "  fixed.acidity volatile.acidity citric.acid residual.sugar chlorides\n",
       "1  7.4          0.70             0.00        1.9            0.076    \n",
       "2  7.8          0.88             0.00        2.6            0.098    \n",
       "3  7.8          0.76             0.04        2.3            0.092    \n",
       "4 11.2          0.28             0.56        1.9            0.075    \n",
       "5  7.4          0.70             0.00        1.9            0.076    \n",
       "6  7.4          0.66             0.00        1.8            0.075    \n",
       "  free.sulfur.dioxide total.sulfur.dioxide density pH   sulphates alcohol\n",
       "1 11                  34                   0.9978  3.51 0.56      9.4    \n",
       "2 25                  67                   0.9968  3.20 0.68      9.8    \n",
       "3 15                  54                   0.9970  3.26 0.65      9.8    \n",
       "4 17                  60                   0.9980  3.16 0.58      9.8    \n",
       "5 11                  34                   0.9978  3.51 0.56      9.4    \n",
       "6 13                  40                   0.9978  3.51 0.56      9.4    \n",
       "  quality Class\n",
       "1 5       1    \n",
       "2 5       1    \n",
       "3 5       1    \n",
       "4 6       1    \n",
       "5 5       1    \n",
       "6 5       1    "
      ]
     },
     "metadata": {},
     "output_type": "display_data"
    },
    {
     "data": {
      "text/html": [
       "<ol class=list-inline>\n",
       "\t<li>6497</li>\n",
       "\t<li>13</li>\n",
       "</ol>\n"
      ],
      "text/latex": [
       "\\begin{enumerate*}\n",
       "\\item 6497\n",
       "\\item 13\n",
       "\\end{enumerate*}\n"
      ],
      "text/markdown": [
       "1. 6497\n",
       "2. 13\n",
       "\n",
       "\n"
      ],
      "text/plain": [
       "[1] 6497   13"
      ]
     },
     "metadata": {},
     "output_type": "display_data"
    }
   ],
   "source": [
    "file <- \"./RedWhiteWine.csv\"\n",
    "data <- read.csv(file, header=TRUE, sep=\",\", stringsAsFactors = FALSE)\n",
    "\n",
    "# If the target column, say column class, is numerical, you need to convert it to factors in R for classification problem\n",
    "data$Class <- factor(data$Class)\n",
    "head(data)\n",
    "dim(data)\n"
   ]
  },
  {
   "cell_type": "code",
   "execution_count": 7,
   "metadata": {},
   "outputs": [
    {
     "name": "stderr",
     "output_type": "stream",
     "text": [
      "\n",
      "Attaching package: ‘dplyr’\n",
      "\n",
      "The following objects are masked from ‘package:stats’:\n",
      "\n",
      "    filter, lag\n",
      "\n",
      "The following objects are masked from ‘package:base’:\n",
      "\n",
      "    intersect, setdiff, setequal, union\n",
      "\n"
     ]
    }
   ],
   "source": [
    "# install.packages(\"dplyr\")\n",
    "library(dplyr)"
   ]
  },
  {
   "cell_type": "markdown",
   "metadata": {},
   "source": [
    "## Redefine Class 1 as Red and 0 as White"
   ]
  },
  {
   "cell_type": "raw",
   "metadata": {},
   "source": [
    "data$Color <- ifelse(data$Class ==1,'Red','White')\n",
    "# data$Color <- factor(data$Color)\n",
    "head(data)\n",
    "\n",
    "select(data, -Class)\n",
    "head(data)"
   ]
  },
  {
   "cell_type": "code",
   "execution_count": null,
   "metadata": {},
   "outputs": [],
   "source": [
    "select(data, -Class)\n",
    "head(data)"
   ]
  },
  {
   "cell_type": "markdown",
   "metadata": {},
   "source": [
    "# Make a function that quickly tests Decision Tree accuracy"
   ]
  },
  {
   "cell_type": "code",
   "execution_count": 2,
   "metadata": {
    "collapsed": true
   },
   "outputs": [],
   "source": [
    "# Classification Tree with rpart\n",
    "library(rpart)"
   ]
  },
  {
   "cell_type": "markdown",
   "metadata": {},
   "source": [
    "Very similar to homework 1 (go figure), but it uses rpart/tree model instead of nbc"
   ]
  },
  {
   "cell_type": "code",
   "execution_count": 3,
   "metadata": {
    "collapsed": true
   },
   "outputs": [],
   "source": [
    "options(repr.plot.width=12, repr.plot.height=12)\n",
    "\n",
    "test_tree_accuracy <- function(df, plot=FALSE) {\n",
    " \n",
    "    # df = select(df, -Color)\n",
    "    # split into test and training sets\n",
    "    nrows <- nrow(df)\n",
    "    smp_size <- floor(0.75 * nrows)\n",
    "\n",
    "    set.seed(42)\n",
    "    train_ind <- sample(seq_len(nrows), size = smp_size)\n",
    "    \n",
    "    train <- df[train_ind, ]\n",
    "    test <- df[-train_ind, ]\n",
    "    \n",
    "    formula <- as.formula('Class ~ .')\n",
    "\n",
    "    # grow tree \n",
    "    tree_model <- rpart(formula,\n",
    "                 method=\"class\", data=train, control=rpart.control(minsplit=30, cp=0.01))\n",
    "    \n",
    "    if (plot) {\n",
    "        # plot tree \n",
    "        plot(tree_model, uniform=TRUE, \n",
    "             main=\"Classification Tree for Adult Income\")\n",
    "        text(tree_model, use.n=TRUE, all=TRUE, cex=.8)\n",
    "    }\n",
    "    \n",
    "    # Make a prediction & test accuracy\n",
    "    test_pred <- predict(tree_model, test, type = \"class\")\n",
    "    \n",
    "    ### junky debug stuff\n",
    "    # print(head (test_pred))\n",
    "    ### junky debug stuff\n",
    "    accuracy <- sum(test[,\"Class\"]==test_pred)/length(test_pred)\n",
    "    print(\"-------------------------------------------------------------------\")\n",
    "    print(colnames(df))\n",
    "    print(paste(\"Accuracy=\", round(accuracy*100,2), \"%\", sep=\"\"))\n",
    "    print(\"------------------------------------\")\n",
    "    print(paste(''))\n",
    "    # try to do the AUC\n",
    "    # print(paste(\"AUC=\", auc(test_pred, df$Class)))\n",
    "\n",
    "}"
   ]
  },
  {
   "cell_type": "markdown",
   "metadata": {},
   "source": [
    "## Classification Accuracy, All Attributes"
   ]
  },
  {
   "cell_type": "code",
   "execution_count": 4,
   "metadata": {},
   "outputs": [
    {
     "name": "stdout",
     "output_type": "stream",
     "text": [
      "[1] \"-------------------------------------------------------------------\"\n",
      " [1] \"fixed.acidity\"        \"volatile.acidity\"     \"citric.acid\"         \n",
      " [4] \"residual.sugar\"       \"chlorides\"            \"free.sulfur.dioxide\" \n",
      " [7] \"total.sulfur.dioxide\" \"density\"              \"pH\"                  \n",
      "[10] \"sulphates\"            \"alcohol\"              \"quality\"             \n",
      "[13] \"Class\"               \n",
      "[1] \"Accuracy=97.72%\"\n",
      "[1] \"------------------------------------\"\n",
      "[1] \"\"\n"
     ]
    }
   ],
   "source": [
    "test_tree_accuracy(data)"
   ]
  },
  {
   "cell_type": "markdown",
   "metadata": {},
   "source": [
    "Okay, 97.72% accuracy (NBC was 97.91%). Not bad.  Let's start keeping score.\n",
    "\n",
    "| Configuration | Tree Accuracy | NBC Acuracy |\n",
    "|---------------|---------------|-------------|\n",
    "|All features   | 97.72%        |  97.91%     |"
   ]
  },
  {
   "cell_type": "markdown",
   "metadata": {},
   "source": [
    "# OPTIMISING ATTRIBUTES"
   ]
  },
  {
   "cell_type": "markdown",
   "metadata": {},
   "source": [
    "## Simplest Case First: Single-Feature Sensor\n",
    "Presumably, the cheapest sensor we can design and build is one that samples only a single paremeter. Given our small search space (6 features) and reusable function, we can do a quick check in six lines of code"
   ]
  },
  {
   "cell_type": "code",
   "execution_count": 5,
   "metadata": {},
   "outputs": [
    {
     "data": {
      "text/html": [
       "<ol class=list-inline>\n",
       "\t<li>'fixed.acidity'</li>\n",
       "\t<li>'volatile.acidity'</li>\n",
       "\t<li>'citric.acid'</li>\n",
       "\t<li>'residual.sugar'</li>\n",
       "\t<li>'chlorides'</li>\n",
       "\t<li>'free.sulfur.dioxide'</li>\n",
       "\t<li>'total.sulfur.dioxide'</li>\n",
       "\t<li>'density'</li>\n",
       "\t<li>'pH'</li>\n",
       "\t<li>'sulphates'</li>\n",
       "\t<li>'alcohol'</li>\n",
       "\t<li>'quality'</li>\n",
       "\t<li>'Class'</li>\n",
       "</ol>\n"
      ],
      "text/latex": [
       "\\begin{enumerate*}\n",
       "\\item 'fixed.acidity'\n",
       "\\item 'volatile.acidity'\n",
       "\\item 'citric.acid'\n",
       "\\item 'residual.sugar'\n",
       "\\item 'chlorides'\n",
       "\\item 'free.sulfur.dioxide'\n",
       "\\item 'total.sulfur.dioxide'\n",
       "\\item 'density'\n",
       "\\item 'pH'\n",
       "\\item 'sulphates'\n",
       "\\item 'alcohol'\n",
       "\\item 'quality'\n",
       "\\item 'Class'\n",
       "\\end{enumerate*}\n"
      ],
      "text/markdown": [
       "1. 'fixed.acidity'\n",
       "2. 'volatile.acidity'\n",
       "3. 'citric.acid'\n",
       "4. 'residual.sugar'\n",
       "5. 'chlorides'\n",
       "6. 'free.sulfur.dioxide'\n",
       "7. 'total.sulfur.dioxide'\n",
       "8. 'density'\n",
       "9. 'pH'\n",
       "10. 'sulphates'\n",
       "11. 'alcohol'\n",
       "12. 'quality'\n",
       "13. 'Class'\n",
       "\n",
       "\n"
      ],
      "text/plain": [
       " [1] \"fixed.acidity\"        \"volatile.acidity\"     \"citric.acid\"         \n",
       " [4] \"residual.sugar\"       \"chlorides\"            \"free.sulfur.dioxide\" \n",
       " [7] \"total.sulfur.dioxide\" \"density\"              \"pH\"                  \n",
       "[10] \"sulphates\"            \"alcohol\"              \"quality\"             \n",
       "[13] \"Class\"               "
      ]
     },
     "metadata": {},
     "output_type": "display_data"
    }
   ],
   "source": [
    "colnames(data)"
   ]
  },
  {
   "cell_type": "code",
   "execution_count": 8,
   "metadata": {},
   "outputs": [
    {
     "name": "stdout",
     "output_type": "stream",
     "text": [
      "[1] \"-------------------------------------------------------------------\"\n",
      "[1] \"fixed.acidity\" \"Class\"        \n",
      "[1] \"Accuracy=80.92%\"\n",
      "[1] \"------------------------------------\"\n",
      "[1] \"\"\n",
      "[1] \"-------------------------------------------------------------------\"\n",
      "[1] \"volatile.acidity\" \"Class\"           \n",
      "[1] \"Accuracy=86.22%\"\n",
      "[1] \"------------------------------------\"\n",
      "[1] \"\"\n",
      "[1] \"-------------------------------------------------------------------\"\n",
      "[1] \"citric.acid\" \"Class\"      \n",
      "[1] \"Accuracy=80.25%\"\n",
      "[1] \"------------------------------------\"\n",
      "[1] \"\"\n",
      "[1] \"-------------------------------------------------------------------\"\n",
      "[1] \"residual.sugar\" \"Class\"         \n",
      "[1] \"Accuracy=83.57%\"\n",
      "[1] \"------------------------------------\"\n",
      "[1] \"\"\n",
      "[1] \"-------------------------------------------------------------------\"\n",
      "[1] \"chlorides\" \"Class\"    \n",
      "[1] \"Accuracy=91.94%\"\n",
      "[1] \"------------------------------------\"\n",
      "[1] \"\"\n",
      "[1] \"-------------------------------------------------------------------\"\n",
      "[1] \"free.sulfur.dioxide\" \"Class\"              \n",
      "[1] \"Accuracy=81.97%\"\n",
      "[1] \"------------------------------------\"\n",
      "[1] \"\"\n",
      "[1] \"-------------------------------------------------------------------\"\n",
      "[1] \"total.sulfur.dioxide\" \"Class\"               \n",
      "[1] \"Accuracy=93.05%\"\n",
      "[1] \"------------------------------------\"\n",
      "[1] \"\"\n",
      "[1] \"-------------------------------------------------------------------\"\n",
      "[1] \"density\" \"Class\"  \n",
      "[1] \"Accuracy=75.94%\"\n",
      "[1] \"------------------------------------\"\n",
      "[1] \"\"\n",
      "[1] \"-------------------------------------------------------------------\"\n",
      "[1] \"pH\"    \"Class\"\n",
      "[1] \"Accuracy=74.46%\"\n",
      "[1] \"------------------------------------\"\n",
      "[1] \"\"\n",
      "[1] \"-------------------------------------------------------------------\"\n",
      "[1] \"sulphates\" \"Class\"    \n",
      "[1] \"Accuracy=78.28%\"\n",
      "[1] \"------------------------------------\"\n",
      "[1] \"\"\n",
      "[1] \"-------------------------------------------------------------------\"\n",
      "[1] \"alcohol\" \"Class\"  \n",
      "[1] \"Accuracy=74.46%\"\n",
      "[1] \"------------------------------------\"\n",
      "[1] \"\"\n"
     ]
    }
   ],
   "source": [
    "test_tree_accuracy(select(data, fixed.acidity, Class))\n",
    "test_tree_accuracy(select(data, volatile.acidity, Class))\n",
    "test_tree_accuracy(select(data, citric.acid, Class))\n",
    "test_tree_accuracy(select(data, residual.sugar, Class))\n",
    "test_tree_accuracy(select(data, chlorides, Class))\n",
    "test_tree_accuracy(select(data, free.sulfur.dioxide, Class))\n",
    "test_tree_accuracy(select(data, total.sulfur.dioxide, Class))\n",
    "test_tree_accuracy(select(data, density, Class))\n",
    "test_tree_accuracy(select(data, pH, Class))\n",
    "test_tree_accuracy(select(data, sulphates, Class))\n",
    "test_tree_accuracy(select(data, alcohol, Class))"
   ]
  },
  {
   "cell_type": "markdown",
   "metadata": {},
   "source": [
    "Okay, if our threshold is 90%, we can go down to a single feature (Sulfur Dioxide) If we want 95% or better, we need to keep looking. Time to update the leaderboard:\n",
    "\n",
    "| Configuration                 | Tree Accuracy | NBC Acuracy |\n",
    "|-------------------------------|---------------|-------------|\n",
    "|All features                   | 97.72%        | 97.91%      |\n",
    "|1 feature (sulfur.dioxide)     | 93.05%        | 93.11%      |\n",
    "|1 feature (chloride)           | 91.94%        | 79.57%      |\n",
    "\n",
    "So, for the cheapest possible sensorwith at least 90% accuracy, you can detect either sulfur.dioxide or chloride (which ever chemical is chheaper to detect).\n",
    "\n",
    "Switching from _Business Mode_ to _Academic Mode_, we'll expend some extra resources to see what else we can do with this data and these decision trees.\n",
    "\n",
    "\n",
    "To keep it intresting, we'll see if we can make a sensor with 90% or better accuracy, using as few sensors as possible, but still at lest two."
   ]
  },
  {
   "cell_type": "markdown",
   "metadata": {},
   "source": [
    "## Plot the Decision Tree and Use Some Human Intuition"
   ]
  },
  {
   "cell_type": "code",
   "execution_count": 9,
   "metadata": {
    "collapsed": true
   },
   "outputs": [],
   "source": [
    "options(repr.plot.width=8, repr.plot.height=9)"
   ]
  },
  {
   "cell_type": "code",
   "execution_count": 10,
   "metadata": {
    "scrolled": false
   },
   "outputs": [
    {
     "name": "stdout",
     "output_type": "stream",
     "text": [
      "[1] \"-------------------------------------------------------------------\"\n",
      " [1] \"fixed.acidity\"        \"volatile.acidity\"     \"citric.acid\"         \n",
      " [4] \"residual.sugar\"       \"chlorides\"            \"free.sulfur.dioxide\" \n",
      " [7] \"total.sulfur.dioxide\" \"density\"              \"pH\"                  \n",
      "[10] \"sulphates\"            \"alcohol\"              \"quality\"             \n",
      "[13] \"Class\"               \n",
      "[1] \"Accuracy=97.72%\"\n",
      "[1] \"------------------------------------\"\n",
      "[1] \"\"\n"
     ]
    },
    {
     "data": {
      "image/png": "[encoded data removed]",
      "text/plain": [
       "Plot with title “Classification Tree for Adult Income”"
      ]
     },
     "metadata": {},
     "output_type": "display_data"
    }
   ],
   "source": [
    "test_tree_accuracy(data, plot=TRUE)"
   ]
  },
  {
   "cell_type": "markdown",
   "metadata": {},
   "source": [
    "After googling _R rpart tree pruning_"
   ]
  },
  {
   "cell_type": "code",
   "execution_count": 11,
   "metadata": {},
   "outputs": [
    {
     "name": "stdout",
     "output_type": "stream",
     "text": [
      "\n",
      "Classification tree:\n",
      "rpart(formula = Class ~ ., data = data, method = \"class\")\n",
      "\n",
      "Variables actually used in tree construction:\n",
      "[1] chlorides            total.sulfur.dioxide volatile.acidity    \n",
      "\n",
      "Root node error: 1599/6497 = 0.24611\n",
      "\n",
      "n= 6497 \n",
      "\n",
      "        CP nsplit rel error   xerror      xstd\n",
      "1 0.700438      0  1.000000 1.000000 0.0217134\n",
      "2 0.067542      1  0.299562 0.332083 0.0138097\n",
      "3 0.062539      2  0.232020 0.255159 0.0122292\n",
      "4 0.017511      4  0.106942 0.116948 0.0084281\n",
      "5 0.016260      5  0.089431 0.101939 0.0078837\n",
      "6 0.010000      6  0.073171 0.090056 0.0074211\n"
     ]
    }
   ],
   "source": [
    "fit <- rpart (Class ~ ., method=\"class\", data=data)\n",
    "printcp (fit)"
   ]
  },
  {
   "cell_type": "code",
   "execution_count": 12,
   "metadata": {},
   "outputs": [
    {
     "data": {
      "image/png": "[encoded data removed]",
      "text/plain": [
       "plot without title"
      ]
     },
     "metadata": {},
     "output_type": "display_data"
    }
   ],
   "source": [
    "options(repr.plot.width=8, repr.plot.height=6)\n",
    "plotcp(fit)"
   ]
  },
  {
   "cell_type": "code",
   "execution_count": 13,
   "metadata": {
    "scrolled": false
   },
   "outputs": [
    {
     "name": "stdout",
     "output_type": "stream",
     "text": [
      "Call:\n",
      "rpart(formula = Class ~ ., data = data, method = \"class\")\n",
      "  n= 6497 \n",
      "\n",
      "          CP nsplit  rel error     xerror        xstd\n",
      "1 0.70043777      0 1.00000000 1.00000000 0.021713445\n",
      "2 0.06754221      1 0.29956223 0.33208255 0.013809692\n",
      "3 0.06253909      2 0.23202001 0.25515947 0.012229203\n",
      "4 0.01751094      4 0.10694184 0.11694809 0.008428118\n",
      "5 0.01626016      5 0.08943089 0.10193871 0.007883661\n",
      "6 0.01000000      6 0.07317073 0.09005629 0.007421057\n",
      "\n",
      "Variable importance\n",
      "total.sulfur.dioxide            chlorides  free.sulfur.dioxide \n",
      "                  34                   21                   13 \n",
      "    volatile.acidity        fixed.acidity          citric.acid \n",
      "                  11                    7                    6 \n",
      "             density            sulphates       residual.sugar \n",
      "                   3                    2                    2 \n",
      "                  pH \n",
      "                   1 \n",
      "\n",
      "Node number 1: 6497 observations,    complexity param=0.7004378\n",
      "  predicted class=0  expected loss=0.2461136  P(node) =1\n",
      "    class counts:  4898  1599\n",
      "   probabilities: 0.754 0.246 \n",
      "  left son=2 (5093 obs) right son=3 (1404 obs)\n",
      "  Primary splits:\n",
      "      total.sulfur.dioxide < 67.5     to the right, improve=1526.2500, (0 missing)\n",
      "      chlorides            < 0.0615   to the left,  improve=1517.9660, (0 missing)\n",
      "      volatile.acidity     < 0.4125   to the left,  improve= 946.5431, (0 missing)\n",
      "      free.sulfur.dioxide  < 18.5     to the right, improve= 616.8619, (0 missing)\n",
      "      sulphates            < 0.525    to the left,  improve= 500.2895, (0 missing)\n",
      "  Surrogate splits:\n",
      "      free.sulfur.dioxide < 13.5     to the right, agree=0.866, adj=0.378, (0 split)\n",
      "      chlorides           < 0.0635   to the left,  agree=0.859, adj=0.350, (0 split)\n",
      "      volatile.acidity    < 0.4975   to the left,  agree=0.832, adj=0.222, (0 split)\n",
      "      citric.acid         < 0.135    to the right, agree=0.826, adj=0.194, (0 split)\n",
      "      fixed.acidity       < 9.05     to the left,  agree=0.823, adj=0.179, (0 split)\n",
      "\n",
      "Node number 2: 5093 observations,    complexity param=0.06253909\n",
      "  predicted class=0  expected loss=0.06616925  P(node) =0.7839003\n",
      "    class counts:  4756   337\n",
      "   probabilities: 0.934 0.066 \n",
      "  left son=4 (4598 obs) right son=5 (495 obs)\n",
      "  Primary splits:\n",
      "      chlorides            < 0.0695   to the left,  improve=293.86270, (0 missing)\n",
      "      volatile.acidity     < 0.4875   to the left,  improve=212.35130, (0 missing)\n",
      "      fixed.acidity        < 8.75     to the left,  improve= 72.83330, (0 missing)\n",
      "      total.sulfur.dioxide < 92.5     to the right, improve= 59.63334, (0 missing)\n",
      "      density              < 0.995835 to the left,  improve= 51.31312, (0 missing)\n",
      "  Surrogate splits:\n",
      "      volatile.acidity < 0.5575   to the left,  agree=0.919, adj=0.166, (0 split)\n",
      "      fixed.acidity    < 9.45     to the left,  agree=0.908, adj=0.057, (0 split)\n",
      "      sulphates        < 1.015    to the left,  agree=0.905, adj=0.020, (0 split)\n",
      "      density          < 1.002415 to the left,  agree=0.903, adj=0.004, (0 split)\n",
      "      pH               < 2.78     to the right, agree=0.903, adj=0.002, (0 split)\n",
      "\n",
      "Node number 3: 1404 observations,    complexity param=0.06754221\n",
      "  predicted class=1  expected loss=0.1011396  P(node) =0.2160997\n",
      "    class counts:   142  1262\n",
      "   probabilities: 0.101 0.899 \n",
      "  left son=6 (140 obs) right son=7 (1264 obs)\n",
      "  Primary splits:\n",
      "      chlorides        < 0.0465   to the left,  improve=191.44620, (0 missing)\n",
      "      density          < 0.99321  to the left,  improve=146.44060, (0 missing)\n",
      "      sulphates        < 0.415    to the left,  improve=101.85390, (0 missing)\n",
      "      residual.sugar   < 1.375    to the left,  improve= 69.53834, (0 missing)\n",
      "      volatile.acidity < 0.275    to the left,  improve= 61.11413, (0 missing)\n",
      "  Surrogate splits:\n",
      "      density          < 0.99265  to the left,  agree=0.950, adj=0.500, (0 split)\n",
      "      residual.sugar   < 1.325    to the left,  agree=0.932, adj=0.314, (0 split)\n",
      "      sulphates        < 0.405    to the left,  agree=0.930, adj=0.300, (0 split)\n",
      "      volatile.acidity < 0.205    to the left,  agree=0.913, adj=0.129, (0 split)\n",
      "      pH               < 2.915    to the left,  agree=0.905, adj=0.050, (0 split)\n",
      "\n",
      "Node number 4: 4598 observations\n",
      "  predicted class=0  expected loss=0.01043932  P(node) =0.7077113\n",
      "    class counts:  4550    48\n",
      "   probabilities: 0.990 0.010 \n",
      "\n",
      "Node number 5: 495 observations,    complexity param=0.06253909\n",
      "  predicted class=1  expected loss=0.4161616  P(node) =0.07618901\n",
      "    class counts:   206   289\n",
      "   probabilities: 0.416 0.584 \n",
      "  left son=10 (213 obs) right son=11 (282 obs)\n",
      "  Primary splits:\n",
      "      volatile.acidity     < 0.405    to the left,  improve=96.09720, (0 missing)\n",
      "      density              < 0.99522  to the left,  improve=94.34358, (0 missing)\n",
      "      fixed.acidity        < 7.05     to the left,  improve=89.66162, (0 missing)\n",
      "      total.sulfur.dioxide < 153.5    to the right, improve=87.91431, (0 missing)\n",
      "      sulphates            < 0.515    to the left,  improve=82.21046, (0 missing)\n",
      "  Surrogate splits:\n",
      "      density             < 0.99545  to the left,  agree=0.768, adj=0.460, (0 split)\n",
      "      fixed.acidity       < 7.05     to the left,  agree=0.741, adj=0.399, (0 split)\n",
      "      sulphates           < 0.515    to the left,  agree=0.733, adj=0.380, (0 split)\n",
      "      free.sulfur.dioxide < 33.5     to the right, agree=0.707, adj=0.319, (0 split)\n",
      "      pH                  < 3.125    to the left,  agree=0.677, adj=0.249, (0 split)\n",
      "\n",
      "Node number 6: 140 observations\n",
      "  predicted class=0  expected loss=0.1142857  P(node) =0.02154841\n",
      "    class counts:   124    16\n",
      "   probabilities: 0.886 0.114 \n",
      "\n",
      "Node number 7: 1264 observations\n",
      "  predicted class=1  expected loss=0.01424051  P(node) =0.1945513\n",
      "    class counts:    18  1246\n",
      "   probabilities: 0.014 0.986 \n",
      "\n",
      "Node number 10: 213 observations,    complexity param=0.01626016\n",
      "  predicted class=0  expected loss=0.2253521  P(node) =0.03278436\n",
      "    class counts:   165    48\n",
      "   probabilities: 0.775 0.225 \n",
      "  left son=20 (171 obs) right son=21 (42 obs)\n",
      "  Primary splits:\n",
      "      total.sulfur.dioxide < 90.5     to the right, improve=35.70621, (0 missing)\n",
      "      fixed.acidity        < 7.8      to the left,  improve=28.95312, (0 missing)\n",
      "      sulphates            < 0.575    to the left,  improve=25.86235, (0 missing)\n",
      "      pH                   < 3.255    to the left,  improve=20.12530, (0 missing)\n",
      "      density              < 0.99583  to the left,  improve=19.95638, (0 missing)\n",
      "  Surrogate splits:\n",
      "      fixed.acidity < 7.95     to the left,  agree=0.859, adj=0.286, (0 split)\n",
      "      sulphates     < 0.635    to the left,  agree=0.826, adj=0.119, (0 split)\n",
      "      density       < 0.99033  to the right, agree=0.822, adj=0.095, (0 split)\n",
      "      alcohol       < 11.15    to the left,  agree=0.817, adj=0.071, (0 split)\n",
      "      pH            < 3.365    to the left,  agree=0.808, adj=0.024, (0 split)\n",
      "\n",
      "Node number 11: 282 observations,    complexity param=0.01751094\n",
      "  predicted class=1  expected loss=0.1453901  P(node) =0.04340465\n",
      "    class counts:    41   241\n",
      "   probabilities: 0.145 0.855 \n",
      "  left son=22 (28 obs) right son=23 (254 obs)\n",
      "  Primary splits:\n",
      "      total.sulfur.dioxide < 157      to the right, improve=45.40872, (0 missing)\n",
      "      residual.sugar       < 8.2      to the right, improve=33.48375, (0 missing)\n",
      "      pH                   < 3.125    to the left,  improve=20.89491, (0 missing)\n",
      "      density              < 0.99498  to the left,  improve=14.92556, (0 missing)\n",
      "      fixed.acidity        < 6.85     to the left,  improve=10.87570, (0 missing)\n",
      "  Surrogate splits:\n",
      "      residual.sugar < 8.2      to the right, agree=0.940, adj=0.393, (0 split)\n",
      "      pH             < 3.005    to the left,  agree=0.911, adj=0.107, (0 split)\n",
      "      fixed.acidity  < 6.55     to the left,  agree=0.904, adj=0.036, (0 split)\n",
      "\n",
      "Node number 20: 171 observations\n",
      "  predicted class=0  expected loss=0.08187135  P(node) =0.02631984\n",
      "    class counts:   157    14\n",
      "   probabilities: 0.918 0.082 \n",
      "\n",
      "Node number 21: 42 observations\n",
      "  predicted class=1  expected loss=0.1904762  P(node) =0.006464522\n",
      "    class counts:     8    34\n",
      "   probabilities: 0.190 0.810 \n",
      "\n",
      "Node number 22: 28 observations\n",
      "  predicted class=0  expected loss=0  P(node) =0.004309681\n",
      "    class counts:    28     0\n",
      "   probabilities: 1.000 0.000 \n",
      "\n",
      "Node number 23: 254 observations\n",
      "  predicted class=1  expected loss=0.0511811  P(node) =0.03909497\n",
      "    class counts:    13   241\n",
      "   probabilities: 0.051 0.949 \n",
      "\n"
     ]
    }
   ],
   "source": [
    "summary(fit)"
   ]
  },
  {
   "cell_type": "markdown",
   "metadata": {},
   "source": [
    "Okay, the sumary says Total Sulfur Dioxide is the most important, follwed by Chloriede. The plot(cp) sugests we can get decent peformance improvment for up to 4 variables, but after that the law of diminishing returns kicks in.\n",
    "\n",
    "Let's try a tree with total.sulfur.dioxide, chlorides, free.sulfur.dioxide, volatile.acidity"
   ]
  },
  {
   "cell_type": "code",
   "execution_count": 14,
   "metadata": {},
   "outputs": [
    {
     "name": "stdout",
     "output_type": "stream",
     "text": [
      "[1] \"-------------------------------------------------------------------\"\n",
      "[1] \"Class\"                \"total.sulfur.dioxide\" \"chlorides\"           \n",
      "[4] \"free.sulfur.dioxide\"  \"volatile.acidity\"    \n",
      "[1] \"Accuracy=97.29%\"\n",
      "[1] \"------------------------------------\"\n",
      "[1] \"\"\n"
     ]
    }
   ],
   "source": [
    "test_tree_accuracy(select(data, one_of(c('Class','total.sulfur.dioxide', 'chlorides', \n",
    "                                         'free.sulfur.dioxide', 'volatile.acidity'))))\n"
   ]
  },
  {
   "cell_type": "markdown",
   "metadata": {},
   "source": [
    "Update the leaderboard\n",
    "\n",
    "|Features| Configuration  | Tree Accuracy | NBC Acuracy |\n",
    "|--------|----------------|---------------|-------------|\n",
    "| 12     |All features    | 97.72%        | 97.91%      |\n",
    "| 1      |sulfur.dioxide  | 93.05%        | 93.11%      |\n",
    "| 1      |chloride        | 91.94%        | 79.57%      |\n",
    "| 4      |total.sulfur.dioxide, chlorides, <br> free.sulfure.dioxide, volatile.acidity | 97.29% | n/a |\n"
   ]
  },
  {
   "cell_type": "markdown",
   "metadata": {},
   "source": [
    "# Try the ID3 Approach"
   ]
  },
  {
   "cell_type": "raw",
   "metadata": {},
   "source": [
    "install.packages(\"data.tree\", repos=c(\"http://rstudio.org/_packages\", \"http://cran.rstudio.com\"))"
   ]
  },
  {
   "cell_type": "code",
   "execution_count": 15,
   "metadata": {},
   "outputs": [
    {
     "name": "stderr",
     "output_type": "stream",
     "text": [
      "Warning message:\n",
      "“replacing previous import by ‘tibble::as_tibble’ when loading ‘DiagrammeR’”Warning message:\n",
      "“replacing previous import by ‘stringr::%>%’ when loading ‘data.tree’”"
     ]
    }
   ],
   "source": [
    "library(data.tree)"
   ]
  },
  {
   "cell_type": "code",
   "execution_count": 16,
   "metadata": {},
   "outputs": [
    {
     "data": {
      "text/html": [
       "<table>\n",
       "<thead><tr><th scope=col>fixed.acidity</th><th scope=col>volatile.acidity</th><th scope=col>citric.acid</th><th scope=col>residual.sugar</th><th scope=col>chlorides</th><th scope=col>free.sulfur.dioxide</th><th scope=col>total.sulfur.dioxide</th><th scope=col>density</th><th scope=col>pH</th><th scope=col>sulphates</th><th scope=col>alcohol</th><th scope=col>quality</th><th scope=col>Class</th><th scope=col>Color</th></tr></thead>\n",
       "<tbody>\n",
       "\t<tr><td> 7.4  </td><td>0.70  </td><td>0.00  </td><td>1.9   </td><td>0.076 </td><td>11    </td><td>34    </td><td>0.9978</td><td>3.51  </td><td>0.56  </td><td>9.4   </td><td>5     </td><td>1     </td><td>Red   </td></tr>\n",
       "\t<tr><td> 7.8  </td><td>0.88  </td><td>0.00  </td><td>2.6   </td><td>0.098 </td><td>25    </td><td>67    </td><td>0.9968</td><td>3.20  </td><td>0.68  </td><td>9.8   </td><td>5     </td><td>1     </td><td>Red   </td></tr>\n",
       "\t<tr><td> 7.8  </td><td>0.76  </td><td>0.04  </td><td>2.3   </td><td>0.092 </td><td>15    </td><td>54    </td><td>0.9970</td><td>3.26  </td><td>0.65  </td><td>9.8   </td><td>5     </td><td>1     </td><td>Red   </td></tr>\n",
       "\t<tr><td>11.2  </td><td>0.28  </td><td>0.56  </td><td>1.9   </td><td>0.075 </td><td>17    </td><td>60    </td><td>0.9980</td><td>3.16  </td><td>0.58  </td><td>9.8   </td><td>6     </td><td>1     </td><td>Red   </td></tr>\n",
       "\t<tr><td> 7.4  </td><td>0.70  </td><td>0.00  </td><td>1.9   </td><td>0.076 </td><td>11    </td><td>34    </td><td>0.9978</td><td>3.51  </td><td>0.56  </td><td>9.4   </td><td>5     </td><td>1     </td><td>Red   </td></tr>\n",
       "\t<tr><td> 7.4  </td><td>0.66  </td><td>0.00  </td><td>1.8   </td><td>0.075 </td><td>13    </td><td>40    </td><td>0.9978</td><td>3.51  </td><td>0.56  </td><td>9.4   </td><td>5     </td><td>1     </td><td>Red   </td></tr>\n",
       "</tbody>\n",
       "</table>\n"
      ],
      "text/latex": [
       "\\begin{tabular}{r|llllllllllllll}\n",
       " fixed.acidity & volatile.acidity & citric.acid & residual.sugar & chlorides & free.sulfur.dioxide & total.sulfur.dioxide & density & pH & sulphates & alcohol & quality & Class & Color\\\\\n",
       "\\hline\n",
       "\t  7.4   & 0.70   & 0.00   & 1.9    & 0.076  & 11     & 34     & 0.9978 & 3.51   & 0.56   & 9.4    & 5      & 1      & Red   \\\\\n",
       "\t  7.8   & 0.88   & 0.00   & 2.6    & 0.098  & 25     & 67     & 0.9968 & 3.20   & 0.68   & 9.8    & 5      & 1      & Red   \\\\\n",
       "\t  7.8   & 0.76   & 0.04   & 2.3    & 0.092  & 15     & 54     & 0.9970 & 3.26   & 0.65   & 9.8    & 5      & 1      & Red   \\\\\n",
       "\t 11.2   & 0.28   & 0.56   & 1.9    & 0.075  & 17     & 60     & 0.9980 & 3.16   & 0.58   & 9.8    & 6      & 1      & Red   \\\\\n",
       "\t  7.4   & 0.70   & 0.00   & 1.9    & 0.076  & 11     & 34     & 0.9978 & 3.51   & 0.56   & 9.4    & 5      & 1      & Red   \\\\\n",
       "\t  7.4   & 0.66   & 0.00   & 1.8    & 0.075  & 13     & 40     & 0.9978 & 3.51   & 0.56   & 9.4    & 5      & 1      & Red   \\\\\n",
       "\\end{tabular}\n"
      ],
      "text/markdown": [
       "\n",
       "fixed.acidity | volatile.acidity | citric.acid | residual.sugar | chlorides | free.sulfur.dioxide | total.sulfur.dioxide | density | pH | sulphates | alcohol | quality | Class | Color | \n",
       "|---|---|---|---|---|---|\n",
       "|  7.4   | 0.70   | 0.00   | 1.9    | 0.076  | 11     | 34     | 0.9978 | 3.51   | 0.56   | 9.4    | 5      | 1      | Red    | \n",
       "|  7.8   | 0.88   | 0.00   | 2.6    | 0.098  | 25     | 67     | 0.9968 | 3.20   | 0.68   | 9.8    | 5      | 1      | Red    | \n",
       "|  7.8   | 0.76   | 0.04   | 2.3    | 0.092  | 15     | 54     | 0.9970 | 3.26   | 0.65   | 9.8    | 5      | 1      | Red    | \n",
       "| 11.2   | 0.28   | 0.56   | 1.9    | 0.075  | 17     | 60     | 0.9980 | 3.16   | 0.58   | 9.8    | 6      | 1      | Red    | \n",
       "|  7.4   | 0.70   | 0.00   | 1.9    | 0.076  | 11     | 34     | 0.9978 | 3.51   | 0.56   | 9.4    | 5      | 1      | Red    | \n",
       "|  7.4   | 0.66   | 0.00   | 1.8    | 0.075  | 13     | 40     | 0.9978 | 3.51   | 0.56   | 9.4    | 5      | 1      | Red    | \n",
       "\n",
       "\n"
      ],
      "text/plain": [
       "  fixed.acidity volatile.acidity citric.acid residual.sugar chlorides\n",
       "1  7.4          0.70             0.00        1.9            0.076    \n",
       "2  7.8          0.88             0.00        2.6            0.098    \n",
       "3  7.8          0.76             0.04        2.3            0.092    \n",
       "4 11.2          0.28             0.56        1.9            0.075    \n",
       "5  7.4          0.70             0.00        1.9            0.076    \n",
       "6  7.4          0.66             0.00        1.8            0.075    \n",
       "  free.sulfur.dioxide total.sulfur.dioxide density pH   sulphates alcohol\n",
       "1 11                  34                   0.9978  3.51 0.56      9.4    \n",
       "2 25                  67                   0.9968  3.20 0.68      9.8    \n",
       "3 15                  54                   0.9970  3.26 0.65      9.8    \n",
       "4 17                  60                   0.9980  3.16 0.58      9.8    \n",
       "5 11                  34                   0.9978  3.51 0.56      9.4    \n",
       "6 13                  40                   0.9978  3.51 0.56      9.4    \n",
       "  quality Class Color\n",
       "1 5       1     Red  \n",
       "2 5       1     Red  \n",
       "3 5       1     Red  \n",
       "4 6       1     Red  \n",
       "5 5       1     Red  \n",
       "6 5       1     Red  "
      ]
     },
     "metadata": {},
     "output_type": "display_data"
    }
   ],
   "source": [
    "datat_id3 = data\n",
    "datat_id3$Color <- ifelse(datat_id3$Class ==1,'Red','White')\n",
    "datat_id3$Color <- factor(datat_id3$Color)\n",
    "head(datat_id3)"
   ]
  },
  {
   "cell_type": "code",
   "execution_count": 17,
   "metadata": {},
   "outputs": [
    {
     "data": {
      "text/html": [
       "<table>\n",
       "<thead><tr><th scope=col>fixed.acidity</th><th scope=col>volatile.acidity</th><th scope=col>citric.acid</th><th scope=col>residual.sugar</th><th scope=col>chlorides</th><th scope=col>free.sulfur.dioxide</th><th scope=col>total.sulfur.dioxide</th><th scope=col>density</th><th scope=col>pH</th><th scope=col>sulphates</th><th scope=col>alcohol</th><th scope=col>quality</th><th scope=col>Class</th><th scope=col>Color</th></tr></thead>\n",
       "<tbody>\n",
       "\t<tr><td> 7.4  </td><td>0.70  </td><td>0.00  </td><td>1.9   </td><td>0.076 </td><td>11    </td><td>34    </td><td>0.9978</td><td>3.51  </td><td>0.56  </td><td>9.4   </td><td>5     </td><td>1     </td><td>Red   </td></tr>\n",
       "\t<tr><td> 7.8  </td><td>0.88  </td><td>0.00  </td><td>2.6   </td><td>0.098 </td><td>25    </td><td>67    </td><td>0.9968</td><td>3.20  </td><td>0.68  </td><td>9.8   </td><td>5     </td><td>1     </td><td>Red   </td></tr>\n",
       "\t<tr><td> 7.8  </td><td>0.76  </td><td>0.04  </td><td>2.3   </td><td>0.092 </td><td>15    </td><td>54    </td><td>0.9970</td><td>3.26  </td><td>0.65  </td><td>9.8   </td><td>5     </td><td>1     </td><td>Red   </td></tr>\n",
       "\t<tr><td>11.2  </td><td>0.28  </td><td>0.56  </td><td>1.9   </td><td>0.075 </td><td>17    </td><td>60    </td><td>0.9980</td><td>3.16  </td><td>0.58  </td><td>9.8   </td><td>6     </td><td>1     </td><td>Red   </td></tr>\n",
       "\t<tr><td> 7.4  </td><td>0.70  </td><td>0.00  </td><td>1.9   </td><td>0.076 </td><td>11    </td><td>34    </td><td>0.9978</td><td>3.51  </td><td>0.56  </td><td>9.4   </td><td>5     </td><td>1     </td><td>Red   </td></tr>\n",
       "\t<tr><td> 7.4  </td><td>0.66  </td><td>0.00  </td><td>1.8   </td><td>0.075 </td><td>13    </td><td>40    </td><td>0.9978</td><td>3.51  </td><td>0.56  </td><td>9.4   </td><td>5     </td><td>1     </td><td>Red   </td></tr>\n",
       "</tbody>\n",
       "</table>\n"
      ],
      "text/latex": [
       "\\begin{tabular}{r|llllllllllllll}\n",
       " fixed.acidity & volatile.acidity & citric.acid & residual.sugar & chlorides & free.sulfur.dioxide & total.sulfur.dioxide & density & pH & sulphates & alcohol & quality & Class & Color\\\\\n",
       "\\hline\n",
       "\t  7.4   & 0.70   & 0.00   & 1.9    & 0.076  & 11     & 34     & 0.9978 & 3.51   & 0.56   & 9.4    & 5      & 1      & Red   \\\\\n",
       "\t  7.8   & 0.88   & 0.00   & 2.6    & 0.098  & 25     & 67     & 0.9968 & 3.20   & 0.68   & 9.8    & 5      & 1      & Red   \\\\\n",
       "\t  7.8   & 0.76   & 0.04   & 2.3    & 0.092  & 15     & 54     & 0.9970 & 3.26   & 0.65   & 9.8    & 5      & 1      & Red   \\\\\n",
       "\t 11.2   & 0.28   & 0.56   & 1.9    & 0.075  & 17     & 60     & 0.9980 & 3.16   & 0.58   & 9.8    & 6      & 1      & Red   \\\\\n",
       "\t  7.4   & 0.70   & 0.00   & 1.9    & 0.076  & 11     & 34     & 0.9978 & 3.51   & 0.56   & 9.4    & 5      & 1      & Red   \\\\\n",
       "\t  7.4   & 0.66   & 0.00   & 1.8    & 0.075  & 13     & 40     & 0.9978 & 3.51   & 0.56   & 9.4    & 5      & 1      & Red   \\\\\n",
       "\\end{tabular}\n"
      ],
      "text/markdown": [
       "\n",
       "fixed.acidity | volatile.acidity | citric.acid | residual.sugar | chlorides | free.sulfur.dioxide | total.sulfur.dioxide | density | pH | sulphates | alcohol | quality | Class | Color | \n",
       "|---|---|---|---|---|---|\n",
       "|  7.4   | 0.70   | 0.00   | 1.9    | 0.076  | 11     | 34     | 0.9978 | 3.51   | 0.56   | 9.4    | 5      | 1      | Red    | \n",
       "|  7.8   | 0.88   | 0.00   | 2.6    | 0.098  | 25     | 67     | 0.9968 | 3.20   | 0.68   | 9.8    | 5      | 1      | Red    | \n",
       "|  7.8   | 0.76   | 0.04   | 2.3    | 0.092  | 15     | 54     | 0.9970 | 3.26   | 0.65   | 9.8    | 5      | 1      | Red    | \n",
       "| 11.2   | 0.28   | 0.56   | 1.9    | 0.075  | 17     | 60     | 0.9980 | 3.16   | 0.58   | 9.8    | 6      | 1      | Red    | \n",
       "|  7.4   | 0.70   | 0.00   | 1.9    | 0.076  | 11     | 34     | 0.9978 | 3.51   | 0.56   | 9.4    | 5      | 1      | Red    | \n",
       "|  7.4   | 0.66   | 0.00   | 1.8    | 0.075  | 13     | 40     | 0.9978 | 3.51   | 0.56   | 9.4    | 5      | 1      | Red    | \n",
       "\n",
       "\n"
      ],
      "text/plain": [
       "  fixed.acidity volatile.acidity citric.acid residual.sugar chlorides\n",
       "1  7.4          0.70             0.00        1.9            0.076    \n",
       "2  7.8          0.88             0.00        2.6            0.098    \n",
       "3  7.8          0.76             0.04        2.3            0.092    \n",
       "4 11.2          0.28             0.56        1.9            0.075    \n",
       "5  7.4          0.70             0.00        1.9            0.076    \n",
       "6  7.4          0.66             0.00        1.8            0.075    \n",
       "  free.sulfur.dioxide total.sulfur.dioxide density pH   sulphates alcohol\n",
       "1 11                  34                   0.9978  3.51 0.56      9.4    \n",
       "2 25                  67                   0.9968  3.20 0.68      9.8    \n",
       "3 15                  54                   0.9970  3.26 0.65      9.8    \n",
       "4 17                  60                   0.9980  3.16 0.58      9.8    \n",
       "5 11                  34                   0.9978  3.51 0.56      9.4    \n",
       "6 13                  40                   0.9978  3.51 0.56      9.4    \n",
       "  quality Class Color\n",
       "1 5       1     Red  \n",
       "2 5       1     Red  \n",
       "3 5       1     Red  \n",
       "4 6       1     Red  \n",
       "5 5       1     Red  \n",
       "6 5       1     Red  "
      ]
     },
     "metadata": {},
     "output_type": "display_data"
    }
   ],
   "source": [
    "data_id3 = select(datat_id3, -Class)\n",
    "head(data_id3)"
   ]
  },
  {
   "cell_type": "code",
   "execution_count": null,
   "metadata": {
    "collapsed": true
   },
   "outputs": [],
   "source": []
  },
  {
   "cell_type": "code",
   "execution_count": null,
   "metadata": {
    "collapsed": true
   },
   "outputs": [],
   "source": []
  },
  {
   "cell_type": "code",
   "execution_count": null,
   "metadata": {
    "collapsed": true
   },
   "outputs": [],
   "source": [
    "# Compute purity\n",
    "IsPure <- function(data) {\n",
    "  length(unique(data[,ncol(data)])) == 1\n",
    "}"
   ]
  },
  {
   "cell_type": "code",
   "execution_count": null,
   "metadata": {
    "collapsed": true
   },
   "outputs": [],
   "source": [
    "# Compute Entropy - purity of a dataset\n",
    "Entropy <- function( vls ) {\n",
    "  res <- vls/sum(vls) * log2(vls/sum(vls))\n",
    "  res[vls == 0] <- 0\n",
    "  -sum(res)\n",
    "}"
   ]
  },
  {
   "cell_type": "code",
   "execution_count": null,
   "metadata": {
    "collapsed": true
   },
   "outputs": [],
   "source": [
    "# Information Gain\n",
    "#  Measures the difference between the entropy before the split, and the weighted sum of the entropies after the split.\n",
    "InformationGain <- function( tble ) {\n",
    "  entropyBefore <- Entropy(colSums(tble))\n",
    "  s <- rowSums(tble)\n",
    "  entropyAfter <- sum (s / sum(s) * apply(tble, MARGIN = 1, FUN = Entropy ))\n",
    "  informationGain <- entropyBefore - entropyAfter\n",
    "  return (informationGain)\n",
    "}"
   ]
  },
  {
   "cell_type": "code",
   "execution_count": null,
   "metadata": {
    "collapsed": true
   },
   "outputs": [],
   "source": [
    "#Training\n",
    "TrainID3 <- function(node, data) {\n",
    "    \n",
    "  node$obsCount <- nrow(data)\n",
    "  \n",
    "  #if the data-set is pure (e.g. all toxic), then\n",
    "  if (IsPure(data)) {\n",
    "    #construct a leaf having the name of the pure feature (e.g. 'toxic')\n",
    "    child <- node$AddChild(unique(data[,ncol(data)]))\n",
    "    node$feature <- tail(names(data), 1)\n",
    "    child$obsCount <- nrow(data)\n",
    "    child$feature <- ''\n",
    "  } else {\n",
    "    #calculate the information gain\n",
    "    ig <- sapply(colnames(data)[-ncol(data)], \n",
    "            function(x) InformationGain(\n",
    "              table(data[,x], data[,ncol(data)])\n",
    "              )\n",
    "            )\n",
    "    #chose the feature with the highest information gain (e.g. 'color')\n",
    "    #if more than one feature have the same information gain, then take\n",
    "    #the first one\n",
    "    feature <- names(which.max(ig))\n",
    "    node$feature <- feature\n",
    "    \n",
    "    #take the subset of the data-set having that feature value\n",
    "    \n",
    "    childObs <- split(data[ ,names(data) != feature, drop = FALSE], \n",
    "                      data[ ,feature], \n",
    "                      drop = TRUE)\n",
    "  \n",
    "    for(i in 1:length(childObs)) {\n",
    "      #construct a child having the name of that feature value (e.g. 'red')\n",
    "      child <- node$AddChild(names(childObs)[i])\n",
    "      \n",
    "      #call the algorithm recursively on the child and the subset      \n",
    "      TrainID3(child, childObs[[i]])\n",
    "    }\n",
    "    \n",
    "  }\n",
    "}"
   ]
  },
  {
   "cell_type": "code",
   "execution_count": null,
   "metadata": {},
   "outputs": [],
   "source": [
    "tree <- Node$new(\"data\")\n",
    "tree"
   ]
  },
  {
   "cell_type": "code",
   "execution_count": null,
   "metadata": {},
   "outputs": [],
   "source": [
    "TrainID3(tree, data)\n",
    "tree\n",
    "# print(tree, \"feature\", \"obsCount\")"
   ]
  },
  {
   "cell_type": "code",
   "execution_count": null,
   "metadata": {
    "collapsed": true
   },
   "outputs": [],
   "source": []
  },
  {
   "cell_type": "markdown",
   "metadata": {},
   "source": [
    "# ==============< JUNK >======================================"
   ]
  },
  {
   "cell_type": "markdown",
   "metadata": {},
   "source": [
    "Reviewing the plots, ranked by least differentiated to most differentiated for ALL params\n",
    "- total.sulfur.dioxide\n",
    "- volatile.acidity\n",
    "- fixed.acidity\n",
    "- chlorides\n",
    "- residual.sugar\n",
    "- free.sulfur.dioxide\n",
    "- density\n",
    "- citric.acid\n",
    "- pH\n",
    "    \n",
    "Let's start pruning one feature off at a time and see what happens."
   ]
  },
  {
   "cell_type": "code",
   "execution_count": null,
   "metadata": {
    "collapsed": true
   },
   "outputs": [],
   "source": [
    "test_nbc_accuracy(select(data, -one_of(c('pH'))))\n",
    "test_nbc_accuracy(select(data, -one_of(c('pH','citric.acid'))))\n",
    "test_nbc_accuracy(select(data, -one_of(c('pH','citric.acid','density'))))\n",
    "test_nbc_accuracy(select(data, -one_of(c('pH','citric.acid','density','free.sulfur.dioxide'))))\n",
    "test_nbc_accuracy(select(data, -one_of(c('pH','citric.acid','density','free.sulfur.dioxide',\n",
    "                                         'residual.sugar'))))\n",
    "test_nbc_accuracy(select(data, -one_of(c('pH','citric.acid','density','free.sulfur.dioxide',\n",
    "                                        'residual.sugar','chlorides'))))\n",
    "test_nbc_accuracy(select(data, -one_of(c('pH','citric.acid','density','free.sulfur.dioxide',\n",
    "                                        'residual.sugar','chlorides','fixed.acidity'))))\n",
    "test_nbc_accuracy(select(data, -one_of(c('pH','citric.acid','density','free.sulfur.dioxide',\n",
    "                                        'residual.sugar','chlorides','fixed.acidity',\n",
    "                                         'volatile.acidity'))))\n",
    "test_nbc_accuracy(select(data, -one_of(c('pH','citric.acid','density','free.sulfur.dioxide',\n",
    "                                         'residual.sugar','chlorides','fixed.acidity',\n",
    "                                          'volatile.acidity','total.sulfur.dioxide'))))"
   ]
  },
  {
   "cell_type": "markdown",
   "metadata": {},
   "source": [
    "We got a bump up in accuracy after removing pH and Citric Acid, then it started to degrade. Update the leaderboard.\n",
    "\n",
    "| Configuration                                      | Acuracy |\n",
    "|----------------------------------------------------|---------|\n",
    "|All features                                        | 97.91%  |\n",
    "|sulfur.dioxide(1)                                   | 93.11%  |\n",
    "|All but pH ad citric.acid                           | 97.421% |\n",
    "|total.sulfur.dioxide, sulphates, alcohol, quality(4)| 95.02%  |\n",
    "\n",
    "Keep density, prune th rest."
   ]
  },
  {
   "cell_type": "code",
   "execution_count": null,
   "metadata": {
    "collapsed": true
   },
   "outputs": [],
   "source": [
    "test_nbc_accuracy(select(data, -one_of(c('pH','citric.acid'))))\n",
    "test_nbc_accuracy(select(data, -one_of(c('pH','citric.acid','free.sulfur.dioxide'))))\n",
    "test_nbc_accuracy(select(data, -one_of(c('pH','citric.acid','free.sulfur.dioxide',\n",
    "                                            'residual.sugar'))))\n",
    "test_nbc_accuracy(select(data, -one_of(c('pH','citric.acid','free.sulfur.dioxide',\n",
    "                                            'residual.sugar','chlorides'))))\n",
    "test_nbc_accuracy(select(data, -one_of(c('pH','citric.acid','free.sulfur.dioxide',\n",
    "                                            'residual.sugar','chlorides','fixed.acidity'))))\n",
    "test_nbc_accuracy(select(data, -one_of(c('pH','citric.acid','free.sulfur.dioxide',\n",
    "                                            'residual.sugar','chlorides','fixed.acidity',\n",
    "                                             'volatile.acidity'))))\n",
    "test_nbc_accuracy(select(data, -one_of(c('pH','citric.acid','free.sulfur.dioxide',\n",
    "                                            'residual.sugar','chlorides','fixed.acidity',\n",
    "                                             'volatile.acidity','total.sulfur.dioxide'))))\n"
   ]
  },
  {
   "cell_type": "markdown",
   "metadata": {},
   "source": [
    "We were able to bump it up to 97.91% after pruning some  features. re-start the pruning.  Curent leaderboard.\n",
    "\n",
    "\n",
    "| Configuration                                      | Acuracy |\n",
    "|----------------------------------------------------|---------|\n",
    "|All features                                        | 97.91%  |\n",
    "|sulfur.dioxide(1)                                   | 93.11%  |\n",
    "|All but pH ad citric.acid                           | 97.41%  |\n",
    "|total.sulfur.dioxide, sulphates, alcohol, quality(4)| 95.02%  |\n",
    "| 7 features                                         | 97.91%  |\n"
   ]
  },
  {
   "cell_type": "code",
   "execution_count": null,
   "metadata": {
    "collapsed": true
   },
   "outputs": [],
   "source": [
    "pruned_data <- select(data, c(\"fixed.acidity\", \"volatile.acidity\", \"total.sulfur.dioxide\",\n",
    "                              \"density\", \"sulphates\", \"alcohol\",\n",
    "                              \"quality\", \"Class\" ))"
   ]
  },
  {
   "cell_type": "markdown",
   "metadata": {},
   "source": [
    "Remembering our ranking\n",
    " - total.sulfur.dioxide\n",
    " - volatile.acidity\n",
    " - fixed.acidity\n",
    " - chlorides\n",
    " - residual.sugar\n",
    " - free.sulfur.dioxide\n",
    " - density\n",
    " - citric.acid\n",
    " - pH\n"
   ]
  },
  {
   "cell_type": "code",
   "execution_count": null,
   "metadata": {
    "collapsed": true
   },
   "outputs": [],
   "source": [
    "test_nbc_accuracy(select(pruned_data, -one_of(c('quality'))))\n",
    "test_nbc_accuracy(select(pruned_data, -one_of(c('quality','density'))))\n",
    "test_nbc_accuracy(select(pruned_data, -one_of(c('quality','density','fixed.acidity','volatile.acidity'))))"
   ]
  },
  {
   "cell_type": "markdown",
   "metadata": {},
   "source": [
    "Got it down to three fatures, while keeping 94.89% accuracy. Updating the leaderboard.\n",
    "    \n",
    "| Configuration                                      | Acuracy |\n",
    "|----------------------------------------------------|---------|\n",
    "|All features                                        | 97.91%  |\n",
    "|sulfur.dioxide(1)                                   | 93.11%  |\n",
    "|All but pH ad citric.acid                           | 97.41%  |\n",
    "|total.sulfur.dioxide, sulphates, alcohol, quality(4)| 95.02%  |\n",
    "| 7 features                                         | 97.91%  | \n",
    "|total.sulfur.dioxide, sulphates, alcohol            | 94.89%  |\n",
    "\n",
    "Let's try to prune it down to two."
   ]
  },
  {
   "cell_type": "code",
   "execution_count": null,
   "metadata": {
    "collapsed": true
   },
   "outputs": [],
   "source": [
    "pruned_data2 <- select(data, c(\"total.sulfur.dioxide\", \"sulphates\", \"alcohol\", \"Class\" ))\n",
    "\n",
    "test_nbc_accuracy(select(pruned_data2, -one_of(c('total.sulfur.dioxide'))))\n",
    "test_nbc_accuracy(select(pruned_data2, -one_of(c('sulphates'))))\n",
    "test_nbc_accuracy(select(pruned_data2, -one_of(c('alcohol'))))"
   ]
  },
  {
   "cell_type": "markdown",
   "metadata": {},
   "source": [
    "One last update of the leaderboard\n",
    "\n",
    "|Features| Configuration                                      | Acuracy |\n",
    "|--------|----------------------------------------------------|---------|\n",
    "| 12     |All features                                        | 97.91%  |\n",
    "| 1      |sulfur.dioxide                                      | 93.11%  |\n",
    "| 10     |All but pH and citric.acid                          | 97.41%  |\n",
    "| 4      |total.sulfur.dioxide, sulphates, alcohol, quality   | 95.02%  |\n",
    "| 7      |features                                            | 97.91%  | \n",
    "| 3      |total.sulfur.dioxide, sulphates, alcohol            | 94.89%  |\n",
    "| 2      |total.sulfur.dioxide, sulphates                     | 94.71%  |\n"
   ]
  },
  {
   "cell_type": "markdown",
   "metadata": {},
   "source": [
    "# CONCLUSIONS\n",
    "## Using all features gets you 97.91% accuracy\n",
    "## You can drop to one feature (Sulfur Dioxide) and still get 93.11%\n",
    "## With two features (choose carefully) you can get 94.71%"
   ]
  }
 ],
 "metadata": {
  "kernelspec": {
   "display_name": "R",
   "language": "R",
   "name": "ir"
  },
  "language_info": {
   "codemirror_mode": "r",
   "file_extension": ".r",
   "mimetype": "text/x-r-source",
   "name": "R",
   "pygments_lexer": "r",
   "version": "3.2.3"
  }
 },
 "nbformat": 4,
 "nbformat_minor": 2
}

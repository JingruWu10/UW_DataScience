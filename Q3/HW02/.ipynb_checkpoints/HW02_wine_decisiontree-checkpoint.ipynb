{
 "cells": [
  {
   "cell_type": "markdown",
   "metadata": {
    "collapsed": true
   },
   "source": [
    "# Automated Sensing of Red vs. White Wine\n",
    "_... with the cheapest sensor possible_"
   ]
  },
  {
   "cell_type": "markdown",
   "metadata": {},
   "source": [
    "#### Data Science 420 BB\n",
    "#### University of Washington Professional & Continuing Education\n",
    "\n",
    "#### Homework 2: Low-cost Sensor, Desigion Trees\n",
    "#### Leo Salemann, 4/25/18"
   ]
  },
  {
   "cell_type": "markdown",
   "metadata": {},
   "source": [
    "# OBJECTIVES"
   ]
  },
  {
   "cell_type": "markdown",
   "metadata": {},
   "source": [
    "1. Design a simple, low-cost sensor that can distinguish between red wine and white wine for at least 95%\n",
    "of the samples. In other words, achive 95% accuracy with the minimum number of features.\n",
    "1. Assess Accuracy when using all sensors\n",
    "1. Find the ninimum number of sensors that still maintains 90% accuracy or better."
   ]
  },
  {
   "cell_type": "markdown",
   "metadata": {},
   "source": [
    "# LOAD DATA"
   ]
  },
  {
   "cell_type": "code",
   "execution_count": 1,
   "metadata": {
    "scrolled": true
   },
   "outputs": [
    {
     "data": {
      "text/html": [
       "<table>\n",
       "<thead><tr><th scope=col>fixed.acidity</th><th scope=col>volatile.acidity</th><th scope=col>citric.acid</th><th scope=col>residual.sugar</th><th scope=col>chlorides</th><th scope=col>free.sulfur.dioxide</th><th scope=col>total.sulfur.dioxide</th><th scope=col>density</th><th scope=col>pH</th><th scope=col>sulphates</th><th scope=col>alcohol</th><th scope=col>quality</th><th scope=col>Class</th></tr></thead>\n",
       "<tbody>\n",
       "\t<tr><td> 7.4  </td><td>0.70  </td><td>0.00  </td><td>1.9   </td><td>0.076 </td><td>11    </td><td>34    </td><td>0.9978</td><td>3.51  </td><td>0.56  </td><td>9.4   </td><td>5     </td><td>1     </td></tr>\n",
       "\t<tr><td> 7.8  </td><td>0.88  </td><td>0.00  </td><td>2.6   </td><td>0.098 </td><td>25    </td><td>67    </td><td>0.9968</td><td>3.20  </td><td>0.68  </td><td>9.8   </td><td>5     </td><td>1     </td></tr>\n",
       "\t<tr><td> 7.8  </td><td>0.76  </td><td>0.04  </td><td>2.3   </td><td>0.092 </td><td>15    </td><td>54    </td><td>0.9970</td><td>3.26  </td><td>0.65  </td><td>9.8   </td><td>5     </td><td>1     </td></tr>\n",
       "\t<tr><td>11.2  </td><td>0.28  </td><td>0.56  </td><td>1.9   </td><td>0.075 </td><td>17    </td><td>60    </td><td>0.9980</td><td>3.16  </td><td>0.58  </td><td>9.8   </td><td>6     </td><td>1     </td></tr>\n",
       "\t<tr><td> 7.4  </td><td>0.70  </td><td>0.00  </td><td>1.9   </td><td>0.076 </td><td>11    </td><td>34    </td><td>0.9978</td><td>3.51  </td><td>0.56  </td><td>9.4   </td><td>5     </td><td>1     </td></tr>\n",
       "\t<tr><td> 7.4  </td><td>0.66  </td><td>0.00  </td><td>1.8   </td><td>0.075 </td><td>13    </td><td>40    </td><td>0.9978</td><td>3.51  </td><td>0.56  </td><td>9.4   </td><td>5     </td><td>1     </td></tr>\n",
       "</tbody>\n",
       "</table>\n"
      ],
      "text/latex": [
       "\\begin{tabular}{r|lllllllllllll}\n",
       " fixed.acidity & volatile.acidity & citric.acid & residual.sugar & chlorides & free.sulfur.dioxide & total.sulfur.dioxide & density & pH & sulphates & alcohol & quality & Class\\\\\n",
       "\\hline\n",
       "\t  7.4   & 0.70   & 0.00   & 1.9    & 0.076  & 11     & 34     & 0.9978 & 3.51   & 0.56   & 9.4    & 5      & 1     \\\\\n",
       "\t  7.8   & 0.88   & 0.00   & 2.6    & 0.098  & 25     & 67     & 0.9968 & 3.20   & 0.68   & 9.8    & 5      & 1     \\\\\n",
       "\t  7.8   & 0.76   & 0.04   & 2.3    & 0.092  & 15     & 54     & 0.9970 & 3.26   & 0.65   & 9.8    & 5      & 1     \\\\\n",
       "\t 11.2   & 0.28   & 0.56   & 1.9    & 0.075  & 17     & 60     & 0.9980 & 3.16   & 0.58   & 9.8    & 6      & 1     \\\\\n",
       "\t  7.4   & 0.70   & 0.00   & 1.9    & 0.076  & 11     & 34     & 0.9978 & 3.51   & 0.56   & 9.4    & 5      & 1     \\\\\n",
       "\t  7.4   & 0.66   & 0.00   & 1.8    & 0.075  & 13     & 40     & 0.9978 & 3.51   & 0.56   & 9.4    & 5      & 1     \\\\\n",
       "\\end{tabular}\n"
      ],
      "text/markdown": [
       "\n",
       "fixed.acidity | volatile.acidity | citric.acid | residual.sugar | chlorides | free.sulfur.dioxide | total.sulfur.dioxide | density | pH | sulphates | alcohol | quality | Class | \n",
       "|---|---|---|---|---|---|\n",
       "|  7.4   | 0.70   | 0.00   | 1.9    | 0.076  | 11     | 34     | 0.9978 | 3.51   | 0.56   | 9.4    | 5      | 1      | \n",
       "|  7.8   | 0.88   | 0.00   | 2.6    | 0.098  | 25     | 67     | 0.9968 | 3.20   | 0.68   | 9.8    | 5      | 1      | \n",
       "|  7.8   | 0.76   | 0.04   | 2.3    | 0.092  | 15     | 54     | 0.9970 | 3.26   | 0.65   | 9.8    | 5      | 1      | \n",
       "| 11.2   | 0.28   | 0.56   | 1.9    | 0.075  | 17     | 60     | 0.9980 | 3.16   | 0.58   | 9.8    | 6      | 1      | \n",
       "|  7.4   | 0.70   | 0.00   | 1.9    | 0.076  | 11     | 34     | 0.9978 | 3.51   | 0.56   | 9.4    | 5      | 1      | \n",
       "|  7.4   | 0.66   | 0.00   | 1.8    | 0.075  | 13     | 40     | 0.9978 | 3.51   | 0.56   | 9.4    | 5      | 1      | \n",
       "\n",
       "\n"
      ],
      "text/plain": [
       "  fixed.acidity volatile.acidity citric.acid residual.sugar chlorides\n",
       "1  7.4          0.70             0.00        1.9            0.076    \n",
       "2  7.8          0.88             0.00        2.6            0.098    \n",
       "3  7.8          0.76             0.04        2.3            0.092    \n",
       "4 11.2          0.28             0.56        1.9            0.075    \n",
       "5  7.4          0.70             0.00        1.9            0.076    \n",
       "6  7.4          0.66             0.00        1.8            0.075    \n",
       "  free.sulfur.dioxide total.sulfur.dioxide density pH   sulphates alcohol\n",
       "1 11                  34                   0.9978  3.51 0.56      9.4    \n",
       "2 25                  67                   0.9968  3.20 0.68      9.8    \n",
       "3 15                  54                   0.9970  3.26 0.65      9.8    \n",
       "4 17                  60                   0.9980  3.16 0.58      9.8    \n",
       "5 11                  34                   0.9978  3.51 0.56      9.4    \n",
       "6 13                  40                   0.9978  3.51 0.56      9.4    \n",
       "  quality Class\n",
       "1 5       1    \n",
       "2 5       1    \n",
       "3 5       1    \n",
       "4 6       1    \n",
       "5 5       1    \n",
       "6 5       1    "
      ]
     },
     "metadata": {},
     "output_type": "display_data"
    },
    {
     "data": {
      "text/html": [
       "<ol class=list-inline>\n",
       "\t<li>6497</li>\n",
       "\t<li>13</li>\n",
       "</ol>\n"
      ],
      "text/latex": [
       "\\begin{enumerate*}\n",
       "\\item 6497\n",
       "\\item 13\n",
       "\\end{enumerate*}\n"
      ],
      "text/markdown": [
       "1. 6497\n",
       "2. 13\n",
       "\n",
       "\n"
      ],
      "text/plain": [
       "[1] 6497   13"
      ]
     },
     "metadata": {},
     "output_type": "display_data"
    }
   ],
   "source": [
    "file <- \"./RedWhiteWine.csv\"\n",
    "data <- read.csv(file, header=TRUE, sep=\",\", stringsAsFactors = FALSE)\n",
    "\n",
    "# If the target column, say column class, is numerical, you need to convert it to factors in R for classification problem\n",
    "data$Class <- factor(data$Class)\n",
    "head(data)\n",
    "dim(data)\n"
   ]
  },
  {
   "cell_type": "markdown",
   "metadata": {},
   "source": [
    "## Redefine Class 1 as Red and 0 as White"
   ]
  },
  {
   "cell_type": "raw",
   "metadata": {},
   "source": [
    "data$Color <- ifelse(data$Class ==1,'Red','White')\n",
    "data$Color <- factor(data$Color)\n",
    "head(data)"
   ]
  },
  {
   "cell_type": "code",
   "execution_count": 2,
   "metadata": {
    "collapsed": true
   },
   "outputs": [],
   "source": [
    "# Classification Tree with rpart\n",
    "library(rpart)"
   ]
  },
  {
   "cell_type": "code",
   "execution_count": 3,
   "metadata": {
    "collapsed": true
   },
   "outputs": [],
   "source": [
    "## Split into training vs. test data"
   ]
  },
  {
   "cell_type": "code",
   "execution_count": 4,
   "metadata": {},
   "outputs": [
    {
     "data": {
      "text/html": [
       "'Number of Rows: 6497'"
      ],
      "text/latex": [
       "'Number of Rows: 6497'"
      ],
      "text/markdown": [
       "'Number of Rows: 6497'"
      ],
      "text/plain": [
       "[1] \"Number of Rows: 6497\""
      ]
     },
     "metadata": {},
     "output_type": "display_data"
    },
    {
     "data": {
      "text/html": [
       "'Sample Size: 4872'"
      ],
      "text/latex": [
       "'Sample Size: 4872'"
      ],
      "text/markdown": [
       "'Sample Size: 4872'"
      ],
      "text/plain": [
       "[1] \"Sample Size: 4872\""
      ]
     },
     "metadata": {},
     "output_type": "display_data"
    }
   ],
   "source": [
    "nrows <- nrow(data)\n",
    "smp_size <- floor(0.75 * nrows)\n",
    "\n",
    "sprintf (\"Number of Rows: %d\",nrows)\n",
    "sprintf (\"Sample Size: %d\",smp_size)"
   ]
  },
  {
   "cell_type": "code",
   "execution_count": 5,
   "metadata": {},
   "outputs": [
    {
     "data": {
      "text/html": [
       "<ol class=list-inline>\n",
       "\t<li>1071</li>\n",
       "\t<li>5593</li>\n",
       "\t<li>2070</li>\n",
       "\t<li>696</li>\n",
       "\t<li>447</li>\n",
       "\t<li>1896</li>\n",
       "</ol>\n"
      ],
      "text/latex": [
       "\\begin{enumerate*}\n",
       "\\item 1071\n",
       "\\item 5593\n",
       "\\item 2070\n",
       "\\item 696\n",
       "\\item 447\n",
       "\\item 1896\n",
       "\\end{enumerate*}\n"
      ],
      "text/markdown": [
       "1. 1071\n",
       "2. 5593\n",
       "3. 2070\n",
       "4. 696\n",
       "5. 447\n",
       "6. 1896\n",
       "\n",
       "\n"
      ],
      "text/plain": [
       "[1] 1071 5593 2070  696  447 1896"
      ]
     },
     "metadata": {},
     "output_type": "display_data"
    }
   ],
   "source": [
    "## set the seed to make your partition reproductible\n",
    "set.seed(98027)\n",
    "train_ind <- sample(seq_len(nrows), size = smp_size)\n",
    "head(train_ind)"
   ]
  },
  {
   "cell_type": "code",
   "execution_count": 6,
   "metadata": {
    "collapsed": true
   },
   "outputs": [],
   "source": [
    "# Get train and test data\n",
    "train <- data[train_ind, ]\n",
    "test <- data[-train_ind, ]"
   ]
  },
  {
   "cell_type": "markdown",
   "metadata": {},
   "source": [
    "# Start with everything"
   ]
  },
  {
   "cell_type": "code",
   "execution_count": 7,
   "metadata": {
    "collapsed": true
   },
   "outputs": [],
   "source": [
    "formula <- as.formula('Class ~ .')\n",
    "\n",
    "# grow tree \n",
    "tree_model <- rpart(formula,\n",
    "             method=\"class\", data=train, control=rpart.control(minsplit=30, cp=0.01))"
   ]
  },
  {
   "cell_type": "code",
   "execution_count": 8,
   "metadata": {
    "collapsed": true
   },
   "outputs": [],
   "source": [
    "options(repr.plot.width=12, repr.plot.height=12)"
   ]
  },
  {
   "cell_type": "code",
   "execution_count": 9,
   "metadata": {},
   "outputs": [
    {
     "data": {
      "image/png": "[encoded data removed]",
      "text/plain": [
       "Plot with title “Classification Tree for Adult Income”"
      ]
     },
     "metadata": {},
     "output_type": "display_data"
    }
   ],
   "source": [
    "# plot tree \n",
    "plot(tree_model, uniform=TRUE, \n",
    "     main=\"Classification Tree for Adult Income\")\n",
    "text(tree_model, use.n=TRUE, all=TRUE, cex=.8)"
   ]
  },
  {
   "cell_type": "code",
   "execution_count": 10,
   "metadata": {},
   "outputs": [
    {
     "name": "stdout",
     "output_type": "stream",
     "text": [
      "[1] \"Accuracy=97.91%\"\n"
     ]
    }
   ],
   "source": [
    "# Predict the test data\n",
    "test_pred <- predict(tree_model, test, type = \"class\")\n",
    "\n",
    "accuracy <- sum(test[,\"Class\"]==test_pred)/length(test_pred)\n",
    "print(paste(\"Accuracy=\", round(accuracy*100,2), \"%\", sep=\"\"))"
   ]
  },
  {
   "cell_type": "markdown",
   "metadata": {},
   "source": [
    "Okay, so the accuracy looks pretty, but I suspect this overfitted.  Let's do some pruning starting with the brute-force approaches from homeowkr 1"
   ]
  },
  {
   "cell_type": "markdown",
   "metadata": {},
   "source": [
    "# Make a function that quickly tests Decision Tree accuracy"
   ]
  },
  {
   "cell_type": "code",
   "execution_count": 13,
   "metadata": {
    "collapsed": true
   },
   "outputs": [],
   "source": [
    "test_tree_accuracy <- function(df, plot=FALSE) {\n",
    " \n",
    "    # df = select(df, -Color)\n",
    "    # split into test and training sets\n",
    "    nrows <- nrow(df)\n",
    "    smp_size <- floor(0.75 * nrows)\n",
    "\n",
    "    set.seed(42)\n",
    "    train_ind <- sample(seq_len(nrows), size = smp_size)\n",
    "    \n",
    "    train <- df[train_ind, ]\n",
    "    test <- df[-train_ind, ]\n",
    "    \n",
    "    formula <- as.formula('Class ~ .')\n",
    "\n",
    "    # grow tree \n",
    "    tree_model <- rpart(formula,\n",
    "                 method=\"class\", data=train, control=rpart.control(minsplit=30, cp=0.01))\n",
    "    \n",
    "    if (plot) {\n",
    "        # plot tree \n",
    "        plot(tree_model, uniform=TRUE, \n",
    "             main=\"Classification Tree for Adult Income\")\n",
    "        text(tree_model, use.n=TRUE, all=TRUE, cex=.8)\n",
    "    }\n",
    "    \n",
    "    # Make a prediction & test accuracy\n",
    "    test_pred <- predict(tree_model, test, type = \"class\")\n",
    "    \n",
    "    ### junky debug stuff\n",
    "    # print(head (test_pred))\n",
    "    ### junky debug stuff\n",
    "    accuracy <- sum(test[,\"Class\"]==test_pred)/length(test_pred)\n",
    "    print(\"-------------------------------------------------------------------\")\n",
    "    print(colnames(df))\n",
    "    print(paste(\"Accuracy=\", round(accuracy*100,2), \"%\", sep=\"\"))\n",
    "    print(\"------------------------------------\")\n",
    "    print(paste(''))\n",
    "    # try to do the AUC\n",
    "    # print(paste(\"AUC=\", auc(test_pred, df$Class)))\n",
    "\n",
    "}"
   ]
  },
  {
   "cell_type": "markdown",
   "metadata": {},
   "source": [
    "## Classification Accuracy, All Attributes"
   ]
  },
  {
   "cell_type": "code",
   "execution_count": 14,
   "metadata": {},
   "outputs": [
    {
     "name": "stdout",
     "output_type": "stream",
     "text": [
      "[1] \"-------------------------------------------------------------------\"\n",
      " [1] \"fixed.acidity\"        \"volatile.acidity\"     \"citric.acid\"         \n",
      " [4] \"residual.sugar\"       \"chlorides\"            \"free.sulfur.dioxide\" \n",
      " [7] \"total.sulfur.dioxide\" \"density\"              \"pH\"                  \n",
      "[10] \"sulphates\"            \"alcohol\"              \"quality\"             \n",
      "[13] \"Class\"               \n",
      "[1] \"Accuracy=97.72%\"\n",
      "[1] \"------------------------------------\"\n",
      "[1] \"\"\n"
     ]
    }
   ],
   "source": [
    "test_tree_accuracy(data)"
   ]
  },
  {
   "cell_type": "markdown",
   "metadata": {},
   "source": [
    "Okay, 97.91% accuracy. Not bad.  Let's start keeping score.\n",
    "\n",
    "| Configuration | Acuracy |\n",
    "|---------------|---------|\n",
    "|All features   | 97.91%  |"
   ]
  },
  {
   "cell_type": "markdown",
   "metadata": {},
   "source": [
    "# OPTIMISING ATTRIBUTES"
   ]
  },
  {
   "cell_type": "markdown",
   "metadata": {},
   "source": [
    "## Simplest Case First: Single-Feature Sensor\n",
    "Presumably, the cheapest sensor we can design and build is one that samples only a single paremeter. Given our small search space (6 features) and reusable function, we can do a quick check in six lines of code"
   ]
  },
  {
   "cell_type": "code",
   "execution_count": 15,
   "metadata": {},
   "outputs": [
    {
     "name": "stderr",
     "output_type": "stream",
     "text": [
      "Installing package into ‘/home/vagrant/R/x86_64-pc-linux-gnu-library/3.2’\n",
      "(as ‘lib’ is unspecified)\n"
     ]
    },
    {
     "name": "stdout",
     "output_type": "stream",
     "text": [
      "\n",
      "The downloaded source packages are in\n",
      "\t‘/tmp/RtmplnvunS/downloaded_packages’\n"
     ]
    },
    {
     "name": "stderr",
     "output_type": "stream",
     "text": [
      "\n",
      "Attaching package: ‘dplyr’\n",
      "\n",
      "The following objects are masked from ‘package:stats’:\n",
      "\n",
      "    filter, lag\n",
      "\n",
      "The following objects are masked from ‘package:base’:\n",
      "\n",
      "    intersect, setdiff, setequal, union\n",
      "\n"
     ]
    }
   ],
   "source": [
    "install.packages(\"dplyr\")\n",
    "library(dplyr)"
   ]
  },
  {
   "cell_type": "code",
   "execution_count": 16,
   "metadata": {},
   "outputs": [
    {
     "data": {
      "text/html": [
       "<ol class=list-inline>\n",
       "\t<li>'fixed.acidity'</li>\n",
       "\t<li>'volatile.acidity'</li>\n",
       "\t<li>'citric.acid'</li>\n",
       "\t<li>'residual.sugar'</li>\n",
       "\t<li>'chlorides'</li>\n",
       "\t<li>'free.sulfur.dioxide'</li>\n",
       "\t<li>'total.sulfur.dioxide'</li>\n",
       "\t<li>'density'</li>\n",
       "\t<li>'pH'</li>\n",
       "\t<li>'sulphates'</li>\n",
       "\t<li>'alcohol'</li>\n",
       "\t<li>'quality'</li>\n",
       "\t<li>'Class'</li>\n",
       "</ol>\n"
      ],
      "text/latex": [
       "\\begin{enumerate*}\n",
       "\\item 'fixed.acidity'\n",
       "\\item 'volatile.acidity'\n",
       "\\item 'citric.acid'\n",
       "\\item 'residual.sugar'\n",
       "\\item 'chlorides'\n",
       "\\item 'free.sulfur.dioxide'\n",
       "\\item 'total.sulfur.dioxide'\n",
       "\\item 'density'\n",
       "\\item 'pH'\n",
       "\\item 'sulphates'\n",
       "\\item 'alcohol'\n",
       "\\item 'quality'\n",
       "\\item 'Class'\n",
       "\\end{enumerate*}\n"
      ],
      "text/markdown": [
       "1. 'fixed.acidity'\n",
       "2. 'volatile.acidity'\n",
       "3. 'citric.acid'\n",
       "4. 'residual.sugar'\n",
       "5. 'chlorides'\n",
       "6. 'free.sulfur.dioxide'\n",
       "7. 'total.sulfur.dioxide'\n",
       "8. 'density'\n",
       "9. 'pH'\n",
       "10. 'sulphates'\n",
       "11. 'alcohol'\n",
       "12. 'quality'\n",
       "13. 'Class'\n",
       "\n",
       "\n"
      ],
      "text/plain": [
       " [1] \"fixed.acidity\"        \"volatile.acidity\"     \"citric.acid\"         \n",
       " [4] \"residual.sugar\"       \"chlorides\"            \"free.sulfur.dioxide\" \n",
       " [7] \"total.sulfur.dioxide\" \"density\"              \"pH\"                  \n",
       "[10] \"sulphates\"            \"alcohol\"              \"quality\"             \n",
       "[13] \"Class\"               "
      ]
     },
     "metadata": {},
     "output_type": "display_data"
    }
   ],
   "source": [
    "colnames(data)"
   ]
  },
  {
   "cell_type": "code",
   "execution_count": 17,
   "metadata": {},
   "outputs": [
    {
     "name": "stdout",
     "output_type": "stream",
     "text": [
      "[1] \"-------------------------------------------------------------------\"\n",
      "[1] \"fixed.acidity\" \"Class\"        \n",
      "[1] \"Accuracy=80.92%\"\n",
      "[1] \"------------------------------------\"\n",
      "[1] \"\"\n",
      "[1] \"-------------------------------------------------------------------\"\n",
      "[1] \"volatile.acidity\" \"Class\"           \n",
      "[1] \"Accuracy=86.22%\"\n",
      "[1] \"------------------------------------\"\n",
      "[1] \"\"\n",
      "[1] \"-------------------------------------------------------------------\"\n",
      "[1] \"citric.acid\" \"Class\"      \n",
      "[1] \"Accuracy=80.25%\"\n",
      "[1] \"------------------------------------\"\n",
      "[1] \"\"\n",
      "[1] \"-------------------------------------------------------------------\"\n",
      "[1] \"residual.sugar\" \"Class\"         \n",
      "[1] \"Accuracy=83.57%\"\n",
      "[1] \"------------------------------------\"\n",
      "[1] \"\"\n",
      "[1] \"-------------------------------------------------------------------\"\n",
      "[1] \"chlorides\" \"Class\"    \n",
      "[1] \"Accuracy=91.94%\"\n",
      "[1] \"------------------------------------\"\n",
      "[1] \"\"\n",
      "[1] \"-------------------------------------------------------------------\"\n",
      "[1] \"free.sulfur.dioxide\" \"Class\"              \n",
      "[1] \"Accuracy=81.97%\"\n",
      "[1] \"------------------------------------\"\n",
      "[1] \"\"\n",
      "[1] \"-------------------------------------------------------------------\"\n",
      "[1] \"total.sulfur.dioxide\" \"Class\"               \n",
      "[1] \"Accuracy=93.05%\"\n",
      "[1] \"------------------------------------\"\n",
      "[1] \"\"\n",
      "[1] \"-------------------------------------------------------------------\"\n",
      "[1] \"density\" \"Class\"  \n",
      "[1] \"Accuracy=75.94%\"\n",
      "[1] \"------------------------------------\"\n",
      "[1] \"\"\n",
      "[1] \"-------------------------------------------------------------------\"\n",
      "[1] \"pH\"    \"Class\"\n",
      "[1] \"Accuracy=74.46%\"\n",
      "[1] \"------------------------------------\"\n",
      "[1] \"\"\n",
      "[1] \"-------------------------------------------------------------------\"\n",
      "[1] \"sulphates\" \"Class\"    \n",
      "[1] \"Accuracy=78.28%\"\n",
      "[1] \"------------------------------------\"\n",
      "[1] \"\"\n",
      "[1] \"-------------------------------------------------------------------\"\n",
      "[1] \"alcohol\" \"Class\"  \n",
      "[1] \"Accuracy=74.46%\"\n",
      "[1] \"------------------------------------\"\n",
      "[1] \"\"\n"
     ]
    }
   ],
   "source": [
    "test_tree_accuracy(select(data, fixed.acidity, Class))\n",
    "test_tree_accuracy(select(data, volatile.acidity, Class))\n",
    "test_tree_accuracy(select(data, citric.acid, Class))\n",
    "test_tree_accuracy(select(data, residual.sugar, Class))\n",
    "test_tree_accuracy(select(data, chlorides, Class))\n",
    "test_tree_accuracy(select(data, free.sulfur.dioxide, Class))\n",
    "test_tree_accuracy(select(data, total.sulfur.dioxide, Class))\n",
    "test_tree_accuracy(select(data, density, Class))\n",
    "test_tree_accuracy(select(data, pH, Class))\n",
    "test_tree_accuracy(select(data, sulphates, Class))\n",
    "test_tree_accuracy(select(data, alcohol, Class))"
   ]
  },
  {
   "cell_type": "markdown",
   "metadata": {},
   "source": [
    "Okay, if our threshold is 90%, we can go down to a single feature (Sulfur Dioxide) If we want 95% or better, we need to keep looking. Time to update the leaderboard:\n",
    "\n",
    "| Configuration             | Acuracy |\n",
    "|---------------------------|---------|\n",
    "|All features               | 97.91%  |\n",
    "|1 feature (sulfur.dioxide) | 93.05%  |\n",
    "|1 feature (chloride      ) | 91.94%  |\n",
    "\n",
    "To keep it intresting, we'll see if we can make a sensor with 90% or better accuracy, using as few sensors as possible, but still at lest two."
   ]
  },
  {
   "cell_type": "markdown",
   "metadata": {},
   "source": [
    "# ==============< JUNK >======================================"
   ]
  },
  {
   "cell_type": "markdown",
   "metadata": {},
   "source": [
    "## Plot the Decision Tree and Use Some Human Intuition"
   ]
  },
  {
   "cell_type": "code",
   "execution_count": null,
   "metadata": {
    "collapsed": true
   },
   "outputs": [],
   "source": [
    "options(repr.plot.width=3, repr.plot.height=3)"
   ]
  },
  {
   "cell_type": "code",
   "execution_count": null,
   "metadata": {
    "collapsed": true,
    "scrolled": false
   },
   "outputs": [],
   "source": [
    "test_tree_accuracy(data, plot=TRUE)"
   ]
  },
  {
   "cell_type": "markdown",
   "metadata": {},
   "source": [
    "Reviewing the plots, ranked by least differentiated to most differentiated for ALL params\n",
    "- total.sulfur.dioxide\n",
    "- volatile.acidity\n",
    "- fixed.acidity\n",
    "- chlorides\n",
    "- residual.sugar\n",
    "- free.sulfur.dioxide\n",
    "- density\n",
    "- citric.acid\n",
    "- pH\n",
    "    \n",
    "Let's start pruning one feature off at a time and see what happens."
   ]
  },
  {
   "cell_type": "code",
   "execution_count": null,
   "metadata": {
    "collapsed": true
   },
   "outputs": [],
   "source": [
    "test_nbc_accuracy(select(data, -one_of(c('pH'))))\n",
    "test_nbc_accuracy(select(data, -one_of(c('pH','citric.acid'))))\n",
    "test_nbc_accuracy(select(data, -one_of(c('pH','citric.acid','density'))))\n",
    "test_nbc_accuracy(select(data, -one_of(c('pH','citric.acid','density','free.sulfur.dioxide'))))\n",
    "test_nbc_accuracy(select(data, -one_of(c('pH','citric.acid','density','free.sulfur.dioxide',\n",
    "                                         'residual.sugar'))))\n",
    "test_nbc_accuracy(select(data, -one_of(c('pH','citric.acid','density','free.sulfur.dioxide',\n",
    "                                        'residual.sugar','chlorides'))))\n",
    "test_nbc_accuracy(select(data, -one_of(c('pH','citric.acid','density','free.sulfur.dioxide',\n",
    "                                        'residual.sugar','chlorides','fixed.acidity'))))\n",
    "test_nbc_accuracy(select(data, -one_of(c('pH','citric.acid','density','free.sulfur.dioxide',\n",
    "                                        'residual.sugar','chlorides','fixed.acidity',\n",
    "                                         'volatile.acidity'))))\n",
    "test_nbc_accuracy(select(data, -one_of(c('pH','citric.acid','density','free.sulfur.dioxide',\n",
    "                                         'residual.sugar','chlorides','fixed.acidity',\n",
    "                                          'volatile.acidity','total.sulfur.dioxide'))))"
   ]
  },
  {
   "cell_type": "markdown",
   "metadata": {},
   "source": [
    "We got a bump up in accuracy after removing pH and Citric Acid, then it started to degrade. Update the leaderboard.\n",
    "\n",
    "| Configuration                                      | Acuracy |\n",
    "|----------------------------------------------------|---------|\n",
    "|All features                                        | 97.91%  |\n",
    "|sulfur.dioxide(1)                                   | 93.11%  |\n",
    "|All but pH ad citric.acid                           | 97.421% |\n",
    "|total.sulfur.dioxide, sulphates, alcohol, quality(4)| 95.02%  |\n",
    "\n",
    "Keep density, prune th rest."
   ]
  },
  {
   "cell_type": "code",
   "execution_count": null,
   "metadata": {
    "collapsed": true
   },
   "outputs": [],
   "source": [
    "test_nbc_accuracy(select(data, -one_of(c('pH','citric.acid'))))\n",
    "test_nbc_accuracy(select(data, -one_of(c('pH','citric.acid','free.sulfur.dioxide'))))\n",
    "test_nbc_accuracy(select(data, -one_of(c('pH','citric.acid','free.sulfur.dioxide',\n",
    "                                            'residual.sugar'))))\n",
    "test_nbc_accuracy(select(data, -one_of(c('pH','citric.acid','free.sulfur.dioxide',\n",
    "                                            'residual.sugar','chlorides'))))\n",
    "test_nbc_accuracy(select(data, -one_of(c('pH','citric.acid','free.sulfur.dioxide',\n",
    "                                            'residual.sugar','chlorides','fixed.acidity'))))\n",
    "test_nbc_accuracy(select(data, -one_of(c('pH','citric.acid','free.sulfur.dioxide',\n",
    "                                            'residual.sugar','chlorides','fixed.acidity',\n",
    "                                             'volatile.acidity'))))\n",
    "test_nbc_accuracy(select(data, -one_of(c('pH','citric.acid','free.sulfur.dioxide',\n",
    "                                            'residual.sugar','chlorides','fixed.acidity',\n",
    "                                             'volatile.acidity','total.sulfur.dioxide'))))\n"
   ]
  },
  {
   "cell_type": "markdown",
   "metadata": {},
   "source": [
    "We were able to bump it up to 97.91% after pruning some  features. re-start the pruning.  Curent leaderboard.\n",
    "\n",
    "\n",
    "| Configuration                                      | Acuracy |\n",
    "|----------------------------------------------------|---------|\n",
    "|All features                                        | 97.91%  |\n",
    "|sulfur.dioxide(1)                                   | 93.11%  |\n",
    "|All but pH ad citric.acid                           | 97.41%  |\n",
    "|total.sulfur.dioxide, sulphates, alcohol, quality(4)| 95.02%  |\n",
    "| 7 features                                         | 97.91%  |\n"
   ]
  },
  {
   "cell_type": "code",
   "execution_count": null,
   "metadata": {
    "collapsed": true
   },
   "outputs": [],
   "source": [
    "pruned_data <- select(data, c(\"fixed.acidity\", \"volatile.acidity\", \"total.sulfur.dioxide\",\n",
    "                              \"density\", \"sulphates\", \"alcohol\",\n",
    "                              \"quality\", \"Class\" ))"
   ]
  },
  {
   "cell_type": "markdown",
   "metadata": {},
   "source": [
    "Remembering our ranking\n",
    " - total.sulfur.dioxide\n",
    " - volatile.acidity\n",
    " - fixed.acidity\n",
    " - chlorides\n",
    " - residual.sugar\n",
    " - free.sulfur.dioxide\n",
    " - density\n",
    " - citric.acid\n",
    " - pH\n"
   ]
  },
  {
   "cell_type": "code",
   "execution_count": null,
   "metadata": {
    "collapsed": true
   },
   "outputs": [],
   "source": [
    "test_nbc_accuracy(select(pruned_data, -one_of(c('quality'))))\n",
    "test_nbc_accuracy(select(pruned_data, -one_of(c('quality','density'))))\n",
    "test_nbc_accuracy(select(pruned_data, -one_of(c('quality','density','fixed.acidity','volatile.acidity'))))"
   ]
  },
  {
   "cell_type": "markdown",
   "metadata": {},
   "source": [
    "Got it down to three fatures, while keeping 94.89% accuracy. Updating the leaderboard.\n",
    "    \n",
    "| Configuration                                      | Acuracy |\n",
    "|----------------------------------------------------|---------|\n",
    "|All features                                        | 97.91%  |\n",
    "|sulfur.dioxide(1)                                   | 93.11%  |\n",
    "|All but pH ad citric.acid                           | 97.41%  |\n",
    "|total.sulfur.dioxide, sulphates, alcohol, quality(4)| 95.02%  |\n",
    "| 7 features                                         | 97.91%  | \n",
    "|total.sulfur.dioxide, sulphates, alcohol            | 94.89%  |\n",
    "\n",
    "Let's try to prune it down to two."
   ]
  },
  {
   "cell_type": "code",
   "execution_count": null,
   "metadata": {
    "collapsed": true
   },
   "outputs": [],
   "source": [
    "pruned_data2 <- select(data, c(\"total.sulfur.dioxide\", \"sulphates\", \"alcohol\", \"Class\" ))\n",
    "\n",
    "test_nbc_accuracy(select(pruned_data2, -one_of(c('total.sulfur.dioxide'))))\n",
    "test_nbc_accuracy(select(pruned_data2, -one_of(c('sulphates'))))\n",
    "test_nbc_accuracy(select(pruned_data2, -one_of(c('alcohol'))))"
   ]
  },
  {
   "cell_type": "markdown",
   "metadata": {},
   "source": [
    "One last update of the leaderboard\n",
    "\n",
    "|Features| Configuration                                      | Acuracy |\n",
    "|--------|----------------------------------------------------|---------|\n",
    "| 12     |All features                                        | 97.91%  |\n",
    "| 1      |sulfur.dioxide                                      | 93.11%  |\n",
    "| 10     |All but pH and citric.acid                          | 97.41%  |\n",
    "| 4      |total.sulfur.dioxide, sulphates, alcohol, quality   | 95.02%  |\n",
    "| 7      |features                                            | 97.91%  | \n",
    "| 3      |total.sulfur.dioxide, sulphates, alcohol            | 94.89%  |\n",
    "| 2      |total.sulfur.dioxide, sulphates                     | 94.71%  |\n"
   ]
  },
  {
   "cell_type": "markdown",
   "metadata": {},
   "source": [
    "# CONCLUSIONS\n",
    "## Using all features gets you 97.91% accuracy\n",
    "## You can drop to one feature (Sulfur Dioxide) and still get 93.11%\n",
    "## With two features (choose carefully) you can get 94.71%"
   ]
  }
 ],
 "metadata": {
  "kernelspec": {
   "display_name": "R",
   "language": "R",
   "name": "ir"
  },
  "language_info": {
   "codemirror_mode": "r",
   "file_extension": ".r",
   "mimetype": "text/x-r-source",
   "name": "R",
   "pygments_lexer": "r",
   "version": "3.2.3"
  }
 },
 "nbformat": 4,
 "nbformat_minor": 2
}

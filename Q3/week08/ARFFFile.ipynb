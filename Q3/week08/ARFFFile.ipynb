{
 "cells": [
  {
   "cell_type": "code",
   "execution_count": 1,
   "metadata": {},
   "outputs": [
    {
     "name": "stderr",
     "output_type": "stream",
     "text": [
      "Installing package into ‘/home/vagrant/R/x86_64-pc-linux-gnu-library/3.2’\n",
      "(as ‘lib’ is unspecified)\n"
     ]
    },
    {
     "name": "stdout",
     "output_type": "stream",
     "text": [
      "\n",
      "The downloaded source packages are in\n",
      "\t‘/tmp/RtmpG0xQwD/downloaded_packages’\n"
     ]
    },
    {
     "name": "stderr",
     "output_type": "stream",
     "text": [
      "Installing package into ‘/home/vagrant/R/x86_64-pc-linux-gnu-library/3.2’\n",
      "(as ‘lib’ is unspecified)\n",
      "also installing the dependencies ‘RWekajars’, ‘rJava’\n",
      "\n",
      "Warning message in install.packages(\"RWeka\"):\n",
      "“installation of package ‘rJava’ had non-zero exit status”Warning message in install.packages(\"RWeka\"):\n",
      "“installation of package ‘RWekajars’ had non-zero exit status”Warning message in install.packages(\"RWeka\"):\n",
      "“installation of package ‘RWeka’ had non-zero exit status”"
     ]
    },
    {
     "name": "stdout",
     "output_type": "stream",
     "text": [
      "\n",
      "The downloaded source packages are in\n",
      "\t‘/tmp/RtmpG0xQwD/downloaded_packages’\n"
     ]
    }
   ],
   "source": [
    "install.packages(\"farff\")\n",
    "install.packages(\"RWeka\")"
   ]
  },
  {
   "cell_type": "code",
   "execution_count": 3,
   "metadata": {},
   "outputs": [
    {
     "name": "stderr",
     "output_type": "stream",
     "text": [
      "Parse with reader=readr : veh-prime.arff\n",
      "Loading required package: readr\n",
      "header: 0.010000; preproc: 0.008000; data: 0.065000; postproc: 0.001000; total: 0.084000\n"
     ]
    }
   ],
   "source": [
    "library(\"farff\")\n",
    "d <- readARFF(\"veh-prime.arff\")"
   ]
  },
  {
   "cell_type": "code",
   "execution_count": 4,
   "metadata": {},
   "outputs": [
    {
     "data": {
      "text/html": [
       "<table>\n",
       "<thead><tr><th scope=col>f0</th><th scope=col>f1</th><th scope=col>f2</th><th scope=col>f3</th><th scope=col>f4</th><th scope=col>f5</th><th scope=col>f6</th><th scope=col>f7</th><th scope=col>f8</th><th scope=col>f9</th><th scope=col>⋯</th><th scope=col>f27</th><th scope=col>f28</th><th scope=col>f29</th><th scope=col>f30</th><th scope=col>f31</th><th scope=col>f32</th><th scope=col>f33</th><th scope=col>f34</th><th scope=col>f35</th><th scope=col>CLASS</th></tr></thead>\n",
       "<tbody>\n",
       "\t<tr><td> 0.063</td><td> 0.160</td><td> 0.509</td><td>-0.967</td><td> 0.058</td><td> 0.000</td><td> 0.874</td><td> 0.271</td><td> 1.307</td><td>-0.011</td><td>⋯     </td><td>-0.924</td><td>-0.077</td><td> 0.108</td><td>-0.003</td><td> 0.381</td><td>-0.314</td><td> 0.929</td><td> 0.184</td><td>-0.001</td><td>noncar</td></tr>\n",
       "\t<tr><td>-0.037</td><td>-0.325</td><td>-0.626</td><td>-0.029</td><td> 0.121</td><td>-0.409</td><td>-0.002</td><td>-0.835</td><td>-0.595</td><td>-0.253</td><td>⋯     </td><td> 0.270</td><td> 0.533</td><td> 0.152</td><td>-0.978</td><td> 0.157</td><td> 0.011</td><td>-0.254</td><td> 0.453</td><td>-0.621</td><td>noncar</td></tr>\n",
       "\t<tr><td> 0.000</td><td> 1.253</td><td> 0.833</td><td>-0.970</td><td> 1.516</td><td> 0.014</td><td>-0.378</td><td> 1.197</td><td> 0.546</td><td>-0.402</td><td>⋯     </td><td>-0.408</td><td> 1.550</td><td> 0.010</td><td>-0.652</td><td>-0.403</td><td>-0.151</td><td> 0.000</td><td> 0.049</td><td>-0.113</td><td>car   </td></tr>\n",
       "\t<tr><td>-0.743</td><td>-0.082</td><td>-0.626</td><td> 0.723</td><td>-0.006</td><td> 0.000</td><td>-0.080</td><td>-0.297</td><td> 0.166</td><td> 0.311</td><td>⋯     </td><td> 0.819</td><td>-0.077</td><td>-0.099</td><td>-0.001</td><td>-0.291</td><td> 1.633</td><td> 0.686</td><td> 1.528</td><td> 0.000</td><td>noncar</td></tr>\n",
       "\t<tr><td>-0.939</td><td>-1.054</td><td>-0.140</td><td> 0.036</td><td>-0.766</td><td> 0.000</td><td>-0.272</td><td> 1.077</td><td> 5.236</td><td>-0.366</td><td>⋯     </td><td> 0.676</td><td> 0.533</td><td>-0.003</td><td> 0.122</td><td>-0.179</td><td>-1.449</td><td> 0.024</td><td>-1.698</td><td> 0.083</td><td>noncar</td></tr>\n",
       "\t<tr><td>-0.247</td><td> 1.618</td><td> 1.967</td><td>-0.484</td><td> 1.516</td><td> 0.102</td><td>-0.001</td><td> 0.091</td><td>-1.482</td><td> 0.729</td><td>⋯     </td><td>-0.699</td><td>-0.280</td><td> 0.003</td><td>-0.841</td><td>-0.403</td><td>-1.287</td><td>-0.033</td><td>-1.698</td><td> 0.000</td><td>noncar</td></tr>\n",
       "</tbody>\n",
       "</table>\n"
      ],
      "text/latex": [
       "\\begin{tabular}{r|lllllllllllllllllllllllllllllllllllll}\n",
       " f0 & f1 & f2 & f3 & f4 & f5 & f6 & f7 & f8 & f9 & ⋯ & f27 & f28 & f29 & f30 & f31 & f32 & f33 & f34 & f35 & CLASS\\\\\n",
       "\\hline\n",
       "\t  0.063 &  0.160 &  0.509 & -0.967 &  0.058 &  0.000 &  0.874 &  0.271 &  1.307 & -0.011 & ⋯      & -0.924 & -0.077 &  0.108 & -0.003 &  0.381 & -0.314 &  0.929 &  0.184 & -0.001 & noncar\\\\\n",
       "\t -0.037 & -0.325 & -0.626 & -0.029 &  0.121 & -0.409 & -0.002 & -0.835 & -0.595 & -0.253 & ⋯      &  0.270 &  0.533 &  0.152 & -0.978 &  0.157 &  0.011 & -0.254 &  0.453 & -0.621 & noncar\\\\\n",
       "\t  0.000 &  1.253 &  0.833 & -0.970 &  1.516 &  0.014 & -0.378 &  1.197 &  0.546 & -0.402 & ⋯      & -0.408 &  1.550 &  0.010 & -0.652 & -0.403 & -0.151 &  0.000 &  0.049 & -0.113 & car   \\\\\n",
       "\t -0.743 & -0.082 & -0.626 &  0.723 & -0.006 &  0.000 & -0.080 & -0.297 &  0.166 &  0.311 & ⋯      &  0.819 & -0.077 & -0.099 & -0.001 & -0.291 &  1.633 &  0.686 &  1.528 &  0.000 & noncar\\\\\n",
       "\t -0.939 & -1.054 & -0.140 &  0.036 & -0.766 &  0.000 & -0.272 &  1.077 &  5.236 & -0.366 & ⋯      &  0.676 &  0.533 & -0.003 &  0.122 & -0.179 & -1.449 &  0.024 & -1.698 &  0.083 & noncar\\\\\n",
       "\t -0.247 &  1.618 &  1.967 & -0.484 &  1.516 &  0.102 & -0.001 &  0.091 & -1.482 &  0.729 & ⋯      & -0.699 & -0.280 &  0.003 & -0.841 & -0.403 & -1.287 & -0.033 & -1.698 &  0.000 & noncar\\\\\n",
       "\\end{tabular}\n"
      ],
      "text/markdown": [
       "\n",
       "f0 | f1 | f2 | f3 | f4 | f5 | f6 | f7 | f8 | f9 | ⋯ | f27 | f28 | f29 | f30 | f31 | f32 | f33 | f34 | f35 | CLASS | \n",
       "|---|---|---|---|---|---|\n",
       "|  0.063 |  0.160 |  0.509 | -0.967 |  0.058 |  0.000 |  0.874 |  0.271 |  1.307 | -0.011 | ⋯      | -0.924 | -0.077 |  0.108 | -0.003 |  0.381 | -0.314 |  0.929 |  0.184 | -0.001 | noncar | \n",
       "| -0.037 | -0.325 | -0.626 | -0.029 |  0.121 | -0.409 | -0.002 | -0.835 | -0.595 | -0.253 | ⋯      |  0.270 |  0.533 |  0.152 | -0.978 |  0.157 |  0.011 | -0.254 |  0.453 | -0.621 | noncar | \n",
       "|  0.000 |  1.253 |  0.833 | -0.970 |  1.516 |  0.014 | -0.378 |  1.197 |  0.546 | -0.402 | ⋯      | -0.408 |  1.550 |  0.010 | -0.652 | -0.403 | -0.151 |  0.000 |  0.049 | -0.113 | car    | \n",
       "| -0.743 | -0.082 | -0.626 |  0.723 | -0.006 |  0.000 | -0.080 | -0.297 |  0.166 |  0.311 | ⋯      |  0.819 | -0.077 | -0.099 | -0.001 | -0.291 |  1.633 |  0.686 |  1.528 |  0.000 | noncar | \n",
       "| -0.939 | -1.054 | -0.140 |  0.036 | -0.766 |  0.000 | -0.272 |  1.077 |  5.236 | -0.366 | ⋯      |  0.676 |  0.533 | -0.003 |  0.122 | -0.179 | -1.449 |  0.024 | -1.698 |  0.083 | noncar | \n",
       "| -0.247 |  1.618 |  1.967 | -0.484 |  1.516 |  0.102 | -0.001 |  0.091 | -1.482 |  0.729 | ⋯      | -0.699 | -0.280 |  0.003 | -0.841 | -0.403 | -1.287 | -0.033 | -1.698 |  0.000 | noncar | \n",
       "\n",
       "\n"
      ],
      "text/plain": [
       "  f0     f1     f2     f3     f4     f5     f6     f7     f8     f9     ⋯\n",
       "1  0.063  0.160  0.509 -0.967  0.058  0.000  0.874  0.271  1.307 -0.011 ⋯\n",
       "2 -0.037 -0.325 -0.626 -0.029  0.121 -0.409 -0.002 -0.835 -0.595 -0.253 ⋯\n",
       "3  0.000  1.253  0.833 -0.970  1.516  0.014 -0.378  1.197  0.546 -0.402 ⋯\n",
       "4 -0.743 -0.082 -0.626  0.723 -0.006  0.000 -0.080 -0.297  0.166  0.311 ⋯\n",
       "5 -0.939 -1.054 -0.140  0.036 -0.766  0.000 -0.272  1.077  5.236 -0.366 ⋯\n",
       "6 -0.247  1.618  1.967 -0.484  1.516  0.102 -0.001  0.091 -1.482  0.729 ⋯\n",
       "  f27    f28    f29    f30    f31    f32    f33    f34    f35    CLASS \n",
       "1 -0.924 -0.077  0.108 -0.003  0.381 -0.314  0.929  0.184 -0.001 noncar\n",
       "2  0.270  0.533  0.152 -0.978  0.157  0.011 -0.254  0.453 -0.621 noncar\n",
       "3 -0.408  1.550  0.010 -0.652 -0.403 -0.151  0.000  0.049 -0.113 car   \n",
       "4  0.819 -0.077 -0.099 -0.001 -0.291  1.633  0.686  1.528  0.000 noncar\n",
       "5  0.676  0.533 -0.003  0.122 -0.179 -1.449  0.024 -1.698  0.083 noncar\n",
       "6 -0.699 -0.280  0.003 -0.841 -0.403 -1.287 -0.033 -1.698  0.000 noncar"
      ]
     },
     "metadata": {},
     "output_type": "display_data"
    }
   ],
   "source": [
    "head(d)"
   ]
  },
  {
   "cell_type": "code",
   "execution_count": null,
   "metadata": {
    "collapsed": true
   },
   "outputs": [],
   "source": []
  }
 ],
 "metadata": {
  "kernelspec": {
   "display_name": "R",
   "language": "R",
   "name": "ir"
  },
  "language_info": {
   "codemirror_mode": "r",
   "file_extension": ".r",
   "mimetype": "text/x-r-source",
   "name": "R",
   "pygments_lexer": "r",
   "version": "3.2.3"
  }
 },
 "nbformat": 4,
 "nbformat_minor": 2
}

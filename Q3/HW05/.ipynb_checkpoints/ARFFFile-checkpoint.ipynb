{
 "cells": [
  {
   "cell_type": "code",
   "execution_count": 1,
   "metadata": {},
   "outputs": [
    {
     "name": "stderr",
     "output_type": "stream",
     "text": [
      "Installing package into ‘/home/vagrant/R/x86_64-pc-linux-gnu-library/3.2’\n",
      "(as ‘lib’ is unspecified)\n"
     ]
    },
    {
     "name": "stdout",
     "output_type": "stream",
     "text": [
      "\n",
      "The downloaded source packages are in\n",
      "\t‘/tmp/RtmpG0xQwD/downloaded_packages’\n"
     ]
    },
    {
     "name": "stderr",
     "output_type": "stream",
     "text": [
      "Installing package into ‘/home/vagrant/R/x86_64-pc-linux-gnu-library/3.2’\n",
      "(as ‘lib’ is unspecified)\n",
      "also installing the dependencies ‘RWekajars’, ‘rJava’\n",
      "\n",
      "Warning message in install.packages(\"RWeka\"):\n",
      "“installation of package ‘rJava’ had non-zero exit status”Warning message in install.packages(\"RWeka\"):\n",
      "“installation of package ‘RWekajars’ had non-zero exit status”Warning message in install.packages(\"RWeka\"):\n",
      "“installation of package ‘RWeka’ had non-zero exit status”"
     ]
    },
    {
     "name": "stdout",
     "output_type": "stream",
     "text": [
      "\n",
      "The downloaded source packages are in\n",
      "\t‘/tmp/RtmpG0xQwD/downloaded_packages’\n"
     ]
    }
   ],
   "source": [
    "install.packages(\"farff\")\n",
    "install.packages(\"RWeka\")"
   ]
  },
  {
   "cell_type": "code",
   "execution_count": 2,
   "metadata": {},
   "outputs": [
    {
     "ename": "ERROR",
     "evalue": "Error in IRkernel::main(): Assertion on 'path' failed: File does not exist: 'veh-prime.arff'.\n",
     "output_type": "error",
     "traceback": [
      "Error in IRkernel::main(): Assertion on 'path' failed: File does not exist: 'veh-prime.arff'.\nTraceback:\n",
      "1. readARFF(\"veh-prime.arff\")",
      "2. assertFileExists(path, access = \"r\")",
      "3. makeAssertion(x, res, .var.name, add)",
      "4. mstop(\"Assertion on '%s' failed: %s.\", var.name, res)"
     ]
    }
   ],
   "source": [
    "library(\"farff\")\n",
    "d <- readARFF(\"veh-prime.arff\")"
   ]
  },
  {
   "cell_type": "code",
   "execution_count": null,
   "metadata": {},
   "outputs": [],
   "source": [
    "head(d)"
   ]
  },
  {
   "cell_type": "code",
   "execution_count": null,
   "metadata": {
    "collapsed": true
   },
   "outputs": [],
   "source": []
  }
 ],
 "metadata": {
  "kernelspec": {
   "display_name": "R",
   "language": "R",
   "name": "ir"
  },
  "language_info": {
   "codemirror_mode": "r",
   "file_extension": ".r",
   "mimetype": "text/x-r-source",
   "name": "R",
   "pygments_lexer": "r",
   "version": "3.2.3"
  }
 },
 "nbformat": 4,
 "nbformat_minor": 2
}

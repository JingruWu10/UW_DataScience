{
 "cells": [
  {
   "cell_type": "code",
   "execution_count": null,
   "metadata": {
    "collapsed": true
   },
   "outputs": [],
   "source": [
    "## Model Seletion"
   ]
  },
  {
   "cell_type": "code",
   "execution_count": 22,
   "metadata": {},
   "outputs": [
    {
     "data": {
      "text/html": [
       "<table>\n",
       "<thead><tr><th scope=col>age</th><th scope=col>sex</th><th scope=col>region</th><th scope=col>income</th><th scope=col>married</th><th scope=col>children</th><th scope=col>car</th><th scope=col>save_act</th><th scope=col>current_act</th><th scope=col>mortgage</th><th scope=col>pep</th></tr></thead>\n",
       "<tbody>\n",
       "\t<tr><td>48        </td><td>FEMALE    </td><td>INNER_CITY</td><td>17546.0   </td><td>NO        </td><td>1         </td><td>NO        </td><td>NO        </td><td>NO        </td><td>NO        </td><td>YES       </td></tr>\n",
       "\t<tr><td>40        </td><td>MALE      </td><td>TOWN      </td><td>30085.1   </td><td>YES       </td><td>3         </td><td>YES       </td><td>NO        </td><td>YES       </td><td>YES       </td><td>NO        </td></tr>\n",
       "\t<tr><td>51        </td><td>FEMALE    </td><td>INNER_CITY</td><td>16575.4   </td><td>YES       </td><td>0         </td><td>YES       </td><td>YES       </td><td>YES       </td><td>NO        </td><td>NO        </td></tr>\n",
       "</tbody>\n",
       "</table>\n"
      ],
      "text/latex": [
       "\\begin{tabular}{r|lllllllllll}\n",
       " age & sex & region & income & married & children & car & save\\_act & current\\_act & mortgage & pep\\\\\n",
       "\\hline\n",
       "\t 48           & FEMALE       & INNER\\_CITY & 17546.0      & NO           & 1            & NO           & NO           & NO           & NO           & YES         \\\\\n",
       "\t 40         & MALE       & TOWN       & 30085.1    & YES        & 3          & YES        & NO         & YES        & YES        & NO        \\\\\n",
       "\t 51           & FEMALE       & INNER\\_CITY & 16575.4      & YES          & 0            & YES          & YES          & YES          & NO           & NO          \\\\\n",
       "\\end{tabular}\n"
      ],
      "text/markdown": [
       "\n",
       "age | sex | region | income | married | children | car | save_act | current_act | mortgage | pep | \n",
       "|---|---|---|\n",
       "| 48         | FEMALE     | INNER_CITY | 17546.0    | NO         | 1          | NO         | NO         | NO         | NO         | YES        | \n",
       "| 40         | MALE       | TOWN       | 30085.1    | YES        | 3          | YES        | NO         | YES        | YES        | NO         | \n",
       "| 51         | FEMALE     | INNER_CITY | 16575.4    | YES        | 0          | YES        | YES        | YES        | NO         | NO         | \n",
       "\n",
       "\n"
      ],
      "text/plain": [
       "  age sex    region     income  married children car save_act current_act\n",
       "1 48  FEMALE INNER_CITY 17546.0 NO      1        NO  NO       NO         \n",
       "2 40  MALE   TOWN       30085.1 YES     3        YES NO       YES        \n",
       "3 51  FEMALE INNER_CITY 16575.4 YES     0        YES YES      YES        \n",
       "  mortgage pep\n",
       "1 NO       YES\n",
       "2 YES      NO \n",
       "3 NO       NO "
      ]
     },
     "metadata": {},
     "output_type": "display_data"
    },
    {
     "data": {
      "text/html": [
       "<ol class=list-inline>\n",
       "\t<li>600</li>\n",
       "\t<li>11</li>\n",
       "</ol>\n"
      ],
      "text/latex": [
       "\\begin{enumerate*}\n",
       "\\item 600\n",
       "\\item 11\n",
       "\\end{enumerate*}\n"
      ],
      "text/markdown": [
       "1. 600\n",
       "2. 11\n",
       "\n",
       "\n"
      ],
      "text/plain": [
       "[1] 600  11"
      ]
     },
     "metadata": {},
     "output_type": "display_data"
    },
    {
     "data": {
      "text/plain": [
       "      age            sex             region        income      married  \n",
       " Min.   :18.00   FEMALE:300   INNER_CITY:269   Min.   : 5014   NO :204  \n",
       " 1st Qu.:30.00   MALE  :300   RURAL     : 96   1st Qu.:17264   YES:396  \n",
       " Median :42.00                SUBURBAN  : 62   Median :24925            \n",
       " Mean   :42.40                TOWN      :173   Mean   :27524            \n",
       " 3rd Qu.:55.25                                 3rd Qu.:36173            \n",
       " Max.   :67.00                                 Max.   :63130            \n",
       "    children      car      save_act  current_act mortgage   pep     \n",
       " Min.   :0.000   NO :304   NO :186   NO :145     NO :391   NO :326  \n",
       " 1st Qu.:0.000   YES:296   YES:414   YES:455     YES:209   YES:274  \n",
       " Median :1.000                                                      \n",
       " Mean   :1.012                                                      \n",
       " 3rd Qu.:2.000                                                      \n",
       " Max.   :3.000                                                      "
      ]
     },
     "metadata": {},
     "output_type": "display_data"
    }
   ],
   "source": [
    "file <-\"/home/vagrant/git/UW_DataScience/Q3/HW03/Bank Data.csv\"\n",
    "data <- read.csv(file, sep=\",\", header=TRUE)\n",
    "\n",
    "head(data, 3)\n",
    "dim(data)\n",
    "summary(data)"
   ]
  },
  {
   "cell_type": "code",
   "execution_count": 13,
   "metadata": {
    "collapsed": true
   },
   "outputs": [],
   "source": [
    "glm.full <- glm(pep ~ ., data = data, family = binomial)  #use all feaures\n",
    "glm.null <- glm(pep ~ 1, data = data, family = binomial)  #use one features"
   ]
  },
  {
   "cell_type": "code",
   "execution_count": 6,
   "metadata": {},
   "outputs": [
    {
     "data": {
      "text/plain": [
       "\n",
       " Deleted     Chi-Sq d.f. P      Residual d.f. P      AIC   \n",
       " car         0.03   1    0.8624 0.03     1    0.8624  -1.97\n",
       " current_act 0.09   1    0.7683 0.12     2    0.9433  -3.88\n",
       " age         0.22   1    0.6384 0.34     3    0.9528  -5.66\n",
       " region      2.45   3    0.4837 2.79     6    0.8346  -9.21\n",
       " mortgage    0.75   1    0.3860 3.54     7    0.8307 -10.46\n",
       " sex         2.17   1    0.1406 5.71     8    0.6793 -10.29\n",
       " children    3.22   1    0.0726 8.94     9    0.4431  -9.06\n",
       "\n",
       "Approximate Estimates after Deleting Factors\n",
       "\n",
       "                   Coef      S.E. Wald Z         P\n",
       "Intercept    -3.795e-01 2.470e-01 -1.536 1.245e-01\n",
       "income        4.286e-05 7.274e-06  5.892 3.826e-09\n",
       "married=YES  -8.276e-01 1.841e-01 -4.495 6.945e-06\n",
       "save_act=YES -6.344e-01 1.951e-01 -3.252 1.147e-03\n",
       "\n",
       "Factors in Final Model\n",
       "\n",
       "[1] income   married  save_act"
      ]
     },
     "metadata": {},
     "output_type": "display_data"
    }
   ],
   "source": [
    "library(rms)\n",
    "lrm.full <- rms::lrm(pep ~ ., data = data)\n",
    "fastbw(lrm.full, rule = \"p\", sls = 0.1)"
   ]
  },
  {
   "cell_type": "code",
   "execution_count": 7,
   "metadata": {},
   "outputs": [
    {
     "name": "stdout",
     "output_type": "stream",
     "text": [
      "Start:  AIC=780.71\n",
      "pep ~ age + sex + region + income + married + children + car + \n",
      "    save_act + current_act + mortgage\n",
      "\n",
      "              Df Deviance    AIC\n",
      "- region       3   757.16 777.16\n",
      "- car          1   754.74 778.74\n",
      "- current_act  1   754.80 778.80\n",
      "- age          1   754.95 778.95\n",
      "- mortgage     1   755.40 779.40\n",
      "<none>             754.71 780.71\n",
      "- sex          1   757.14 781.14\n",
      "- children     1   758.19 782.19\n",
      "- save_act     1   765.19 789.19\n",
      "- income       1   769.15 793.15\n",
      "- married      1   777.87 801.87\n",
      "\n",
      "Step:  AIC=777.16\n",
      "pep ~ age + sex + income + married + children + car + save_act + \n",
      "    current_act + mortgage\n",
      "\n",
      "              Df Deviance    AIC\n",
      "- car          1   757.17 775.17\n",
      "- current_act  1   757.29 775.29\n",
      "- age          1   757.41 775.41\n",
      "- mortgage     1   757.89 775.89\n",
      "<none>             757.16 777.16\n",
      "- sex          1   759.72 777.72\n",
      "- children     1   760.68 778.68\n",
      "- save_act     1   768.12 786.12\n",
      "- income       1   772.19 790.19\n",
      "- married      1   780.15 798.15\n",
      "\n",
      "Step:  AIC=775.17\n",
      "pep ~ age + sex + income + married + children + save_act + current_act + \n",
      "    mortgage\n",
      "\n",
      "              Df Deviance    AIC\n",
      "- current_act  1   757.29 773.29\n",
      "- age          1   757.42 773.42\n",
      "- mortgage     1   757.90 773.90\n",
      "<none>             757.17 775.17\n",
      "- sex          1   759.73 775.73\n",
      "- children     1   760.68 776.68\n",
      "- save_act     1   768.12 784.12\n",
      "- income       1   772.23 788.23\n",
      "- married      1   780.17 796.17\n",
      "\n",
      "Step:  AIC=773.29\n",
      "pep ~ age + sex + income + married + children + save_act + mortgage\n",
      "\n",
      "           Df Deviance    AIC\n",
      "- age       1   757.52 771.52\n",
      "- mortgage  1   758.05 772.05\n",
      "<none>          757.29 773.29\n",
      "- sex       1   759.82 773.82\n",
      "- children  1   760.81 774.81\n",
      "- save_act  1   768.17 782.17\n",
      "- income    1   772.63 786.63\n",
      "- married   1   780.53 794.53\n",
      "\n",
      "Step:  AIC=771.52\n",
      "pep ~ sex + income + married + children + save_act + mortgage\n",
      "\n",
      "           Df Deviance    AIC\n",
      "- mortgage  1   758.27 770.27\n",
      "<none>          757.52 771.52\n",
      "- sex       1   759.91 771.91\n",
      "- children  1   761.05 773.05\n",
      "- save_act  1   768.46 780.46\n",
      "- married   1   780.64 792.64\n",
      "- income    1   797.81 809.81\n",
      "\n",
      "Step:  AIC=770.27\n",
      "pep ~ sex + income + married + children + save_act\n",
      "\n",
      "           Df Deviance    AIC\n",
      "<none>          758.27 770.27\n",
      "- sex       1   760.48 770.48\n",
      "- children  1   761.58 771.58\n",
      "- save_act  1   769.26 779.26\n",
      "- married   1   781.19 791.19\n",
      "- income    1   798.67 808.67\n"
     ]
    }
   ],
   "source": [
    "model.aic.backward <- step(glm.full, direction = \"backward\", trace = 1)"
   ]
  },
  {
   "cell_type": "markdown",
   "metadata": {},
   "source": [
    "BAK: Ended up with  sex, income, married, childre,n, sav_acct; with an AIC of 770.27"
   ]
  },
  {
   "cell_type": "code",
   "execution_count": 8,
   "metadata": {},
   "outputs": [
    {
     "data": {
      "text/plain": [
       "\n",
       "Call:\n",
       "glm(formula = pep ~ sex + income + married + children + save_act, \n",
       "    family = binomial, data = data)\n",
       "\n",
       "Deviance Residuals: \n",
       "    Min       1Q   Median       3Q      Max  \n",
       "-1.9805  -1.0077  -0.6805   1.0877   1.9881  \n",
       "\n",
       "Coefficients:\n",
       "              Estimate Std. Error z value Pr(>|z|)    \n",
       "(Intercept) -3.772e-01  2.733e-01  -1.380 0.167454    \n",
       "sexMALE      2.587e-01  1.742e-01   1.485 0.137593    \n",
       "income       4.454e-05  7.280e-06   6.117 9.51e-10 ***\n",
       "marriedYES  -8.710e-01  1.843e-01  -4.726 2.29e-06 ***\n",
       "children    -1.504e-01  8.307e-02  -1.811 0.070129 .  \n",
       "save_actYES -6.406e-01  1.946e-01  -3.292 0.000993 ***\n",
       "---\n",
       "Signif. codes:  0 ‘***’ 0.001 ‘**’ 0.01 ‘*’ 0.05 ‘.’ 0.1 ‘ ’ 1\n",
       "\n",
       "(Dispersion parameter for binomial family taken to be 1)\n",
       "\n",
       "    Null deviance: 827.26  on 599  degrees of freedom\n",
       "Residual deviance: 758.27  on 594  degrees of freedom\n",
       "AIC: 770.27\n",
       "\n",
       "Number of Fisher Scoring iterations: 4\n"
      ]
     },
     "metadata": {},
     "output_type": "display_data"
    }
   ],
   "source": [
    "summary(model.aic.backward) #minum AIC is best"
   ]
  },
  {
   "cell_type": "markdown",
   "metadata": {},
   "source": [
    "BAK: \n",
    "- Ended up with  sex, income, married, childre,n, sav_acct; with an AIC of 770.27\n",
    "- 3-star sigs were income, marriedYES, sav_actYES\n",
    "     \n",
    "FWD: Ended up with  income, married, sav_acct, children, sav_act with an AIC of 770.27"
   ]
  },
  {
   "cell_type": "code",
   "execution_count": 9,
   "metadata": {},
   "outputs": [
    {
     "name": "stdout",
     "output_type": "stream",
     "text": [
      "Start:  AIC=829.26\n",
      "pep ~ 1\n",
      "\n",
      "              Df Deviance    AIC\n",
      "+ income       1   797.28 801.28\n",
      "+ married      1   805.67 809.67\n",
      "+ age          1   808.97 812.97\n",
      "+ save_act     1   824.09 828.09\n",
      "+ children     1   825.26 829.26\n",
      "<none>             827.26 829.26\n",
      "+ sex          1   825.95 829.95\n",
      "+ current_act  1   826.88 830.88\n",
      "+ mortgage     1   826.91 830.91\n",
      "+ car          1   827.05 831.05\n",
      "+ region       3   823.47 831.47\n",
      "\n",
      "Step:  AIC=801.28\n",
      "pep ~ income\n",
      "\n",
      "              Df Deviance    AIC\n",
      "+ married      1   774.99 780.99\n",
      "+ save_act     1   785.48 791.48\n",
      "+ children     1   794.53 800.53\n",
      "<none>             797.28 801.28\n",
      "+ sex          1   795.59 801.59\n",
      "+ mortgage     1   797.00 803.00\n",
      "+ current_act  1   797.08 803.08\n",
      "+ age          1   797.21 803.21\n",
      "+ car          1   797.28 803.28\n",
      "+ region       3   794.30 804.30\n",
      "\n",
      "Step:  AIC=780.99\n",
      "pep ~ income + married\n",
      "\n",
      "              Df Deviance    AIC\n",
      "+ save_act     1   763.83 771.83\n",
      "+ children     1   771.29 779.29\n",
      "+ sex          1   772.93 780.93\n",
      "<none>             774.99 780.99\n",
      "+ mortgage     1   774.58 782.58\n",
      "+ age          1   774.85 782.85\n",
      "+ current_act  1   774.96 782.96\n",
      "+ car          1   774.99 782.99\n",
      "+ region       3   771.82 783.82\n",
      "\n",
      "Step:  AIC=771.83\n",
      "pep ~ income + married + save_act\n",
      "\n",
      "              Df Deviance    AIC\n",
      "+ children     1   760.48 770.48\n",
      "+ sex          1   761.58 771.58\n",
      "<none>             763.83 771.83\n",
      "+ mortgage     1   763.44 773.44\n",
      "+ current_act  1   763.73 773.73\n",
      "+ age          1   763.73 773.73\n",
      "+ car          1   763.83 773.83\n",
      "+ region       3   761.18 775.18\n",
      "\n",
      "Step:  AIC=770.48\n",
      "pep ~ income + married + save_act + children\n",
      "\n",
      "              Df Deviance    AIC\n",
      "+ sex          1   758.27 770.27\n",
      "<none>             760.48 770.48\n",
      "+ mortgage     1   759.91 771.91\n",
      "+ current_act  1   760.39 772.39\n",
      "+ age          1   760.40 772.40\n",
      "+ car          1   760.48 772.48\n",
      "+ region       3   757.87 773.87\n",
      "\n",
      "Step:  AIC=770.27\n",
      "pep ~ income + married + save_act + children + sex\n",
      "\n",
      "              Df Deviance    AIC\n",
      "<none>             758.27 770.27\n",
      "+ mortgage     1   757.52 771.52\n",
      "+ age          1   758.05 772.05\n",
      "+ current_act  1   758.15 772.15\n",
      "+ car          1   758.27 772.27\n",
      "+ region       3   755.76 773.76\n"
     ]
    }
   ],
   "source": [
    "model.aic.forward <- step(glm.null, direction = \"forward\", trace = 1, \n",
    "                          scope = ~ age + sex + region + income + married + children + car + save_act +\n",
    "                            current_act + mortgage)"
   ]
  },
  {
   "cell_type": "markdown",
   "metadata": {},
   "source": [
    "BAK: \n",
    "- Ended up with  sex, income, married, childre,n, sav_acct; with an AIC of 770.27\n",
    "- 3-star sigs were income, marriedYES, sav_actYES\n",
    "     \n",
    "FWD: \n",
    "- Ended up with  income, married, sav_acct, children, sav_act with an AIC of 770.27"
   ]
  },
  {
   "cell_type": "code",
   "execution_count": 10,
   "metadata": {
    "scrolled": true
   },
   "outputs": [
    {
     "data": {
      "text/plain": [
       "\n",
       "Call:\n",
       "glm(formula = pep ~ income + married + save_act + children + \n",
       "    sex, family = binomial, data = data)\n",
       "\n",
       "Deviance Residuals: \n",
       "    Min       1Q   Median       3Q      Max  \n",
       "-1.9805  -1.0077  -0.6805   1.0877   1.9881  \n",
       "\n",
       "Coefficients:\n",
       "              Estimate Std. Error z value Pr(>|z|)    \n",
       "(Intercept) -3.772e-01  2.733e-01  -1.380 0.167454    \n",
       "income       4.454e-05  7.280e-06   6.117 9.51e-10 ***\n",
       "marriedYES  -8.710e-01  1.843e-01  -4.726 2.29e-06 ***\n",
       "save_actYES -6.406e-01  1.946e-01  -3.292 0.000993 ***\n",
       "children    -1.504e-01  8.307e-02  -1.811 0.070129 .  \n",
       "sexMALE      2.587e-01  1.742e-01   1.485 0.137593    \n",
       "---\n",
       "Signif. codes:  0 ‘***’ 0.001 ‘**’ 0.01 ‘*’ 0.05 ‘.’ 0.1 ‘ ’ 1\n",
       "\n",
       "(Dispersion parameter for binomial family taken to be 1)\n",
       "\n",
       "    Null deviance: 827.26  on 599  degrees of freedom\n",
       "Residual deviance: 758.27  on 594  degrees of freedom\n",
       "AIC: 770.27\n",
       "\n",
       "Number of Fisher Scoring iterations: 4\n"
      ]
     },
     "metadata": {},
     "output_type": "display_data"
    }
   ],
   "source": [
    "summary(model.aic.forward)"
   ]
  },
  {
   "cell_type": "markdown",
   "metadata": {},
   "source": [
    "BAK: \n",
    "- Ended up with  sex, income, married, childre,n, sav_acct; with an AIC of 770.27\n",
    "- 3-star sigs were income, marriedYES, sav_actYES\n",
    "     \n",
    "FWD: \n",
    "- Ended up with  income, married, sav_acct, children, sav_act with an AIC of 770.27\n",
    "- 3-star sigs were income, marriedYES, sav_actYES"
   ]
  },
  {
   "cell_type": "code",
   "execution_count": 11,
   "metadata": {
    "scrolled": false
   },
   "outputs": [
    {
     "name": "stdout",
     "output_type": "stream",
     "text": [
      "Start:  AIC=829.26\n",
      "pep ~ 1\n",
      "\n",
      "              Df Deviance    AIC\n",
      "+ income       1   797.28 801.28\n",
      "+ married      1   805.67 809.67\n",
      "+ age          1   808.97 812.97\n",
      "+ save_act     1   824.09 828.09\n",
      "+ children     1   825.26 829.26\n",
      "<none>             827.26 829.26\n",
      "+ sex          1   825.95 829.95\n",
      "+ current_act  1   826.88 830.88\n",
      "+ mortgage     1   826.91 830.91\n",
      "+ car          1   827.05 831.05\n",
      "+ region       3   823.47 831.47\n",
      "\n",
      "Step:  AIC=801.28\n",
      "pep ~ income\n",
      "\n",
      "              Df Deviance    AIC\n",
      "+ married      1   774.99 780.99\n",
      "+ save_act     1   785.48 791.48\n",
      "+ children     1   794.53 800.53\n",
      "<none>             797.28 801.28\n",
      "+ sex          1   795.59 801.59\n",
      "+ mortgage     1   797.00 803.00\n",
      "+ current_act  1   797.08 803.08\n",
      "+ age          1   797.21 803.21\n",
      "+ car          1   797.28 803.28\n",
      "+ region       3   794.30 804.30\n",
      "- income       1   827.26 829.26\n",
      "\n",
      "Step:  AIC=780.99\n",
      "pep ~ income + married\n",
      "\n",
      "              Df Deviance    AIC\n",
      "+ save_act     1   763.83 771.83\n",
      "+ children     1   771.29 779.29\n",
      "+ sex          1   772.93 780.93\n",
      "<none>             774.99 780.99\n",
      "+ mortgage     1   774.58 782.58\n",
      "+ age          1   774.85 782.85\n",
      "+ current_act  1   774.96 782.96\n",
      "+ car          1   774.99 782.99\n",
      "+ region       3   771.82 783.82\n",
      "- married      1   797.28 801.28\n",
      "- income       1   805.67 809.67\n",
      "\n",
      "Step:  AIC=771.83\n",
      "pep ~ income + married + save_act\n",
      "\n",
      "              Df Deviance    AIC\n",
      "+ children     1   760.48 770.48\n",
      "+ sex          1   761.58 771.58\n",
      "<none>             763.83 771.83\n",
      "+ mortgage     1   763.44 773.44\n",
      "+ current_act  1   763.73 773.73\n",
      "+ age          1   763.73 773.73\n",
      "+ car          1   763.83 773.83\n",
      "+ region       3   761.18 775.18\n",
      "- save_act     1   774.99 780.99\n",
      "- married      1   785.48 791.48\n",
      "- income       1   802.85 808.85\n",
      "\n",
      "Step:  AIC=770.48\n",
      "pep ~ income + married + save_act + children\n",
      "\n",
      "              Df Deviance    AIC\n",
      "+ sex          1   758.27 770.27\n",
      "<none>             760.48 770.48\n",
      "- children     1   763.83 771.83\n",
      "+ mortgage     1   759.91 771.91\n",
      "+ current_act  1   760.39 772.39\n",
      "+ age          1   760.40 772.40\n",
      "+ car          1   760.48 772.48\n",
      "+ region       3   757.87 773.87\n",
      "- save_act     1   771.29 779.29\n",
      "- married      1   783.01 791.01\n",
      "- income       1   800.27 808.27\n",
      "\n",
      "Step:  AIC=770.27\n",
      "pep ~ income + married + save_act + children + sex\n",
      "\n",
      "              Df Deviance    AIC\n",
      "<none>             758.27 770.27\n",
      "- sex          1   760.48 770.48\n",
      "+ mortgage     1   757.52 771.52\n",
      "- children     1   761.58 771.58\n",
      "+ age          1   758.05 772.05\n",
      "+ current_act  1   758.15 772.15\n",
      "+ car          1   758.27 772.27\n",
      "+ region       3   755.76 773.76\n",
      "- save_act     1   769.26 779.26\n",
      "- married      1   781.19 791.19\n",
      "- income       1   798.67 808.67\n"
     ]
    }
   ],
   "source": [
    "model.aic.both <- step(glm.null, direction = \"both\", trace = 1, \n",
    "                       scope = ~ age + sex + region + income + married + children + car + save_act +\n",
    "                         current_act + mortgage)"
   ]
  },
  {
   "cell_type": "markdown",
   "metadata": {},
   "source": [
    "BAK: \n",
    "- Ended up with  sex, income, married, childre,n, sav_acct; with an AIC of 770.27\n",
    "- 3-star sigs were income, marriedYES, sav_actYES\n",
    "     \n",
    "FWD: \n",
    "- Ended up with  income, married, sav_acct, children, sav_act with an AIC of 770.27\n",
    "- 3-star sigs were income, marriedYES, sav_actYES\n",
    "\n",
    "BOTH:\n",
    "- Ended up with income, married, sav_act, children, sex with an AIC of 770.27\n",
    "- "
   ]
  },
  {
   "cell_type": "code",
   "execution_count": 12,
   "metadata": {},
   "outputs": [
    {
     "data": {
      "text/plain": [
       "\n",
       "Call:\n",
       "glm(formula = pep ~ income + married + save_act + children + \n",
       "    sex, family = binomial, data = data)\n",
       "\n",
       "Deviance Residuals: \n",
       "    Min       1Q   Median       3Q      Max  \n",
       "-1.9805  -1.0077  -0.6805   1.0877   1.9881  \n",
       "\n",
       "Coefficients:\n",
       "              Estimate Std. Error z value Pr(>|z|)    \n",
       "(Intercept) -3.772e-01  2.733e-01  -1.380 0.167454    \n",
       "income       4.454e-05  7.280e-06   6.117 9.51e-10 ***\n",
       "marriedYES  -8.710e-01  1.843e-01  -4.726 2.29e-06 ***\n",
       "save_actYES -6.406e-01  1.946e-01  -3.292 0.000993 ***\n",
       "children    -1.504e-01  8.307e-02  -1.811 0.070129 .  \n",
       "sexMALE      2.587e-01  1.742e-01   1.485 0.137593    \n",
       "---\n",
       "Signif. codes:  0 ‘***’ 0.001 ‘**’ 0.01 ‘*’ 0.05 ‘.’ 0.1 ‘ ’ 1\n",
       "\n",
       "(Dispersion parameter for binomial family taken to be 1)\n",
       "\n",
       "    Null deviance: 827.26  on 599  degrees of freedom\n",
       "Residual deviance: 758.27  on 594  degrees of freedom\n",
       "AIC: 770.27\n",
       "\n",
       "Number of Fisher Scoring iterations: 4\n"
      ]
     },
     "metadata": {},
     "output_type": "display_data"
    }
   ],
   "source": [
    "summary(model.aic.both)"
   ]
  },
  {
   "cell_type": "markdown",
   "metadata": {},
   "source": [
    "BAK: \n",
    "- Ended up with  sex, income, married, childre,n, sav_acct; with an AIC of 770.27\n",
    "- 3-star sigs were income, marriedYES, sav_actYES\n",
    "     \n",
    "FWD: \n",
    "- Ended up with  income, married, sav_acct, children, sav_act with an AIC of 770.27\n",
    "- 3-star sigs were income, marriedYES, sav_actYES\n",
    "\n",
    "BOTH:\n",
    "- Ended up with income, married, sav_act, children, sex with an AIC of 770.27\n",
    "- 3-star sigs were income, marriedYES, sav_actYES"
   ]
  },
  {
   "cell_type": "code",
   "execution_count": 23,
   "metadata": {},
   "outputs": [
    {
     "data": {
      "text/html": [
       "<ol class=list-inline>\n",
       "\t<li>YES</li>\n",
       "\t<li>NO</li>\n",
       "\t<li>NO</li>\n",
       "\t<li>NO</li>\n",
       "\t<li>NO</li>\n",
       "\t<li>YES</li>\n",
       "</ol>\n",
       "\n",
       "<details>\n",
       "\t<summary style=display:list-item;cursor:pointer>\n",
       "\t\t<strong>Levels</strong>:\n",
       "\t</summary>\n",
       "\t<ol class=list-inline>\n",
       "\t\t<li>'NO'</li>\n",
       "\t\t<li>'YES'</li>\n",
       "\t</ol>\n",
       "</details>"
      ],
      "text/latex": [
       "\\begin{enumerate*}\n",
       "\\item YES\n",
       "\\item NO\n",
       "\\item NO\n",
       "\\item NO\n",
       "\\item NO\n",
       "\\item YES\n",
       "\\end{enumerate*}\n",
       "\n",
       "\\emph{Levels}: \\begin{enumerate*}\n",
       "\\item 'NO'\n",
       "\\item 'YES'\n",
       "\\end{enumerate*}\n"
      ],
      "text/markdown": [
       "1. YES\n",
       "2. NO\n",
       "3. NO\n",
       "4. NO\n",
       "5. NO\n",
       "6. YES\n",
       "\n",
       "\n",
       "\n",
       "**Levels**: 1. 'NO'\n",
       "2. 'YES'\n",
       "\n",
       "\n"
      ],
      "text/plain": [
       "[1] YES NO  NO  NO  NO  YES\n",
       "Levels: NO YES"
      ]
     },
     "metadata": {},
     "output_type": "display_data"
    }
   ],
   "source": [
    "head(data[,11])"
   ]
  },
  {
   "cell_type": "code",
   "execution_count": 17,
   "metadata": {},
   "outputs": [
    {
     "data": {
      "text/plain": [
       "14 x 1 sparse Matrix of class \"dgCMatrix\"\n",
       "                          s0\n",
       "(Intercept)    -4.479324e-01\n",
       "(Intercept)     .           \n",
       "age             .           \n",
       "sexMALE         .           \n",
       "regionRURAL     .           \n",
       "regionSUBURBAN  .           \n",
       "regionTOWN      .           \n",
       "income          1.918899e-05\n",
       "marriedYES     -3.784711e-01\n",
       "children        .           \n",
       "carYES          .           \n",
       "save_actYES    -1.010380e-02\n",
       "current_actYES  .           \n",
       "mortgageYES     .           "
      ]
     },
     "metadata": {},
     "output_type": "display_data"
    }
   ],
   "source": [
    "library(glmnet)\n",
    "X <- model.matrix(pep ~ ., data=data)\n",
    "fit.lasso <- glmnet(X, data[,11], family=\"binomial\", alpha = 1, lambda=0.05)\n",
    "coef(fit.lasso)"
   ]
  },
  {
   "cell_type": "code",
   "execution_count": 19,
   "metadata": {},
   "outputs": [
    {
     "data": {
      "text/plain": [
       "14 x 1 sparse Matrix of class \"dgCMatrix\"\n",
       "                          s0\n",
       "(Intercept)    -2.310836e-01\n",
       "(Intercept)     .           \n",
       "age             1.099543e-03\n",
       "sexMALE         9.096987e-03\n",
       "regionRURAL     4.780932e-03\n",
       "regionSUBURBAN  1.919740e-02\n",
       "regionTOWN     -1.202407e-02\n",
       "income          1.595837e-06\n",
       "marriedYES     -3.798823e-02\n",
       "children       -5.273333e-03\n",
       "carYES          3.397404e-03\n",
       "save_actYES    -1.570913e-02\n",
       "current_actYES  5.449910e-03\n",
       "mortgageYES    -4.836621e-03"
      ]
     },
     "metadata": {},
     "output_type": "display_data"
    }
   ],
   "source": [
    "fit.ridge <- glmnet(X, data[,11], family=\"binomial\", alpha = 0, lambda=5)\n",
    "coef(fit.ridge)"
   ]
  },
  {
   "cell_type": "code",
   "execution_count": null,
   "metadata": {
    "collapsed": true
   },
   "outputs": [],
   "source": [
    "\n",
    "\n",
    "\n"
   ]
  }
 ],
 "metadata": {
  "kernelspec": {
   "display_name": "R",
   "language": "R",
   "name": "ir"
  },
  "language_info": {
   "codemirror_mode": "r",
   "file_extension": ".r",
   "mimetype": "text/x-r-source",
   "name": "R",
   "pygments_lexer": "r",
   "version": "3.2.3"
  }
 },
 "nbformat": 4,
 "nbformat_minor": 2
}

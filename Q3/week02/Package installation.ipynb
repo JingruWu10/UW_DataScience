{
 "cells": [
  {
   "cell_type": "code",
   "execution_count": 1,
   "metadata": {},
   "outputs": [
    {
     "name": "stderr",
     "output_type": "stream",
     "text": [
      "Installing package into ‘/home/nbuser/R’\n",
      "(as ‘lib’ is unspecified)\n"
     ]
    }
   ],
   "source": [
    "install.packages(\"devtools\")"
   ]
  },
  {
   "cell_type": "code",
   "execution_count": 2,
   "metadata": {},
   "outputs": [
    {
     "data": {
      "text/plain": [
       "               _                           \n",
       "platform       x86_64-pc-linux-gnu         \n",
       "arch           x86_64                      \n",
       "os             linux-gnu                   \n",
       "system         x86_64, linux-gnu           \n",
       "status                                     \n",
       "major          3                           \n",
       "minor          4.1                         \n",
       "year           2017                        \n",
       "month          06                          \n",
       "day            30                          \n",
       "svn rev        72865                       \n",
       "language       R                           \n",
       "version.string R version 3.4.1 (2017-06-30)\n",
       "nickname       Single Candle               "
      ]
     },
     "metadata": {},
     "output_type": "display_data"
    }
   ],
   "source": [
    "R.version"
   ]
  },
  {
   "cell_type": "code",
   "execution_count": 1,
   "metadata": {},
   "outputs": [
    {
     "name": "stderr",
     "output_type": "stream",
     "text": [
      "Warning message:\n",
      "“package ‘caret’ was built under R version 3.4.4”"
     ]
    },
    {
     "ename": "ERROR",
     "evalue": "Error: package ‘caret’ was built for x86_64-w64-mingw32\n",
     "output_type": "error",
     "traceback": [
      "Error: package ‘caret’ was built for x86_64-w64-mingw32\nTraceback:\n",
      "1. library(caret)",
      "2. testRversion(pkgInfo, package, pkgpath)",
      "3. stop(gettextf(\"package %s was built for %s\", sQuote(pkgname), \n .     platform), call. = FALSE, domain = NA)"
     ]
    }
   ],
   "source": [
    "library(caret)"
   ]
  },
  {
   "cell_type": "code",
   "execution_count": 3,
   "metadata": {},
   "outputs": [
    {
     "name": "stderr",
     "output_type": "stream",
     "text": [
      "Downloading GitHub repo topepo/caret@master\n",
      "from URL https://api.github.com/repos/topepo/caret/zipball/master\n",
      "Installing caret\n",
      "Installing recipes\n",
      "Installing broom\n",
      "Installing psych\n",
      "'/opt/microsoft/ropen/3.4.1/lib64/R/bin/R' --no-site-file --no-environ  \\\n",
      "  --no-save --no-restore --quiet CMD INSTALL  \\\n",
      "  '/tmp/RtmpiYPGSe/devtools401fe51dd6/psych' --library='/home/nbuser/R'  \\\n",
      "  --install-tests \n",
      "\n",
      "Installing tidyr\n",
      "Installing Rcpp\n",
      "'/opt/microsoft/ropen/3.4.1/lib64/R/bin/R' --no-site-file --no-environ  \\\n",
      "  --no-save --no-restore --quiet CMD INSTALL  \\\n",
      "  '/tmp/RtmpiYPGSe/devtools4077ef68dd/Rcpp' --library='/home/nbuser/R'  \\\n",
      "  --install-tests \n",
      "\n",
      "Installing rlang\n",
      "'/opt/microsoft/ropen/3.4.1/lib64/R/bin/R' --no-site-file --no-environ  \\\n",
      "  --no-save --no-restore --quiet CMD INSTALL  \\\n",
      "  '/tmp/RtmpiYPGSe/devtools40346d8430/rlang' --library='/home/nbuser/R'  \\\n",
      "  --install-tests \n",
      "\n",
      "Installing tibble\n",
      "Installing pillar\n",
      "'/opt/microsoft/ropen/3.4.1/lib64/R/bin/R' --no-site-file --no-environ  \\\n",
      "  --no-save --no-restore --quiet CMD INSTALL  \\\n",
      "  '/tmp/RtmpiYPGSe/devtools405b3f3cfb/pillar' --library='/home/nbuser/R'  \\\n",
      "  --install-tests \n",
      "\n",
      "'/opt/microsoft/ropen/3.4.1/lib64/R/bin/R' --no-site-file --no-environ  \\\n",
      "  --no-save --no-restore --quiet CMD INSTALL  \\\n",
      "  '/tmp/RtmpiYPGSe/devtools407405f596/tibble' --library='/home/nbuser/R'  \\\n",
      "  --install-tests \n",
      "\n",
      "Installing tidyselect\n",
      "'/opt/microsoft/ropen/3.4.1/lib64/R/bin/R' --no-site-file --no-environ  \\\n",
      "  --no-save --no-restore --quiet CMD INSTALL  \\\n",
      "  '/tmp/RtmpiYPGSe/devtools40107d9946/tidyselect' --library='/home/nbuser/R'  \\\n",
      "  --install-tests \n",
      "\n",
      "'/opt/microsoft/ropen/3.4.1/lib64/R/bin/R' --no-site-file --no-environ  \\\n",
      "  --no-save --no-restore --quiet CMD INSTALL  \\\n",
      "  '/tmp/RtmpiYPGSe/devtools405e1ef111/tidyr' --library='/home/nbuser/R'  \\\n",
      "  --install-tests \n",
      "\n",
      "'/opt/microsoft/ropen/3.4.1/lib64/R/bin/R' --no-site-file --no-environ  \\\n",
      "  --no-save --no-restore --quiet CMD INSTALL  \\\n",
      "  '/tmp/RtmpiYPGSe/devtools407bdb20d0/broom' --library='/home/nbuser/R'  \\\n",
      "  --install-tests \n",
      "\n",
      "Installing ddalpha\n",
      "Installing BH\n",
      "'/opt/microsoft/ropen/3.4.1/lib64/R/bin/R' --no-site-file --no-environ  \\\n",
      "  --no-save --no-restore --quiet CMD INSTALL  \\\n",
      "  '/tmp/RtmpiYPGSe/devtools4037206d3e/BH' --library='/home/nbuser/R'  \\\n",
      "  --install-tests \n",
      "\n",
      "Installing sfsmisc\n",
      "'/opt/microsoft/ropen/3.4.1/lib64/R/bin/R' --no-site-file --no-environ  \\\n",
      "  --no-save --no-restore --quiet CMD INSTALL  \\\n",
      "  '/tmp/RtmpiYPGSe/devtools406fda9472/sfsmisc' --library='/home/nbuser/R'  \\\n",
      "  --install-tests \n",
      "\n",
      "'/opt/microsoft/ropen/3.4.1/lib64/R/bin/R' --no-site-file --no-environ  \\\n",
      "  --no-save --no-restore --quiet CMD INSTALL  \\\n",
      "  '/tmp/RtmpiYPGSe/devtools4049787644/ddalpha' --library='/home/nbuser/R'  \\\n",
      "  --install-tests \n",
      "\n",
      "Installation failed: Command failed (1)\n",
      "Installing lubridate\n",
      "'/opt/microsoft/ropen/3.4.1/lib64/R/bin/R' --no-site-file --no-environ  \\\n",
      "  --no-save --no-restore --quiet CMD INSTALL  \\\n",
      "  '/tmp/RtmpiYPGSe/devtools40284bf68/lubridate' --library='/home/nbuser/R'  \\\n",
      "  --install-tests \n",
      "\n",
      "Installation failed: Command failed (1)\n",
      "Skipping install of 'rlang' from a cran remote, the SHA1 (0.2.0) has not changed since last install.\n",
      "  Use `force = TRUE` to force installation\n",
      "Skipping install of 'tibble' from a cran remote, the SHA1 (1.4.2) has not changed since last install.\n",
      "  Use `force = TRUE` to force installation\n",
      "Skipping install of 'tidyselect' from a cran remote, the SHA1 (0.2.4) has not changed since last install.\n",
      "  Use `force = TRUE` to force installation\n",
      "Installing timeDate\n",
      "'/opt/microsoft/ropen/3.4.1/lib64/R/bin/R' --no-site-file --no-environ  \\\n",
      "  --no-save --no-restore --quiet CMD INSTALL  \\\n",
      "  '/tmp/RtmpiYPGSe/devtools4041dbfe37/timeDate' --library='/home/nbuser/R'  \\\n",
      "  --install-tests \n",
      "\n",
      "'/opt/microsoft/ropen/3.4.1/lib64/R/bin/R' --no-site-file --no-environ  \\\n",
      "  --no-save --no-restore --quiet CMD INSTALL  \\\n",
      "  '/tmp/RtmpiYPGSe/devtools40122d9770/recipes' --library='/home/nbuser/R'  \\\n",
      "  --install-tests \n",
      "\n",
      "Installation failed: Command failed (1)\n",
      "'/opt/microsoft/ropen/3.4.1/lib64/R/bin/R' --no-site-file --no-environ  \\\n",
      "  --no-save --no-restore --quiet CMD INSTALL  \\\n",
      "  '/tmp/RtmpiYPGSe/devtools407e648675/topepo-caret-63c51c1/pkg/caret'  \\\n",
      "  --library='/home/nbuser/R' --install-tests \n",
      "\n",
      "Installation failed: Command failed (1)\n"
     ]
    }
   ],
   "source": [
    "devtools::install_github('topepo/caret/pkg/caret')"
   ]
  },
  {
   "cell_type": "code",
   "execution_count": null,
   "metadata": {},
   "outputs": [],
   "source": []
  }
 ],
 "metadata": {
  "kernelspec": {
   "display_name": "R",
   "language": "R",
   "name": "r"
  },
  "language_info": {
   "codemirror_mode": "r",
   "file_extension": ".r",
   "mimetype": "text/x-r-source",
   "name": "R",
   "pygments_lexer": "r",
   "version": "3.4.1"
  }
 },
 "nbformat": 4,
 "nbformat_minor": 2
}

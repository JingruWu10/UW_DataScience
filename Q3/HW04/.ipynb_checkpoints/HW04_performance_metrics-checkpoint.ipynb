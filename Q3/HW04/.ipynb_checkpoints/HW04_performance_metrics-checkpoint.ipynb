{
 "cells": [
  {
   "cell_type": "markdown",
   "metadata": {},
   "source": [
    "# Needs a Informative Title\n",
    "_... as well as a witty tagline_"
   ]
  },
  {
   "cell_type": "markdown",
   "metadata": {},
   "source": [
    "#### Data Science 420 BB\n",
    "#### University of Washington Professional & Continuing Education\n",
    "#### Homework 3: Ensemble Models for Targeted Marketing Campaigns\n",
    "#### Leo Salemann, 5/15/18"
   ]
  },
  {
   "cell_type": "markdown",
   "metadata": {},
   "source": [
    "# Load & Summmarize Data"
   ]
  },
  {
   "cell_type": "code",
   "execution_count": 1,
   "metadata": {},
   "outputs": [],
   "source": [
    "mainDF <- read.csv(\"http://archive.ics.uci.edu/ml/machine-learning-databases/breast-cancer-wisconsin/wdbc.data\",\n",
    "              header = FALSE)"
   ]
  },
  {
   "cell_type": "code",
   "execution_count": 2,
   "metadata": {
    "collapsed": true
   },
   "outputs": [],
   "source": [
    "prelim_colnames <- c(\"ID\",\"Diagnosis\")"
   ]
  },
  {
   "cell_type": "code",
   "execution_count": 3,
   "metadata": {
    "collapsed": true
   },
   "outputs": [],
   "source": [
    "main_colnames <- c(\"radius\",\"texture\",\"perimeter\",\"area\",\"smoothness\",\"compactness\",\"concavity\",\n",
    "                     \"concave_pts\",\"symmetry\",\"fractal_dim\")"
   ]
  },
  {
   "cell_type": "code",
   "execution_count": 4,
   "metadata": {},
   "outputs": [],
   "source": [
    "mean_colnames  <- paste(\"mean_\", main_colnames, sep=\"\")\n",
    "se_colnames    <- paste(\"se_\", main_colnames, sep=\"\")\n",
    "worst_colnames <- paste(\"worst_\", main_colnames, sep=\"\")"
   ]
  },
  {
   "cell_type": "code",
   "execution_count": 5,
   "metadata": {},
   "outputs": [],
   "source": [
    "colnames(mainDF) <- c(prelim_colnames, mean_colnames, se_colnames, worst_colnames)"
   ]
  },
  {
   "cell_type": "code",
   "execution_count": 6,
   "metadata": {},
   "outputs": [
    {
     "data": {
      "text/html": [
       "<table>\n",
       "<thead><tr><th scope=col>ID</th><th scope=col>Diagnosis</th><th scope=col>mean_radius</th><th scope=col>mean_texture</th><th scope=col>mean_perimeter</th><th scope=col>mean_area</th><th scope=col>mean_smoothness</th><th scope=col>mean_compactness</th><th scope=col>mean_concavity</th><th scope=col>mean_concave_pts</th><th scope=col>⋯</th><th scope=col>worst_radius</th><th scope=col>worst_texture</th><th scope=col>worst_perimeter</th><th scope=col>worst_area</th><th scope=col>worst_smoothness</th><th scope=col>worst_compactness</th><th scope=col>worst_concavity</th><th scope=col>worst_concave_pts</th><th scope=col>worst_symmetry</th><th scope=col>worst_fractal_dim</th></tr></thead>\n",
       "<tbody>\n",
       "\t<tr><td>  842302</td><td>M       </td><td>17.99   </td><td>10.38   </td><td>122.8   </td><td>1001    </td><td>0.11840 </td><td>0.27760 </td><td>0.3001  </td><td>0.14710 </td><td>⋯       </td><td>25.38   </td><td>17.33   </td><td>184.6   </td><td>2019    </td><td>0.1622  </td><td>0.6656  </td><td>0.7119  </td><td>0.2654  </td><td>0.4601  </td><td>0.11890 </td></tr>\n",
       "\t<tr><td>  842517</td><td>M       </td><td>20.57   </td><td>17.77   </td><td>132.9   </td><td>1326    </td><td>0.08474 </td><td>0.07864 </td><td>0.0869  </td><td>0.07017 </td><td>⋯       </td><td>24.99   </td><td>23.41   </td><td>158.8   </td><td>1956    </td><td>0.1238  </td><td>0.1866  </td><td>0.2416  </td><td>0.1860  </td><td>0.2750  </td><td>0.08902 </td></tr>\n",
       "\t<tr><td>84300903</td><td>M       </td><td>19.69   </td><td>21.25   </td><td>130.0   </td><td>1203    </td><td>0.10960 </td><td>0.15990 </td><td>0.1974  </td><td>0.12790 </td><td>⋯       </td><td>23.57   </td><td>25.53   </td><td>152.5   </td><td>1709    </td><td>0.1444  </td><td>0.4245  </td><td>0.4504  </td><td>0.2430  </td><td>0.3613  </td><td>0.08758 </td></tr>\n",
       "</tbody>\n",
       "</table>\n"
      ],
      "text/latex": [
       "\\begin{tabular}{r|llllllllllllllllllllllllllllllll}\n",
       " ID & Diagnosis & mean\\_radius & mean\\_texture & mean\\_perimeter & mean\\_area & mean\\_smoothness & mean\\_compactness & mean\\_concavity & mean\\_concave\\_pts & ⋯ & worst\\_radius & worst\\_texture & worst\\_perimeter & worst\\_area & worst\\_smoothness & worst\\_compactness & worst\\_concavity & worst\\_concave\\_pts & worst\\_symmetry & worst\\_fractal\\_dim\\\\\n",
       "\\hline\n",
       "\t   842302 & M        & 17.99    & 10.38    & 122.8    & 1001     & 0.11840  & 0.27760  & 0.3001   & 0.14710  & ⋯        & 25.38    & 17.33    & 184.6    & 2019     & 0.1622   & 0.6656   & 0.7119   & 0.2654   & 0.4601   & 0.11890 \\\\\n",
       "\t   842517 & M        & 20.57    & 17.77    & 132.9    & 1326     & 0.08474  & 0.07864  & 0.0869   & 0.07017  & ⋯        & 24.99    & 23.41    & 158.8    & 1956     & 0.1238   & 0.1866   & 0.2416   & 0.1860   & 0.2750   & 0.08902 \\\\\n",
       "\t 84300903 & M        & 19.69    & 21.25    & 130.0    & 1203     & 0.10960  & 0.15990  & 0.1974   & 0.12790  & ⋯        & 23.57    & 25.53    & 152.5    & 1709     & 0.1444   & 0.4245   & 0.4504   & 0.2430   & 0.3613   & 0.08758 \\\\\n",
       "\\end{tabular}\n"
      ],
      "text/markdown": [
       "\n",
       "ID | Diagnosis | mean_radius | mean_texture | mean_perimeter | mean_area | mean_smoothness | mean_compactness | mean_concavity | mean_concave_pts | ⋯ | worst_radius | worst_texture | worst_perimeter | worst_area | worst_smoothness | worst_compactness | worst_concavity | worst_concave_pts | worst_symmetry | worst_fractal_dim | \n",
       "|---|---|---|\n",
       "|   842302 | M        | 17.99    | 10.38    | 122.8    | 1001     | 0.11840  | 0.27760  | 0.3001   | 0.14710  | ⋯        | 25.38    | 17.33    | 184.6    | 2019     | 0.1622   | 0.6656   | 0.7119   | 0.2654   | 0.4601   | 0.11890  | \n",
       "|   842517 | M        | 20.57    | 17.77    | 132.9    | 1326     | 0.08474  | 0.07864  | 0.0869   | 0.07017  | ⋯        | 24.99    | 23.41    | 158.8    | 1956     | 0.1238   | 0.1866   | 0.2416   | 0.1860   | 0.2750   | 0.08902  | \n",
       "| 84300903 | M        | 19.69    | 21.25    | 130.0    | 1203     | 0.10960  | 0.15990  | 0.1974   | 0.12790  | ⋯        | 23.57    | 25.53    | 152.5    | 1709     | 0.1444   | 0.4245   | 0.4504   | 0.2430   | 0.3613   | 0.08758  | \n",
       "\n",
       "\n"
      ],
      "text/plain": [
       "  ID       Diagnosis mean_radius mean_texture mean_perimeter mean_area\n",
       "1   842302 M         17.99       10.38        122.8          1001     \n",
       "2   842517 M         20.57       17.77        132.9          1326     \n",
       "3 84300903 M         19.69       21.25        130.0          1203     \n",
       "  mean_smoothness mean_compactness mean_concavity mean_concave_pts ⋯\n",
       "1 0.11840         0.27760          0.3001         0.14710          ⋯\n",
       "2 0.08474         0.07864          0.0869         0.07017          ⋯\n",
       "3 0.10960         0.15990          0.1974         0.12790          ⋯\n",
       "  worst_radius worst_texture worst_perimeter worst_area worst_smoothness\n",
       "1 25.38        17.33         184.6           2019       0.1622          \n",
       "2 24.99        23.41         158.8           1956       0.1238          \n",
       "3 23.57        25.53         152.5           1709       0.1444          \n",
       "  worst_compactness worst_concavity worst_concave_pts worst_symmetry\n",
       "1 0.6656            0.7119          0.2654            0.4601        \n",
       "2 0.1866            0.2416          0.1860            0.2750        \n",
       "3 0.4245            0.4504          0.2430            0.3613        \n",
       "  worst_fractal_dim\n",
       "1 0.11890          \n",
       "2 0.08902          \n",
       "3 0.08758          "
      ]
     },
     "metadata": {},
     "output_type": "display_data"
    }
   ],
   "source": [
    "head(mainDF,3)"
   ]
  },
  {
   "cell_type": "code",
   "execution_count": 7,
   "metadata": {},
   "outputs": [],
   "source": [
    "mainDF$ID = NULL"
   ]
  },
  {
   "cell_type": "code",
   "execution_count": 8,
   "metadata": {},
   "outputs": [
    {
     "data": {
      "text/html": [
       "<table>\n",
       "<thead><tr><th scope=col>Diagnosis</th><th scope=col>mean_radius</th><th scope=col>mean_texture</th><th scope=col>mean_perimeter</th><th scope=col>mean_area</th><th scope=col>mean_smoothness</th><th scope=col>mean_compactness</th><th scope=col>mean_concavity</th><th scope=col>mean_concave_pts</th><th scope=col>mean_symmetry</th><th scope=col>⋯</th><th scope=col>worst_radius</th><th scope=col>worst_texture</th><th scope=col>worst_perimeter</th><th scope=col>worst_area</th><th scope=col>worst_smoothness</th><th scope=col>worst_compactness</th><th scope=col>worst_concavity</th><th scope=col>worst_concave_pts</th><th scope=col>worst_symmetry</th><th scope=col>worst_fractal_dim</th></tr></thead>\n",
       "<tbody>\n",
       "\t<tr><td>M      </td><td>17.99  </td><td>10.38  </td><td>122.8  </td><td>1001   </td><td>0.11840</td><td>0.27760</td><td>0.3001 </td><td>0.14710</td><td>0.2419 </td><td>⋯      </td><td>25.38  </td><td>17.33  </td><td>184.6  </td><td>2019   </td><td>0.1622 </td><td>0.6656 </td><td>0.7119 </td><td>0.2654 </td><td>0.4601 </td><td>0.11890</td></tr>\n",
       "\t<tr><td>M      </td><td>20.57  </td><td>17.77  </td><td>132.9  </td><td>1326   </td><td>0.08474</td><td>0.07864</td><td>0.0869 </td><td>0.07017</td><td>0.1812 </td><td>⋯      </td><td>24.99  </td><td>23.41  </td><td>158.8  </td><td>1956   </td><td>0.1238 </td><td>0.1866 </td><td>0.2416 </td><td>0.1860 </td><td>0.2750 </td><td>0.08902</td></tr>\n",
       "\t<tr><td>M      </td><td>19.69  </td><td>21.25  </td><td>130.0  </td><td>1203   </td><td>0.10960</td><td>0.15990</td><td>0.1974 </td><td>0.12790</td><td>0.2069 </td><td>⋯      </td><td>23.57  </td><td>25.53  </td><td>152.5  </td><td>1709   </td><td>0.1444 </td><td>0.4245 </td><td>0.4504 </td><td>0.2430 </td><td>0.3613 </td><td>0.08758</td></tr>\n",
       "</tbody>\n",
       "</table>\n"
      ],
      "text/latex": [
       "\\begin{tabular}{r|lllllllllllllllllllllllllllllll}\n",
       " Diagnosis & mean\\_radius & mean\\_texture & mean\\_perimeter & mean\\_area & mean\\_smoothness & mean\\_compactness & mean\\_concavity & mean\\_concave\\_pts & mean\\_symmetry & ⋯ & worst\\_radius & worst\\_texture & worst\\_perimeter & worst\\_area & worst\\_smoothness & worst\\_compactness & worst\\_concavity & worst\\_concave\\_pts & worst\\_symmetry & worst\\_fractal\\_dim\\\\\n",
       "\\hline\n",
       "\t M       & 17.99   & 10.38   & 122.8   & 1001    & 0.11840 & 0.27760 & 0.3001  & 0.14710 & 0.2419  & ⋯       & 25.38   & 17.33   & 184.6   & 2019    & 0.1622  & 0.6656  & 0.7119  & 0.2654  & 0.4601  & 0.11890\\\\\n",
       "\t M       & 20.57   & 17.77   & 132.9   & 1326    & 0.08474 & 0.07864 & 0.0869  & 0.07017 & 0.1812  & ⋯       & 24.99   & 23.41   & 158.8   & 1956    & 0.1238  & 0.1866  & 0.2416  & 0.1860  & 0.2750  & 0.08902\\\\\n",
       "\t M       & 19.69   & 21.25   & 130.0   & 1203    & 0.10960 & 0.15990 & 0.1974  & 0.12790 & 0.2069  & ⋯       & 23.57   & 25.53   & 152.5   & 1709    & 0.1444  & 0.4245  & 0.4504  & 0.2430  & 0.3613  & 0.08758\\\\\n",
       "\\end{tabular}\n"
      ],
      "text/markdown": [
       "\n",
       "Diagnosis | mean_radius | mean_texture | mean_perimeter | mean_area | mean_smoothness | mean_compactness | mean_concavity | mean_concave_pts | mean_symmetry | ⋯ | worst_radius | worst_texture | worst_perimeter | worst_area | worst_smoothness | worst_compactness | worst_concavity | worst_concave_pts | worst_symmetry | worst_fractal_dim | \n",
       "|---|---|---|\n",
       "| M       | 17.99   | 10.38   | 122.8   | 1001    | 0.11840 | 0.27760 | 0.3001  | 0.14710 | 0.2419  | ⋯       | 25.38   | 17.33   | 184.6   | 2019    | 0.1622  | 0.6656  | 0.7119  | 0.2654  | 0.4601  | 0.11890 | \n",
       "| M       | 20.57   | 17.77   | 132.9   | 1326    | 0.08474 | 0.07864 | 0.0869  | 0.07017 | 0.1812  | ⋯       | 24.99   | 23.41   | 158.8   | 1956    | 0.1238  | 0.1866  | 0.2416  | 0.1860  | 0.2750  | 0.08902 | \n",
       "| M       | 19.69   | 21.25   | 130.0   | 1203    | 0.10960 | 0.15990 | 0.1974  | 0.12790 | 0.2069  | ⋯       | 23.57   | 25.53   | 152.5   | 1709    | 0.1444  | 0.4245  | 0.4504  | 0.2430  | 0.3613  | 0.08758 | \n",
       "\n",
       "\n"
      ],
      "text/plain": [
       "  Diagnosis mean_radius mean_texture mean_perimeter mean_area mean_smoothness\n",
       "1 M         17.99       10.38        122.8          1001      0.11840        \n",
       "2 M         20.57       17.77        132.9          1326      0.08474        \n",
       "3 M         19.69       21.25        130.0          1203      0.10960        \n",
       "  mean_compactness mean_concavity mean_concave_pts mean_symmetry ⋯ worst_radius\n",
       "1 0.27760          0.3001         0.14710          0.2419        ⋯ 25.38       \n",
       "2 0.07864          0.0869         0.07017          0.1812        ⋯ 24.99       \n",
       "3 0.15990          0.1974         0.12790          0.2069        ⋯ 23.57       \n",
       "  worst_texture worst_perimeter worst_area worst_smoothness worst_compactness\n",
       "1 17.33         184.6           2019       0.1622           0.6656           \n",
       "2 23.41         158.8           1956       0.1238           0.1866           \n",
       "3 25.53         152.5           1709       0.1444           0.4245           \n",
       "  worst_concavity worst_concave_pts worst_symmetry worst_fractal_dim\n",
       "1 0.7119          0.2654            0.4601         0.11890          \n",
       "2 0.2416          0.1860            0.2750         0.08902          \n",
       "3 0.4504          0.2430            0.3613         0.08758          "
      ]
     },
     "metadata": {},
     "output_type": "display_data"
    }
   ],
   "source": [
    "head(mainDF,3)"
   ]
  },
  {
   "cell_type": "markdown",
   "metadata": {},
   "source": [
    "**Since this is a medical data set, let's check for class imbalance. What is the ratio of Malignant diagnoses to the whole?**"
   ]
  },
  {
   "cell_type": "code",
   "execution_count": 9,
   "metadata": {},
   "outputs": [
    {
     "data": {
      "text/html": [
       "212"
      ],
      "text/latex": [
       "212"
      ],
      "text/markdown": [
       "212"
      ],
      "text/plain": [
       "[1] 212"
      ]
     },
     "metadata": {},
     "output_type": "display_data"
    },
    {
     "data": {
      "text/html": [
       "0.372583479789104"
      ],
      "text/latex": [
       "0.372583479789104"
      ],
      "text/markdown": [
       "0.372583479789104"
      ],
      "text/plain": [
       "[1] 0.3725835"
      ]
     },
     "metadata": {},
     "output_type": "display_data"
    }
   ],
   "source": [
    "nrow(mainDF[mainDF$Diagnosis == \"M\",])\n",
    "nrow(mainDF[mainDF$Diagnosis == \"M\",])/nrow(mainDF)"
   ]
  },
  {
   "cell_type": "markdown",
   "metadata": {},
   "source": [
    "**About 37%. Not too rare.**"
   ]
  },
  {
   "cell_type": "code",
   "execution_count": 10,
   "metadata": {
    "scrolled": true
   },
   "outputs": [
    {
     "name": "stdout",
     "output_type": "stream",
     "text": [
      "'data.frame':\t569 obs. of  31 variables:\n",
      " $ Diagnosis        : Factor w/ 2 levels \"B\",\"M\": 2 2 2 2 2 2 2 2 2 2 ...\n",
      " $ mean_radius      : num  18 20.6 19.7 11.4 20.3 ...\n",
      " $ mean_texture     : num  10.4 17.8 21.2 20.4 14.3 ...\n",
      " $ mean_perimeter   : num  122.8 132.9 130 77.6 135.1 ...\n",
      " $ mean_area        : num  1001 1326 1203 386 1297 ...\n",
      " $ mean_smoothness  : num  0.1184 0.0847 0.1096 0.1425 0.1003 ...\n",
      " $ mean_compactness : num  0.2776 0.0786 0.1599 0.2839 0.1328 ...\n",
      " $ mean_concavity   : num  0.3001 0.0869 0.1974 0.2414 0.198 ...\n",
      " $ mean_concave_pts : num  0.1471 0.0702 0.1279 0.1052 0.1043 ...\n",
      " $ mean_symmetry    : num  0.242 0.181 0.207 0.26 0.181 ...\n",
      " $ mean_fractal_dim : num  0.0787 0.0567 0.06 0.0974 0.0588 ...\n",
      " $ se_radius        : num  1.095 0.543 0.746 0.496 0.757 ...\n",
      " $ se_texture       : num  0.905 0.734 0.787 1.156 0.781 ...\n",
      " $ se_perimeter     : num  8.59 3.4 4.58 3.44 5.44 ...\n",
      " $ se_area          : num  153.4 74.1 94 27.2 94.4 ...\n",
      " $ se_smoothness    : num  0.0064 0.00522 0.00615 0.00911 0.01149 ...\n",
      " $ se_compactness   : num  0.049 0.0131 0.0401 0.0746 0.0246 ...\n",
      " $ se_concavity     : num  0.0537 0.0186 0.0383 0.0566 0.0569 ...\n",
      " $ se_concave_pts   : num  0.0159 0.0134 0.0206 0.0187 0.0188 ...\n",
      " $ se_symmetry      : num  0.03 0.0139 0.0225 0.0596 0.0176 ...\n",
      " $ se_fractal_dim   : num  0.00619 0.00353 0.00457 0.00921 0.00511 ...\n",
      " $ worst_radius     : num  25.4 25 23.6 14.9 22.5 ...\n",
      " $ worst_texture    : num  17.3 23.4 25.5 26.5 16.7 ...\n",
      " $ worst_perimeter  : num  184.6 158.8 152.5 98.9 152.2 ...\n",
      " $ worst_area       : num  2019 1956 1709 568 1575 ...\n",
      " $ worst_smoothness : num  0.162 0.124 0.144 0.21 0.137 ...\n",
      " $ worst_compactness: num  0.666 0.187 0.424 0.866 0.205 ...\n",
      " $ worst_concavity  : num  0.712 0.242 0.45 0.687 0.4 ...\n",
      " $ worst_concave_pts: num  0.265 0.186 0.243 0.258 0.163 ...\n",
      " $ worst_symmetry   : num  0.46 0.275 0.361 0.664 0.236 ...\n",
      " $ worst_fractal_dim: num  0.1189 0.089 0.0876 0.173 0.0768 ...\n"
     ]
    }
   ],
   "source": [
    "str(mainDF)"
   ]
  },
  {
   "cell_type": "code",
   "execution_count": 11,
   "metadata": {},
   "outputs": [
    {
     "data": {
      "text/html": [
       "<ol class=list-inline>\n",
       "\t<li>569</li>\n",
       "\t<li>31</li>\n",
       "</ol>\n"
      ],
      "text/latex": [
       "\\begin{enumerate*}\n",
       "\\item 569\n",
       "\\item 31\n",
       "\\end{enumerate*}\n"
      ],
      "text/markdown": [
       "1. 569\n",
       "2. 31\n",
       "\n",
       "\n"
      ],
      "text/plain": [
       "[1] 569  31"
      ]
     },
     "metadata": {},
     "output_type": "display_data"
    }
   ],
   "source": [
    "dim(mainDF)"
   ]
  },
  {
   "cell_type": "markdown",
   "metadata": {},
   "source": [
    "## Separate test & training data"
   ]
  },
  {
   "cell_type": "code",
   "execution_count": 12,
   "metadata": {},
   "outputs": [],
   "source": [
    "num_obs = nrow(mainDF)\n",
    "\n",
    "set.seed(42) \n",
    "\n",
    "index_shuffled <- sample(num_obs)\n",
    "training_ratio <- 0.8\n",
    "training_size <- round(num_obs * training_ratio)\n",
    "training_index <- index_shuffled[1:training_size]\n",
    "testing_index <- index_shuffled[(training_size+1):num_obs]\n",
    "training_data <- mainDF[training_index,]\n",
    "testing_data <- mainDF[testing_index,]"
   ]
  },
  {
   "cell_type": "code",
   "execution_count": 13,
   "metadata": {},
   "outputs": [
    {
     "data": {
      "text/html": [
       "0.372583479789104"
      ],
      "text/latex": [
       "0.372583479789104"
      ],
      "text/markdown": [
       "0.372583479789104"
      ],
      "text/plain": [
       "[1] 0.3725835"
      ]
     },
     "metadata": {},
     "output_type": "display_data"
    },
    {
     "data": {
      "text/html": [
       "0.373626373626374"
      ],
      "text/latex": [
       "0.373626373626374"
      ],
      "text/markdown": [
       "0.373626373626374"
      ],
      "text/plain": [
       "[1] 0.3736264"
      ]
     },
     "metadata": {},
     "output_type": "display_data"
    },
    {
     "data": {
      "text/html": [
       "0.368421052631579"
      ],
      "text/latex": [
       "0.368421052631579"
      ],
      "text/markdown": [
       "0.368421052631579"
      ],
      "text/plain": [
       "[1] 0.3684211"
      ]
     },
     "metadata": {},
     "output_type": "display_data"
    }
   ],
   "source": [
    "nrow(mainDF[mainDF$Diagnosis == \"M\",])/nrow(mainDF)\n",
    "nrow(training_data[training_data$Diagnosis == \"M\",])/nrow(training_data)\n",
    "nrow(testing_data[testing_data$Diagnosis == \"M\",])/nrow(testing_data)"
   ]
  },
  {
   "cell_type": "markdown",
   "metadata": {},
   "source": [
    "37% malignancies for all three data sets."
   ]
  },
  {
   "cell_type": "markdown",
   "metadata": {},
   "source": [
    "# Build a LASSO Model with Multiple Lamda's"
   ]
  },
  {
   "cell_type": "raw",
   "metadata": {},
   "source": [
    "glm.full <- glm(Diagnosis ~ ., data = training_data, family = binomial)  #use all feaures\n",
    "glm.null <- glm(Diagnosis ~ 2, data = training_data, family = binomial)  #use one features"
   ]
  },
  {
   "cell_type": "markdown",
   "metadata": {},
   "source": [
    "## Lambda = 0.01"
   ]
  },
  {
   "cell_type": "code",
   "execution_count": 14,
   "metadata": {},
   "outputs": [
    {
     "name": "stderr",
     "output_type": "stream",
     "text": [
      "Loading required package: Matrix\n",
      "Loading required package: foreach\n",
      "Loaded glmnet 2.0-16\n",
      "\n"
     ]
    }
   ],
   "source": [
    "library(glmnet)\n",
    "trainMAT <- model.matrix(Diagnosis ~ ., data=training_data)"
   ]
  },
  {
   "cell_type": "code",
   "execution_count": 15,
   "metadata": {
    "scrolled": true
   },
   "outputs": [
    {
     "data": {
      "text/plain": [
       "32 x 1 sparse Matrix of class \"dgCMatrix\"\n",
       "                           s0\n",
       "(Intercept)       -21.0124173\n",
       "(Intercept)         .        \n",
       "mean_radius         .        \n",
       "mean_texture        .        \n",
       "mean_perimeter      .        \n",
       "mean_area           .        \n",
       "mean_smoothness     .        \n",
       "mean_compactness    .        \n",
       "mean_concavity      .        \n",
       "mean_concave_pts   23.8523570\n",
       "mean_symmetry       .        \n",
       "mean_fractal_dim    .        \n",
       "se_radius           1.9752571\n",
       "se_texture          .        \n",
       "se_perimeter        .        \n",
       "se_area             .        \n",
       "se_smoothness       .        \n",
       "se_compactness      .        \n",
       "se_concavity        .        \n",
       "se_concave_pts      .        \n",
       "se_symmetry         .        \n",
       "se_fractal_dim    -28.8437188\n",
       "worst_radius        0.5843893\n",
       "worst_texture       0.1732275\n",
       "worst_perimeter     .        \n",
       "worst_area          .        \n",
       "worst_smoothness   13.6674371\n",
       "worst_compactness   .        \n",
       "worst_concavity     0.2985824\n",
       "worst_concave_pts  14.3031281\n",
       "worst_symmetry      3.5051026\n",
       "worst_fractal_dim   .        "
      ]
     },
     "metadata": {},
     "output_type": "display_data"
    }
   ],
   "source": [
    "fit.lasso.0.01 <- glmnet(trainMAT, training_data$Diagnosis, family=\"binomial\", alpha = 1, lambda=0.01)\n",
    "coef(fit.lasso.0.01)"
   ]
  },
  {
   "cell_type": "markdown",
   "metadata": {},
   "source": [
    "## Lambda = 0.5"
   ]
  },
  {
   "cell_type": "code",
   "execution_count": 16,
   "metadata": {},
   "outputs": [
    {
     "data": {
      "text/plain": [
       "32 x 1 sparse Matrix of class \"dgCMatrix\"\n",
       "                          s0\n",
       "(Intercept)       -0.5166907\n",
       "(Intercept)        0.0000000\n",
       "mean_radius        .        \n",
       "mean_texture       .        \n",
       "mean_perimeter     .        \n",
       "mean_area          .        \n",
       "mean_smoothness    .        \n",
       "mean_compactness   .        \n",
       "mean_concavity     .        \n",
       "mean_concave_pts   .        \n",
       "mean_symmetry      .        \n",
       "mean_fractal_dim   .        \n",
       "se_radius          .        \n",
       "se_texture         .        \n",
       "se_perimeter       .        \n",
       "se_area            .        \n",
       "se_smoothness      .        \n",
       "se_compactness     .        \n",
       "se_concavity       .        \n",
       "se_concave_pts     .        \n",
       "se_symmetry        .        \n",
       "se_fractal_dim     .        \n",
       "worst_radius       .        \n",
       "worst_texture      .        \n",
       "worst_perimeter    .        \n",
       "worst_area         .        \n",
       "worst_smoothness   .        \n",
       "worst_compactness  .        \n",
       "worst_concavity    .        \n",
       "worst_concave_pts  .        \n",
       "worst_symmetry     .        \n",
       "worst_fractal_dim  .        "
      ]
     },
     "metadata": {},
     "output_type": "display_data"
    }
   ],
   "source": [
    "fit.lasso.0.5 <- glmnet(trainMAT, training_data$Diagnosis, family=\"binomial\", alpha = 1, lambda=0.5)\n",
    "coef(fit.lasso.0.5)"
   ]
  },
  {
   "cell_type": "code",
   "execution_count": null,
   "metadata": {
    "collapsed": true
   },
   "outputs": [],
   "source": []
  },
  {
   "cell_type": "markdown",
   "metadata": {},
   "source": [
    "# Performance Metrics"
   ]
  },
  {
   "cell_type": "code",
   "execution_count": 61,
   "metadata": {
    "collapsed": true
   },
   "outputs": [],
   "source": [
    "testMOD <- model.matrix(Diagnosis ~ ., data=testing_data)\n",
    "pred_test <-predict(object=fit.lasso.0.01, newx=testMOD, s=0.01)"
   ]
  },
  {
   "cell_type": "code",
   "execution_count": 62,
   "metadata": {},
   "outputs": [],
   "source": [
    "pred_test[pred_test > 0.5] <- 1\n",
    "pred_test[pred_test <= 0.5] <- 0"
   ]
  },
  {
   "cell_type": "code",
   "execution_count": 72,
   "metadata": {},
   "outputs": [
    {
     "data": {
      "text/html": [
       "<table>\n",
       "<thead><tr><th></th><th scope=col>Diagnosis</th><th scope=col>mean_radius</th><th scope=col>mean_texture</th><th scope=col>mean_perimeter</th><th scope=col>mean_area</th><th scope=col>mean_smoothness</th><th scope=col>mean_compactness</th><th scope=col>mean_concavity</th><th scope=col>mean_concave_pts</th><th scope=col>mean_symmetry</th><th scope=col>⋯</th><th scope=col>worst_radius</th><th scope=col>worst_texture</th><th scope=col>worst_perimeter</th><th scope=col>worst_area</th><th scope=col>worst_smoothness</th><th scope=col>worst_compactness</th><th scope=col>worst_concavity</th><th scope=col>worst_concave_pts</th><th scope=col>worst_symmetry</th><th scope=col>worst_fractal_dim</th></tr></thead>\n",
       "<tbody>\n",
       "\t<tr><th scope=row>350</th><td>0      </td><td>11.95  </td><td>14.96  </td><td>77.23  </td><td>426.7  </td><td>0.11580</td><td>0.12060</td><td>0.01171</td><td>0.01787</td><td>0.2459 </td><td>⋯      </td><td>12.81  </td><td>17.72  </td><td>83.09  </td><td>496.2  </td><td>0.1293 </td><td>0.1885 </td><td>0.03122</td><td>0.04766</td><td>0.3124 </td><td>0.07590</td></tr>\n",
       "\t<tr><th scope=row>346</th><td>0      </td><td>10.26  </td><td>14.71  </td><td>66.20  </td><td>321.6  </td><td>0.09882</td><td>0.09159</td><td>0.03581</td><td>0.02037</td><td>0.1633 </td><td>⋯      </td><td>10.88  </td><td>19.48  </td><td>70.89  </td><td>357.1  </td><td>0.1360 </td><td>0.1636 </td><td>0.07162</td><td>0.04074</td><td>0.2434 </td><td>0.08488</td></tr>\n",
       "\t<tr><th scope=row>138</th><td>0      </td><td>11.43  </td><td>15.39  </td><td>73.06  </td><td>399.8  </td><td>0.09639</td><td>0.06889</td><td>0.03503</td><td>0.02875</td><td>0.1734 </td><td>⋯      </td><td>12.32  </td><td>22.02  </td><td>79.93  </td><td>462.0  </td><td>0.1190 </td><td>0.1648 </td><td>0.13990</td><td>0.08476</td><td>0.2676 </td><td>0.06765</td></tr>\n",
       "</tbody>\n",
       "</table>\n"
      ],
      "text/latex": [
       "\\begin{tabular}{r|lllllllllllllllllllllllllllllll}\n",
       "  & Diagnosis & mean\\_radius & mean\\_texture & mean\\_perimeter & mean\\_area & mean\\_smoothness & mean\\_compactness & mean\\_concavity & mean\\_concave\\_pts & mean\\_symmetry & ⋯ & worst\\_radius & worst\\_texture & worst\\_perimeter & worst\\_area & worst\\_smoothness & worst\\_compactness & worst\\_concavity & worst\\_concave\\_pts & worst\\_symmetry & worst\\_fractal\\_dim\\\\\n",
       "\\hline\n",
       "\t350 & 0       & 11.95   & 14.96   & 77.23   & 426.7   & 0.11580 & 0.12060 & 0.01171 & 0.01787 & 0.2459  & ⋯       & 12.81   & 17.72   & 83.09   & 496.2   & 0.1293  & 0.1885  & 0.03122 & 0.04766 & 0.3124  & 0.07590\\\\\n",
       "\t346 & 0       & 10.26   & 14.71   & 66.20   & 321.6   & 0.09882 & 0.09159 & 0.03581 & 0.02037 & 0.1633  & ⋯       & 10.88   & 19.48   & 70.89   & 357.1   & 0.1360  & 0.1636  & 0.07162 & 0.04074 & 0.2434  & 0.08488\\\\\n",
       "\t138 & 0       & 11.43   & 15.39   & 73.06   & 399.8   & 0.09639 & 0.06889 & 0.03503 & 0.02875 & 0.1734  & ⋯       & 12.32   & 22.02   & 79.93   & 462.0   & 0.1190  & 0.1648  & 0.13990 & 0.08476 & 0.2676  & 0.06765\\\\\n",
       "\\end{tabular}\n"
      ],
      "text/markdown": [
       "\n",
       "| <!--/--> | Diagnosis | mean_radius | mean_texture | mean_perimeter | mean_area | mean_smoothness | mean_compactness | mean_concavity | mean_concave_pts | mean_symmetry | ⋯ | worst_radius | worst_texture | worst_perimeter | worst_area | worst_smoothness | worst_compactness | worst_concavity | worst_concave_pts | worst_symmetry | worst_fractal_dim | \n",
       "|---|---|---|\n",
       "| 350 | 0       | 11.95   | 14.96   | 77.23   | 426.7   | 0.11580 | 0.12060 | 0.01171 | 0.01787 | 0.2459  | ⋯       | 12.81   | 17.72   | 83.09   | 496.2   | 0.1293  | 0.1885  | 0.03122 | 0.04766 | 0.3124  | 0.07590 | \n",
       "| 346 | 0       | 10.26   | 14.71   | 66.20   | 321.6   | 0.09882 | 0.09159 | 0.03581 | 0.02037 | 0.1633  | ⋯       | 10.88   | 19.48   | 70.89   | 357.1   | 0.1360  | 0.1636  | 0.07162 | 0.04074 | 0.2434  | 0.08488 | \n",
       "| 138 | 0       | 11.43   | 15.39   | 73.06   | 399.8   | 0.09639 | 0.06889 | 0.03503 | 0.02875 | 0.1734  | ⋯       | 12.32   | 22.02   | 79.93   | 462.0   | 0.1190  | 0.1648  | 0.13990 | 0.08476 | 0.2676  | 0.06765 | \n",
       "\n",
       "\n"
      ],
      "text/plain": [
       "    Diagnosis mean_radius mean_texture mean_perimeter mean_area mean_smoothness\n",
       "350 0         11.95       14.96        77.23          426.7     0.11580        \n",
       "346 0         10.26       14.71        66.20          321.6     0.09882        \n",
       "138 0         11.43       15.39        73.06          399.8     0.09639        \n",
       "    mean_compactness mean_concavity mean_concave_pts mean_symmetry ⋯\n",
       "350 0.12060          0.01171        0.01787          0.2459        ⋯\n",
       "346 0.09159          0.03581        0.02037          0.1633        ⋯\n",
       "138 0.06889          0.03503        0.02875          0.1734        ⋯\n",
       "    worst_radius worst_texture worst_perimeter worst_area worst_smoothness\n",
       "350 12.81        17.72         83.09           496.2      0.1293          \n",
       "346 10.88        19.48         70.89           357.1      0.1360          \n",
       "138 12.32        22.02         79.93           462.0      0.1190          \n",
       "    worst_compactness worst_concavity worst_concave_pts worst_symmetry\n",
       "350 0.1885            0.03122         0.04766           0.3124        \n",
       "346 0.1636            0.07162         0.04074           0.2434        \n",
       "138 0.1648            0.13990         0.08476           0.2676        \n",
       "    worst_fractal_dim\n",
       "350 0.07590          \n",
       "346 0.08488          \n",
       "138 0.06765          "
      ]
     },
     "metadata": {},
     "output_type": "display_data"
    }
   ],
   "source": [
    "check_data = testing_data\n",
    "check_data$Diagnosis =ifelse(check_data$Diagnosis==\"B\",0,1)\n",
    "head(check_data, 3)"
   ]
  },
  {
   "cell_type": "code",
   "execution_count": 73,
   "metadata": {},
   "outputs": [
    {
     "data": {
      "text/html": [
       "<table>\n",
       "<thead><tr><th></th><th scope=col>1</th></tr></thead>\n",
       "<tbody>\n",
       "\t<tr><th scope=row>350</th><td>0</td></tr>\n",
       "\t<tr><th scope=row>346</th><td>0</td></tr>\n",
       "\t<tr><th scope=row>138</th><td>0</td></tr>\n",
       "</tbody>\n",
       "</table>\n"
      ],
      "text/latex": [
       "\\begin{tabular}{r|l}\n",
       "  & 1\\\\\n",
       "\\hline\n",
       "\t350 & 0\\\\\n",
       "\t346 & 0\\\\\n",
       "\t138 & 0\\\\\n",
       "\\end{tabular}\n"
      ],
      "text/markdown": [
       "\n",
       "| <!--/--> | 1 | \n",
       "|---|---|---|\n",
       "| 350 | 0 | \n",
       "| 346 | 0 | \n",
       "| 138 | 0 | \n",
       "\n",
       "\n"
      ],
      "text/plain": [
       "    1\n",
       "350 0\n",
       "346 0\n",
       "138 0"
      ]
     },
     "metadata": {},
     "output_type": "display_data"
    },
    {
     "data": {
      "text/html": [
       "<table>\n",
       "<thead><tr><th></th><th scope=col>Diagnosis</th><th scope=col>mean_radius</th><th scope=col>mean_texture</th><th scope=col>mean_perimeter</th><th scope=col>mean_area</th><th scope=col>mean_smoothness</th><th scope=col>mean_compactness</th><th scope=col>mean_concavity</th><th scope=col>mean_concave_pts</th><th scope=col>mean_symmetry</th><th scope=col>⋯</th><th scope=col>worst_radius</th><th scope=col>worst_texture</th><th scope=col>worst_perimeter</th><th scope=col>worst_area</th><th scope=col>worst_smoothness</th><th scope=col>worst_compactness</th><th scope=col>worst_concavity</th><th scope=col>worst_concave_pts</th><th scope=col>worst_symmetry</th><th scope=col>worst_fractal_dim</th></tr></thead>\n",
       "<tbody>\n",
       "\t<tr><th scope=row>350</th><td>0      </td><td>11.95  </td><td>14.96  </td><td>77.23  </td><td>426.7  </td><td>0.11580</td><td>0.12060</td><td>0.01171</td><td>0.01787</td><td>0.2459 </td><td>⋯      </td><td>12.81  </td><td>17.72  </td><td>83.09  </td><td>496.2  </td><td>0.1293 </td><td>0.1885 </td><td>0.03122</td><td>0.04766</td><td>0.3124 </td><td>0.07590</td></tr>\n",
       "\t<tr><th scope=row>346</th><td>0      </td><td>10.26  </td><td>14.71  </td><td>66.20  </td><td>321.6  </td><td>0.09882</td><td>0.09159</td><td>0.03581</td><td>0.02037</td><td>0.1633 </td><td>⋯      </td><td>10.88  </td><td>19.48  </td><td>70.89  </td><td>357.1  </td><td>0.1360 </td><td>0.1636 </td><td>0.07162</td><td>0.04074</td><td>0.2434 </td><td>0.08488</td></tr>\n",
       "\t<tr><th scope=row>138</th><td>0      </td><td>11.43  </td><td>15.39  </td><td>73.06  </td><td>399.8  </td><td>0.09639</td><td>0.06889</td><td>0.03503</td><td>0.02875</td><td>0.1734 </td><td>⋯      </td><td>12.32  </td><td>22.02  </td><td>79.93  </td><td>462.0  </td><td>0.1190 </td><td>0.1648 </td><td>0.13990</td><td>0.08476</td><td>0.2676 </td><td>0.06765</td></tr>\n",
       "</tbody>\n",
       "</table>\n"
      ],
      "text/latex": [
       "\\begin{tabular}{r|lllllllllllllllllllllllllllllll}\n",
       "  & Diagnosis & mean\\_radius & mean\\_texture & mean\\_perimeter & mean\\_area & mean\\_smoothness & mean\\_compactness & mean\\_concavity & mean\\_concave\\_pts & mean\\_symmetry & ⋯ & worst\\_radius & worst\\_texture & worst\\_perimeter & worst\\_area & worst\\_smoothness & worst\\_compactness & worst\\_concavity & worst\\_concave\\_pts & worst\\_symmetry & worst\\_fractal\\_dim\\\\\n",
       "\\hline\n",
       "\t350 & 0       & 11.95   & 14.96   & 77.23   & 426.7   & 0.11580 & 0.12060 & 0.01171 & 0.01787 & 0.2459  & ⋯       & 12.81   & 17.72   & 83.09   & 496.2   & 0.1293  & 0.1885  & 0.03122 & 0.04766 & 0.3124  & 0.07590\\\\\n",
       "\t346 & 0       & 10.26   & 14.71   & 66.20   & 321.6   & 0.09882 & 0.09159 & 0.03581 & 0.02037 & 0.1633  & ⋯       & 10.88   & 19.48   & 70.89   & 357.1   & 0.1360  & 0.1636  & 0.07162 & 0.04074 & 0.2434  & 0.08488\\\\\n",
       "\t138 & 0       & 11.43   & 15.39   & 73.06   & 399.8   & 0.09639 & 0.06889 & 0.03503 & 0.02875 & 0.1734  & ⋯       & 12.32   & 22.02   & 79.93   & 462.0   & 0.1190  & 0.1648  & 0.13990 & 0.08476 & 0.2676  & 0.06765\\\\\n",
       "\\end{tabular}\n"
      ],
      "text/markdown": [
       "\n",
       "| <!--/--> | Diagnosis | mean_radius | mean_texture | mean_perimeter | mean_area | mean_smoothness | mean_compactness | mean_concavity | mean_concave_pts | mean_symmetry | ⋯ | worst_radius | worst_texture | worst_perimeter | worst_area | worst_smoothness | worst_compactness | worst_concavity | worst_concave_pts | worst_symmetry | worst_fractal_dim | \n",
       "|---|---|---|\n",
       "| 350 | 0       | 11.95   | 14.96   | 77.23   | 426.7   | 0.11580 | 0.12060 | 0.01171 | 0.01787 | 0.2459  | ⋯       | 12.81   | 17.72   | 83.09   | 496.2   | 0.1293  | 0.1885  | 0.03122 | 0.04766 | 0.3124  | 0.07590 | \n",
       "| 346 | 0       | 10.26   | 14.71   | 66.20   | 321.6   | 0.09882 | 0.09159 | 0.03581 | 0.02037 | 0.1633  | ⋯       | 10.88   | 19.48   | 70.89   | 357.1   | 0.1360  | 0.1636  | 0.07162 | 0.04074 | 0.2434  | 0.08488 | \n",
       "| 138 | 0       | 11.43   | 15.39   | 73.06   | 399.8   | 0.09639 | 0.06889 | 0.03503 | 0.02875 | 0.1734  | ⋯       | 12.32   | 22.02   | 79.93   | 462.0   | 0.1190  | 0.1648  | 0.13990 | 0.08476 | 0.2676  | 0.06765 | \n",
       "\n",
       "\n"
      ],
      "text/plain": [
       "    Diagnosis mean_radius mean_texture mean_perimeter mean_area mean_smoothness\n",
       "350 0         11.95       14.96        77.23          426.7     0.11580        \n",
       "346 0         10.26       14.71        66.20          321.6     0.09882        \n",
       "138 0         11.43       15.39        73.06          399.8     0.09639        \n",
       "    mean_compactness mean_concavity mean_concave_pts mean_symmetry ⋯\n",
       "350 0.12060          0.01171        0.01787          0.2459        ⋯\n",
       "346 0.09159          0.03581        0.02037          0.1633        ⋯\n",
       "138 0.06889          0.03503        0.02875          0.1734        ⋯\n",
       "    worst_radius worst_texture worst_perimeter worst_area worst_smoothness\n",
       "350 12.81        17.72         83.09           496.2      0.1293          \n",
       "346 10.88        19.48         70.89           357.1      0.1360          \n",
       "138 12.32        22.02         79.93           462.0      0.1190          \n",
       "    worst_compactness worst_concavity worst_concave_pts worst_symmetry\n",
       "350 0.1885            0.03122         0.04766           0.3124        \n",
       "346 0.1636            0.07162         0.04074           0.2434        \n",
       "138 0.1648            0.13990         0.08476           0.2676        \n",
       "    worst_fractal_dim\n",
       "350 0.07590          \n",
       "346 0.08488          \n",
       "138 0.06765          "
      ]
     },
     "metadata": {},
     "output_type": "display_data"
    }
   ],
   "source": [
    "head(pred_test, 3)\n",
    "head(check_data, 3)"
   ]
  },
  {
   "cell_type": "code",
   "execution_count": 76,
   "metadata": {},
   "outputs": [
    {
     "name": "stdout",
     "output_type": "stream",
     "text": [
      "[1] \"The accuracy on testing data is 97.37%\"\n"
     ]
    }
   ],
   "source": [
    "accuracy <- sum(pred_test==check_data[,\"Diagnosis\"])/nrow(check_data)*100\n",
    "print(paste(\"The accuracy on testing data is \", round(accuracy, 2), \"%\", sep=\"\"))"
   ]
  },
  {
   "cell_type": "code",
   "execution_count": 82,
   "metadata": {},
   "outputs": [
    {
     "data": {
      "text/plain": [
       "           TrueLabels\n",
       "Predictions  0  1\n",
       "          0 72  3\n",
       "          1  0 39"
      ]
     },
     "metadata": {},
     "output_type": "display_data"
    }
   ],
   "source": [
    "# https://stackoverflow.com/questions/16409580/how-to-get-true-positive-false-negative-table-from-output-of-predict\n",
    "table(Predictions = pred_test, TrueLabels = check_data$Diagnosis)"
   ]
  },
  {
   "cell_type": "raw",
   "metadata": {},
   "source": [
    "require(caret)\n",
    "\n",
    "confusionMatrix(pred_test, check_data)"
   ]
  },
  {
   "cell_type": "code",
   "execution_count": 77,
   "metadata": {},
   "outputs": [
    {
     "data": {
      "image/png": "[encoded data removed]",
      "text/plain": [
       "Plot with title “AUC= 0.9643”"
      ]
     },
     "metadata": {},
     "output_type": "display_data"
    }
   ],
   "source": [
    "pred <- prediction(pred_test, check_data[,\"Diagnosis\"])\n",
    "perf <- performance(pred,\"tpr\",\"fpr\")\n",
    "\n",
    "auc <- performance(pred,\"auc\")\n",
    "plot(perf,col=\"black\",lty=3, lwd=3, main=paste(\"AUC=\", round(unlist(slot(auc, \"y.values\")),4)))"
   ]
  },
  {
   "cell_type": "code",
   "execution_count": 86,
   "metadata": {
    "collapsed": true
   },
   "outputs": [],
   "source": [
    "pred_test <-predict(object=fit.lasso.0.5, newx=testMOD, s=0.5)\n",
    "pred_test[pred_test > 0.5] <- 1\n",
    "pred_test[pred_test <= 0.5] <- 0"
   ]
  },
  {
   "cell_type": "code",
   "execution_count": 87,
   "metadata": {},
   "outputs": [
    {
     "data": {
      "text/plain": [
       "           TrueLabels\n",
       "Predictions  0  1\n",
       "          0 72 42"
      ]
     },
     "metadata": {},
     "output_type": "display_data"
    }
   ],
   "source": [
    "# https://stackoverflow.com/questions/16409580/how-to-get-true-positive-false-negative-table-from-output-of-predict\n",
    "table(Predictions = pred_test, TrueLabels = check_data$Diagnosis)"
   ]
  },
  {
   "cell_type": "code",
   "execution_count": 88,
   "metadata": {},
   "outputs": [
    {
     "name": "stdout",
     "output_type": "stream",
     "text": [
      "[1] \"The accuracy on testing data is 63.16%\"\n"
     ]
    },
    {
     "data": {
      "image/png": "[encoded data removed]",
      "text/plain": [
       "Plot with title “AUC= 0.5”"
      ]
     },
     "metadata": {},
     "output_type": "display_data"
    }
   ],
   "source": [
    "accuracy <- sum(pred_test==check_data[,\"Diagnosis\"])/nrow(check_data)*100\n",
    "print(paste(\"The accuracy on testing data is \", round(accuracy, 2), \"%\", sep=\"\"))\n",
    "\n",
    "pred <- prediction(pred_test, check_data[,\"Diagnosis\"])\n",
    "perf <- performance(pred,\"tpr\",\"fpr\")\n",
    "\n",
    "auc <- performance(pred,\"auc\")\n",
    "plot(perf,col=\"black\",lty=3, lwd=3, main=paste(\"AUC=\", round(unlist(slot(auc, \"y.values\")),4)))"
   ]
  },
  {
   "cell_type": "code",
   "execution_count": null,
   "metadata": {
    "collapsed": true
   },
   "outputs": [],
   "source": []
  },
  {
   "cell_type": "code",
   "execution_count": null,
   "metadata": {
    "collapsed": true
   },
   "outputs": [],
   "source": []
  },
  {
   "cell_type": "code",
   "execution_count": null,
   "metadata": {
    "collapsed": true
   },
   "outputs": [],
   "source": [
    "# ===== JUNK, I THINK ======"
   ]
  },
  {
   "cell_type": "code",
   "execution_count": 20,
   "metadata": {},
   "outputs": [
    {
     "data": {
      "text/html": [
       "<table>\n",
       "<thead><tr><th></th><th scope=col>Diagnosis</th><th scope=col>mean_radius</th><th scope=col>mean_texture</th><th scope=col>mean_perimeter</th><th scope=col>mean_area</th><th scope=col>mean_smoothness</th><th scope=col>mean_compactness</th><th scope=col>mean_concavity</th><th scope=col>mean_concave_pts</th><th scope=col>mean_symmetry</th><th scope=col>⋯</th><th scope=col>worst_radius</th><th scope=col>worst_texture</th><th scope=col>worst_perimeter</th><th scope=col>worst_area</th><th scope=col>worst_smoothness</th><th scope=col>worst_compactness</th><th scope=col>worst_concavity</th><th scope=col>worst_concave_pts</th><th scope=col>worst_symmetry</th><th scope=col>worst_fractal_dim</th></tr></thead>\n",
       "<tbody>\n",
       "\t<tr><th scope=row>350</th><td>B      </td><td>11.95  </td><td>14.96  </td><td>77.23  </td><td>426.7  </td><td>0.11580</td><td>0.12060</td><td>0.01171</td><td>0.01787</td><td>0.2459 </td><td>⋯      </td><td>12.81  </td><td>17.72  </td><td>83.09  </td><td>496.2  </td><td>0.1293 </td><td>0.1885 </td><td>0.03122</td><td>0.04766</td><td>0.3124 </td><td>0.07590</td></tr>\n",
       "\t<tr><th scope=row>346</th><td>B      </td><td>10.26  </td><td>14.71  </td><td>66.20  </td><td>321.6  </td><td>0.09882</td><td>0.09159</td><td>0.03581</td><td>0.02037</td><td>0.1633 </td><td>⋯      </td><td>10.88  </td><td>19.48  </td><td>70.89  </td><td>357.1  </td><td>0.1360 </td><td>0.1636 </td><td>0.07162</td><td>0.04074</td><td>0.2434 </td><td>0.08488</td></tr>\n",
       "\t<tr><th scope=row>138</th><td>B      </td><td>11.43  </td><td>15.39  </td><td>73.06  </td><td>399.8  </td><td>0.09639</td><td>0.06889</td><td>0.03503</td><td>0.02875</td><td>0.1734 </td><td>⋯      </td><td>12.32  </td><td>22.02  </td><td>79.93  </td><td>462.0  </td><td>0.1190 </td><td>0.1648 </td><td>0.13990</td><td>0.08476</td><td>0.2676 </td><td>0.06765</td></tr>\n",
       "</tbody>\n",
       "</table>\n"
      ],
      "text/latex": [
       "\\begin{tabular}{r|lllllllllllllllllllllllllllllll}\n",
       "  & Diagnosis & mean\\_radius & mean\\_texture & mean\\_perimeter & mean\\_area & mean\\_smoothness & mean\\_compactness & mean\\_concavity & mean\\_concave\\_pts & mean\\_symmetry & ⋯ & worst\\_radius & worst\\_texture & worst\\_perimeter & worst\\_area & worst\\_smoothness & worst\\_compactness & worst\\_concavity & worst\\_concave\\_pts & worst\\_symmetry & worst\\_fractal\\_dim\\\\\n",
       "\\hline\n",
       "\t350 & B       & 11.95   & 14.96   & 77.23   & 426.7   & 0.11580 & 0.12060 & 0.01171 & 0.01787 & 0.2459  & ⋯       & 12.81   & 17.72   & 83.09   & 496.2   & 0.1293  & 0.1885  & 0.03122 & 0.04766 & 0.3124  & 0.07590\\\\\n",
       "\t346 & B       & 10.26   & 14.71   & 66.20   & 321.6   & 0.09882 & 0.09159 & 0.03581 & 0.02037 & 0.1633  & ⋯       & 10.88   & 19.48   & 70.89   & 357.1   & 0.1360  & 0.1636  & 0.07162 & 0.04074 & 0.2434  & 0.08488\\\\\n",
       "\t138 & B       & 11.43   & 15.39   & 73.06   & 399.8   & 0.09639 & 0.06889 & 0.03503 & 0.02875 & 0.1734  & ⋯       & 12.32   & 22.02   & 79.93   & 462.0   & 0.1190  & 0.1648  & 0.13990 & 0.08476 & 0.2676  & 0.06765\\\\\n",
       "\\end{tabular}\n"
      ],
      "text/markdown": [
       "\n",
       "| <!--/--> | Diagnosis | mean_radius | mean_texture | mean_perimeter | mean_area | mean_smoothness | mean_compactness | mean_concavity | mean_concave_pts | mean_symmetry | ⋯ | worst_radius | worst_texture | worst_perimeter | worst_area | worst_smoothness | worst_compactness | worst_concavity | worst_concave_pts | worst_symmetry | worst_fractal_dim | \n",
       "|---|---|---|\n",
       "| 350 | B       | 11.95   | 14.96   | 77.23   | 426.7   | 0.11580 | 0.12060 | 0.01171 | 0.01787 | 0.2459  | ⋯       | 12.81   | 17.72   | 83.09   | 496.2   | 0.1293  | 0.1885  | 0.03122 | 0.04766 | 0.3124  | 0.07590 | \n",
       "| 346 | B       | 10.26   | 14.71   | 66.20   | 321.6   | 0.09882 | 0.09159 | 0.03581 | 0.02037 | 0.1633  | ⋯       | 10.88   | 19.48   | 70.89   | 357.1   | 0.1360  | 0.1636  | 0.07162 | 0.04074 | 0.2434  | 0.08488 | \n",
       "| 138 | B       | 11.43   | 15.39   | 73.06   | 399.8   | 0.09639 | 0.06889 | 0.03503 | 0.02875 | 0.1734  | ⋯       | 12.32   | 22.02   | 79.93   | 462.0   | 0.1190  | 0.1648  | 0.13990 | 0.08476 | 0.2676  | 0.06765 | \n",
       "\n",
       "\n"
      ],
      "text/plain": [
       "    Diagnosis mean_radius mean_texture mean_perimeter mean_area mean_smoothness\n",
       "350 B         11.95       14.96        77.23          426.7     0.11580        \n",
       "346 B         10.26       14.71        66.20          321.6     0.09882        \n",
       "138 B         11.43       15.39        73.06          399.8     0.09639        \n",
       "    mean_compactness mean_concavity mean_concave_pts mean_symmetry ⋯\n",
       "350 0.12060          0.01171        0.01787          0.2459        ⋯\n",
       "346 0.09159          0.03581        0.02037          0.1633        ⋯\n",
       "138 0.06889          0.03503        0.02875          0.1734        ⋯\n",
       "    worst_radius worst_texture worst_perimeter worst_area worst_smoothness\n",
       "350 12.81        17.72         83.09           496.2      0.1293          \n",
       "346 10.88        19.48         70.89           357.1      0.1360          \n",
       "138 12.32        22.02         79.93           462.0      0.1190          \n",
       "    worst_compactness worst_concavity worst_concave_pts worst_symmetry\n",
       "350 0.1885            0.03122         0.04766           0.3124        \n",
       "346 0.1636            0.07162         0.04074           0.2434        \n",
       "138 0.1648            0.13990         0.08476           0.2676        \n",
       "    worst_fractal_dim\n",
       "350 0.07590          \n",
       "346 0.08488          \n",
       "138 0.06765          "
      ]
     },
     "metadata": {},
     "output_type": "display_data"
    },
    {
     "data": {
      "text/html": [
       "<table>\n",
       "<thead><tr><th></th><th scope=col>mean_radius</th><th scope=col>mean_texture</th><th scope=col>mean_perimeter</th><th scope=col>mean_area</th><th scope=col>mean_smoothness</th><th scope=col>mean_compactness</th><th scope=col>mean_concavity</th><th scope=col>mean_concave_pts</th><th scope=col>mean_symmetry</th><th scope=col>mean_fractal_dim</th><th scope=col>⋯</th><th scope=col>worst_radius</th><th scope=col>worst_texture</th><th scope=col>worst_perimeter</th><th scope=col>worst_area</th><th scope=col>worst_smoothness</th><th scope=col>worst_compactness</th><th scope=col>worst_concavity</th><th scope=col>worst_concave_pts</th><th scope=col>worst_symmetry</th><th scope=col>worst_fractal_dim</th></tr></thead>\n",
       "<tbody>\n",
       "\t<tr><th scope=row>350</th><td>11.95  </td><td>14.96  </td><td>77.23  </td><td>426.7  </td><td>0.11580</td><td>0.12060</td><td>0.01171</td><td>0.01787</td><td>0.2459 </td><td>0.06581</td><td>⋯      </td><td>12.81  </td><td>17.72  </td><td>83.09  </td><td>496.2  </td><td>0.1293 </td><td>0.1885 </td><td>0.03122</td><td>0.04766</td><td>0.3124 </td><td>0.07590</td></tr>\n",
       "\t<tr><th scope=row>346</th><td>10.26  </td><td>14.71  </td><td>66.20  </td><td>321.6  </td><td>0.09882</td><td>0.09159</td><td>0.03581</td><td>0.02037</td><td>0.1633 </td><td>0.07005</td><td>⋯      </td><td>10.88  </td><td>19.48  </td><td>70.89  </td><td>357.1  </td><td>0.1360 </td><td>0.1636 </td><td>0.07162</td><td>0.04074</td><td>0.2434 </td><td>0.08488</td></tr>\n",
       "\t<tr><th scope=row>138</th><td>11.43  </td><td>15.39  </td><td>73.06  </td><td>399.8  </td><td>0.09639</td><td>0.06889</td><td>0.03503</td><td>0.02875</td><td>0.1734 </td><td>0.05865</td><td>⋯      </td><td>12.32  </td><td>22.02  </td><td>79.93  </td><td>462.0  </td><td>0.1190 </td><td>0.1648 </td><td>0.13990</td><td>0.08476</td><td>0.2676 </td><td>0.06765</td></tr>\n",
       "</tbody>\n",
       "</table>\n"
      ],
      "text/latex": [
       "\\begin{tabular}{r|llllllllllllllllllllllllllllll}\n",
       "  & mean\\_radius & mean\\_texture & mean\\_perimeter & mean\\_area & mean\\_smoothness & mean\\_compactness & mean\\_concavity & mean\\_concave\\_pts & mean\\_symmetry & mean\\_fractal\\_dim & ⋯ & worst\\_radius & worst\\_texture & worst\\_perimeter & worst\\_area & worst\\_smoothness & worst\\_compactness & worst\\_concavity & worst\\_concave\\_pts & worst\\_symmetry & worst\\_fractal\\_dim\\\\\n",
       "\\hline\n",
       "\t350 & 11.95   & 14.96   & 77.23   & 426.7   & 0.11580 & 0.12060 & 0.01171 & 0.01787 & 0.2459  & 0.06581 & ⋯       & 12.81   & 17.72   & 83.09   & 496.2   & 0.1293  & 0.1885  & 0.03122 & 0.04766 & 0.3124  & 0.07590\\\\\n",
       "\t346 & 10.26   & 14.71   & 66.20   & 321.6   & 0.09882 & 0.09159 & 0.03581 & 0.02037 & 0.1633  & 0.07005 & ⋯       & 10.88   & 19.48   & 70.89   & 357.1   & 0.1360  & 0.1636  & 0.07162 & 0.04074 & 0.2434  & 0.08488\\\\\n",
       "\t138 & 11.43   & 15.39   & 73.06   & 399.8   & 0.09639 & 0.06889 & 0.03503 & 0.02875 & 0.1734  & 0.05865 & ⋯       & 12.32   & 22.02   & 79.93   & 462.0   & 0.1190  & 0.1648  & 0.13990 & 0.08476 & 0.2676  & 0.06765\\\\\n",
       "\\end{tabular}\n"
      ],
      "text/markdown": [
       "\n",
       "| <!--/--> | mean_radius | mean_texture | mean_perimeter | mean_area | mean_smoothness | mean_compactness | mean_concavity | mean_concave_pts | mean_symmetry | mean_fractal_dim | ⋯ | worst_radius | worst_texture | worst_perimeter | worst_area | worst_smoothness | worst_compactness | worst_concavity | worst_concave_pts | worst_symmetry | worst_fractal_dim | \n",
       "|---|---|---|\n",
       "| 350 | 11.95   | 14.96   | 77.23   | 426.7   | 0.11580 | 0.12060 | 0.01171 | 0.01787 | 0.2459  | 0.06581 | ⋯       | 12.81   | 17.72   | 83.09   | 496.2   | 0.1293  | 0.1885  | 0.03122 | 0.04766 | 0.3124  | 0.07590 | \n",
       "| 346 | 10.26   | 14.71   | 66.20   | 321.6   | 0.09882 | 0.09159 | 0.03581 | 0.02037 | 0.1633  | 0.07005 | ⋯       | 10.88   | 19.48   | 70.89   | 357.1   | 0.1360  | 0.1636  | 0.07162 | 0.04074 | 0.2434  | 0.08488 | \n",
       "| 138 | 11.43   | 15.39   | 73.06   | 399.8   | 0.09639 | 0.06889 | 0.03503 | 0.02875 | 0.1734  | 0.05865 | ⋯       | 12.32   | 22.02   | 79.93   | 462.0   | 0.1190  | 0.1648  | 0.13990 | 0.08476 | 0.2676  | 0.06765 | \n",
       "\n",
       "\n"
      ],
      "text/plain": [
       "    mean_radius mean_texture mean_perimeter mean_area mean_smoothness\n",
       "350 11.95       14.96        77.23          426.7     0.11580        \n",
       "346 10.26       14.71        66.20          321.6     0.09882        \n",
       "138 11.43       15.39        73.06          399.8     0.09639        \n",
       "    mean_compactness mean_concavity mean_concave_pts mean_symmetry\n",
       "350 0.12060          0.01171        0.01787          0.2459       \n",
       "346 0.09159          0.03581        0.02037          0.1633       \n",
       "138 0.06889          0.03503        0.02875          0.1734       \n",
       "    mean_fractal_dim ⋯ worst_radius worst_texture worst_perimeter worst_area\n",
       "350 0.06581          ⋯ 12.81        17.72         83.09           496.2     \n",
       "346 0.07005          ⋯ 10.88        19.48         70.89           357.1     \n",
       "138 0.05865          ⋯ 12.32        22.02         79.93           462.0     \n",
       "    worst_smoothness worst_compactness worst_concavity worst_concave_pts\n",
       "350 0.1293           0.1885            0.03122         0.04766          \n",
       "346 0.1360           0.1636            0.07162         0.04074          \n",
       "138 0.1190           0.1648            0.13990         0.08476          \n",
       "    worst_symmetry worst_fractal_dim\n",
       "350 0.3124         0.07590          \n",
       "346 0.2434         0.08488          \n",
       "138 0.2676         0.06765          "
      ]
     },
     "metadata": {},
     "output_type": "display_data"
    }
   ],
   "source": [
    "df_4matrix = testing_data\n",
    "df_4matrix$Diagnosis = NULL\n",
    "head(testing_data, 3)\n",
    "head(df_4matrix, 3)"
   ]
  },
  {
   "cell_type": "code",
   "execution_count": 22,
   "metadata": {
    "collapsed": true
   },
   "outputs": [],
   "source": [
    "testMOD <- model.matrix(Diagnosis ~ ., data=testing_data)"
   ]
  },
  {
   "cell_type": "code",
   "execution_count": 23,
   "metadata": {},
   "outputs": [],
   "source": [
    "pred_test <-predict(object=fit.lasso.0.01, newx=testMOD, s=0.01)"
   ]
  },
  {
   "cell_type": "code",
   "execution_count": 24,
   "metadata": {},
   "outputs": [
    {
     "name": "stdout",
     "output_type": "stream",
     "text": [
      "[1] \"The accuracy on testing data is 0%\"\n"
     ]
    }
   ],
   "source": [
    "accuracy <- sum(pred_test==testing_data[,\"Diagnosis\"])/nrow(testing_data)*100\n",
    "print(paste(\"The accuracy on testing data is \", round(accuracy, 2), \"%\", sep=\"\"))"
   ]
  },
  {
   "cell_type": "code",
   "execution_count": 25,
   "metadata": {},
   "outputs": [
    {
     "name": "stdout",
     "output_type": "stream",
     "text": [
      "[1] \"The accuracy on testing data is 0%\"\n"
     ]
    }
   ],
   "source": [
    "pred_test <-predict(object=fit.lasso.0.5, newx=testMOD, s=0.5)\n",
    "accuracy <- sum(pred_test==testing_data[,\"Diagnosis\"])/nrow(testing_data)*100\n",
    "print(paste(\"The accuracy on testing data is \", round(accuracy, 2), \"%\", sep=\"\"))"
   ]
  },
  {
   "cell_type": "markdown",
   "metadata": {},
   "source": [
    "Some tricks from [stack overflow](https://stackoverflow.com/questions/29015282/predict-function-error-for-probabilities-in-glmnet)"
   ]
  },
  {
   "cell_type": "code",
   "execution_count": 32,
   "metadata": {
    "collapsed": true
   },
   "outputs": [],
   "source": [
    "traintest=rbind(training_data,testing_data)"
   ]
  },
  {
   "cell_type": "code",
   "execution_count": 58,
   "metadata": {
    "scrolled": false
   },
   "outputs": [
    {
     "data": {
      "text/html": [
       "0.00119681095299585"
      ],
      "text/latex": [
       "0.00119681095299585"
      ],
      "text/markdown": [
       "0.00119681095299585"
      ],
      "text/plain": [
       "[1] 0.001196811"
      ]
     },
     "metadata": {},
     "output_type": "display_data"
    }
   ],
   "source": [
    "X = sparse.model.matrix(as.formula(paste(\"Diagnosis ~\", paste(colnames(training_data[,-1]), sep = \"\", collapse=\" +\"))), data = traintest)\n",
    "model = cv.glmnet(X[1:nrow(training_data),], training_data[,1], family = \"binomial\",type.measure = \"auc\",nfolds = 10)\n",
    "# plot(model)\n",
    "model$lambda.min"
   ]
  },
  {
   "cell_type": "code",
   "execution_count": 38,
   "metadata": {},
   "outputs": [
    {
     "data": {
      "text/html": [
       "<table>\n",
       "<thead><tr><th></th><th scope=col>Diagnosis</th><th scope=col>mean_radius</th><th scope=col>mean_texture</th><th scope=col>mean_perimeter</th><th scope=col>mean_area</th><th scope=col>mean_smoothness</th><th scope=col>mean_compactness</th><th scope=col>mean_concavity</th><th scope=col>mean_concave_pts</th><th scope=col>mean_symmetry</th><th scope=col>⋯</th><th scope=col>worst_radius</th><th scope=col>worst_texture</th><th scope=col>worst_perimeter</th><th scope=col>worst_area</th><th scope=col>worst_smoothness</th><th scope=col>worst_compactness</th><th scope=col>worst_concavity</th><th scope=col>worst_concave_pts</th><th scope=col>worst_symmetry</th><th scope=col>worst_fractal_dim</th></tr></thead>\n",
       "<tbody>\n",
       "\t<tr><th scope=row>350</th><td>B      </td><td>11.95  </td><td>14.96  </td><td>77.23  </td><td>426.7  </td><td>0.11580</td><td>0.12060</td><td>0.01171</td><td>0.01787</td><td>0.2459 </td><td>⋯      </td><td>12.81  </td><td>17.72  </td><td>83.09  </td><td>496.2  </td><td>0.1293 </td><td>0.1885 </td><td>0.03122</td><td>0.04766</td><td>0.3124 </td><td>0.07590</td></tr>\n",
       "\t<tr><th scope=row>346</th><td>B      </td><td>10.26  </td><td>14.71  </td><td>66.20  </td><td>321.6  </td><td>0.09882</td><td>0.09159</td><td>0.03581</td><td>0.02037</td><td>0.1633 </td><td>⋯      </td><td>10.88  </td><td>19.48  </td><td>70.89  </td><td>357.1  </td><td>0.1360 </td><td>0.1636 </td><td>0.07162</td><td>0.04074</td><td>0.2434 </td><td>0.08488</td></tr>\n",
       "\t<tr><th scope=row>138</th><td>B      </td><td>11.43  </td><td>15.39  </td><td>73.06  </td><td>399.8  </td><td>0.09639</td><td>0.06889</td><td>0.03503</td><td>0.02875</td><td>0.1734 </td><td>⋯      </td><td>12.32  </td><td>22.02  </td><td>79.93  </td><td>462.0  </td><td>0.1190 </td><td>0.1648 </td><td>0.13990</td><td>0.08476</td><td>0.2676 </td><td>0.06765</td></tr>\n",
       "</tbody>\n",
       "</table>\n"
      ],
      "text/latex": [
       "\\begin{tabular}{r|lllllllllllllllllllllllllllllll}\n",
       "  & Diagnosis & mean\\_radius & mean\\_texture & mean\\_perimeter & mean\\_area & mean\\_smoothness & mean\\_compactness & mean\\_concavity & mean\\_concave\\_pts & mean\\_symmetry & ⋯ & worst\\_radius & worst\\_texture & worst\\_perimeter & worst\\_area & worst\\_smoothness & worst\\_compactness & worst\\_concavity & worst\\_concave\\_pts & worst\\_symmetry & worst\\_fractal\\_dim\\\\\n",
       "\\hline\n",
       "\t350 & B       & 11.95   & 14.96   & 77.23   & 426.7   & 0.11580 & 0.12060 & 0.01171 & 0.01787 & 0.2459  & ⋯       & 12.81   & 17.72   & 83.09   & 496.2   & 0.1293  & 0.1885  & 0.03122 & 0.04766 & 0.3124  & 0.07590\\\\\n",
       "\t346 & B       & 10.26   & 14.71   & 66.20   & 321.6   & 0.09882 & 0.09159 & 0.03581 & 0.02037 & 0.1633  & ⋯       & 10.88   & 19.48   & 70.89   & 357.1   & 0.1360  & 0.1636  & 0.07162 & 0.04074 & 0.2434  & 0.08488\\\\\n",
       "\t138 & B       & 11.43   & 15.39   & 73.06   & 399.8   & 0.09639 & 0.06889 & 0.03503 & 0.02875 & 0.1734  & ⋯       & 12.32   & 22.02   & 79.93   & 462.0   & 0.1190  & 0.1648  & 0.13990 & 0.08476 & 0.2676  & 0.06765\\\\\n",
       "\\end{tabular}\n"
      ],
      "text/markdown": [
       "\n",
       "| <!--/--> | Diagnosis | mean_radius | mean_texture | mean_perimeter | mean_area | mean_smoothness | mean_compactness | mean_concavity | mean_concave_pts | mean_symmetry | ⋯ | worst_radius | worst_texture | worst_perimeter | worst_area | worst_smoothness | worst_compactness | worst_concavity | worst_concave_pts | worst_symmetry | worst_fractal_dim | \n",
       "|---|---|---|\n",
       "| 350 | B       | 11.95   | 14.96   | 77.23   | 426.7   | 0.11580 | 0.12060 | 0.01171 | 0.01787 | 0.2459  | ⋯       | 12.81   | 17.72   | 83.09   | 496.2   | 0.1293  | 0.1885  | 0.03122 | 0.04766 | 0.3124  | 0.07590 | \n",
       "| 346 | B       | 10.26   | 14.71   | 66.20   | 321.6   | 0.09882 | 0.09159 | 0.03581 | 0.02037 | 0.1633  | ⋯       | 10.88   | 19.48   | 70.89   | 357.1   | 0.1360  | 0.1636  | 0.07162 | 0.04074 | 0.2434  | 0.08488 | \n",
       "| 138 | B       | 11.43   | 15.39   | 73.06   | 399.8   | 0.09639 | 0.06889 | 0.03503 | 0.02875 | 0.1734  | ⋯       | 12.32   | 22.02   | 79.93   | 462.0   | 0.1190  | 0.1648  | 0.13990 | 0.08476 | 0.2676  | 0.06765 | \n",
       "\n",
       "\n"
      ],
      "text/plain": [
       "    Diagnosis mean_radius mean_texture mean_perimeter mean_area mean_smoothness\n",
       "350 B         11.95       14.96        77.23          426.7     0.11580        \n",
       "346 B         10.26       14.71        66.20          321.6     0.09882        \n",
       "138 B         11.43       15.39        73.06          399.8     0.09639        \n",
       "    mean_compactness mean_concavity mean_concave_pts mean_symmetry ⋯\n",
       "350 0.12060          0.01171        0.01787          0.2459        ⋯\n",
       "346 0.09159          0.03581        0.02037          0.1633        ⋯\n",
       "138 0.06889          0.03503        0.02875          0.1734        ⋯\n",
       "    worst_radius worst_texture worst_perimeter worst_area worst_smoothness\n",
       "350 12.81        17.72         83.09           496.2      0.1293          \n",
       "346 10.88        19.48         70.89           357.1      0.1360          \n",
       "138 12.32        22.02         79.93           462.0      0.1190          \n",
       "    worst_compactness worst_concavity worst_concave_pts worst_symmetry\n",
       "350 0.1885            0.03122         0.04766           0.3124        \n",
       "346 0.1636            0.07162         0.04074           0.2434        \n",
       "138 0.1648            0.13990         0.08476           0.2676        \n",
       "    worst_fractal_dim\n",
       "350 0.07590          \n",
       "346 0.08488          \n",
       "138 0.06765          "
      ]
     },
     "metadata": {},
     "output_type": "display_data"
    }
   ],
   "source": [
    "head(testing_data,3)"
   ]
  },
  {
   "cell_type": "raw",
   "metadata": {},
   "source": [
    "#predict on test set\n",
    "library(ROCR)\n",
    "pred_test = predict(model, s='lambda.min', newx=X[-(1:nrow(training_data)),], type=\"response\")\n",
    "pred <- prediction(pred_test[,2], testing_data[,\"Diagnosis\"])\n",
    "perf <- performance(pred,\"tpr\",\"fpr\")"
   ]
  },
  {
   "cell_type": "code",
   "execution_count": 60,
   "metadata": {},
   "outputs": [
    {
     "data": {
      "image/png": "[encoded data removed]",
      "text/plain": [
       "Plot with title “AUC= 0.5”"
      ]
     },
     "metadata": {},
     "output_type": "display_data"
    }
   ],
   "source": [
    "auc <- performance(pred,\"auc\")\n",
    "plot(perf,col=\"black\",lty=3, lwd=3, main=paste(\"AUC=\", round(unlist(slot(auc, \"y.values\")),4)))"
   ]
  },
  {
   "cell_type": "code",
   "execution_count": null,
   "metadata": {
    "collapsed": true
   },
   "outputs": [],
   "source": []
  },
  {
   "cell_type": "markdown",
   "metadata": {},
   "source": [
    "|lambda|accuracy|recall|Precitoins|performance|\n",
    "|------|--------|------|----------|-----------|\n",
    "| 0.01 | tbd    | tbd  | tbd      | tbd       |\n",
    "| 0.50 | tbd    | tbd  | tbd      | tbd       |"
   ]
  },
  {
   "cell_type": "code",
   "execution_count": null,
   "metadata": {
    "collapsed": true
   },
   "outputs": [],
   "source": []
  },
  {
   "cell_type": "code",
   "execution_count": null,
   "metadata": {
    "collapsed": true
   },
   "outputs": [],
   "source": []
  },
  {
   "cell_type": "markdown",
   "metadata": {},
   "source": [
    "# Associated Costs"
   ]
  },
  {
   "cell_type": "code",
   "execution_count": null,
   "metadata": {
    "collapsed": true
   },
   "outputs": [],
   "source": []
  },
  {
   "cell_type": "markdown",
   "metadata": {},
   "source": [
    "**FN Cost = False Negative Cost. Cost of misclassifying a malignant patient as bening ($100,000 USD)**\n",
    "\n",
    "**FP Cost = False Postive Cost. Cost of misclassifying a bening patient as malignant ($10,000 USD)**\n",
    "\n",
    "|threshold|FN Cost |FP Cost|Total|\n",
    "|---------|--------|-------|-----|\n",
    "|0.3      | tbd    | tbd   | tbd |\n",
    "|0.5      | tbd    | tbd   | tbd |\n",
    "|0.7      | tbd    | tbd   | tbd |"
   ]
  },
  {
   "cell_type": "code",
   "execution_count": null,
   "metadata": {
    "collapsed": true
   },
   "outputs": [],
   "source": []
  }
 ],
 "metadata": {
  "kernelspec": {
   "display_name": "R",
   "language": "R",
   "name": "ir"
  },
  "language_info": {
   "codemirror_mode": "r",
   "file_extension": ".r",
   "mimetype": "text/x-r-source",
   "name": "R",
   "pygments_lexer": "r",
   "version": "3.2.3"
  }
 },
 "nbformat": 4,
 "nbformat_minor": 2
}

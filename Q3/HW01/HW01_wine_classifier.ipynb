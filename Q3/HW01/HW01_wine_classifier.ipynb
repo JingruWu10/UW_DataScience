{
 "cells": [
  {
   "cell_type": "markdown",
   "metadata": {
    "collapsed": true
   },
   "source": [
    "# Automated Sensing of Red vs. White Wine\n",
    "_... with the cheapest sensor possible_"
   ]
  },
  {
   "cell_type": "markdown",
   "metadata": {},
   "source": [
    "#### Data Science 420 BB\n",
    "#### University of Washington Professional & Continuing Education\n",
    "\n",
    "#### Homework 1: Low-cost Sensor\n",
    "#### Leo Salemann, 4/11/18"
   ]
  },
  {
   "cell_type": "markdown",
   "metadata": {},
   "source": [
    "# Read the Data, Have a Look\n",
    "## Initial Load"
   ]
  },
  {
   "cell_type": "code",
   "execution_count": null,
   "metadata": {},
   "outputs": [],
   "source": [
    "file <- \"./RedWhiteWine.csv\"\n",
    "all_data <- read.csv(file, header=TRUE, sep=\",\", stringsAsFactors = FALSE)\n",
    "\n",
    "# If the target column, say column class, is numerical, you need to convert it to factors in R for classification problem\n",
    "all_data$Class <- factor(data$Class)\n",
    "head(all_data)\n"
   ]
  },
  {
   "cell_type": "markdown",
   "metadata": {},
   "source": [
    "## Reduce to the minimally-required columns"
   ]
  },
  {
   "cell_type": "code",
   "execution_count": null,
   "metadata": {},
   "outputs": [],
   "source": [
    "library(\"dplyr\")\n",
    "\n",
    "data = select(all_data, fixed.acidity, volatile.acidity, citric.acid, residual.sugar, chlorides, density, Class)\n",
    "head(data)\n",
    "dim(data)\n",
    "summary(data)"
   ]
  },
  {
   "cell_type": "markdown",
   "metadata": {},
   "source": [
    "## Redefine Class 1 as Red and 0 as white [TODO]"
   ]
  },
  {
   "cell_type": "code",
   "execution_count": null,
   "metadata": {},
   "outputs": [],
   "source": []
  },
  {
   "cell_type": "markdown",
   "metadata": {},
   "source": [
    "# Create a Naive Bayes Model, Try a Prediction"
   ]
  },
  {
   "cell_type": "code",
   "execution_count": null,
   "metadata": {},
   "outputs": [],
   "source": [
    "nrows <- nrow(data)\n",
    "smp_size <- floor(0.75 * nrows)\n",
    "\n",
    "## set the seed to make your partition reproductible\n",
    "set.seed(8720885)\n",
    "train_ind <- sample(seq_len(nrows), size = smp_size)"
   ]
  },
  {
   "cell_type": "code",
   "execution_count": null,
   "metadata": {},
   "outputs": [],
   "source": [
    "train <- data[train_ind, ]\n",
    "test <- data[-train_ind, ]"
   ]
  },
  {
   "cell_type": "code",
   "execution_count": null,
   "metadata": {
    "scrolled": false
   },
   "outputs": [],
   "source": [
    "options(repr.plot.width=4, repr.plot.height=4)\n",
    "plot(nbc)"
   ]
  },
  {
   "cell_type": "code",
   "execution_count": null,
   "metadata": {
    "scrolled": false
   },
   "outputs": [],
   "source": [
    "install.packages(\"naivebayes\")\n",
    "library(naivebayes)\n",
    "nbc <- naive_bayes(Class ~ ., data = train)\n",
    "plot(nbc)"
   ]
  },
  {
   "cell_type": "code",
   "execution_count": null,
   "metadata": {},
   "outputs": [],
   "source": [
    "# Predict the test data\n",
    "test_pred <- predict(nbc, test,type = \"prob\")\n",
    "\n",
    "accuracy <- sum(test[,\"Class\"]==test_pred)/length(test_pred)\n",
    "print(paste(\"Accuracy=\", round(accuracy*100,2), \"%\", sep=\"\"))"
   ]
  },
  {
   "cell_type": "markdown",
   "metadata": {},
   "source": [
    "# Make a function that quickly tests accuracy"
   ]
  },
  {
   "cell_type": "code",
   "execution_count": 69,
   "metadata": {},
   "outputs": [
    {
     "name": "stderr",
     "output_type": "stream",
     "text": [
      "Installing package into ‘/home/nbuser/R’\n",
      "(as ‘lib’ is unspecified)\n"
     ]
    }
   ],
   "source": [
    "install.packages(\"naivebayes\")\n",
    "library(naivebayes)\n",
    "\n",
    "test_nbc_accuracy <- function(df) {\n",
    "    # split into test and training sets\n",
    "    nrows <- nrow(data)\n",
    "    smp_size <- floor(0.75 * nrows)\n",
    "\n",
    "    set.seed(98027)\n",
    "    train_ind <- sample(seq_len(nrows), size = smp_size)\n",
    "    \n",
    "    train <- data[train_ind, ]\n",
    "    test <- data[-train_ind, ]\n",
    "    \n",
    "    # create the Naive Bayes Classifer (nbc)\n",
    "    nbc <- naive_bayes(Class ~ ., data = train)\n",
    "    \n",
    "    # Make a prediction & test accuracy\n",
    "    test_pred <- predict(nbc, test,type = \"prob\")\n",
    "\n",
    "    accuracy <- sum(test[,\"Class\"]==test_pred)/length(test_pred)\n",
    "    print(paste(\"Accuracy=\", round(accuracy*100,2), \"%\", sep=\"\"))\n",
    "\n",
    "}"
   ]
  },
  {
   "cell_type": "code",
   "execution_count": 70,
   "metadata": {},
   "outputs": [
    {
     "name": "stdout",
     "output_type": "stream",
     "text": [
      "[1] \"Accuracy=0.43%\"\n"
     ]
    }
   ],
   "source": [
    "test_nbc_accuracy(data)"
   ]
  },
  {
   "cell_type": "code",
   "execution_count": null,
   "metadata": {},
   "outputs": [],
   "source": [
    "# Try Dropping chlorides, since it's the opposite of residual sugar"
   ]
  },
  {
   "cell_type": "code",
   "execution_count": null,
   "metadata": {},
   "outputs": [],
   "source": []
  },
  {
   "cell_type": "code",
   "execution_count": null,
   "metadata": {},
   "outputs": [],
   "source": [
    "# Try Dropping Volatile acidity"
   ]
  },
  {
   "cell_type": "code",
   "execution_count": null,
   "metadata": {},
   "outputs": [],
   "source": []
  },
  {
   "cell_type": "markdown",
   "metadata": {},
   "source": [
    "# ==========================< JUNK >==========================="
   ]
  },
  {
   "cell_type": "markdown",
   "metadata": {},
   "source": [
    "## Pull out a handy plotting function from last quarter"
   ]
  },
  {
   "cell_type": "code",
   "execution_count": null,
   "metadata": {},
   "outputs": [],
   "source": [
    "require(ggplot2)\n",
    "plot.density = function(df, col, xlabel, title) {\n",
    "    ggplot(df, aes(col)) + \n",
    "          geom_bar() + \n",
    "          xlab(xlabel) + \n",
    "          ggtitle(title) + \n",
    "          theme(plot.title = element_text(hjust = 0.5, size=20, face=\"bold\"),\n",
    "               axis.title.x = element_text(size=15))\n",
    "}"
   ]
  },
  {
   "cell_type": "code",
   "execution_count": null,
   "metadata": {},
   "outputs": [],
   "source": [
    "options(repr.plot.width=12, repr.plot.height=4)\n",
    "plot.density(data, data$Class, \"1 = Red?, 2 = White?\", \"Wine Color\")"
   ]
  },
  {
   "cell_type": "markdown",
   "metadata": {},
   "source": [
    "## Try some Fancy Matrix Plotting"
   ]
  },
  {
   "cell_type": "code",
   "execution_count": null,
   "metadata": {},
   "outputs": [],
   "source": [
    "require(GGally)\n",
    "\n",
    "plot.matrix = function(df, cols){\n",
    "    options(repr.plot.width=8, repr.plot.height=8)\n",
    "    ggpairs(data=df,\n",
    "            columns=cols,\n",
    "            upper = list(continuous = \"density\"),\n",
    "            lower = list(continuous = \"density\"),\n",
    "            cardinality_threshold = 130)\n",
    "}"
   ]
  },
  {
   "cell_type": "code",
   "execution_count": null,
   "metadata": {},
   "outputs": [],
   "source": [
    "plot.matrix(data, c(1:6,7))"
   ]
  },
  {
   "cell_type": "code",
   "execution_count": null,
   "metadata": {},
   "outputs": [],
   "source": [
    "prediction = predict(nbc, test, type= \"prob\")\n",
    "head(prediction)"
   ]
  },
  {
   "cell_type": "code",
   "execution_count": null,
   "metadata": {},
   "outputs": [],
   "source": []
  }
 ],
 "metadata": {
  "kernelspec": {
   "display_name": "R",
   "language": "R",
   "name": "r"
  },
  "language_info": {
   "codemirror_mode": "r",
   "file_extension": ".r",
   "mimetype": "text/x-r-source",
   "name": "R",
   "pygments_lexer": "r",
   "version": "3.4.1"
  }
 },
 "nbformat": 4,
 "nbformat_minor": 2
}

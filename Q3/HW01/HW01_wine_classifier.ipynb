{
 "cells": [
  {
   "cell_type": "markdown",
   "metadata": {
    "collapsed": true
   },
   "source": [
    "# Automated Sensing of Red vs. White Wine\n",
    "_... with the cheapest sensor possible_"
   ]
  },
  {
   "cell_type": "markdown",
   "metadata": {},
   "source": [
    "#### Data Science 420 BB\n",
    "#### University of Washington Professional & Continuing Education\n",
    "\n",
    "#### Homework 1: Low-cost Sensor\n",
    "#### Leo Salemann, 4/11/18"
   ]
  },
  {
   "cell_type": "markdown",
   "metadata": {},
   "source": [
    "# Read the Data, Have a Look\n",
    "## Initial Load"
   ]
  },
  {
   "cell_type": "code",
   "execution_count": 7,
   "metadata": {},
   "outputs": [
    {
     "data": {
      "text/html": [
       "<table>\n",
       "<thead><tr><th scope=col>fixed.acidity</th><th scope=col>volatile.acidity</th><th scope=col>citric.acid</th><th scope=col>residual.sugar</th><th scope=col>chlorides</th><th scope=col>free.sulfur.dioxide</th><th scope=col>total.sulfur.dioxide</th><th scope=col>density</th><th scope=col>pH</th><th scope=col>sulphates</th><th scope=col>alcohol</th><th scope=col>quality</th><th scope=col>Class</th></tr></thead>\n",
       "<tbody>\n",
       "\t<tr><td> 7.4  </td><td>0.70  </td><td>0.00  </td><td>1.9   </td><td>0.076 </td><td>11    </td><td>34    </td><td>0.9978</td><td>3.51  </td><td>0.56  </td><td>9.4   </td><td>5     </td><td>1     </td></tr>\n",
       "\t<tr><td> 7.8  </td><td>0.88  </td><td>0.00  </td><td>2.6   </td><td>0.098 </td><td>25    </td><td>67    </td><td>0.9968</td><td>3.20  </td><td>0.68  </td><td>9.8   </td><td>5     </td><td>1     </td></tr>\n",
       "\t<tr><td> 7.8  </td><td>0.76  </td><td>0.04  </td><td>2.3   </td><td>0.092 </td><td>15    </td><td>54    </td><td>0.9970</td><td>3.26  </td><td>0.65  </td><td>9.8   </td><td>5     </td><td>1     </td></tr>\n",
       "\t<tr><td>11.2  </td><td>0.28  </td><td>0.56  </td><td>1.9   </td><td>0.075 </td><td>17    </td><td>60    </td><td>0.9980</td><td>3.16  </td><td>0.58  </td><td>9.8   </td><td>6     </td><td>1     </td></tr>\n",
       "\t<tr><td> 7.4  </td><td>0.70  </td><td>0.00  </td><td>1.9   </td><td>0.076 </td><td>11    </td><td>34    </td><td>0.9978</td><td>3.51  </td><td>0.56  </td><td>9.4   </td><td>5     </td><td>1     </td></tr>\n",
       "\t<tr><td> 7.4  </td><td>0.66  </td><td>0.00  </td><td>1.8   </td><td>0.075 </td><td>13    </td><td>40    </td><td>0.9978</td><td>3.51  </td><td>0.56  </td><td>9.4   </td><td>5     </td><td>1     </td></tr>\n",
       "</tbody>\n",
       "</table>\n"
      ],
      "text/latex": [
       "\\begin{tabular}{r|lllllllllllll}\n",
       " fixed.acidity & volatile.acidity & citric.acid & residual.sugar & chlorides & free.sulfur.dioxide & total.sulfur.dioxide & density & pH & sulphates & alcohol & quality & Class\\\\\n",
       "\\hline\n",
       "\t  7.4   & 0.70   & 0.00   & 1.9    & 0.076  & 11     & 34     & 0.9978 & 3.51   & 0.56   & 9.4    & 5      & 1     \\\\\n",
       "\t  7.8   & 0.88   & 0.00   & 2.6    & 0.098  & 25     & 67     & 0.9968 & 3.20   & 0.68   & 9.8    & 5      & 1     \\\\\n",
       "\t  7.8   & 0.76   & 0.04   & 2.3    & 0.092  & 15     & 54     & 0.9970 & 3.26   & 0.65   & 9.8    & 5      & 1     \\\\\n",
       "\t 11.2   & 0.28   & 0.56   & 1.9    & 0.075  & 17     & 60     & 0.9980 & 3.16   & 0.58   & 9.8    & 6      & 1     \\\\\n",
       "\t  7.4   & 0.70   & 0.00   & 1.9    & 0.076  & 11     & 34     & 0.9978 & 3.51   & 0.56   & 9.4    & 5      & 1     \\\\\n",
       "\t  7.4   & 0.66   & 0.00   & 1.8    & 0.075  & 13     & 40     & 0.9978 & 3.51   & 0.56   & 9.4    & 5      & 1     \\\\\n",
       "\\end{tabular}\n"
      ],
      "text/markdown": [
       "\n",
       "fixed.acidity | volatile.acidity | citric.acid | residual.sugar | chlorides | free.sulfur.dioxide | total.sulfur.dioxide | density | pH | sulphates | alcohol | quality | Class | \n",
       "|---|---|---|---|---|---|\n",
       "|  7.4   | 0.70   | 0.00   | 1.9    | 0.076  | 11     | 34     | 0.9978 | 3.51   | 0.56   | 9.4    | 5      | 1      | \n",
       "|  7.8   | 0.88   | 0.00   | 2.6    | 0.098  | 25     | 67     | 0.9968 | 3.20   | 0.68   | 9.8    | 5      | 1      | \n",
       "|  7.8   | 0.76   | 0.04   | 2.3    | 0.092  | 15     | 54     | 0.9970 | 3.26   | 0.65   | 9.8    | 5      | 1      | \n",
       "| 11.2   | 0.28   | 0.56   | 1.9    | 0.075  | 17     | 60     | 0.9980 | 3.16   | 0.58   | 9.8    | 6      | 1      | \n",
       "|  7.4   | 0.70   | 0.00   | 1.9    | 0.076  | 11     | 34     | 0.9978 | 3.51   | 0.56   | 9.4    | 5      | 1      | \n",
       "|  7.4   | 0.66   | 0.00   | 1.8    | 0.075  | 13     | 40     | 0.9978 | 3.51   | 0.56   | 9.4    | 5      | 1      | \n",
       "\n",
       "\n"
      ],
      "text/plain": [
       "  fixed.acidity volatile.acidity citric.acid residual.sugar chlorides\n",
       "1  7.4          0.70             0.00        1.9            0.076    \n",
       "2  7.8          0.88             0.00        2.6            0.098    \n",
       "3  7.8          0.76             0.04        2.3            0.092    \n",
       "4 11.2          0.28             0.56        1.9            0.075    \n",
       "5  7.4          0.70             0.00        1.9            0.076    \n",
       "6  7.4          0.66             0.00        1.8            0.075    \n",
       "  free.sulfur.dioxide total.sulfur.dioxide density pH   sulphates alcohol\n",
       "1 11                  34                   0.9978  3.51 0.56      9.4    \n",
       "2 25                  67                   0.9968  3.20 0.68      9.8    \n",
       "3 15                  54                   0.9970  3.26 0.65      9.8    \n",
       "4 17                  60                   0.9980  3.16 0.58      9.8    \n",
       "5 11                  34                   0.9978  3.51 0.56      9.4    \n",
       "6 13                  40                   0.9978  3.51 0.56      9.4    \n",
       "  quality Class\n",
       "1 5       1    \n",
       "2 5       1    \n",
       "3 5       1    \n",
       "4 6       1    \n",
       "5 5       1    \n",
       "6 5       1    "
      ]
     },
     "metadata": {},
     "output_type": "display_data"
    }
   ],
   "source": [
    "file <- \"./RedWhiteWine.csv\"\n",
    "all_data <- read.csv(file, header=TRUE, sep=\",\", stringsAsFactors = FALSE)\n",
    "\n",
    "# If the target column, say column class, is numerical, you need to convert it to factors in R for classification problem\n",
    "all_data$Class <- factor(data$Class)\n",
    "head(all_data)\n"
   ]
  },
  {
   "cell_type": "markdown",
   "metadata": {},
   "source": [
    "## Reduce to the minimally-required columns"
   ]
  },
  {
   "cell_type": "code",
   "execution_count": 8,
   "metadata": {},
   "outputs": [
    {
     "data": {
      "text/html": [
       "<table>\n",
       "<thead><tr><th scope=col>fixed.acidity</th><th scope=col>volatile.acidity</th><th scope=col>citric.acid</th><th scope=col>residual.sugar</th><th scope=col>chlorides</th><th scope=col>density</th><th scope=col>Class</th></tr></thead>\n",
       "<tbody>\n",
       "\t<tr><td> 7.4  </td><td>0.70  </td><td>0.00  </td><td>1.9   </td><td>0.076 </td><td>0.9978</td><td>1     </td></tr>\n",
       "\t<tr><td> 7.8  </td><td>0.88  </td><td>0.00  </td><td>2.6   </td><td>0.098 </td><td>0.9968</td><td>1     </td></tr>\n",
       "\t<tr><td> 7.8  </td><td>0.76  </td><td>0.04  </td><td>2.3   </td><td>0.092 </td><td>0.9970</td><td>1     </td></tr>\n",
       "\t<tr><td>11.2  </td><td>0.28  </td><td>0.56  </td><td>1.9   </td><td>0.075 </td><td>0.9980</td><td>1     </td></tr>\n",
       "\t<tr><td> 7.4  </td><td>0.70  </td><td>0.00  </td><td>1.9   </td><td>0.076 </td><td>0.9978</td><td>1     </td></tr>\n",
       "\t<tr><td> 7.4  </td><td>0.66  </td><td>0.00  </td><td>1.8   </td><td>0.075 </td><td>0.9978</td><td>1     </td></tr>\n",
       "</tbody>\n",
       "</table>\n"
      ],
      "text/latex": [
       "\\begin{tabular}{r|lllllll}\n",
       " fixed.acidity & volatile.acidity & citric.acid & residual.sugar & chlorides & density & Class\\\\\n",
       "\\hline\n",
       "\t  7.4   & 0.70   & 0.00   & 1.9    & 0.076  & 0.9978 & 1     \\\\\n",
       "\t  7.8   & 0.88   & 0.00   & 2.6    & 0.098  & 0.9968 & 1     \\\\\n",
       "\t  7.8   & 0.76   & 0.04   & 2.3    & 0.092  & 0.9970 & 1     \\\\\n",
       "\t 11.2   & 0.28   & 0.56   & 1.9    & 0.075  & 0.9980 & 1     \\\\\n",
       "\t  7.4   & 0.70   & 0.00   & 1.9    & 0.076  & 0.9978 & 1     \\\\\n",
       "\t  7.4   & 0.66   & 0.00   & 1.8    & 0.075  & 0.9978 & 1     \\\\\n",
       "\\end{tabular}\n"
      ],
      "text/markdown": [
       "\n",
       "fixed.acidity | volatile.acidity | citric.acid | residual.sugar | chlorides | density | Class | \n",
       "|---|---|---|---|---|---|\n",
       "|  7.4   | 0.70   | 0.00   | 1.9    | 0.076  | 0.9978 | 1      | \n",
       "|  7.8   | 0.88   | 0.00   | 2.6    | 0.098  | 0.9968 | 1      | \n",
       "|  7.8   | 0.76   | 0.04   | 2.3    | 0.092  | 0.9970 | 1      | \n",
       "| 11.2   | 0.28   | 0.56   | 1.9    | 0.075  | 0.9980 | 1      | \n",
       "|  7.4   | 0.70   | 0.00   | 1.9    | 0.076  | 0.9978 | 1      | \n",
       "|  7.4   | 0.66   | 0.00   | 1.8    | 0.075  | 0.9978 | 1      | \n",
       "\n",
       "\n"
      ],
      "text/plain": [
       "  fixed.acidity volatile.acidity citric.acid residual.sugar chlorides density\n",
       "1  7.4          0.70             0.00        1.9            0.076     0.9978 \n",
       "2  7.8          0.88             0.00        2.6            0.098     0.9968 \n",
       "3  7.8          0.76             0.04        2.3            0.092     0.9970 \n",
       "4 11.2          0.28             0.56        1.9            0.075     0.9980 \n",
       "5  7.4          0.70             0.00        1.9            0.076     0.9978 \n",
       "6  7.4          0.66             0.00        1.8            0.075     0.9978 \n",
       "  Class\n",
       "1 1    \n",
       "2 1    \n",
       "3 1    \n",
       "4 1    \n",
       "5 1    \n",
       "6 1    "
      ]
     },
     "metadata": {},
     "output_type": "display_data"
    },
    {
     "data": {
      "text/html": [
       "<ol class=list-inline>\n",
       "\t<li>6497</li>\n",
       "\t<li>7</li>\n",
       "</ol>\n"
      ],
      "text/latex": [
       "\\begin{enumerate*}\n",
       "\\item 6497\n",
       "\\item 7\n",
       "\\end{enumerate*}\n"
      ],
      "text/markdown": [
       "1. 6497\n",
       "2. 7\n",
       "\n",
       "\n"
      ],
      "text/plain": [
       "[1] 6497    7"
      ]
     },
     "metadata": {},
     "output_type": "display_data"
    },
    {
     "data": {
      "text/plain": [
       " fixed.acidity    volatile.acidity  citric.acid     residual.sugar  \n",
       " Min.   : 3.800   Min.   :0.0800   Min.   :0.0000   Min.   : 0.600  \n",
       " 1st Qu.: 6.400   1st Qu.:0.2300   1st Qu.:0.2500   1st Qu.: 1.800  \n",
       " Median : 7.000   Median :0.2900   Median :0.3100   Median : 3.000  \n",
       " Mean   : 7.215   Mean   :0.3397   Mean   :0.3186   Mean   : 5.443  \n",
       " 3rd Qu.: 7.700   3rd Qu.:0.4000   3rd Qu.:0.3900   3rd Qu.: 8.100  \n",
       " Max.   :15.900   Max.   :1.5800   Max.   :1.6600   Max.   :65.800  \n",
       "   chlorides          density       Class   \n",
       " Min.   :0.00900   Min.   :0.9871   0:4898  \n",
       " 1st Qu.:0.03800   1st Qu.:0.9923   1:1599  \n",
       " Median :0.04700   Median :0.9949           \n",
       " Mean   :0.05603   Mean   :0.9947           \n",
       " 3rd Qu.:0.06500   3rd Qu.:0.9970           \n",
       " Max.   :0.61100   Max.   :1.0390           "
      ]
     },
     "metadata": {},
     "output_type": "display_data"
    }
   ],
   "source": [
    "library(\"dplyr\")\n",
    "\n",
    "data = select(all_data, fixed.acidity, volatile.acidity, citric.acid, residual.sugar, chlorides, density, Class)\n",
    "head(data)\n",
    "dim(data)\n",
    "summary(data)"
   ]
  },
  {
   "cell_type": "markdown",
   "metadata": {},
   "source": [
    "## Redefine Class 1 as Red and 0 as white [TODO]"
   ]
  },
  {
   "cell_type": "code",
   "execution_count": null,
   "metadata": {},
   "outputs": [],
   "source": []
  },
  {
   "cell_type": "markdown",
   "metadata": {},
   "source": [
    "# Make a function that quickly tests accuracy"
   ]
  },
  {
   "cell_type": "code",
   "execution_count": null,
   "metadata": {},
   "outputs": [],
   "source": [
    "install.packages(\"naivebayes\")\n",
    "library(naivebayes)\n",
    "install.packages(\"pROC\")\n",
    "library(pROC)"
   ]
  },
  {
   "cell_type": "code",
   "execution_count": 46,
   "metadata": {},
   "outputs": [],
   "source": [
    "test_nbc_accuracy <- function(df) {\n",
    "    # split into test and training sets\n",
    "    nrows <- nrow(df)\n",
    "    smp_size <- floor(0.75 * nrows)\n",
    "\n",
    "    set.seed(8720885)\n",
    "    train_ind <- sample(seq_len(nrows), size = smp_size)\n",
    "    \n",
    "    train <- df[train_ind, ]\n",
    "    test <- df[-train_ind, ]\n",
    "    \n",
    "    # create the Naive Bayes Classifer (nbc)\n",
    "    nbc <- naive_bayes(Class ~ ., data = train)\n",
    "    \n",
    "    # Make a prediction & test accuracy\n",
    "    test_pred <- predict(nbc, test,type = \"prob\")\n",
    "    \n",
    "    ### junky debug stuff\n",
    "    print(head (test_pred))\n",
    "    ### junky debug stuff\n",
    "    accuracy <- sum(test[,\"Class\"]==test_pred)/length(test_pred)\n",
    "    print(paste(\"Accuracy=\", round(accuracy*100,2), \"%\", sep=\"\"))\n",
    "\n",
    "    print(paste(\"AUC=\", auc(test_pred, df$Class)))\n",
    "\n",
    "}"
   ]
  },
  {
   "cell_type": "code",
   "execution_count": 47,
   "metadata": {},
   "outputs": [
    {
     "name": "stdout",
     "output_type": "stream",
     "text": [
      "                0         1\n",
      "[1,] 6.104496e-05 0.9999390\n",
      "[2,] 1.136686e-03 0.9988633\n",
      "[3,] 8.027409e-04 0.9991973\n",
      "[4,] 8.319823e-01 0.1680177\n",
      "[5,] 4.743836e-04 0.9995256\n",
      "[6,] 2.234235e-37 1.0000000\n",
      "[1] \"Accuracy=0.43%\"\n"
     ]
    },
    {
     "name": "stderr",
     "output_type": "stream",
     "text": [
      "Warning message in roc.default(response, predictor, auc = TRUE, ...):\n",
      "“'response' has more than two levels. Consider setting 'levels' explicitly or using 'multiclass.roc' instead”"
     ]
    },
    {
     "ename": "ERROR",
     "evalue": "Error in roc.default(response, predictor, auc = TRUE, ...): Predictor must be numeric or ordered.\n",
     "output_type": "error",
     "traceback": [
      "Error in roc.default(response, predictor, auc = TRUE, ...): Predictor must be numeric or ordered.\nTraceback:\n",
      "1. test_nbc_accuracy(data)",
      "2. print(paste(\"AUC=\", auc(test_pred, df$Class)))   # at line 24 of file <text>",
      "3. paste(\"AUC=\", auc(test_pred, df$Class))   # at line 24 of file <text>",
      "4. auc(test_pred, df$Class)   # at line 24 of file <text>",
      "5. auc.default(test_pred, df$Class)",
      "6. roc.default(response, predictor, auc = TRUE, ...)",
      "7. stop(\"Predictor must be numeric or ordered.\")"
     ]
    }
   ],
   "source": [
    "test_nbc_accuracy(data)"
   ]
  },
  {
   "cell_type": "code",
   "execution_count": 22,
   "metadata": {},
   "outputs": [],
   "source": [
    "# Try Dropping chlorides, since it's the opposite of residual sugar"
   ]
  },
  {
   "cell_type": "code",
   "execution_count": 23,
   "metadata": {},
   "outputs": [
    {
     "data": {
      "text/html": [
       "<table>\n",
       "<thead><tr><th scope=col>fixed.acidity</th><th scope=col>volatile.acidity</th><th scope=col>citric.acid</th><th scope=col>residual.sugar</th><th scope=col>density</th><th scope=col>Class</th></tr></thead>\n",
       "<tbody>\n",
       "\t<tr><td> 7.4  </td><td>0.70  </td><td>0.00  </td><td>1.9   </td><td>0.9978</td><td>1     </td></tr>\n",
       "\t<tr><td> 7.8  </td><td>0.88  </td><td>0.00  </td><td>2.6   </td><td>0.9968</td><td>1     </td></tr>\n",
       "\t<tr><td> 7.8  </td><td>0.76  </td><td>0.04  </td><td>2.3   </td><td>0.9970</td><td>1     </td></tr>\n",
       "\t<tr><td>11.2  </td><td>0.28  </td><td>0.56  </td><td>1.9   </td><td>0.9980</td><td>1     </td></tr>\n",
       "\t<tr><td> 7.4  </td><td>0.70  </td><td>0.00  </td><td>1.9   </td><td>0.9978</td><td>1     </td></tr>\n",
       "\t<tr><td> 7.4  </td><td>0.66  </td><td>0.00  </td><td>1.8   </td><td>0.9978</td><td>1     </td></tr>\n",
       "</tbody>\n",
       "</table>\n"
      ],
      "text/latex": [
       "\\begin{tabular}{r|llllll}\n",
       " fixed.acidity & volatile.acidity & citric.acid & residual.sugar & density & Class\\\\\n",
       "\\hline\n",
       "\t  7.4   & 0.70   & 0.00   & 1.9    & 0.9978 & 1     \\\\\n",
       "\t  7.8   & 0.88   & 0.00   & 2.6    & 0.9968 & 1     \\\\\n",
       "\t  7.8   & 0.76   & 0.04   & 2.3    & 0.9970 & 1     \\\\\n",
       "\t 11.2   & 0.28   & 0.56   & 1.9    & 0.9980 & 1     \\\\\n",
       "\t  7.4   & 0.70   & 0.00   & 1.9    & 0.9978 & 1     \\\\\n",
       "\t  7.4   & 0.66   & 0.00   & 1.8    & 0.9978 & 1     \\\\\n",
       "\\end{tabular}\n"
      ],
      "text/markdown": [
       "\n",
       "fixed.acidity | volatile.acidity | citric.acid | residual.sugar | density | Class | \n",
       "|---|---|---|---|---|---|\n",
       "|  7.4   | 0.70   | 0.00   | 1.9    | 0.9978 | 1      | \n",
       "|  7.8   | 0.88   | 0.00   | 2.6    | 0.9968 | 1      | \n",
       "|  7.8   | 0.76   | 0.04   | 2.3    | 0.9970 | 1      | \n",
       "| 11.2   | 0.28   | 0.56   | 1.9    | 0.9980 | 1      | \n",
       "|  7.4   | 0.70   | 0.00   | 1.9    | 0.9978 | 1      | \n",
       "|  7.4   | 0.66   | 0.00   | 1.8    | 0.9978 | 1      | \n",
       "\n",
       "\n"
      ],
      "text/plain": [
       "  fixed.acidity volatile.acidity citric.acid residual.sugar density Class\n",
       "1  7.4          0.70             0.00        1.9            0.9978  1    \n",
       "2  7.8          0.88             0.00        2.6            0.9968  1    \n",
       "3  7.8          0.76             0.04        2.3            0.9970  1    \n",
       "4 11.2          0.28             0.56        1.9            0.9980  1    \n",
       "5  7.4          0.70             0.00        1.9            0.9978  1    \n",
       "6  7.4          0.66             0.00        1.8            0.9978  1    "
      ]
     },
     "metadata": {},
     "output_type": "display_data"
    }
   ],
   "source": [
    "test_data = select(data, -chlorides)\n",
    "head(test_data)"
   ]
  },
  {
   "cell_type": "code",
   "execution_count": 24,
   "metadata": {},
   "outputs": [
    {
     "name": "stdout",
     "output_type": "stream",
     "text": [
      "[1] \"Accuracy=0.12%\"\n"
     ]
    }
   ],
   "source": [
    "test_nbc_accuracy(test_data)"
   ]
  },
  {
   "cell_type": "code",
   "execution_count": 25,
   "metadata": {},
   "outputs": [],
   "source": [
    "# Try Dropping Volatile acidity"
   ]
  },
  {
   "cell_type": "code",
   "execution_count": 26,
   "metadata": {},
   "outputs": [
    {
     "data": {
      "text/html": [
       "<table>\n",
       "<thead><tr><th scope=col>fixed.acidity</th><th scope=col>citric.acid</th><th scope=col>residual.sugar</th><th scope=col>density</th><th scope=col>Class</th></tr></thead>\n",
       "<tbody>\n",
       "\t<tr><td> 7.4  </td><td>0.00  </td><td>1.9   </td><td>0.9978</td><td>1     </td></tr>\n",
       "\t<tr><td> 7.8  </td><td>0.00  </td><td>2.6   </td><td>0.9968</td><td>1     </td></tr>\n",
       "\t<tr><td> 7.8  </td><td>0.04  </td><td>2.3   </td><td>0.9970</td><td>1     </td></tr>\n",
       "\t<tr><td>11.2  </td><td>0.56  </td><td>1.9   </td><td>0.9980</td><td>1     </td></tr>\n",
       "\t<tr><td> 7.4  </td><td>0.00  </td><td>1.9   </td><td>0.9978</td><td>1     </td></tr>\n",
       "\t<tr><td> 7.4  </td><td>0.00  </td><td>1.8   </td><td>0.9978</td><td>1     </td></tr>\n",
       "</tbody>\n",
       "</table>\n"
      ],
      "text/latex": [
       "\\begin{tabular}{r|lllll}\n",
       " fixed.acidity & citric.acid & residual.sugar & density & Class\\\\\n",
       "\\hline\n",
       "\t  7.4   & 0.00   & 1.9    & 0.9978 & 1     \\\\\n",
       "\t  7.8   & 0.00   & 2.6    & 0.9968 & 1     \\\\\n",
       "\t  7.8   & 0.04   & 2.3    & 0.9970 & 1     \\\\\n",
       "\t 11.2   & 0.56   & 1.9    & 0.9980 & 1     \\\\\n",
       "\t  7.4   & 0.00   & 1.9    & 0.9978 & 1     \\\\\n",
       "\t  7.4   & 0.00   & 1.8    & 0.9978 & 1     \\\\\n",
       "\\end{tabular}\n"
      ],
      "text/markdown": [
       "\n",
       "fixed.acidity | citric.acid | residual.sugar | density | Class | \n",
       "|---|---|---|---|---|---|\n",
       "|  7.4   | 0.00   | 1.9    | 0.9978 | 1      | \n",
       "|  7.8   | 0.00   | 2.6    | 0.9968 | 1      | \n",
       "|  7.8   | 0.04   | 2.3    | 0.9970 | 1      | \n",
       "| 11.2   | 0.56   | 1.9    | 0.9980 | 1      | \n",
       "|  7.4   | 0.00   | 1.9    | 0.9978 | 1      | \n",
       "|  7.4   | 0.00   | 1.8    | 0.9978 | 1      | \n",
       "\n",
       "\n"
      ],
      "text/plain": [
       "  fixed.acidity citric.acid residual.sugar density Class\n",
       "1  7.4          0.00        1.9            0.9978  1    \n",
       "2  7.8          0.00        2.6            0.9968  1    \n",
       "3  7.8          0.04        2.3            0.9970  1    \n",
       "4 11.2          0.56        1.9            0.9980  1    \n",
       "5  7.4          0.00        1.9            0.9978  1    \n",
       "6  7.4          0.00        1.8            0.9978  1    "
      ]
     },
     "metadata": {},
     "output_type": "display_data"
    }
   ],
   "source": [
    "test_data = select(test_data, -volatile.acidity)\n",
    "head(test_data)"
   ]
  },
  {
   "cell_type": "code",
   "execution_count": 32,
   "metadata": {},
   "outputs": [
    {
     "name": "stdout",
     "output_type": "stream",
     "text": [
      "[1] \"Accuracy=0.06%\"\n",
      "[1] \"Accuracy=0.43%\"\n",
      "[1] \"Accuracy=0.62%\"\n",
      "[1] \"Accuracy=0.62%\"\n"
     ]
    }
   ],
   "source": [
    "test_nbc_accuracy(test_data)\n",
    "test_nbc_accuracy(data)\n",
    "test_nbc_accuracy(all_data)\n",
    "test_nbc_accuracy(select(all_data, -quality))"
   ]
  },
  {
   "cell_type": "code",
   "execution_count": 34,
   "metadata": {},
   "outputs": [
    {
     "name": "stderr",
     "output_type": "stream",
     "text": [
      "Installing package into ‘/home/nbuser/R’\n",
      "(as ‘lib’ is unspecified)\n"
     ]
    }
   ],
   "source": [
    "\n",
    "\n",
    "auc(test_data$, test_data$Class)"
   ]
  },
  {
   "cell_type": "markdown",
   "metadata": {},
   "source": [
    "# ====================< JUNK >====================="
   ]
  },
  {
   "cell_type": "markdown",
   "metadata": {},
   "source": [
    "# Create a Naive Bayes Model, Try a Prediction"
   ]
  },
  {
   "cell_type": "code",
   "execution_count": null,
   "metadata": {},
   "outputs": [],
   "source": [
    "nrows <- nrow(data)\n",
    "smp_size <- floor(0.75 * nrows)\n",
    "\n",
    "## set the seed to make your partition reproductible\n",
    "set.seed(8720885)\n",
    "train_ind <- sample(seq_len(nrows), size = smp_size)"
   ]
  },
  {
   "cell_type": "code",
   "execution_count": null,
   "metadata": {},
   "outputs": [],
   "source": [
    "train <- data[train_ind, ]\n",
    "test <- data[-train_ind, ]"
   ]
  },
  {
   "cell_type": "code",
   "execution_count": null,
   "metadata": {
    "scrolled": false
   },
   "outputs": [],
   "source": [
    "options(repr.plot.width=4, repr.plot.height=4)\n",
    "plot(nbc)"
   ]
  },
  {
   "cell_type": "code",
   "execution_count": null,
   "metadata": {
    "scrolled": false
   },
   "outputs": [],
   "source": [
    "install.packages(\"naivebayes\")\n",
    "library(naivebayes)\n",
    "nbc <- naive_bayes(Class ~ ., data = train)\n",
    "plot(nbc)"
   ]
  },
  {
   "cell_type": "code",
   "execution_count": null,
   "metadata": {},
   "outputs": [],
   "source": [
    "# Predict the test data\n",
    "test_pred <- predict(nbc, test,type = \"prob\")\n",
    "\n",
    "accuracy <- sum(test[,\"Class\"]==test_pred)/length(test_pred)\n",
    "print(paste(\"Accuracy=\", round(accuracy*100,2), \"%\", sep=\"\"))"
   ]
  },
  {
   "cell_type": "code",
   "execution_count": null,
   "metadata": {},
   "outputs": [],
   "source": []
  },
  {
   "cell_type": "code",
   "execution_count": null,
   "metadata": {},
   "outputs": [],
   "source": []
  },
  {
   "cell_type": "markdown",
   "metadata": {},
   "source": [
    "## Pull out a handy plotting function from last quarter"
   ]
  },
  {
   "cell_type": "code",
   "execution_count": null,
   "metadata": {},
   "outputs": [],
   "source": [
    "require(ggplot2)\n",
    "plot.density = function(df, col, xlabel, title) {\n",
    "    ggplot(df, aes(col)) + \n",
    "          geom_bar() + \n",
    "          xlab(xlabel) + \n",
    "          ggtitle(title) + \n",
    "          theme(plot.title = element_text(hjust = 0.5, size=20, face=\"bold\"),\n",
    "               axis.title.x = element_text(size=15))\n",
    "}"
   ]
  },
  {
   "cell_type": "code",
   "execution_count": null,
   "metadata": {},
   "outputs": [],
   "source": [
    "options(repr.plot.width=12, repr.plot.height=4)\n",
    "plot.density(data, data$Class, \"1 = Red?, 2 = White?\", \"Wine Color\")"
   ]
  },
  {
   "cell_type": "markdown",
   "metadata": {},
   "source": [
    "## Try some Fancy Matrix Plotting"
   ]
  },
  {
   "cell_type": "code",
   "execution_count": null,
   "metadata": {},
   "outputs": [],
   "source": [
    "require(GGally)\n",
    "\n",
    "plot.matrix = function(df, cols){\n",
    "    options(repr.plot.width=8, repr.plot.height=8)\n",
    "    ggpairs(data=df,\n",
    "            columns=cols,\n",
    "            upper = list(continuous = \"density\"),\n",
    "            lower = list(continuous = \"density\"),\n",
    "            cardinality_threshold = 130)\n",
    "}"
   ]
  },
  {
   "cell_type": "code",
   "execution_count": null,
   "metadata": {},
   "outputs": [],
   "source": [
    "plot.matrix(data, c(1:6,7))"
   ]
  },
  {
   "cell_type": "code",
   "execution_count": null,
   "metadata": {},
   "outputs": [],
   "source": [
    "prediction = predict(nbc, test, type= \"prob\")\n",
    "head(prediction)"
   ]
  },
  {
   "cell_type": "code",
   "execution_count": null,
   "metadata": {},
   "outputs": [],
   "source": []
  }
 ],
 "metadata": {
  "kernelspec": {
   "display_name": "R",
   "language": "R",
   "name": "r"
  },
  "language_info": {
   "codemirror_mode": "r",
   "file_extension": ".r",
   "mimetype": "text/x-r-source",
   "name": "R",
   "pygments_lexer": "r",
   "version": "3.4.1"
  }
 },
 "nbformat": 4,
 "nbformat_minor": 2
}

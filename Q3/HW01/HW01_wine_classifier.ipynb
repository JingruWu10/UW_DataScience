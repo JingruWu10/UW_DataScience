{
 "cells": [
  {
   "cell_type": "markdown",
   "metadata": {
    "collapsed": true
   },
   "source": [
    "# Automated Sensing of Red vs. White Wine\n",
    "_... with the cheapest sensor possible_"
   ]
  },
  {
   "cell_type": "markdown",
   "metadata": {},
   "source": [
    "#### Data Science 420 BB\n",
    "#### University of Washington Professional & Continuing Education\n",
    "\n",
    "#### Homework 1: Low-cost Sensor\n",
    "#### Leo Salemann, 4/11/18"
   ]
  },
  {
   "cell_type": "markdown",
   "metadata": {},
   "source": [
    "# LOAD DATA"
   ]
  },
  {
   "cell_type": "code",
   "execution_count": 35,
   "metadata": {},
   "outputs": [
    {
     "data": {
      "text/html": [
       "<table>\n",
       "<thead><tr><th scope=col>fixed.acidity</th><th scope=col>volatile.acidity</th><th scope=col>citric.acid</th><th scope=col>residual.sugar</th><th scope=col>chlorides</th><th scope=col>free.sulfur.dioxide</th><th scope=col>total.sulfur.dioxide</th><th scope=col>density</th><th scope=col>pH</th><th scope=col>sulphates</th><th scope=col>alcohol</th><th scope=col>quality</th><th scope=col>Class</th></tr></thead>\n",
       "<tbody>\n",
       "\t<tr><td> 7.4  </td><td>0.70  </td><td>0.00  </td><td>1.9   </td><td>0.076 </td><td>11    </td><td>34    </td><td>0.9978</td><td>3.51  </td><td>0.56  </td><td>9.4   </td><td>5     </td><td>1     </td></tr>\n",
       "\t<tr><td> 7.8  </td><td>0.88  </td><td>0.00  </td><td>2.6   </td><td>0.098 </td><td>25    </td><td>67    </td><td>0.9968</td><td>3.20  </td><td>0.68  </td><td>9.8   </td><td>5     </td><td>1     </td></tr>\n",
       "\t<tr><td> 7.8  </td><td>0.76  </td><td>0.04  </td><td>2.3   </td><td>0.092 </td><td>15    </td><td>54    </td><td>0.9970</td><td>3.26  </td><td>0.65  </td><td>9.8   </td><td>5     </td><td>1     </td></tr>\n",
       "\t<tr><td>11.2  </td><td>0.28  </td><td>0.56  </td><td>1.9   </td><td>0.075 </td><td>17    </td><td>60    </td><td>0.9980</td><td>3.16  </td><td>0.58  </td><td>9.8   </td><td>6     </td><td>1     </td></tr>\n",
       "\t<tr><td> 7.4  </td><td>0.70  </td><td>0.00  </td><td>1.9   </td><td>0.076 </td><td>11    </td><td>34    </td><td>0.9978</td><td>3.51  </td><td>0.56  </td><td>9.4   </td><td>5     </td><td>1     </td></tr>\n",
       "\t<tr><td> 7.4  </td><td>0.66  </td><td>0.00  </td><td>1.8   </td><td>0.075 </td><td>13    </td><td>40    </td><td>0.9978</td><td>3.51  </td><td>0.56  </td><td>9.4   </td><td>5     </td><td>1     </td></tr>\n",
       "</tbody>\n",
       "</table>\n"
      ],
      "text/latex": [
       "\\begin{tabular}{r|lllllllllllll}\n",
       " fixed.acidity & volatile.acidity & citric.acid & residual.sugar & chlorides & free.sulfur.dioxide & total.sulfur.dioxide & density & pH & sulphates & alcohol & quality & Class\\\\\n",
       "\\hline\n",
       "\t  7.4   & 0.70   & 0.00   & 1.9    & 0.076  & 11     & 34     & 0.9978 & 3.51   & 0.56   & 9.4    & 5      & 1     \\\\\n",
       "\t  7.8   & 0.88   & 0.00   & 2.6    & 0.098  & 25     & 67     & 0.9968 & 3.20   & 0.68   & 9.8    & 5      & 1     \\\\\n",
       "\t  7.8   & 0.76   & 0.04   & 2.3    & 0.092  & 15     & 54     & 0.9970 & 3.26   & 0.65   & 9.8    & 5      & 1     \\\\\n",
       "\t 11.2   & 0.28   & 0.56   & 1.9    & 0.075  & 17     & 60     & 0.9980 & 3.16   & 0.58   & 9.8    & 6      & 1     \\\\\n",
       "\t  7.4   & 0.70   & 0.00   & 1.9    & 0.076  & 11     & 34     & 0.9978 & 3.51   & 0.56   & 9.4    & 5      & 1     \\\\\n",
       "\t  7.4   & 0.66   & 0.00   & 1.8    & 0.075  & 13     & 40     & 0.9978 & 3.51   & 0.56   & 9.4    & 5      & 1     \\\\\n",
       "\\end{tabular}\n"
      ],
      "text/markdown": [
       "\n",
       "fixed.acidity | volatile.acidity | citric.acid | residual.sugar | chlorides | free.sulfur.dioxide | total.sulfur.dioxide | density | pH | sulphates | alcohol | quality | Class | \n",
       "|---|---|---|---|---|---|\n",
       "|  7.4   | 0.70   | 0.00   | 1.9    | 0.076  | 11     | 34     | 0.9978 | 3.51   | 0.56   | 9.4    | 5      | 1      | \n",
       "|  7.8   | 0.88   | 0.00   | 2.6    | 0.098  | 25     | 67     | 0.9968 | 3.20   | 0.68   | 9.8    | 5      | 1      | \n",
       "|  7.8   | 0.76   | 0.04   | 2.3    | 0.092  | 15     | 54     | 0.9970 | 3.26   | 0.65   | 9.8    | 5      | 1      | \n",
       "| 11.2   | 0.28   | 0.56   | 1.9    | 0.075  | 17     | 60     | 0.9980 | 3.16   | 0.58   | 9.8    | 6      | 1      | \n",
       "|  7.4   | 0.70   | 0.00   | 1.9    | 0.076  | 11     | 34     | 0.9978 | 3.51   | 0.56   | 9.4    | 5      | 1      | \n",
       "|  7.4   | 0.66   | 0.00   | 1.8    | 0.075  | 13     | 40     | 0.9978 | 3.51   | 0.56   | 9.4    | 5      | 1      | \n",
       "\n",
       "\n"
      ],
      "text/plain": [
       "  fixed.acidity volatile.acidity citric.acid residual.sugar chlorides\n",
       "1  7.4          0.70             0.00        1.9            0.076    \n",
       "2  7.8          0.88             0.00        2.6            0.098    \n",
       "3  7.8          0.76             0.04        2.3            0.092    \n",
       "4 11.2          0.28             0.56        1.9            0.075    \n",
       "5  7.4          0.70             0.00        1.9            0.076    \n",
       "6  7.4          0.66             0.00        1.8            0.075    \n",
       "  free.sulfur.dioxide total.sulfur.dioxide density pH   sulphates alcohol\n",
       "1 11                  34                   0.9978  3.51 0.56      9.4    \n",
       "2 25                  67                   0.9968  3.20 0.68      9.8    \n",
       "3 15                  54                   0.9970  3.26 0.65      9.8    \n",
       "4 17                  60                   0.9980  3.16 0.58      9.8    \n",
       "5 11                  34                   0.9978  3.51 0.56      9.4    \n",
       "6 13                  40                   0.9978  3.51 0.56      9.4    \n",
       "  quality Class\n",
       "1 5       1    \n",
       "2 5       1    \n",
       "3 5       1    \n",
       "4 6       1    \n",
       "5 5       1    \n",
       "6 5       1    "
      ]
     },
     "metadata": {},
     "output_type": "display_data"
    }
   ],
   "source": [
    "file <- \"./RedWhiteWine.csv\"\n",
    "all_data <- read.csv(file, header=TRUE, sep=\",\", stringsAsFactors = FALSE)\n",
    "\n",
    "# If the target column, say column class, is numerical, you need to convert it to factors in R for classification problem\n",
    "all_data$Class <- factor(all_data$Class)\n",
    "head(all_data)\n"
   ]
  },
  {
   "cell_type": "markdown",
   "metadata": {},
   "source": [
    "## Redefine Class 1 as Red and 0 as White"
   ]
  },
  {
   "cell_type": "raw",
   "metadata": {},
   "source": [
    "all_data$Color <- ifelse(all_data$Class ==1,'Red','White')\n",
    "all_data$Color <- factor(all_data$Color)\n",
    "head(all_data)"
   ]
  },
  {
   "cell_type": "markdown",
   "metadata": {},
   "source": [
    "## Drop the quality attribute"
   ]
  },
  {
   "cell_type": "code",
   "execution_count": 36,
   "metadata": {},
   "outputs": [],
   "source": [
    "library(\"dplyr\")"
   ]
  },
  {
   "cell_type": "code",
   "execution_count": 37,
   "metadata": {},
   "outputs": [
    {
     "data": {
      "text/html": [
       "<table>\n",
       "<thead><tr><th scope=col>fixed.acidity</th><th scope=col>volatile.acidity</th><th scope=col>citric.acid</th><th scope=col>residual.sugar</th><th scope=col>chlorides</th><th scope=col>free.sulfur.dioxide</th><th scope=col>total.sulfur.dioxide</th><th scope=col>density</th><th scope=col>pH</th><th scope=col>sulphates</th><th scope=col>alcohol</th><th scope=col>Class</th></tr></thead>\n",
       "<tbody>\n",
       "\t<tr><td> 7.4  </td><td>0.70  </td><td>0.00  </td><td>1.9   </td><td>0.076 </td><td>11    </td><td>34    </td><td>0.9978</td><td>3.51  </td><td>0.56  </td><td>9.4   </td><td>1     </td></tr>\n",
       "\t<tr><td> 7.8  </td><td>0.88  </td><td>0.00  </td><td>2.6   </td><td>0.098 </td><td>25    </td><td>67    </td><td>0.9968</td><td>3.20  </td><td>0.68  </td><td>9.8   </td><td>1     </td></tr>\n",
       "\t<tr><td> 7.8  </td><td>0.76  </td><td>0.04  </td><td>2.3   </td><td>0.092 </td><td>15    </td><td>54    </td><td>0.9970</td><td>3.26  </td><td>0.65  </td><td>9.8   </td><td>1     </td></tr>\n",
       "\t<tr><td>11.2  </td><td>0.28  </td><td>0.56  </td><td>1.9   </td><td>0.075 </td><td>17    </td><td>60    </td><td>0.9980</td><td>3.16  </td><td>0.58  </td><td>9.8   </td><td>1     </td></tr>\n",
       "\t<tr><td> 7.4  </td><td>0.70  </td><td>0.00  </td><td>1.9   </td><td>0.076 </td><td>11    </td><td>34    </td><td>0.9978</td><td>3.51  </td><td>0.56  </td><td>9.4   </td><td>1     </td></tr>\n",
       "\t<tr><td> 7.4  </td><td>0.66  </td><td>0.00  </td><td>1.8   </td><td>0.075 </td><td>13    </td><td>40    </td><td>0.9978</td><td>3.51  </td><td>0.56  </td><td>9.4   </td><td>1     </td></tr>\n",
       "</tbody>\n",
       "</table>\n"
      ],
      "text/latex": [
       "\\begin{tabular}{r|llllllllllll}\n",
       " fixed.acidity & volatile.acidity & citric.acid & residual.sugar & chlorides & free.sulfur.dioxide & total.sulfur.dioxide & density & pH & sulphates & alcohol & Class\\\\\n",
       "\\hline\n",
       "\t  7.4   & 0.70   & 0.00   & 1.9    & 0.076  & 11     & 34     & 0.9978 & 3.51   & 0.56   & 9.4    & 1     \\\\\n",
       "\t  7.8   & 0.88   & 0.00   & 2.6    & 0.098  & 25     & 67     & 0.9968 & 3.20   & 0.68   & 9.8    & 1     \\\\\n",
       "\t  7.8   & 0.76   & 0.04   & 2.3    & 0.092  & 15     & 54     & 0.9970 & 3.26   & 0.65   & 9.8    & 1     \\\\\n",
       "\t 11.2   & 0.28   & 0.56   & 1.9    & 0.075  & 17     & 60     & 0.9980 & 3.16   & 0.58   & 9.8    & 1     \\\\\n",
       "\t  7.4   & 0.70   & 0.00   & 1.9    & 0.076  & 11     & 34     & 0.9978 & 3.51   & 0.56   & 9.4    & 1     \\\\\n",
       "\t  7.4   & 0.66   & 0.00   & 1.8    & 0.075  & 13     & 40     & 0.9978 & 3.51   & 0.56   & 9.4    & 1     \\\\\n",
       "\\end{tabular}\n"
      ],
      "text/markdown": [
       "\n",
       "fixed.acidity | volatile.acidity | citric.acid | residual.sugar | chlorides | free.sulfur.dioxide | total.sulfur.dioxide | density | pH | sulphates | alcohol | Class | \n",
       "|---|---|---|---|---|---|\n",
       "|  7.4   | 0.70   | 0.00   | 1.9    | 0.076  | 11     | 34     | 0.9978 | 3.51   | 0.56   | 9.4    | 1      | \n",
       "|  7.8   | 0.88   | 0.00   | 2.6    | 0.098  | 25     | 67     | 0.9968 | 3.20   | 0.68   | 9.8    | 1      | \n",
       "|  7.8   | 0.76   | 0.04   | 2.3    | 0.092  | 15     | 54     | 0.9970 | 3.26   | 0.65   | 9.8    | 1      | \n",
       "| 11.2   | 0.28   | 0.56   | 1.9    | 0.075  | 17     | 60     | 0.9980 | 3.16   | 0.58   | 9.8    | 1      | \n",
       "|  7.4   | 0.70   | 0.00   | 1.9    | 0.076  | 11     | 34     | 0.9978 | 3.51   | 0.56   | 9.4    | 1      | \n",
       "|  7.4   | 0.66   | 0.00   | 1.8    | 0.075  | 13     | 40     | 0.9978 | 3.51   | 0.56   | 9.4    | 1      | \n",
       "\n",
       "\n"
      ],
      "text/plain": [
       "  fixed.acidity volatile.acidity citric.acid residual.sugar chlorides\n",
       "1  7.4          0.70             0.00        1.9            0.076    \n",
       "2  7.8          0.88             0.00        2.6            0.098    \n",
       "3  7.8          0.76             0.04        2.3            0.092    \n",
       "4 11.2          0.28             0.56        1.9            0.075    \n",
       "5  7.4          0.70             0.00        1.9            0.076    \n",
       "6  7.4          0.66             0.00        1.8            0.075    \n",
       "  free.sulfur.dioxide total.sulfur.dioxide density pH   sulphates alcohol Class\n",
       "1 11                  34                   0.9978  3.51 0.56      9.4     1    \n",
       "2 25                  67                   0.9968  3.20 0.68      9.8     1    \n",
       "3 15                  54                   0.9970  3.26 0.65      9.8     1    \n",
       "4 17                  60                   0.9980  3.16 0.58      9.8     1    \n",
       "5 11                  34                   0.9978  3.51 0.56      9.4     1    \n",
       "6 13                  40                   0.9978  3.51 0.56      9.4     1    "
      ]
     },
     "metadata": {},
     "output_type": "display_data"
    }
   ],
   "source": [
    "all_data2 = select(all_data, -quality)\n",
    "head(all_data2)"
   ]
  },
  {
   "cell_type": "markdown",
   "metadata": {},
   "source": [
    "## Reduce to the features our sensor technology can acutually support"
   ]
  },
  {
   "cell_type": "code",
   "execution_count": 38,
   "metadata": {},
   "outputs": [
    {
     "data": {
      "text/html": [
       "<table>\n",
       "<thead><tr><th scope=col>fixed.acidity</th><th scope=col>volatile.acidity</th><th scope=col>citric.acid</th><th scope=col>residual.sugar</th><th scope=col>chlorides</th><th scope=col>density</th><th scope=col>Class</th></tr></thead>\n",
       "<tbody>\n",
       "\t<tr><td> 7.4  </td><td>0.70  </td><td>0.00  </td><td>1.9   </td><td>0.076 </td><td>0.9978</td><td>1     </td></tr>\n",
       "\t<tr><td> 7.8  </td><td>0.88  </td><td>0.00  </td><td>2.6   </td><td>0.098 </td><td>0.9968</td><td>1     </td></tr>\n",
       "\t<tr><td> 7.8  </td><td>0.76  </td><td>0.04  </td><td>2.3   </td><td>0.092 </td><td>0.9970</td><td>1     </td></tr>\n",
       "\t<tr><td>11.2  </td><td>0.28  </td><td>0.56  </td><td>1.9   </td><td>0.075 </td><td>0.9980</td><td>1     </td></tr>\n",
       "\t<tr><td> 7.4  </td><td>0.70  </td><td>0.00  </td><td>1.9   </td><td>0.076 </td><td>0.9978</td><td>1     </td></tr>\n",
       "\t<tr><td> 7.4  </td><td>0.66  </td><td>0.00  </td><td>1.8   </td><td>0.075 </td><td>0.9978</td><td>1     </td></tr>\n",
       "</tbody>\n",
       "</table>\n"
      ],
      "text/latex": [
       "\\begin{tabular}{r|lllllll}\n",
       " fixed.acidity & volatile.acidity & citric.acid & residual.sugar & chlorides & density & Class\\\\\n",
       "\\hline\n",
       "\t  7.4   & 0.70   & 0.00   & 1.9    & 0.076  & 0.9978 & 1     \\\\\n",
       "\t  7.8   & 0.88   & 0.00   & 2.6    & 0.098  & 0.9968 & 1     \\\\\n",
       "\t  7.8   & 0.76   & 0.04   & 2.3    & 0.092  & 0.9970 & 1     \\\\\n",
       "\t 11.2   & 0.28   & 0.56   & 1.9    & 0.075  & 0.9980 & 1     \\\\\n",
       "\t  7.4   & 0.70   & 0.00   & 1.9    & 0.076  & 0.9978 & 1     \\\\\n",
       "\t  7.4   & 0.66   & 0.00   & 1.8    & 0.075  & 0.9978 & 1     \\\\\n",
       "\\end{tabular}\n"
      ],
      "text/markdown": [
       "\n",
       "fixed.acidity | volatile.acidity | citric.acid | residual.sugar | chlorides | density | Class | \n",
       "|---|---|---|---|---|---|\n",
       "|  7.4   | 0.70   | 0.00   | 1.9    | 0.076  | 0.9978 | 1      | \n",
       "|  7.8   | 0.88   | 0.00   | 2.6    | 0.098  | 0.9968 | 1      | \n",
       "|  7.8   | 0.76   | 0.04   | 2.3    | 0.092  | 0.9970 | 1      | \n",
       "| 11.2   | 0.28   | 0.56   | 1.9    | 0.075  | 0.9980 | 1      | \n",
       "|  7.4   | 0.70   | 0.00   | 1.9    | 0.076  | 0.9978 | 1      | \n",
       "|  7.4   | 0.66   | 0.00   | 1.8    | 0.075  | 0.9978 | 1      | \n",
       "\n",
       "\n"
      ],
      "text/plain": [
       "  fixed.acidity volatile.acidity citric.acid residual.sugar chlorides density\n",
       "1  7.4          0.70             0.00        1.9            0.076     0.9978 \n",
       "2  7.8          0.88             0.00        2.6            0.098     0.9968 \n",
       "3  7.8          0.76             0.04        2.3            0.092     0.9970 \n",
       "4 11.2          0.28             0.56        1.9            0.075     0.9980 \n",
       "5  7.4          0.70             0.00        1.9            0.076     0.9978 \n",
       "6  7.4          0.66             0.00        1.8            0.075     0.9978 \n",
       "  Class\n",
       "1 1    \n",
       "2 1    \n",
       "3 1    \n",
       "4 1    \n",
       "5 1    \n",
       "6 1    "
      ]
     },
     "metadata": {},
     "output_type": "display_data"
    },
    {
     "data": {
      "text/html": [
       "<ol class=list-inline>\n",
       "\t<li>6497</li>\n",
       "\t<li>7</li>\n",
       "</ol>\n"
      ],
      "text/latex": [
       "\\begin{enumerate*}\n",
       "\\item 6497\n",
       "\\item 7\n",
       "\\end{enumerate*}\n"
      ],
      "text/markdown": [
       "1. 6497\n",
       "2. 7\n",
       "\n",
       "\n"
      ],
      "text/plain": [
       "[1] 6497    7"
      ]
     },
     "metadata": {},
     "output_type": "display_data"
    },
    {
     "data": {
      "text/plain": [
       " fixed.acidity    volatile.acidity  citric.acid     residual.sugar  \n",
       " Min.   : 3.800   Min.   :0.0800   Min.   :0.0000   Min.   : 0.600  \n",
       " 1st Qu.: 6.400   1st Qu.:0.2300   1st Qu.:0.2500   1st Qu.: 1.800  \n",
       " Median : 7.000   Median :0.2900   Median :0.3100   Median : 3.000  \n",
       " Mean   : 7.215   Mean   :0.3397   Mean   :0.3186   Mean   : 5.443  \n",
       " 3rd Qu.: 7.700   3rd Qu.:0.4000   3rd Qu.:0.3900   3rd Qu.: 8.100  \n",
       " Max.   :15.900   Max.   :1.5800   Max.   :1.6600   Max.   :65.800  \n",
       "   chlorides          density       Class   \n",
       " Min.   :0.00900   Min.   :0.9871   0:4898  \n",
       " 1st Qu.:0.03800   1st Qu.:0.9923   1:1599  \n",
       " Median :0.04700   Median :0.9949           \n",
       " Mean   :0.05603   Mean   :0.9947           \n",
       " 3rd Qu.:0.06500   3rd Qu.:0.9970           \n",
       " Max.   :0.61100   Max.   :1.0390           "
      ]
     },
     "metadata": {},
     "output_type": "display_data"
    }
   ],
   "source": [
    "data = select(all_data, fixed.acidity, volatile.acidity, citric.acid, residual.sugar, chlorides, density, Class)\n",
    "# data = select(all_data, fixed.acidity, volatile.acidity, citric.acid, residual.sugar, chlorides, density, Class, Color)\n",
    "head(data)\n",
    "dim(data)\n",
    "summary(data)"
   ]
  },
  {
   "cell_type": "markdown",
   "metadata": {},
   "source": [
    "# BUILD A NAIVE BAYES CLASSIFIER"
   ]
  },
  {
   "cell_type": "code",
   "execution_count": 39,
   "metadata": {},
   "outputs": [
    {
     "name": "stderr",
     "output_type": "stream",
     "text": [
      "Installing package into ‘/home/nbuser/R’\n",
      "(as ‘lib’ is unspecified)\n",
      "Installing package into ‘/home/nbuser/R’\n",
      "(as ‘lib’ is unspecified)\n"
     ]
    }
   ],
   "source": [
    "install.packages(\"naivebayes\")\n",
    "library(naivebayes)\n",
    "install.packages(\"pROC\")\n",
    "library(pROC)"
   ]
  },
  {
   "cell_type": "markdown",
   "metadata": {},
   "source": [
    "# Make a function that quickly tests NBC accuracy"
   ]
  },
  {
   "cell_type": "code",
   "execution_count": 40,
   "metadata": {},
   "outputs": [],
   "source": [
    "test_nbc_accuracy <- function(df, plot=FALSE) {\n",
    " \n",
    "    # df = select(df, -Color)\n",
    "    # split into test and training sets\n",
    "    nrows <- nrow(df)\n",
    "    smp_size <- floor(0.75 * nrows)\n",
    "\n",
    "    set.seed(8720885)\n",
    "    train_ind <- sample(seq_len(nrows), size = smp_size)\n",
    "    \n",
    "    train <- df[train_ind, ]\n",
    "    test <- df[-train_ind, ]\n",
    "    \n",
    "    # create the Naive Bayes Classifer (nbc)\n",
    "    nbc <- naive_bayes(Class ~ ., data = train)\n",
    "    \n",
    "    if (plot) {\n",
    "        plot(nbc)\n",
    "    }\n",
    "    # Make a prediction & test accuracy\n",
    "    test_pred <- predict(nbc, test,type = \"prob\")\n",
    "    \n",
    "    ### junky debug stuff\n",
    "    # print(head (test_pred))\n",
    "    ### junky debug stuff\n",
    "    accuracy <- sum(test[,\"Class\"]==test_pred)/length(test_pred)\n",
    "    print(paste(\"Accuracy=\", round(accuracy*100,2), \"%\", sep=\"\"))\n",
    "\n",
    "    # try to do the AUC\n",
    "    # print(paste(\"AUC=\", auc(test_pred, df$Class)))\n",
    "\n",
    "}"
   ]
  },
  {
   "cell_type": "markdown",
   "metadata": {},
   "source": [
    "## Classification Accuracy, All Attributes"
   ]
  },
  {
   "cell_type": "code",
   "execution_count": 41,
   "metadata": {},
   "outputs": [
    {
     "name": "stdout",
     "output_type": "stream",
     "text": [
      "[1] \"Accuracy=0.62%\"\n",
      "[1] \"Accuracy=0.62%\"\n"
     ]
    }
   ],
   "source": [
    "test_nbc_accuracy(all_data)\n",
    "test_nbc_accuracy(all_data2)"
   ]
  },
  {
   "cell_type": "markdown",
   "metadata": {},
   "source": [
    "## Classification Accuracy, Sensor-supported Attributes"
   ]
  },
  {
   "cell_type": "code",
   "execution_count": 42,
   "metadata": {},
   "outputs": [
    {
     "name": "stdout",
     "output_type": "stream",
     "text": [
      "[1] \"Accuracy=0.43%\"\n"
     ]
    }
   ],
   "source": [
    "test_nbc_accuracy(data)"
   ]
  },
  {
   "cell_type": "markdown",
   "metadata": {},
   "source": [
    "## Comparing Area Under the (Receiver/Operator) Curve (AOC)"
   ]
  },
  {
   "cell_type": "markdown",
   "metadata": {},
   "source": [
    "# OPTIMISING AUC"
   ]
  },
  {
   "cell_type": "markdown",
   "metadata": {},
   "source": [
    "# OPTIMISING ATTRIBUTES"
   ]
  },
  {
   "cell_type": "markdown",
   "metadata": {},
   "source": [
    "# ----------------------------------------------------------"
   ]
  },
  {
   "cell_type": "code",
   "execution_count": 44,
   "metadata": {
    "scrolled": false
   },
   "outputs": [
    {
     "data": {
      "image/jpeg": "[encoded data removed]",
      "image/png": "",
      "image/svg+xml": [
       "<?xml version=\"1.0\" encoding=\"UTF-8\"?>\n",
       "<svg xmlns=\"http://www.w3.org/2000/svg\" xmlns:xlink=\"http://www.w3.org/1999/xlink\" width=\"288pt\" height=\"216pt\" viewBox=\"0 0 288 216\" version=\"1.1\">\n",
       "<defs>\n",
       "<g>\n",
       "<symbol overflow=\"visible\" id=\"glyph0-0\">\n",
       "<path style=\"stroke:none;\" d=\"\"/>\n",
       "</symbol>\n",
       "<symbol overflow=\"visible\" id=\"glyph0-1\">\n",
       "<path style=\"stroke:none;\" d=\"M 6.625 -2.25 L 6.625 -3.375 L 5.3125 -3.375 L 5.3125 -9.125 L 4.296875 -9.125 L 0.21875 -3.453125 L 0.21875 -2.125 L 3.953125 -2.125 L 3.953125 0 L 5.3125 0 L 5.3125 -2.125 L 6.625 -2.125 Z M 4.09375 -3.375 L 1.5625 -3.375 L 4.171875 -7.03125 L 3.953125 -7.109375 L 3.953125 -3.375 Z M 4.09375 -3.375 \"/>\n",
       "</symbol>\n",
       "<symbol overflow=\"visible\" id=\"glyph0-2\">\n",
       "<path style=\"stroke:none;\" d=\"M 6.53125 -2.875 C 6.53125 -4.53125 5.28125 -5.78125 3.703125 -5.78125 C 2.828125 -5.78125 2.03125 -5.390625 1.5625 -4.734375 L 1.78125 -4.65625 C 1.796875 -6.8125 2.375 -7.890625 3.640625 -7.890625 C 4.40625 -7.890625 4.8125 -7.53125 5.015625 -6.546875 L 6.375 -6.546875 C 6.140625 -8.125 5.0625 -9.125 3.71875 -9.125 C 1.65625 -9.125 0.40625 -7.25 0.40625 -4.15625 C 0.40625 -1.40625 1.484375 0.1875 3.515625 0.1875 C 5.203125 0.1875 6.53125 -1.140625 6.53125 -2.875 Z M 5.15625 -2.78125 C 5.15625 -1.671875 4.53125 -1.046875 3.53125 -1.046875 C 2.5 -1.046875 1.84375 -1.71875 1.84375 -2.84375 C 1.84375 -3.953125 2.46875 -4.53125 3.5625 -4.53125 C 4.625 -4.53125 5.15625 -3.96875 5.15625 -2.78125 Z M 5.15625 -2.78125 \"/>\n",
       "</symbol>\n",
       "<symbol overflow=\"visible\" id=\"glyph0-3\">\n",
       "<path style=\"stroke:none;\" d=\"M 6.53125 -2.625 C 6.53125 -3.609375 5.90625 -4.4375 5.140625 -4.796875 C 5.890625 -5.25 6.21875 -5.78125 6.21875 -6.625 C 6.21875 -8.015625 5.015625 -9.125 3.4375 -9.125 C 1.875 -9.125 0.640625 -8.015625 0.640625 -6.625 C 0.640625 -5.796875 0.96875 -5.265625 1.71875 -4.796875 C 0.96875 -4.4375 0.328125 -3.609375 0.328125 -2.640625 C 0.328125 -1.015625 1.6875 0.1875 3.4375 0.1875 C 5.1875 0.1875 6.53125 -1.015625 6.53125 -2.625 Z M 4.84375 -6.59375 C 4.84375 -5.78125 4.359375 -5.359375 3.4375 -5.359375 C 2.515625 -5.359375 2.03125 -5.78125 2.03125 -6.609375 C 2.03125 -7.46875 2.515625 -7.890625 3.4375 -7.890625 C 4.375 -7.890625 4.84375 -7.46875 4.84375 -6.59375 Z M 5.15625 -2.609375 C 5.15625 -1.5625 4.53125 -1.046875 3.40625 -1.046875 C 2.34375 -1.046875 1.71875 -1.578125 1.71875 -2.609375 C 1.71875 -3.65625 2.34375 -4.171875 3.4375 -4.171875 C 4.53125 -4.171875 5.15625 -3.65625 5.15625 -2.609375 Z M 5.15625 -2.609375 \"/>\n",
       "</symbol>\n",
       "<symbol overflow=\"visible\" id=\"glyph0-4\">\n",
       "<path style=\"stroke:none;\" d=\"M 4.46875 -0.125 L 4.46875 -9.125 L 3.515625 -9.125 C 3.09375 -7.625 2.96875 -7.578125 1.140625 -7.34375 L 1.140625 -6.3125 L 3.09375 -6.3125 L 3.09375 0 L 4.46875 0 Z M 4.46875 -0.125 \"/>\n",
       "</symbol>\n",
       "<symbol overflow=\"visible\" id=\"glyph0-5\">\n",
       "<path style=\"stroke:none;\" d=\"M 6.46875 -4.390625 C 6.46875 -7.46875 5.359375 -9.125 3.4375 -9.125 C 1.53125 -9.125 0.40625 -7.4375 0.40625 -4.46875 C 0.40625 -1.46875 1.53125 0.1875 3.4375 0.1875 C 5.3125 0.1875 6.46875 -1.46875 6.46875 -4.390625 Z M 5.078125 -4.484375 C 5.078125 -1.96875 4.640625 -0.984375 3.40625 -0.984375 C 2.25 -0.984375 1.78125 -2.03125 1.78125 -4.453125 C 1.78125 -6.875 2.25 -7.890625 3.4375 -7.890625 C 4.625 -7.890625 5.078125 -6.859375 5.078125 -4.484375 Z M 5.078125 -4.484375 \"/>\n",
       "</symbol>\n",
       "<symbol overflow=\"visible\" id=\"glyph0-6\">\n",
       "<path style=\"stroke:none;\" d=\"M 6.515625 -6.390625 C 6.515625 -7.890625 5.21875 -9.125 3.546875 -9.125 C 1.734375 -9.125 0.546875 -8.0625 0.484375 -5.78125 L 1.84375 -5.78125 C 1.9375 -7.40625 2.421875 -7.90625 3.515625 -7.90625 C 4.515625 -7.90625 5.125 -7.3125 5.125 -6.359375 C 5.125 -5.65625 4.75 -5.15625 3.96875 -4.703125 L 2.8125 -4.046875 C 0.96875 -3 0.390625 -2.078125 0.28125 0 L 6.453125 0 L 6.453125 -1.34375 L 1.8125 -1.34375 C 1.90625 -1.9375 2.265625 -2.3125 3.34375 -2.953125 L 4.59375 -3.625 C 5.84375 -4.28125 6.515625 -5.296875 6.515625 -6.390625 Z M 6.515625 -6.390625 \"/>\n",
       "</symbol>\n",
       "<symbol overflow=\"visible\" id=\"glyph0-7\">\n",
       "<path style=\"stroke:none;\" d=\"M 3.34375 -5.828125 L 3.34375 -6.8125 L 2.265625 -6.8125 L 2.265625 -7.703125 C 2.265625 -8.140625 2.390625 -8.234375 2.859375 -8.234375 C 2.953125 -8.234375 2.984375 -8.234375 3.34375 -8.21875 L 3.34375 -9.3125 C 2.984375 -9.40625 2.84375 -9.40625 2.640625 -9.40625 C 1.671875 -9.40625 0.96875 -8.71875 0.96875 -7.78125 L 0.96875 -6.8125 L 0.09375 -6.8125 L 0.09375 -5.703125 L 0.96875 -5.703125 L 0.96875 0 L 2.265625 0 L 2.265625 -5.703125 L 3.34375 -5.703125 Z M 3.34375 -5.828125 \"/>\n",
       "</symbol>\n",
       "<symbol overflow=\"visible\" id=\"glyph0-8\">\n",
       "<path style=\"stroke:none;\" d=\"M 2.03125 -0.125 L 2.03125 -6.8125 L 0.734375 -6.8125 L 0.734375 0 L 2.03125 0 Z M 2.171875 -7.65625 L 2.171875 -9.09375 L 0.609375 -9.09375 L 0.609375 -7.53125 L 2.171875 -7.53125 Z M 2.171875 -7.65625 \"/>\n",
       "</symbol>\n",
       "<symbol overflow=\"visible\" id=\"glyph0-9\">\n",
       "<path style=\"stroke:none;\" d=\"M 6 -0.21875 L 3.796875 -3.515625 L 6.09375 -6.8125 L 4.59375 -6.8125 L 3.09375 -4.53125 L 1.59375 -6.8125 L 0.09375 -6.8125 L 2.359375 -3.46875 L -0.03125 0 L 1.46875 0 L 3.046875 -2.40625 L 4.625 0 L 6.15625 0 Z M 6 -0.21875 \"/>\n",
       "</symbol>\n",
       "<symbol overflow=\"visible\" id=\"glyph0-10\">\n",
       "<path style=\"stroke:none;\" d=\"M 6.53125 -3.09375 C 6.53125 -4.046875 6.46875 -4.65625 6.28125 -5.140625 C 5.84375 -6.21875 4.71875 -7 3.5 -7 C 1.671875 -7 0.359375 -5.515625 0.359375 -3.359375 C 0.359375 -1.21875 1.640625 0.1875 3.46875 0.1875 C 4.96875 0.1875 6.140625 -0.78125 6.421875 -2.25 L 5.125 -2.25 C 4.796875 -1.25 4.34375 -1.03125 3.515625 -1.03125 C 2.421875 -1.03125 1.734375 -1.59375 1.71875 -2.96875 L 6.53125 -2.96875 Z M 5.390625 -3.9375 C 5.390625 -3.9375 5.203125 -4.0625 5.21875 -4.09375 L 1.75 -4.09375 C 1.828125 -5.109375 2.4375 -5.78125 3.484375 -5.78125 C 4.515625 -5.78125 5.15625 -5.046875 5.15625 -4.03125 Z M 5.390625 -3.9375 \"/>\n",
       "</symbol>\n",
       "<symbol overflow=\"visible\" id=\"glyph0-11\">\n",
       "<path style=\"stroke:none;\" d=\"M 6.3125 -0.125 L 6.3125 -9.375 L 5.015625 -9.375 L 5.015625 -5.84375 L 5.234375 -5.9375 C 4.796875 -6.59375 4.015625 -7 3.140625 -7 C 1.4375 -7 0.1875 -5.546875 0.1875 -3.46875 C 0.1875 -1.25 1.40625 0.1875 3.171875 0.1875 C 4.078125 0.1875 4.78125 -0.1875 5.34375 -1 L 5.125 -1.09375 L 5.125 0 L 6.3125 0 Z M 5.015625 -3.375 C 5.015625 -1.859375 4.421875 -1.046875 3.328125 -1.046875 C 2.171875 -1.046875 1.53125 -1.875 1.53125 -3.40625 C 1.53125 -4.921875 2.171875 -5.765625 3.3125 -5.765625 C 4.4375 -5.765625 5.015625 -4.890625 5.015625 -3.375 Z M 5.015625 -3.375 \"/>\n",
       "</symbol>\n",
       "<symbol overflow=\"visible\" id=\"glyph0-12\">\n",
       "<path style=\"stroke:none;\" d=\"M 2.515625 -0.125 L 2.515625 -1.5625 L 0.953125 -1.5625 L 0.953125 0 L 2.515625 0 Z M 2.515625 -0.125 \"/>\n",
       "</symbol>\n",
       "<symbol overflow=\"visible\" id=\"glyph0-13\">\n",
       "<path style=\"stroke:none;\" d=\"M 6.8125 -0.15625 L 6.8125 -1.09375 C 6.578125 -1.046875 6.53125 -1.046875 6.46875 -1.046875 C 6.09375 -1.046875 6.03125 -1.09375 6.03125 -1.421875 L 6.03125 -5.078125 C 6.03125 -6.234375 5.046875 -7 3.4375 -7 C 1.84375 -7 0.734375 -6.25 0.65625 -4.609375 L 1.96875 -4.609375 C 2.078125 -5.53125 2.421875 -5.78125 3.40625 -5.78125 C 4.34375 -5.78125 4.71875 -5.546875 4.71875 -4.921875 L 4.71875 -4.65625 C 4.71875 -4.21875 4.59375 -4.15625 3.78125 -4.0625 C 2.296875 -3.875 2.078125 -3.828125 1.671875 -3.65625 C 0.90625 -3.34375 0.390625 -2.625 0.390625 -1.828125 C 0.390625 -0.640625 1.34375 0.1875 2.671875 0.1875 C 3.515625 0.1875 4.40625 -0.203125 4.828125 -0.640625 C 4.875 -0.40625 5.46875 0.09375 5.96875 0.09375 C 6.1875 0.09375 6.34375 0.0625 6.8125 -0.046875 Z M 4.71875 -2.390625 C 4.71875 -1.453125 3.90625 -0.984375 2.90625 -0.984375 C 2.09375 -0.984375 1.734375 -1.140625 1.734375 -1.84375 C 1.734375 -2.53125 2.078125 -2.71875 3.1875 -2.875 C 4.28125 -3.03125 4.515625 -3.078125 4.71875 -3.171875 Z M 4.71875 -2.390625 \"/>\n",
       "</symbol>\n",
       "<symbol overflow=\"visible\" id=\"glyph0-14\">\n",
       "<path style=\"stroke:none;\" d=\"M 5.96875 -2.515625 L 4.796875 -2.515625 C 4.59375 -1.328125 4.203125 -1.03125 3.3125 -1.03125 C 2.15625 -1.03125 1.59375 -1.78125 1.59375 -3.34375 C 1.59375 -4.96875 2.15625 -5.78125 3.28125 -5.78125 C 4.15625 -5.78125 4.578125 -5.390625 4.71875 -4.34375 L 6.03125 -4.34375 C 5.890625 -6.078125 4.765625 -7 3.296875 -7 C 1.53125 -7 0.25 -5.515625 0.25 -3.34375 C 0.25 -1.21875 1.515625 0.1875 3.28125 0.1875 C 4.84375 0.1875 5.96875 -0.875 6.09375 -2.515625 Z M 5.96875 -2.515625 \"/>\n",
       "</symbol>\n",
       "<symbol overflow=\"visible\" id=\"glyph0-15\">\n",
       "<path style=\"stroke:none;\" d=\"M 3.296875 -0.125 L 3.296875 -1.171875 C 3.03125 -1.09375 2.875 -1.09375 2.671875 -1.09375 C 2.21875 -1.09375 2.21875 -1.078125 2.21875 -1.53125 L 2.21875 -5.703125 L 3.296875 -5.703125 L 3.296875 -6.8125 L 2.21875 -6.8125 L 2.21875 -8.609375 L 0.921875 -8.609375 L 0.921875 -6.8125 L 0.03125 -6.8125 L 0.03125 -5.703125 L 0.921875 -5.703125 L 0.921875 -1.078125 C 0.921875 -0.40625 1.515625 0.09375 2.328125 0.09375 C 2.578125 0.09375 2.828125 0.0625 3.296875 -0.015625 Z M 3.296875 -0.125 \"/>\n",
       "</symbol>\n",
       "<symbol overflow=\"visible\" id=\"glyph0-16\">\n",
       "<path style=\"stroke:none;\" d=\"M 5.96875 -6.8125 L 4.765625 -6.8125 L 2.90625 -1.578125 L 3.15625 -1.578125 L 1.453125 -6.8125 L 0.0625 -6.8125 L 2.328125 -0.09375 L 1.921875 0.9375 C 1.75 1.40625 1.671875 1.4375 1.21875 1.4375 C 1.078125 1.4375 0.90625 1.40625 0.53125 1.34375 L 0.53125 2.515625 C 0.78125 2.640625 1.09375 2.71875 1.375 2.71875 C 2.109375 2.71875 2.84375 2.1875 3.1875 1.25 L 6.15625 -6.8125 Z M 5.96875 -6.8125 \"/>\n",
       "</symbol>\n",
       "<symbol overflow=\"visible\" id=\"glyph1-0\">\n",
       "<path style=\"stroke:none;\" d=\"\"/>\n",
       "</symbol>\n",
       "<symbol overflow=\"visible\" id=\"glyph1-1\">\n",
       "<path style=\"stroke:none;\" d=\"M -4.390625 -6.46875 C -7.46875 -6.46875 -9.125 -5.359375 -9.125 -3.4375 C -9.125 -1.53125 -7.4375 -0.40625 -4.46875 -0.40625 C -1.46875 -0.40625 0.1875 -1.53125 0.1875 -3.4375 C 0.1875 -5.3125 -1.46875 -6.46875 -4.390625 -6.46875 Z M -4.484375 -5.078125 C -1.96875 -5.078125 -0.984375 -4.640625 -0.984375 -3.40625 C -0.984375 -2.25 -2.03125 -1.78125 -4.453125 -1.78125 C -6.875 -1.78125 -7.890625 -2.25 -7.890625 -3.4375 C -7.890625 -4.625 -6.859375 -5.078125 -4.484375 -5.078125 Z M -4.484375 -5.078125 \"/>\n",
       "</symbol>\n",
       "<symbol overflow=\"visible\" id=\"glyph1-2\">\n",
       "<path style=\"stroke:none;\" d=\"M -0.125 -2.515625 L -1.5625 -2.515625 L -1.5625 -0.953125 L 0 -0.953125 L 0 -2.515625 Z M -0.125 -2.515625 \"/>\n",
       "</symbol>\n",
       "<symbol overflow=\"visible\" id=\"glyph1-3\">\n",
       "<path style=\"stroke:none;\" d=\"M -6.390625 -6.515625 C -7.890625 -6.515625 -9.125 -5.21875 -9.125 -3.546875 C -9.125 -1.734375 -8.0625 -0.546875 -5.78125 -0.484375 L -5.78125 -1.84375 C -7.40625 -1.9375 -7.90625 -2.421875 -7.90625 -3.515625 C -7.90625 -4.515625 -7.3125 -5.125 -6.359375 -5.125 C -5.65625 -5.125 -5.15625 -4.75 -4.703125 -3.96875 L -4.046875 -2.8125 C -3 -0.96875 -2.078125 -0.390625 0 -0.28125 L 0 -6.453125 L -1.34375 -6.453125 L -1.34375 -1.8125 C -1.9375 -1.90625 -2.3125 -2.265625 -2.953125 -3.34375 L -3.625 -4.59375 C -4.28125 -5.84375 -5.296875 -6.515625 -6.390625 -6.515625 Z M -6.390625 -6.515625 \"/>\n",
       "</symbol>\n",
       "<symbol overflow=\"visible\" id=\"glyph1-4\">\n",
       "<path style=\"stroke:none;\" d=\"M -2.25 -6.625 L -3.375 -6.625 L -3.375 -5.3125 L -9.125 -5.3125 L -9.125 -4.296875 L -3.453125 -0.21875 L -2.125 -0.21875 L -2.125 -3.953125 L 0 -3.953125 L 0 -5.3125 L -2.125 -5.3125 L -2.125 -6.625 Z M -3.375 -4.09375 L -3.375 -1.5625 L -7.03125 -4.171875 L -7.109375 -3.953125 L -3.375 -3.953125 Z M -3.375 -4.09375 \"/>\n",
       "</symbol>\n",
       "<symbol overflow=\"visible\" id=\"glyph1-5\">\n",
       "<path style=\"stroke:none;\" d=\"M -4.6875 -8.46875 C -7.515625 -8.46875 -9.375 -6.9375 -9.375 -4.625 L -9.375 -0.96875 L 0 -0.96875 L 0 -4.625 C 0 -6.921875 -1.84375 -8.46875 -4.6875 -8.46875 Z M -4.671875 -7.03125 C -2.375 -7.03125 -1.28125 -6.21875 -1.28125 -4.421875 L -1.28125 -2.40625 L -8.09375 -2.40625 L -8.09375 -4.421875 C -8.09375 -6.21875 -7 -7.03125 -4.671875 -7.03125 Z M -4.671875 -7.03125 \"/>\n",
       "</symbol>\n",
       "<symbol overflow=\"visible\" id=\"glyph1-6\">\n",
       "<path style=\"stroke:none;\" d=\"M -3.09375 -6.53125 C -4.046875 -6.53125 -4.65625 -6.46875 -5.140625 -6.28125 C -6.21875 -5.84375 -7 -4.71875 -7 -3.5 C -7 -1.671875 -5.515625 -0.359375 -3.359375 -0.359375 C -1.21875 -0.359375 0.1875 -1.640625 0.1875 -3.46875 C 0.1875 -4.96875 -0.78125 -6.140625 -2.25 -6.421875 L -2.25 -5.125 C -1.25 -4.796875 -1.03125 -4.34375 -1.03125 -3.515625 C -1.03125 -2.421875 -1.59375 -1.734375 -2.96875 -1.71875 L -2.96875 -6.53125 Z M -3.9375 -5.390625 C -3.9375 -5.390625 -4.0625 -5.203125 -4.09375 -5.21875 L -4.09375 -1.75 C -5.109375 -1.828125 -5.78125 -2.4375 -5.78125 -3.484375 C -5.78125 -4.515625 -5.046875 -5.15625 -4.03125 -5.15625 Z M -3.9375 -5.390625 \"/>\n",
       "</symbol>\n",
       "<symbol overflow=\"visible\" id=\"glyph1-7\">\n",
       "<path style=\"stroke:none;\" d=\"M -0.125 -6.21875 L -5.078125 -6.21875 C -6.15625 -6.21875 -7 -5.28125 -7 -4.015625 C -7 -3.03125 -6.578125 -2.3125 -5.65625 -1.734375 L -5.578125 -1.96875 L -6.8125 -1.96875 L -6.8125 -0.734375 L 0 -0.734375 L 0 -2.03125 L -3.734375 -2.03125 C -5.078125 -2.03125 -5.828125 -2.640625 -5.828125 -3.703125 C -5.828125 -4.53125 -5.453125 -4.90625 -4.65625 -4.90625 L 0 -4.90625 L 0 -6.21875 Z M -0.125 -6.21875 \"/>\n",
       "</symbol>\n",
       "<symbol overflow=\"visible\" id=\"glyph1-8\">\n",
       "<path style=\"stroke:none;\" d=\"M -1.96875 -5.859375 C -2.9375 -5.859375 -3.5625 -5.1875 -3.875 -3.890625 L -4.109375 -2.890625 C -4.3125 -2.03125 -4.453125 -1.796875 -4.90625 -1.796875 C -5.515625 -1.796875 -5.78125 -2.21875 -5.78125 -3.0625 C -5.78125 -3.90625 -5.53125 -4.21875 -4.71875 -4.234375 L -4.71875 -5.59375 C -6.140625 -5.59375 -7 -4.609375 -7 -3.09375 C -7 -1.578125 -6.078125 -0.453125 -4.859375 -0.453125 C -3.84375 -0.453125 -3.21875 -1.109375 -2.84375 -2.65625 L -2.609375 -3.640625 C -2.4375 -4.359375 -2.34375 -4.515625 -1.875 -4.515625 C -1.265625 -4.515625 -1.03125 -4.03125 -1.03125 -3.125 C -1.03125 -2.1875 -1.125 -1.78125 -2.265625 -1.640625 L -2.265625 -0.28125 C -0.609375 -0.34375 0.1875 -1.328125 0.1875 -3.03125 C 0.1875 -4.6875 -0.703125 -5.859375 -1.96875 -5.859375 Z M -1.96875 -5.859375 \"/>\n",
       "</symbol>\n",
       "<symbol overflow=\"visible\" id=\"glyph1-9\">\n",
       "<path style=\"stroke:none;\" d=\"M -0.125 -2.03125 L -6.8125 -2.03125 L -6.8125 -0.734375 L 0 -0.734375 L 0 -2.03125 Z M -7.65625 -2.171875 L -9.09375 -2.171875 L -9.09375 -0.609375 L -7.53125 -0.609375 L -7.53125 -2.171875 Z M -7.65625 -2.171875 \"/>\n",
       "</symbol>\n",
       "<symbol overflow=\"visible\" id=\"glyph1-10\">\n",
       "<path style=\"stroke:none;\" d=\"M -0.125 -3.296875 L -1.171875 -3.296875 C -1.09375 -3.03125 -1.09375 -2.875 -1.09375 -2.671875 C -1.09375 -2.21875 -1.078125 -2.21875 -1.53125 -2.21875 L -5.703125 -2.21875 L -5.703125 -3.296875 L -6.8125 -3.296875 L -6.8125 -2.21875 L -8.609375 -2.21875 L -8.609375 -0.921875 L -6.8125 -0.921875 L -6.8125 -0.03125 L -5.703125 -0.03125 L -5.703125 -0.921875 L -1.078125 -0.921875 C -0.40625 -0.921875 0.09375 -1.515625 0.09375 -2.328125 C 0.09375 -2.578125 0.0625 -2.828125 -0.015625 -3.296875 Z M -0.125 -3.296875 \"/>\n",
       "</symbol>\n",
       "<symbol overflow=\"visible\" id=\"glyph1-11\">\n",
       "<path style=\"stroke:none;\" d=\"M -6.8125 -5.96875 L -6.8125 -4.765625 L -1.578125 -2.90625 L -1.578125 -3.15625 L -6.8125 -1.453125 L -6.8125 -0.0625 L -0.09375 -2.328125 L 0.9375 -1.921875 C 1.40625 -1.75 1.4375 -1.671875 1.4375 -1.21875 C 1.4375 -1.078125 1.40625 -0.90625 1.34375 -0.53125 L 2.515625 -0.53125 C 2.640625 -0.78125 2.71875 -1.09375 2.71875 -1.375 C 2.71875 -2.109375 2.1875 -2.84375 1.25 -3.1875 L -6.8125 -6.15625 Z M -6.8125 -5.96875 \"/>\n",
       "</symbol>\n",
       "</g>\n",
       "</defs>\n",
       "<g id=\"surface568\">\n",
       "<rect x=\"0\" y=\"0\" width=\"288\" height=\"216\" style=\"fill:rgb(100%,100%,100%);fill-opacity:1;stroke:none;\"/>\n",
       "<path style=\"fill:none;stroke-width:1;stroke-linecap:round;stroke-linejoin:round;stroke:rgb(100%,0%,0%);stroke-opacity:1;stroke-miterlimit:10;\" d=\"M 66.398438 139.347656 L 66.761719 139.335938 L 67.121094 139.324219 L 67.839844 139.292969 L 68.558594 139.253906 L 68.921875 139.234375 L 69.28125 139.210938 L 70 139.15625 L 70.359375 139.125 L 70.722656 139.09375 L 71.082031 139.058594 L 71.441406 139.019531 L 72.160156 138.933594 L 72.519531 138.882812 L 72.882812 138.828125 L 73.242188 138.773438 L 73.601562 138.710938 L 73.960938 138.644531 L 74.320312 138.570312 L 74.683594 138.492188 L 75.042969 138.410156 L 75.402344 138.320312 L 75.761719 138.222656 L 76.121094 138.121094 L 76.480469 138.007812 L 76.84375 137.890625 L 77.203125 137.761719 L 77.5625 137.628906 L 77.921875 137.480469 L 78.28125 137.328125 L 78.644531 137.160156 L 79.003906 136.984375 L 79.363281 136.796875 L 79.722656 136.597656 L 80.082031 136.382812 L 80.441406 136.15625 L 80.804688 135.917969 L 81.164062 135.664062 L 81.523438 135.394531 L 81.882812 135.113281 L 82.242188 134.8125 L 82.605469 134.492188 L 82.964844 134.160156 L 83.324219 133.804688 L 83.683594 133.433594 L 84.042969 133.042969 L 84.402344 132.632812 L 84.765625 132.199219 L 85.125 131.746094 L 85.484375 131.273438 L 85.84375 130.777344 L 86.203125 130.257812 L 86.5625 129.710938 L 86.925781 129.144531 L 87.285156 128.554688 L 87.644531 127.9375 L 88.003906 127.292969 L 88.363281 126.625 L 88.726562 125.933594 L 89.085938 125.210938 L 89.445312 124.464844 L 89.804688 123.691406 L 90.164062 122.890625 L 90.523438 122.0625 L 90.886719 121.210938 L 91.246094 120.328125 L 91.605469 119.421875 L 91.964844 118.484375 L 92.324219 117.523438 L 92.6875 116.535156 L 93.046875 115.523438 L 93.40625 114.484375 L 93.765625 113.421875 L 94.125 112.335938 L 94.484375 111.222656 L 94.847656 110.089844 L 95.207031 108.9375 L 95.566406 107.761719 L 95.925781 106.566406 L 96.285156 105.355469 L 96.648438 104.125 L 97.007812 102.882812 L 97.367188 101.621094 L 97.726562 100.351562 L 98.085938 99.066406 L 98.445312 97.773438 L 98.808594 96.472656 L 99.167969 95.167969 L 99.527344 93.859375 L 100.246094 91.234375 L 100.609375 89.921875 L 100.96875 88.617188 L 101.328125 87.316406 L 101.6875 86.027344 L 102.046875 84.746094 L 102.40625 83.480469 L 102.769531 82.230469 L 103.128906 80.996094 L 103.488281 79.785156 L 103.847656 78.59375 L 104.207031 77.429688 L 104.566406 76.289062 L 104.929688 75.179688 L 105.289062 74.101562 L 105.648438 73.058594 L 106.007812 72.050781 L 106.367188 71.082031 L 106.730469 70.15625 L 107.089844 69.269531 L 107.449219 68.425781 L 107.808594 67.632812 L 108.167969 66.882812 L 108.527344 66.183594 L 108.890625 65.539062 L 109.25 64.945312 L 109.609375 64.402344 L 109.96875 63.917969 L 110.328125 63.488281 L 110.691406 63.117188 L 111.050781 62.804688 L 111.410156 62.550781 L 111.769531 62.355469 L 112.128906 62.222656 L 112.488281 62.148438 L 112.851562 62.132812 L 113.210938 62.179688 L 113.570312 62.289062 L 113.929688 62.453125 L 114.289062 62.679688 L 114.652344 62.96875 L 115.011719 63.3125 L 115.371094 63.714844 L 115.730469 64.175781 L 116.089844 64.691406 L 116.449219 65.261719 L 116.8125 65.882812 L 117.171875 66.558594 L 117.53125 67.285156 L 117.890625 68.058594 L 118.25 68.878906 L 118.613281 69.746094 L 118.972656 70.652344 L 119.332031 71.605469 L 119.691406 72.59375 L 120.050781 73.621094 L 120.410156 74.683594 L 120.773438 75.777344 L 121.132812 76.902344 L 121.492188 78.058594 L 121.851562 79.238281 L 122.210938 80.441406 L 122.570312 81.664062 L 122.933594 82.90625 L 123.292969 84.167969 L 123.652344 85.441406 L 124.011719 86.726562 L 124.371094 88.023438 L 124.734375 89.324219 L 125.09375 90.632812 L 126.171875 94.570312 L 126.53125 95.878906 L 126.894531 97.179688 L 127.253906 98.476562 L 127.613281 99.765625 L 127.972656 101.042969 L 128.332031 102.308594 L 128.695312 103.558594 L 129.054688 104.796875 L 129.414062 106.015625 L 129.773438 107.21875 L 130.132812 108.402344 L 130.492188 109.566406 L 130.855469 110.710938 L 131.214844 111.828125 L 131.574219 112.925781 L 131.933594 114 L 132.292969 115.050781 L 132.65625 116.078125 L 133.015625 117.074219 L 133.375 118.050781 L 133.734375 118.996094 L 134.09375 119.917969 L 134.453125 120.808594 L 134.816406 121.675781 L 135.175781 122.515625 L 135.535156 123.328125 L 135.894531 124.117188 L 136.253906 124.875 L 136.617188 125.605469 L 136.976562 126.3125 L 137.335938 126.992188 L 137.695312 127.644531 L 138.054688 128.273438 L 138.414062 128.878906 L 138.777344 129.457031 L 139.136719 130.011719 L 139.496094 130.542969 L 139.855469 131.050781 L 140.214844 131.535156 L 140.574219 131.996094 L 140.9375 132.4375 L 141.296875 132.859375 L 141.65625 133.257812 L 142.015625 133.640625 L 142.375 134 L 142.738281 134.34375 L 143.097656 134.667969 L 143.457031 134.976562 L 143.816406 135.269531 L 144.175781 135.542969 L 144.535156 135.804688 L 144.898438 136.050781 L 145.257812 136.28125 L 145.617188 136.5 L 145.976562 136.707031 L 146.335938 136.898438 L 146.699219 137.082031 L 147.058594 137.25 L 147.417969 137.410156 L 147.777344 137.5625 L 148.136719 137.703125 L 148.496094 137.832031 L 148.859375 137.957031 L 149.21875 138.070312 L 149.578125 138.175781 L 149.9375 138.277344 L 150.296875 138.371094 L 150.660156 138.457031 L 151.019531 138.535156 L 151.378906 138.609375 L 151.738281 138.679688 L 152.097656 138.746094 L 152.457031 138.804688 L 152.820312 138.859375 L 153.179688 138.910156 L 153.539062 138.957031 L 153.898438 139 L 154.257812 139.039062 L 154.621094 139.078125 L 154.980469 139.113281 L 155.339844 139.144531 L 156.058594 139.199219 L 156.417969 139.222656 L 156.78125 139.246094 L 157.5 139.285156 L 158.578125 139.332031 L 158.941406 139.34375 L 159.660156 139.367188 L 160.378906 139.382812 L 160.742188 139.394531 L 161.101562 139.398438 L 161.820312 139.414062 L 162.539062 139.421875 L 162.902344 139.425781 L 163.261719 139.433594 L 163.621094 139.433594 L 164.339844 139.441406 L 164.703125 139.445312 L 165.0625 139.445312 L 165.421875 139.449219 L 165.78125 139.449219 L 166.140625 139.453125 L 166.5 139.453125 L 166.863281 139.457031 L 167.941406 139.457031 L 168.300781 139.460938 L 169.742188 139.460938 L 170.101562 139.464844 L 250.398438 139.464844 \"/>\n",
       "<path style=\"fill:none;stroke-width:1;stroke-linecap:round;stroke-linejoin:round;stroke:rgb(0%,0%,0%);stroke-opacity:1;stroke-miterlimit:10;\" d=\"M 69.441406 142.558594 L 251.921875 142.558594 \"/>\n",
       "<path style=\"fill:none;stroke-width:1;stroke-linecap:round;stroke-linejoin:round;stroke:rgb(0%,0%,0%);stroke-opacity:1;stroke-miterlimit:10;\" d=\"M 69.441406 142.558594 L 69.441406 149.761719 \"/>\n",
       "<path style=\"fill:none;stroke-width:1;stroke-linecap:round;stroke-linejoin:round;stroke:rgb(0%,0%,0%);stroke-opacity:1;stroke-miterlimit:10;\" d=\"M 99.855469 142.558594 L 99.855469 149.761719 \"/>\n",
       "<path style=\"fill:none;stroke-width:1;stroke-linecap:round;stroke-linejoin:round;stroke:rgb(0%,0%,0%);stroke-opacity:1;stroke-miterlimit:10;\" d=\"M 130.269531 142.558594 L 130.269531 149.761719 \"/>\n",
       "<path style=\"fill:none;stroke-width:1;stroke-linecap:round;stroke-linejoin:round;stroke:rgb(0%,0%,0%);stroke-opacity:1;stroke-miterlimit:10;\" d=\"M 160.679688 142.558594 L 160.679688 149.761719 \"/>\n",
       "<path style=\"fill:none;stroke-width:1;stroke-linecap:round;stroke-linejoin:round;stroke:rgb(0%,0%,0%);stroke-opacity:1;stroke-miterlimit:10;\" d=\"M 191.09375 142.558594 L 191.09375 149.761719 \"/>\n",
       "<path style=\"fill:none;stroke-width:1;stroke-linecap:round;stroke-linejoin:round;stroke:rgb(0%,0%,0%);stroke-opacity:1;stroke-miterlimit:10;\" d=\"M 221.507812 142.558594 L 221.507812 149.761719 \"/>\n",
       "<path style=\"fill:none;stroke-width:1;stroke-linecap:round;stroke-linejoin:round;stroke:rgb(0%,0%,0%);stroke-opacity:1;stroke-miterlimit:10;\" d=\"M 251.921875 142.558594 L 251.921875 149.761719 \"/>\n",
       "<g style=\"fill:rgb(0%,0%,0%);fill-opacity:1;\">\n",
       "  <use xlink:href=\"#glyph0-1\" x=\"65.964844\" y=\"169.921875\"/>\n",
       "</g>\n",
       "<g style=\"fill:rgb(0%,0%,0%);fill-opacity:1;\">\n",
       "  <use xlink:href=\"#glyph0-2\" x=\"96.378906\" y=\"169.921875\"/>\n",
       "</g>\n",
       "<g style=\"fill:rgb(0%,0%,0%);fill-opacity:1;\">\n",
       "  <use xlink:href=\"#glyph0-3\" x=\"126.792969\" y=\"169.921875\"/>\n",
       "</g>\n",
       "<g style=\"fill:rgb(0%,0%,0%);fill-opacity:1;\">\n",
       "  <use xlink:href=\"#glyph0-4\" x=\"153.730469\" y=\"169.921875\"/>\n",
       "  <use xlink:href=\"#glyph0-5\" x=\"160.680496\" y=\"169.921875\"/>\n",
       "</g>\n",
       "<g style=\"fill:rgb(0%,0%,0%);fill-opacity:1;\">\n",
       "  <use xlink:href=\"#glyph0-4\" x=\"184.144531\" y=\"169.921875\"/>\n",
       "  <use xlink:href=\"#glyph0-6\" x=\"191.094559\" y=\"169.921875\"/>\n",
       "</g>\n",
       "<g style=\"fill:rgb(0%,0%,0%);fill-opacity:1;\">\n",
       "  <use xlink:href=\"#glyph0-4\" x=\"214.558594\" y=\"169.921875\"/>\n",
       "  <use xlink:href=\"#glyph0-1\" x=\"221.508621\" y=\"169.921875\"/>\n",
       "</g>\n",
       "<g style=\"fill:rgb(0%,0%,0%);fill-opacity:1;\">\n",
       "  <use xlink:href=\"#glyph0-4\" x=\"244.972656\" y=\"169.921875\"/>\n",
       "  <use xlink:href=\"#glyph0-2\" x=\"251.922684\" y=\"169.921875\"/>\n",
       "</g>\n",
       "<path style=\"fill:none;stroke-width:1;stroke-linecap:round;stroke-linejoin:round;stroke:rgb(0%,0%,0%);stroke-opacity:1;stroke-miterlimit:10;\" d=\"M 59.039062 139.464844 L 59.039062 73.84375 \"/>\n",
       "<path style=\"fill:none;stroke-width:1;stroke-linecap:round;stroke-linejoin:round;stroke:rgb(0%,0%,0%);stroke-opacity:1;stroke-miterlimit:10;\" d=\"M 59.039062 139.464844 L 51.839844 139.464844 \"/>\n",
       "<path style=\"fill:none;stroke-width:1;stroke-linecap:round;stroke-linejoin:round;stroke:rgb(0%,0%,0%);stroke-opacity:1;stroke-miterlimit:10;\" d=\"M 59.039062 123.0625 L 51.839844 123.0625 \"/>\n",
       "<path style=\"fill:none;stroke-width:1;stroke-linecap:round;stroke-linejoin:round;stroke:rgb(0%,0%,0%);stroke-opacity:1;stroke-miterlimit:10;\" d=\"M 59.039062 106.65625 L 51.839844 106.65625 \"/>\n",
       "<path style=\"fill:none;stroke-width:1;stroke-linecap:round;stroke-linejoin:round;stroke:rgb(0%,0%,0%);stroke-opacity:1;stroke-miterlimit:10;\" d=\"M 59.039062 90.25 L 51.839844 90.25 \"/>\n",
       "<path style=\"fill:none;stroke-width:1;stroke-linecap:round;stroke-linejoin:round;stroke:rgb(0%,0%,0%);stroke-opacity:1;stroke-miterlimit:10;\" d=\"M 59.039062 73.84375 L 51.839844 73.84375 \"/>\n",
       "<g style=\"fill:rgb(0%,0%,0%);fill-opacity:1;\">\n",
       "  <use xlink:href=\"#glyph1-1\" x=\"43.199219\" y=\"148.152344\"/>\n",
       "  <use xlink:href=\"#glyph1-2\" x=\"43.199219\" y=\"141.202316\"/>\n",
       "  <use xlink:href=\"#glyph1-1\" x=\"43.199219\" y=\"137.72731\"/>\n",
       "</g>\n",
       "<g style=\"fill:rgb(0%,0%,0%);fill-opacity:1;\">\n",
       "  <use xlink:href=\"#glyph1-1\" x=\"43.199219\" y=\"115.34375\"/>\n",
       "  <use xlink:href=\"#glyph1-2\" x=\"43.199219\" y=\"108.393723\"/>\n",
       "  <use xlink:href=\"#glyph1-3\" x=\"43.199219\" y=\"104.918716\"/>\n",
       "</g>\n",
       "<g style=\"fill:rgb(0%,0%,0%);fill-opacity:1;\">\n",
       "  <use xlink:href=\"#glyph1-1\" x=\"43.199219\" y=\"82.53125\"/>\n",
       "  <use xlink:href=\"#glyph1-2\" x=\"43.199219\" y=\"75.581223\"/>\n",
       "  <use xlink:href=\"#glyph1-4\" x=\"43.199219\" y=\"72.106216\"/>\n",
       "</g>\n",
       "<path style=\"fill:none;stroke-width:1;stroke-linecap:round;stroke-linejoin:round;stroke:rgb(0%,0%,0%);stroke-opacity:1;stroke-miterlimit:10;\" d=\"M 59.039062 142.558594 L 257.761719 142.558594 L 257.761719 59.039062 L 59.039062 59.039062 L 59.039062 142.558594 \"/>\n",
       "<g style=\"fill:rgb(0%,0%,0%);fill-opacity:1;\">\n",
       "  <use xlink:href=\"#glyph0-7\" x=\"125.75\" y=\"198.71875\"/>\n",
       "  <use xlink:href=\"#glyph0-8\" x=\"129.225006\" y=\"198.71875\"/>\n",
       "  <use xlink:href=\"#glyph0-9\" x=\"132.000015\" y=\"198.71875\"/>\n",
       "  <use xlink:href=\"#glyph0-10\" x=\"138.250046\" y=\"198.71875\"/>\n",
       "  <use xlink:href=\"#glyph0-11\" x=\"145.200073\" y=\"198.71875\"/>\n",
       "  <use xlink:href=\"#glyph0-12\" x=\"152.150101\" y=\"198.71875\"/>\n",
       "  <use xlink:href=\"#glyph0-13\" x=\"155.625107\" y=\"198.71875\"/>\n",
       "  <use xlink:href=\"#glyph0-14\" x=\"162.575134\" y=\"198.71875\"/>\n",
       "  <use xlink:href=\"#glyph0-8\" x=\"168.825165\" y=\"198.71875\"/>\n",
       "  <use xlink:href=\"#glyph0-11\" x=\"171.600174\" y=\"198.71875\"/>\n",
       "  <use xlink:href=\"#glyph0-8\" x=\"178.550201\" y=\"198.71875\"/>\n",
       "  <use xlink:href=\"#glyph0-15\" x=\"181.325211\" y=\"198.71875\"/>\n",
       "  <use xlink:href=\"#glyph0-16\" x=\"184.800217\" y=\"198.71875\"/>\n",
       "</g>\n",
       "<g style=\"fill:rgb(0%,0%,0%);fill-opacity:1;\">\n",
       "  <use xlink:href=\"#glyph1-5\" x=\"14.398438\" y=\"121.636719\"/>\n",
       "  <use xlink:href=\"#glyph1-6\" x=\"14.398438\" y=\"112.611679\"/>\n",
       "  <use xlink:href=\"#glyph1-7\" x=\"14.398438\" y=\"105.661652\"/>\n",
       "  <use xlink:href=\"#glyph1-8\" x=\"14.398438\" y=\"98.711624\"/>\n",
       "  <use xlink:href=\"#glyph1-9\" x=\"14.398438\" y=\"92.461594\"/>\n",
       "  <use xlink:href=\"#glyph1-10\" x=\"14.398438\" y=\"89.686584\"/>\n",
       "  <use xlink:href=\"#glyph1-11\" x=\"14.398438\" y=\"86.211578\"/>\n",
       "</g>\n",
       "<path style=\"fill:none;stroke-width:1;stroke-linecap:round;stroke-linejoin:round;stroke:rgb(0%,80.392157%,0%);stroke-opacity:1;stroke-dasharray:4,4;stroke-miterlimit:10;\" d=\"M 66.398438 138.222656 L 66.761719 138.179688 L 67.839844 138.039062 L 68.558594 137.9375 L 68.921875 137.882812 L 69.640625 137.773438 L 70.359375 137.65625 L 70.722656 137.59375 L 71.441406 137.46875 L 71.800781 137.402344 L 72.160156 137.332031 L 72.519531 137.265625 L 72.882812 137.191406 L 73.601562 137.042969 L 74.320312 136.886719 L 74.683594 136.804688 L 75.042969 136.722656 L 75.402344 136.636719 L 76.480469 136.367188 L 76.84375 136.269531 L 77.203125 136.175781 L 78.28125 135.871094 L 78.644531 135.765625 L 79.003906 135.65625 L 79.722656 135.429688 L 80.441406 135.195312 L 80.804688 135.074219 L 81.523438 134.824219 L 81.882812 134.695312 L 82.242188 134.5625 L 82.605469 134.429688 L 82.964844 134.289062 L 83.324219 134.152344 L 84.042969 133.863281 L 84.402344 133.714844 L 84.765625 133.5625 L 85.484375 133.25 L 85.84375 133.089844 L 86.5625 132.761719 L 86.925781 132.589844 L 87.285156 132.417969 L 88.003906 132.066406 L 88.363281 131.886719 L 88.726562 131.699219 L 89.085938 131.515625 L 89.445312 131.324219 L 90.164062 130.933594 L 90.523438 130.734375 L 90.886719 130.53125 L 91.246094 130.328125 L 91.964844 129.90625 L 92.324219 129.691406 L 92.6875 129.476562 L 93.40625 129.03125 L 94.125 128.578125 L 94.484375 128.34375 L 94.847656 128.109375 L 95.566406 127.632812 L 95.925781 127.390625 L 96.285156 127.144531 L 96.648438 126.894531 L 97.726562 126.132812 L 98.445312 125.609375 L 98.808594 125.347656 L 99.886719 124.539062 L 100.246094 124.265625 L 100.609375 123.988281 L 100.96875 123.710938 L 101.6875 123.148438 L 102.40625 122.578125 L 102.769531 122.292969 L 103.128906 122 L 103.488281 121.710938 L 104.207031 121.125 L 104.566406 120.828125 L 104.929688 120.53125 L 105.289062 120.234375 L 106.367188 119.332031 L 106.730469 119.03125 L 107.089844 118.726562 L 107.449219 118.425781 L 108.527344 117.511719 L 108.890625 117.207031 L 109.609375 116.597656 L 109.96875 116.289062 L 110.328125 115.984375 L 110.691406 115.679688 L 111.050781 115.378906 L 111.769531 114.769531 L 112.488281 114.167969 L 112.851562 113.867188 L 113.210938 113.566406 L 113.929688 112.972656 L 114.289062 112.679688 L 114.652344 112.386719 L 115.011719 112.09375 L 115.371094 111.804688 L 116.449219 110.949219 L 116.8125 110.667969 L 117.53125 110.113281 L 118.25 109.574219 L 118.613281 109.304688 L 119.332031 108.78125 L 119.691406 108.523438 L 120.410156 108.023438 L 120.773438 107.777344 L 121.132812 107.535156 L 121.492188 107.296875 L 121.851562 107.0625 L 122.210938 106.832031 L 122.570312 106.609375 L 122.933594 106.386719 L 123.652344 105.957031 L 124.371094 105.550781 L 124.734375 105.351562 L 125.09375 105.160156 L 125.8125 104.792969 L 126.171875 104.617188 L 126.53125 104.449219 L 126.894531 104.28125 L 127.613281 103.96875 L 128.332031 103.679688 L 128.695312 103.546875 L 129.054688 103.414062 L 129.414062 103.292969 L 129.773438 103.175781 L 130.132812 103.0625 L 130.492188 102.957031 L 130.855469 102.859375 L 131.214844 102.769531 L 131.574219 102.683594 L 131.933594 102.601562 L 132.292969 102.53125 L 132.65625 102.464844 L 133.015625 102.40625 L 133.375 102.351562 L 133.734375 102.308594 L 134.09375 102.269531 L 134.453125 102.234375 L 134.816406 102.210938 L 135.175781 102.191406 L 135.535156 102.179688 L 135.894531 102.171875 L 136.253906 102.175781 L 136.617188 102.183594 L 136.976562 102.199219 L 137.335938 102.21875 L 137.695312 102.25 L 138.054688 102.285156 L 138.414062 102.324219 L 138.777344 102.375 L 139.136719 102.429688 L 139.496094 102.492188 L 139.855469 102.558594 L 140.214844 102.636719 L 140.574219 102.71875 L 140.9375 102.804688 L 141.65625 103 L 142.015625 103.109375 L 142.375 103.222656 L 142.738281 103.34375 L 143.097656 103.46875 L 143.457031 103.601562 L 143.816406 103.738281 L 144.175781 103.882812 L 144.535156 104.035156 L 144.898438 104.1875 L 145.257812 104.351562 L 145.617188 104.519531 L 145.976562 104.691406 L 146.335938 104.867188 L 146.699219 105.050781 L 147.417969 105.433594 L 147.777344 105.632812 L 148.136719 105.835938 L 148.496094 106.046875 L 148.859375 106.261719 L 149.21875 106.476562 L 149.578125 106.699219 L 150.296875 107.160156 L 150.660156 107.394531 L 151.378906 107.878906 L 151.738281 108.125 L 152.457031 108.632812 L 152.820312 108.890625 L 153.179688 109.152344 L 153.898438 109.683594 L 154.257812 109.957031 L 154.621094 110.230469 L 155.339844 110.785156 L 155.699219 111.066406 L 156.417969 111.636719 L 156.78125 111.925781 L 157.140625 112.214844 L 157.859375 112.800781 L 158.578125 113.394531 L 158.941406 113.691406 L 160.019531 114.59375 L 160.378906 114.898438 L 160.742188 115.199219 L 162.539062 116.722656 L 162.902344 117.027344 L 164.339844 118.246094 L 164.703125 118.550781 L 165.0625 118.855469 L 166.5 120.058594 L 166.863281 120.359375 L 167.582031 120.953125 L 168.300781 121.539062 L 168.664062 121.832031 L 169.742188 122.699219 L 170.101562 122.984375 L 170.460938 123.265625 L 170.824219 123.546875 L 171.183594 123.828125 L 171.542969 124.105469 L 172.261719 124.652344 L 172.625 124.921875 L 172.984375 125.191406 L 173.34375 125.457031 L 174.0625 125.980469 L 174.421875 126.238281 L 174.785156 126.496094 L 175.144531 126.746094 L 175.503906 127 L 176.222656 127.492188 L 176.582031 127.734375 L 176.945312 127.972656 L 177.664062 128.441406 L 178.382812 128.902344 L 178.746094 129.125 L 179.105469 129.347656 L 179.464844 129.566406 L 180.183594 129.996094 L 180.542969 130.207031 L 180.90625 130.414062 L 181.265625 130.617188 L 181.984375 131.015625 L 182.34375 131.210938 L 182.707031 131.402344 L 183.066406 131.59375 L 183.785156 131.960938 L 184.144531 132.140625 L 184.503906 132.316406 L 184.867188 132.492188 L 185.226562 132.664062 L 185.585938 132.828125 L 185.945312 132.996094 L 186.304688 133.15625 L 186.667969 133.316406 L 187.027344 133.472656 L 187.746094 133.777344 L 188.464844 134.066406 L 188.828125 134.210938 L 189.546875 134.484375 L 190.265625 134.75 L 190.628906 134.878906 L 190.988281 135.003906 L 191.707031 135.246094 L 192.066406 135.363281 L 192.425781 135.476562 L 192.789062 135.589844 L 193.507812 135.808594 L 193.867188 135.914062 L 194.585938 136.117188 L 194.949219 136.214844 L 195.308594 136.3125 L 195.667969 136.402344 L 196.027344 136.496094 L 196.386719 136.585938 L 196.75 136.671875 L 197.109375 136.757812 L 197.46875 136.839844 L 197.828125 136.917969 L 198.1875 137 L 198.546875 137.074219 L 198.910156 137.148438 L 199.269531 137.222656 L 199.988281 137.363281 L 200.347656 137.429688 L 200.710938 137.496094 L 201.429688 137.621094 L 202.507812 137.796875 L 202.871094 137.851562 L 203.230469 137.90625 L 204.308594 138.058594 L 204.671875 138.105469 L 205.390625 138.199219 L 206.109375 138.285156 L 206.46875 138.324219 L 206.832031 138.367188 L 207.191406 138.402344 L 207.550781 138.441406 L 208.269531 138.511719 L 208.632812 138.546875 L 208.992188 138.582031 L 210.070312 138.675781 L 210.429688 138.703125 L 210.792969 138.730469 L 211.871094 138.8125 L 212.589844 138.859375 L 212.953125 138.882812 L 213.3125 138.90625 L 213.671875 138.925781 L 214.03125 138.949219 L 214.390625 138.96875 L 214.753906 138.988281 L 215.113281 139.007812 L 215.472656 139.023438 L 215.832031 139.042969 L 216.550781 139.074219 L 216.914062 139.089844 L 217.632812 139.121094 L 217.992188 139.132812 L 218.351562 139.148438 L 218.714844 139.160156 L 220.511719 139.21875 L 220.875 139.230469 L 221.234375 139.238281 L 221.59375 139.25 L 222.3125 139.265625 L 222.675781 139.277344 L 223.753906 139.300781 L 224.113281 139.304688 L 224.472656 139.3125 L 224.835938 139.320312 L 225.195312 139.328125 L 225.554688 139.332031 L 225.914062 139.339844 L 226.273438 139.34375 L 226.636719 139.351562 L 227.714844 139.363281 L 228.074219 139.371094 L 228.433594 139.375 L 228.796875 139.378906 L 230.59375 139.398438 L 230.957031 139.398438 L 232.035156 139.410156 L 232.394531 139.410156 L 232.757812 139.414062 L 233.117188 139.417969 L 233.476562 139.417969 L 234.195312 139.425781 L 234.554688 139.425781 L 234.917969 139.429688 L 235.636719 139.429688 L 235.996094 139.433594 L 236.355469 139.433594 L 236.71875 139.4375 L 237.078125 139.4375 L 237.4375 139.441406 L 238.15625 139.441406 L 238.515625 139.445312 L 239.597656 139.445312 L 239.957031 139.449219 L 241.039062 139.449219 L 241.398438 139.453125 L 243.199219 139.453125 L 243.558594 139.457031 L 245.71875 139.457031 L 246.078125 139.460938 L 250.398438 139.460938 \"/>\n",
       "<path style=\"fill:none;stroke-width:1;stroke-linecap:round;stroke-linejoin:round;stroke:rgb(100%,0%,0%);stroke-opacity:1;stroke-miterlimit:10;\" d=\"M 64.53125 64.664062 L 75.519531 64.664062 \"/>\n",
       "<path style=\"fill:none;stroke-width:1;stroke-linecap:round;stroke-linejoin:round;stroke:rgb(0%,80.392157%,0%);stroke-opacity:1;stroke-dasharray:4,4;stroke-miterlimit:10;\" d=\"M 64.53125 67.257812 L 75.519531 67.257812 \"/>\n",
       "<g style=\"fill:rgb(0%,0%,0%);fill-opacity:1;\">\n",
       "  <use xlink:href=\"#glyph0-5\" x=\"81.011719\" y=\"69.351562\"/>\n",
       "</g>\n",
       "<g style=\"fill:rgb(0%,0%,0%);fill-opacity:1;\">\n",
       "  <use xlink:href=\"#glyph0-4\" x=\"81.011719\" y=\"71.945312\"/>\n",
       "</g>\n",
       "</g>\n",
       "</svg>\n"
      ]
     },
     "metadata": {
      "image/svg+xml": {
       "isolated": true
      }
     },
     "output_type": "display_data"
    },
    {
     "data": {
      "image/jpeg": "[encoded data removed]",
      "image/png": "",
      "image/svg+xml": [
       "<?xml version=\"1.0\" encoding=\"UTF-8\"?>\n",
       "<svg xmlns=\"http://www.w3.org/2000/svg\" xmlns:xlink=\"http://www.w3.org/1999/xlink\" width=\"288pt\" height=\"216pt\" viewBox=\"0 0 288 216\" version=\"1.1\">\n",
       "<defs>\n",
       "<g>\n",
       "<symbol overflow=\"visible\" id=\"glyph0-0\">\n",
       "<path style=\"stroke:none;\" d=\"\"/>\n",
       "</symbol>\n",
       "<symbol overflow=\"visible\" id=\"glyph0-1\">\n",
       "<path style=\"stroke:none;\" d=\"M 6.46875 -4.390625 C 6.46875 -7.46875 5.359375 -9.125 3.4375 -9.125 C 1.53125 -9.125 0.40625 -7.4375 0.40625 -4.46875 C 0.40625 -1.46875 1.53125 0.1875 3.4375 0.1875 C 5.3125 0.1875 6.46875 -1.46875 6.46875 -4.390625 Z M 5.078125 -4.484375 C 5.078125 -1.96875 4.640625 -0.984375 3.40625 -0.984375 C 2.25 -0.984375 1.78125 -2.03125 1.78125 -4.453125 C 1.78125 -6.875 2.25 -7.890625 3.4375 -7.890625 C 4.625 -7.890625 5.078125 -6.859375 5.078125 -4.484375 Z M 5.078125 -4.484375 \"/>\n",
       "</symbol>\n",
       "<symbol overflow=\"visible\" id=\"glyph0-2\">\n",
       "<path style=\"stroke:none;\" d=\"M 2.515625 -0.125 L 2.515625 -1.5625 L 0.953125 -1.5625 L 0.953125 0 L 2.515625 0 Z M 2.515625 -0.125 \"/>\n",
       "</symbol>\n",
       "<symbol overflow=\"visible\" id=\"glyph0-3\">\n",
       "<path style=\"stroke:none;\" d=\"M 6.53125 -3.0625 C 6.53125 -4.8125 5.25 -6.09375 3.546875 -6.09375 C 2.921875 -6.09375 2.328125 -5.890625 2.09375 -5.71875 L 2.359375 -7.59375 L 6.078125 -7.59375 L 6.078125 -8.9375 L 1.25 -8.9375 L 0.546875 -4.03125 L 1.78125 -4.03125 C 2.328125 -4.6875 2.65625 -4.859375 3.34375 -4.859375 C 4.53125 -4.859375 5.15625 -4.21875 5.15625 -2.90625 C 5.15625 -1.640625 4.546875 -1.046875 3.34375 -1.046875 C 2.390625 -1.046875 1.921875 -1.40625 1.625 -2.53125 L 0.28125 -2.53125 C 0.65625 -0.640625 1.796875 0.1875 3.375 0.1875 C 5.15625 0.1875 6.53125 -1.1875 6.53125 -3.0625 Z M 6.53125 -3.0625 \"/>\n",
       "</symbol>\n",
       "<symbol overflow=\"visible\" id=\"glyph0-4\">\n",
       "<path style=\"stroke:none;\" d=\"M 4.46875 -0.125 L 4.46875 -9.125 L 3.515625 -9.125 C 3.09375 -7.625 2.96875 -7.578125 1.140625 -7.34375 L 1.140625 -6.3125 L 3.09375 -6.3125 L 3.09375 0 L 4.46875 0 Z M 4.46875 -0.125 \"/>\n",
       "</symbol>\n",
       "<symbol overflow=\"visible\" id=\"glyph0-5\">\n",
       "<path style=\"stroke:none;\" d=\"M 6.078125 -6.8125 L 4.8125 -6.8125 L 2.90625 -1.359375 L 3.171875 -1.359375 L 1.390625 -6.8125 L -0.0625 -6.8125 L 2.34375 0 L 3.640625 0 L 6.25 -6.8125 Z M 6.078125 -6.8125 \"/>\n",
       "</symbol>\n",
       "<symbol overflow=\"visible\" id=\"glyph0-6\">\n",
       "<path style=\"stroke:none;\" d=\"M 6.5 -3.34375 C 6.5 -5.609375 5.28125 -7 3.40625 -7 C 1.5625 -7 0.3125 -5.59375 0.3125 -3.40625 C 0.3125 -1.203125 1.546875 0.1875 3.40625 0.1875 C 5.25 0.1875 6.5 -1.203125 6.5 -3.34375 Z M 5.15625 -3.359375 C 5.15625 -1.828125 4.5625 -1.03125 3.40625 -1.03125 C 2.25 -1.03125 1.65625 -1.8125 1.65625 -3.40625 C 1.65625 -4.96875 2.25 -5.78125 3.40625 -5.78125 C 4.59375 -5.78125 5.15625 -4.984375 5.15625 -3.359375 Z M 5.15625 -3.359375 \"/>\n",
       "</symbol>\n",
       "<symbol overflow=\"visible\" id=\"glyph0-7\">\n",
       "<path style=\"stroke:none;\" d=\"M 2.015625 -0.125 L 2.015625 -9.375 L 0.71875 -9.375 L 0.71875 0 L 2.015625 0 Z M 2.015625 -0.125 \"/>\n",
       "</symbol>\n",
       "<symbol overflow=\"visible\" id=\"glyph0-8\">\n",
       "<path style=\"stroke:none;\" d=\"M 6.8125 -0.15625 L 6.8125 -1.09375 C 6.578125 -1.046875 6.53125 -1.046875 6.46875 -1.046875 C 6.09375 -1.046875 6.03125 -1.09375 6.03125 -1.421875 L 6.03125 -5.078125 C 6.03125 -6.234375 5.046875 -7 3.4375 -7 C 1.84375 -7 0.734375 -6.25 0.65625 -4.609375 L 1.96875 -4.609375 C 2.078125 -5.53125 2.421875 -5.78125 3.40625 -5.78125 C 4.34375 -5.78125 4.71875 -5.546875 4.71875 -4.921875 L 4.71875 -4.65625 C 4.71875 -4.21875 4.59375 -4.15625 3.78125 -4.0625 C 2.296875 -3.875 2.078125 -3.828125 1.671875 -3.65625 C 0.90625 -3.34375 0.390625 -2.625 0.390625 -1.828125 C 0.390625 -0.640625 1.34375 0.1875 2.671875 0.1875 C 3.515625 0.1875 4.40625 -0.203125 4.828125 -0.640625 C 4.875 -0.40625 5.46875 0.09375 5.96875 0.09375 C 6.1875 0.09375 6.34375 0.0625 6.8125 -0.046875 Z M 4.71875 -2.390625 C 4.71875 -1.453125 3.90625 -0.984375 2.90625 -0.984375 C 2.09375 -0.984375 1.734375 -1.140625 1.734375 -1.84375 C 1.734375 -2.53125 2.078125 -2.71875 3.1875 -2.875 C 4.28125 -3.03125 4.515625 -3.078125 4.71875 -3.171875 Z M 4.71875 -2.390625 \"/>\n",
       "</symbol>\n",
       "<symbol overflow=\"visible\" id=\"glyph0-9\">\n",
       "<path style=\"stroke:none;\" d=\"M 3.296875 -0.125 L 3.296875 -1.171875 C 3.03125 -1.09375 2.875 -1.09375 2.671875 -1.09375 C 2.21875 -1.09375 2.21875 -1.078125 2.21875 -1.53125 L 2.21875 -5.703125 L 3.296875 -5.703125 L 3.296875 -6.8125 L 2.21875 -6.8125 L 2.21875 -8.609375 L 0.921875 -8.609375 L 0.921875 -6.8125 L 0.03125 -6.8125 L 0.03125 -5.703125 L 0.921875 -5.703125 L 0.921875 -1.078125 C 0.921875 -0.40625 1.515625 0.09375 2.328125 0.09375 C 2.578125 0.09375 2.828125 0.0625 3.296875 -0.015625 Z M 3.296875 -0.125 \"/>\n",
       "</symbol>\n",
       "<symbol overflow=\"visible\" id=\"glyph0-10\">\n",
       "<path style=\"stroke:none;\" d=\"M 2.03125 -0.125 L 2.03125 -6.8125 L 0.734375 -6.8125 L 0.734375 0 L 2.03125 0 Z M 2.171875 -7.65625 L 2.171875 -9.09375 L 0.609375 -9.09375 L 0.609375 -7.53125 L 2.171875 -7.53125 Z M 2.171875 -7.65625 \"/>\n",
       "</symbol>\n",
       "<symbol overflow=\"visible\" id=\"glyph0-11\">\n",
       "<path style=\"stroke:none;\" d=\"M 6.53125 -3.09375 C 6.53125 -4.046875 6.46875 -4.65625 6.28125 -5.140625 C 5.84375 -6.21875 4.71875 -7 3.5 -7 C 1.671875 -7 0.359375 -5.515625 0.359375 -3.359375 C 0.359375 -1.21875 1.640625 0.1875 3.46875 0.1875 C 4.96875 0.1875 6.140625 -0.78125 6.421875 -2.25 L 5.125 -2.25 C 4.796875 -1.25 4.34375 -1.03125 3.515625 -1.03125 C 2.421875 -1.03125 1.734375 -1.59375 1.71875 -2.96875 L 6.53125 -2.96875 Z M 5.390625 -3.9375 C 5.390625 -3.9375 5.203125 -4.0625 5.21875 -4.09375 L 1.75 -4.09375 C 1.828125 -5.109375 2.4375 -5.78125 3.484375 -5.78125 C 4.515625 -5.78125 5.15625 -5.046875 5.15625 -4.03125 Z M 5.390625 -3.9375 \"/>\n",
       "</symbol>\n",
       "<symbol overflow=\"visible\" id=\"glyph0-12\">\n",
       "<path style=\"stroke:none;\" d=\"M 5.96875 -2.515625 L 4.796875 -2.515625 C 4.59375 -1.328125 4.203125 -1.03125 3.3125 -1.03125 C 2.15625 -1.03125 1.59375 -1.78125 1.59375 -3.34375 C 1.59375 -4.96875 2.15625 -5.78125 3.28125 -5.78125 C 4.15625 -5.78125 4.578125 -5.390625 4.71875 -4.34375 L 6.03125 -4.34375 C 5.890625 -6.078125 4.765625 -7 3.296875 -7 C 1.53125 -7 0.25 -5.515625 0.25 -3.34375 C 0.25 -1.21875 1.515625 0.1875 3.28125 0.1875 C 4.84375 0.1875 5.96875 -0.875 6.09375 -2.515625 Z M 5.96875 -2.515625 \"/>\n",
       "</symbol>\n",
       "<symbol overflow=\"visible\" id=\"glyph0-13\">\n",
       "<path style=\"stroke:none;\" d=\"M 6.3125 -0.125 L 6.3125 -9.375 L 5.015625 -9.375 L 5.015625 -5.84375 L 5.234375 -5.9375 C 4.796875 -6.59375 4.015625 -7 3.140625 -7 C 1.4375 -7 0.1875 -5.546875 0.1875 -3.46875 C 0.1875 -1.25 1.40625 0.1875 3.171875 0.1875 C 4.078125 0.1875 4.78125 -0.1875 5.34375 -1 L 5.125 -1.09375 L 5.125 0 L 6.3125 0 Z M 5.015625 -3.375 C 5.015625 -1.859375 4.421875 -1.046875 3.328125 -1.046875 C 2.171875 -1.046875 1.53125 -1.875 1.53125 -3.40625 C 1.53125 -4.921875 2.171875 -5.765625 3.3125 -5.765625 C 4.4375 -5.765625 5.015625 -4.890625 5.015625 -3.375 Z M 5.015625 -3.375 \"/>\n",
       "</symbol>\n",
       "<symbol overflow=\"visible\" id=\"glyph0-14\">\n",
       "<path style=\"stroke:none;\" d=\"M 5.96875 -6.8125 L 4.765625 -6.8125 L 2.90625 -1.578125 L 3.15625 -1.578125 L 1.453125 -6.8125 L 0.0625 -6.8125 L 2.328125 -0.09375 L 1.921875 0.9375 C 1.75 1.40625 1.671875 1.4375 1.21875 1.4375 C 1.078125 1.4375 0.90625 1.40625 0.53125 1.34375 L 0.53125 2.515625 C 0.78125 2.640625 1.09375 2.71875 1.375 2.71875 C 2.109375 2.71875 2.84375 2.1875 3.1875 1.25 L 6.15625 -6.8125 Z M 5.96875 -6.8125 \"/>\n",
       "</symbol>\n",
       "<symbol overflow=\"visible\" id=\"glyph1-0\">\n",
       "<path style=\"stroke:none;\" d=\"\"/>\n",
       "</symbol>\n",
       "<symbol overflow=\"visible\" id=\"glyph1-1\">\n",
       "<path style=\"stroke:none;\" d=\"M -4.390625 -6.46875 C -7.46875 -6.46875 -9.125 -5.359375 -9.125 -3.4375 C -9.125 -1.53125 -7.4375 -0.40625 -4.46875 -0.40625 C -1.46875 -0.40625 0.1875 -1.53125 0.1875 -3.4375 C 0.1875 -5.3125 -1.46875 -6.46875 -4.390625 -6.46875 Z M -4.484375 -5.078125 C -1.96875 -5.078125 -0.984375 -4.640625 -0.984375 -3.40625 C -0.984375 -2.25 -2.03125 -1.78125 -4.453125 -1.78125 C -6.875 -1.78125 -7.890625 -2.25 -7.890625 -3.4375 C -7.890625 -4.625 -6.859375 -5.078125 -4.484375 -5.078125 Z M -4.484375 -5.078125 \"/>\n",
       "</symbol>\n",
       "<symbol overflow=\"visible\" id=\"glyph1-2\">\n",
       "<path style=\"stroke:none;\" d=\"M -0.125 -4.46875 L -9.125 -4.46875 L -9.125 -3.515625 C -7.625 -3.09375 -7.578125 -2.96875 -7.34375 -1.140625 L -6.3125 -1.140625 L -6.3125 -3.09375 L 0 -3.09375 L 0 -4.46875 Z M -0.125 -4.46875 \"/>\n",
       "</symbol>\n",
       "<symbol overflow=\"visible\" id=\"glyph1-3\">\n",
       "<path style=\"stroke:none;\" d=\"M -6.390625 -6.515625 C -7.890625 -6.515625 -9.125 -5.21875 -9.125 -3.546875 C -9.125 -1.734375 -8.0625 -0.546875 -5.78125 -0.484375 L -5.78125 -1.84375 C -7.40625 -1.9375 -7.90625 -2.421875 -7.90625 -3.515625 C -7.90625 -4.515625 -7.3125 -5.125 -6.359375 -5.125 C -5.65625 -5.125 -5.15625 -4.75 -4.703125 -3.96875 L -4.046875 -2.8125 C -3 -0.96875 -2.078125 -0.390625 0 -0.28125 L 0 -6.453125 L -1.34375 -6.453125 L -1.34375 -1.8125 C -1.9375 -1.90625 -2.3125 -2.265625 -2.953125 -3.34375 L -3.625 -4.59375 C -4.28125 -5.84375 -5.296875 -6.515625 -6.390625 -6.515625 Z M -6.390625 -6.515625 \"/>\n",
       "</symbol>\n",
       "<symbol overflow=\"visible\" id=\"glyph1-4\">\n",
       "<path style=\"stroke:none;\" d=\"M -2.703125 -6.453125 C -3.78125 -6.453125 -4.53125 -5.890625 -4.90625 -4.828125 L -4.640625 -4.828125 C -4.96875 -5.65625 -5.65625 -6.1875 -6.546875 -6.1875 C -8.078125 -6.1875 -9.125 -5.046875 -9.125 -3.359375 C -9.125 -1.578125 -8.015625 -0.484375 -6 -0.453125 L -6 -1.8125 C -7.4375 -1.84375 -7.90625 -2.25 -7.90625 -3.375 C -7.90625 -4.34375 -7.453125 -4.796875 -6.515625 -4.796875 C -5.5625 -4.796875 -5.3125 -4.53125 -5.3125 -2.625 L -4.125 -2.625 L -4.125 -3.359375 C -4.125 -4.578125 -3.671875 -5.0625 -2.6875 -5.0625 C -1.578125 -5.0625 -1.046875 -4.515625 -1.046875 -3.359375 C -1.046875 -2.15625 -1.515625 -1.703125 -2.9375 -1.609375 L -2.9375 -0.25 C -0.828125 -0.40625 0.1875 -1.515625 0.1875 -3.328125 C 0.1875 -5.15625 -1.03125 -6.453125 -2.703125 -6.453125 Z M -2.703125 -6.453125 \"/>\n",
       "</symbol>\n",
       "<symbol overflow=\"visible\" id=\"glyph1-5\">\n",
       "<path style=\"stroke:none;\" d=\"M -2.25 -6.625 L -3.375 -6.625 L -3.375 -5.3125 L -9.125 -5.3125 L -9.125 -4.296875 L -3.453125 -0.21875 L -2.125 -0.21875 L -2.125 -3.953125 L 0 -3.953125 L 0 -5.3125 L -2.125 -5.3125 L -2.125 -6.625 Z M -3.375 -4.09375 L -3.375 -1.5625 L -7.03125 -4.171875 L -7.109375 -3.953125 L -3.375 -3.953125 Z M -3.375 -4.09375 \"/>\n",
       "</symbol>\n",
       "<symbol overflow=\"visible\" id=\"glyph1-6\">\n",
       "<path style=\"stroke:none;\" d=\"M -4.6875 -8.46875 C -7.515625 -8.46875 -9.375 -6.9375 -9.375 -4.625 L -9.375 -0.96875 L 0 -0.96875 L 0 -4.625 C 0 -6.921875 -1.84375 -8.46875 -4.6875 -8.46875 Z M -4.671875 -7.03125 C -2.375 -7.03125 -1.28125 -6.21875 -1.28125 -4.421875 L -1.28125 -2.40625 L -8.09375 -2.40625 L -8.09375 -4.421875 C -8.09375 -6.21875 -7 -7.03125 -4.671875 -7.03125 Z M -4.671875 -7.03125 \"/>\n",
       "</symbol>\n",
       "<symbol overflow=\"visible\" id=\"glyph1-7\">\n",
       "<path style=\"stroke:none;\" d=\"M -3.09375 -6.53125 C -4.046875 -6.53125 -4.65625 -6.46875 -5.140625 -6.28125 C -6.21875 -5.84375 -7 -4.71875 -7 -3.5 C -7 -1.671875 -5.515625 -0.359375 -3.359375 -0.359375 C -1.21875 -0.359375 0.1875 -1.640625 0.1875 -3.46875 C 0.1875 -4.96875 -0.78125 -6.140625 -2.25 -6.421875 L -2.25 -5.125 C -1.25 -4.796875 -1.03125 -4.34375 -1.03125 -3.515625 C -1.03125 -2.421875 -1.59375 -1.734375 -2.96875 -1.71875 L -2.96875 -6.53125 Z M -3.9375 -5.390625 C -3.9375 -5.390625 -4.0625 -5.203125 -4.09375 -5.21875 L -4.09375 -1.75 C -5.109375 -1.828125 -5.78125 -2.4375 -5.78125 -3.484375 C -5.78125 -4.515625 -5.046875 -5.15625 -4.03125 -5.15625 Z M -3.9375 -5.390625 \"/>\n",
       "</symbol>\n",
       "<symbol overflow=\"visible\" id=\"glyph1-8\">\n",
       "<path style=\"stroke:none;\" d=\"M -0.125 -6.21875 L -5.078125 -6.21875 C -6.15625 -6.21875 -7 -5.28125 -7 -4.015625 C -7 -3.03125 -6.578125 -2.3125 -5.65625 -1.734375 L -5.578125 -1.96875 L -6.8125 -1.96875 L -6.8125 -0.734375 L 0 -0.734375 L 0 -2.03125 L -3.734375 -2.03125 C -5.078125 -2.03125 -5.828125 -2.640625 -5.828125 -3.703125 C -5.828125 -4.53125 -5.453125 -4.90625 -4.65625 -4.90625 L 0 -4.90625 L 0 -6.21875 Z M -0.125 -6.21875 \"/>\n",
       "</symbol>\n",
       "<symbol overflow=\"visible\" id=\"glyph1-9\">\n",
       "<path style=\"stroke:none;\" d=\"M -1.96875 -5.859375 C -2.9375 -5.859375 -3.5625 -5.1875 -3.875 -3.890625 L -4.109375 -2.890625 C -4.3125 -2.03125 -4.453125 -1.796875 -4.90625 -1.796875 C -5.515625 -1.796875 -5.78125 -2.21875 -5.78125 -3.0625 C -5.78125 -3.90625 -5.53125 -4.21875 -4.71875 -4.234375 L -4.71875 -5.59375 C -6.140625 -5.59375 -7 -4.609375 -7 -3.09375 C -7 -1.578125 -6.078125 -0.453125 -4.859375 -0.453125 C -3.84375 -0.453125 -3.21875 -1.109375 -2.84375 -2.65625 L -2.609375 -3.640625 C -2.4375 -4.359375 -2.34375 -4.515625 -1.875 -4.515625 C -1.265625 -4.515625 -1.03125 -4.03125 -1.03125 -3.125 C -1.03125 -2.1875 -1.125 -1.78125 -2.265625 -1.640625 L -2.265625 -0.28125 C -0.609375 -0.34375 0.1875 -1.328125 0.1875 -3.03125 C 0.1875 -4.6875 -0.703125 -5.859375 -1.96875 -5.859375 Z M -1.96875 -5.859375 \"/>\n",
       "</symbol>\n",
       "<symbol overflow=\"visible\" id=\"glyph1-10\">\n",
       "<path style=\"stroke:none;\" d=\"M -0.125 -2.03125 L -6.8125 -2.03125 L -6.8125 -0.734375 L 0 -0.734375 L 0 -2.03125 Z M -7.65625 -2.171875 L -9.09375 -2.171875 L -9.09375 -0.609375 L -7.53125 -0.609375 L -7.53125 -2.171875 Z M -7.65625 -2.171875 \"/>\n",
       "</symbol>\n",
       "<symbol overflow=\"visible\" id=\"glyph1-11\">\n",
       "<path style=\"stroke:none;\" d=\"M -0.125 -3.296875 L -1.171875 -3.296875 C -1.09375 -3.03125 -1.09375 -2.875 -1.09375 -2.671875 C -1.09375 -2.21875 -1.078125 -2.21875 -1.53125 -2.21875 L -5.703125 -2.21875 L -5.703125 -3.296875 L -6.8125 -3.296875 L -6.8125 -2.21875 L -8.609375 -2.21875 L -8.609375 -0.921875 L -6.8125 -0.921875 L -6.8125 -0.03125 L -5.703125 -0.03125 L -5.703125 -0.921875 L -1.078125 -0.921875 C -0.40625 -0.921875 0.09375 -1.515625 0.09375 -2.328125 C 0.09375 -2.578125 0.0625 -2.828125 -0.015625 -3.296875 Z M -0.125 -3.296875 \"/>\n",
       "</symbol>\n",
       "<symbol overflow=\"visible\" id=\"glyph1-12\">\n",
       "<path style=\"stroke:none;\" d=\"M -6.8125 -5.96875 L -6.8125 -4.765625 L -1.578125 -2.90625 L -1.578125 -3.15625 L -6.8125 -1.453125 L -6.8125 -0.0625 L -0.09375 -2.328125 L 0.9375 -1.921875 C 1.40625 -1.75 1.4375 -1.671875 1.4375 -1.21875 C 1.4375 -1.078125 1.40625 -0.90625 1.34375 -0.53125 L 2.515625 -0.53125 C 2.640625 -0.78125 2.71875 -1.09375 2.71875 -1.375 C 2.71875 -2.109375 2.1875 -2.84375 1.25 -3.1875 L -6.8125 -6.15625 Z M -6.8125 -5.96875 \"/>\n",
       "</symbol>\n",
       "</g>\n",
       "</defs>\n",
       "<g id=\"surface617\">\n",
       "<rect x=\"0\" y=\"0\" width=\"288\" height=\"216\" style=\"fill:rgb(100%,100%,100%);fill-opacity:1;stroke:none;\"/>\n",
       "<path style=\"fill:none;stroke-width:1;stroke-linecap:round;stroke-linejoin:round;stroke:rgb(100%,0%,0%);stroke-opacity:1;stroke-miterlimit:10;\" d=\"M 66.398438 128.058594 L 66.761719 127.398438 L 67.121094 126.714844 L 67.480469 126 L 67.839844 125.253906 L 68.199219 124.484375 L 68.558594 123.683594 L 68.921875 122.855469 L 69.28125 122 L 69.640625 121.113281 L 70 120.195312 L 70.359375 119.253906 L 70.722656 118.28125 L 71.082031 117.28125 L 71.441406 116.25 L 71.800781 115.195312 L 72.160156 114.113281 L 72.519531 113.003906 L 72.882812 111.871094 L 73.242188 110.710938 L 73.601562 109.53125 L 73.960938 108.324219 L 74.320312 107.097656 L 74.683594 105.851562 L 75.042969 104.589844 L 75.402344 103.304688 L 75.761719 102.007812 L 76.121094 100.695312 L 76.480469 99.371094 L 76.84375 98.039062 L 77.203125 96.695312 L 77.5625 95.34375 L 78.28125 92.632812 L 78.644531 91.273438 L 79.363281 88.570312 L 79.722656 87.226562 L 80.082031 85.890625 L 80.441406 84.570312 L 80.804688 83.261719 L 81.164062 81.972656 L 81.523438 80.703125 L 81.882812 79.453125 L 82.242188 78.230469 L 82.605469 77.03125 L 82.964844 75.867188 L 83.324219 74.730469 L 83.683594 73.632812 L 84.042969 72.570312 L 84.402344 71.546875 L 84.765625 70.566406 L 85.125 69.632812 L 85.484375 68.742188 L 85.84375 67.902344 L 86.203125 67.109375 L 86.5625 66.375 L 86.925781 65.691406 L 87.285156 65.0625 L 87.644531 64.492188 L 88.003906 63.980469 L 88.363281 63.53125 L 88.726562 63.140625 L 89.085938 62.8125 L 89.445312 62.550781 L 89.804688 62.347656 L 90.164062 62.210938 L 90.523438 62.140625 L 90.886719 62.132812 L 91.246094 62.191406 L 91.605469 62.3125 L 91.964844 62.5 L 92.324219 62.75 L 92.6875 63.0625 L 93.046875 63.4375 L 93.40625 63.875 L 93.765625 64.375 L 94.125 64.929688 L 94.484375 65.546875 L 94.847656 66.214844 L 95.207031 66.941406 L 95.566406 67.71875 L 95.925781 68.550781 L 96.285156 69.429688 L 96.648438 70.355469 L 97.007812 71.324219 L 97.367188 72.335938 L 97.726562 73.390625 L 98.085938 74.480469 L 98.445312 75.609375 L 98.808594 76.769531 L 99.167969 77.957031 L 99.527344 79.175781 L 99.886719 80.421875 L 100.246094 81.6875 L 100.609375 82.972656 L 100.96875 84.277344 L 101.328125 85.597656 L 101.6875 86.925781 L 102.046875 88.269531 L 102.40625 89.617188 L 102.769531 90.972656 L 103.128906 92.328125 L 103.488281 93.6875 L 103.847656 95.042969 L 104.566406 97.738281 L 104.929688 99.074219 L 105.289062 100.402344 L 105.648438 101.714844 L 106.007812 103.015625 L 106.367188 104.304688 L 106.730469 105.570312 L 107.089844 106.824219 L 107.449219 108.054688 L 107.808594 109.261719 L 108.167969 110.449219 L 108.527344 111.613281 L 108.890625 112.753906 L 109.25 113.867188 L 109.609375 114.957031 L 109.96875 116.019531 L 110.328125 117.050781 L 110.691406 118.058594 L 111.050781 119.039062 L 111.410156 119.988281 L 111.769531 120.910156 L 112.128906 121.804688 L 112.488281 122.667969 L 112.851562 123.5 L 113.210938 124.308594 L 113.570312 125.085938 L 113.929688 125.835938 L 114.289062 126.554688 L 114.652344 127.25 L 115.011719 127.914062 L 115.371094 128.550781 L 115.730469 129.164062 L 116.089844 129.75 L 116.449219 130.308594 L 116.8125 130.84375 L 117.171875 131.355469 L 117.53125 131.84375 L 117.890625 132.304688 L 118.25 132.746094 L 118.613281 133.164062 L 118.972656 133.5625 L 119.332031 133.941406 L 119.691406 134.296875 L 120.050781 134.636719 L 120.410156 134.957031 L 120.773438 135.257812 L 121.132812 135.542969 L 121.492188 135.8125 L 121.851562 136.066406 L 122.210938 136.304688 L 122.570312 136.53125 L 122.933594 136.742188 L 123.292969 136.9375 L 123.652344 137.125 L 124.011719 137.296875 L 124.371094 137.460938 L 124.734375 137.609375 L 125.09375 137.753906 L 125.453125 137.886719 L 125.8125 138.007812 L 126.171875 138.125 L 126.53125 138.230469 L 126.894531 138.328125 L 127.253906 138.421875 L 127.613281 138.507812 L 127.972656 138.585938 L 128.332031 138.660156 L 128.695312 138.726562 L 129.054688 138.789062 L 129.414062 138.847656 L 129.773438 138.902344 L 130.492188 138.996094 L 130.855469 139.039062 L 131.214844 139.074219 L 131.574219 139.113281 L 131.933594 139.144531 L 132.292969 139.171875 L 132.65625 139.199219 L 133.015625 139.226562 L 133.375 139.246094 L 133.734375 139.269531 L 134.09375 139.289062 L 134.453125 139.304688 L 134.816406 139.320312 L 135.175781 139.335938 L 136.253906 139.371094 L 136.617188 139.378906 L 136.976562 139.390625 L 137.335938 139.398438 L 137.695312 139.402344 L 138.414062 139.417969 L 138.777344 139.421875 L 140.574219 139.441406 L 140.9375 139.445312 L 141.296875 139.445312 L 141.65625 139.449219 L 142.015625 139.449219 L 142.375 139.453125 L 142.738281 139.453125 L 143.097656 139.457031 L 143.816406 139.457031 L 144.175781 139.460938 L 145.976562 139.460938 L 146.335938 139.464844 L 250.398438 139.464844 \"/>\n",
       "<path style=\"fill:none;stroke-width:1;stroke-linecap:round;stroke-linejoin:round;stroke:rgb(0%,0%,0%);stroke-opacity:1;stroke-miterlimit:10;\" d=\"M 117.921875 142.558594 L 240.585938 142.558594 \"/>\n",
       "<path style=\"fill:none;stroke-width:1;stroke-linecap:round;stroke-linejoin:round;stroke:rgb(0%,0%,0%);stroke-opacity:1;stroke-miterlimit:10;\" d=\"M 117.921875 142.558594 L 117.921875 149.761719 \"/>\n",
       "<path style=\"fill:none;stroke-width:1;stroke-linecap:round;stroke-linejoin:round;stroke:rgb(0%,0%,0%);stroke-opacity:1;stroke-miterlimit:10;\" d=\"M 179.253906 142.558594 L 179.253906 149.761719 \"/>\n",
       "<path style=\"fill:none;stroke-width:1;stroke-linecap:round;stroke-linejoin:round;stroke:rgb(0%,0%,0%);stroke-opacity:1;stroke-miterlimit:10;\" d=\"M 240.585938 142.558594 L 240.585938 149.761719 \"/>\n",
       "<g style=\"fill:rgb(0%,0%,0%);fill-opacity:1;\">\n",
       "  <use xlink:href=\"#glyph0-1\" x=\"109.234375\" y=\"169.921875\"/>\n",
       "  <use xlink:href=\"#glyph0-2\" x=\"116.184402\" y=\"169.921875\"/>\n",
       "  <use xlink:href=\"#glyph0-3\" x=\"119.659409\" y=\"169.921875\"/>\n",
       "</g>\n",
       "<g style=\"fill:rgb(0%,0%,0%);fill-opacity:1;\">\n",
       "  <use xlink:href=\"#glyph0-4\" x=\"170.566406\" y=\"169.921875\"/>\n",
       "  <use xlink:href=\"#glyph0-2\" x=\"177.516434\" y=\"169.921875\"/>\n",
       "  <use xlink:href=\"#glyph0-1\" x=\"180.99144\" y=\"169.921875\"/>\n",
       "</g>\n",
       "<g style=\"fill:rgb(0%,0%,0%);fill-opacity:1;\">\n",
       "  <use xlink:href=\"#glyph0-4\" x=\"231.898438\" y=\"169.921875\"/>\n",
       "  <use xlink:href=\"#glyph0-2\" x=\"238.848465\" y=\"169.921875\"/>\n",
       "  <use xlink:href=\"#glyph0-3\" x=\"242.323471\" y=\"169.921875\"/>\n",
       "</g>\n",
       "<path style=\"fill:none;stroke-width:1;stroke-linecap:round;stroke-linejoin:round;stroke:rgb(0%,0%,0%);stroke-opacity:1;stroke-miterlimit:10;\" d=\"M 59.039062 139.464844 L 59.039062 60.804688 \"/>\n",
       "<path style=\"fill:none;stroke-width:1;stroke-linecap:round;stroke-linejoin:round;stroke:rgb(0%,0%,0%);stroke-opacity:1;stroke-miterlimit:10;\" d=\"M 59.039062 139.464844 L 51.839844 139.464844 \"/>\n",
       "<path style=\"fill:none;stroke-width:1;stroke-linecap:round;stroke-linejoin:round;stroke:rgb(0%,0%,0%);stroke-opacity:1;stroke-miterlimit:10;\" d=\"M 59.039062 119.800781 L 51.839844 119.800781 \"/>\n",
       "<path style=\"fill:none;stroke-width:1;stroke-linecap:round;stroke-linejoin:round;stroke:rgb(0%,0%,0%);stroke-opacity:1;stroke-miterlimit:10;\" d=\"M 59.039062 100.136719 L 51.839844 100.136719 \"/>\n",
       "<path style=\"fill:none;stroke-width:1;stroke-linecap:round;stroke-linejoin:round;stroke:rgb(0%,0%,0%);stroke-opacity:1;stroke-miterlimit:10;\" d=\"M 59.039062 80.472656 L 51.839844 80.472656 \"/>\n",
       "<path style=\"fill:none;stroke-width:1;stroke-linecap:round;stroke-linejoin:round;stroke:rgb(0%,0%,0%);stroke-opacity:1;stroke-miterlimit:10;\" d=\"M 59.039062 60.804688 L 51.839844 60.804688 \"/>\n",
       "<g style=\"fill:rgb(0%,0%,0%);fill-opacity:1;\">\n",
       "  <use xlink:href=\"#glyph1-1\" x=\"43.199219\" y=\"142.941406\"/>\n",
       "</g>\n",
       "<g style=\"fill:rgb(0%,0%,0%);fill-opacity:1;\">\n",
       "  <use xlink:href=\"#glyph1-2\" x=\"43.199219\" y=\"123.277344\"/>\n",
       "</g>\n",
       "<g style=\"fill:rgb(0%,0%,0%);fill-opacity:1;\">\n",
       "  <use xlink:href=\"#glyph1-3\" x=\"43.199219\" y=\"103.613281\"/>\n",
       "</g>\n",
       "<g style=\"fill:rgb(0%,0%,0%);fill-opacity:1;\">\n",
       "  <use xlink:href=\"#glyph1-4\" x=\"43.199219\" y=\"83.949219\"/>\n",
       "</g>\n",
       "<g style=\"fill:rgb(0%,0%,0%);fill-opacity:1;\">\n",
       "  <use xlink:href=\"#glyph1-5\" x=\"43.199219\" y=\"64.28125\"/>\n",
       "</g>\n",
       "<path style=\"fill:none;stroke-width:1;stroke-linecap:round;stroke-linejoin:round;stroke:rgb(0%,0%,0%);stroke-opacity:1;stroke-miterlimit:10;\" d=\"M 59.039062 142.558594 L 257.761719 142.558594 L 257.761719 59.039062 L 59.039062 59.039062 L 59.039062 142.558594 \"/>\n",
       "<g style=\"fill:rgb(0%,0%,0%);fill-opacity:1;\">\n",
       "  <use xlink:href=\"#glyph0-5\" x=\"119.5\" y=\"198.71875\"/>\n",
       "  <use xlink:href=\"#glyph0-6\" x=\"125.750031\" y=\"198.71875\"/>\n",
       "  <use xlink:href=\"#glyph0-7\" x=\"132.700058\" y=\"198.71875\"/>\n",
       "  <use xlink:href=\"#glyph0-8\" x=\"135.475067\" y=\"198.71875\"/>\n",
       "  <use xlink:href=\"#glyph0-9\" x=\"142.425095\" y=\"198.71875\"/>\n",
       "  <use xlink:href=\"#glyph0-10\" x=\"145.900101\" y=\"198.71875\"/>\n",
       "  <use xlink:href=\"#glyph0-7\" x=\"148.67511\" y=\"198.71875\"/>\n",
       "  <use xlink:href=\"#glyph0-11\" x=\"151.450119\" y=\"198.71875\"/>\n",
       "  <use xlink:href=\"#glyph0-2\" x=\"158.400146\" y=\"198.71875\"/>\n",
       "  <use xlink:href=\"#glyph0-8\" x=\"161.875153\" y=\"198.71875\"/>\n",
       "  <use xlink:href=\"#glyph0-12\" x=\"168.82518\" y=\"198.71875\"/>\n",
       "  <use xlink:href=\"#glyph0-10\" x=\"175.075211\" y=\"198.71875\"/>\n",
       "  <use xlink:href=\"#glyph0-13\" x=\"177.85022\" y=\"198.71875\"/>\n",
       "  <use xlink:href=\"#glyph0-10\" x=\"184.800247\" y=\"198.71875\"/>\n",
       "  <use xlink:href=\"#glyph0-9\" x=\"187.575256\" y=\"198.71875\"/>\n",
       "  <use xlink:href=\"#glyph0-14\" x=\"191.050262\" y=\"198.71875\"/>\n",
       "</g>\n",
       "<g style=\"fill:rgb(0%,0%,0%);fill-opacity:1;\">\n",
       "  <use xlink:href=\"#glyph1-6\" x=\"14.398438\" y=\"121.636719\"/>\n",
       "  <use xlink:href=\"#glyph1-7\" x=\"14.398438\" y=\"112.611679\"/>\n",
       "  <use xlink:href=\"#glyph1-8\" x=\"14.398438\" y=\"105.661652\"/>\n",
       "  <use xlink:href=\"#glyph1-9\" x=\"14.398438\" y=\"98.711624\"/>\n",
       "  <use xlink:href=\"#glyph1-10\" x=\"14.398438\" y=\"92.461594\"/>\n",
       "  <use xlink:href=\"#glyph1-11\" x=\"14.398438\" y=\"89.686584\"/>\n",
       "  <use xlink:href=\"#glyph1-12\" x=\"14.398438\" y=\"86.211578\"/>\n",
       "</g>\n",
       "<path style=\"fill:none;stroke-width:1;stroke-linecap:round;stroke-linejoin:round;stroke:rgb(0%,80.392157%,0%);stroke-opacity:1;stroke-dasharray:4,4;stroke-miterlimit:10;\" d=\"M 66.398438 137.429688 L 66.761719 137.347656 L 67.121094 137.261719 L 67.839844 137.082031 L 68.558594 136.886719 L 68.921875 136.785156 L 69.640625 136.574219 L 70.359375 136.347656 L 70.722656 136.230469 L 71.082031 136.109375 L 71.441406 135.984375 L 72.160156 135.71875 L 72.519531 135.582031 L 72.882812 135.441406 L 73.242188 135.296875 L 73.601562 135.148438 L 73.960938 134.996094 L 74.320312 134.839844 L 74.683594 134.679688 L 75.402344 134.34375 L 75.761719 134.167969 L 76.121094 133.988281 L 76.480469 133.804688 L 76.84375 133.617188 L 77.203125 133.425781 L 77.5625 133.226562 L 77.921875 133.023438 L 78.28125 132.816406 L 78.644531 132.605469 L 79.003906 132.390625 L 79.363281 132.167969 L 79.722656 131.941406 L 80.441406 131.472656 L 80.804688 131.230469 L 81.164062 130.984375 L 81.882812 130.476562 L 82.242188 130.214844 L 82.605469 129.945312 L 82.964844 129.671875 L 83.324219 129.394531 L 83.683594 129.113281 L 84.042969 128.824219 L 84.402344 128.53125 L 84.765625 128.234375 L 85.125 127.933594 L 85.484375 127.625 L 85.84375 127.3125 L 86.5625 126.671875 L 86.925781 126.34375 L 87.285156 126.011719 L 88.003906 125.332031 L 88.363281 124.984375 L 88.726562 124.632812 L 89.085938 124.277344 L 89.445312 123.917969 L 90.164062 123.183594 L 90.523438 122.8125 L 90.886719 122.433594 L 91.605469 121.667969 L 91.964844 121.28125 L 92.324219 120.886719 L 92.6875 120.492188 L 93.046875 120.09375 L 93.40625 119.691406 L 94.125 118.878906 L 94.484375 118.46875 L 94.847656 118.054688 L 95.207031 117.640625 L 95.925781 116.804688 L 96.285156 116.382812 L 96.648438 115.957031 L 97.007812 115.535156 L 97.726562 114.683594 L 98.085938 114.253906 L 98.445312 113.828125 L 98.808594 113.398438 L 99.167969 112.96875 L 99.527344 112.542969 L 99.886719 112.113281 L 100.246094 111.6875 L 100.609375 111.257812 L 100.96875 110.832031 L 101.328125 110.410156 L 101.6875 109.984375 L 102.046875 109.566406 L 102.40625 109.144531 L 102.769531 108.730469 L 103.128906 108.3125 L 103.847656 107.492188 L 104.566406 106.6875 L 104.929688 106.289062 L 105.289062 105.894531 L 105.648438 105.503906 L 106.007812 105.117188 L 106.367188 104.738281 L 106.730469 104.363281 L 107.089844 103.992188 L 107.449219 103.628906 L 107.808594 103.269531 L 108.167969 102.917969 L 108.527344 102.570312 L 108.890625 102.230469 L 109.25 101.898438 L 109.609375 101.570312 L 109.96875 101.253906 L 110.328125 100.941406 L 110.691406 100.636719 L 111.050781 100.34375 L 111.410156 100.054688 L 111.769531 99.777344 L 112.128906 99.507812 L 112.488281 99.246094 L 112.851562 98.992188 L 113.210938 98.75 L 113.570312 98.515625 L 113.929688 98.289062 L 114.289062 98.078125 L 114.652344 97.871094 L 115.011719 97.675781 L 115.371094 97.492188 L 115.730469 97.316406 L 116.089844 97.152344 L 116.449219 97 L 116.8125 96.859375 L 117.171875 96.726562 L 117.53125 96.605469 L 117.890625 96.496094 L 118.25 96.398438 L 118.613281 96.308594 L 118.972656 96.234375 L 119.332031 96.167969 L 119.691406 96.113281 L 120.050781 96.074219 L 120.410156 96.042969 L 120.773438 96.023438 L 121.132812 96.015625 L 121.492188 96.019531 L 121.851562 96.035156 L 122.210938 96.058594 L 122.570312 96.097656 L 122.933594 96.148438 L 123.292969 96.207031 L 123.652344 96.28125 L 124.011719 96.363281 L 124.371094 96.460938 L 124.734375 96.566406 L 125.09375 96.683594 L 125.453125 96.808594 L 125.8125 96.949219 L 126.171875 97.097656 L 126.53125 97.257812 L 126.894531 97.429688 L 127.253906 97.609375 L 127.613281 97.800781 L 127.972656 98.003906 L 128.332031 98.214844 L 128.695312 98.433594 L 129.054688 98.664062 L 129.414062 98.90625 L 129.773438 99.15625 L 130.132812 99.414062 L 130.492188 99.679688 L 130.855469 99.957031 L 131.214844 100.242188 L 131.574219 100.53125 L 131.933594 100.832031 L 132.292969 101.140625 L 132.65625 101.457031 L 133.015625 101.78125 L 133.375 102.113281 L 133.734375 102.449219 L 134.09375 102.792969 L 134.453125 103.144531 L 134.816406 103.5 L 135.175781 103.863281 L 135.535156 104.230469 L 135.894531 104.605469 L 136.253906 104.984375 L 136.617188 105.367188 L 136.976562 105.753906 L 137.695312 106.542969 L 138.414062 107.347656 L 138.777344 107.757812 L 139.136719 108.167969 L 139.855469 108.996094 L 140.214844 109.414062 L 140.574219 109.835938 L 140.9375 110.257812 L 142.375 111.960938 L 142.738281 112.390625 L 143.097656 112.816406 L 143.816406 113.675781 L 144.175781 114.101562 L 144.535156 114.53125 L 144.898438 114.957031 L 145.617188 115.808594 L 146.335938 116.652344 L 146.699219 117.074219 L 147.058594 117.492188 L 148.136719 118.734375 L 148.496094 119.140625 L 148.859375 119.546875 L 149.578125 120.351562 L 150.296875 121.140625 L 150.660156 121.53125 L 151.019531 121.917969 L 151.738281 122.675781 L 152.097656 123.050781 L 152.457031 123.421875 L 152.820312 123.789062 L 153.539062 124.507812 L 153.898438 124.859375 L 154.257812 125.207031 L 154.621094 125.550781 L 154.980469 125.890625 L 155.339844 126.226562 L 155.699219 126.554688 L 156.058594 126.878906 L 156.417969 127.199219 L 156.78125 127.515625 L 157.140625 127.824219 L 157.5 128.128906 L 157.859375 128.429688 L 158.21875 128.722656 L 158.578125 129.011719 L 158.941406 129.296875 L 159.660156 129.851562 L 160.378906 130.382812 L 160.742188 130.640625 L 161.101562 130.894531 L 161.460938 131.144531 L 161.820312 131.386719 L 162.179688 131.625 L 162.539062 131.859375 L 162.902344 132.085938 L 163.261719 132.3125 L 163.980469 132.742188 L 164.339844 132.953125 L 164.703125 133.15625 L 165.0625 133.355469 L 165.421875 133.550781 L 166.140625 133.925781 L 166.5 134.105469 L 166.863281 134.28125 L 167.222656 134.453125 L 167.582031 134.621094 L 168.300781 134.941406 L 168.664062 135.09375 L 169.023438 135.246094 L 169.742188 135.535156 L 170.101562 135.671875 L 170.460938 135.804688 L 170.824219 135.9375 L 171.542969 136.1875 L 172.261719 136.421875 L 172.625 136.535156 L 172.984375 136.644531 L 173.34375 136.75 L 173.703125 136.851562 L 174.421875 137.046875 L 174.785156 137.140625 L 175.144531 137.230469 L 175.863281 137.402344 L 176.222656 137.484375 L 176.582031 137.5625 L 176.945312 137.636719 L 177.304688 137.710938 L 178.023438 137.851562 L 178.382812 137.917969 L 178.746094 137.980469 L 179.105469 138.042969 L 179.824219 138.160156 L 180.542969 138.269531 L 180.90625 138.320312 L 181.265625 138.367188 L 181.625 138.417969 L 182.34375 138.503906 L 182.707031 138.546875 L 183.066406 138.589844 L 183.425781 138.628906 L 183.785156 138.664062 L 184.144531 138.703125 L 184.503906 138.734375 L 184.867188 138.769531 L 185.945312 138.863281 L 186.304688 138.890625 L 186.667969 138.917969 L 187.027344 138.941406 L 187.386719 138.96875 L 188.105469 139.015625 L 188.464844 139.035156 L 188.828125 139.054688 L 189.1875 139.078125 L 189.546875 139.09375 L 190.265625 139.132812 L 190.628906 139.148438 L 191.347656 139.179688 L 191.707031 139.191406 L 192.066406 139.207031 L 192.425781 139.21875 L 192.789062 139.234375 L 193.507812 139.257812 L 193.867188 139.265625 L 194.585938 139.289062 L 194.949219 139.296875 L 195.667969 139.3125 L 196.027344 139.324219 L 196.386719 139.332031 L 196.75 139.335938 L 197.828125 139.359375 L 198.546875 139.367188 L 198.910156 139.375 L 199.628906 139.382812 L 199.988281 139.390625 L 200.347656 139.394531 L 200.710938 139.398438 L 202.148438 139.414062 L 202.507812 139.414062 L 202.871094 139.417969 L 203.230469 139.421875 L 203.589844 139.421875 L 204.308594 139.429688 L 204.671875 139.429688 L 205.03125 139.433594 L 205.390625 139.433594 L 205.75 139.4375 L 206.109375 139.4375 L 206.46875 139.441406 L 206.832031 139.441406 L 207.191406 139.445312 L 207.910156 139.445312 L 208.269531 139.449219 L 209.351562 139.449219 L 209.710938 139.453125 L 210.792969 139.453125 L 211.152344 139.457031 L 212.953125 139.457031 L 213.3125 139.460938 L 216.914062 139.460938 L 217.273438 139.464844 L 250.398438 139.464844 \"/>\n",
       "<path style=\"fill:none;stroke-width:1;stroke-linecap:round;stroke-linejoin:round;stroke:rgb(100%,0%,0%);stroke-opacity:1;stroke-miterlimit:10;\" d=\"M 64.53125 64.664062 L 75.519531 64.664062 \"/>\n",
       "<path style=\"fill:none;stroke-width:1;stroke-linecap:round;stroke-linejoin:round;stroke:rgb(0%,80.392157%,0%);stroke-opacity:1;stroke-dasharray:4,4;stroke-miterlimit:10;\" d=\"M 64.53125 67.257812 L 75.519531 67.257812 \"/>\n",
       "<g style=\"fill:rgb(0%,0%,0%);fill-opacity:1;\">\n",
       "  <use xlink:href=\"#glyph0-1\" x=\"81.011719\" y=\"69.351562\"/>\n",
       "</g>\n",
       "<g style=\"fill:rgb(0%,0%,0%);fill-opacity:1;\">\n",
       "  <use xlink:href=\"#glyph0-4\" x=\"81.011719\" y=\"71.945312\"/>\n",
       "</g>\n",
       "</g>\n",
       "</svg>\n"
      ]
     },
     "metadata": {
      "image/svg+xml": {
       "isolated": true
      }
     },
     "output_type": "display_data"
    },
    {
     "data": {
      "image/jpeg": "[encoded data removed]",
      "image/png": "",
      "image/svg+xml": [
       "<?xml version=\"1.0\" encoding=\"UTF-8\"?>\n",
       "<svg xmlns=\"http://www.w3.org/2000/svg\" xmlns:xlink=\"http://www.w3.org/1999/xlink\" width=\"288pt\" height=\"216pt\" viewBox=\"0 0 288 216\" version=\"1.1\">\n",
       "<defs>\n",
       "<g>\n",
       "<symbol overflow=\"visible\" id=\"glyph0-0\">\n",
       "<path style=\"stroke:none;\" d=\"\"/>\n",
       "</symbol>\n",
       "<symbol overflow=\"visible\" id=\"glyph0-1\">\n",
       "<path style=\"stroke:none;\" d=\"M 6.46875 -4.390625 C 6.46875 -7.46875 5.359375 -9.125 3.4375 -9.125 C 1.53125 -9.125 0.40625 -7.4375 0.40625 -4.46875 C 0.40625 -1.46875 1.53125 0.1875 3.4375 0.1875 C 5.3125 0.1875 6.46875 -1.46875 6.46875 -4.390625 Z M 5.078125 -4.484375 C 5.078125 -1.96875 4.640625 -0.984375 3.40625 -0.984375 C 2.25 -0.984375 1.78125 -2.03125 1.78125 -4.453125 C 1.78125 -6.875 2.25 -7.890625 3.4375 -7.890625 C 4.625 -7.890625 5.078125 -6.859375 5.078125 -4.484375 Z M 5.078125 -4.484375 \"/>\n",
       "</symbol>\n",
       "<symbol overflow=\"visible\" id=\"glyph0-2\">\n",
       "<path style=\"stroke:none;\" d=\"M 2.515625 -0.125 L 2.515625 -1.5625 L 0.953125 -1.5625 L 0.953125 0 L 2.515625 0 Z M 2.515625 -0.125 \"/>\n",
       "</symbol>\n",
       "<symbol overflow=\"visible\" id=\"glyph0-3\">\n",
       "<path style=\"stroke:none;\" d=\"M 6.515625 -6.390625 C 6.515625 -7.890625 5.21875 -9.125 3.546875 -9.125 C 1.734375 -9.125 0.546875 -8.0625 0.484375 -5.78125 L 1.84375 -5.78125 C 1.9375 -7.40625 2.421875 -7.90625 3.515625 -7.90625 C 4.515625 -7.90625 5.125 -7.3125 5.125 -6.359375 C 5.125 -5.65625 4.75 -5.15625 3.96875 -4.703125 L 2.8125 -4.046875 C 0.96875 -3 0.390625 -2.078125 0.28125 0 L 6.453125 0 L 6.453125 -1.34375 L 1.8125 -1.34375 C 1.90625 -1.9375 2.265625 -2.3125 3.34375 -2.953125 L 4.59375 -3.625 C 5.84375 -4.28125 6.515625 -5.296875 6.515625 -6.390625 Z M 6.515625 -6.390625 \"/>\n",
       "</symbol>\n",
       "<symbol overflow=\"visible\" id=\"glyph0-4\">\n",
       "<path style=\"stroke:none;\" d=\"M 6.625 -2.25 L 6.625 -3.375 L 5.3125 -3.375 L 5.3125 -9.125 L 4.296875 -9.125 L 0.21875 -3.453125 L 0.21875 -2.125 L 3.953125 -2.125 L 3.953125 0 L 5.3125 0 L 5.3125 -2.125 L 6.625 -2.125 Z M 4.09375 -3.375 L 1.5625 -3.375 L 4.171875 -7.03125 L 3.953125 -7.109375 L 3.953125 -3.375 Z M 4.09375 -3.375 \"/>\n",
       "</symbol>\n",
       "<symbol overflow=\"visible\" id=\"glyph0-5\">\n",
       "<path style=\"stroke:none;\" d=\"M 6.53125 -2.875 C 6.53125 -4.53125 5.28125 -5.78125 3.703125 -5.78125 C 2.828125 -5.78125 2.03125 -5.390625 1.5625 -4.734375 L 1.78125 -4.65625 C 1.796875 -6.8125 2.375 -7.890625 3.640625 -7.890625 C 4.40625 -7.890625 4.8125 -7.53125 5.015625 -6.546875 L 6.375 -6.546875 C 6.140625 -8.125 5.0625 -9.125 3.71875 -9.125 C 1.65625 -9.125 0.40625 -7.25 0.40625 -4.15625 C 0.40625 -1.40625 1.484375 0.1875 3.515625 0.1875 C 5.203125 0.1875 6.53125 -1.140625 6.53125 -2.875 Z M 5.15625 -2.78125 C 5.15625 -1.671875 4.53125 -1.046875 3.53125 -1.046875 C 2.5 -1.046875 1.84375 -1.71875 1.84375 -2.84375 C 1.84375 -3.953125 2.46875 -4.53125 3.5625 -4.53125 C 4.625 -4.53125 5.15625 -3.96875 5.15625 -2.78125 Z M 5.15625 -2.78125 \"/>\n",
       "</symbol>\n",
       "<symbol overflow=\"visible\" id=\"glyph0-6\">\n",
       "<path style=\"stroke:none;\" d=\"M 6.53125 -2.625 C 6.53125 -3.609375 5.90625 -4.4375 5.140625 -4.796875 C 5.890625 -5.25 6.21875 -5.78125 6.21875 -6.625 C 6.21875 -8.015625 5.015625 -9.125 3.4375 -9.125 C 1.875 -9.125 0.640625 -8.015625 0.640625 -6.625 C 0.640625 -5.796875 0.96875 -5.265625 1.71875 -4.796875 C 0.96875 -4.4375 0.328125 -3.609375 0.328125 -2.640625 C 0.328125 -1.015625 1.6875 0.1875 3.4375 0.1875 C 5.1875 0.1875 6.53125 -1.015625 6.53125 -2.625 Z M 4.84375 -6.59375 C 4.84375 -5.78125 4.359375 -5.359375 3.4375 -5.359375 C 2.515625 -5.359375 2.03125 -5.78125 2.03125 -6.609375 C 2.03125 -7.46875 2.515625 -7.890625 3.4375 -7.890625 C 4.375 -7.890625 4.84375 -7.46875 4.84375 -6.59375 Z M 5.15625 -2.609375 C 5.15625 -1.5625 4.53125 -1.046875 3.40625 -1.046875 C 2.34375 -1.046875 1.71875 -1.578125 1.71875 -2.609375 C 1.71875 -3.65625 2.34375 -4.171875 3.4375 -4.171875 C 4.53125 -4.171875 5.15625 -3.65625 5.15625 -2.609375 Z M 5.15625 -2.609375 \"/>\n",
       "</symbol>\n",
       "<symbol overflow=\"visible\" id=\"glyph0-7\">\n",
       "<path style=\"stroke:none;\" d=\"M 4.46875 -0.125 L 4.46875 -9.125 L 3.515625 -9.125 C 3.09375 -7.625 2.96875 -7.578125 1.140625 -7.34375 L 1.140625 -6.3125 L 3.09375 -6.3125 L 3.09375 0 L 4.46875 0 Z M 4.46875 -0.125 \"/>\n",
       "</symbol>\n",
       "<symbol overflow=\"visible\" id=\"glyph0-8\">\n",
       "<path style=\"stroke:none;\" d=\"M 5.96875 -2.515625 L 4.796875 -2.515625 C 4.59375 -1.328125 4.203125 -1.03125 3.3125 -1.03125 C 2.15625 -1.03125 1.59375 -1.78125 1.59375 -3.34375 C 1.59375 -4.96875 2.15625 -5.78125 3.28125 -5.78125 C 4.15625 -5.78125 4.578125 -5.390625 4.71875 -4.34375 L 6.03125 -4.34375 C 5.890625 -6.078125 4.765625 -7 3.296875 -7 C 1.53125 -7 0.25 -5.515625 0.25 -3.34375 C 0.25 -1.21875 1.515625 0.1875 3.28125 0.1875 C 4.84375 0.1875 5.96875 -0.875 6.09375 -2.515625 Z M 5.96875 -2.515625 \"/>\n",
       "</symbol>\n",
       "<symbol overflow=\"visible\" id=\"glyph0-9\">\n",
       "<path style=\"stroke:none;\" d=\"M 2.03125 -0.125 L 2.03125 -6.8125 L 0.734375 -6.8125 L 0.734375 0 L 2.03125 0 Z M 2.171875 -7.65625 L 2.171875 -9.09375 L 0.609375 -9.09375 L 0.609375 -7.53125 L 2.171875 -7.53125 Z M 2.171875 -7.65625 \"/>\n",
       "</symbol>\n",
       "<symbol overflow=\"visible\" id=\"glyph0-10\">\n",
       "<path style=\"stroke:none;\" d=\"M 3.296875 -0.125 L 3.296875 -1.171875 C 3.03125 -1.09375 2.875 -1.09375 2.671875 -1.09375 C 2.21875 -1.09375 2.21875 -1.078125 2.21875 -1.53125 L 2.21875 -5.703125 L 3.296875 -5.703125 L 3.296875 -6.8125 L 2.21875 -6.8125 L 2.21875 -8.609375 L 0.921875 -8.609375 L 0.921875 -6.8125 L 0.03125 -6.8125 L 0.03125 -5.703125 L 0.921875 -5.703125 L 0.921875 -1.078125 C 0.921875 -0.40625 1.515625 0.09375 2.328125 0.09375 C 2.578125 0.09375 2.828125 0.0625 3.296875 -0.015625 Z M 3.296875 -0.125 \"/>\n",
       "</symbol>\n",
       "<symbol overflow=\"visible\" id=\"glyph0-11\">\n",
       "<path style=\"stroke:none;\" d=\"M 4.140625 -5.765625 L 4.140625 -6.9375 C 3.84375 -6.984375 3.75 -7 3.609375 -7 C 2.9375 -7 2.328125 -6.546875 1.71875 -5.578125 L 1.953125 -5.484375 L 1.953125 -6.8125 L 0.734375 -6.8125 L 0.734375 0 L 2.03125 0 L 2.03125 -3.53125 C 2.03125 -5 2.40625 -5.609375 4.140625 -5.640625 Z M 4.140625 -5.765625 \"/>\n",
       "</symbol>\n",
       "<symbol overflow=\"visible\" id=\"glyph0-12\">\n",
       "<path style=\"stroke:none;\" d=\"M 6.8125 -0.15625 L 6.8125 -1.09375 C 6.578125 -1.046875 6.53125 -1.046875 6.46875 -1.046875 C 6.09375 -1.046875 6.03125 -1.09375 6.03125 -1.421875 L 6.03125 -5.078125 C 6.03125 -6.234375 5.046875 -7 3.4375 -7 C 1.84375 -7 0.734375 -6.25 0.65625 -4.609375 L 1.96875 -4.609375 C 2.078125 -5.53125 2.421875 -5.78125 3.40625 -5.78125 C 4.34375 -5.78125 4.71875 -5.546875 4.71875 -4.921875 L 4.71875 -4.65625 C 4.71875 -4.21875 4.59375 -4.15625 3.78125 -4.0625 C 2.296875 -3.875 2.078125 -3.828125 1.671875 -3.65625 C 0.90625 -3.34375 0.390625 -2.625 0.390625 -1.828125 C 0.390625 -0.640625 1.34375 0.1875 2.671875 0.1875 C 3.515625 0.1875 4.40625 -0.203125 4.828125 -0.640625 C 4.875 -0.40625 5.46875 0.09375 5.96875 0.09375 C 6.1875 0.09375 6.34375 0.0625 6.8125 -0.046875 Z M 4.71875 -2.390625 C 4.71875 -1.453125 3.90625 -0.984375 2.90625 -0.984375 C 2.09375 -0.984375 1.734375 -1.140625 1.734375 -1.84375 C 1.734375 -2.53125 2.078125 -2.71875 3.1875 -2.875 C 4.28125 -3.03125 4.515625 -3.078125 4.71875 -3.171875 Z M 4.71875 -2.390625 \"/>\n",
       "</symbol>\n",
       "<symbol overflow=\"visible\" id=\"glyph0-13\">\n",
       "<path style=\"stroke:none;\" d=\"M 6.3125 -0.125 L 6.3125 -9.375 L 5.015625 -9.375 L 5.015625 -5.84375 L 5.234375 -5.9375 C 4.796875 -6.59375 4.015625 -7 3.140625 -7 C 1.4375 -7 0.1875 -5.546875 0.1875 -3.46875 C 0.1875 -1.25 1.40625 0.1875 3.171875 0.1875 C 4.078125 0.1875 4.78125 -0.1875 5.34375 -1 L 5.125 -1.09375 L 5.125 0 L 6.3125 0 Z M 5.015625 -3.375 C 5.015625 -1.859375 4.421875 -1.046875 3.328125 -1.046875 C 2.171875 -1.046875 1.53125 -1.875 1.53125 -3.40625 C 1.53125 -4.921875 2.171875 -5.765625 3.3125 -5.765625 C 4.4375 -5.765625 5.015625 -4.890625 5.015625 -3.375 Z M 5.015625 -3.375 \"/>\n",
       "</symbol>\n",
       "<symbol overflow=\"visible\" id=\"glyph1-0\">\n",
       "<path style=\"stroke:none;\" d=\"\"/>\n",
       "</symbol>\n",
       "<symbol overflow=\"visible\" id=\"glyph1-1\">\n",
       "<path style=\"stroke:none;\" d=\"M -4.390625 -6.46875 C -7.46875 -6.46875 -9.125 -5.359375 -9.125 -3.4375 C -9.125 -1.53125 -7.4375 -0.40625 -4.46875 -0.40625 C -1.46875 -0.40625 0.1875 -1.53125 0.1875 -3.4375 C 0.1875 -5.3125 -1.46875 -6.46875 -4.390625 -6.46875 Z M -4.484375 -5.078125 C -1.96875 -5.078125 -0.984375 -4.640625 -0.984375 -3.40625 C -0.984375 -2.25 -2.03125 -1.78125 -4.453125 -1.78125 C -6.875 -1.78125 -7.890625 -2.25 -7.890625 -3.4375 C -7.890625 -4.625 -6.859375 -5.078125 -4.484375 -5.078125 Z M -4.484375 -5.078125 \"/>\n",
       "</symbol>\n",
       "<symbol overflow=\"visible\" id=\"glyph1-2\">\n",
       "<path style=\"stroke:none;\" d=\"M -0.125 -2.515625 L -1.5625 -2.515625 L -1.5625 -0.953125 L 0 -0.953125 L 0 -2.515625 Z M -0.125 -2.515625 \"/>\n",
       "</symbol>\n",
       "<symbol overflow=\"visible\" id=\"glyph1-3\">\n",
       "<path style=\"stroke:none;\" d=\"M -0.125 -4.46875 L -9.125 -4.46875 L -9.125 -3.515625 C -7.625 -3.09375 -7.578125 -2.96875 -7.34375 -1.140625 L -6.3125 -1.140625 L -6.3125 -3.09375 L 0 -3.09375 L 0 -4.46875 Z M -0.125 -4.46875 \"/>\n",
       "</symbol>\n",
       "<symbol overflow=\"visible\" id=\"glyph1-4\">\n",
       "<path style=\"stroke:none;\" d=\"M -3.0625 -6.53125 C -4.8125 -6.53125 -6.09375 -5.25 -6.09375 -3.546875 C -6.09375 -2.921875 -5.890625 -2.328125 -5.71875 -2.09375 L -7.59375 -2.359375 L -7.59375 -6.078125 L -8.9375 -6.078125 L -8.9375 -1.25 L -4.03125 -0.546875 L -4.03125 -1.78125 C -4.6875 -2.328125 -4.859375 -2.65625 -4.859375 -3.34375 C -4.859375 -4.53125 -4.21875 -5.15625 -2.90625 -5.15625 C -1.640625 -5.15625 -1.046875 -4.546875 -1.046875 -3.34375 C -1.046875 -2.390625 -1.40625 -1.921875 -2.53125 -1.625 L -2.53125 -0.28125 C -0.640625 -0.65625 0.1875 -1.796875 0.1875 -3.375 C 0.1875 -5.15625 -1.1875 -6.53125 -3.0625 -6.53125 Z M -3.0625 -6.53125 \"/>\n",
       "</symbol>\n",
       "<symbol overflow=\"visible\" id=\"glyph1-5\">\n",
       "<path style=\"stroke:none;\" d=\"M -2.703125 -6.453125 C -3.78125 -6.453125 -4.53125 -5.890625 -4.90625 -4.828125 L -4.640625 -4.828125 C -4.96875 -5.65625 -5.65625 -6.1875 -6.546875 -6.1875 C -8.078125 -6.1875 -9.125 -5.046875 -9.125 -3.359375 C -9.125 -1.578125 -8.015625 -0.484375 -6 -0.453125 L -6 -1.8125 C -7.4375 -1.84375 -7.90625 -2.25 -7.90625 -3.375 C -7.90625 -4.34375 -7.453125 -4.796875 -6.515625 -4.796875 C -5.5625 -4.796875 -5.3125 -4.53125 -5.3125 -2.625 L -4.125 -2.625 L -4.125 -3.359375 C -4.125 -4.578125 -3.671875 -5.0625 -2.6875 -5.0625 C -1.578125 -5.0625 -1.046875 -4.515625 -1.046875 -3.359375 C -1.046875 -2.15625 -1.515625 -1.703125 -2.9375 -1.609375 L -2.9375 -0.25 C -0.828125 -0.40625 0.1875 -1.515625 0.1875 -3.328125 C 0.1875 -5.15625 -1.03125 -6.453125 -2.703125 -6.453125 Z M -2.703125 -6.453125 \"/>\n",
       "</symbol>\n",
       "<symbol overflow=\"visible\" id=\"glyph1-6\">\n",
       "<path style=\"stroke:none;\" d=\"M -4.6875 -8.46875 C -7.515625 -8.46875 -9.375 -6.9375 -9.375 -4.625 L -9.375 -0.96875 L 0 -0.96875 L 0 -4.625 C 0 -6.921875 -1.84375 -8.46875 -4.6875 -8.46875 Z M -4.671875 -7.03125 C -2.375 -7.03125 -1.28125 -6.21875 -1.28125 -4.421875 L -1.28125 -2.40625 L -8.09375 -2.40625 L -8.09375 -4.421875 C -8.09375 -6.21875 -7 -7.03125 -4.671875 -7.03125 Z M -4.671875 -7.03125 \"/>\n",
       "</symbol>\n",
       "<symbol overflow=\"visible\" id=\"glyph1-7\">\n",
       "<path style=\"stroke:none;\" d=\"M -3.09375 -6.53125 C -4.046875 -6.53125 -4.65625 -6.46875 -5.140625 -6.28125 C -6.21875 -5.84375 -7 -4.71875 -7 -3.5 C -7 -1.671875 -5.515625 -0.359375 -3.359375 -0.359375 C -1.21875 -0.359375 0.1875 -1.640625 0.1875 -3.46875 C 0.1875 -4.96875 -0.78125 -6.140625 -2.25 -6.421875 L -2.25 -5.125 C -1.25 -4.796875 -1.03125 -4.34375 -1.03125 -3.515625 C -1.03125 -2.421875 -1.59375 -1.734375 -2.96875 -1.71875 L -2.96875 -6.53125 Z M -3.9375 -5.390625 C -3.9375 -5.390625 -4.0625 -5.203125 -4.09375 -5.21875 L -4.09375 -1.75 C -5.109375 -1.828125 -5.78125 -2.4375 -5.78125 -3.484375 C -5.78125 -4.515625 -5.046875 -5.15625 -4.03125 -5.15625 Z M -3.9375 -5.390625 \"/>\n",
       "</symbol>\n",
       "<symbol overflow=\"visible\" id=\"glyph1-8\">\n",
       "<path style=\"stroke:none;\" d=\"M -0.125 -6.21875 L -5.078125 -6.21875 C -6.15625 -6.21875 -7 -5.28125 -7 -4.015625 C -7 -3.03125 -6.578125 -2.3125 -5.65625 -1.734375 L -5.578125 -1.96875 L -6.8125 -1.96875 L -6.8125 -0.734375 L 0 -0.734375 L 0 -2.03125 L -3.734375 -2.03125 C -5.078125 -2.03125 -5.828125 -2.640625 -5.828125 -3.703125 C -5.828125 -4.53125 -5.453125 -4.90625 -4.65625 -4.90625 L 0 -4.90625 L 0 -6.21875 Z M -0.125 -6.21875 \"/>\n",
       "</symbol>\n",
       "<symbol overflow=\"visible\" id=\"glyph1-9\">\n",
       "<path style=\"stroke:none;\" d=\"M -1.96875 -5.859375 C -2.9375 -5.859375 -3.5625 -5.1875 -3.875 -3.890625 L -4.109375 -2.890625 C -4.3125 -2.03125 -4.453125 -1.796875 -4.90625 -1.796875 C -5.515625 -1.796875 -5.78125 -2.21875 -5.78125 -3.0625 C -5.78125 -3.90625 -5.53125 -4.21875 -4.71875 -4.234375 L -4.71875 -5.59375 C -6.140625 -5.59375 -7 -4.609375 -7 -3.09375 C -7 -1.578125 -6.078125 -0.453125 -4.859375 -0.453125 C -3.84375 -0.453125 -3.21875 -1.109375 -2.84375 -2.65625 L -2.609375 -3.640625 C -2.4375 -4.359375 -2.34375 -4.515625 -1.875 -4.515625 C -1.265625 -4.515625 -1.03125 -4.03125 -1.03125 -3.125 C -1.03125 -2.1875 -1.125 -1.78125 -2.265625 -1.640625 L -2.265625 -0.28125 C -0.609375 -0.34375 0.1875 -1.328125 0.1875 -3.03125 C 0.1875 -4.6875 -0.703125 -5.859375 -1.96875 -5.859375 Z M -1.96875 -5.859375 \"/>\n",
       "</symbol>\n",
       "<symbol overflow=\"visible\" id=\"glyph1-10\">\n",
       "<path style=\"stroke:none;\" d=\"M -0.125 -2.03125 L -6.8125 -2.03125 L -6.8125 -0.734375 L 0 -0.734375 L 0 -2.03125 Z M -7.65625 -2.171875 L -9.09375 -2.171875 L -9.09375 -0.609375 L -7.53125 -0.609375 L -7.53125 -2.171875 Z M -7.65625 -2.171875 \"/>\n",
       "</symbol>\n",
       "<symbol overflow=\"visible\" id=\"glyph1-11\">\n",
       "<path style=\"stroke:none;\" d=\"M -0.125 -3.296875 L -1.171875 -3.296875 C -1.09375 -3.03125 -1.09375 -2.875 -1.09375 -2.671875 C -1.09375 -2.21875 -1.078125 -2.21875 -1.53125 -2.21875 L -5.703125 -2.21875 L -5.703125 -3.296875 L -6.8125 -3.296875 L -6.8125 -2.21875 L -8.609375 -2.21875 L -8.609375 -0.921875 L -6.8125 -0.921875 L -6.8125 -0.03125 L -5.703125 -0.03125 L -5.703125 -0.921875 L -1.078125 -0.921875 C -0.40625 -0.921875 0.09375 -1.515625 0.09375 -2.328125 C 0.09375 -2.578125 0.0625 -2.828125 -0.015625 -3.296875 Z M -0.125 -3.296875 \"/>\n",
       "</symbol>\n",
       "<symbol overflow=\"visible\" id=\"glyph1-12\">\n",
       "<path style=\"stroke:none;\" d=\"M -6.8125 -5.96875 L -6.8125 -4.765625 L -1.578125 -2.90625 L -1.578125 -3.15625 L -6.8125 -1.453125 L -6.8125 -0.0625 L -0.09375 -2.328125 L 0.9375 -1.921875 C 1.40625 -1.75 1.4375 -1.671875 1.4375 -1.21875 C 1.4375 -1.078125 1.40625 -0.90625 1.34375 -0.53125 L 2.515625 -0.53125 C 2.640625 -0.78125 2.71875 -1.09375 2.71875 -1.375 C 2.71875 -2.109375 2.1875 -2.84375 1.25 -3.1875 L -6.8125 -6.15625 Z M -6.8125 -5.96875 \"/>\n",
       "</symbol>\n",
       "</g>\n",
       "</defs>\n",
       "<g id=\"surface670\">\n",
       "<rect x=\"0\" y=\"0\" width=\"288\" height=\"216\" style=\"fill:rgb(100%,100%,100%);fill-opacity:1;stroke:none;\"/>\n",
       "<path style=\"fill:none;stroke-width:1;stroke-linecap:round;stroke-linejoin:round;stroke:rgb(100%,0%,0%);stroke-opacity:1;stroke-miterlimit:10;\" d=\"M 66.398438 137.929688 L 66.761719 137.839844 L 67.121094 137.746094 L 67.480469 137.648438 L 67.839844 137.546875 L 68.199219 137.4375 L 68.558594 137.324219 L 68.921875 137.203125 L 69.28125 137.078125 L 69.640625 136.949219 L 70 136.8125 L 70.359375 136.667969 L 70.722656 136.519531 L 71.082031 136.363281 L 71.441406 136.199219 L 71.800781 136.03125 L 72.160156 135.851562 L 72.519531 135.667969 L 72.882812 135.476562 L 73.242188 135.273438 L 73.601562 135.066406 L 73.960938 134.847656 L 74.320312 134.621094 L 74.683594 134.386719 L 75.042969 134.140625 L 75.402344 133.886719 L 75.761719 133.621094 L 76.121094 133.347656 L 76.480469 133.0625 L 76.84375 132.765625 L 77.203125 132.460938 L 77.5625 132.144531 L 77.921875 131.816406 L 78.28125 131.476562 L 78.644531 131.128906 L 79.003906 130.765625 L 79.363281 130.390625 L 79.722656 130.003906 L 80.082031 129.605469 L 80.441406 129.191406 L 80.804688 128.765625 L 81.164062 128.328125 L 81.523438 127.878906 L 81.882812 127.414062 L 82.242188 126.9375 L 82.605469 126.445312 L 82.964844 125.941406 L 83.324219 125.421875 L 83.683594 124.890625 L 84.042969 124.34375 L 84.402344 123.78125 L 84.765625 123.207031 L 85.125 122.617188 L 85.484375 122.015625 L 85.84375 121.398438 L 86.203125 120.765625 L 86.5625 120.121094 L 86.925781 119.460938 L 87.285156 118.789062 L 87.644531 118.101562 L 88.003906 117.398438 L 88.363281 116.683594 L 88.726562 115.953125 L 89.085938 115.214844 L 89.445312 114.457031 L 89.804688 113.691406 L 90.164062 112.910156 L 90.523438 112.117188 L 90.886719 111.3125 L 91.246094 110.496094 L 91.605469 109.667969 L 91.964844 108.828125 L 92.324219 107.976562 L 92.6875 107.117188 L 93.046875 106.246094 L 93.40625 105.367188 L 93.765625 104.476562 L 94.125 103.582031 L 94.484375 102.675781 L 94.847656 101.761719 L 95.207031 100.84375 L 95.566406 99.917969 L 95.925781 98.988281 L 96.285156 98.050781 L 96.648438 97.113281 L 97.367188 95.222656 L 98.445312 92.375 L 98.808594 91.421875 L 99.167969 90.472656 L 99.886719 88.582031 L 100.246094 87.640625 L 100.609375 86.703125 L 100.96875 85.769531 L 101.328125 84.84375 L 101.6875 83.925781 L 102.046875 83.011719 L 102.40625 82.109375 L 102.769531 81.214844 L 103.128906 80.332031 L 103.488281 79.460938 L 103.847656 78.601562 L 104.207031 77.753906 L 104.566406 76.921875 L 104.929688 76.101562 L 105.289062 75.300781 L 105.648438 74.515625 L 106.007812 73.746094 L 106.367188 72.996094 L 106.730469 72.261719 L 107.089844 71.550781 L 107.449219 70.859375 L 107.808594 70.191406 L 108.167969 69.542969 L 108.527344 68.917969 L 108.890625 68.320312 L 109.25 67.742188 L 109.609375 67.191406 L 109.96875 66.664062 L 110.328125 66.164062 L 110.691406 65.691406 L 111.050781 65.246094 L 111.410156 64.832031 L 111.769531 64.441406 L 112.128906 64.082031 L 112.488281 63.75 L 112.851562 63.449219 L 113.210938 63.179688 L 113.570312 62.941406 L 113.929688 62.730469 L 114.289062 62.554688 L 114.652344 62.40625 L 115.011719 62.289062 L 115.371094 62.207031 L 115.730469 62.152344 L 116.089844 62.132812 L 116.449219 62.144531 L 116.8125 62.1875 L 117.171875 62.261719 L 117.53125 62.367188 L 117.890625 62.503906 L 118.25 62.675781 L 118.613281 62.875 L 118.972656 63.105469 L 119.332031 63.367188 L 119.691406 63.65625 L 120.050781 63.980469 L 120.410156 64.332031 L 120.773438 64.710938 L 121.132812 65.121094 L 121.492188 65.554688 L 121.851562 66.019531 L 122.210938 66.511719 L 122.570312 67.03125 L 122.933594 67.574219 L 123.292969 68.140625 L 123.652344 68.734375 L 124.011719 69.351562 L 124.371094 69.992188 L 124.734375 70.65625 L 125.09375 71.339844 L 125.453125 72.046875 L 125.8125 72.773438 L 126.171875 73.515625 L 126.53125 74.28125 L 126.894531 75.0625 L 127.253906 75.859375 L 127.613281 76.671875 L 127.972656 77.5 L 128.332031 78.34375 L 128.695312 79.199219 L 129.054688 80.070312 L 129.414062 80.949219 L 129.773438 81.839844 L 130.132812 82.738281 L 130.492188 83.648438 L 130.855469 84.566406 L 131.214844 85.492188 L 131.574219 86.421875 L 131.933594 87.355469 L 132.292969 88.296875 L 132.65625 89.242188 L 133.015625 90.1875 L 133.734375 92.085938 L 134.09375 93.039062 L 134.453125 93.988281 L 134.816406 94.9375 L 135.535156 96.828125 L 135.894531 97.769531 L 136.253906 98.707031 L 136.617188 99.640625 L 136.976562 100.566406 L 137.335938 101.488281 L 137.695312 102.402344 L 138.054688 103.308594 L 138.414062 104.207031 L 138.777344 105.097656 L 139.136719 105.980469 L 139.496094 106.855469 L 139.855469 107.71875 L 140.214844 108.570312 L 140.574219 109.414062 L 140.9375 110.246094 L 141.296875 111.066406 L 141.65625 111.875 L 142.015625 112.671875 L 142.375 113.457031 L 142.738281 114.226562 L 143.097656 114.988281 L 143.457031 115.734375 L 143.816406 116.464844 L 144.175781 117.183594 L 144.535156 117.890625 L 144.898438 118.582031 L 145.257812 119.257812 L 145.617188 119.921875 L 145.976562 120.574219 L 146.335938 121.210938 L 146.699219 121.832031 L 147.058594 122.4375 L 147.417969 123.03125 L 147.777344 123.609375 L 148.136719 124.175781 L 148.496094 124.726562 L 148.859375 125.261719 L 149.21875 125.785156 L 149.578125 126.296875 L 149.9375 126.789062 L 150.296875 127.273438 L 150.660156 127.742188 L 151.019531 128.195312 L 151.378906 128.636719 L 151.738281 129.066406 L 152.097656 129.480469 L 152.457031 129.882812 L 152.820312 130.273438 L 153.179688 130.652344 L 153.539062 131.019531 L 153.898438 131.375 L 154.257812 131.714844 L 154.621094 132.046875 L 154.980469 132.367188 L 155.339844 132.675781 L 155.699219 132.976562 L 156.058594 133.261719 L 156.417969 133.539062 L 156.78125 133.808594 L 157.140625 134.0625 L 157.5 134.3125 L 157.859375 134.550781 L 158.21875 134.78125 L 158.578125 135 L 158.941406 135.210938 L 159.300781 135.414062 L 159.660156 135.609375 L 160.019531 135.796875 L 160.378906 135.976562 L 160.742188 136.152344 L 161.101562 136.316406 L 161.460938 136.472656 L 161.820312 136.625 L 162.179688 136.769531 L 162.539062 136.910156 L 162.902344 137.039062 L 163.261719 137.167969 L 163.621094 137.289062 L 163.980469 137.402344 L 164.339844 137.511719 L 164.703125 137.617188 L 165.0625 137.71875 L 165.421875 137.8125 L 165.78125 137.902344 L 166.140625 137.988281 L 166.5 138.070312 L 166.863281 138.148438 L 167.582031 138.296875 L 167.941406 138.363281 L 168.300781 138.425781 L 168.664062 138.484375 L 169.023438 138.542969 L 169.382812 138.597656 L 170.101562 138.699219 L 170.460938 138.742188 L 170.824219 138.785156 L 171.183594 138.828125 L 171.542969 138.867188 L 172.261719 138.9375 L 172.625 138.972656 L 172.984375 139.003906 L 174.0625 139.085938 L 174.421875 139.109375 L 174.785156 139.132812 L 175.144531 139.15625 L 175.863281 139.195312 L 176.222656 139.210938 L 176.582031 139.230469 L 176.945312 139.246094 L 177.304688 139.257812 L 177.664062 139.273438 L 178.023438 139.285156 L 178.382812 139.300781 L 178.746094 139.3125 L 179.105469 139.320312 L 179.464844 139.332031 L 179.824219 139.339844 L 180.183594 139.351562 L 180.542969 139.359375 L 180.90625 139.367188 L 181.265625 139.371094 L 181.984375 139.386719 L 182.34375 139.390625 L 182.707031 139.398438 L 184.503906 139.417969 L 184.867188 139.421875 L 185.945312 139.433594 L 186.304688 139.433594 L 186.667969 139.4375 L 187.027344 139.441406 L 187.386719 139.441406 L 187.746094 139.445312 L 188.464844 139.445312 L 188.828125 139.449219 L 189.1875 139.449219 L 189.546875 139.453125 L 190.628906 139.453125 L 190.988281 139.457031 L 192.425781 139.457031 L 192.789062 139.460938 L 195.308594 139.460938 L 195.667969 139.464844 L 250.398438 139.464844 \"/>\n",
       "<path style=\"fill:none;stroke-width:1;stroke-linecap:round;stroke-linejoin:round;stroke:rgb(0%,0%,0%);stroke-opacity:1;stroke-miterlimit:10;\" d=\"M 66.398438 142.558594 L 245.914062 142.558594 \"/>\n",
       "<path style=\"fill:none;stroke-width:1;stroke-linecap:round;stroke-linejoin:round;stroke:rgb(0%,0%,0%);stroke-opacity:1;stroke-miterlimit:10;\" d=\"M 66.398438 142.558594 L 66.398438 149.761719 \"/>\n",
       "<path style=\"fill:none;stroke-width:1;stroke-linecap:round;stroke-linejoin:round;stroke:rgb(0%,0%,0%);stroke-opacity:1;stroke-miterlimit:10;\" d=\"M 96.320312 142.558594 L 96.320312 149.761719 \"/>\n",
       "<path style=\"fill:none;stroke-width:1;stroke-linecap:round;stroke-linejoin:round;stroke:rgb(0%,0%,0%);stroke-opacity:1;stroke-miterlimit:10;\" d=\"M 126.238281 142.558594 L 126.238281 149.761719 \"/>\n",
       "<path style=\"fill:none;stroke-width:1;stroke-linecap:round;stroke-linejoin:round;stroke:rgb(0%,0%,0%);stroke-opacity:1;stroke-miterlimit:10;\" d=\"M 156.15625 142.558594 L 156.15625 149.761719 \"/>\n",
       "<path style=\"fill:none;stroke-width:1;stroke-linecap:round;stroke-linejoin:round;stroke:rgb(0%,0%,0%);stroke-opacity:1;stroke-miterlimit:10;\" d=\"M 186.074219 142.558594 L 186.074219 149.761719 \"/>\n",
       "<path style=\"fill:none;stroke-width:1;stroke-linecap:round;stroke-linejoin:round;stroke:rgb(0%,0%,0%);stroke-opacity:1;stroke-miterlimit:10;\" d=\"M 215.992188 142.558594 L 215.992188 149.761719 \"/>\n",
       "<path style=\"fill:none;stroke-width:1;stroke-linecap:round;stroke-linejoin:round;stroke:rgb(0%,0%,0%);stroke-opacity:1;stroke-miterlimit:10;\" d=\"M 245.914062 142.558594 L 245.914062 149.761719 \"/>\n",
       "<g style=\"fill:rgb(0%,0%,0%);fill-opacity:1;\">\n",
       "  <use xlink:href=\"#glyph0-1\" x=\"57.710938\" y=\"169.921875\"/>\n",
       "  <use xlink:href=\"#glyph0-2\" x=\"64.660965\" y=\"169.921875\"/>\n",
       "  <use xlink:href=\"#glyph0-1\" x=\"68.135971\" y=\"169.921875\"/>\n",
       "</g>\n",
       "<g style=\"fill:rgb(0%,0%,0%);fill-opacity:1;\">\n",
       "  <use xlink:href=\"#glyph0-1\" x=\"87.632812\" y=\"169.921875\"/>\n",
       "  <use xlink:href=\"#glyph0-2\" x=\"94.58284\" y=\"169.921875\"/>\n",
       "  <use xlink:href=\"#glyph0-3\" x=\"98.057846\" y=\"169.921875\"/>\n",
       "</g>\n",
       "<g style=\"fill:rgb(0%,0%,0%);fill-opacity:1;\">\n",
       "  <use xlink:href=\"#glyph0-1\" x=\"117.550781\" y=\"169.921875\"/>\n",
       "  <use xlink:href=\"#glyph0-2\" x=\"124.500809\" y=\"169.921875\"/>\n",
       "  <use xlink:href=\"#glyph0-4\" x=\"127.975815\" y=\"169.921875\"/>\n",
       "</g>\n",
       "<g style=\"fill:rgb(0%,0%,0%);fill-opacity:1;\">\n",
       "  <use xlink:href=\"#glyph0-1\" x=\"147.46875\" y=\"169.921875\"/>\n",
       "  <use xlink:href=\"#glyph0-2\" x=\"154.418777\" y=\"169.921875\"/>\n",
       "  <use xlink:href=\"#glyph0-5\" x=\"157.893784\" y=\"169.921875\"/>\n",
       "</g>\n",
       "<g style=\"fill:rgb(0%,0%,0%);fill-opacity:1;\">\n",
       "  <use xlink:href=\"#glyph0-1\" x=\"177.386719\" y=\"169.921875\"/>\n",
       "  <use xlink:href=\"#glyph0-2\" x=\"184.336746\" y=\"169.921875\"/>\n",
       "  <use xlink:href=\"#glyph0-6\" x=\"187.811752\" y=\"169.921875\"/>\n",
       "</g>\n",
       "<g style=\"fill:rgb(0%,0%,0%);fill-opacity:1;\">\n",
       "  <use xlink:href=\"#glyph0-7\" x=\"207.304688\" y=\"169.921875\"/>\n",
       "  <use xlink:href=\"#glyph0-2\" x=\"214.254715\" y=\"169.921875\"/>\n",
       "  <use xlink:href=\"#glyph0-1\" x=\"217.729721\" y=\"169.921875\"/>\n",
       "</g>\n",
       "<g style=\"fill:rgb(0%,0%,0%);fill-opacity:1;\">\n",
       "  <use xlink:href=\"#glyph0-7\" x=\"237.226562\" y=\"169.921875\"/>\n",
       "  <use xlink:href=\"#glyph0-2\" x=\"244.17659\" y=\"169.921875\"/>\n",
       "  <use xlink:href=\"#glyph0-3\" x=\"247.651596\" y=\"169.921875\"/>\n",
       "</g>\n",
       "<path style=\"fill:none;stroke-width:1;stroke-linecap:round;stroke-linejoin:round;stroke:rgb(0%,0%,0%);stroke-opacity:1;stroke-miterlimit:10;\" d=\"M 59.039062 139.464844 L 59.039062 70.390625 \"/>\n",
       "<path style=\"fill:none;stroke-width:1;stroke-linecap:round;stroke-linejoin:round;stroke:rgb(0%,0%,0%);stroke-opacity:1;stroke-miterlimit:10;\" d=\"M 59.039062 139.464844 L 51.839844 139.464844 \"/>\n",
       "<path style=\"fill:none;stroke-width:1;stroke-linecap:round;stroke-linejoin:round;stroke:rgb(0%,0%,0%);stroke-opacity:1;stroke-miterlimit:10;\" d=\"M 59.039062 127.953125 L 51.839844 127.953125 \"/>\n",
       "<path style=\"fill:none;stroke-width:1;stroke-linecap:round;stroke-linejoin:round;stroke:rgb(0%,0%,0%);stroke-opacity:1;stroke-miterlimit:10;\" d=\"M 59.039062 116.441406 L 51.839844 116.441406 \"/>\n",
       "<path style=\"fill:none;stroke-width:1;stroke-linecap:round;stroke-linejoin:round;stroke:rgb(0%,0%,0%);stroke-opacity:1;stroke-miterlimit:10;\" d=\"M 59.039062 104.929688 L 51.839844 104.929688 \"/>\n",
       "<path style=\"fill:none;stroke-width:1;stroke-linecap:round;stroke-linejoin:round;stroke:rgb(0%,0%,0%);stroke-opacity:1;stroke-miterlimit:10;\" d=\"M 59.039062 93.414062 L 51.839844 93.414062 \"/>\n",
       "<path style=\"fill:none;stroke-width:1;stroke-linecap:round;stroke-linejoin:round;stroke:rgb(0%,0%,0%);stroke-opacity:1;stroke-miterlimit:10;\" d=\"M 59.039062 81.902344 L 51.839844 81.902344 \"/>\n",
       "<path style=\"fill:none;stroke-width:1;stroke-linecap:round;stroke-linejoin:round;stroke:rgb(0%,0%,0%);stroke-opacity:1;stroke-miterlimit:10;\" d=\"M 59.039062 70.390625 L 51.839844 70.390625 \"/>\n",
       "<g style=\"fill:rgb(0%,0%,0%);fill-opacity:1;\">\n",
       "  <use xlink:href=\"#glyph1-1\" x=\"43.199219\" y=\"148.152344\"/>\n",
       "  <use xlink:href=\"#glyph1-2\" x=\"43.199219\" y=\"141.202316\"/>\n",
       "  <use xlink:href=\"#glyph1-1\" x=\"43.199219\" y=\"137.72731\"/>\n",
       "</g>\n",
       "<g style=\"fill:rgb(0%,0%,0%);fill-opacity:1;\">\n",
       "  <use xlink:href=\"#glyph1-3\" x=\"43.199219\" y=\"113.617188\"/>\n",
       "  <use xlink:href=\"#glyph1-2\" x=\"43.199219\" y=\"106.66716\"/>\n",
       "  <use xlink:href=\"#glyph1-4\" x=\"43.199219\" y=\"103.192154\"/>\n",
       "</g>\n",
       "<g style=\"fill:rgb(0%,0%,0%);fill-opacity:1;\">\n",
       "  <use xlink:href=\"#glyph1-5\" x=\"43.199219\" y=\"79.078125\"/>\n",
       "  <use xlink:href=\"#glyph1-2\" x=\"43.199219\" y=\"72.128098\"/>\n",
       "  <use xlink:href=\"#glyph1-1\" x=\"43.199219\" y=\"68.653091\"/>\n",
       "</g>\n",
       "<path style=\"fill:none;stroke-width:1;stroke-linecap:round;stroke-linejoin:round;stroke:rgb(0%,0%,0%);stroke-opacity:1;stroke-miterlimit:10;\" d=\"M 59.039062 142.558594 L 257.761719 142.558594 L 257.761719 59.039062 L 59.039062 59.039062 L 59.039062 142.558594 \"/>\n",
       "<g style=\"fill:rgb(0%,0%,0%);fill-opacity:1;\">\n",
       "  <use xlink:href=\"#glyph0-8\" x=\"132.355469\" y=\"198.71875\"/>\n",
       "  <use xlink:href=\"#glyph0-9\" x=\"138.605499\" y=\"198.71875\"/>\n",
       "  <use xlink:href=\"#glyph0-10\" x=\"141.380508\" y=\"198.71875\"/>\n",
       "  <use xlink:href=\"#glyph0-11\" x=\"144.855515\" y=\"198.71875\"/>\n",
       "  <use xlink:href=\"#glyph0-9\" x=\"149.018036\" y=\"198.71875\"/>\n",
       "  <use xlink:href=\"#glyph0-8\" x=\"151.793045\" y=\"198.71875\"/>\n",
       "  <use xlink:href=\"#glyph0-2\" x=\"158.043076\" y=\"198.71875\"/>\n",
       "  <use xlink:href=\"#glyph0-12\" x=\"161.518082\" y=\"198.71875\"/>\n",
       "  <use xlink:href=\"#glyph0-8\" x=\"168.468109\" y=\"198.71875\"/>\n",
       "  <use xlink:href=\"#glyph0-9\" x=\"174.71814\" y=\"198.71875\"/>\n",
       "  <use xlink:href=\"#glyph0-13\" x=\"177.493149\" y=\"198.71875\"/>\n",
       "</g>\n",
       "<g style=\"fill:rgb(0%,0%,0%);fill-opacity:1;\">\n",
       "  <use xlink:href=\"#glyph1-6\" x=\"14.398438\" y=\"121.636719\"/>\n",
       "  <use xlink:href=\"#glyph1-7\" x=\"14.398438\" y=\"112.611679\"/>\n",
       "  <use xlink:href=\"#glyph1-8\" x=\"14.398438\" y=\"105.661652\"/>\n",
       "  <use xlink:href=\"#glyph1-9\" x=\"14.398438\" y=\"98.711624\"/>\n",
       "  <use xlink:href=\"#glyph1-10\" x=\"14.398438\" y=\"92.461594\"/>\n",
       "  <use xlink:href=\"#glyph1-11\" x=\"14.398438\" y=\"89.686584\"/>\n",
       "  <use xlink:href=\"#glyph1-12\" x=\"14.398438\" y=\"86.211578\"/>\n",
       "</g>\n",
       "<path style=\"fill:none;stroke-width:1;stroke-linecap:round;stroke-linejoin:round;stroke:rgb(0%,80.392157%,0%);stroke-opacity:1;stroke-dasharray:4,4;stroke-miterlimit:10;\" d=\"M 66.398438 121.8125 L 66.761719 121.511719 L 67.121094 121.207031 L 68.199219 120.28125 L 68.558594 119.964844 L 68.921875 119.652344 L 70 118.691406 L 70.359375 118.367188 L 70.722656 118.042969 L 71.441406 117.386719 L 72.519531 116.390625 L 72.882812 116.054688 L 73.242188 115.71875 L 73.601562 115.378906 L 73.960938 115.042969 L 74.320312 114.703125 L 74.683594 114.359375 L 75.042969 114.019531 L 76.480469 112.644531 L 76.84375 112.300781 L 77.203125 111.957031 L 77.5625 111.609375 L 77.921875 111.265625 L 78.28125 110.917969 L 78.644531 110.574219 L 79.003906 110.230469 L 79.363281 109.882812 L 80.441406 108.851562 L 80.804688 108.507812 L 82.242188 107.148438 L 82.605469 106.808594 L 82.964844 106.472656 L 84.042969 105.476562 L 84.402344 105.148438 L 84.765625 104.820312 L 85.484375 104.171875 L 86.203125 103.53125 L 86.5625 103.21875 L 86.925781 102.90625 L 87.285156 102.59375 L 88.003906 101.984375 L 88.363281 101.683594 L 88.726562 101.382812 L 89.085938 101.089844 L 89.804688 100.511719 L 90.523438 99.949219 L 90.886719 99.671875 L 91.605469 99.132812 L 91.964844 98.871094 L 92.324219 98.613281 L 92.6875 98.359375 L 93.046875 98.109375 L 93.40625 97.863281 L 94.125 97.386719 L 94.484375 97.15625 L 94.847656 96.933594 L 95.207031 96.710938 L 95.566406 96.496094 L 96.285156 96.082031 L 96.648438 95.886719 L 97.007812 95.691406 L 97.367188 95.503906 L 97.726562 95.324219 L 98.085938 95.148438 L 98.445312 94.980469 L 98.808594 94.816406 L 99.167969 94.660156 L 99.527344 94.507812 L 99.886719 94.363281 L 100.246094 94.222656 L 100.609375 94.089844 L 100.96875 93.964844 L 101.328125 93.84375 L 102.046875 93.625 L 102.40625 93.527344 L 102.769531 93.433594 L 103.128906 93.347656 L 103.488281 93.265625 L 103.847656 93.195312 L 104.207031 93.128906 L 104.566406 93.066406 L 104.929688 93.015625 L 105.289062 92.96875 L 105.648438 92.929688 L 106.007812 92.898438 L 106.367188 92.875 L 106.730469 92.855469 L 107.089844 92.847656 L 107.449219 92.84375 L 107.808594 92.84375 L 108.167969 92.855469 L 108.527344 92.871094 L 108.890625 92.894531 L 109.25 92.925781 L 109.609375 92.964844 L 109.96875 93.007812 L 110.328125 93.058594 L 110.691406 93.117188 L 111.050781 93.183594 L 111.410156 93.253906 L 112.128906 93.417969 L 112.488281 93.511719 L 112.851562 93.609375 L 113.210938 93.714844 L 113.570312 93.828125 L 113.929688 93.945312 L 114.289062 94.070312 L 114.652344 94.203125 L 115.011719 94.339844 L 115.371094 94.484375 L 115.730469 94.636719 L 116.089844 94.792969 L 116.449219 94.953125 L 116.8125 95.125 L 117.171875 95.296875 L 117.53125 95.476562 L 117.890625 95.664062 L 118.25 95.855469 L 118.613281 96.054688 L 118.972656 96.257812 L 119.332031 96.464844 L 119.691406 96.679688 L 120.050781 96.898438 L 120.410156 97.125 L 120.773438 97.351562 L 121.132812 97.585938 L 121.851562 98.070312 L 122.210938 98.320312 L 122.570312 98.574219 L 122.933594 98.832031 L 123.292969 99.09375 L 124.011719 99.632812 L 124.371094 99.90625 L 124.734375 100.1875 L 125.09375 100.46875 L 125.8125 101.046875 L 126.171875 101.339844 L 126.53125 101.636719 L 126.894531 101.9375 L 127.613281 102.546875 L 128.332031 103.171875 L 128.695312 103.484375 L 129.773438 104.445312 L 130.132812 104.769531 L 130.492188 105.097656 L 130.855469 105.425781 L 131.574219 106.089844 L 132.292969 106.761719 L 132.65625 107.097656 L 134.09375 108.457031 L 134.453125 108.800781 L 134.816406 109.144531 L 135.894531 110.175781 L 136.253906 110.523438 L 136.617188 110.867188 L 136.976562 111.214844 L 137.695312 111.902344 L 138.054688 112.25 L 138.414062 112.59375 L 138.777344 112.9375 L 139.855469 113.96875 L 140.214844 114.308594 L 140.574219 114.652344 L 140.9375 114.992188 L 141.296875 115.328125 L 141.65625 115.667969 L 142.375 116.339844 L 142.738281 116.671875 L 143.097656 117.007812 L 143.457031 117.335938 L 143.816406 117.667969 L 144.175781 117.992188 L 144.535156 118.320312 L 144.898438 118.644531 L 145.976562 119.605469 L 146.335938 119.917969 L 146.699219 120.234375 L 147.058594 120.546875 L 147.417969 120.855469 L 148.496094 121.769531 L 148.859375 122.066406 L 149.578125 122.660156 L 149.9375 122.953125 L 150.296875 123.242188 L 150.660156 123.527344 L 151.019531 123.8125 L 151.378906 124.09375 L 152.097656 124.648438 L 152.457031 124.917969 L 152.820312 125.1875 L 153.179688 125.457031 L 153.898438 125.980469 L 154.257812 126.238281 L 154.621094 126.496094 L 155.339844 126.996094 L 155.699219 127.242188 L 156.058594 127.484375 L 156.417969 127.722656 L 156.78125 127.960938 L 157.140625 128.195312 L 157.5 128.425781 L 157.859375 128.652344 L 158.578125 129.097656 L 158.941406 129.316406 L 159.300781 129.53125 L 160.019531 129.953125 L 160.378906 130.15625 L 160.742188 130.359375 L 161.101562 130.558594 L 161.820312 130.949219 L 162.179688 131.140625 L 162.539062 131.328125 L 162.902344 131.511719 L 163.621094 131.871094 L 163.980469 132.046875 L 164.339844 132.21875 L 164.703125 132.386719 L 165.0625 132.554688 L 165.421875 132.71875 L 165.78125 132.878906 L 166.5 133.191406 L 166.863281 133.34375 L 167.582031 133.640625 L 167.941406 133.78125 L 168.300781 133.925781 L 168.664062 134.0625 L 169.023438 134.199219 L 169.382812 134.332031 L 170.101562 134.589844 L 170.460938 134.714844 L 170.824219 134.835938 L 171.183594 134.957031 L 171.902344 135.191406 L 172.261719 135.304688 L 172.625 135.414062 L 172.984375 135.523438 L 173.703125 135.734375 L 174.0625 135.835938 L 174.421875 135.933594 L 174.785156 136.03125 L 175.503906 136.21875 L 176.222656 136.398438 L 176.582031 136.484375 L 176.945312 136.566406 L 177.664062 136.730469 L 178.382812 136.886719 L 178.746094 136.960938 L 179.105469 137.035156 L 179.824219 137.175781 L 180.542969 137.308594 L 180.90625 137.375 L 181.265625 137.4375 L 181.625 137.496094 L 181.984375 137.558594 L 182.34375 137.617188 L 182.707031 137.671875 L 183.425781 137.78125 L 183.785156 137.832031 L 184.144531 137.886719 L 184.503906 137.933594 L 184.867188 137.984375 L 185.226562 138.03125 L 185.585938 138.074219 L 185.945312 138.121094 L 186.304688 138.164062 L 186.667969 138.203125 L 187.027344 138.246094 L 188.105469 138.363281 L 188.464844 138.398438 L 188.828125 138.433594 L 189.1875 138.46875 L 189.546875 138.5 L 189.90625 138.535156 L 190.265625 138.566406 L 190.628906 138.59375 L 190.988281 138.625 L 192.425781 138.734375 L 192.789062 138.761719 L 194.226562 138.855469 L 194.585938 138.875 L 194.949219 138.898438 L 196.027344 138.957031 L 196.386719 138.972656 L 196.75 138.992188 L 197.109375 139.007812 L 197.46875 139.027344 L 198.546875 139.074219 L 198.910156 139.085938 L 199.628906 139.117188 L 200.347656 139.140625 L 200.710938 139.152344 L 202.507812 139.210938 L 202.871094 139.21875 L 203.230469 139.230469 L 204.308594 139.253906 L 204.671875 139.265625 L 205.390625 139.28125 L 205.75 139.285156 L 206.46875 139.300781 L 206.832031 139.308594 L 207.191406 139.3125 L 207.910156 139.328125 L 208.269531 139.332031 L 208.632812 139.335938 L 208.992188 139.34375 L 209.710938 139.351562 L 210.070312 139.359375 L 210.429688 139.363281 L 210.792969 139.367188 L 212.589844 139.386719 L 212.953125 139.390625 L 213.3125 139.394531 L 213.671875 139.394531 L 214.390625 139.402344 L 214.753906 139.40625 L 215.113281 139.40625 L 215.832031 139.414062 L 216.191406 139.414062 L 216.550781 139.417969 L 216.914062 139.417969 L 217.273438 139.421875 L 217.632812 139.421875 L 217.992188 139.425781 L 218.351562 139.425781 L 218.714844 139.429688 L 219.074219 139.429688 L 219.433594 139.433594 L 220.152344 139.433594 L 220.511719 139.4375 L 220.875 139.4375 L 221.234375 139.441406 L 222.3125 139.441406 L 222.675781 139.445312 L 223.753906 139.445312 L 224.113281 139.449219 L 225.195312 139.449219 L 225.554688 139.453125 L 227.355469 139.453125 L 227.714844 139.457031 L 230.234375 139.457031 L 230.59375 139.460938 L 235.277344 139.460938 L 235.636719 139.464844 L 250.398438 139.464844 \"/>\n",
       "<path style=\"fill:none;stroke-width:1;stroke-linecap:round;stroke-linejoin:round;stroke:rgb(100%,0%,0%);stroke-opacity:1;stroke-miterlimit:10;\" d=\"M 64.53125 64.664062 L 75.519531 64.664062 \"/>\n",
       "<path style=\"fill:none;stroke-width:1;stroke-linecap:round;stroke-linejoin:round;stroke:rgb(0%,80.392157%,0%);stroke-opacity:1;stroke-dasharray:4,4;stroke-miterlimit:10;\" d=\"M 64.53125 67.257812 L 75.519531 67.257812 \"/>\n",
       "<g style=\"fill:rgb(0%,0%,0%);fill-opacity:1;\">\n",
       "  <use xlink:href=\"#glyph0-1\" x=\"81.011719\" y=\"69.351562\"/>\n",
       "</g>\n",
       "<g style=\"fill:rgb(0%,0%,0%);fill-opacity:1;\">\n",
       "  <use xlink:href=\"#glyph0-7\" x=\"81.011719\" y=\"71.945312\"/>\n",
       "</g>\n",
       "</g>\n",
       "</svg>\n"
      ]
     },
     "metadata": {
      "image/svg+xml": {
       "isolated": true
      }
     },
     "output_type": "display_data"
    },
    {
     "data": {
      "image/jpeg": "[encoded data removed]",
      "image/png": "",
      "image/svg+xml": [
       "<?xml version=\"1.0\" encoding=\"UTF-8\"?>\n",
       "<svg xmlns=\"http://www.w3.org/2000/svg\" xmlns:xlink=\"http://www.w3.org/1999/xlink\" width=\"288pt\" height=\"216pt\" viewBox=\"0 0 288 216\" version=\"1.1\">\n",
       "<defs>\n",
       "<g>\n",
       "<symbol overflow=\"visible\" id=\"glyph0-0\">\n",
       "<path style=\"stroke:none;\" d=\"\"/>\n",
       "</symbol>\n",
       "<symbol overflow=\"visible\" id=\"glyph0-1\">\n",
       "<path style=\"stroke:none;\" d=\"M 6.46875 -4.390625 C 6.46875 -7.46875 5.359375 -9.125 3.4375 -9.125 C 1.53125 -9.125 0.40625 -7.4375 0.40625 -4.46875 C 0.40625 -1.46875 1.53125 0.1875 3.4375 0.1875 C 5.3125 0.1875 6.46875 -1.46875 6.46875 -4.390625 Z M 5.078125 -4.484375 C 5.078125 -1.96875 4.640625 -0.984375 3.40625 -0.984375 C 2.25 -0.984375 1.78125 -2.03125 1.78125 -4.453125 C 1.78125 -6.875 2.25 -7.890625 3.4375 -7.890625 C 4.625 -7.890625 5.078125 -6.859375 5.078125 -4.484375 Z M 5.078125 -4.484375 \"/>\n",
       "</symbol>\n",
       "<symbol overflow=\"visible\" id=\"glyph0-2\">\n",
       "<path style=\"stroke:none;\" d=\"M 6.53125 -3.0625 C 6.53125 -4.8125 5.25 -6.09375 3.546875 -6.09375 C 2.921875 -6.09375 2.328125 -5.890625 2.09375 -5.71875 L 2.359375 -7.59375 L 6.078125 -7.59375 L 6.078125 -8.9375 L 1.25 -8.9375 L 0.546875 -4.03125 L 1.78125 -4.03125 C 2.328125 -4.6875 2.65625 -4.859375 3.34375 -4.859375 C 4.53125 -4.859375 5.15625 -4.21875 5.15625 -2.90625 C 5.15625 -1.640625 4.546875 -1.046875 3.34375 -1.046875 C 2.390625 -1.046875 1.921875 -1.40625 1.625 -2.53125 L 0.28125 -2.53125 C 0.65625 -0.640625 1.796875 0.1875 3.375 0.1875 C 5.15625 0.1875 6.53125 -1.1875 6.53125 -3.0625 Z M 6.53125 -3.0625 \"/>\n",
       "</symbol>\n",
       "<symbol overflow=\"visible\" id=\"glyph0-3\">\n",
       "<path style=\"stroke:none;\" d=\"M 4.46875 -0.125 L 4.46875 -9.125 L 3.515625 -9.125 C 3.09375 -7.625 2.96875 -7.578125 1.140625 -7.34375 L 1.140625 -6.3125 L 3.09375 -6.3125 L 3.09375 0 L 4.46875 0 Z M 4.46875 -0.125 \"/>\n",
       "</symbol>\n",
       "<symbol overflow=\"visible\" id=\"glyph0-4\">\n",
       "<path style=\"stroke:none;\" d=\"M 6.515625 -6.390625 C 6.515625 -7.890625 5.21875 -9.125 3.546875 -9.125 C 1.734375 -9.125 0.546875 -8.0625 0.484375 -5.78125 L 1.84375 -5.78125 C 1.9375 -7.40625 2.421875 -7.90625 3.515625 -7.90625 C 4.515625 -7.90625 5.125 -7.3125 5.125 -6.359375 C 5.125 -5.65625 4.75 -5.15625 3.96875 -4.703125 L 2.8125 -4.046875 C 0.96875 -3 0.390625 -2.078125 0.28125 0 L 6.453125 0 L 6.453125 -1.34375 L 1.8125 -1.34375 C 1.90625 -1.9375 2.265625 -2.3125 3.34375 -2.953125 L 4.59375 -3.625 C 5.84375 -4.28125 6.515625 -5.296875 6.515625 -6.390625 Z M 6.515625 -6.390625 \"/>\n",
       "</symbol>\n",
       "<symbol overflow=\"visible\" id=\"glyph0-5\">\n",
       "<path style=\"stroke:none;\" d=\"M 6.453125 -2.703125 C 6.453125 -3.78125 5.890625 -4.53125 4.828125 -4.90625 L 4.828125 -4.640625 C 5.65625 -4.96875 6.1875 -5.65625 6.1875 -6.546875 C 6.1875 -8.078125 5.046875 -9.125 3.359375 -9.125 C 1.578125 -9.125 0.484375 -8.015625 0.453125 -6 L 1.8125 -6 C 1.84375 -7.4375 2.25 -7.90625 3.375 -7.90625 C 4.34375 -7.90625 4.796875 -7.453125 4.796875 -6.515625 C 4.796875 -5.5625 4.53125 -5.3125 2.625 -5.3125 L 2.625 -4.125 L 3.359375 -4.125 C 4.578125 -4.125 5.0625 -3.671875 5.0625 -2.6875 C 5.0625 -1.578125 4.515625 -1.046875 3.359375 -1.046875 C 2.15625 -1.046875 1.703125 -1.515625 1.609375 -2.9375 L 0.25 -2.9375 C 0.40625 -0.828125 1.515625 0.1875 3.328125 0.1875 C 5.15625 0.1875 6.453125 -1.03125 6.453125 -2.703125 Z M 6.453125 -2.703125 \"/>\n",
       "</symbol>\n",
       "<symbol overflow=\"visible\" id=\"glyph0-6\">\n",
       "<path style=\"stroke:none;\" d=\"M 4.140625 -5.765625 L 4.140625 -6.9375 C 3.84375 -6.984375 3.75 -7 3.609375 -7 C 2.9375 -7 2.328125 -6.546875 1.71875 -5.578125 L 1.953125 -5.484375 L 1.953125 -6.8125 L 0.734375 -6.8125 L 0.734375 0 L 2.03125 0 L 2.03125 -3.53125 C 2.03125 -5 2.40625 -5.609375 4.140625 -5.640625 Z M 4.140625 -5.765625 \"/>\n",
       "</symbol>\n",
       "<symbol overflow=\"visible\" id=\"glyph0-7\">\n",
       "<path style=\"stroke:none;\" d=\"M 6.53125 -3.09375 C 6.53125 -4.046875 6.46875 -4.65625 6.28125 -5.140625 C 5.84375 -6.21875 4.71875 -7 3.5 -7 C 1.671875 -7 0.359375 -5.515625 0.359375 -3.359375 C 0.359375 -1.21875 1.640625 0.1875 3.46875 0.1875 C 4.96875 0.1875 6.140625 -0.78125 6.421875 -2.25 L 5.125 -2.25 C 4.796875 -1.25 4.34375 -1.03125 3.515625 -1.03125 C 2.421875 -1.03125 1.734375 -1.59375 1.71875 -2.96875 L 6.53125 -2.96875 Z M 5.390625 -3.9375 C 5.390625 -3.9375 5.203125 -4.0625 5.21875 -4.09375 L 1.75 -4.09375 C 1.828125 -5.109375 2.4375 -5.78125 3.484375 -5.78125 C 4.515625 -5.78125 5.15625 -5.046875 5.15625 -4.03125 Z M 5.390625 -3.9375 \"/>\n",
       "</symbol>\n",
       "<symbol overflow=\"visible\" id=\"glyph0-8\">\n",
       "<path style=\"stroke:none;\" d=\"M 5.859375 -1.96875 C 5.859375 -2.9375 5.1875 -3.5625 3.890625 -3.875 L 2.890625 -4.109375 C 2.03125 -4.3125 1.796875 -4.453125 1.796875 -4.90625 C 1.796875 -5.515625 2.21875 -5.78125 3.0625 -5.78125 C 3.90625 -5.78125 4.21875 -5.53125 4.234375 -4.71875 L 5.59375 -4.71875 C 5.59375 -6.140625 4.609375 -7 3.09375 -7 C 1.578125 -7 0.453125 -6.078125 0.453125 -4.859375 C 0.453125 -3.84375 1.109375 -3.21875 2.65625 -2.84375 L 3.640625 -2.609375 C 4.359375 -2.4375 4.515625 -2.34375 4.515625 -1.875 C 4.515625 -1.265625 4.03125 -1.03125 3.125 -1.03125 C 2.1875 -1.03125 1.78125 -1.125 1.640625 -2.265625 L 0.28125 -2.265625 C 0.34375 -0.609375 1.328125 0.1875 3.03125 0.1875 C 4.6875 0.1875 5.859375 -0.703125 5.859375 -1.96875 Z M 5.859375 -1.96875 \"/>\n",
       "</symbol>\n",
       "<symbol overflow=\"visible\" id=\"glyph0-9\">\n",
       "<path style=\"stroke:none;\" d=\"M 2.03125 -0.125 L 2.03125 -6.8125 L 0.734375 -6.8125 L 0.734375 0 L 2.03125 0 Z M 2.171875 -7.65625 L 2.171875 -9.09375 L 0.609375 -9.09375 L 0.609375 -7.53125 L 2.171875 -7.53125 Z M 2.171875 -7.65625 \"/>\n",
       "</symbol>\n",
       "<symbol overflow=\"visible\" id=\"glyph0-10\">\n",
       "<path style=\"stroke:none;\" d=\"M 6.3125 -0.125 L 6.3125 -9.375 L 5.015625 -9.375 L 5.015625 -5.84375 L 5.234375 -5.9375 C 4.796875 -6.59375 4.015625 -7 3.140625 -7 C 1.4375 -7 0.1875 -5.546875 0.1875 -3.46875 C 0.1875 -1.25 1.40625 0.1875 3.171875 0.1875 C 4.078125 0.1875 4.78125 -0.1875 5.34375 -1 L 5.125 -1.09375 L 5.125 0 L 6.3125 0 Z M 5.015625 -3.375 C 5.015625 -1.859375 4.421875 -1.046875 3.328125 -1.046875 C 2.171875 -1.046875 1.53125 -1.875 1.53125 -3.40625 C 1.53125 -4.921875 2.171875 -5.765625 3.3125 -5.765625 C 4.4375 -5.765625 5.015625 -4.890625 5.015625 -3.375 Z M 5.015625 -3.375 \"/>\n",
       "</symbol>\n",
       "<symbol overflow=\"visible\" id=\"glyph0-11\">\n",
       "<path style=\"stroke:none;\" d=\"M 6.15625 -0.125 L 6.15625 -6.8125 L 4.84375 -6.8125 L 4.84375 -3.0625 C 4.84375 -1.71875 4.28125 -0.984375 3.203125 -0.984375 C 2.375 -0.984375 1.96875 -1.34375 1.96875 -2.140625 L 1.96875 -6.8125 L 0.671875 -6.8125 L 0.671875 -1.71875 C 0.671875 -0.640625 1.625 0.1875 2.90625 0.1875 C 3.859375 0.1875 4.5625 -0.1875 5.171875 -1.046875 L 4.953125 -1.140625 L 4.953125 0 L 6.15625 0 Z M 6.15625 -0.125 \"/>\n",
       "</symbol>\n",
       "<symbol overflow=\"visible\" id=\"glyph0-12\">\n",
       "<path style=\"stroke:none;\" d=\"M 6.8125 -0.15625 L 6.8125 -1.09375 C 6.578125 -1.046875 6.53125 -1.046875 6.46875 -1.046875 C 6.09375 -1.046875 6.03125 -1.09375 6.03125 -1.421875 L 6.03125 -5.078125 C 6.03125 -6.234375 5.046875 -7 3.4375 -7 C 1.84375 -7 0.734375 -6.25 0.65625 -4.609375 L 1.96875 -4.609375 C 2.078125 -5.53125 2.421875 -5.78125 3.40625 -5.78125 C 4.34375 -5.78125 4.71875 -5.546875 4.71875 -4.921875 L 4.71875 -4.65625 C 4.71875 -4.21875 4.59375 -4.15625 3.78125 -4.0625 C 2.296875 -3.875 2.078125 -3.828125 1.671875 -3.65625 C 0.90625 -3.34375 0.390625 -2.625 0.390625 -1.828125 C 0.390625 -0.640625 1.34375 0.1875 2.671875 0.1875 C 3.515625 0.1875 4.40625 -0.203125 4.828125 -0.640625 C 4.875 -0.40625 5.46875 0.09375 5.96875 0.09375 C 6.1875 0.09375 6.34375 0.0625 6.8125 -0.046875 Z M 4.71875 -2.390625 C 4.71875 -1.453125 3.90625 -0.984375 2.90625 -0.984375 C 2.09375 -0.984375 1.734375 -1.140625 1.734375 -1.84375 C 1.734375 -2.53125 2.078125 -2.71875 3.1875 -2.875 C 4.28125 -3.03125 4.515625 -3.078125 4.71875 -3.171875 Z M 4.71875 -2.390625 \"/>\n",
       "</symbol>\n",
       "<symbol overflow=\"visible\" id=\"glyph0-13\">\n",
       "<path style=\"stroke:none;\" d=\"M 2.015625 -0.125 L 2.015625 -9.375 L 0.71875 -9.375 L 0.71875 0 L 2.015625 0 Z M 2.015625 -0.125 \"/>\n",
       "</symbol>\n",
       "<symbol overflow=\"visible\" id=\"glyph0-14\">\n",
       "<path style=\"stroke:none;\" d=\"M 2.515625 -0.125 L 2.515625 -1.5625 L 0.953125 -1.5625 L 0.953125 0 L 2.515625 0 Z M 2.515625 -0.125 \"/>\n",
       "</symbol>\n",
       "<symbol overflow=\"visible\" id=\"glyph0-15\">\n",
       "<path style=\"stroke:none;\" d=\"M 6.234375 -1.203125 L 6.234375 -6.8125 L 5.015625 -6.8125 L 5.015625 -5.71875 L 5.234375 -5.8125 C 4.71875 -6.59375 3.984375 -7 3.15625 -7 C 1.484375 -7 0.21875 -5.46875 0.21875 -3.34375 C 0.21875 -1.28125 1.53125 0.1875 3.0625 0.1875 C 3.890625 0.1875 4.546875 -0.203125 5.234375 -1.03125 L 5.015625 -1.109375 L 5.015625 -0.671875 C 5.015625 1.0625 4.4375 1.59375 3.21875 1.59375 C 2.40625 1.59375 1.890625 1.421875 1.734375 0.484375 L 0.421875 0.484375 C 0.546875 1.859375 1.65625 2.71875 3.1875 2.71875 C 5.234375 2.71875 6.234375 1.6875 6.234375 -1.203125 Z M 4.90625 -3.359375 C 4.90625 -1.796875 4.375 -1.03125 3.28125 -1.03125 C 2.140625 -1.03125 1.578125 -1.8125 1.578125 -3.40625 C 1.578125 -4.96875 2.15625 -5.78125 3.265625 -5.78125 C 4.390625 -5.78125 4.90625 -4.953125 4.90625 -3.359375 Z M 4.90625 -3.359375 \"/>\n",
       "</symbol>\n",
       "<symbol overflow=\"visible\" id=\"glyph1-0\">\n",
       "<path style=\"stroke:none;\" d=\"\"/>\n",
       "</symbol>\n",
       "<symbol overflow=\"visible\" id=\"glyph1-1\">\n",
       "<path style=\"stroke:none;\" d=\"M -4.390625 -6.46875 C -7.46875 -6.46875 -9.125 -5.359375 -9.125 -3.4375 C -9.125 -1.53125 -7.4375 -0.40625 -4.46875 -0.40625 C -1.46875 -0.40625 0.1875 -1.53125 0.1875 -3.4375 C 0.1875 -5.3125 -1.46875 -6.46875 -4.390625 -6.46875 Z M -4.484375 -5.078125 C -1.96875 -5.078125 -0.984375 -4.640625 -0.984375 -3.40625 C -0.984375 -2.25 -2.03125 -1.78125 -4.453125 -1.78125 C -6.875 -1.78125 -7.890625 -2.25 -7.890625 -3.4375 C -7.890625 -4.625 -6.859375 -5.078125 -4.484375 -5.078125 Z M -4.484375 -5.078125 \"/>\n",
       "</symbol>\n",
       "<symbol overflow=\"visible\" id=\"glyph1-2\">\n",
       "<path style=\"stroke:none;\" d=\"M -0.125 -2.515625 L -1.5625 -2.515625 L -1.5625 -0.953125 L 0 -0.953125 L 0 -2.515625 Z M -0.125 -2.515625 \"/>\n",
       "</symbol>\n",
       "<symbol overflow=\"visible\" id=\"glyph1-3\">\n",
       "<path style=\"stroke:none;\" d=\"M -0.125 -4.46875 L -9.125 -4.46875 L -9.125 -3.515625 C -7.625 -3.09375 -7.578125 -2.96875 -7.34375 -1.140625 L -6.3125 -1.140625 L -6.3125 -3.09375 L 0 -3.09375 L 0 -4.46875 Z M -0.125 -4.46875 \"/>\n",
       "</symbol>\n",
       "<symbol overflow=\"visible\" id=\"glyph1-4\">\n",
       "<path style=\"stroke:none;\" d=\"M -3.0625 -6.53125 C -4.8125 -6.53125 -6.09375 -5.25 -6.09375 -3.546875 C -6.09375 -2.921875 -5.890625 -2.328125 -5.71875 -2.09375 L -7.59375 -2.359375 L -7.59375 -6.078125 L -8.9375 -6.078125 L -8.9375 -1.25 L -4.03125 -0.546875 L -4.03125 -1.78125 C -4.6875 -2.328125 -4.859375 -2.65625 -4.859375 -3.34375 C -4.859375 -4.53125 -4.21875 -5.15625 -2.90625 -5.15625 C -1.640625 -5.15625 -1.046875 -4.546875 -1.046875 -3.34375 C -1.046875 -2.390625 -1.40625 -1.921875 -2.53125 -1.625 L -2.53125 -0.28125 C -0.640625 -0.65625 0.1875 -1.796875 0.1875 -3.375 C 0.1875 -5.15625 -1.1875 -6.53125 -3.0625 -6.53125 Z M -3.0625 -6.53125 \"/>\n",
       "</symbol>\n",
       "<symbol overflow=\"visible\" id=\"glyph1-5\">\n",
       "<path style=\"stroke:none;\" d=\"M -2.703125 -6.453125 C -3.78125 -6.453125 -4.53125 -5.890625 -4.90625 -4.828125 L -4.640625 -4.828125 C -4.96875 -5.65625 -5.65625 -6.1875 -6.546875 -6.1875 C -8.078125 -6.1875 -9.125 -5.046875 -9.125 -3.359375 C -9.125 -1.578125 -8.015625 -0.484375 -6 -0.453125 L -6 -1.8125 C -7.4375 -1.84375 -7.90625 -2.25 -7.90625 -3.375 C -7.90625 -4.34375 -7.453125 -4.796875 -6.515625 -4.796875 C -5.5625 -4.796875 -5.3125 -4.53125 -5.3125 -2.625 L -4.125 -2.625 L -4.125 -3.359375 C -4.125 -4.578125 -3.671875 -5.0625 -2.6875 -5.0625 C -1.578125 -5.0625 -1.046875 -4.515625 -1.046875 -3.359375 C -1.046875 -2.15625 -1.515625 -1.703125 -2.9375 -1.609375 L -2.9375 -0.25 C -0.828125 -0.40625 0.1875 -1.515625 0.1875 -3.328125 C 0.1875 -5.15625 -1.03125 -6.453125 -2.703125 -6.453125 Z M -2.703125 -6.453125 \"/>\n",
       "</symbol>\n",
       "<symbol overflow=\"visible\" id=\"glyph1-6\">\n",
       "<path style=\"stroke:none;\" d=\"M -4.6875 -8.46875 C -7.515625 -8.46875 -9.375 -6.9375 -9.375 -4.625 L -9.375 -0.96875 L 0 -0.96875 L 0 -4.625 C 0 -6.921875 -1.84375 -8.46875 -4.6875 -8.46875 Z M -4.671875 -7.03125 C -2.375 -7.03125 -1.28125 -6.21875 -1.28125 -4.421875 L -1.28125 -2.40625 L -8.09375 -2.40625 L -8.09375 -4.421875 C -8.09375 -6.21875 -7 -7.03125 -4.671875 -7.03125 Z M -4.671875 -7.03125 \"/>\n",
       "</symbol>\n",
       "<symbol overflow=\"visible\" id=\"glyph1-7\">\n",
       "<path style=\"stroke:none;\" d=\"M -3.09375 -6.53125 C -4.046875 -6.53125 -4.65625 -6.46875 -5.140625 -6.28125 C -6.21875 -5.84375 -7 -4.71875 -7 -3.5 C -7 -1.671875 -5.515625 -0.359375 -3.359375 -0.359375 C -1.21875 -0.359375 0.1875 -1.640625 0.1875 -3.46875 C 0.1875 -4.96875 -0.78125 -6.140625 -2.25 -6.421875 L -2.25 -5.125 C -1.25 -4.796875 -1.03125 -4.34375 -1.03125 -3.515625 C -1.03125 -2.421875 -1.59375 -1.734375 -2.96875 -1.71875 L -2.96875 -6.53125 Z M -3.9375 -5.390625 C -3.9375 -5.390625 -4.0625 -5.203125 -4.09375 -5.21875 L -4.09375 -1.75 C -5.109375 -1.828125 -5.78125 -2.4375 -5.78125 -3.484375 C -5.78125 -4.515625 -5.046875 -5.15625 -4.03125 -5.15625 Z M -3.9375 -5.390625 \"/>\n",
       "</symbol>\n",
       "<symbol overflow=\"visible\" id=\"glyph1-8\">\n",
       "<path style=\"stroke:none;\" d=\"M -0.125 -6.21875 L -5.078125 -6.21875 C -6.15625 -6.21875 -7 -5.28125 -7 -4.015625 C -7 -3.03125 -6.578125 -2.3125 -5.65625 -1.734375 L -5.578125 -1.96875 L -6.8125 -1.96875 L -6.8125 -0.734375 L 0 -0.734375 L 0 -2.03125 L -3.734375 -2.03125 C -5.078125 -2.03125 -5.828125 -2.640625 -5.828125 -3.703125 C -5.828125 -4.53125 -5.453125 -4.90625 -4.65625 -4.90625 L 0 -4.90625 L 0 -6.21875 Z M -0.125 -6.21875 \"/>\n",
       "</symbol>\n",
       "<symbol overflow=\"visible\" id=\"glyph1-9\">\n",
       "<path style=\"stroke:none;\" d=\"M -1.96875 -5.859375 C -2.9375 -5.859375 -3.5625 -5.1875 -3.875 -3.890625 L -4.109375 -2.890625 C -4.3125 -2.03125 -4.453125 -1.796875 -4.90625 -1.796875 C -5.515625 -1.796875 -5.78125 -2.21875 -5.78125 -3.0625 C -5.78125 -3.90625 -5.53125 -4.21875 -4.71875 -4.234375 L -4.71875 -5.59375 C -6.140625 -5.59375 -7 -4.609375 -7 -3.09375 C -7 -1.578125 -6.078125 -0.453125 -4.859375 -0.453125 C -3.84375 -0.453125 -3.21875 -1.109375 -2.84375 -2.65625 L -2.609375 -3.640625 C -2.4375 -4.359375 -2.34375 -4.515625 -1.875 -4.515625 C -1.265625 -4.515625 -1.03125 -4.03125 -1.03125 -3.125 C -1.03125 -2.1875 -1.125 -1.78125 -2.265625 -1.640625 L -2.265625 -0.28125 C -0.609375 -0.34375 0.1875 -1.328125 0.1875 -3.03125 C 0.1875 -4.6875 -0.703125 -5.859375 -1.96875 -5.859375 Z M -1.96875 -5.859375 \"/>\n",
       "</symbol>\n",
       "<symbol overflow=\"visible\" id=\"glyph1-10\">\n",
       "<path style=\"stroke:none;\" d=\"M -0.125 -2.03125 L -6.8125 -2.03125 L -6.8125 -0.734375 L 0 -0.734375 L 0 -2.03125 Z M -7.65625 -2.171875 L -9.09375 -2.171875 L -9.09375 -0.609375 L -7.53125 -0.609375 L -7.53125 -2.171875 Z M -7.65625 -2.171875 \"/>\n",
       "</symbol>\n",
       "<symbol overflow=\"visible\" id=\"glyph1-11\">\n",
       "<path style=\"stroke:none;\" d=\"M -0.125 -3.296875 L -1.171875 -3.296875 C -1.09375 -3.03125 -1.09375 -2.875 -1.09375 -2.671875 C -1.09375 -2.21875 -1.078125 -2.21875 -1.53125 -2.21875 L -5.703125 -2.21875 L -5.703125 -3.296875 L -6.8125 -3.296875 L -6.8125 -2.21875 L -8.609375 -2.21875 L -8.609375 -0.921875 L -6.8125 -0.921875 L -6.8125 -0.03125 L -5.703125 -0.03125 L -5.703125 -0.921875 L -1.078125 -0.921875 C -0.40625 -0.921875 0.09375 -1.515625 0.09375 -2.328125 C 0.09375 -2.578125 0.0625 -2.828125 -0.015625 -3.296875 Z M -0.125 -3.296875 \"/>\n",
       "</symbol>\n",
       "<symbol overflow=\"visible\" id=\"glyph1-12\">\n",
       "<path style=\"stroke:none;\" d=\"M -6.8125 -5.96875 L -6.8125 -4.765625 L -1.578125 -2.90625 L -1.578125 -3.15625 L -6.8125 -1.453125 L -6.8125 -0.0625 L -0.09375 -2.328125 L 0.9375 -1.921875 C 1.40625 -1.75 1.4375 -1.671875 1.4375 -1.21875 C 1.4375 -1.078125 1.40625 -0.90625 1.34375 -0.53125 L 2.515625 -0.53125 C 2.640625 -0.78125 2.71875 -1.09375 2.71875 -1.375 C 2.71875 -2.109375 2.1875 -2.84375 1.25 -3.1875 L -6.8125 -6.15625 Z M -6.8125 -5.96875 \"/>\n",
       "</symbol>\n",
       "</g>\n",
       "</defs>\n",
       "<g id=\"surface720\">\n",
       "<rect x=\"0\" y=\"0\" width=\"288\" height=\"216\" style=\"fill:rgb(100%,100%,100%);fill-opacity:1;stroke:none;\"/>\n",
       "<path style=\"fill:none;stroke-width:1;stroke-linecap:round;stroke-linejoin:round;stroke:rgb(100%,0%,0%);stroke-opacity:1;stroke-miterlimit:10;\" d=\"M 66.398438 128.59375 L 66.761719 128.441406 L 67.839844 127.984375 L 68.199219 127.828125 L 68.558594 127.675781 L 68.921875 127.519531 L 69.28125 127.367188 L 70 127.054688 L 70.359375 126.902344 L 70.722656 126.746094 L 71.441406 126.433594 L 71.800781 126.28125 L 72.519531 125.96875 L 72.882812 125.816406 L 73.242188 125.660156 L 73.960938 125.355469 L 74.320312 125.199219 L 74.683594 125.046875 L 75.402344 124.742188 L 75.761719 124.59375 L 76.121094 124.441406 L 76.480469 124.292969 L 76.84375 124.144531 L 77.5625 123.847656 L 77.921875 123.703125 L 78.28125 123.554688 L 78.644531 123.410156 L 79.003906 123.269531 L 79.363281 123.125 L 80.082031 122.84375 L 80.441406 122.707031 L 80.804688 122.570312 L 81.164062 122.433594 L 82.242188 122.035156 L 82.605469 121.90625 L 82.964844 121.777344 L 84.042969 121.402344 L 84.402344 121.28125 L 84.765625 121.164062 L 85.484375 120.929688 L 85.84375 120.816406 L 86.5625 120.597656 L 86.925781 120.488281 L 87.285156 120.382812 L 87.644531 120.28125 L 88.003906 120.183594 L 88.363281 120.082031 L 88.726562 119.988281 L 89.085938 119.894531 L 89.804688 119.714844 L 90.164062 119.628906 L 90.523438 119.546875 L 90.886719 119.46875 L 91.605469 119.3125 L 92.324219 119.171875 L 92.6875 119.105469 L 93.046875 119.039062 L 94.125 118.863281 L 94.484375 118.8125 L 94.847656 118.761719 L 95.207031 118.714844 L 95.925781 118.628906 L 96.285156 118.589844 L 96.648438 118.554688 L 97.007812 118.523438 L 97.726562 118.46875 L 98.085938 118.445312 L 98.445312 118.425781 L 98.808594 118.410156 L 99.167969 118.394531 L 99.886719 118.378906 L 100.246094 118.375 L 100.609375 118.371094 L 101.328125 118.378906 L 101.6875 118.386719 L 102.40625 118.410156 L 102.769531 118.429688 L 103.128906 118.449219 L 103.488281 118.472656 L 104.207031 118.527344 L 104.566406 118.5625 L 104.929688 118.597656 L 105.648438 118.675781 L 106.367188 118.769531 L 106.730469 118.820312 L 107.089844 118.871094 L 107.808594 118.988281 L 108.527344 119.113281 L 108.890625 119.183594 L 109.609375 119.324219 L 110.328125 119.480469 L 110.691406 119.558594 L 111.410156 119.730469 L 112.128906 119.910156 L 112.488281 120.003906 L 112.851562 120.097656 L 113.210938 120.195312 L 113.570312 120.296875 L 113.929688 120.402344 L 114.289062 120.503906 L 114.652344 120.613281 L 115.011719 120.722656 L 116.089844 121.0625 L 116.449219 121.179688 L 116.8125 121.300781 L 117.171875 121.421875 L 118.25 121.796875 L 118.613281 121.925781 L 118.972656 122.054688 L 120.050781 122.453125 L 120.410156 122.589844 L 120.773438 122.726562 L 122.210938 123.289062 L 122.570312 123.433594 L 122.933594 123.578125 L 123.292969 123.722656 L 124.371094 124.167969 L 124.734375 124.316406 L 125.09375 124.464844 L 125.453125 124.617188 L 125.8125 124.765625 L 126.53125 125.070312 L 126.894531 125.222656 L 127.253906 125.378906 L 127.613281 125.53125 L 127.972656 125.6875 L 128.332031 125.839844 L 128.695312 125.996094 L 129.054688 126.148438 L 129.773438 126.460938 L 130.132812 126.613281 L 130.492188 126.769531 L 130.855469 126.925781 L 131.214844 127.082031 L 131.574219 127.234375 L 131.933594 127.390625 L 132.292969 127.542969 L 132.65625 127.699219 L 133.015625 127.851562 L 133.375 128.007812 L 134.453125 128.464844 L 134.816406 128.617188 L 135.535156 128.921875 L 136.253906 129.21875 L 136.617188 129.367188 L 137.695312 129.8125 L 138.414062 130.101562 L 138.777344 130.246094 L 139.136719 130.390625 L 139.496094 130.53125 L 139.855469 130.675781 L 140.214844 130.816406 L 140.574219 130.953125 L 140.9375 131.09375 L 142.015625 131.503906 L 142.375 131.636719 L 142.738281 131.769531 L 143.097656 131.902344 L 143.457031 132.03125 L 143.816406 132.164062 L 144.175781 132.292969 L 144.535156 132.417969 L 144.898438 132.542969 L 145.617188 132.792969 L 146.335938 133.035156 L 146.699219 133.15625 L 147.417969 133.390625 L 147.777344 133.503906 L 148.136719 133.621094 L 148.496094 133.734375 L 148.859375 133.84375 L 149.9375 134.171875 L 150.296875 134.277344 L 150.660156 134.382812 L 151.738281 134.6875 L 152.097656 134.785156 L 152.457031 134.886719 L 152.820312 134.980469 L 153.179688 135.078125 L 153.539062 135.171875 L 154.257812 135.351562 L 154.621094 135.441406 L 154.980469 135.53125 L 156.058594 135.789062 L 156.417969 135.871094 L 156.78125 135.953125 L 157.859375 136.1875 L 158.21875 136.261719 L 158.578125 136.339844 L 158.941406 136.410156 L 159.300781 136.484375 L 160.019531 136.625 L 160.378906 136.691406 L 160.742188 136.761719 L 161.101562 136.824219 L 161.460938 136.890625 L 162.539062 137.078125 L 162.902344 137.136719 L 163.621094 137.253906 L 163.980469 137.308594 L 164.339844 137.367188 L 164.703125 137.417969 L 165.0625 137.472656 L 166.5 137.675781 L 166.863281 137.722656 L 167.582031 137.816406 L 168.300781 137.902344 L 168.664062 137.945312 L 169.023438 137.988281 L 169.382812 138.027344 L 169.742188 138.070312 L 170.101562 138.109375 L 170.460938 138.144531 L 170.824219 138.183594 L 172.261719 138.324219 L 172.625 138.355469 L 172.984375 138.390625 L 173.34375 138.421875 L 173.703125 138.449219 L 174.421875 138.511719 L 174.785156 138.539062 L 175.863281 138.621094 L 176.222656 138.644531 L 176.582031 138.671875 L 176.945312 138.695312 L 178.023438 138.765625 L 178.382812 138.785156 L 178.746094 138.808594 L 180.542969 138.90625 L 180.90625 138.925781 L 181.625 138.957031 L 181.984375 138.976562 L 182.34375 138.992188 L 182.707031 139.007812 L 183.066406 139.023438 L 183.425781 139.035156 L 184.144531 139.066406 L 184.503906 139.078125 L 184.867188 139.09375 L 186.304688 139.140625 L 186.667969 139.152344 L 187.027344 139.164062 L 187.386719 139.171875 L 188.105469 139.195312 L 188.464844 139.203125 L 188.828125 139.210938 L 189.1875 139.222656 L 190.265625 139.246094 L 190.628906 139.253906 L 192.066406 139.285156 L 192.425781 139.289062 L 192.789062 139.296875 L 193.148438 139.304688 L 193.507812 139.308594 L 193.867188 139.316406 L 194.226562 139.320312 L 194.585938 139.328125 L 194.949219 139.332031 L 195.308594 139.335938 L 195.667969 139.34375 L 196.386719 139.351562 L 196.75 139.355469 L 198.546875 139.375 L 198.910156 139.378906 L 199.988281 139.390625 L 200.347656 139.390625 L 200.710938 139.394531 L 201.429688 139.402344 L 201.789062 139.402344 L 202.507812 139.410156 L 202.871094 139.410156 L 203.230469 139.414062 L 203.589844 139.414062 L 203.949219 139.417969 L 204.308594 139.417969 L 204.671875 139.421875 L 205.03125 139.421875 L 205.390625 139.425781 L 205.75 139.425781 L 206.109375 139.429688 L 206.46875 139.429688 L 206.832031 139.433594 L 207.550781 139.433594 L 207.910156 139.4375 L 208.632812 139.4375 L 208.992188 139.441406 L 210.070312 139.441406 L 210.429688 139.445312 L 211.511719 139.445312 L 211.871094 139.449219 L 213.3125 139.449219 L 213.671875 139.453125 L 215.472656 139.453125 L 215.832031 139.457031 L 218.714844 139.457031 L 219.074219 139.460938 L 223.753906 139.460938 L 224.113281 139.464844 L 250.398438 139.464844 \"/>\n",
       "<path style=\"fill:none;stroke-width:1;stroke-linecap:round;stroke-linejoin:round;stroke:rgb(0%,0%,0%);stroke-opacity:1;stroke-miterlimit:10;\" d=\"M 62.839844 142.558594 L 240.902344 142.558594 \"/>\n",
       "<path style=\"fill:none;stroke-width:1;stroke-linecap:round;stroke-linejoin:round;stroke:rgb(0%,0%,0%);stroke-opacity:1;stroke-miterlimit:10;\" d=\"M 62.839844 142.558594 L 62.839844 149.761719 \"/>\n",
       "<path style=\"fill:none;stroke-width:1;stroke-linecap:round;stroke-linejoin:round;stroke:rgb(0%,0%,0%);stroke-opacity:1;stroke-miterlimit:10;\" d=\"M 92.515625 142.558594 L 92.515625 149.761719 \"/>\n",
       "<path style=\"fill:none;stroke-width:1;stroke-linecap:round;stroke-linejoin:round;stroke:rgb(0%,0%,0%);stroke-opacity:1;stroke-miterlimit:10;\" d=\"M 122.195312 142.558594 L 122.195312 149.761719 \"/>\n",
       "<path style=\"fill:none;stroke-width:1;stroke-linecap:round;stroke-linejoin:round;stroke:rgb(0%,0%,0%);stroke-opacity:1;stroke-miterlimit:10;\" d=\"M 151.871094 142.558594 L 151.871094 149.761719 \"/>\n",
       "<path style=\"fill:none;stroke-width:1;stroke-linecap:round;stroke-linejoin:round;stroke:rgb(0%,0%,0%);stroke-opacity:1;stroke-miterlimit:10;\" d=\"M 181.546875 142.558594 L 181.546875 149.761719 \"/>\n",
       "<path style=\"fill:none;stroke-width:1;stroke-linecap:round;stroke-linejoin:round;stroke:rgb(0%,0%,0%);stroke-opacity:1;stroke-miterlimit:10;\" d=\"M 211.226562 142.558594 L 211.226562 149.761719 \"/>\n",
       "<path style=\"fill:none;stroke-width:1;stroke-linecap:round;stroke-linejoin:round;stroke:rgb(0%,0%,0%);stroke-opacity:1;stroke-miterlimit:10;\" d=\"M 240.902344 142.558594 L 240.902344 149.761719 \"/>\n",
       "<g style=\"fill:rgb(0%,0%,0%);fill-opacity:1;\">\n",
       "  <use xlink:href=\"#glyph0-1\" x=\"59.363281\" y=\"169.921875\"/>\n",
       "</g>\n",
       "<g style=\"fill:rgb(0%,0%,0%);fill-opacity:1;\">\n",
       "  <use xlink:href=\"#glyph0-2\" x=\"89.039062\" y=\"169.921875\"/>\n",
       "</g>\n",
       "<g style=\"fill:rgb(0%,0%,0%);fill-opacity:1;\">\n",
       "  <use xlink:href=\"#glyph0-3\" x=\"115.246094\" y=\"169.921875\"/>\n",
       "  <use xlink:href=\"#glyph0-1\" x=\"122.196121\" y=\"169.921875\"/>\n",
       "</g>\n",
       "<g style=\"fill:rgb(0%,0%,0%);fill-opacity:1;\">\n",
       "  <use xlink:href=\"#glyph0-3\" x=\"144.921875\" y=\"169.921875\"/>\n",
       "  <use xlink:href=\"#glyph0-2\" x=\"151.871902\" y=\"169.921875\"/>\n",
       "</g>\n",
       "<g style=\"fill:rgb(0%,0%,0%);fill-opacity:1;\">\n",
       "  <use xlink:href=\"#glyph0-4\" x=\"174.597656\" y=\"169.921875\"/>\n",
       "  <use xlink:href=\"#glyph0-1\" x=\"181.547684\" y=\"169.921875\"/>\n",
       "</g>\n",
       "<g style=\"fill:rgb(0%,0%,0%);fill-opacity:1;\">\n",
       "  <use xlink:href=\"#glyph0-4\" x=\"204.277344\" y=\"169.921875\"/>\n",
       "  <use xlink:href=\"#glyph0-2\" x=\"211.227371\" y=\"169.921875\"/>\n",
       "</g>\n",
       "<g style=\"fill:rgb(0%,0%,0%);fill-opacity:1;\">\n",
       "  <use xlink:href=\"#glyph0-5\" x=\"233.953125\" y=\"169.921875\"/>\n",
       "  <use xlink:href=\"#glyph0-1\" x=\"240.903152\" y=\"169.921875\"/>\n",
       "</g>\n",
       "<path style=\"fill:none;stroke-width:1;stroke-linecap:round;stroke-linejoin:round;stroke:rgb(0%,0%,0%);stroke-opacity:1;stroke-miterlimit:10;\" d=\"M 59.039062 139.464844 L 59.039062 60.125 \"/>\n",
       "<path style=\"fill:none;stroke-width:1;stroke-linecap:round;stroke-linejoin:round;stroke:rgb(0%,0%,0%);stroke-opacity:1;stroke-miterlimit:10;\" d=\"M 59.039062 139.464844 L 51.839844 139.464844 \"/>\n",
       "<path style=\"fill:none;stroke-width:1;stroke-linecap:round;stroke-linejoin:round;stroke:rgb(0%,0%,0%);stroke-opacity:1;stroke-miterlimit:10;\" d=\"M 59.039062 126.242188 L 51.839844 126.242188 \"/>\n",
       "<path style=\"fill:none;stroke-width:1;stroke-linecap:round;stroke-linejoin:round;stroke:rgb(0%,0%,0%);stroke-opacity:1;stroke-miterlimit:10;\" d=\"M 59.039062 113.019531 L 51.839844 113.019531 \"/>\n",
       "<path style=\"fill:none;stroke-width:1;stroke-linecap:round;stroke-linejoin:round;stroke:rgb(0%,0%,0%);stroke-opacity:1;stroke-miterlimit:10;\" d=\"M 59.039062 99.796875 L 51.839844 99.796875 \"/>\n",
       "<path style=\"fill:none;stroke-width:1;stroke-linecap:round;stroke-linejoin:round;stroke:rgb(0%,0%,0%);stroke-opacity:1;stroke-miterlimit:10;\" d=\"M 59.039062 86.574219 L 51.839844 86.574219 \"/>\n",
       "<path style=\"fill:none;stroke-width:1;stroke-linecap:round;stroke-linejoin:round;stroke:rgb(0%,0%,0%);stroke-opacity:1;stroke-miterlimit:10;\" d=\"M 59.039062 73.347656 L 51.839844 73.347656 \"/>\n",
       "<path style=\"fill:none;stroke-width:1;stroke-linecap:round;stroke-linejoin:round;stroke:rgb(0%,0%,0%);stroke-opacity:1;stroke-miterlimit:10;\" d=\"M 59.039062 60.125 L 51.839844 60.125 \"/>\n",
       "<g style=\"fill:rgb(0%,0%,0%);fill-opacity:1;\">\n",
       "  <use xlink:href=\"#glyph1-1\" x=\"43.199219\" y=\"151.628906\"/>\n",
       "  <use xlink:href=\"#glyph1-2\" x=\"43.199219\" y=\"144.678879\"/>\n",
       "  <use xlink:href=\"#glyph1-1\" x=\"43.199219\" y=\"141.203873\"/>\n",
       "  <use xlink:href=\"#glyph1-1\" x=\"43.199219\" y=\"134.253845\"/>\n",
       "</g>\n",
       "<g style=\"fill:rgb(0%,0%,0%);fill-opacity:1;\">\n",
       "  <use xlink:href=\"#glyph1-1\" x=\"43.199219\" y=\"111.960938\"/>\n",
       "  <use xlink:href=\"#glyph1-2\" x=\"43.199219\" y=\"105.01091\"/>\n",
       "  <use xlink:href=\"#glyph1-3\" x=\"43.199219\" y=\"101.535904\"/>\n",
       "  <use xlink:href=\"#glyph1-4\" x=\"43.199219\" y=\"94.585876\"/>\n",
       "</g>\n",
       "<g style=\"fill:rgb(0%,0%,0%);fill-opacity:1;\">\n",
       "  <use xlink:href=\"#glyph1-1\" x=\"43.199219\" y=\"72.289062\"/>\n",
       "  <use xlink:href=\"#glyph1-2\" x=\"43.199219\" y=\"65.339035\"/>\n",
       "  <use xlink:href=\"#glyph1-5\" x=\"43.199219\" y=\"61.864029\"/>\n",
       "  <use xlink:href=\"#glyph1-1\" x=\"43.199219\" y=\"54.914001\"/>\n",
       "</g>\n",
       "<path style=\"fill:none;stroke-width:1;stroke-linecap:round;stroke-linejoin:round;stroke:rgb(0%,0%,0%);stroke-opacity:1;stroke-miterlimit:10;\" d=\"M 59.039062 142.558594 L 257.761719 142.558594 L 257.761719 59.039062 L 59.039062 59.039062 L 59.039062 142.558594 \"/>\n",
       "<g style=\"fill:rgb(0%,0%,0%);fill-opacity:1;\">\n",
       "  <use xlink:href=\"#glyph0-6\" x=\"119.148438\" y=\"198.71875\"/>\n",
       "  <use xlink:href=\"#glyph0-7\" x=\"123.310959\" y=\"198.71875\"/>\n",
       "  <use xlink:href=\"#glyph0-8\" x=\"130.260986\" y=\"198.71875\"/>\n",
       "  <use xlink:href=\"#glyph0-9\" x=\"136.511017\" y=\"198.71875\"/>\n",
       "  <use xlink:href=\"#glyph0-10\" x=\"139.286026\" y=\"198.71875\"/>\n",
       "  <use xlink:href=\"#glyph0-11\" x=\"146.236053\" y=\"198.71875\"/>\n",
       "  <use xlink:href=\"#glyph0-12\" x=\"153.186081\" y=\"198.71875\"/>\n",
       "  <use xlink:href=\"#glyph0-13\" x=\"160.136108\" y=\"198.71875\"/>\n",
       "  <use xlink:href=\"#glyph0-14\" x=\"162.911118\" y=\"198.71875\"/>\n",
       "  <use xlink:href=\"#glyph0-8\" x=\"166.386124\" y=\"198.71875\"/>\n",
       "  <use xlink:href=\"#glyph0-11\" x=\"172.636154\" y=\"198.71875\"/>\n",
       "  <use xlink:href=\"#glyph0-15\" x=\"179.586182\" y=\"198.71875\"/>\n",
       "  <use xlink:href=\"#glyph0-12\" x=\"186.536209\" y=\"198.71875\"/>\n",
       "  <use xlink:href=\"#glyph0-6\" x=\"193.486237\" y=\"198.71875\"/>\n",
       "</g>\n",
       "<g style=\"fill:rgb(0%,0%,0%);fill-opacity:1;\">\n",
       "  <use xlink:href=\"#glyph1-6\" x=\"14.398438\" y=\"121.636719\"/>\n",
       "  <use xlink:href=\"#glyph1-7\" x=\"14.398438\" y=\"112.611679\"/>\n",
       "  <use xlink:href=\"#glyph1-8\" x=\"14.398438\" y=\"105.661652\"/>\n",
       "  <use xlink:href=\"#glyph1-9\" x=\"14.398438\" y=\"98.711624\"/>\n",
       "  <use xlink:href=\"#glyph1-10\" x=\"14.398438\" y=\"92.461594\"/>\n",
       "  <use xlink:href=\"#glyph1-11\" x=\"14.398438\" y=\"89.686584\"/>\n",
       "  <use xlink:href=\"#glyph1-12\" x=\"14.398438\" y=\"86.211578\"/>\n",
       "</g>\n",
       "<path style=\"fill:none;stroke-width:1;stroke-linecap:round;stroke-linejoin:round;stroke:rgb(0%,80.392157%,0%);stroke-opacity:1;stroke-dasharray:4,4;stroke-miterlimit:10;\" d=\"M 66.398438 110.9375 L 66.761719 109.117188 L 67.121094 107.246094 L 67.480469 105.328125 L 67.839844 103.363281 L 68.199219 101.367188 L 68.558594 99.335938 L 68.921875 97.28125 L 69.28125 95.207031 L 69.640625 93.125 L 70 91.039062 L 70.359375 88.960938 L 70.722656 86.894531 L 71.082031 84.855469 L 71.441406 82.847656 L 71.800781 80.878906 L 72.160156 78.964844 L 72.519531 77.113281 L 72.882812 75.332031 L 73.242188 73.625 L 73.601562 72.011719 L 73.960938 70.492188 L 74.320312 69.078125 L 74.683594 67.777344 L 75.042969 66.597656 L 75.402344 65.542969 L 75.761719 64.625 L 76.121094 63.839844 L 76.480469 63.203125 L 76.84375 62.707031 L 77.203125 62.363281 L 77.5625 62.171875 L 77.921875 62.132812 L 78.28125 62.246094 L 78.644531 62.511719 L 79.003906 62.929688 L 79.363281 63.492188 L 79.722656 64.199219 L 80.082031 65.050781 L 80.441406 66.035156 L 80.804688 67.152344 L 81.164062 68.390625 L 81.523438 69.746094 L 81.882812 71.210938 L 82.242188 72.777344 L 82.605469 74.4375 L 82.964844 76.179688 L 83.324219 78 L 83.683594 79.882812 L 84.042969 81.820312 L 84.402344 83.808594 L 84.765625 85.835938 L 85.125 87.886719 L 85.484375 89.960938 L 85.84375 92.042969 L 86.203125 94.128906 L 86.5625 96.207031 L 86.925781 98.273438 L 87.285156 100.316406 L 87.644531 102.332031 L 88.003906 104.316406 L 88.363281 106.257812 L 88.726562 108.15625 L 89.085938 110 L 89.445312 111.792969 L 89.804688 113.527344 L 90.164062 115.203125 L 90.523438 116.8125 L 90.886719 118.359375 L 91.246094 119.839844 L 91.605469 121.25 L 91.964844 122.59375 L 92.324219 123.867188 L 92.6875 125.074219 L 93.046875 126.214844 L 93.40625 127.289062 L 93.765625 128.296875 L 94.125 129.246094 L 94.484375 130.128906 L 94.847656 130.953125 L 95.207031 131.71875 L 95.566406 132.429688 L 95.925781 133.089844 L 96.285156 133.699219 L 96.648438 134.261719 L 97.007812 134.777344 L 97.367188 135.25 L 97.726562 135.679688 L 98.085938 136.078125 L 98.445312 136.4375 L 98.808594 136.761719 L 99.167969 137.058594 L 99.527344 137.328125 L 99.886719 137.570312 L 100.246094 137.789062 L 100.609375 137.984375 L 100.96875 138.160156 L 101.328125 138.316406 L 101.6875 138.457031 L 102.046875 138.582031 L 102.40625 138.691406 L 102.769531 138.789062 L 103.128906 138.878906 L 103.488281 138.953125 L 103.847656 139.023438 L 104.207031 139.082031 L 104.566406 139.132812 L 104.929688 139.179688 L 105.289062 139.21875 L 105.648438 139.253906 L 106.007812 139.285156 L 106.367188 139.3125 L 106.730469 139.332031 L 107.449219 139.371094 L 107.808594 139.386719 L 108.167969 139.398438 L 108.527344 139.40625 L 108.890625 139.417969 L 109.25 139.425781 L 109.609375 139.429688 L 109.96875 139.4375 L 110.328125 139.441406 L 110.691406 139.445312 L 111.410156 139.453125 L 111.769531 139.453125 L 112.128906 139.457031 L 112.488281 139.457031 L 112.851562 139.460938 L 113.570312 139.460938 L 113.929688 139.464844 L 250.398438 139.464844 \"/>\n",
       "<path style=\"fill:none;stroke-width:1;stroke-linecap:round;stroke-linejoin:round;stroke:rgb(100%,0%,0%);stroke-opacity:1;stroke-miterlimit:10;\" d=\"M 64.53125 64.664062 L 75.519531 64.664062 \"/>\n",
       "<path style=\"fill:none;stroke-width:1;stroke-linecap:round;stroke-linejoin:round;stroke:rgb(0%,80.392157%,0%);stroke-opacity:1;stroke-dasharray:4,4;stroke-miterlimit:10;\" d=\"M 64.53125 67.257812 L 75.519531 67.257812 \"/>\n",
       "<g style=\"fill:rgb(0%,0%,0%);fill-opacity:1;\">\n",
       "  <use xlink:href=\"#glyph0-1\" x=\"81.011719\" y=\"69.351562\"/>\n",
       "</g>\n",
       "<g style=\"fill:rgb(0%,0%,0%);fill-opacity:1;\">\n",
       "  <use xlink:href=\"#glyph0-3\" x=\"81.011719\" y=\"71.945312\"/>\n",
       "</g>\n",
       "</g>\n",
       "</svg>\n"
      ]
     },
     "metadata": {
      "image/svg+xml": {
       "isolated": true
      }
     },
     "output_type": "display_data"
    },
    {
     "data": {
      "image/jpeg": "[encoded data removed]",
      "image/png": "",
      "image/svg+xml": [
       "<?xml version=\"1.0\" encoding=\"UTF-8\"?>\n",
       "<svg xmlns=\"http://www.w3.org/2000/svg\" xmlns:xlink=\"http://www.w3.org/1999/xlink\" width=\"288pt\" height=\"216pt\" viewBox=\"0 0 288 216\" version=\"1.1\">\n",
       "<defs>\n",
       "<g>\n",
       "<symbol overflow=\"visible\" id=\"glyph0-0\">\n",
       "<path style=\"stroke:none;\" d=\"\"/>\n",
       "</symbol>\n",
       "<symbol overflow=\"visible\" id=\"glyph0-1\">\n",
       "<path style=\"stroke:none;\" d=\"M 6.46875 -4.390625 C 6.46875 -7.46875 5.359375 -9.125 3.4375 -9.125 C 1.53125 -9.125 0.40625 -7.4375 0.40625 -4.46875 C 0.40625 -1.46875 1.53125 0.1875 3.4375 0.1875 C 5.3125 0.1875 6.46875 -1.46875 6.46875 -4.390625 Z M 5.078125 -4.484375 C 5.078125 -1.96875 4.640625 -0.984375 3.40625 -0.984375 C 2.25 -0.984375 1.78125 -2.03125 1.78125 -4.453125 C 1.78125 -6.875 2.25 -7.890625 3.4375 -7.890625 C 4.625 -7.890625 5.078125 -6.859375 5.078125 -4.484375 Z M 5.078125 -4.484375 \"/>\n",
       "</symbol>\n",
       "<symbol overflow=\"visible\" id=\"glyph0-2\">\n",
       "<path style=\"stroke:none;\" d=\"M 2.515625 -0.125 L 2.515625 -1.5625 L 0.953125 -1.5625 L 0.953125 0 L 2.515625 0 Z M 2.515625 -0.125 \"/>\n",
       "</symbol>\n",
       "<symbol overflow=\"visible\" id=\"glyph0-3\">\n",
       "<path style=\"stroke:none;\" d=\"M 4.46875 -0.125 L 4.46875 -9.125 L 3.515625 -9.125 C 3.09375 -7.625 2.96875 -7.578125 1.140625 -7.34375 L 1.140625 -6.3125 L 3.09375 -6.3125 L 3.09375 0 L 4.46875 0 Z M 4.46875 -0.125 \"/>\n",
       "</symbol>\n",
       "<symbol overflow=\"visible\" id=\"glyph0-4\">\n",
       "<path style=\"stroke:none;\" d=\"M 6.515625 -6.390625 C 6.515625 -7.890625 5.21875 -9.125 3.546875 -9.125 C 1.734375 -9.125 0.546875 -8.0625 0.484375 -5.78125 L 1.84375 -5.78125 C 1.9375 -7.40625 2.421875 -7.90625 3.515625 -7.90625 C 4.515625 -7.90625 5.125 -7.3125 5.125 -6.359375 C 5.125 -5.65625 4.75 -5.15625 3.96875 -4.703125 L 2.8125 -4.046875 C 0.96875 -3 0.390625 -2.078125 0.28125 0 L 6.453125 0 L 6.453125 -1.34375 L 1.8125 -1.34375 C 1.90625 -1.9375 2.265625 -2.3125 3.34375 -2.953125 L 4.59375 -3.625 C 5.84375 -4.28125 6.515625 -5.296875 6.515625 -6.390625 Z M 6.515625 -6.390625 \"/>\n",
       "</symbol>\n",
       "<symbol overflow=\"visible\" id=\"glyph0-5\">\n",
       "<path style=\"stroke:none;\" d=\"M 6.453125 -2.703125 C 6.453125 -3.78125 5.890625 -4.53125 4.828125 -4.90625 L 4.828125 -4.640625 C 5.65625 -4.96875 6.1875 -5.65625 6.1875 -6.546875 C 6.1875 -8.078125 5.046875 -9.125 3.359375 -9.125 C 1.578125 -9.125 0.484375 -8.015625 0.453125 -6 L 1.8125 -6 C 1.84375 -7.4375 2.25 -7.90625 3.375 -7.90625 C 4.34375 -7.90625 4.796875 -7.453125 4.796875 -6.515625 C 4.796875 -5.5625 4.53125 -5.3125 2.625 -5.3125 L 2.625 -4.125 L 3.359375 -4.125 C 4.578125 -4.125 5.0625 -3.671875 5.0625 -2.6875 C 5.0625 -1.578125 4.515625 -1.046875 3.359375 -1.046875 C 2.15625 -1.046875 1.703125 -1.515625 1.609375 -2.9375 L 0.25 -2.9375 C 0.40625 -0.828125 1.515625 0.1875 3.328125 0.1875 C 5.15625 0.1875 6.453125 -1.03125 6.453125 -2.703125 Z M 6.453125 -2.703125 \"/>\n",
       "</symbol>\n",
       "<symbol overflow=\"visible\" id=\"glyph0-6\">\n",
       "<path style=\"stroke:none;\" d=\"M 6.625 -2.25 L 6.625 -3.375 L 5.3125 -3.375 L 5.3125 -9.125 L 4.296875 -9.125 L 0.21875 -3.453125 L 0.21875 -2.125 L 3.953125 -2.125 L 3.953125 0 L 5.3125 0 L 5.3125 -2.125 L 6.625 -2.125 Z M 4.09375 -3.375 L 1.5625 -3.375 L 4.171875 -7.03125 L 3.953125 -7.109375 L 3.953125 -3.375 Z M 4.09375 -3.375 \"/>\n",
       "</symbol>\n",
       "<symbol overflow=\"visible\" id=\"glyph0-7\">\n",
       "<path style=\"stroke:none;\" d=\"M 6.53125 -3.0625 C 6.53125 -4.8125 5.25 -6.09375 3.546875 -6.09375 C 2.921875 -6.09375 2.328125 -5.890625 2.09375 -5.71875 L 2.359375 -7.59375 L 6.078125 -7.59375 L 6.078125 -8.9375 L 1.25 -8.9375 L 0.546875 -4.03125 L 1.78125 -4.03125 C 2.328125 -4.6875 2.65625 -4.859375 3.34375 -4.859375 C 4.53125 -4.859375 5.15625 -4.21875 5.15625 -2.90625 C 5.15625 -1.640625 4.546875 -1.046875 3.34375 -1.046875 C 2.390625 -1.046875 1.921875 -1.40625 1.625 -2.53125 L 0.28125 -2.53125 C 0.65625 -0.640625 1.796875 0.1875 3.375 0.1875 C 5.15625 0.1875 6.53125 -1.1875 6.53125 -3.0625 Z M 6.53125 -3.0625 \"/>\n",
       "</symbol>\n",
       "<symbol overflow=\"visible\" id=\"glyph0-8\">\n",
       "<path style=\"stroke:none;\" d=\"M 6.53125 -2.875 C 6.53125 -4.53125 5.28125 -5.78125 3.703125 -5.78125 C 2.828125 -5.78125 2.03125 -5.390625 1.5625 -4.734375 L 1.78125 -4.65625 C 1.796875 -6.8125 2.375 -7.890625 3.640625 -7.890625 C 4.40625 -7.890625 4.8125 -7.53125 5.015625 -6.546875 L 6.375 -6.546875 C 6.140625 -8.125 5.0625 -9.125 3.71875 -9.125 C 1.65625 -9.125 0.40625 -7.25 0.40625 -4.15625 C 0.40625 -1.40625 1.484375 0.1875 3.515625 0.1875 C 5.203125 0.1875 6.53125 -1.140625 6.53125 -2.875 Z M 5.15625 -2.78125 C 5.15625 -1.671875 4.53125 -1.046875 3.53125 -1.046875 C 2.5 -1.046875 1.84375 -1.71875 1.84375 -2.84375 C 1.84375 -3.953125 2.46875 -4.53125 3.5625 -4.53125 C 4.625 -4.53125 5.15625 -3.96875 5.15625 -2.78125 Z M 5.15625 -2.78125 \"/>\n",
       "</symbol>\n",
       "<symbol overflow=\"visible\" id=\"glyph0-9\">\n",
       "<path style=\"stroke:none;\" d=\"M 5.96875 -2.515625 L 4.796875 -2.515625 C 4.59375 -1.328125 4.203125 -1.03125 3.3125 -1.03125 C 2.15625 -1.03125 1.59375 -1.78125 1.59375 -3.34375 C 1.59375 -4.96875 2.15625 -5.78125 3.28125 -5.78125 C 4.15625 -5.78125 4.578125 -5.390625 4.71875 -4.34375 L 6.03125 -4.34375 C 5.890625 -6.078125 4.765625 -7 3.296875 -7 C 1.53125 -7 0.25 -5.515625 0.25 -3.34375 C 0.25 -1.21875 1.515625 0.1875 3.28125 0.1875 C 4.84375 0.1875 5.96875 -0.875 6.09375 -2.515625 Z M 5.96875 -2.515625 \"/>\n",
       "</symbol>\n",
       "<symbol overflow=\"visible\" id=\"glyph0-10\">\n",
       "<path style=\"stroke:none;\" d=\"M 6.203125 -0.125 L 6.203125 -5.078125 C 6.203125 -6.171875 5.28125 -7 4.015625 -7 C 3.09375 -7 2.421875 -6.65625 1.8125 -5.859375 L 2.03125 -5.78125 L 2.03125 -9.375 L 0.734375 -9.375 L 0.734375 0 L 2.03125 0 L 2.03125 -3.734375 C 2.03125 -5.078125 2.609375 -5.828125 3.6875 -5.828125 C 4.421875 -5.828125 4.90625 -5.53125 4.90625 -4.65625 L 4.90625 0 L 6.203125 0 Z M 6.203125 -0.125 \"/>\n",
       "</symbol>\n",
       "<symbol overflow=\"visible\" id=\"glyph0-11\">\n",
       "<path style=\"stroke:none;\" d=\"M 2.015625 -0.125 L 2.015625 -9.375 L 0.71875 -9.375 L 0.71875 0 L 2.015625 0 Z M 2.015625 -0.125 \"/>\n",
       "</symbol>\n",
       "<symbol overflow=\"visible\" id=\"glyph0-12\">\n",
       "<path style=\"stroke:none;\" d=\"M 6.5 -3.34375 C 6.5 -5.609375 5.28125 -7 3.40625 -7 C 1.5625 -7 0.3125 -5.59375 0.3125 -3.40625 C 0.3125 -1.203125 1.546875 0.1875 3.40625 0.1875 C 5.25 0.1875 6.5 -1.203125 6.5 -3.34375 Z M 5.15625 -3.359375 C 5.15625 -1.828125 4.5625 -1.03125 3.40625 -1.03125 C 2.25 -1.03125 1.65625 -1.8125 1.65625 -3.40625 C 1.65625 -4.96875 2.25 -5.78125 3.40625 -5.78125 C 4.59375 -5.78125 5.15625 -4.984375 5.15625 -3.359375 Z M 5.15625 -3.359375 \"/>\n",
       "</symbol>\n",
       "<symbol overflow=\"visible\" id=\"glyph0-13\">\n",
       "<path style=\"stroke:none;\" d=\"M 4.140625 -5.765625 L 4.140625 -6.9375 C 3.84375 -6.984375 3.75 -7 3.609375 -7 C 2.9375 -7 2.328125 -6.546875 1.71875 -5.578125 L 1.953125 -5.484375 L 1.953125 -6.8125 L 0.734375 -6.8125 L 0.734375 0 L 2.03125 0 L 2.03125 -3.53125 C 2.03125 -5 2.40625 -5.609375 4.140625 -5.640625 Z M 4.140625 -5.765625 \"/>\n",
       "</symbol>\n",
       "<symbol overflow=\"visible\" id=\"glyph0-14\">\n",
       "<path style=\"stroke:none;\" d=\"M 2.03125 -0.125 L 2.03125 -6.8125 L 0.734375 -6.8125 L 0.734375 0 L 2.03125 0 Z M 2.171875 -7.65625 L 2.171875 -9.09375 L 0.609375 -9.09375 L 0.609375 -7.53125 L 2.171875 -7.53125 Z M 2.171875 -7.65625 \"/>\n",
       "</symbol>\n",
       "<symbol overflow=\"visible\" id=\"glyph0-15\">\n",
       "<path style=\"stroke:none;\" d=\"M 6.3125 -0.125 L 6.3125 -9.375 L 5.015625 -9.375 L 5.015625 -5.84375 L 5.234375 -5.9375 C 4.796875 -6.59375 4.015625 -7 3.140625 -7 C 1.4375 -7 0.1875 -5.546875 0.1875 -3.46875 C 0.1875 -1.25 1.40625 0.1875 3.171875 0.1875 C 4.078125 0.1875 4.78125 -0.1875 5.34375 -1 L 5.125 -1.09375 L 5.125 0 L 6.3125 0 Z M 5.015625 -3.375 C 5.015625 -1.859375 4.421875 -1.046875 3.328125 -1.046875 C 2.171875 -1.046875 1.53125 -1.875 1.53125 -3.40625 C 1.53125 -4.921875 2.171875 -5.765625 3.3125 -5.765625 C 4.4375 -5.765625 5.015625 -4.890625 5.015625 -3.375 Z M 5.015625 -3.375 \"/>\n",
       "</symbol>\n",
       "<symbol overflow=\"visible\" id=\"glyph0-16\">\n",
       "<path style=\"stroke:none;\" d=\"M 6.53125 -3.09375 C 6.53125 -4.046875 6.46875 -4.65625 6.28125 -5.140625 C 5.84375 -6.21875 4.71875 -7 3.5 -7 C 1.671875 -7 0.359375 -5.515625 0.359375 -3.359375 C 0.359375 -1.21875 1.640625 0.1875 3.46875 0.1875 C 4.96875 0.1875 6.140625 -0.78125 6.421875 -2.25 L 5.125 -2.25 C 4.796875 -1.25 4.34375 -1.03125 3.515625 -1.03125 C 2.421875 -1.03125 1.734375 -1.59375 1.71875 -2.96875 L 6.53125 -2.96875 Z M 5.390625 -3.9375 C 5.390625 -3.9375 5.203125 -4.0625 5.21875 -4.09375 L 1.75 -4.09375 C 1.828125 -5.109375 2.4375 -5.78125 3.484375 -5.78125 C 4.515625 -5.78125 5.15625 -5.046875 5.15625 -4.03125 Z M 5.390625 -3.9375 \"/>\n",
       "</symbol>\n",
       "<symbol overflow=\"visible\" id=\"glyph0-17\">\n",
       "<path style=\"stroke:none;\" d=\"M 5.859375 -1.96875 C 5.859375 -2.9375 5.1875 -3.5625 3.890625 -3.875 L 2.890625 -4.109375 C 2.03125 -4.3125 1.796875 -4.453125 1.796875 -4.90625 C 1.796875 -5.515625 2.21875 -5.78125 3.0625 -5.78125 C 3.90625 -5.78125 4.21875 -5.53125 4.234375 -4.71875 L 5.59375 -4.71875 C 5.59375 -6.140625 4.609375 -7 3.09375 -7 C 1.578125 -7 0.453125 -6.078125 0.453125 -4.859375 C 0.453125 -3.84375 1.109375 -3.21875 2.65625 -2.84375 L 3.640625 -2.609375 C 4.359375 -2.4375 4.515625 -2.34375 4.515625 -1.875 C 4.515625 -1.265625 4.03125 -1.03125 3.125 -1.03125 C 2.1875 -1.03125 1.78125 -1.125 1.640625 -2.265625 L 0.28125 -2.265625 C 0.34375 -0.609375 1.328125 0.1875 3.03125 0.1875 C 4.6875 0.1875 5.859375 -0.703125 5.859375 -1.96875 Z M 5.859375 -1.96875 \"/>\n",
       "</symbol>\n",
       "<symbol overflow=\"visible\" id=\"glyph1-0\">\n",
       "<path style=\"stroke:none;\" d=\"\"/>\n",
       "</symbol>\n",
       "<symbol overflow=\"visible\" id=\"glyph1-1\">\n",
       "<path style=\"stroke:none;\" d=\"M -4.390625 -6.46875 C -7.46875 -6.46875 -9.125 -5.359375 -9.125 -3.4375 C -9.125 -1.53125 -7.4375 -0.40625 -4.46875 -0.40625 C -1.46875 -0.40625 0.1875 -1.53125 0.1875 -3.4375 C 0.1875 -5.3125 -1.46875 -6.46875 -4.390625 -6.46875 Z M -4.484375 -5.078125 C -1.96875 -5.078125 -0.984375 -4.640625 -0.984375 -3.40625 C -0.984375 -2.25 -2.03125 -1.78125 -4.453125 -1.78125 C -6.875 -1.78125 -7.890625 -2.25 -7.890625 -3.4375 C -7.890625 -4.625 -6.859375 -5.078125 -4.484375 -5.078125 Z M -4.484375 -5.078125 \"/>\n",
       "</symbol>\n",
       "<symbol overflow=\"visible\" id=\"glyph1-2\">\n",
       "<path style=\"stroke:none;\" d=\"M -3.0625 -6.53125 C -4.8125 -6.53125 -6.09375 -5.25 -6.09375 -3.546875 C -6.09375 -2.921875 -5.890625 -2.328125 -5.71875 -2.09375 L -7.59375 -2.359375 L -7.59375 -6.078125 L -8.9375 -6.078125 L -8.9375 -1.25 L -4.03125 -0.546875 L -4.03125 -1.78125 C -4.6875 -2.328125 -4.859375 -2.65625 -4.859375 -3.34375 C -4.859375 -4.53125 -4.21875 -5.15625 -2.90625 -5.15625 C -1.640625 -5.15625 -1.046875 -4.546875 -1.046875 -3.34375 C -1.046875 -2.390625 -1.40625 -1.921875 -2.53125 -1.625 L -2.53125 -0.28125 C -0.640625 -0.65625 0.1875 -1.796875 0.1875 -3.375 C 0.1875 -5.15625 -1.1875 -6.53125 -3.0625 -6.53125 Z M -3.0625 -6.53125 \"/>\n",
       "</symbol>\n",
       "<symbol overflow=\"visible\" id=\"glyph1-3\">\n",
       "<path style=\"stroke:none;\" d=\"M -0.125 -4.46875 L -9.125 -4.46875 L -9.125 -3.515625 C -7.625 -3.09375 -7.578125 -2.96875 -7.34375 -1.140625 L -6.3125 -1.140625 L -6.3125 -3.09375 L 0 -3.09375 L 0 -4.46875 Z M -0.125 -4.46875 \"/>\n",
       "</symbol>\n",
       "<symbol overflow=\"visible\" id=\"glyph1-4\">\n",
       "<path style=\"stroke:none;\" d=\"M -4.6875 -8.46875 C -7.515625 -8.46875 -9.375 -6.9375 -9.375 -4.625 L -9.375 -0.96875 L 0 -0.96875 L 0 -4.625 C 0 -6.921875 -1.84375 -8.46875 -4.6875 -8.46875 Z M -4.671875 -7.03125 C -2.375 -7.03125 -1.28125 -6.21875 -1.28125 -4.421875 L -1.28125 -2.40625 L -8.09375 -2.40625 L -8.09375 -4.421875 C -8.09375 -6.21875 -7 -7.03125 -4.671875 -7.03125 Z M -4.671875 -7.03125 \"/>\n",
       "</symbol>\n",
       "<symbol overflow=\"visible\" id=\"glyph1-5\">\n",
       "<path style=\"stroke:none;\" d=\"M -3.09375 -6.53125 C -4.046875 -6.53125 -4.65625 -6.46875 -5.140625 -6.28125 C -6.21875 -5.84375 -7 -4.71875 -7 -3.5 C -7 -1.671875 -5.515625 -0.359375 -3.359375 -0.359375 C -1.21875 -0.359375 0.1875 -1.640625 0.1875 -3.46875 C 0.1875 -4.96875 -0.78125 -6.140625 -2.25 -6.421875 L -2.25 -5.125 C -1.25 -4.796875 -1.03125 -4.34375 -1.03125 -3.515625 C -1.03125 -2.421875 -1.59375 -1.734375 -2.96875 -1.71875 L -2.96875 -6.53125 Z M -3.9375 -5.390625 C -3.9375 -5.390625 -4.0625 -5.203125 -4.09375 -5.21875 L -4.09375 -1.75 C -5.109375 -1.828125 -5.78125 -2.4375 -5.78125 -3.484375 C -5.78125 -4.515625 -5.046875 -5.15625 -4.03125 -5.15625 Z M -3.9375 -5.390625 \"/>\n",
       "</symbol>\n",
       "<symbol overflow=\"visible\" id=\"glyph1-6\">\n",
       "<path style=\"stroke:none;\" d=\"M -0.125 -6.21875 L -5.078125 -6.21875 C -6.15625 -6.21875 -7 -5.28125 -7 -4.015625 C -7 -3.03125 -6.578125 -2.3125 -5.65625 -1.734375 L -5.578125 -1.96875 L -6.8125 -1.96875 L -6.8125 -0.734375 L 0 -0.734375 L 0 -2.03125 L -3.734375 -2.03125 C -5.078125 -2.03125 -5.828125 -2.640625 -5.828125 -3.703125 C -5.828125 -4.53125 -5.453125 -4.90625 -4.65625 -4.90625 L 0 -4.90625 L 0 -6.21875 Z M -0.125 -6.21875 \"/>\n",
       "</symbol>\n",
       "<symbol overflow=\"visible\" id=\"glyph1-7\">\n",
       "<path style=\"stroke:none;\" d=\"M -1.96875 -5.859375 C -2.9375 -5.859375 -3.5625 -5.1875 -3.875 -3.890625 L -4.109375 -2.890625 C -4.3125 -2.03125 -4.453125 -1.796875 -4.90625 -1.796875 C -5.515625 -1.796875 -5.78125 -2.21875 -5.78125 -3.0625 C -5.78125 -3.90625 -5.53125 -4.21875 -4.71875 -4.234375 L -4.71875 -5.59375 C -6.140625 -5.59375 -7 -4.609375 -7 -3.09375 C -7 -1.578125 -6.078125 -0.453125 -4.859375 -0.453125 C -3.84375 -0.453125 -3.21875 -1.109375 -2.84375 -2.65625 L -2.609375 -3.640625 C -2.4375 -4.359375 -2.34375 -4.515625 -1.875 -4.515625 C -1.265625 -4.515625 -1.03125 -4.03125 -1.03125 -3.125 C -1.03125 -2.1875 -1.125 -1.78125 -2.265625 -1.640625 L -2.265625 -0.28125 C -0.609375 -0.34375 0.1875 -1.328125 0.1875 -3.03125 C 0.1875 -4.6875 -0.703125 -5.859375 -1.96875 -5.859375 Z M -1.96875 -5.859375 \"/>\n",
       "</symbol>\n",
       "<symbol overflow=\"visible\" id=\"glyph1-8\">\n",
       "<path style=\"stroke:none;\" d=\"M -0.125 -2.03125 L -6.8125 -2.03125 L -6.8125 -0.734375 L 0 -0.734375 L 0 -2.03125 Z M -7.65625 -2.171875 L -9.09375 -2.171875 L -9.09375 -0.609375 L -7.53125 -0.609375 L -7.53125 -2.171875 Z M -7.65625 -2.171875 \"/>\n",
       "</symbol>\n",
       "<symbol overflow=\"visible\" id=\"glyph1-9\">\n",
       "<path style=\"stroke:none;\" d=\"M -0.125 -3.296875 L -1.171875 -3.296875 C -1.09375 -3.03125 -1.09375 -2.875 -1.09375 -2.671875 C -1.09375 -2.21875 -1.078125 -2.21875 -1.53125 -2.21875 L -5.703125 -2.21875 L -5.703125 -3.296875 L -6.8125 -3.296875 L -6.8125 -2.21875 L -8.609375 -2.21875 L -8.609375 -0.921875 L -6.8125 -0.921875 L -6.8125 -0.03125 L -5.703125 -0.03125 L -5.703125 -0.921875 L -1.078125 -0.921875 C -0.40625 -0.921875 0.09375 -1.515625 0.09375 -2.328125 C 0.09375 -2.578125 0.0625 -2.828125 -0.015625 -3.296875 Z M -0.125 -3.296875 \"/>\n",
       "</symbol>\n",
       "<symbol overflow=\"visible\" id=\"glyph1-10\">\n",
       "<path style=\"stroke:none;\" d=\"M -6.8125 -5.96875 L -6.8125 -4.765625 L -1.578125 -2.90625 L -1.578125 -3.15625 L -6.8125 -1.453125 L -6.8125 -0.0625 L -0.09375 -2.328125 L 0.9375 -1.921875 C 1.40625 -1.75 1.4375 -1.671875 1.4375 -1.21875 C 1.4375 -1.078125 1.40625 -0.90625 1.34375 -0.53125 L 2.515625 -0.53125 C 2.640625 -0.78125 2.71875 -1.09375 2.71875 -1.375 C 2.71875 -2.109375 2.1875 -2.84375 1.25 -3.1875 L -6.8125 -6.15625 Z M -6.8125 -5.96875 \"/>\n",
       "</symbol>\n",
       "</g>\n",
       "</defs>\n",
       "<g id=\"surface769\">\n",
       "<rect x=\"0\" y=\"0\" width=\"288\" height=\"216\" style=\"fill:rgb(100%,100%,100%);fill-opacity:1;stroke:none;\"/>\n",
       "<path style=\"fill:none;stroke-width:1;stroke-linecap:round;stroke-linejoin:round;stroke:rgb(100%,0%,0%);stroke-opacity:1;stroke-miterlimit:10;\" d=\"M 66.398438 117.953125 L 66.761719 115.980469 L 67.121094 113.90625 L 67.480469 111.738281 L 67.839844 109.476562 L 68.199219 107.132812 L 68.558594 104.710938 L 68.921875 102.226562 L 69.28125 99.691406 L 69.640625 97.113281 L 70 94.507812 L 70.359375 91.890625 L 70.722656 89.277344 L 71.082031 86.6875 L 71.441406 84.132812 L 71.800781 81.636719 L 72.160156 79.21875 L 72.519531 76.890625 L 72.882812 74.675781 L 73.242188 72.59375 L 73.601562 70.65625 L 73.960938 68.882812 L 74.320312 67.289062 L 74.683594 65.890625 L 75.042969 64.699219 L 75.402344 63.722656 L 75.761719 62.972656 L 76.121094 62.453125 L 76.480469 62.171875 L 76.84375 62.132812 L 77.203125 62.335938 L 77.5625 62.773438 L 77.921875 63.449219 L 78.28125 64.351562 L 78.644531 65.472656 L 79.003906 66.804688 L 79.363281 68.335938 L 79.722656 70.050781 L 80.082031 71.933594 L 80.441406 73.96875 L 80.804688 76.144531 L 81.164062 78.433594 L 81.523438 80.828125 L 81.882812 83.300781 L 82.242188 85.835938 L 82.605469 88.414062 L 82.964844 91.023438 L 83.324219 93.640625 L 83.683594 96.25 L 84.042969 98.839844 L 84.402344 101.390625 L 84.765625 103.894531 L 85.125 106.335938 L 85.484375 108.707031 L 85.84375 110.996094 L 86.203125 113.199219 L 86.5625 115.304688 L 86.925781 117.308594 L 87.285156 119.214844 L 87.644531 121.011719 L 88.003906 122.699219 L 88.363281 124.28125 L 88.726562 125.757812 L 89.085938 127.128906 L 89.445312 128.398438 L 89.804688 129.566406 L 90.164062 130.640625 L 90.523438 131.621094 L 90.886719 132.515625 L 91.246094 133.324219 L 91.605469 134.058594 L 91.964844 134.71875 L 92.324219 135.3125 L 92.6875 135.84375 L 93.046875 136.316406 L 93.40625 136.734375 L 93.765625 137.105469 L 94.125 137.433594 L 94.484375 137.71875 L 94.847656 137.96875 L 95.207031 138.1875 L 95.566406 138.378906 L 95.925781 138.542969 L 96.285156 138.6875 L 96.648438 138.808594 L 97.007812 138.914062 L 97.367188 139.003906 L 97.726562 139.082031 L 98.085938 139.144531 L 98.445312 139.199219 L 98.808594 139.246094 L 99.167969 139.285156 L 99.527344 139.316406 L 99.886719 139.34375 L 100.246094 139.367188 L 100.609375 139.386719 L 100.96875 139.398438 L 101.328125 139.414062 L 101.6875 139.421875 L 102.046875 139.433594 L 102.40625 139.4375 L 102.769531 139.445312 L 103.847656 139.457031 L 104.207031 139.457031 L 104.566406 139.460938 L 105.289062 139.460938 L 105.648438 139.464844 L 250.398438 139.464844 \"/>\n",
       "<path style=\"fill:none;stroke-width:1;stroke-linecap:round;stroke-linejoin:round;stroke:rgb(0%,0%,0%);stroke-opacity:1;stroke-miterlimit:10;\" d=\"M 62.714844 142.558594 L 247.019531 142.558594 \"/>\n",
       "<path style=\"fill:none;stroke-width:1;stroke-linecap:round;stroke-linejoin:round;stroke:rgb(0%,0%,0%);stroke-opacity:1;stroke-miterlimit:10;\" d=\"M 62.714844 142.558594 L 62.714844 149.761719 \"/>\n",
       "<path style=\"fill:none;stroke-width:1;stroke-linecap:round;stroke-linejoin:round;stroke:rgb(0%,0%,0%);stroke-opacity:1;stroke-miterlimit:10;\" d=\"M 93.433594 142.558594 L 93.433594 149.761719 \"/>\n",
       "<path style=\"fill:none;stroke-width:1;stroke-linecap:round;stroke-linejoin:round;stroke:rgb(0%,0%,0%);stroke-opacity:1;stroke-miterlimit:10;\" d=\"M 124.148438 142.558594 L 124.148438 149.761719 \"/>\n",
       "<path style=\"fill:none;stroke-width:1;stroke-linecap:round;stroke-linejoin:round;stroke:rgb(0%,0%,0%);stroke-opacity:1;stroke-miterlimit:10;\" d=\"M 154.867188 142.558594 L 154.867188 149.761719 \"/>\n",
       "<path style=\"fill:none;stroke-width:1;stroke-linecap:round;stroke-linejoin:round;stroke:rgb(0%,0%,0%);stroke-opacity:1;stroke-miterlimit:10;\" d=\"M 185.585938 142.558594 L 185.585938 149.761719 \"/>\n",
       "<path style=\"fill:none;stroke-width:1;stroke-linecap:round;stroke-linejoin:round;stroke:rgb(0%,0%,0%);stroke-opacity:1;stroke-miterlimit:10;\" d=\"M 216.304688 142.558594 L 216.304688 149.761719 \"/>\n",
       "<path style=\"fill:none;stroke-width:1;stroke-linecap:round;stroke-linejoin:round;stroke:rgb(0%,0%,0%);stroke-opacity:1;stroke-miterlimit:10;\" d=\"M 247.019531 142.558594 L 247.019531 149.761719 \"/>\n",
       "<g style=\"fill:rgb(0%,0%,0%);fill-opacity:1;\">\n",
       "  <use xlink:href=\"#glyph0-1\" x=\"54.027344\" y=\"169.921875\"/>\n",
       "  <use xlink:href=\"#glyph0-2\" x=\"60.977371\" y=\"169.921875\"/>\n",
       "  <use xlink:href=\"#glyph0-1\" x=\"64.452377\" y=\"169.921875\"/>\n",
       "</g>\n",
       "<g style=\"fill:rgb(0%,0%,0%);fill-opacity:1;\">\n",
       "  <use xlink:href=\"#glyph0-1\" x=\"84.746094\" y=\"169.921875\"/>\n",
       "  <use xlink:href=\"#glyph0-2\" x=\"91.696121\" y=\"169.921875\"/>\n",
       "  <use xlink:href=\"#glyph0-3\" x=\"95.171127\" y=\"169.921875\"/>\n",
       "</g>\n",
       "<g style=\"fill:rgb(0%,0%,0%);fill-opacity:1;\">\n",
       "  <use xlink:href=\"#glyph0-1\" x=\"115.460938\" y=\"169.921875\"/>\n",
       "  <use xlink:href=\"#glyph0-2\" x=\"122.410965\" y=\"169.921875\"/>\n",
       "  <use xlink:href=\"#glyph0-4\" x=\"125.885971\" y=\"169.921875\"/>\n",
       "</g>\n",
       "<g style=\"fill:rgb(0%,0%,0%);fill-opacity:1;\">\n",
       "  <use xlink:href=\"#glyph0-1\" x=\"146.179688\" y=\"169.921875\"/>\n",
       "  <use xlink:href=\"#glyph0-2\" x=\"153.129715\" y=\"169.921875\"/>\n",
       "  <use xlink:href=\"#glyph0-5\" x=\"156.604721\" y=\"169.921875\"/>\n",
       "</g>\n",
       "<g style=\"fill:rgb(0%,0%,0%);fill-opacity:1;\">\n",
       "  <use xlink:href=\"#glyph0-1\" x=\"176.898438\" y=\"169.921875\"/>\n",
       "  <use xlink:href=\"#glyph0-2\" x=\"183.848465\" y=\"169.921875\"/>\n",
       "  <use xlink:href=\"#glyph0-6\" x=\"187.323471\" y=\"169.921875\"/>\n",
       "</g>\n",
       "<g style=\"fill:rgb(0%,0%,0%);fill-opacity:1;\">\n",
       "  <use xlink:href=\"#glyph0-1\" x=\"207.617188\" y=\"169.921875\"/>\n",
       "  <use xlink:href=\"#glyph0-2\" x=\"214.567215\" y=\"169.921875\"/>\n",
       "  <use xlink:href=\"#glyph0-7\" x=\"218.042221\" y=\"169.921875\"/>\n",
       "</g>\n",
       "<g style=\"fill:rgb(0%,0%,0%);fill-opacity:1;\">\n",
       "  <use xlink:href=\"#glyph0-1\" x=\"238.332031\" y=\"169.921875\"/>\n",
       "  <use xlink:href=\"#glyph0-2\" x=\"245.282059\" y=\"169.921875\"/>\n",
       "  <use xlink:href=\"#glyph0-8\" x=\"248.757065\" y=\"169.921875\"/>\n",
       "</g>\n",
       "<path style=\"fill:none;stroke-width:1;stroke-linecap:round;stroke-linejoin:round;stroke:rgb(0%,0%,0%);stroke-opacity:1;stroke-miterlimit:10;\" d=\"M 59.039062 139.464844 L 59.039062 78.378906 \"/>\n",
       "<path style=\"fill:none;stroke-width:1;stroke-linecap:round;stroke-linejoin:round;stroke:rgb(0%,0%,0%);stroke-opacity:1;stroke-miterlimit:10;\" d=\"M 59.039062 139.464844 L 51.839844 139.464844 \"/>\n",
       "<path style=\"fill:none;stroke-width:1;stroke-linecap:round;stroke-linejoin:round;stroke:rgb(0%,0%,0%);stroke-opacity:1;stroke-miterlimit:10;\" d=\"M 59.039062 119.105469 L 51.839844 119.105469 \"/>\n",
       "<path style=\"fill:none;stroke-width:1;stroke-linecap:round;stroke-linejoin:round;stroke:rgb(0%,0%,0%);stroke-opacity:1;stroke-miterlimit:10;\" d=\"M 59.039062 98.742188 L 51.839844 98.742188 \"/>\n",
       "<path style=\"fill:none;stroke-width:1;stroke-linecap:round;stroke-linejoin:round;stroke:rgb(0%,0%,0%);stroke-opacity:1;stroke-miterlimit:10;\" d=\"M 59.039062 78.378906 L 51.839844 78.378906 \"/>\n",
       "<g style=\"fill:rgb(0%,0%,0%);fill-opacity:1;\">\n",
       "  <use xlink:href=\"#glyph1-1\" x=\"43.199219\" y=\"142.941406\"/>\n",
       "</g>\n",
       "<g style=\"fill:rgb(0%,0%,0%);fill-opacity:1;\">\n",
       "  <use xlink:href=\"#glyph1-2\" x=\"43.199219\" y=\"122.582031\"/>\n",
       "</g>\n",
       "<g style=\"fill:rgb(0%,0%,0%);fill-opacity:1;\">\n",
       "  <use xlink:href=\"#glyph1-3\" x=\"43.199219\" y=\"85.328125\"/>\n",
       "  <use xlink:href=\"#glyph1-2\" x=\"43.199219\" y=\"78.378098\"/>\n",
       "</g>\n",
       "<path style=\"fill:none;stroke-width:1;stroke-linecap:round;stroke-linejoin:round;stroke:rgb(0%,0%,0%);stroke-opacity:1;stroke-miterlimit:10;\" d=\"M 59.039062 142.558594 L 257.761719 142.558594 L 257.761719 59.039062 L 59.039062 59.039062 L 59.039062 142.558594 \"/>\n",
       "<g style=\"fill:rgb(0%,0%,0%);fill-opacity:1;\">\n",
       "  <use xlink:href=\"#glyph0-9\" x=\"133.390625\" y=\"198.71875\"/>\n",
       "  <use xlink:href=\"#glyph0-10\" x=\"139.640656\" y=\"198.71875\"/>\n",
       "  <use xlink:href=\"#glyph0-11\" x=\"146.590683\" y=\"198.71875\"/>\n",
       "  <use xlink:href=\"#glyph0-12\" x=\"149.365692\" y=\"198.71875\"/>\n",
       "  <use xlink:href=\"#glyph0-13\" x=\"156.31572\" y=\"198.71875\"/>\n",
       "  <use xlink:href=\"#glyph0-14\" x=\"160.478241\" y=\"198.71875\"/>\n",
       "  <use xlink:href=\"#glyph0-15\" x=\"163.25325\" y=\"198.71875\"/>\n",
       "  <use xlink:href=\"#glyph0-16\" x=\"170.203278\" y=\"198.71875\"/>\n",
       "  <use xlink:href=\"#glyph0-17\" x=\"177.153305\" y=\"198.71875\"/>\n",
       "</g>\n",
       "<g style=\"fill:rgb(0%,0%,0%);fill-opacity:1;\">\n",
       "  <use xlink:href=\"#glyph1-4\" x=\"14.398438\" y=\"121.636719\"/>\n",
       "  <use xlink:href=\"#glyph1-5\" x=\"14.398438\" y=\"112.611679\"/>\n",
       "  <use xlink:href=\"#glyph1-6\" x=\"14.398438\" y=\"105.661652\"/>\n",
       "  <use xlink:href=\"#glyph1-7\" x=\"14.398438\" y=\"98.711624\"/>\n",
       "  <use xlink:href=\"#glyph1-8\" x=\"14.398438\" y=\"92.461594\"/>\n",
       "  <use xlink:href=\"#glyph1-9\" x=\"14.398438\" y=\"89.686584\"/>\n",
       "  <use xlink:href=\"#glyph1-10\" x=\"14.398438\" y=\"86.211578\"/>\n",
       "</g>\n",
       "<path style=\"fill:none;stroke-width:1;stroke-linecap:round;stroke-linejoin:round;stroke:rgb(0%,80.392157%,0%);stroke-opacity:1;stroke-dasharray:4,4;stroke-miterlimit:10;\" d=\"M 66.398438 129.671875 L 66.761719 129.292969 L 67.121094 128.90625 L 67.480469 128.511719 L 67.839844 128.109375 L 68.199219 127.695312 L 68.558594 127.277344 L 68.921875 126.851562 L 69.28125 126.417969 L 69.640625 125.976562 L 70 125.527344 L 70.359375 125.074219 L 70.722656 124.613281 L 71.082031 124.148438 L 71.441406 123.679688 L 71.800781 123.203125 L 72.160156 122.722656 L 72.519531 122.238281 L 72.882812 121.753906 L 73.601562 120.769531 L 74.320312 119.777344 L 74.683594 119.28125 L 75.042969 118.785156 L 75.402344 118.285156 L 75.761719 117.789062 L 76.480469 116.804688 L 76.84375 116.3125 L 77.5625 115.34375 L 77.921875 114.867188 L 78.28125 114.394531 L 78.644531 113.929688 L 79.003906 113.46875 L 79.363281 113.015625 L 79.722656 112.574219 L 80.082031 112.136719 L 80.441406 111.710938 L 80.804688 111.296875 L 81.164062 110.890625 L 81.523438 110.496094 L 81.882812 110.113281 L 82.242188 109.746094 L 82.605469 109.386719 L 82.964844 109.046875 L 83.324219 108.71875 L 83.683594 108.402344 L 84.042969 108.105469 L 84.402344 107.824219 L 84.765625 107.558594 L 85.125 107.308594 L 85.484375 107.078125 L 85.84375 106.863281 L 86.203125 106.667969 L 86.5625 106.488281 L 86.925781 106.328125 L 87.285156 106.191406 L 87.644531 106.070312 L 88.003906 105.964844 L 88.363281 105.882812 L 88.726562 105.820312 L 89.085938 105.78125 L 89.445312 105.757812 L 89.804688 105.753906 L 90.164062 105.769531 L 90.523438 105.808594 L 90.886719 105.867188 L 91.246094 105.941406 L 91.605469 106.039062 L 91.964844 106.152344 L 92.324219 106.289062 L 92.6875 106.441406 L 93.046875 106.617188 L 93.40625 106.808594 L 93.765625 107.015625 L 94.125 107.242188 L 94.484375 107.488281 L 94.847656 107.75 L 95.207031 108.027344 L 95.566406 108.320312 L 95.925781 108.628906 L 96.285156 108.953125 L 96.648438 109.292969 L 97.007812 109.644531 L 97.367188 110.011719 L 97.726562 110.390625 L 98.085938 110.78125 L 98.445312 111.183594 L 98.808594 111.59375 L 99.167969 112.019531 L 99.527344 112.449219 L 99.886719 112.890625 L 100.246094 113.34375 L 100.609375 113.800781 L 100.96875 114.265625 L 101.328125 114.734375 L 101.6875 115.210938 L 102.046875 115.691406 L 102.40625 116.179688 L 102.769531 116.667969 L 103.488281 117.652344 L 104.207031 118.644531 L 104.566406 119.144531 L 104.929688 119.640625 L 105.648438 120.632812 L 106.367188 121.617188 L 106.730469 122.105469 L 107.089844 122.589844 L 107.449219 123.070312 L 107.808594 123.546875 L 108.167969 124.019531 L 108.527344 124.484375 L 108.890625 124.945312 L 109.25 125.402344 L 109.609375 125.851562 L 109.96875 126.292969 L 110.328125 126.730469 L 110.691406 127.160156 L 111.050781 127.582031 L 111.410156 127.992188 L 111.769531 128.398438 L 112.128906 128.796875 L 112.488281 129.1875 L 112.851562 129.566406 L 113.210938 129.941406 L 113.570312 130.304688 L 113.929688 130.660156 L 114.289062 131.007812 L 114.652344 131.34375 L 115.011719 131.671875 L 115.371094 131.992188 L 115.730469 132.304688 L 116.089844 132.605469 L 116.449219 132.898438 L 116.8125 133.183594 L 117.171875 133.460938 L 117.53125 133.726562 L 117.890625 133.984375 L 118.25 134.234375 L 118.613281 134.476562 L 118.972656 134.710938 L 119.332031 134.933594 L 119.691406 135.152344 L 120.050781 135.359375 L 120.410156 135.5625 L 120.773438 135.753906 L 121.132812 135.941406 L 121.492188 136.121094 L 121.851562 136.292969 L 122.210938 136.457031 L 122.570312 136.613281 L 122.933594 136.765625 L 123.292969 136.910156 L 123.652344 137.046875 L 124.011719 137.179688 L 124.371094 137.304688 L 124.734375 137.425781 L 125.09375 137.539062 L 125.453125 137.648438 L 125.8125 137.753906 L 126.53125 137.949219 L 126.894531 138.039062 L 127.613281 138.203125 L 127.972656 138.28125 L 128.332031 138.351562 L 128.695312 138.421875 L 129.054688 138.488281 L 129.773438 138.605469 L 130.492188 138.714844 L 130.855469 138.761719 L 131.214844 138.808594 L 131.933594 138.894531 L 132.292969 138.933594 L 132.65625 138.96875 L 133.015625 139.003906 L 133.734375 139.066406 L 134.453125 139.121094 L 134.816406 139.144531 L 135.175781 139.167969 L 135.535156 139.1875 L 135.894531 139.210938 L 136.253906 139.226562 L 136.617188 139.246094 L 137.695312 139.292969 L 138.414062 139.316406 L 138.777344 139.328125 L 139.496094 139.351562 L 140.574219 139.375 L 140.9375 139.382812 L 141.296875 139.390625 L 141.65625 139.394531 L 142.015625 139.402344 L 142.375 139.40625 L 142.738281 139.410156 L 143.097656 139.417969 L 144.175781 139.429688 L 144.535156 139.429688 L 144.898438 139.433594 L 145.617188 139.441406 L 145.976562 139.441406 L 146.335938 139.445312 L 146.699219 139.445312 L 147.058594 139.449219 L 147.417969 139.449219 L 147.777344 139.453125 L 148.496094 139.453125 L 148.859375 139.457031 L 150.296875 139.457031 L 150.660156 139.460938 L 152.457031 139.460938 L 152.820312 139.464844 L 250.398438 139.464844 \"/>\n",
       "<path style=\"fill:none;stroke-width:1;stroke-linecap:round;stroke-linejoin:round;stroke:rgb(100%,0%,0%);stroke-opacity:1;stroke-miterlimit:10;\" d=\"M 64.53125 64.664062 L 75.519531 64.664062 \"/>\n",
       "<path style=\"fill:none;stroke-width:1;stroke-linecap:round;stroke-linejoin:round;stroke:rgb(0%,80.392157%,0%);stroke-opacity:1;stroke-dasharray:4,4;stroke-miterlimit:10;\" d=\"M 64.53125 67.257812 L 75.519531 67.257812 \"/>\n",
       "<g style=\"fill:rgb(0%,0%,0%);fill-opacity:1;\">\n",
       "  <use xlink:href=\"#glyph0-1\" x=\"81.011719\" y=\"69.351562\"/>\n",
       "</g>\n",
       "<g style=\"fill:rgb(0%,0%,0%);fill-opacity:1;\">\n",
       "  <use xlink:href=\"#glyph0-3\" x=\"81.011719\" y=\"71.945312\"/>\n",
       "</g>\n",
       "</g>\n",
       "</svg>\n"
      ]
     },
     "metadata": {
      "image/svg+xml": {
       "isolated": true
      }
     },
     "output_type": "display_data"
    },
    {
     "name": "stdout",
     "output_type": "stream",
     "text": [
      "[1] \"Accuracy=0.43%\"\n"
     ]
    },
    {
     "data": {
      "image/jpeg": "[encoded data removed]",
      "image/png": "",
      "image/svg+xml": [
       "<?xml version=\"1.0\" encoding=\"UTF-8\"?>\n",
       "<svg xmlns=\"http://www.w3.org/2000/svg\" xmlns:xlink=\"http://www.w3.org/1999/xlink\" width=\"288pt\" height=\"216pt\" viewBox=\"0 0 288 216\" version=\"1.1\">\n",
       "<defs>\n",
       "<g>\n",
       "<symbol overflow=\"visible\" id=\"glyph0-0\">\n",
       "<path style=\"stroke:none;\" d=\"\"/>\n",
       "</symbol>\n",
       "<symbol overflow=\"visible\" id=\"glyph0-1\">\n",
       "<path style=\"stroke:none;\" d=\"M 6.46875 -4.390625 C 6.46875 -7.46875 5.359375 -9.125 3.4375 -9.125 C 1.53125 -9.125 0.40625 -7.4375 0.40625 -4.46875 C 0.40625 -1.46875 1.53125 0.1875 3.4375 0.1875 C 5.3125 0.1875 6.46875 -1.46875 6.46875 -4.390625 Z M 5.078125 -4.484375 C 5.078125 -1.96875 4.640625 -0.984375 3.40625 -0.984375 C 2.25 -0.984375 1.78125 -2.03125 1.78125 -4.453125 C 1.78125 -6.875 2.25 -7.890625 3.4375 -7.890625 C 4.625 -7.890625 5.078125 -6.859375 5.078125 -4.484375 Z M 5.078125 -4.484375 \"/>\n",
       "</symbol>\n",
       "<symbol overflow=\"visible\" id=\"glyph0-2\">\n",
       "<path style=\"stroke:none;\" d=\"M 2.515625 -0.125 L 2.515625 -1.5625 L 0.953125 -1.5625 L 0.953125 0 L 2.515625 0 Z M 2.515625 -0.125 \"/>\n",
       "</symbol>\n",
       "<symbol overflow=\"visible\" id=\"glyph0-3\">\n",
       "<path style=\"stroke:none;\" d=\"M 6.484375 -4.765625 C 6.484375 -7.53125 5.40625 -9.125 3.375 -9.125 C 1.6875 -9.125 0.34375 -7.78125 0.34375 -6.046875 C 0.34375 -4.40625 1.59375 -3.15625 3.203125 -3.15625 C 4.03125 -3.15625 4.734375 -3.5 5.3125 -4.1875 L 5.09375 -4.28125 C 5.078125 -2.109375 4.515625 -1.046875 3.25 -1.046875 C 2.46875 -1.046875 2.0625 -1.40625 1.859375 -2.390625 L 0.5 -2.390625 C 0.734375 -0.796875 1.828125 0.1875 3.171875 0.1875 C 5.25 0.1875 6.484375 -1.703125 6.484375 -4.765625 Z M 5.03125 -6.078125 C 5.03125 -4.984375 4.40625 -4.40625 3.328125 -4.40625 C 2.265625 -4.40625 1.71875 -4.953125 1.71875 -6.140625 C 1.71875 -7.265625 2.34375 -7.90625 3.359375 -7.90625 C 4.390625 -7.90625 5.03125 -7.21875 5.03125 -6.078125 Z M 5.03125 -6.078125 \"/>\n",
       "</symbol>\n",
       "<symbol overflow=\"visible\" id=\"glyph0-4\">\n",
       "<path style=\"stroke:none;\" d=\"M 4.46875 -0.125 L 4.46875 -9.125 L 3.515625 -9.125 C 3.09375 -7.625 2.96875 -7.578125 1.140625 -7.34375 L 1.140625 -6.3125 L 3.09375 -6.3125 L 3.09375 0 L 4.46875 0 Z M 4.46875 -0.125 \"/>\n",
       "</symbol>\n",
       "<symbol overflow=\"visible\" id=\"glyph0-5\">\n",
       "<path style=\"stroke:none;\" d=\"M 6.3125 -0.125 L 6.3125 -9.375 L 5.015625 -9.375 L 5.015625 -5.84375 L 5.234375 -5.9375 C 4.796875 -6.59375 4.015625 -7 3.140625 -7 C 1.4375 -7 0.1875 -5.546875 0.1875 -3.46875 C 0.1875 -1.25 1.40625 0.1875 3.171875 0.1875 C 4.078125 0.1875 4.78125 -0.1875 5.34375 -1 L 5.125 -1.09375 L 5.125 0 L 6.3125 0 Z M 5.015625 -3.375 C 5.015625 -1.859375 4.421875 -1.046875 3.328125 -1.046875 C 2.171875 -1.046875 1.53125 -1.875 1.53125 -3.40625 C 1.53125 -4.921875 2.171875 -5.765625 3.3125 -5.765625 C 4.4375 -5.765625 5.015625 -4.890625 5.015625 -3.375 Z M 5.015625 -3.375 \"/>\n",
       "</symbol>\n",
       "<symbol overflow=\"visible\" id=\"glyph0-6\">\n",
       "<path style=\"stroke:none;\" d=\"M 6.53125 -3.09375 C 6.53125 -4.046875 6.46875 -4.65625 6.28125 -5.140625 C 5.84375 -6.21875 4.71875 -7 3.5 -7 C 1.671875 -7 0.359375 -5.515625 0.359375 -3.359375 C 0.359375 -1.21875 1.640625 0.1875 3.46875 0.1875 C 4.96875 0.1875 6.140625 -0.78125 6.421875 -2.25 L 5.125 -2.25 C 4.796875 -1.25 4.34375 -1.03125 3.515625 -1.03125 C 2.421875 -1.03125 1.734375 -1.59375 1.71875 -2.96875 L 6.53125 -2.96875 Z M 5.390625 -3.9375 C 5.390625 -3.9375 5.203125 -4.0625 5.21875 -4.09375 L 1.75 -4.09375 C 1.828125 -5.109375 2.4375 -5.78125 3.484375 -5.78125 C 4.515625 -5.78125 5.15625 -5.046875 5.15625 -4.03125 Z M 5.390625 -3.9375 \"/>\n",
       "</symbol>\n",
       "<symbol overflow=\"visible\" id=\"glyph0-7\">\n",
       "<path style=\"stroke:none;\" d=\"M 6.21875 -0.125 L 6.21875 -5.078125 C 6.21875 -6.15625 5.28125 -7 4.015625 -7 C 3.03125 -7 2.3125 -6.578125 1.734375 -5.65625 L 1.96875 -5.578125 L 1.96875 -6.8125 L 0.734375 -6.8125 L 0.734375 0 L 2.03125 0 L 2.03125 -3.734375 C 2.03125 -5.078125 2.640625 -5.828125 3.703125 -5.828125 C 4.53125 -5.828125 4.90625 -5.453125 4.90625 -4.65625 L 4.90625 0 L 6.21875 0 Z M 6.21875 -0.125 \"/>\n",
       "</symbol>\n",
       "<symbol overflow=\"visible\" id=\"glyph0-8\">\n",
       "<path style=\"stroke:none;\" d=\"M 5.859375 -1.96875 C 5.859375 -2.9375 5.1875 -3.5625 3.890625 -3.875 L 2.890625 -4.109375 C 2.03125 -4.3125 1.796875 -4.453125 1.796875 -4.90625 C 1.796875 -5.515625 2.21875 -5.78125 3.0625 -5.78125 C 3.90625 -5.78125 4.21875 -5.53125 4.234375 -4.71875 L 5.59375 -4.71875 C 5.59375 -6.140625 4.609375 -7 3.09375 -7 C 1.578125 -7 0.453125 -6.078125 0.453125 -4.859375 C 0.453125 -3.84375 1.109375 -3.21875 2.65625 -2.84375 L 3.640625 -2.609375 C 4.359375 -2.4375 4.515625 -2.34375 4.515625 -1.875 C 4.515625 -1.265625 4.03125 -1.03125 3.125 -1.03125 C 2.1875 -1.03125 1.78125 -1.125 1.640625 -2.265625 L 0.28125 -2.265625 C 0.34375 -0.609375 1.328125 0.1875 3.03125 0.1875 C 4.6875 0.1875 5.859375 -0.703125 5.859375 -1.96875 Z M 5.859375 -1.96875 \"/>\n",
       "</symbol>\n",
       "<symbol overflow=\"visible\" id=\"glyph0-9\">\n",
       "<path style=\"stroke:none;\" d=\"M 2.03125 -0.125 L 2.03125 -6.8125 L 0.734375 -6.8125 L 0.734375 0 L 2.03125 0 Z M 2.171875 -7.65625 L 2.171875 -9.09375 L 0.609375 -9.09375 L 0.609375 -7.53125 L 2.171875 -7.53125 Z M 2.171875 -7.65625 \"/>\n",
       "</symbol>\n",
       "<symbol overflow=\"visible\" id=\"glyph0-10\">\n",
       "<path style=\"stroke:none;\" d=\"M 3.296875 -0.125 L 3.296875 -1.171875 C 3.03125 -1.09375 2.875 -1.09375 2.671875 -1.09375 C 2.21875 -1.09375 2.21875 -1.078125 2.21875 -1.53125 L 2.21875 -5.703125 L 3.296875 -5.703125 L 3.296875 -6.8125 L 2.21875 -6.8125 L 2.21875 -8.609375 L 0.921875 -8.609375 L 0.921875 -6.8125 L 0.03125 -6.8125 L 0.03125 -5.703125 L 0.921875 -5.703125 L 0.921875 -1.078125 C 0.921875 -0.40625 1.515625 0.09375 2.328125 0.09375 C 2.578125 0.09375 2.828125 0.0625 3.296875 -0.015625 Z M 3.296875 -0.125 \"/>\n",
       "</symbol>\n",
       "<symbol overflow=\"visible\" id=\"glyph0-11\">\n",
       "<path style=\"stroke:none;\" d=\"M 5.96875 -6.8125 L 4.765625 -6.8125 L 2.90625 -1.578125 L 3.15625 -1.578125 L 1.453125 -6.8125 L 0.0625 -6.8125 L 2.328125 -0.09375 L 1.921875 0.9375 C 1.75 1.40625 1.671875 1.4375 1.21875 1.4375 C 1.078125 1.4375 0.90625 1.40625 0.53125 1.34375 L 0.53125 2.515625 C 0.78125 2.640625 1.09375 2.71875 1.375 2.71875 C 2.109375 2.71875 2.84375 2.1875 3.1875 1.25 L 6.15625 -6.8125 Z M 5.96875 -6.8125 \"/>\n",
       "</symbol>\n",
       "<symbol overflow=\"visible\" id=\"glyph1-0\">\n",
       "<path style=\"stroke:none;\" d=\"\"/>\n",
       "</symbol>\n",
       "<symbol overflow=\"visible\" id=\"glyph1-1\">\n",
       "<path style=\"stroke:none;\" d=\"M -4.390625 -6.46875 C -7.46875 -6.46875 -9.125 -5.359375 -9.125 -3.4375 C -9.125 -1.53125 -7.4375 -0.40625 -4.46875 -0.40625 C -1.46875 -0.40625 0.1875 -1.53125 0.1875 -3.4375 C 0.1875 -5.3125 -1.46875 -6.46875 -4.390625 -6.46875 Z M -4.484375 -5.078125 C -1.96875 -5.078125 -0.984375 -4.640625 -0.984375 -3.40625 C -0.984375 -2.25 -2.03125 -1.78125 -4.453125 -1.78125 C -6.875 -1.78125 -7.890625 -2.25 -7.890625 -3.4375 C -7.890625 -4.625 -6.859375 -5.078125 -4.484375 -5.078125 Z M -4.484375 -5.078125 \"/>\n",
       "</symbol>\n",
       "<symbol overflow=\"visible\" id=\"glyph1-2\">\n",
       "<path style=\"stroke:none;\" d=\"M -0.125 -4.46875 L -9.125 -4.46875 L -9.125 -3.515625 C -7.625 -3.09375 -7.578125 -2.96875 -7.34375 -1.140625 L -6.3125 -1.140625 L -6.3125 -3.09375 L 0 -3.09375 L 0 -4.46875 Z M -0.125 -4.46875 \"/>\n",
       "</symbol>\n",
       "<symbol overflow=\"visible\" id=\"glyph1-3\">\n",
       "<path style=\"stroke:none;\" d=\"M -6.390625 -6.515625 C -7.890625 -6.515625 -9.125 -5.21875 -9.125 -3.546875 C -9.125 -1.734375 -8.0625 -0.546875 -5.78125 -0.484375 L -5.78125 -1.84375 C -7.40625 -1.9375 -7.90625 -2.421875 -7.90625 -3.515625 C -7.90625 -4.515625 -7.3125 -5.125 -6.359375 -5.125 C -5.65625 -5.125 -5.15625 -4.75 -4.703125 -3.96875 L -4.046875 -2.8125 C -3 -0.96875 -2.078125 -0.390625 0 -0.28125 L 0 -6.453125 L -1.34375 -6.453125 L -1.34375 -1.8125 C -1.9375 -1.90625 -2.3125 -2.265625 -2.953125 -3.34375 L -3.625 -4.59375 C -4.28125 -5.84375 -5.296875 -6.515625 -6.390625 -6.515625 Z M -6.390625 -6.515625 \"/>\n",
       "</symbol>\n",
       "<symbol overflow=\"visible\" id=\"glyph1-4\">\n",
       "<path style=\"stroke:none;\" d=\"M -4.6875 -8.46875 C -7.515625 -8.46875 -9.375 -6.9375 -9.375 -4.625 L -9.375 -0.96875 L 0 -0.96875 L 0 -4.625 C 0 -6.921875 -1.84375 -8.46875 -4.6875 -8.46875 Z M -4.671875 -7.03125 C -2.375 -7.03125 -1.28125 -6.21875 -1.28125 -4.421875 L -1.28125 -2.40625 L -8.09375 -2.40625 L -8.09375 -4.421875 C -8.09375 -6.21875 -7 -7.03125 -4.671875 -7.03125 Z M -4.671875 -7.03125 \"/>\n",
       "</symbol>\n",
       "<symbol overflow=\"visible\" id=\"glyph1-5\">\n",
       "<path style=\"stroke:none;\" d=\"M -3.09375 -6.53125 C -4.046875 -6.53125 -4.65625 -6.46875 -5.140625 -6.28125 C -6.21875 -5.84375 -7 -4.71875 -7 -3.5 C -7 -1.671875 -5.515625 -0.359375 -3.359375 -0.359375 C -1.21875 -0.359375 0.1875 -1.640625 0.1875 -3.46875 C 0.1875 -4.96875 -0.78125 -6.140625 -2.25 -6.421875 L -2.25 -5.125 C -1.25 -4.796875 -1.03125 -4.34375 -1.03125 -3.515625 C -1.03125 -2.421875 -1.59375 -1.734375 -2.96875 -1.71875 L -2.96875 -6.53125 Z M -3.9375 -5.390625 C -3.9375 -5.390625 -4.0625 -5.203125 -4.09375 -5.21875 L -4.09375 -1.75 C -5.109375 -1.828125 -5.78125 -2.4375 -5.78125 -3.484375 C -5.78125 -4.515625 -5.046875 -5.15625 -4.03125 -5.15625 Z M -3.9375 -5.390625 \"/>\n",
       "</symbol>\n",
       "<symbol overflow=\"visible\" id=\"glyph1-6\">\n",
       "<path style=\"stroke:none;\" d=\"M -0.125 -6.21875 L -5.078125 -6.21875 C -6.15625 -6.21875 -7 -5.28125 -7 -4.015625 C -7 -3.03125 -6.578125 -2.3125 -5.65625 -1.734375 L -5.578125 -1.96875 L -6.8125 -1.96875 L -6.8125 -0.734375 L 0 -0.734375 L 0 -2.03125 L -3.734375 -2.03125 C -5.078125 -2.03125 -5.828125 -2.640625 -5.828125 -3.703125 C -5.828125 -4.53125 -5.453125 -4.90625 -4.65625 -4.90625 L 0 -4.90625 L 0 -6.21875 Z M -0.125 -6.21875 \"/>\n",
       "</symbol>\n",
       "<symbol overflow=\"visible\" id=\"glyph1-7\">\n",
       "<path style=\"stroke:none;\" d=\"M -1.96875 -5.859375 C -2.9375 -5.859375 -3.5625 -5.1875 -3.875 -3.890625 L -4.109375 -2.890625 C -4.3125 -2.03125 -4.453125 -1.796875 -4.90625 -1.796875 C -5.515625 -1.796875 -5.78125 -2.21875 -5.78125 -3.0625 C -5.78125 -3.90625 -5.53125 -4.21875 -4.71875 -4.234375 L -4.71875 -5.59375 C -6.140625 -5.59375 -7 -4.609375 -7 -3.09375 C -7 -1.578125 -6.078125 -0.453125 -4.859375 -0.453125 C -3.84375 -0.453125 -3.21875 -1.109375 -2.84375 -2.65625 L -2.609375 -3.640625 C -2.4375 -4.359375 -2.34375 -4.515625 -1.875 -4.515625 C -1.265625 -4.515625 -1.03125 -4.03125 -1.03125 -3.125 C -1.03125 -2.1875 -1.125 -1.78125 -2.265625 -1.640625 L -2.265625 -0.28125 C -0.609375 -0.34375 0.1875 -1.328125 0.1875 -3.03125 C 0.1875 -4.6875 -0.703125 -5.859375 -1.96875 -5.859375 Z M -1.96875 -5.859375 \"/>\n",
       "</symbol>\n",
       "<symbol overflow=\"visible\" id=\"glyph1-8\">\n",
       "<path style=\"stroke:none;\" d=\"M -0.125 -2.03125 L -6.8125 -2.03125 L -6.8125 -0.734375 L 0 -0.734375 L 0 -2.03125 Z M -7.65625 -2.171875 L -9.09375 -2.171875 L -9.09375 -0.609375 L -7.53125 -0.609375 L -7.53125 -2.171875 Z M -7.65625 -2.171875 \"/>\n",
       "</symbol>\n",
       "<symbol overflow=\"visible\" id=\"glyph1-9\">\n",
       "<path style=\"stroke:none;\" d=\"M -0.125 -3.296875 L -1.171875 -3.296875 C -1.09375 -3.03125 -1.09375 -2.875 -1.09375 -2.671875 C -1.09375 -2.21875 -1.078125 -2.21875 -1.53125 -2.21875 L -5.703125 -2.21875 L -5.703125 -3.296875 L -6.8125 -3.296875 L -6.8125 -2.21875 L -8.609375 -2.21875 L -8.609375 -0.921875 L -6.8125 -0.921875 L -6.8125 -0.03125 L -5.703125 -0.03125 L -5.703125 -0.921875 L -1.078125 -0.921875 C -0.40625 -0.921875 0.09375 -1.515625 0.09375 -2.328125 C 0.09375 -2.578125 0.0625 -2.828125 -0.015625 -3.296875 Z M -0.125 -3.296875 \"/>\n",
       "</symbol>\n",
       "<symbol overflow=\"visible\" id=\"glyph1-10\">\n",
       "<path style=\"stroke:none;\" d=\"M -6.8125 -5.96875 L -6.8125 -4.765625 L -1.578125 -2.90625 L -1.578125 -3.15625 L -6.8125 -1.453125 L -6.8125 -0.0625 L -0.09375 -2.328125 L 0.9375 -1.921875 C 1.40625 -1.75 1.4375 -1.671875 1.4375 -1.21875 C 1.4375 -1.078125 1.40625 -0.90625 1.34375 -0.53125 L 2.515625 -0.53125 C 2.640625 -0.78125 2.71875 -1.09375 2.71875 -1.375 C 2.71875 -2.109375 2.1875 -2.84375 1.25 -3.1875 L -6.8125 -6.15625 Z M -6.8125 -5.96875 \"/>\n",
       "</symbol>\n",
       "</g>\n",
       "</defs>\n",
       "<g id=\"surface796\">\n",
       "<rect x=\"0\" y=\"0\" width=\"288\" height=\"216\" style=\"fill:rgb(100%,100%,100%);fill-opacity:1;stroke:none;\"/>\n",
       "<path style=\"fill:none;stroke-width:1;stroke-linecap:round;stroke-linejoin:round;stroke:rgb(100%,0%,0%);stroke-opacity:1;stroke-miterlimit:10;\" d=\"M 66.398438 136.316406 L 66.761719 136.199219 L 67.121094 136.078125 L 67.480469 135.953125 L 68.199219 135.695312 L 68.558594 135.558594 L 68.921875 135.421875 L 69.640625 135.132812 L 70 134.980469 L 70.359375 134.824219 L 70.722656 134.667969 L 71.082031 134.503906 L 71.441406 134.335938 L 71.800781 134.164062 L 72.519531 133.804688 L 72.882812 133.621094 L 73.242188 133.429688 L 73.601562 133.234375 L 73.960938 133.035156 L 74.320312 132.828125 L 74.683594 132.621094 L 75.042969 132.40625 L 75.402344 132.1875 L 75.761719 131.960938 L 76.121094 131.730469 L 76.480469 131.496094 L 76.84375 131.257812 L 77.203125 131.011719 L 77.5625 130.761719 L 77.921875 130.507812 L 78.28125 130.246094 L 78.644531 129.980469 L 79.003906 129.710938 L 79.363281 129.433594 L 79.722656 129.152344 L 80.082031 128.863281 L 80.441406 128.570312 L 80.804688 128.273438 L 81.164062 127.96875 L 81.523438 127.660156 L 81.882812 127.347656 L 82.242188 127.027344 L 82.605469 126.703125 L 82.964844 126.371094 L 83.324219 126.035156 L 83.683594 125.695312 L 84.042969 125.347656 L 84.402344 124.996094 L 84.765625 124.640625 L 85.125 124.28125 L 85.484375 123.914062 L 85.84375 123.542969 L 86.203125 123.164062 L 86.5625 122.78125 L 86.925781 122.394531 L 87.285156 122.003906 L 87.644531 121.609375 L 88.363281 120.804688 L 88.726562 120.394531 L 89.085938 119.980469 L 89.445312 119.5625 L 89.804688 119.140625 L 90.164062 118.714844 L 90.523438 118.285156 L 90.886719 117.851562 L 91.605469 116.976562 L 92.324219 116.085938 L 92.6875 115.632812 L 93.046875 115.183594 L 93.765625 114.269531 L 94.484375 113.347656 L 94.847656 112.882812 L 95.207031 112.417969 L 96.285156 111.011719 L 96.648438 110.542969 L 98.445312 108.179688 L 98.808594 107.710938 L 99.167969 107.238281 L 100.246094 105.832031 L 100.609375 105.367188 L 100.96875 104.902344 L 101.6875 103.980469 L 102.046875 103.523438 L 102.40625 103.070312 L 102.769531 102.617188 L 103.488281 101.726562 L 103.847656 101.285156 L 104.566406 100.417969 L 104.929688 99.992188 L 105.289062 99.570312 L 105.648438 99.152344 L 106.007812 98.742188 L 106.367188 98.335938 L 106.730469 97.9375 L 107.089844 97.542969 L 107.449219 97.15625 L 107.808594 96.777344 L 108.167969 96.402344 L 108.527344 96.035156 L 108.890625 95.675781 L 109.25 95.324219 L 109.609375 94.984375 L 109.96875 94.648438 L 110.328125 94.320312 L 110.691406 94.003906 L 111.050781 93.691406 L 111.410156 93.390625 L 111.769531 93.101562 L 112.128906 92.820312 L 112.488281 92.546875 L 112.851562 92.285156 L 113.210938 92.03125 L 113.570312 91.789062 L 113.929688 91.558594 L 114.289062 91.335938 L 114.652344 91.125 L 115.011719 90.921875 L 115.371094 90.734375 L 115.730469 90.554688 L 116.089844 90.386719 L 116.449219 90.230469 L 116.8125 90.085938 L 117.171875 89.953125 L 117.53125 89.832031 L 117.890625 89.722656 L 118.25 89.625 L 118.613281 89.539062 L 118.972656 89.464844 L 119.332031 89.398438 L 119.691406 89.351562 L 120.050781 89.3125 L 120.410156 89.285156 L 120.773438 89.269531 L 121.132812 89.269531 L 121.492188 89.277344 L 121.851562 89.300781 L 122.210938 89.332031 L 122.570312 89.378906 L 122.933594 89.4375 L 123.292969 89.507812 L 123.652344 89.585938 L 124.011719 89.679688 L 124.371094 89.785156 L 124.734375 89.902344 L 125.09375 90.03125 L 125.453125 90.171875 L 125.8125 90.324219 L 126.171875 90.484375 L 126.53125 90.660156 L 126.894531 90.84375 L 127.253906 91.042969 L 127.613281 91.25 L 127.972656 91.464844 L 128.332031 91.695312 L 128.695312 91.933594 L 129.054688 92.179688 L 129.414062 92.441406 L 129.773438 92.707031 L 130.132812 92.984375 L 130.492188 93.273438 L 130.855469 93.570312 L 131.214844 93.875 L 131.574219 94.191406 L 131.933594 94.515625 L 132.292969 94.847656 L 132.65625 95.1875 L 133.015625 95.535156 L 133.375 95.890625 L 133.734375 96.253906 L 134.09375 96.625 L 134.453125 97 L 134.816406 97.386719 L 135.175781 97.777344 L 135.535156 98.171875 L 136.253906 98.984375 L 136.617188 99.402344 L 136.976562 99.820312 L 137.335938 100.246094 L 137.695312 100.675781 L 138.054688 101.109375 L 138.414062 101.546875 L 138.777344 101.992188 L 139.136719 102.4375 L 139.496094 102.886719 L 139.855469 103.339844 L 140.574219 104.253906 L 140.9375 104.714844 L 142.015625 106.109375 L 142.375 106.578125 L 142.738281 107.046875 L 143.457031 107.992188 L 143.816406 108.460938 L 144.535156 109.40625 L 144.898438 109.878906 L 145.257812 110.351562 L 145.617188 110.820312 L 145.976562 111.292969 L 146.335938 111.761719 L 146.699219 112.230469 L 147.417969 113.160156 L 148.496094 114.542969 L 148.859375 115 L 149.21875 115.453125 L 149.9375 116.351562 L 150.296875 116.796875 L 150.660156 117.238281 L 151.019531 117.675781 L 151.738281 118.542969 L 152.457031 119.394531 L 152.820312 119.8125 L 153.539062 120.640625 L 153.898438 121.046875 L 154.257812 121.449219 L 154.621094 121.84375 L 154.980469 122.238281 L 155.339844 122.628906 L 155.699219 123.011719 L 156.058594 123.390625 L 156.417969 123.761719 L 156.78125 124.132812 L 157.140625 124.496094 L 157.5 124.855469 L 157.859375 125.207031 L 158.21875 125.554688 L 158.578125 125.898438 L 158.941406 126.238281 L 159.300781 126.570312 L 160.019531 127.21875 L 160.378906 127.535156 L 160.742188 127.84375 L 161.101562 128.152344 L 161.460938 128.453125 L 161.820312 128.746094 L 162.179688 129.035156 L 162.539062 129.320312 L 162.902344 129.597656 L 163.261719 129.871094 L 163.621094 130.140625 L 163.980469 130.402344 L 164.339844 130.660156 L 164.703125 130.914062 L 165.0625 131.160156 L 165.421875 131.402344 L 166.140625 131.871094 L 166.5 132.097656 L 166.863281 132.316406 L 167.222656 132.535156 L 167.582031 132.746094 L 167.941406 132.953125 L 168.300781 133.152344 L 168.664062 133.351562 L 169.023438 133.542969 L 169.382812 133.730469 L 169.742188 133.914062 L 170.101562 134.09375 L 170.460938 134.265625 L 170.824219 134.4375 L 171.183594 134.601562 L 171.542969 134.761719 L 171.902344 134.917969 L 172.261719 135.070312 L 172.625 135.21875 L 172.984375 135.363281 L 173.34375 135.503906 L 173.703125 135.640625 L 174.0625 135.773438 L 174.421875 135.902344 L 174.785156 136.027344 L 175.503906 136.269531 L 175.863281 136.382812 L 176.582031 136.601562 L 176.945312 136.707031 L 177.304688 136.808594 L 177.664062 136.90625 L 178.382812 137.09375 L 178.746094 137.183594 L 179.464844 137.355469 L 180.542969 137.589844 L 180.90625 137.664062 L 181.265625 137.734375 L 182.34375 137.933594 L 182.707031 137.996094 L 183.425781 138.113281 L 183.785156 138.167969 L 184.144531 138.21875 L 184.503906 138.273438 L 184.867188 138.320312 L 185.226562 138.371094 L 185.585938 138.414062 L 185.945312 138.460938 L 186.304688 138.503906 L 186.667969 138.542969 L 187.027344 138.585938 L 187.386719 138.621094 L 187.746094 138.660156 L 188.105469 138.695312 L 188.464844 138.726562 L 188.828125 138.761719 L 189.546875 138.824219 L 190.265625 138.878906 L 190.628906 138.90625 L 190.988281 138.929688 L 191.347656 138.957031 L 191.707031 138.980469 L 192.066406 139 L 192.425781 139.023438 L 192.789062 139.042969 L 193.867188 139.101562 L 194.226562 139.117188 L 194.585938 139.136719 L 194.949219 139.152344 L 195.308594 139.167969 L 195.667969 139.179688 L 196.027344 139.195312 L 196.386719 139.207031 L 196.75 139.222656 L 197.46875 139.246094 L 197.828125 139.253906 L 198.546875 139.277344 L 198.910156 139.285156 L 199.269531 139.296875 L 200.347656 139.320312 L 200.710938 139.328125 L 201.429688 139.34375 L 201.789062 139.347656 L 202.148438 139.355469 L 202.507812 139.359375 L 202.871094 139.367188 L 203.589844 139.375 L 203.949219 139.382812 L 204.308594 139.386719 L 204.671875 139.390625 L 206.46875 139.410156 L 206.832031 139.414062 L 207.191406 139.414062 L 207.910156 139.421875 L 208.269531 139.421875 L 208.632812 139.425781 L 208.992188 139.429688 L 209.351562 139.429688 L 209.710938 139.433594 L 210.070312 139.433594 L 210.429688 139.4375 L 210.792969 139.4375 L 211.152344 139.441406 L 211.871094 139.441406 L 212.230469 139.445312 L 212.953125 139.445312 L 213.3125 139.449219 L 214.03125 139.449219 L 214.390625 139.453125 L 215.832031 139.453125 L 216.191406 139.457031 L 217.992188 139.457031 L 218.351562 139.460938 L 221.953125 139.460938 L 222.3125 139.464844 L 250.398438 139.464844 \"/>\n",
       "<path style=\"fill:none;stroke-width:1;stroke-linecap:round;stroke-linejoin:round;stroke:rgb(0%,0%,0%);stroke-opacity:1;stroke-miterlimit:10;\" d=\"M 89.191406 142.558594 L 248.019531 142.558594 \"/>\n",
       "<path style=\"fill:none;stroke-width:1;stroke-linecap:round;stroke-linejoin:round;stroke:rgb(0%,0%,0%);stroke-opacity:1;stroke-miterlimit:10;\" d=\"M 89.191406 142.558594 L 89.191406 149.761719 \"/>\n",
       "<path style=\"fill:none;stroke-width:1;stroke-linecap:round;stroke-linejoin:round;stroke:rgb(0%,0%,0%);stroke-opacity:1;stroke-miterlimit:10;\" d=\"M 128.898438 142.558594 L 128.898438 149.761719 \"/>\n",
       "<path style=\"fill:none;stroke-width:1;stroke-linecap:round;stroke-linejoin:round;stroke:rgb(0%,0%,0%);stroke-opacity:1;stroke-miterlimit:10;\" d=\"M 168.605469 142.558594 L 168.605469 149.761719 \"/>\n",
       "<path style=\"fill:none;stroke-width:1;stroke-linecap:round;stroke-linejoin:round;stroke:rgb(0%,0%,0%);stroke-opacity:1;stroke-miterlimit:10;\" d=\"M 208.3125 142.558594 L 208.3125 149.761719 \"/>\n",
       "<path style=\"fill:none;stroke-width:1;stroke-linecap:round;stroke-linejoin:round;stroke:rgb(0%,0%,0%);stroke-opacity:1;stroke-miterlimit:10;\" d=\"M 248.019531 142.558594 L 248.019531 149.761719 \"/>\n",
       "<g style=\"fill:rgb(0%,0%,0%);fill-opacity:1;\">\n",
       "  <use xlink:href=\"#glyph0-1\" x=\"73.554688\" y=\"169.921875\"/>\n",
       "  <use xlink:href=\"#glyph0-2\" x=\"80.504715\" y=\"169.921875\"/>\n",
       "  <use xlink:href=\"#glyph0-3\" x=\"83.979721\" y=\"169.921875\"/>\n",
       "  <use xlink:href=\"#glyph0-3\" x=\"90.929749\" y=\"169.921875\"/>\n",
       "  <use xlink:href=\"#glyph0-1\" x=\"97.879776\" y=\"169.921875\"/>\n",
       "</g>\n",
       "<g style=\"fill:rgb(0%,0%,0%);fill-opacity:1;\">\n",
       "  <use xlink:href=\"#glyph0-4\" x=\"152.96875\" y=\"169.921875\"/>\n",
       "  <use xlink:href=\"#glyph0-2\" x=\"159.918777\" y=\"169.921875\"/>\n",
       "  <use xlink:href=\"#glyph0-1\" x=\"163.393784\" y=\"169.921875\"/>\n",
       "  <use xlink:href=\"#glyph0-1\" x=\"170.343811\" y=\"169.921875\"/>\n",
       "  <use xlink:href=\"#glyph0-1\" x=\"177.293839\" y=\"169.921875\"/>\n",
       "</g>\n",
       "<g style=\"fill:rgb(0%,0%,0%);fill-opacity:1;\">\n",
       "  <use xlink:href=\"#glyph0-4\" x=\"232.382812\" y=\"169.921875\"/>\n",
       "  <use xlink:href=\"#glyph0-2\" x=\"239.33284\" y=\"169.921875\"/>\n",
       "  <use xlink:href=\"#glyph0-1\" x=\"242.807846\" y=\"169.921875\"/>\n",
       "  <use xlink:href=\"#glyph0-4\" x=\"249.757874\" y=\"169.921875\"/>\n",
       "  <use xlink:href=\"#glyph0-1\" x=\"256.707901\" y=\"169.921875\"/>\n",
       "</g>\n",
       "<path style=\"fill:none;stroke-width:1;stroke-linecap:round;stroke-linejoin:round;stroke:rgb(0%,0%,0%);stroke-opacity:1;stroke-miterlimit:10;\" d=\"M 59.039062 139.464844 L 59.039062 65.890625 \"/>\n",
       "<path style=\"fill:none;stroke-width:1;stroke-linecap:round;stroke-linejoin:round;stroke:rgb(0%,0%,0%);stroke-opacity:1;stroke-miterlimit:10;\" d=\"M 59.039062 139.464844 L 51.839844 139.464844 \"/>\n",
       "<path style=\"fill:none;stroke-width:1;stroke-linecap:round;stroke-linejoin:round;stroke:rgb(0%,0%,0%);stroke-opacity:1;stroke-miterlimit:10;\" d=\"M 59.039062 121.074219 L 51.839844 121.074219 \"/>\n",
       "<path style=\"fill:none;stroke-width:1;stroke-linecap:round;stroke-linejoin:round;stroke:rgb(0%,0%,0%);stroke-opacity:1;stroke-miterlimit:10;\" d=\"M 59.039062 102.679688 L 51.839844 102.679688 \"/>\n",
       "<path style=\"fill:none;stroke-width:1;stroke-linecap:round;stroke-linejoin:round;stroke:rgb(0%,0%,0%);stroke-opacity:1;stroke-miterlimit:10;\" d=\"M 59.039062 84.285156 L 51.839844 84.285156 \"/>\n",
       "<path style=\"fill:none;stroke-width:1;stroke-linecap:round;stroke-linejoin:round;stroke:rgb(0%,0%,0%);stroke-opacity:1;stroke-miterlimit:10;\" d=\"M 59.039062 65.890625 L 51.839844 65.890625 \"/>\n",
       "<g style=\"fill:rgb(0%,0%,0%);fill-opacity:1;\">\n",
       "  <use xlink:href=\"#glyph1-1\" x=\"43.199219\" y=\"142.941406\"/>\n",
       "</g>\n",
       "<g style=\"fill:rgb(0%,0%,0%);fill-opacity:1;\">\n",
       "  <use xlink:href=\"#glyph1-2\" x=\"43.199219\" y=\"113.105469\"/>\n",
       "  <use xlink:href=\"#glyph1-1\" x=\"43.199219\" y=\"106.155441\"/>\n",
       "  <use xlink:href=\"#glyph1-1\" x=\"43.199219\" y=\"99.205414\"/>\n",
       "</g>\n",
       "<g style=\"fill:rgb(0%,0%,0%);fill-opacity:1;\">\n",
       "  <use xlink:href=\"#glyph1-3\" x=\"43.199219\" y=\"76.316406\"/>\n",
       "  <use xlink:href=\"#glyph1-1\" x=\"43.199219\" y=\"69.366379\"/>\n",
       "  <use xlink:href=\"#glyph1-1\" x=\"43.199219\" y=\"62.416351\"/>\n",
       "</g>\n",
       "<path style=\"fill:none;stroke-width:1;stroke-linecap:round;stroke-linejoin:round;stroke:rgb(0%,0%,0%);stroke-opacity:1;stroke-miterlimit:10;\" d=\"M 59.039062 142.558594 L 257.761719 142.558594 L 257.761719 59.039062 L 59.039062 59.039062 L 59.039062 142.558594 \"/>\n",
       "<g style=\"fill:rgb(0%,0%,0%);fill-opacity:1;\">\n",
       "  <use xlink:href=\"#glyph0-5\" x=\"138.597656\" y=\"198.71875\"/>\n",
       "  <use xlink:href=\"#glyph0-6\" x=\"145.547684\" y=\"198.71875\"/>\n",
       "  <use xlink:href=\"#glyph0-7\" x=\"152.497711\" y=\"198.71875\"/>\n",
       "  <use xlink:href=\"#glyph0-8\" x=\"159.447739\" y=\"198.71875\"/>\n",
       "  <use xlink:href=\"#glyph0-9\" x=\"165.697769\" y=\"198.71875\"/>\n",
       "  <use xlink:href=\"#glyph0-10\" x=\"168.472778\" y=\"198.71875\"/>\n",
       "  <use xlink:href=\"#glyph0-11\" x=\"171.947784\" y=\"198.71875\"/>\n",
       "</g>\n",
       "<g style=\"fill:rgb(0%,0%,0%);fill-opacity:1;\">\n",
       "  <use xlink:href=\"#glyph1-4\" x=\"14.398438\" y=\"121.636719\"/>\n",
       "  <use xlink:href=\"#glyph1-5\" x=\"14.398438\" y=\"112.611679\"/>\n",
       "  <use xlink:href=\"#glyph1-6\" x=\"14.398438\" y=\"105.661652\"/>\n",
       "  <use xlink:href=\"#glyph1-7\" x=\"14.398438\" y=\"98.711624\"/>\n",
       "  <use xlink:href=\"#glyph1-8\" x=\"14.398438\" y=\"92.461594\"/>\n",
       "  <use xlink:href=\"#glyph1-9\" x=\"14.398438\" y=\"89.686584\"/>\n",
       "  <use xlink:href=\"#glyph1-10\" x=\"14.398438\" y=\"86.211578\"/>\n",
       "</g>\n",
       "<path style=\"fill:none;stroke-width:1;stroke-linecap:round;stroke-linejoin:round;stroke:rgb(0%,80.392157%,0%);stroke-opacity:1;stroke-dasharray:4,4;stroke-miterlimit:10;\" d=\"M 66.398438 139.464844 L 75.761719 139.464844 L 76.121094 139.460938 L 78.28125 139.460938 L 78.644531 139.457031 L 79.722656 139.457031 L 80.082031 139.453125 L 80.804688 139.453125 L 81.164062 139.449219 L 81.523438 139.449219 L 81.882812 139.445312 L 82.242188 139.445312 L 82.605469 139.441406 L 82.964844 139.441406 L 84.402344 139.425781 L 84.765625 139.421875 L 85.84375 139.410156 L 86.203125 139.402344 L 86.5625 139.398438 L 86.925781 139.390625 L 87.285156 139.386719 L 87.644531 139.378906 L 88.003906 139.367188 L 88.363281 139.359375 L 88.726562 139.351562 L 90.164062 139.304688 L 90.523438 139.289062 L 90.886719 139.273438 L 91.246094 139.257812 L 92.324219 139.199219 L 92.6875 139.175781 L 93.40625 139.128906 L 93.765625 139.101562 L 94.484375 139.039062 L 94.847656 139.003906 L 95.207031 138.96875 L 95.566406 138.929688 L 96.285156 138.84375 L 96.648438 138.792969 L 97.007812 138.742188 L 97.367188 138.6875 L 97.726562 138.628906 L 98.085938 138.566406 L 98.445312 138.5 L 98.808594 138.429688 L 99.167969 138.355469 L 99.527344 138.277344 L 99.886719 138.191406 L 100.246094 138.101562 L 100.609375 138.007812 L 100.96875 137.90625 L 101.328125 137.796875 L 101.6875 137.683594 L 102.046875 137.5625 L 102.40625 137.4375 L 102.769531 137.300781 L 103.128906 137.160156 L 103.488281 137.007812 L 103.847656 136.851562 L 104.207031 136.683594 L 104.566406 136.507812 L 104.929688 136.324219 L 105.289062 136.128906 L 105.648438 135.921875 L 106.007812 135.707031 L 106.367188 135.480469 L 106.730469 135.242188 L 107.089844 134.992188 L 107.449219 134.734375 L 107.808594 134.460938 L 108.167969 134.171875 L 108.527344 133.875 L 108.890625 133.558594 L 109.25 133.234375 L 109.609375 132.890625 L 109.96875 132.535156 L 110.328125 132.164062 L 110.691406 131.777344 L 111.050781 131.375 L 111.410156 130.957031 L 111.769531 130.519531 L 112.128906 130.066406 L 112.488281 129.597656 L 112.851562 129.109375 L 113.210938 128.605469 L 113.570312 128.082031 L 113.929688 127.539062 L 114.289062 126.980469 L 114.652344 126.398438 L 115.011719 125.800781 L 115.371094 125.183594 L 115.730469 124.546875 L 116.089844 123.890625 L 116.449219 123.214844 L 116.8125 122.519531 L 117.171875 121.804688 L 117.53125 121.070312 L 117.890625 120.3125 L 118.25 119.539062 L 118.613281 118.746094 L 118.972656 117.933594 L 119.332031 117.101562 L 119.691406 116.25 L 120.050781 115.378906 L 120.410156 114.492188 L 120.773438 113.585938 L 121.132812 112.660156 L 121.492188 111.722656 L 121.851562 110.765625 L 122.210938 109.789062 L 122.570312 108.800781 L 122.933594 107.796875 L 123.292969 106.78125 L 123.652344 105.746094 L 124.011719 104.703125 L 124.371094 103.648438 L 124.734375 102.582031 L 125.09375 101.503906 L 125.453125 100.417969 L 125.8125 99.320312 L 126.171875 98.21875 L 126.53125 97.113281 L 126.894531 96 L 127.613281 93.765625 L 128.332031 91.523438 L 128.695312 90.402344 L 129.414062 88.175781 L 129.773438 87.066406 L 130.132812 85.964844 L 130.492188 84.871094 L 130.855469 83.789062 L 131.214844 82.714844 L 131.574219 81.65625 L 131.933594 80.609375 L 132.292969 79.578125 L 132.65625 78.5625 L 133.015625 77.566406 L 133.375 76.589844 L 133.734375 75.632812 L 134.09375 74.703125 L 134.453125 73.792969 L 134.816406 72.90625 L 135.175781 72.050781 L 135.535156 71.21875 L 135.894531 70.417969 L 136.253906 69.648438 L 136.617188 68.910156 L 136.976562 68.207031 L 137.335938 67.535156 L 137.695312 66.898438 L 138.054688 66.296875 L 138.414062 65.734375 L 138.777344 65.210938 L 139.136719 64.722656 L 139.496094 64.277344 L 139.855469 63.871094 L 140.214844 63.507812 L 140.574219 63.183594 L 140.9375 62.90625 L 141.296875 62.667969 L 141.65625 62.472656 L 142.015625 62.320312 L 142.375 62.214844 L 142.738281 62.152344 L 143.097656 62.132812 L 143.457031 62.160156 L 143.816406 62.226562 L 144.175781 62.339844 L 144.535156 62.5 L 144.898438 62.699219 L 145.257812 62.941406 L 145.617188 63.230469 L 145.976562 63.558594 L 146.335938 63.929688 L 146.699219 64.339844 L 147.058594 64.792969 L 147.417969 65.285156 L 147.777344 65.816406 L 148.136719 66.382812 L 148.496094 66.988281 L 148.859375 67.628906 L 149.21875 68.308594 L 149.578125 69.015625 L 149.9375 69.761719 L 150.296875 70.535156 L 150.660156 71.339844 L 151.019531 72.171875 L 151.378906 73.035156 L 151.738281 73.921875 L 152.097656 74.835938 L 152.457031 75.773438 L 152.820312 76.730469 L 153.179688 77.710938 L 153.539062 78.710938 L 153.898438 79.726562 L 154.257812 80.761719 L 154.621094 81.808594 L 154.980469 82.871094 L 155.339844 83.945312 L 155.699219 85.03125 L 156.058594 86.125 L 156.417969 87.226562 L 156.78125 88.335938 L 157.140625 89.449219 L 157.5 90.566406 L 158.21875 92.808594 L 158.578125 93.925781 L 158.941406 95.046875 L 159.300781 96.164062 L 160.019531 98.382812 L 160.378906 99.480469 L 160.742188 100.574219 L 161.101562 101.660156 L 161.460938 102.738281 L 161.820312 103.800781 L 162.179688 104.855469 L 162.539062 105.898438 L 162.902344 106.929688 L 163.261719 107.945312 L 163.621094 108.945312 L 163.980469 109.933594 L 164.339844 110.90625 L 164.703125 111.859375 L 165.0625 112.796875 L 165.421875 113.71875 L 165.78125 114.621094 L 166.140625 115.507812 L 166.5 116.375 L 166.863281 117.222656 L 167.222656 118.054688 L 167.582031 118.863281 L 167.941406 119.652344 L 168.300781 120.425781 L 168.664062 121.175781 L 169.023438 121.910156 L 169.382812 122.621094 L 169.742188 123.316406 L 170.101562 123.988281 L 170.460938 124.640625 L 170.824219 125.277344 L 171.183594 125.890625 L 171.542969 126.484375 L 171.902344 127.0625 L 172.261719 127.621094 L 172.625 128.160156 L 172.984375 128.679688 L 173.34375 129.183594 L 173.703125 129.667969 L 174.0625 130.132812 L 174.421875 130.585938 L 174.785156 131.015625 L 175.144531 131.433594 L 175.503906 131.835938 L 175.863281 132.21875 L 176.222656 132.589844 L 176.582031 132.941406 L 176.945312 133.28125 L 177.304688 133.605469 L 177.664062 133.917969 L 178.023438 134.214844 L 178.382812 134.5 L 178.746094 134.773438 L 179.105469 135.03125 L 179.464844 135.277344 L 179.824219 135.515625 L 180.183594 135.738281 L 180.542969 135.953125 L 180.90625 136.15625 L 181.265625 136.351562 L 181.625 136.535156 L 181.984375 136.710938 L 182.34375 136.875 L 182.707031 137.03125 L 183.066406 137.179688 L 183.425781 137.320312 L 183.785156 137.457031 L 184.144531 137.582031 L 184.503906 137.699219 L 184.867188 137.8125 L 185.226562 137.921875 L 185.585938 138.019531 L 185.945312 138.113281 L 186.304688 138.203125 L 186.667969 138.289062 L 187.027344 138.367188 L 187.386719 138.441406 L 187.746094 138.511719 L 188.105469 138.578125 L 188.464844 138.636719 L 188.828125 138.695312 L 189.1875 138.75 L 189.546875 138.800781 L 190.265625 138.894531 L 190.628906 138.933594 L 190.988281 138.972656 L 191.707031 139.042969 L 192.425781 139.105469 L 192.789062 139.132812 L 193.867188 139.203125 L 194.585938 139.242188 L 194.949219 139.261719 L 195.667969 139.292969 L 196.027344 139.304688 L 196.386719 139.320312 L 196.75 139.332031 L 197.109375 139.339844 L 197.828125 139.363281 L 198.546875 139.378906 L 198.910156 139.386719 L 199.269531 139.394531 L 199.628906 139.398438 L 199.988281 139.40625 L 200.347656 139.410156 L 200.710938 139.414062 L 202.507812 139.433594 L 202.871094 139.4375 L 203.230469 139.441406 L 203.589844 139.441406 L 203.949219 139.445312 L 204.308594 139.445312 L 204.671875 139.449219 L 205.03125 139.449219 L 205.390625 139.453125 L 206.109375 139.453125 L 206.46875 139.457031 L 207.550781 139.457031 L 207.910156 139.460938 L 210.070312 139.460938 L 210.429688 139.464844 L 250.398438 139.464844 \"/>\n",
       "<path style=\"fill:none;stroke-width:1;stroke-linecap:round;stroke-linejoin:round;stroke:rgb(100%,0%,0%);stroke-opacity:1;stroke-miterlimit:10;\" d=\"M 64.53125 64.664062 L 75.519531 64.664062 \"/>\n",
       "<path style=\"fill:none;stroke-width:1;stroke-linecap:round;stroke-linejoin:round;stroke:rgb(0%,80.392157%,0%);stroke-opacity:1;stroke-dasharray:4,4;stroke-miterlimit:10;\" d=\"M 64.53125 67.257812 L 75.519531 67.257812 \"/>\n",
       "<g style=\"fill:rgb(0%,0%,0%);fill-opacity:1;\">\n",
       "  <use xlink:href=\"#glyph0-1\" x=\"81.011719\" y=\"69.351562\"/>\n",
       "</g>\n",
       "<g style=\"fill:rgb(0%,0%,0%);fill-opacity:1;\">\n",
       "  <use xlink:href=\"#glyph0-4\" x=\"81.011719\" y=\"71.945312\"/>\n",
       "</g>\n",
       "</g>\n",
       "</svg>\n"
      ]
     },
     "metadata": {
      "image/svg+xml": {
       "isolated": true
      }
     },
     "output_type": "display_data"
    }
   ],
   "source": [
    "    df = data\n",
    "    plot = TRUE\n",
    "\n",
    "    # split into test and training sets\n",
    "    nrows <- nrow(df)\n",
    "    smp_size <- floor(0.75 * nrows)\n",
    "\n",
    "    set.seed(8720885)\n",
    "    train_ind <- sample(seq_len(nrows), size = smp_size)\n",
    "    \n",
    "    train <- df[train_ind, ]\n",
    "    test <- df[-train_ind, ]\n",
    "    \n",
    "    # create the Naive Bayes Classifer (nbc)\n",
    "    nbc <- naive_bayes(Class ~ ., data = train)\n",
    "    \n",
    "    if (plot) {\n",
    "        plot(nbc)\n",
    "    }\n",
    "    # Make a prediction & test accuracy\n",
    "    test_pred <- predict(nbc, test,type = \"prob\")\n",
    "    \n",
    "    ### junky debug stuff\n",
    "    # print(head (test_pred))\n",
    "    ### junky debug stuff\n",
    "    accuracy <- sum(test[,\"Class\"]==test_pred)/length(test_pred)\n",
    "    print(paste(\"Accuracy=\", round(accuracy*100,2), \"%\", sep=\"\"))\n",
    "\n",
    "    # try to do the AUC\n",
    "    # print(paste(\"AUC=\", auc(test_pred, df$Class)))\n",
    "    # as.numeric(performance(ROCRpred, \"auc\")@y.values)\n"
   ]
  },
  {
   "cell_type": "code",
   "execution_count": null,
   "metadata": {},
   "outputs": [],
   "source": [
    "Maybe try [this instead](http://blog.revolutionanalytics.com/2016/11/calculating-auc.html)"
   ]
  },
  {
   "cell_type": "code",
   "execution_count": null,
   "metadata": {},
   "outputs": [],
   "source": [
    "Maybe try [this instead](https://www.r-bloggers.com/illustrated-guide-to-roc-and-auc/)"
   ]
  },
  {
   "cell_type": "code",
   "execution_count": null,
   "metadata": {},
   "outputs": [],
   "source": []
  },
  {
   "cell_type": "code",
   "execution_count": null,
   "metadata": {},
   "outputs": [],
   "source": []
  },
  {
   "cell_type": "code",
   "execution_count": null,
   "metadata": {},
   "outputs": [],
   "source": []
  },
  {
   "cell_type": "code",
   "execution_count": null,
   "metadata": {},
   "outputs": [],
   "source": []
  },
  {
   "cell_type": "code",
   "execution_count": null,
   "metadata": {},
   "outputs": [],
   "source": []
  },
  {
   "cell_type": "code",
   "execution_count": 52,
   "metadata": {},
   "outputs": [
    {
     "data": {
      "text/html": [
       "<table>\n",
       "<thead><tr><th scope=col>White</th><th scope=col>Red</th></tr></thead>\n",
       "<tbody>\n",
       "\t<tr><td>6.104496e-05</td><td>0.9999390   </td></tr>\n",
       "\t<tr><td>1.136686e-03</td><td>0.9988633   </td></tr>\n",
       "\t<tr><td>8.027409e-04</td><td>0.9991973   </td></tr>\n",
       "</tbody>\n",
       "</table>\n"
      ],
      "text/latex": [
       "\\begin{tabular}{ll}\n",
       " White & Red\\\\\n",
       "\\hline\n",
       "\t 6.104496e-05 & 0.9999390   \\\\\n",
       "\t 1.136686e-03 & 0.9988633   \\\\\n",
       "\t 8.027409e-04 & 0.9991973   \\\\\n",
       "\\end{tabular}\n"
      ],
      "text/markdown": [
       "\n",
       "White | Red | \n",
       "|---|---|---|\n",
       "| 6.104496e-05 | 0.9999390    | \n",
       "| 1.136686e-03 | 0.9988633    | \n",
       "| 8.027409e-04 | 0.9991973    | \n",
       "\n",
       "\n"
      ],
      "text/plain": [
       "     White        Red      \n",
       "[1,] 6.104496e-05 0.9999390\n",
       "[2,] 1.136686e-03 0.9988633\n",
       "[3,] 8.027409e-04 0.9991973"
      ]
     },
     "metadata": {},
     "output_type": "display_data"
    },
    {
     "data": {
      "text/html": [
       "<ol class=list-inline>\n",
       "\t<li>6.10449608116933e-05</li>\n",
       "\t<li>0.00113668585477178</li>\n",
       "\t<li>0.000802740941877499</li>\n",
       "</ol>\n"
      ],
      "text/latex": [
       "\\begin{enumerate*}\n",
       "\\item 6.10449608116933e-05\n",
       "\\item 0.00113668585477178\n",
       "\\item 0.000802740941877499\n",
       "\\end{enumerate*}\n"
      ],
      "text/markdown": [
       "1. 6.10449608116933e-05\n",
       "2. 0.00113668585477178\n",
       "3. 0.000802740941877499\n",
       "\n",
       "\n"
      ],
      "text/plain": [
       "[1] 6.104496e-05 1.136686e-03 8.027409e-04"
      ]
     },
     "metadata": {},
     "output_type": "display_data"
    },
    {
     "data": {
      "text/html": [
       "<ol class=list-inline>\n",
       "\t<li>0.999938955039188</li>\n",
       "\t<li>0.998863314145228</li>\n",
       "\t<li>0.999197259058123</li>\n",
       "</ol>\n"
      ],
      "text/latex": [
       "\\begin{enumerate*}\n",
       "\\item 0.999938955039188\n",
       "\\item 0.998863314145228\n",
       "\\item 0.999197259058123\n",
       "\\end{enumerate*}\n"
      ],
      "text/markdown": [
       "1. 0.999938955039188\n",
       "2. 0.998863314145228\n",
       "3. 0.999197259058123\n",
       "\n",
       "\n"
      ],
      "text/plain": [
       "[1] 0.9999390 0.9988633 0.9991973"
      ]
     },
     "metadata": {},
     "output_type": "display_data"
    }
   ],
   "source": [
    "colnames(test_pred) <- c(\"White\", \"Red\")\n",
    "head(test_pred, 3)\n",
    "head(test_pred[,'White'], 3)\n",
    "head(test_pred[,'Red'], 3)\n"
   ]
  },
  {
   "cell_type": "code",
   "execution_count": 53,
   "metadata": {},
   "outputs": [
    {
     "data": {
      "text/html": [
       "<ol class=list-inline>\n",
       "\t<li>0</li>\n",
       "\t<li>0</li>\n",
       "\t<li>0</li>\n",
       "</ol>\n"
      ],
      "text/latex": [
       "\\begin{enumerate*}\n",
       "\\item 0\n",
       "\\item 0\n",
       "\\item 0\n",
       "\\end{enumerate*}\n"
      ],
      "text/markdown": [
       "1. 0\n",
       "2. 0\n",
       "3. 0\n",
       "\n",
       "\n"
      ],
      "text/plain": [
       "[1] 0 0 0"
      ]
     },
     "metadata": {},
     "output_type": "display_data"
    },
    {
     "data": {
      "text/html": [
       "<ol class=list-inline>\n",
       "\t<li>1</li>\n",
       "\t<li>1</li>\n",
       "\t<li>1</li>\n",
       "</ol>\n"
      ],
      "text/latex": [
       "\\begin{enumerate*}\n",
       "\\item 1\n",
       "\\item 1\n",
       "\\item 1\n",
       "\\end{enumerate*}\n"
      ],
      "text/markdown": [
       "1. 1\n",
       "2. 1\n",
       "3. 1\n",
       "\n",
       "\n"
      ],
      "text/plain": [
       "[1] 1 1 1"
      ]
     },
     "metadata": {},
     "output_type": "display_data"
    }
   ],
   "source": [
    "\n",
    "whitevec <- ifelse(test_pred[,'White'] > test_pred[,'Red'] , 1, 0)\n",
    "redvec   <- ifelse(test_pred[,'Red'] > test_pred[,'White'] , 1, 0)\n",
    "head(whitevec, 3)\n",
    "head(redvec, 3)\n",
    "\n",
    "\n",
    "\n",
    "predvec <- ifelse(pred==\"Lost\", 1, 0)\n",
    "realvec <- ifelse(realResults==\"Lost\", 1, 0)\n",
    "pr <- prediction(predvec, realvec)\n"
   ]
  },
  {
   "cell_type": "markdown",
   "metadata": {},
   "source": [
    "From [Cross Validated StackExchange](https://stats.stackexchange.com/) article on [R - Plotting a ROC curve for a Naive Bayes classifier using ROCR. Not sure if I'm plotting it correctly\n",
    "](https://stats.stackexchange.com/questions/191805/r-plotting-a-roc-curve-for-a-naive-bayes-classifier-using-rocr-not-sure-if-i?utm_medium=organic&utm_source=google_rich_qa&utm_campaign=google_rich_qa)"
   ]
  },
  {
   "cell_type": "code",
   "execution_count": null,
   "metadata": {},
   "outputs": [],
   "source": [
    "library (ROCR)"
   ]
  },
  {
   "cell_type": "code",
   "execution_count": 33,
   "metadata": {},
   "outputs": [
    {
     "ename": "ERROR",
     "evalue": "Error in t.default(attributes(test_pred)$prob): argument is not a matrix\n",
     "output_type": "error",
     "traceback": [
      "Error in t.default(attributes(test_pred)$prob): argument is not a matrix\nTraceback:\n",
      "1. data.frame(t(attributes(test_pred)$prob))",
      "2. t(attributes(test_pred)$prob)",
      "3. t.default(attributes(test_pred)$prob)"
     ]
    }
   ],
   "source": [
    "#BUILD THE NAIVE MODEL\n",
    "# naive = naive.bayes(trainingdata, \"Status\")\n",
    "#fitted = bn.fit(nbc, train, method=\"bayes\", iss=1)\n",
    "\n",
    "##RUN PREDICTION AND GET PROBABILITIES\n",
    "# pred = predict(fitted, testdata, prob=TRUE)\n",
    "results_prob = data.frame(t(attributes(test_pred)$prob))\n",
    "head(test_pred)\n",
    "#x <- cbind(pred, results_prob)\n",
    "# head(x)"
   ]
  },
  {
   "cell_type": "code",
   "execution_count": null,
   "metadata": {},
   "outputs": [],
   "source": [
    "Maybe try [this instead]()"
   ]
  },
  {
   "cell_type": "markdown",
   "metadata": {},
   "source": [
    "## Run some Tests"
   ]
  },
  {
   "cell_type": "markdown",
   "metadata": {},
   "source": [
    "## Run some Tests"
   ]
  },
  {
   "cell_type": "markdown",
   "metadata": {},
   "source": [
    "## Run some Tests"
   ]
  },
  {
   "cell_type": "code",
   "execution_count": null,
   "metadata": {},
   "outputs": [],
   "source": []
  },
  {
   "cell_type": "code",
   "execution_count": null,
   "metadata": {},
   "outputs": [],
   "source": []
  },
  {
   "cell_type": "code",
   "execution_count": null,
   "metadata": {},
   "outputs": [],
   "source": []
  },
  {
   "cell_type": "markdown",
   "metadata": {},
   "source": [
    "## Assume the cheapest solution is a single sensor.  Try all the single-feature options."
   ]
  },
  {
   "cell_type": "code",
   "execution_count": null,
   "metadata": {},
   "outputs": [],
   "source": [
    "test_nbc_accuracy(select(data, fixed.acidity, Class))\n",
    "test_nbc_accuracy(select(data, volatile.acidity, Class))\n",
    "test_nbc_accuracy(select(data, citric.acid, Class))\n",
    "test_nbc_accuracy(select(data, residual.sugar, Class))\n",
    "test_nbc_accuracy(select(data, chlorides, Class))\n",
    "test_nbc_accuracy(select(data, density, Class))"
   ]
  },
  {
   "cell_type": "markdown",
   "metadata": {},
   "source": [
    "## Run some Tests"
   ]
  },
  {
   "cell_type": "markdown",
   "metadata": {},
   "source": [
    "Yeah, that didn't work; but it was a quick test, and would have led to a cheaper product if it did.  Was still worth a shot."
   ]
  },
  {
   "cell_type": "markdown",
   "metadata": {},
   "source": [
    "## Do some plots"
   ]
  },
  {
   "cell_type": "code",
   "execution_count": null,
   "metadata": {
    "scrolled": false
   },
   "outputs": [],
   "source": [
    "test_nbc_accuracy(data, plot=TRUE)"
   ]
  },
  {
   "cell_type": "code",
   "execution_count": null,
   "metadata": {},
   "outputs": [],
   "source": []
  },
  {
   "cell_type": "code",
   "execution_count": null,
   "metadata": {},
   "outputs": [],
   "source": []
  },
  {
   "cell_type": "code",
   "execution_count": null,
   "metadata": {},
   "outputs": [],
   "source": [
    "# Try Dropping chlorides, since it's the opposite of residual sugar"
   ]
  },
  {
   "cell_type": "code",
   "execution_count": null,
   "metadata": {},
   "outputs": [],
   "source": [
    "test_data = select(data, -chlorides)\n",
    "head(test_data)"
   ]
  },
  {
   "cell_type": "code",
   "execution_count": null,
   "metadata": {},
   "outputs": [],
   "source": [
    "test_nbc_accuracy(test_data)"
   ]
  },
  {
   "cell_type": "code",
   "execution_count": null,
   "metadata": {},
   "outputs": [],
   "source": [
    "# Try Dropping Volatile acidity"
   ]
  },
  {
   "cell_type": "code",
   "execution_count": null,
   "metadata": {},
   "outputs": [],
   "source": [
    "test_data = select(test_data, -volatile.acidity)\n",
    "head(test_data)"
   ]
  },
  {
   "cell_type": "code",
   "execution_count": null,
   "metadata": {},
   "outputs": [],
   "source": [
    "test_nbc_accuracy(test_data)\n",
    "test_nbc_accuracy(data)\n",
    "test_nbc_accuracy(all_data)\n",
    "test_nbc_accuracy(select(all_data, -quality))"
   ]
  },
  {
   "cell_type": "code",
   "execution_count": null,
   "metadata": {},
   "outputs": [],
   "source": [
    "\n",
    "\n",
    "auc(test_data$, test_data$Class)"
   ]
  },
  {
   "cell_type": "markdown",
   "metadata": {},
   "source": [
    "# ====================< JUNK >====================="
   ]
  },
  {
   "cell_type": "markdown",
   "metadata": {},
   "source": [
    "# Create a Naive Bayes Model, Try a Prediction"
   ]
  },
  {
   "cell_type": "code",
   "execution_count": null,
   "metadata": {},
   "outputs": [],
   "source": [
    "nrows <- nrow(data)\n",
    "smp_size <- floor(0.75 * nrows)\n",
    "\n",
    "## set the seed to make your partition reproductible\n",
    "set.seed(8720885)\n",
    "train_ind <- sample(seq_len(nrows), size = smp_size)"
   ]
  },
  {
   "cell_type": "code",
   "execution_count": null,
   "metadata": {},
   "outputs": [],
   "source": [
    "train <- data[train_ind, ]\n",
    "test <- data[-train_ind, ]"
   ]
  },
  {
   "cell_type": "code",
   "execution_count": null,
   "metadata": {
    "scrolled": false
   },
   "outputs": [],
   "source": [
    "options(repr.plot.width=4, repr.plot.height=4)\n",
    "plot(nbc)"
   ]
  },
  {
   "cell_type": "code",
   "execution_count": null,
   "metadata": {
    "scrolled": false
   },
   "outputs": [],
   "source": [
    "install.packages(\"naivebayes\")\n",
    "library(naivebayes)\n",
    "nbc <- naive_bayes(Class ~ ., data = train)\n",
    "plot(nbc)"
   ]
  },
  {
   "cell_type": "code",
   "execution_count": null,
   "metadata": {},
   "outputs": [],
   "source": [
    "# Predict the test data\n",
    "test_pred <- predict(nbc, test,type = \"prob\")\n",
    "\n",
    "accuracy <- sum(test[,\"Class\"]==test_pred)/length(test_pred)\n",
    "print(paste(\"Accuracy=\", round(accuracy*100,2), \"%\", sep=\"\"))"
   ]
  },
  {
   "cell_type": "code",
   "execution_count": null,
   "metadata": {},
   "outputs": [],
   "source": []
  },
  {
   "cell_type": "code",
   "execution_count": null,
   "metadata": {},
   "outputs": [],
   "source": []
  },
  {
   "cell_type": "markdown",
   "metadata": {},
   "source": [
    "## Pull out a handy plotting function from last quarter"
   ]
  },
  {
   "cell_type": "code",
   "execution_count": null,
   "metadata": {},
   "outputs": [],
   "source": [
    "require(ggplot2)\n",
    "plot.density = function(df, col, xlabel, title) {\n",
    "    ggplot(df, aes(col)) + \n",
    "          geom_bar() + \n",
    "          xlab(xlabel) + \n",
    "          ggtitle(title) + \n",
    "          theme(plot.title = element_text(hjust = 0.5, size=20, face=\"bold\"),\n",
    "               axis.title.x = element_text(size=15))\n",
    "}"
   ]
  },
  {
   "cell_type": "code",
   "execution_count": null,
   "metadata": {},
   "outputs": [],
   "source": [
    "options(repr.plot.width=12, repr.plot.height=4)\n",
    "plot.density(data, data$Class, \"1 = Red?, 2 = White?\", \"Wine Color\")"
   ]
  },
  {
   "cell_type": "markdown",
   "metadata": {},
   "source": [
    "## Try some Fancy Matrix Plotting"
   ]
  },
  {
   "cell_type": "code",
   "execution_count": null,
   "metadata": {},
   "outputs": [],
   "source": [
    "require(GGally)\n",
    "\n",
    "plot.matrix = function(df, cols){\n",
    "    options(repr.plot.width=8, repr.plot.height=8)\n",
    "    ggpairs(data=df,\n",
    "            columns=cols,\n",
    "            upper = list(continuous = \"density\"),\n",
    "            lower = list(continuous = \"density\"),\n",
    "            cardinality_threshold = 130)\n",
    "}"
   ]
  },
  {
   "cell_type": "code",
   "execution_count": null,
   "metadata": {},
   "outputs": [],
   "source": [
    "plot.matrix(data, c(1:6,7))"
   ]
  },
  {
   "cell_type": "code",
   "execution_count": null,
   "metadata": {},
   "outputs": [],
   "source": [
    "prediction = predict(nbc, test, type= \"prob\")\n",
    "head(prediction)"
   ]
  },
  {
   "cell_type": "code",
   "execution_count": null,
   "metadata": {},
   "outputs": [],
   "source": []
  }
 ],
 "metadata": {
  "kernelspec": {
   "display_name": "R",
   "language": "R",
   "name": "r"
  },
  "language_info": {
   "codemirror_mode": "r",
   "file_extension": ".r",
   "mimetype": "text/x-r-source",
   "name": "R",
   "pygments_lexer": "r",
   "version": "3.4.1"
  }
 },
 "nbformat": 4,
 "nbformat_minor": 2
}

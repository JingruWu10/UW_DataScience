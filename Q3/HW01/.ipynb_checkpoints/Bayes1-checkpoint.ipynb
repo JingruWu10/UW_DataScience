{
 "cells": [
  {
   "cell_type": "code",
   "execution_count": 1,
   "metadata": {},
   "outputs": [
    {
     "data": {
      "text/html": [
       "<table>\n",
       "<thead><tr><th scope=col>outlook</th><th scope=col>temp</th><th scope=col>humidity</th><th scope=col>windy</th><th scope=col>play</th></tr></thead>\n",
       "<tbody>\n",
       "\t<tr><td>sunny   </td><td>hot     </td><td>high    </td><td>FALSE   </td><td>no      </td></tr>\n",
       "\t<tr><td>sunny   </td><td>hot     </td><td>high    </td><td> TRUE   </td><td>no      </td></tr>\n",
       "\t<tr><td>overcast</td><td>hot     </td><td>high    </td><td>FALSE   </td><td>yes     </td></tr>\n",
       "\t<tr><td>rainy   </td><td>mild    </td><td>high    </td><td>FALSE   </td><td>yes     </td></tr>\n",
       "\t<tr><td>rainy   </td><td>cool    </td><td>normal  </td><td>FALSE   </td><td>yes     </td></tr>\n",
       "\t<tr><td>rainy   </td><td>cool    </td><td>normal  </td><td> TRUE   </td><td>no      </td></tr>\n",
       "</tbody>\n",
       "</table>\n"
      ],
      "text/latex": [
       "\\begin{tabular}{r|lllll}\n",
       " outlook & temp & humidity & windy & play\\\\\n",
       "\\hline\n",
       "\t sunny    & hot      & high     & FALSE    & no      \\\\\n",
       "\t sunny    & hot      & high     &  TRUE    & no      \\\\\n",
       "\t overcast & hot      & high     & FALSE    & yes     \\\\\n",
       "\t rainy    & mild     & high     & FALSE    & yes     \\\\\n",
       "\t rainy    & cool     & normal   & FALSE    & yes     \\\\\n",
       "\t rainy    & cool     & normal   &  TRUE    & no      \\\\\n",
       "\\end{tabular}\n"
      ],
      "text/markdown": [
       "\n",
       "outlook | temp | humidity | windy | play | \n",
       "|---|---|---|---|---|---|\n",
       "| sunny    | hot      | high     | FALSE    | no       | \n",
       "| sunny    | hot      | high     |  TRUE    | no       | \n",
       "| overcast | hot      | high     | FALSE    | yes      | \n",
       "| rainy    | mild     | high     | FALSE    | yes      | \n",
       "| rainy    | cool     | normal   | FALSE    | yes      | \n",
       "| rainy    | cool     | normal   |  TRUE    | no       | \n",
       "\n",
       "\n"
      ],
      "text/plain": [
       "  outlook  temp humidity windy play\n",
       "1 sunny    hot  high     FALSE no  \n",
       "2 sunny    hot  high      TRUE no  \n",
       "3 overcast hot  high     FALSE yes \n",
       "4 rainy    mild high     FALSE yes \n",
       "5 rainy    cool normal   FALSE yes \n",
       "6 rainy    cool normal    TRUE no  "
      ]
     },
     "metadata": {},
     "output_type": "display_data"
    }
   ],
   "source": [
    "file <- \"./tennis.csv\"\n",
    "data <- read.csv(file, header=TRUE, sep=\",\", stringsAsFactors = FALSE)\n",
    "\n",
    "# If the target column, say column class, is numerical, you need to convert it to factors in R for classification problem\n",
    "# data$class <- factor(data$class)\n",
    "head(data)"
   ]
  },
  {
   "cell_type": "code",
   "execution_count": null,
   "metadata": {
    "collapsed": true
   },
   "outputs": [],
   "source": []
  },
  {
   "cell_type": "code",
   "execution_count": null,
   "metadata": {
    "collapsed": true
   },
   "outputs": [],
   "source": []
  },
  {
   "cell_type": "code",
   "execution_count": null,
   "metadata": {
    "collapsed": true
   },
   "outputs": [],
   "source": []
  },
  {
   "cell_type": "code",
   "execution_count": null,
   "metadata": {
    "collapsed": true
   },
   "outputs": [],
   "source": [
    "\n",
    "\n",
    "# In your homework, you need to split the data into training and testing sets.\n",
    "# smp_size <- floor(0.7 * nrow(data))\n",
    "# set_seed(123)\n",
    "# train_index <- sample(seq_len(nrow(data)), size = smp_size)\n",
    "# train <- data[train_index,]\n",
    "# test <- data[-train_index,]\n",
    "\n",
    "library(naivebayes)\n",
    "nbc <- naive_bayes(play ~ ., data = data)\n",
    "plot(nbc)\n",
    "\n",
    "# In your homework, you need to test your model performance on testing data\n",
    "# test_pred <- predict(nbc, test)\n",
    "# accuracy <- sum(test_pred == test$class)/nrow(test)*100\n",
    "# print(paste(\"Your testing accuracy is \", round(accuracy, 2), \"%\", sep=\"\"))\n",
    "\n",
    "# Test the NBC model on a real case\n",
    "test_data <- data.frame(outlook=\"sunny\", temp=\"cool\", humidity=\"high\", windy=\"TRUE\", stringsAsFactors=FALSE)\n",
    "predict(nbc, test_data)\n",
    "head(predict(nbc, test_data, type = \"prob\"))\n",
    "\n",
    "# NBC with numerical features\n",
    "iris_file <- \"https://archive.ics.uci.edu/ml/machine-learning-databases/iris/iris.data\"\n",
    "iris_data <- read.csv(iris_file, header=FALSE, sep=\",\", stringsAsFactors=FALSE)\n",
    "colnames(iris_data) <- c(\"sepal.length\", \"sepal.width\", \"petal.length\", \n",
    "                         \"petal.width\", \"class\")\n",
    "head(iris_data)\n",
    "nrows <- nrow(iris_data)\n",
    "smp_size <- floor(0.75 * nrows)\n",
    "## set the seed to make your partition reproductible\n",
    "set.seed(123)\n",
    "train_ind <- sample(seq_len(nrows), size = smp_size)\n",
    "\n",
    "train <- iris_data[train_ind, ]\n",
    "test <- iris_data[-train_ind, ]\n",
    "\n",
    "iris_nbc <- naive_bayes(class ~ ., data = train)\n",
    "plot(iris_nbc)\n",
    "\n",
    "iris_test_pred <- predict(iris_nbc, test)\n",
    "accuracy <- sum(iris_test_pred==test[,'class'])/length(iris_test_pred)\n",
    "print(paste(\"Test accuracy =\", round(accuracy*100,2), \"%\", sep=\"\"))"
   ]
  }
 ],
 "metadata": {
  "kernelspec": {
   "display_name": "R",
   "language": "R",
   "name": "ir"
  },
  "language_info": {
   "codemirror_mode": "r",
   "file_extension": ".r",
   "mimetype": "text/x-r-source",
   "name": "R",
   "pygments_lexer": "r",
   "version": "3.2.3"
  }
 },
 "nbformat": 4,
 "nbformat_minor": 2
}

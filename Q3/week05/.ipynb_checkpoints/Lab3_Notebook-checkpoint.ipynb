{
 "cells": [
  {
   "cell_type": "markdown",
   "metadata": {},
   "source": [
    "# Load & Summarize"
   ]
  },
  {
   "cell_type": "code",
   "execution_count": 1,
   "metadata": {
    "collapsed": true
   },
   "outputs": [],
   "source": [
    "data_url <- 'https://archive.ics.uci.edu/ml/machine-learning-databases/adult/adult.data'\n",
    "data <- read.csv(data_url, header=FALSE, sep=\",\")\n",
    "colnames(data) <- c(\"age\", \"workclass\", \"fnlwgt\", \"education\", \"education_num\", \n",
    "                    \"marital_status\", \"occupation\", \"relationship\", \"race\", \"sex\", \n",
    "                    \"capital_gain\", \"capital_loss\", \"hours_per_week\", \"native_country\", \"income\")\n"
   ]
  },
  {
   "cell_type": "code",
   "execution_count": 2,
   "metadata": {},
   "outputs": [
    {
     "name": "stdout",
     "output_type": "stream",
     "text": [
      "[1] 32561    15\n"
     ]
    }
   ],
   "source": [
    "# Print the dimension of the data\n",
    "print(dim(data))"
   ]
  },
  {
   "cell_type": "code",
   "execution_count": 3,
   "metadata": {},
   "outputs": [
    {
     "name": "stdout",
     "output_type": "stream",
     "text": [
      "      age                    workclass         fnlwgt       \n",
      " Min.   :17.00    Private         :22696   Min.   :  12285  \n",
      " 1st Qu.:28.00    Self-emp-not-inc: 2541   1st Qu.: 117827  \n",
      " Median :37.00    Local-gov       : 2093   Median : 178356  \n",
      " Mean   :38.58    ?               : 1836   Mean   : 189778  \n",
      " 3rd Qu.:48.00    State-gov       : 1298   3rd Qu.: 237051  \n",
      " Max.   :90.00    Self-emp-inc    : 1116   Max.   :1484705  \n",
      "                 (Other)          :  981                    \n",
      "         education     education_num                  marital_status \n",
      "  HS-grad     :10501   Min.   : 1.00    Divorced             : 4443  \n",
      "  Some-college: 7291   1st Qu.: 9.00    Married-AF-spouse    :   23  \n",
      "  Bachelors   : 5355   Median :10.00    Married-civ-spouse   :14976  \n",
      "  Masters     : 1723   Mean   :10.08    Married-spouse-absent:  418  \n",
      "  Assoc-voc   : 1382   3rd Qu.:12.00    Never-married        :10683  \n",
      "  11th        : 1175   Max.   :16.00    Separated            : 1025  \n",
      " (Other)      : 5134                    Widowed              :  993  \n",
      "            occupation            relationship                    race      \n",
      "  Prof-specialty :4140    Husband       :13193    Amer-Indian-Eskimo:  311  \n",
      "  Craft-repair   :4099    Not-in-family : 8305    Asian-Pac-Islander: 1039  \n",
      "  Exec-managerial:4066    Other-relative:  981    Black             : 3124  \n",
      "  Adm-clerical   :3770    Own-child     : 5068    Other             :  271  \n",
      "  Sales          :3650    Unmarried     : 3446    White             :27816  \n",
      "  Other-service  :3295    Wife          : 1568                              \n",
      " (Other)         :9541                                                      \n",
      "      sex         capital_gain    capital_loss    hours_per_week \n",
      "  Female:10771   Min.   :    0   Min.   :   0.0   Min.   : 1.00  \n",
      "  Male  :21790   1st Qu.:    0   1st Qu.:   0.0   1st Qu.:40.00  \n",
      "                 Median :    0   Median :   0.0   Median :40.00  \n",
      "                 Mean   : 1078   Mean   :  87.3   Mean   :40.44  \n",
      "                 3rd Qu.:    0   3rd Qu.:   0.0   3rd Qu.:45.00  \n",
      "                 Max.   :99999   Max.   :4356.0   Max.   :99.00  \n",
      "                                                                 \n",
      "        native_country     income     \n",
      "  United-States:29170    <=50K:24720  \n",
      "  Mexico       :  643    >50K : 7841  \n",
      "  ?            :  583                 \n",
      "  Philippines  :  198                 \n",
      "  Germany      :  137                 \n",
      "  Canada       :  121                 \n",
      " (Other)       : 1709                 \n"
     ]
    }
   ],
   "source": [
    "# Print the summary of the data\n",
    "print(summary(data))"
   ]
  },
  {
   "cell_type": "markdown",
   "metadata": {},
   "source": [
    "# Setup Testing & Training DAta"
   ]
  },
  {
   "cell_type": "code",
   "execution_count": 5,
   "metadata": {
    "collapsed": true
   },
   "outputs": [],
   "source": [
    "num_obs = nrow(data)\n",
    "\n",
    "set.seed(98004) \n",
    "\n",
    "index_shuffled <- sample(num_obs)\n",
    "training_ratio <- 0.8\n",
    "training_size <- round(num_obs * training_ratio)\n",
    "training_index <- index_shuffled[1:training_size]\n",
    "testing_index <- index_shuffled[(training_size+1):num_obs]\n",
    "training_data <- data[training_index,]\n",
    "testing_data <- data[testing_index,]"
   ]
  },
  {
   "cell_type": "markdown",
   "metadata": {},
   "source": [
    "# Random Forest"
   ]
  },
  {
   "cell_type": "code",
   "execution_count": null,
   "metadata": {
    "collapsed": true
   },
   "outputs": [],
   "source": []
  },
  {
   "cell_type": "code",
   "execution_count": null,
   "metadata": {
    "collapsed": true
   },
   "outputs": [],
   "source": []
  },
  {
   "cell_type": "code",
   "execution_count": null,
   "metadata": {
    "collapsed": true
   },
   "outputs": [],
   "source": [
    "library(randomForest)\n",
    "library(tictoc)\n",
    "tic()\n",
    "print(\"Start training RF model with 200 trees using 1 core\")\n",
    "rf_model <- randomForest(income ~ ., data = training_data, ntree = 200, mtry = 5, \n",
    "                         nodesize=3, importance=TRUE)\n",
    "print(\"Training 200 trees completed.\")\n",
    "toc()\n",
    "## Show \"importance\" of variables: higher value mean more important (MeanDecreaseAccuracy): \n",
    "print(round(importance(rf_model), 2))\n",
    "\n",
    "# Check the accuracy on testing data\n",
    "pred_test <- predict(rf_model, testing_data, type='response')\n",
    "accuracy <- sum(pred_test==testing_data[,\"income\"])/nrow(testing_data)*100\n",
    "print(paste(\"The accuracy on testing data is \", round(accuracy, 2), \"%\", sep=\"\"))\n",
    "\n",
    "# Check the ROC on testing data\n",
    "pred_test <- predict(rf_model, testing_data, type='prob')\n",
    "library(ROCR)\n",
    "pred <- prediction(pred_test[,2], testing_data[,\"income\"])\n",
    "perf <- performance(pred,\"tpr\",\"fpr\")\n",
    "\n",
    "auc <- performance(pred,\"auc\")\n",
    "plot(perf,col=\"black\",lty=3, lwd=3, main=paste(\"AUC=\", round(unlist(slot(auc, \"y.values\")),4)))\n",
    "\n",
    "###################################\n",
    "# Speed up RF Training by Parallelization\n",
    "###################################\n",
    "library(doSNOW)\n",
    "library(foreach)\n",
    "library(parallel)\n",
    "\n",
    "\n",
    "# Setting number of cores in your machine. \n",
    "num_cores <- detectCores()\n",
    "cl <- makeCluster(num_cores-1)\n",
    "registerDoSNOW(cl)\n",
    "ntrees <- 200\n",
    "\n",
    "tic()\n",
    "print(paste(\"Start training RF model with 200 trees using \", num_cores-1, \" core\", sep=\"\"))\n",
    "\n",
    "rf <- foreach(ntree = rep(round(ntrees/(num_cores-1)), num_cores-1), .combine = combine, .packages = \"randomForest\") %dopar% \n",
    "  randomForest(income~., data=training_data, ntree=ntree, mtry=3, \n",
    "                         importance=TRUE, nodesize=5, do.trace = TRUE)\n",
    "\n",
    "print(\"Training 200 trees completed.\")\n",
    "toc()\n",
    "stopCluster(cl)\n",
    "\n",
    "#####################################\n",
    "# Gradient Boosted Decision Trees\n",
    "#####################################\n",
    "library(gbm)\n",
    "training_data[,15] <- as.character(training_data[,15])\n",
    "testing_data[,15] <- as.character(testing_data[,15])\n",
    "training_data[training_data[,15]==' <=50K', 15] <- 0\n",
    "training_data[training_data[,15]==' >50K', 15] <- 1\n",
    "testing_data[testing_data[,15]==' <=50K', 15] <- 0\n",
    "testing_data[testing_data[,15]==' >50K', 15] <- 1\n",
    "training_data[,15] <- as.numeric(training_data[,15])\n",
    "testing_data[,15] <- as.numeric(testing_data[,15])\n",
    "ntrees <- 250\n",
    "gbm_model <- gbm(formula = income ~ ., distribution =  \"bernoulli\", data = training_data, \n",
    "                 n.trees = ntrees, interaction.depth = 4, n.minobsinnode = 5, shrinkage = 0.01)\n",
    "\n",
    "pred_test <- predict(gbm_model, testing_data, n.trees = ntrees, type='response')\n",
    "pred_test[pred_test > 0.5] <- 1\n",
    "pred_test[pred_test <= 0.5] <- 0\n",
    "accuracy <- sum(pred_test==testing_data[,\"income\"])/nrow(testing_data)*100\n",
    "print(paste(\"The accuracy on testing data is \", round(accuracy, 2), \"%\", sep=\"\"))\n",
    "\n",
    "# Check the ROC on testing data\n",
    "pred_test <- predict(gbm_model, testing_data, n.trees = ntrees, type='response')\n",
    "library(ROCR)\n",
    "pred <- prediction(pred_test, testing_data[,\"income\"])\n",
    "perf <- performance(pred,\"tpr\",\"fpr\")\n",
    "\n",
    "auc <- performance(pred,\"auc\")\n",
    "plot(perf,col=\"black\",lty=3, lwd=3, main=paste(\"AUC=\", round(unlist(slot(auc, \"y.values\")),4)))"
   ]
  }
 ],
 "metadata": {
  "kernelspec": {
   "display_name": "R",
   "language": "R",
   "name": "ir"
  },
  "language_info": {
   "codemirror_mode": "r",
   "file_extension": ".r",
   "mimetype": "text/x-r-source",
   "name": "R",
   "pygments_lexer": "r",
   "version": "3.2.3"
  }
 },
 "nbformat": 4,
 "nbformat_minor": 2
}

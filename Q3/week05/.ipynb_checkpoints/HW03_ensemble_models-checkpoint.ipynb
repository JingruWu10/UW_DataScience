{
 "cells": [
  {
   "cell_type": "markdown",
   "metadata": {},
   "source": [
    "# A Random Forest of Potential Customers\n",
    "_... Sellin' stuff to politically exposed people_"
   ]
  },
  {
   "cell_type": "markdown",
   "metadata": {},
   "source": [
    "#### Data Science 420 BB\n",
    "#### University of Washington Professional & Continuing Education\n",
    "#### Homework 3: Ensemble Models for Targeted Marketing Campaigns\n",
    "#### Leo Salemann, 5/1/18"
   ]
  },
  {
   "cell_type": "markdown",
   "metadata": {},
   "source": [
    "# 1. Summarize the Dataset"
   ]
  },
  {
   "cell_type": "code",
   "execution_count": 1,
   "metadata": {
    "collapsed": true
   },
   "outputs": [],
   "source": [
    "file <- \"./Bank Data.csv\"\n",
    "# file <- \"./BankBad.csv\"\n",
    "data <- read.csv(file, header=TRUE, sep=\",\", stringsAsFactors = FALSE)"
   ]
  },
  {
   "cell_type": "code",
   "execution_count": 2,
   "metadata": {},
   "outputs": [
    {
     "name": "stdout",
     "output_type": "stream",
     "text": [
      "[1] 600  11\n"
     ]
    }
   ],
   "source": [
    "# Print the dimension of the data\n",
    "print(dim(data))"
   ]
  },
  {
   "cell_type": "markdown",
   "metadata": {},
   "source": [
    "Eleven features; 600 observations. A fairly narrow/long data set."
   ]
  },
  {
   "cell_type": "code",
   "execution_count": 3,
   "metadata": {},
   "outputs": [
    {
     "data": {
      "text/html": [
       "<table>\n",
       "<thead><tr><th scope=col>age</th><th scope=col>sex</th><th scope=col>region</th><th scope=col>income</th><th scope=col>married</th><th scope=col>children</th><th scope=col>car</th><th scope=col>save_act</th><th scope=col>current_act</th><th scope=col>mortgage</th><th scope=col>pep</th></tr></thead>\n",
       "<tbody>\n",
       "\t<tr><td>48        </td><td>FEMALE    </td><td>INNER_CITY</td><td>17546.0   </td><td>NO        </td><td>1         </td><td>NO        </td><td>NO        </td><td>NO        </td><td>NO        </td><td>YES       </td></tr>\n",
       "\t<tr><td>40        </td><td>MALE      </td><td>TOWN      </td><td>30085.1   </td><td>YES       </td><td>3         </td><td>YES       </td><td>NO        </td><td>YES       </td><td>YES       </td><td>NO        </td></tr>\n",
       "\t<tr><td>51        </td><td>FEMALE    </td><td>INNER_CITY</td><td>16575.4   </td><td>YES       </td><td>0         </td><td>YES       </td><td>YES       </td><td>YES       </td><td>NO        </td><td>NO        </td></tr>\n",
       "</tbody>\n",
       "</table>\n"
      ],
      "text/latex": [
       "\\begin{tabular}{r|lllllllllll}\n",
       " age & sex & region & income & married & children & car & save\\_act & current\\_act & mortgage & pep\\\\\n",
       "\\hline\n",
       "\t 48           & FEMALE       & INNER\\_CITY & 17546.0      & NO           & 1            & NO           & NO           & NO           & NO           & YES         \\\\\n",
       "\t 40         & MALE       & TOWN       & 30085.1    & YES        & 3          & YES        & NO         & YES        & YES        & NO        \\\\\n",
       "\t 51           & FEMALE       & INNER\\_CITY & 16575.4      & YES          & 0            & YES          & YES          & YES          & NO           & NO          \\\\\n",
       "\\end{tabular}\n"
      ],
      "text/markdown": [
       "\n",
       "age | sex | region | income | married | children | car | save_act | current_act | mortgage | pep | \n",
       "|---|---|---|\n",
       "| 48         | FEMALE     | INNER_CITY | 17546.0    | NO         | 1          | NO         | NO         | NO         | NO         | YES        | \n",
       "| 40         | MALE       | TOWN       | 30085.1    | YES        | 3          | YES        | NO         | YES        | YES        | NO         | \n",
       "| 51         | FEMALE     | INNER_CITY | 16575.4    | YES        | 0          | YES        | YES        | YES        | NO         | NO         | \n",
       "\n",
       "\n"
      ],
      "text/plain": [
       "  age sex    region     income  married children car save_act current_act\n",
       "1 48  FEMALE INNER_CITY 17546.0 NO      1        NO  NO       NO         \n",
       "2 40  MALE   TOWN       30085.1 YES     3        YES NO       YES        \n",
       "3 51  FEMALE INNER_CITY 16575.4 YES     0        YES YES      YES        \n",
       "  mortgage pep\n",
       "1 NO       YES\n",
       "2 YES      NO \n",
       "3 NO       NO "
      ]
     },
     "metadata": {},
     "output_type": "display_data"
    }
   ],
   "source": [
    "head(data, 3)"
   ]
  },
  {
   "cell_type": "code",
   "execution_count": 4,
   "metadata": {},
   "outputs": [
    {
     "name": "stdout",
     "output_type": "stream",
     "text": [
      "      age            sex               region              income     \n",
      " Min.   :18.00   Length:600         Length:600         Min.   : 5014  \n",
      " 1st Qu.:30.00   Class :character   Class :character   1st Qu.:17264  \n",
      " Median :42.00   Mode  :character   Mode  :character   Median :24925  \n",
      " Mean   :42.40                                         Mean   :27524  \n",
      " 3rd Qu.:55.25                                         3rd Qu.:36173  \n",
      " Max.   :67.00                                         Max.   :63130  \n",
      "   married             children         car              save_act        \n",
      " Length:600         Min.   :0.000   Length:600         Length:600        \n",
      " Class :character   1st Qu.:0.000   Class :character   Class :character  \n",
      " Mode  :character   Median :1.000   Mode  :character   Mode  :character  \n",
      "                    Mean   :1.012                                        \n",
      "                    3rd Qu.:2.000                                        \n",
      "                    Max.   :3.000                                        \n",
      " current_act          mortgage             pep           \n",
      " Length:600         Length:600         Length:600        \n",
      " Class :character   Class :character   Class :character  \n",
      " Mode  :character   Mode  :character   Mode  :character  \n",
      "                                                         \n",
      "                                                         \n",
      "                                                         \n"
     ]
    }
   ],
   "source": [
    "# Print the summary of the data\n",
    "print(summary(data))"
   ]
  },
  {
   "cell_type": "markdown",
   "metadata": {
    "collapsed": true
   },
   "source": [
    "### Factorize"
   ]
  },
  {
   "cell_type": "code",
   "execution_count": 5,
   "metadata": {},
   "outputs": [
    {
     "name": "stdout",
     "output_type": "stream",
     "text": [
      "'data.frame':\t600 obs. of  11 variables:\n",
      " $ age        : int  48 40 51 23 57 57 22 58 37 54 ...\n",
      " $ sex        : chr  \"FEMALE\" \"MALE\" \"FEMALE\" \"FEMALE\" ...\n",
      " $ region     : chr  \"INNER_CITY\" \"TOWN\" \"INNER_CITY\" \"TOWN\" ...\n",
      " $ income     : num  17546 30085 16575 20375 50576 ...\n",
      " $ married    : chr  \"NO\" \"YES\" \"YES\" \"YES\" ...\n",
      " $ children   : int  1 3 0 3 0 2 0 0 2 2 ...\n",
      " $ car        : chr  \"NO\" \"YES\" \"YES\" \"NO\" ...\n",
      " $ save_act   : chr  \"NO\" \"NO\" \"YES\" \"NO\" ...\n",
      " $ current_act: chr  \"NO\" \"YES\" \"YES\" \"YES\" ...\n",
      " $ mortgage   : chr  \"NO\" \"YES\" \"NO\" \"NO\" ...\n",
      " $ pep        : chr  \"YES\" \"NO\" \"NO\" \"NO\" ...\n"
     ]
    }
   ],
   "source": [
    "str(data)"
   ]
  },
  {
   "cell_type": "code",
   "execution_count": 6,
   "metadata": {},
   "outputs": [
    {
     "name": "stdout",
     "output_type": "stream",
     "text": [
      "'data.frame':\t600 obs. of  11 variables:\n",
      " $ age        : int  48 40 51 23 57 57 22 58 37 54 ...\n",
      " $ sex        : Factor w/ 2 levels \"FEMALE\",\"MALE\": 1 2 1 1 1 1 2 2 1 2 ...\n",
      " $ region     : Factor w/ 4 levels \"INNER_CITY\",\"RURAL\",..: 1 4 1 4 2 4 2 4 3 4 ...\n",
      " $ income     : num  17546 30085 16575 20375 50576 ...\n",
      " $ married    : Factor w/ 2 levels \"NO\",\"YES\": 1 2 2 2 2 2 1 2 2 2 ...\n",
      " $ children   : int  1 3 0 3 0 2 0 0 2 2 ...\n",
      " $ car        : Factor w/ 2 levels \"NO\",\"YES\": 1 2 2 1 1 1 1 2 2 2 ...\n",
      " $ save_act   : Factor w/ 2 levels \"NO\",\"YES\": 1 1 2 1 2 2 1 2 1 2 ...\n",
      " $ current_act: Factor w/ 2 levels \"NO\",\"YES\": 1 2 2 2 1 2 2 2 1 2 ...\n",
      " $ mortgage   : Factor w/ 2 levels \"NO\",\"YES\": 1 2 1 1 1 1 1 1 1 1 ...\n",
      " $ pep        : Factor w/ 2 levels \"NO\",\"YES\": 2 1 1 1 1 2 2 1 1 1 ...\n"
     ]
    }
   ],
   "source": [
    "data$sex      <- as.factor(data$sex)\n",
    "data$region   <- as.factor(data$region)\n",
    "data$married  <- as.factor(data$married)\n",
    "data$car      <- as.factor(data$car )\n",
    "data$save_act <- as.factor(data$save_act)\n",
    "\n",
    "data$current_act <- as.factor(data$current_act)\n",
    "\n",
    "data$mortgage <- as.factor(data$mortgage)\n",
    "data$pep      <- as.factor(data$pep)\n",
    "\n",
    "str(data)"
   ]
  },
  {
   "cell_type": "markdown",
   "metadata": {},
   "source": [
    "**Data review**\n",
    "- Data is pretty clean, no missing values.\n",
    "- Age, Income, Children distributions (min/max/mean) look nomonal. No unusually old/young, rich/poor, large/small families.\n",
    "- Lots of string values that had to be factorized."
   ]
  },
  {
   "cell_type": "markdown",
   "metadata": {},
   "source": [
    "# 2. Random Forest Model"
   ]
  },
  {
   "cell_type": "markdown",
   "metadata": {},
   "source": [
    "## Separate test & training data"
   ]
  },
  {
   "cell_type": "code",
   "execution_count": 7,
   "metadata": {
    "collapsed": true
   },
   "outputs": [],
   "source": [
    "num_obs = nrow(data)\n",
    "\n",
    "set.seed(98027) \n",
    "\n",
    "index_shuffled <- sample(num_obs)\n",
    "training_ratio <- 0.8\n",
    "training_size <- round(num_obs * training_ratio)\n",
    "training_index <- index_shuffled[1:training_size]\n",
    "testing_index <- index_shuffled[(training_size+1):num_obs]\n",
    "training_data <- data[training_index,]\n",
    "testing_data <- data[testing_index,]"
   ]
  },
  {
   "cell_type": "markdown",
   "metadata": {},
   "source": [
    "## Random Forest"
   ]
  },
  {
   "cell_type": "code",
   "execution_count": 8,
   "metadata": {},
   "outputs": [
    {
     "name": "stderr",
     "output_type": "stream",
     "text": [
      "randomForest 4.6-14\n",
      "Type rfNews() to see new features/changes/bug fixes.\n"
     ]
    },
    {
     "name": "stdout",
     "output_type": "stream",
     "text": [
      "[1] \"Start training RF model with 200 trees using 1 core\"\n",
      "[1] \"Training 200 trees completed.\"\n",
      "0.133 sec elapsed\n",
      "               NO   YES MeanDecreaseAccuracy MeanDecreaseGini\n",
      "age          7.72  3.88                 9.10            30.27\n",
      "sex         -0.94  0.22                -0.48             3.28\n",
      "region       0.46 -0.13                 0.20            12.23\n",
      "income      22.93 23.44                32.67            63.81\n",
      "married     21.25 18.50                25.81            17.00\n",
      "children    44.11 46.12                52.94            63.25\n",
      "car         -1.22 -2.16                -2.18             3.00\n",
      "save_act     9.21 14.74                16.11            10.68\n",
      "current_act -2.46 -0.73                -2.55             3.54\n",
      "mortgage    13.50 13.85                16.77            14.11\n"
     ]
    }
   ],
   "source": [
    "library(randomForest)\n",
    "library(tictoc)\n",
    "tic()\n",
    "print(\"Start training RF model with 200 trees using 1 core\")\n",
    "rf_model <- randomForest(pep ~ ., data = training_data, ntree = 200, mtry = 5, \n",
    "                         nodesize=3, importance=TRUE)\n",
    "print(\"Training 200 trees completed.\")\n",
    "toc()\n",
    "## Show \"importance\" of variables: higher value mean more important (MeanDecreaseAccuracy): \n",
    "print(round(importance(rf_model), 2))"
   ]
  },
  {
   "cell_type": "markdown",
   "metadata": {},
   "source": [
    "## Check the accuracy on testing data"
   ]
  },
  {
   "cell_type": "code",
   "execution_count": 9,
   "metadata": {},
   "outputs": [
    {
     "name": "stdout",
     "output_type": "stream",
     "text": [
      "[1] \"The accuracy on testing data is 90%\"\n"
     ]
    }
   ],
   "source": [
    "pred_test <- predict(rf_model, testing_data, type='response')\n",
    "accuracy <- sum(pred_test==testing_data[,\"pep\"])/nrow(testing_data)*100\n",
    "print(paste(\"The accuracy on testing data is \", round(accuracy, 2), \"%\", sep=\"\"))"
   ]
  },
  {
   "cell_type": "markdown",
   "metadata": {},
   "source": [
    "Start Keeping Score ...\n",
    "\n",
    "|Model        |Accuracy|\n",
    "|-------------|--------|\n",
    "|Random Forest| 90.00% |"
   ]
  },
  {
   "cell_type": "markdown",
   "metadata": {},
   "source": [
    "## Check the ROC on testing data"
   ]
  },
  {
   "cell_type": "code",
   "execution_count": 10,
   "metadata": {},
   "outputs": [
    {
     "name": "stderr",
     "output_type": "stream",
     "text": [
      "Loading required package: gplots\n",
      "\n",
      "Attaching package: ‘gplots’\n",
      "\n",
      "The following object is masked from ‘package:stats’:\n",
      "\n",
      "    lowess\n",
      "\n"
     ]
    },
    {
     "data": {
      "image/png": "[encoded data removed]",
      "text/plain": [
       "Plot with title “AUC= 0.8862”"
      ]
     },
     "metadata": {},
     "output_type": "display_data"
    }
   ],
   "source": [
    "pred_test <- predict(rf_model, testing_data, type='prob')\n",
    "library(ROCR)\n",
    "pred <- prediction(pred_test[,2], testing_data[,\"pep\"])\n",
    "perf <- performance(pred,\"tpr\",\"fpr\")\n",
    "\n",
    "auc <- performance(pred,\"auc\")\n",
    "plot(perf,col=\"black\",lty=3, lwd=3, main=paste(\"AUC=\", round(unlist(slot(auc, \"y.values\")),4)))"
   ]
  },
  {
   "cell_type": "markdown",
   "metadata": {},
   "source": [
    "Update the leaderboard ...\n",
    "\n",
    "|Model        |Accuracy|AUC   |\n",
    "|-------------|--------|------|\n",
    "|Random Forest| 90.00% |0.8862|"
   ]
  },
  {
   "cell_type": "markdown",
   "metadata": {},
   "source": [
    "#### Speed up RF Training by Parallelization ..."
   ]
  },
  {
   "cell_type": "code",
   "execution_count": 11,
   "metadata": {
    "scrolled": true
   },
   "outputs": [
    {
     "name": "stderr",
     "output_type": "stream",
     "text": [
      "Loading required package: foreach\n",
      "Loading required package: iterators\n",
      "Loading required package: snow\n",
      "\n",
      "Attaching package: ‘parallel’\n",
      "\n",
      "The following objects are masked from ‘package:snow’:\n",
      "\n",
      "    clusterApply, clusterApplyLB, clusterCall, clusterEvalQ,\n",
      "    clusterExport, clusterMap, clusterSplit, makeCluster, parApply,\n",
      "    parCapply, parLapply, parRapply, parSapply, splitIndices,\n",
      "    stopCluster\n",
      "\n"
     ]
    },
    {
     "name": "stdout",
     "output_type": "stream",
     "text": [
      "[1] \"Start training RF model with 200 trees using 3 core\"\n",
      "[1] \"Training 200 trees completed.\"\n",
      "0.266 sec elapsed\n"
     ]
    }
   ],
   "source": [
    "library(doSNOW)\n",
    "library(foreach)\n",
    "library(parallel)\n",
    "\n",
    "\n",
    "# Setting number of cores in your machine. \n",
    "num_cores <- detectCores()\n",
    "cl <- makeCluster(num_cores-1)\n",
    "registerDoSNOW(cl)\n",
    "ntrees <- 200\n",
    "\n",
    "tic()\n",
    "print(paste(\"Start training RF model with 200 trees using \", num_cores-1, \" core\", sep=\"\"))\n",
    "\n",
    "rf <- foreach(ntree = rep(round(ntrees/(num_cores-1)), num_cores-1), .combine = combine, .packages = \"randomForest\") %dopar% \n",
    "  randomForest(income~., data=training_data, ntree=ntree, mtry=3, \n",
    "                         importance=TRUE, nodesize=5, do.trace = TRUE)\n",
    "\n",
    "print(\"Training 200 trees completed.\")\n",
    "toc()\n",
    "stopCluster(cl)"
   ]
  },
  {
   "cell_type": "markdown",
   "metadata": {},
   "source": [
    "### Random Forest model Q&A\n",
    "_a. What is the accuracy of this random forest model on the testing data?_ **90%**\n",
    "\n",
    "_b. What is the AUC of this random forest model on the testing data?_ **0.8862**\n",
    "\n",
    "_c. Is accuracy a good performance metrics or not? If not, why?_<br>**Not particularly. Accuracy doesn't tell you much without the context of other factors such as precision or recall. High Accuracy alone leads to over fittting. Other good mertics are the four corners of the confusion matrix (TP, TN, FP, FN), or area under the ROC.**\n",
    "\n",
    "\n",
    "_d. What is the training time for the number of trees you built?_ **0.133 sec **\n",
    "\n",
    "_e. How can you speed up the training process by parallelization?_ <br>**R Library parallel and its dependencies. Also need sufficent hardware**\n",
    "\n",
    "_f. Does the model trained via parallelization have the same performance as the one trained using a single core?_<br>**Oddly enough, parrellizaiton took 0.266 sec instad of 0.133.  Could be because I'm running on virtual hardware. Or maybe the data set is so small, that the overhead of setting up prallelizaiton outweighs the payoff of faster processing**"
   ]
  },
  {
   "cell_type": "markdown",
   "metadata": {},
   "source": [
    "# 3. Gradient Boosted Decision Trees"
   ]
  },
  {
   "cell_type": "markdown",
   "metadata": {},
   "source": [
    "## Feature Engineering & Tweakage\n",
    "\n",
    "gbm demands numeric target variables, so we chall appease it."
   ]
  },
  {
   "cell_type": "code",
   "execution_count": 12,
   "metadata": {},
   "outputs": [
    {
     "data": {
      "text/html": [
       "<table>\n",
       "<thead><tr><th></th><th scope=col>age</th><th scope=col>sex</th><th scope=col>region</th><th scope=col>income</th><th scope=col>married</th><th scope=col>children</th><th scope=col>car</th><th scope=col>save_act</th><th scope=col>current_act</th><th scope=col>mortgage</th><th scope=col>pep</th></tr></thead>\n",
       "<tbody>\n",
       "\t<tr><th scope=row>99</th><td>35        </td><td>FEMALE    </td><td>INNER_CITY</td><td>12125.8   </td><td>NO        </td><td>2         </td><td>NO        </td><td>YES       </td><td>YES       </td><td>NO        </td><td>NO        </td></tr>\n",
       "\t<tr><th scope=row>516</th><td>48        </td><td>FEMALE    </td><td>INNER_CITY</td><td>16662.5   </td><td>YES       </td><td>1         </td><td>NO        </td><td>YES       </td><td>YES       </td><td>NO        </td><td>YES       </td></tr>\n",
       "\t<tr><th scope=row>191</th><td>67        </td><td>FEMALE    </td><td>SUBURBAN  </td><td>63130.1   </td><td>YES       </td><td>2         </td><td>YES       </td><td>YES       </td><td>YES       </td><td>NO        </td><td>YES       </td></tr>\n",
       "</tbody>\n",
       "</table>\n"
      ],
      "text/latex": [
       "\\begin{tabular}{r|lllllllllll}\n",
       "  & age & sex & region & income & married & children & car & save\\_act & current\\_act & mortgage & pep\\\\\n",
       "\\hline\n",
       "\t99 & 35           & FEMALE       & INNER\\_CITY & 12125.8      & NO           & 2            & NO           & YES          & YES          & NO           & NO          \\\\\n",
       "\t516 & 48           & FEMALE       & INNER\\_CITY & 16662.5      & YES          & 1            & NO           & YES          & YES          & NO           & YES         \\\\\n",
       "\t191 & 67         & FEMALE     & SUBURBAN   & 63130.1    & YES        & 2          & YES        & YES        & YES        & NO         & YES       \\\\\n",
       "\\end{tabular}\n"
      ],
      "text/markdown": [
       "\n",
       "| <!--/--> | age | sex | region | income | married | children | car | save_act | current_act | mortgage | pep | \n",
       "|---|---|---|\n",
       "| 99 | 35         | FEMALE     | INNER_CITY | 12125.8    | NO         | 2          | NO         | YES        | YES        | NO         | NO         | \n",
       "| 516 | 48         | FEMALE     | INNER_CITY | 16662.5    | YES        | 1          | NO         | YES        | YES        | NO         | YES        | \n",
       "| 191 | 67         | FEMALE     | SUBURBAN   | 63130.1    | YES        | 2          | YES        | YES        | YES        | NO         | YES        | \n",
       "\n",
       "\n"
      ],
      "text/plain": [
       "    age sex    region     income  married children car save_act current_act\n",
       "99  35  FEMALE INNER_CITY 12125.8 NO      2        NO  YES      YES        \n",
       "516 48  FEMALE INNER_CITY 16662.5 YES     1        NO  YES      YES        \n",
       "191 67  FEMALE SUBURBAN   63130.1 YES     2        YES YES      YES        \n",
       "    mortgage pep\n",
       "99  NO       NO \n",
       "516 NO       YES\n",
       "191 NO       YES"
      ]
     },
     "metadata": {},
     "output_type": "display_data"
    }
   ],
   "source": [
    "head(training_data,3)"
   ]
  },
  {
   "cell_type": "code",
   "execution_count": 13,
   "metadata": {},
   "outputs": [
    {
     "data": {
      "text/html": [
       "<table>\n",
       "<thead><tr><th></th><th scope=col>age</th><th scope=col>sex</th><th scope=col>region</th><th scope=col>income</th><th scope=col>married</th><th scope=col>children</th><th scope=col>car</th><th scope=col>save_act</th><th scope=col>current_act</th><th scope=col>mortgage</th><th scope=col>pep</th></tr></thead>\n",
       "<tbody>\n",
       "\t<tr><th scope=row>99</th><td>35        </td><td>FEMALE    </td><td>INNER_CITY</td><td>12125.8   </td><td>NO        </td><td>2         </td><td>NO        </td><td>YES       </td><td>YES       </td><td>NO        </td><td>0         </td></tr>\n",
       "\t<tr><th scope=row>516</th><td>48        </td><td>FEMALE    </td><td>INNER_CITY</td><td>16662.5   </td><td>YES       </td><td>1         </td><td>NO        </td><td>YES       </td><td>YES       </td><td>NO        </td><td>1         </td></tr>\n",
       "\t<tr><th scope=row>191</th><td>67        </td><td>FEMALE    </td><td>SUBURBAN  </td><td>63130.1   </td><td>YES       </td><td>2         </td><td>YES       </td><td>YES       </td><td>YES       </td><td>NO        </td><td>1         </td></tr>\n",
       "</tbody>\n",
       "</table>\n"
      ],
      "text/latex": [
       "\\begin{tabular}{r|lllllllllll}\n",
       "  & age & sex & region & income & married & children & car & save\\_act & current\\_act & mortgage & pep\\\\\n",
       "\\hline\n",
       "\t99 & 35           & FEMALE       & INNER\\_CITY & 12125.8      & NO           & 2            & NO           & YES          & YES          & NO           & 0           \\\\\n",
       "\t516 & 48           & FEMALE       & INNER\\_CITY & 16662.5      & YES          & 1            & NO           & YES          & YES          & NO           & 1           \\\\\n",
       "\t191 & 67         & FEMALE     & SUBURBAN   & 63130.1    & YES        & 2          & YES        & YES        & YES        & NO         & 1         \\\\\n",
       "\\end{tabular}\n"
      ],
      "text/markdown": [
       "\n",
       "| <!--/--> | age | sex | region | income | married | children | car | save_act | current_act | mortgage | pep | \n",
       "|---|---|---|\n",
       "| 99 | 35         | FEMALE     | INNER_CITY | 12125.8    | NO         | 2          | NO         | YES        | YES        | NO         | 0          | \n",
       "| 516 | 48         | FEMALE     | INNER_CITY | 16662.5    | YES        | 1          | NO         | YES        | YES        | NO         | 1          | \n",
       "| 191 | 67         | FEMALE     | SUBURBAN   | 63130.1    | YES        | 2          | YES        | YES        | YES        | NO         | 1          | \n",
       "\n",
       "\n"
      ],
      "text/plain": [
       "    age sex    region     income  married children car save_act current_act\n",
       "99  35  FEMALE INNER_CITY 12125.8 NO      2        NO  YES      YES        \n",
       "516 48  FEMALE INNER_CITY 16662.5 YES     1        NO  YES      YES        \n",
       "191 67  FEMALE SUBURBAN   63130.1 YES     2        YES YES      YES        \n",
       "    mortgage pep\n",
       "99  NO       0  \n",
       "516 NO       1  \n",
       "191 NO       1  "
      ]
     },
     "metadata": {},
     "output_type": "display_data"
    }
   ],
   "source": [
    "training_data[,\"pep\"] <- as.character(training_data[,\"pep\"])\n",
    "training_data[training_data[,\"pep\"]=='YES', \"pep\"] <- 1\n",
    "training_data[training_data[,\"pep\"]=='NO',  \"pep\"] <- 0\n",
    "head(training_data,3)"
   ]
  },
  {
   "cell_type": "code",
   "execution_count": 14,
   "metadata": {},
   "outputs": [
    {
     "data": {
      "text/html": [
       "<table>\n",
       "<thead><tr><th></th><th scope=col>age</th><th scope=col>sex</th><th scope=col>region</th><th scope=col>income</th><th scope=col>married</th><th scope=col>children</th><th scope=col>car</th><th scope=col>save_act</th><th scope=col>current_act</th><th scope=col>mortgage</th><th scope=col>pep</th></tr></thead>\n",
       "<tbody>\n",
       "\t<tr><th scope=row>475</th><td>31     </td><td>FEMALE </td><td>TOWN   </td><td>22678.1</td><td>NO     </td><td>1      </td><td>YES    </td><td>YES    </td><td>YES    </td><td>YES    </td><td>1      </td></tr>\n",
       "\t<tr><th scope=row>37</th><td>19     </td><td>MALE   </td><td>RURAL  </td><td>10953.0</td><td>YES    </td><td>3      </td><td>YES    </td><td>YES    </td><td>YES    </td><td>NO     </td><td>0      </td></tr>\n",
       "\t<tr><th scope=row>460</th><td>66     </td><td>MALE   </td><td>TOWN   </td><td>46963.9</td><td>YES    </td><td>1      </td><td>NO     </td><td>YES    </td><td>YES    </td><td>NO     </td><td>1      </td></tr>\n",
       "</tbody>\n",
       "</table>\n"
      ],
      "text/latex": [
       "\\begin{tabular}{r|lllllllllll}\n",
       "  & age & sex & region & income & married & children & car & save\\_act & current\\_act & mortgage & pep\\\\\n",
       "\\hline\n",
       "\t475 & 31      & FEMALE  & TOWN    & 22678.1 & NO      & 1       & YES     & YES     & YES     & YES     & 1      \\\\\n",
       "\t37 & 19      & MALE    & RURAL   & 10953.0 & YES     & 3       & YES     & YES     & YES     & NO      & 0      \\\\\n",
       "\t460 & 66      & MALE    & TOWN    & 46963.9 & YES     & 1       & NO      & YES     & YES     & NO      & 1      \\\\\n",
       "\\end{tabular}\n"
      ],
      "text/markdown": [
       "\n",
       "| <!--/--> | age | sex | region | income | married | children | car | save_act | current_act | mortgage | pep | \n",
       "|---|---|---|\n",
       "| 475 | 31      | FEMALE  | TOWN    | 22678.1 | NO      | 1       | YES     | YES     | YES     | YES     | 1       | \n",
       "| 37 | 19      | MALE    | RURAL   | 10953.0 | YES     | 3       | YES     | YES     | YES     | NO      | 0       | \n",
       "| 460 | 66      | MALE    | TOWN    | 46963.9 | YES     | 1       | NO      | YES     | YES     | NO      | 1       | \n",
       "\n",
       "\n"
      ],
      "text/plain": [
       "    age sex    region income  married children car save_act current_act\n",
       "475 31  FEMALE TOWN   22678.1 NO      1        YES YES      YES        \n",
       "37  19  MALE   RURAL  10953.0 YES     3        YES YES      YES        \n",
       "460 66  MALE   TOWN   46963.9 YES     1        NO  YES      YES        \n",
       "    mortgage pep\n",
       "475 YES      1  \n",
       "37  NO       0  \n",
       "460 NO       1  "
      ]
     },
     "metadata": {},
     "output_type": "display_data"
    }
   ],
   "source": [
    "testing_data[,\"pep\"] <- as.character(testing_data[,\"pep\"])\n",
    "testing_data[testing_data[,\"pep\"]=='YES', \"pep\"] <- 1\n",
    "testing_data[testing_data[,\"pep\"]=='NO',  \"pep\"] <- 0\n",
    "head(testing_data,3)"
   ]
  },
  {
   "cell_type": "code",
   "execution_count": 15,
   "metadata": {},
   "outputs": [
    {
     "name": "stdout",
     "output_type": "stream",
     "text": [
      "[1] \"training sumary--------------------------------------------\"\n",
      "'data.frame':\t480 obs. of  11 variables:\n",
      " $ age        : int  35 48 67 20 55 34 27 37 26 21 ...\n",
      " $ sex        : Factor w/ 2 levels \"FEMALE\",\"MALE\": 1 1 1 2 2 2 2 1 2 2 ...\n",
      " $ region     : Factor w/ 4 levels \"INNER_CITY\",\"RURAL\",..: 1 1 3 1 4 2 1 1 1 4 ...\n",
      " $ income     : num  12126 16662 63130 11700 26774 ...\n",
      " $ married    : Factor w/ 2 levels \"NO\",\"YES\": 1 2 2 2 2 2 1 1 2 1 ...\n",
      " $ children   : int  2 1 2 0 0 1 0 2 3 0 ...\n",
      " $ car        : Factor w/ 2 levels \"NO\",\"YES\": 1 1 2 1 1 2 1 2 1 2 ...\n",
      " $ save_act   : Factor w/ 2 levels \"NO\",\"YES\": 2 2 2 2 1 2 2 1 2 2 ...\n",
      " $ current_act: Factor w/ 2 levels \"NO\",\"YES\": 2 2 2 1 2 2 1 1 2 2 ...\n",
      " $ mortgage   : Factor w/ 2 levels \"NO\",\"YES\": 1 1 1 1 2 1 1 1 2 2 ...\n",
      " $ pep        : num  0 1 1 0 1 1 1 0 0 0 ...\n",
      "[1] \" \"\n",
      "[1] \"testing sumary----------------------------------------\"\n",
      "'data.frame':\t120 obs. of  11 variables:\n",
      " $ age        : int  31 19 66 27 43 42 66 40 39 54 ...\n",
      " $ sex        : Factor w/ 2 levels \"FEMALE\",\"MALE\": 1 2 2 1 2 1 2 2 2 1 ...\n",
      " $ region     : Factor w/ 4 levels \"INNER_CITY\",\"RURAL\",..: 4 2 4 4 4 1 1 2 1 2 ...\n",
      " $ income     : num  22678 10953 46964 13950 33088 ...\n",
      " $ married    : Factor w/ 2 levels \"NO\",\"YES\": 1 2 2 1 1 2 1 2 2 2 ...\n",
      " $ children   : int  1 3 1 1 0 0 1 0 2 2 ...\n",
      " $ car        : Factor w/ 2 levels \"NO\",\"YES\": 2 2 1 2 1 2 1 2 1 1 ...\n",
      " $ save_act   : Factor w/ 2 levels \"NO\",\"YES\": 2 2 2 2 2 2 2 2 1 2 ...\n",
      " $ current_act: Factor w/ 2 levels \"NO\",\"YES\": 2 2 2 2 2 2 2 2 1 2 ...\n",
      " $ mortgage   : Factor w/ 2 levels \"NO\",\"YES\": 2 1 1 2 2 1 1 1 2 2 ...\n",
      " $ pep        : num  1 0 1 0 0 0 1 0 0 1 ...\n"
     ]
    }
   ],
   "source": [
    "training_data[,\"pep\"] <- as.numeric(training_data[,\"pep\"])\n",
    "testing_data[,\"pep\"] <- as.numeric(testing_data[,\"pep\"])\n",
    "\n",
    "print(\"training sumary--------------------------------------------\")\n",
    "str(training_data)\n",
    "print(\" \")\n",
    "print(\"testing sumary----------------------------------------\")\n",
    "str(testing_data)"
   ]
  },
  {
   "cell_type": "raw",
   "metadata": {},
   "source": [
    "library(gbm)\n",
    "training_data[,15] <- as.character(training_data[,15])\n",
    "testing_data[,15] <- as.character(testing_data[,15])\n",
    "training_data[training_data[,15]==' <=50K', 15] <- 0\n",
    "training_data[training_data[,15]==' >50K', 15] <- 1\n",
    "testing_data[testing_data[,15]==' <=50K', 15] <- 0\n",
    "testing_data[testing_data[,15]==' >50K', 15] <- 1\n",
    "training_data[,15] <- as.numeric(training_data[,15])\n",
    "testing_data[,15] <- as.numeric(testing_data[,15])"
   ]
  },
  {
   "cell_type": "code",
   "execution_count": 16,
   "metadata": {},
   "outputs": [
    {
     "name": "stderr",
     "output_type": "stream",
     "text": [
      "Loading required package: survival\n",
      "Loading required package: lattice\n",
      "Loading required package: splines\n",
      "Loaded gbm 2.1.3\n"
     ]
    }
   ],
   "source": [
    "library(gbm)"
   ]
  },
  {
   "cell_type": "code",
   "execution_count": 17,
   "metadata": {},
   "outputs": [
    {
     "name": "stdout",
     "output_type": "stream",
     "text": [
      "0.102 sec elapsed\n"
     ]
    }
   ],
   "source": [
    "tic()\n",
    "ntrees <- 250\n",
    "gbm_model <- gbm(formula = pep ~ ., distribution =  \"bernoulli\", data = training_data, \n",
    "                 n.trees = ntrees, interaction.depth = 4, n.minobsinnode = 5, shrinkage = 0.01)\n",
    "toc()"
   ]
  },
  {
   "cell_type": "markdown",
   "metadata": {},
   "source": [
    "## Prediction Tests"
   ]
  },
  {
   "cell_type": "code",
   "execution_count": 18,
   "metadata": {},
   "outputs": [
    {
     "name": "stdout",
     "output_type": "stream",
     "text": [
      "[1] \"The accuracy on testing data is 83.33%\"\n"
     ]
    }
   ],
   "source": [
    "pred_test <- predict(gbm_model, testing_data, n.trees = ntrees, type='response')\n",
    "pred_test[pred_test > 0.5] <- 1\n",
    "pred_test[pred_test <= 0.5] <- 0\n",
    "accuracy <- sum(pred_test==testing_data[,\"pep\"])/nrow(testing_data)*100\n",
    "print(paste(\"The accuracy on testing data is \", round(accuracy, 2), \"%\", sep=\"\"))"
   ]
  },
  {
   "cell_type": "markdown",
   "metadata": {},
   "source": [
    "Update the leaderboard ...\n",
    "\n",
    "|Model            |Accuracy|AUC   |\n",
    "|-----------------|--------|------|\n",
    "|Random Forest    | 90.00% |0.8862|\n",
    "|Gradient Boosted | 83.33% |      |"
   ]
  },
  {
   "cell_type": "markdown",
   "metadata": {},
   "source": [
    "## Check the ROC on testing data"
   ]
  },
  {
   "cell_type": "code",
   "execution_count": 19,
   "metadata": {},
   "outputs": [
    {
     "data": {
      "image/png": "[encoded data removed]",
      "text/plain": [
       "Plot with title “AUC= 0.8855”"
      ]
     },
     "metadata": {},
     "output_type": "display_data"
    }
   ],
   "source": [
    "pred_test <- predict(gbm_model, testing_data, n.trees = ntrees, type='response')\n",
    "library(ROCR)\n",
    "pred <- prediction(pred_test, testing_data[,\"pep\"])\n",
    "perf <- performance(pred,\"tpr\",\"fpr\")\n",
    "\n",
    "auc <- performance(pred,\"auc\")\n",
    "plot(perf,col=\"black\",lty=3, lwd=3, main=paste(\"AUC=\", round(unlist(slot(auc, \"y.values\")),4)))"
   ]
  },
  {
   "cell_type": "markdown",
   "metadata": {},
   "source": [
    "Update the leaderboard ...\n",
    "\n",
    "|Model            |Accuracy|AUC   |\n",
    "|-----------------|--------|------|\n",
    "|Random Forest    | 90.83% |0.8833|\n",
    "|Gradient Boosted | 83.33% |0.8855|"
   ]
  },
  {
   "cell_type": "markdown",
   "metadata": {},
   "source": [
    "## Try again with 500 trees"
   ]
  },
  {
   "cell_type": "code",
   "execution_count": 20,
   "metadata": {},
   "outputs": [
    {
     "name": "stdout",
     "output_type": "stream",
     "text": [
      "0.147 sec elapsed\n",
      "[1] \"The accuracy on testing data is 89.17%\"\n"
     ]
    },
    {
     "data": {
      "image/png": "[encoded data removed]",
      "text/plain": [
       "Plot with title “AUC= 0.8908”"
      ]
     },
     "metadata": {},
     "output_type": "display_data"
    }
   ],
   "source": [
    "tic()\n",
    "ntrees <- 500\n",
    "gbm_model <- gbm(formula = pep ~ ., distribution =  \"bernoulli\", data = training_data, \n",
    "                 n.trees = ntrees, interaction.depth = 4, n.minobsinnode = 5, shrinkage = 0.01)\n",
    "toc()\n",
    "\n",
    "pred_test <- predict(gbm_model, testing_data, n.trees = ntrees, type='response')\n",
    "pred_test[pred_test > 0.5] <- 1\n",
    "pred_test[pred_test <= 0.5] <- 0\n",
    "accuracy <- sum(pred_test==testing_data[,\"pep\"])/nrow(testing_data)*100\n",
    "print(paste(\"The accuracy on testing data is \", round(accuracy, 2), \"%\", sep=\"\"))\n",
    "\n",
    "pred_test <- predict(gbm_model, testing_data, n.trees = ntrees, type='response')\n",
    "pred <- prediction(pred_test, testing_data[,\"pep\"])\n",
    "perf <- performance(pred,\"tpr\",\"fpr\")\n",
    "\n",
    "auc <- performance(pred,\"auc\")\n",
    "plot(perf,col=\"black\",lty=3, lwd=3, main=paste(\"AUC=\", round(unlist(slot(auc, \"y.values\")),4)))"
   ]
  },
  {
   "cell_type": "markdown",
   "metadata": {},
   "source": [
    "### Gradient boosted decision trees (GBM) Q&A\n",
    "_a. What is the accuracy of this random forest model on the testing data?_ **83.33%**\n",
    "\n",
    "_b. What is the AUC of this random forest model on the testing data?_ **0.8829**\n",
    "\n",
    "_c. Is accuracy a good performance metrics or not? If not, why?_<br>**Same issues as for Random Forest**\n",
    "\n",
    "_d. What is the training time for the number of trees you built?_ **0.102 sec**\n",
    "\n",
    "_e. Does GBM perform better than Random Forest?_<br>**In this case, no.**\n",
    "\n",
    "|Model            |Accuracy|AUC   |\n",
    "|-----------------|--------|------|\n",
    "|Random Forest    | 90.00% |0.8862|\n",
    "|Gradient Boosted | 83.33% |0.8855|\n",
    "\n",
    "\n",
    "_f. If you increase the number of trees in GBM to 500, is the performance on the training\n",
    "data getting better?_<br> **Assuming perormance means speed, it's a bit slower (0.150 vs 0.102)**\n",
    "\n",
    "_g. Is the performance on the testing data getting better as well?_<br>**Yes, accuracy is improving; but more imprtantly, AUC is better**\n",
    "\n",
    "\n",
    "|Model|Trees|Speed|Accuracy|AUC   |\n",
    "|-----|-----|-----|--------|------|\n",
    "| RF  | 250 |0.133| 90.00% |0.8862|\n",
    "| GBM | 250 |0.102| 83.33% |0.8855|\n",
    "| GBM | 500 |0.150| 89.17% |0.8908|"
   ]
  },
  {
   "cell_type": "code",
   "execution_count": null,
   "metadata": {
    "collapsed": true
   },
   "outputs": [],
   "source": []
  }
 ],
 "metadata": {
  "kernelspec": {
   "display_name": "R",
   "language": "R",
   "name": "ir"
  },
  "language_info": {
   "codemirror_mode": "r",
   "file_extension": ".r",
   "mimetype": "text/x-r-source",
   "name": "R",
   "pygments_lexer": "r",
   "version": "3.2.3"
  }
 },
 "nbformat": 4,
 "nbformat_minor": 2
}

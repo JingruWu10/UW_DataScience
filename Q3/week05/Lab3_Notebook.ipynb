{
 "cells": [
  {
   "cell_type": "markdown",
   "metadata": {},
   "source": [
    "# Load & Summarize"
   ]
  },
  {
   "cell_type": "code",
   "execution_count": 1,
   "metadata": {
    "collapsed": true
   },
   "outputs": [],
   "source": [
    "data_url <- 'https://archive.ics.uci.edu/ml/machine-learning-databases/adult/adult.data'\n",
    "data <- read.csv(data_url, header=FALSE, sep=\",\")\n",
    "colnames(data) <- c(\"age\", \"workclass\", \"fnlwgt\", \"education\", \"education_num\", \n",
    "                    \"marital_status\", \"occupation\", \"relationship\", \"race\", \"sex\", \n",
    "                    \"capital_gain\", \"capital_loss\", \"hours_per_week\", \"native_country\", \"income\")\n"
   ]
  },
  {
   "cell_type": "code",
   "execution_count": 2,
   "metadata": {},
   "outputs": [
    {
     "name": "stdout",
     "output_type": "stream",
     "text": [
      "[1] 32561    15\n"
     ]
    }
   ],
   "source": [
    "# Print the dimension of the data\n",
    "print(dim(data))"
   ]
  },
  {
   "cell_type": "code",
   "execution_count": 3,
   "metadata": {},
   "outputs": [
    {
     "data": {
      "text/html": [
       "<table>\n",
       "<thead><tr><th scope=col>age</th><th scope=col>workclass</th><th scope=col>fnlwgt</th><th scope=col>education</th><th scope=col>education_num</th><th scope=col>marital_status</th><th scope=col>occupation</th><th scope=col>relationship</th><th scope=col>race</th><th scope=col>sex</th><th scope=col>capital_gain</th><th scope=col>capital_loss</th><th scope=col>hours_per_week</th><th scope=col>native_country</th><th scope=col>income</th></tr></thead>\n",
       "<tbody>\n",
       "\t<tr><td>39                                                         </td><td><span style=white-space:pre-wrap> State-gov       </span>  </td><td> 77516                                                     </td><td> Bachelors                                                 </td><td>13                                                         </td><td><span style=white-space:pre-wrap> Never-married     </span></td><td><span style=white-space:pre-wrap> Adm-clerical     </span> </td><td> Not-in-family                                             </td><td> White                                                     </td><td> Male                                                      </td><td>2174                                                       </td><td>0                                                          </td><td>40                                                         </td><td> United-States                                             </td><td> &lt;=50K                                                  </td></tr>\n",
       "\t<tr><td>50                                                        </td><td> Self-emp-not-inc                                         </td><td> 83311                                                    </td><td> Bachelors                                                </td><td>13                                                        </td><td> Married-civ-spouse                                       </td><td><span style=white-space:pre-wrap> Exec-managerial  </span></td><td><span style=white-space:pre-wrap> Husband      </span>    </td><td> White                                                    </td><td> Male                                                     </td><td><span style=white-space:pre-wrap>   0</span>              </td><td>0                                                         </td><td>13                                                        </td><td> United-States                                            </td><td> &lt;=50K                                                 </td></tr>\n",
       "\t<tr><td>38                                                         </td><td><span style=white-space:pre-wrap> Private         </span>  </td><td>215646                                                     </td><td><span style=white-space:pre-wrap> HS-grad  </span>         </td><td> 9                                                         </td><td><span style=white-space:pre-wrap> Divorced          </span></td><td> Handlers-cleaners                                         </td><td> Not-in-family                                             </td><td> White                                                     </td><td> Male                                                      </td><td><span style=white-space:pre-wrap>   0</span>               </td><td>0                                                          </td><td>40                                                         </td><td> United-States                                             </td><td> &lt;=50K                                                  </td></tr>\n",
       "</tbody>\n",
       "</table>\n"
      ],
      "text/latex": [
       "\\begin{tabular}{r|lllllllllllllll}\n",
       " age & workclass & fnlwgt & education & education\\_num & marital\\_status & occupation & relationship & race & sex & capital\\_gain & capital\\_loss & hours\\_per\\_week & native\\_country & income\\\\\n",
       "\\hline\n",
       "\t 39                  &  State-gov          &  77516              &  Bachelors          & 13                  &  Never-married      &  Adm-clerical       &  Not-in-family      &  White              &  Male               & 2174                & 0                   & 40                  &  United-States      &  <=50K             \\\\\n",
       "\t 50                  &  Self-emp-not-inc   &  83311              &  Bachelors          & 13                  &  Married-civ-spouse &  Exec-managerial    &  Husband            &  White              &  Male               &    0                & 0                   & 13                  &  United-States      &  <=50K             \\\\\n",
       "\t 38                  &  Private            & 215646              &  HS-grad            &  9                  &  Divorced           &  Handlers-cleaners  &  Not-in-family      &  White              &  Male               &    0                & 0                   & 40                  &  United-States      &  <=50K             \\\\\n",
       "\\end{tabular}\n"
      ],
      "text/markdown": [
       "\n",
       "age | workclass | fnlwgt | education | education_num | marital_status | occupation | relationship | race | sex | capital_gain | capital_loss | hours_per_week | native_country | income | \n",
       "|---|---|---|\n",
       "| 39                  |  State-gov          |  77516              |  Bachelors          | 13                  |  Never-married      |  Adm-clerical       |  Not-in-family      |  White              |  Male               | 2174                | 0                   | 40                  |  United-States      |  <=50K              | \n",
       "| 50                  |  Self-emp-not-inc   |  83311              |  Bachelors          | 13                  |  Married-civ-spouse |  Exec-managerial    |  Husband            |  White              |  Male               |    0                | 0                   | 13                  |  United-States      |  <=50K              | \n",
       "| 38                  |  Private            | 215646              |  HS-grad            |  9                  |  Divorced           |  Handlers-cleaners  |  Not-in-family      |  White              |  Male               |    0                | 0                   | 40                  |  United-States      |  <=50K              | \n",
       "\n",
       "\n"
      ],
      "text/plain": [
       "  age workclass         fnlwgt education  education_num marital_status     \n",
       "1 39   State-gov         77516  Bachelors 13             Never-married     \n",
       "2 50   Self-emp-not-inc  83311  Bachelors 13             Married-civ-spouse\n",
       "3 38   Private          215646  HS-grad    9             Divorced          \n",
       "  occupation         relationship   race   sex   capital_gain capital_loss\n",
       "1  Adm-clerical       Not-in-family  White  Male 2174         0           \n",
       "2  Exec-managerial    Husband        White  Male    0         0           \n",
       "3  Handlers-cleaners  Not-in-family  White  Male    0         0           \n",
       "  hours_per_week native_country income\n",
       "1 40              United-States  <=50K\n",
       "2 13              United-States  <=50K\n",
       "3 40              United-States  <=50K"
      ]
     },
     "metadata": {},
     "output_type": "display_data"
    }
   ],
   "source": [
    "head(data,3)"
   ]
  },
  {
   "cell_type": "code",
   "execution_count": 4,
   "metadata": {},
   "outputs": [
    {
     "name": "stdout",
     "output_type": "stream",
     "text": [
      "      age                    workclass         fnlwgt       \n",
      " Min.   :17.00    Private         :22696   Min.   :  12285  \n",
      " 1st Qu.:28.00    Self-emp-not-inc: 2541   1st Qu.: 117827  \n",
      " Median :37.00    Local-gov       : 2093   Median : 178356  \n",
      " Mean   :38.58    ?               : 1836   Mean   : 189778  \n",
      " 3rd Qu.:48.00    State-gov       : 1298   3rd Qu.: 237051  \n",
      " Max.   :90.00    Self-emp-inc    : 1116   Max.   :1484705  \n",
      "                 (Other)          :  981                    \n",
      "         education     education_num                  marital_status \n",
      "  HS-grad     :10501   Min.   : 1.00    Divorced             : 4443  \n",
      "  Some-college: 7291   1st Qu.: 9.00    Married-AF-spouse    :   23  \n",
      "  Bachelors   : 5355   Median :10.00    Married-civ-spouse   :14976  \n",
      "  Masters     : 1723   Mean   :10.08    Married-spouse-absent:  418  \n",
      "  Assoc-voc   : 1382   3rd Qu.:12.00    Never-married        :10683  \n",
      "  11th        : 1175   Max.   :16.00    Separated            : 1025  \n",
      " (Other)      : 5134                    Widowed              :  993  \n",
      "            occupation            relationship                    race      \n",
      "  Prof-specialty :4140    Husband       :13193    Amer-Indian-Eskimo:  311  \n",
      "  Craft-repair   :4099    Not-in-family : 8305    Asian-Pac-Islander: 1039  \n",
      "  Exec-managerial:4066    Other-relative:  981    Black             : 3124  \n",
      "  Adm-clerical   :3770    Own-child     : 5068    Other             :  271  \n",
      "  Sales          :3650    Unmarried     : 3446    White             :27816  \n",
      "  Other-service  :3295    Wife          : 1568                              \n",
      " (Other)         :9541                                                      \n",
      "      sex         capital_gain    capital_loss    hours_per_week \n",
      "  Female:10771   Min.   :    0   Min.   :   0.0   Min.   : 1.00  \n",
      "  Male  :21790   1st Qu.:    0   1st Qu.:   0.0   1st Qu.:40.00  \n",
      "                 Median :    0   Median :   0.0   Median :40.00  \n",
      "                 Mean   : 1078   Mean   :  87.3   Mean   :40.44  \n",
      "                 3rd Qu.:    0   3rd Qu.:   0.0   3rd Qu.:45.00  \n",
      "                 Max.   :99999   Max.   :4356.0   Max.   :99.00  \n",
      "                                                                 \n",
      "        native_country     income     \n",
      "  United-States:29170    <=50K:24720  \n",
      "  Mexico       :  643    >50K : 7841  \n",
      "  ?            :  583                 \n",
      "  Philippines  :  198                 \n",
      "  Germany      :  137                 \n",
      "  Canada       :  121                 \n",
      " (Other)       : 1709                 \n"
     ]
    }
   ],
   "source": [
    "# Print the summary of the data\n",
    "print(summary(data))"
   ]
  },
  {
   "cell_type": "markdown",
   "metadata": {},
   "source": [
    "# Setup Testing & Training DAta"
   ]
  },
  {
   "cell_type": "code",
   "execution_count": 5,
   "metadata": {
    "collapsed": true
   },
   "outputs": [],
   "source": [
    "num_obs = nrow(data)\n",
    "\n",
    "set.seed(98004) \n",
    "\n",
    "index_shuffled <- sample(num_obs)\n",
    "training_ratio <- 0.8\n",
    "training_size <- round(num_obs * training_ratio)\n",
    "training_index <- index_shuffled[1:training_size]\n",
    "testing_index <- index_shuffled[(training_size+1):num_obs]\n",
    "training_data <- data[training_index,]\n",
    "testing_data <- data[testing_index,]"
   ]
  },
  {
   "cell_type": "markdown",
   "metadata": {},
   "source": [
    "# Random Forest"
   ]
  },
  {
   "cell_type": "code",
   "execution_count": 6,
   "metadata": {},
   "outputs": [
    {
     "name": "stderr",
     "output_type": "stream",
     "text": [
      "randomForest 4.6-14\n",
      "Type rfNews() to see new features/changes/bug fixes.\n"
     ]
    },
    {
     "name": "stdout",
     "output_type": "stream",
     "text": [
      "[1] \"Start training RF model with 200 trees using 1 core\"\n",
      "[1] \"Training 200 trees completed.\"\n",
      "20.862 sec elapsed\n",
      "                <=50K   >50K MeanDecreaseAccuracy MeanDecreaseGini\n",
      "age              1.70  59.55                46.00           971.81\n",
      "workclass       23.68   5.30                23.29           321.65\n",
      "fnlwgt          -0.44   2.01                 0.97          1107.59\n",
      "education       41.08   5.77                38.46           579.59\n",
      "education_num   21.07  10.80                23.69           505.30\n",
      "marital_status  31.73  12.13                24.51           784.53\n",
      "occupation      31.53  46.50                62.70           782.20\n",
      "relationship    17.45  24.14                22.32          1133.99\n",
      "race             4.82   5.52                 7.90           103.51\n",
      "sex             23.70   5.63                24.67            83.33\n",
      "capital_gain   115.03 153.49               159.92          1031.57\n",
      "capital_loss    45.92  76.46                77.28           290.53\n",
      "hours_per_week   5.59  45.45                34.51           573.27\n",
      "native_country  14.61  -1.77                10.87           226.89\n"
     ]
    }
   ],
   "source": [
    "library(randomForest)\n",
    "library(tictoc)\n",
    "tic()\n",
    "print(\"Start training RF model with 200 trees using 1 core\")\n",
    "rf_model <- randomForest(income ~ ., data = training_data, ntree = 200, mtry = 5, \n",
    "                         nodesize=3, importance=TRUE)\n",
    "print(\"Training 200 trees completed.\")\n",
    "toc()\n",
    "## Show \"importance\" of variables: higher value mean more important (MeanDecreaseAccuracy): \n",
    "print(round(importance(rf_model), 2))"
   ]
  },
  {
   "cell_type": "markdown",
   "metadata": {
    "collapsed": true
   },
   "source": [
    "## Check the accuracy on testing data"
   ]
  },
  {
   "cell_type": "code",
   "execution_count": 7,
   "metadata": {},
   "outputs": [
    {
     "data": {
      "text/html": [
       "<table>\n",
       "<thead><tr><th></th><th scope=col>age</th><th scope=col>workclass</th><th scope=col>fnlwgt</th><th scope=col>education</th><th scope=col>education_num</th><th scope=col>marital_status</th><th scope=col>occupation</th><th scope=col>relationship</th><th scope=col>race</th><th scope=col>sex</th><th scope=col>capital_gain</th><th scope=col>capital_loss</th><th scope=col>hours_per_week</th><th scope=col>native_country</th><th scope=col>income</th></tr></thead>\n",
       "<tbody>\n",
       "\t<tr><th scope=row>26635</th><td>53                                                         </td><td><span style=white-space:pre-wrap> Private         </span>  </td><td>270546                                                     </td><td> HS-grad                                                   </td><td>9                                                          </td><td><span style=white-space:pre-wrap> Divorced          </span></td><td> Priv-house-serv                                           </td><td> Not-in-family                                             </td><td> White                                                     </td><td> Female                                                    </td><td>0                                                          </td><td>0                                                          </td><td>20                                                         </td><td> United-States                                             </td><td> &lt;=50K                                                  </td></tr>\n",
       "\t<tr><th scope=row>11957</th><td>52                                                    </td><td> Self-emp-not-inc                                     </td><td>165278                                                </td><td> HS-grad                                              </td><td>9                                                     </td><td> Married-civ-spouse                                   </td><td> Transport-moving                                     </td><td><span style=white-space:pre-wrap> Husband      </span></td><td> White                                                </td><td><span style=white-space:pre-wrap> Male  </span>       </td><td>0                                                     </td><td>0                                                     </td><td>22                                                    </td><td> United-States                                        </td><td> &lt;=50K                                             </td></tr>\n",
       "\t<tr><th scope=row>354</th><td>46                                                       </td><td><span style=white-space:pre-wrap> Local-gov       </span></td><td>329752                                                   </td><td><span style=white-space:pre-wrap> 11th   </span>         </td><td>7                                                        </td><td> Married-civ-spouse                                      </td><td> Transport-moving                                        </td><td><span style=white-space:pre-wrap> Husband      </span>   </td><td> White                                                   </td><td><span style=white-space:pre-wrap> Male  </span>          </td><td>0                                                        </td><td>0                                                        </td><td>30                                                       </td><td> United-States                                           </td><td> &lt;=50K                                                </td></tr>\n",
       "</tbody>\n",
       "</table>\n"
      ],
      "text/latex": [
       "\\begin{tabular}{r|lllllllllllllll}\n",
       "  & age & workclass & fnlwgt & education & education\\_num & marital\\_status & occupation & relationship & race & sex & capital\\_gain & capital\\_loss & hours\\_per\\_week & native\\_country & income\\\\\n",
       "\\hline\n",
       "\t26635 & 53                  &  Private            & 270546              &  HS-grad            & 9                   &  Divorced           &  Priv-house-serv    &  Not-in-family      &  White              &  Female             & 0                   & 0                   & 20                  &  United-States      &  <=50K             \\\\\n",
       "\t11957 & 52                  &  Self-emp-not-inc   & 165278              &  HS-grad            & 9                   &  Married-civ-spouse &  Transport-moving   &  Husband            &  White              &  Male               & 0                   & 0                   & 22                  &  United-States      &  <=50K             \\\\\n",
       "\t354 & 46                  &  Local-gov          & 329752              &  11th               & 7                   &  Married-civ-spouse &  Transport-moving   &  Husband            &  White              &  Male               & 0                   & 0                   & 30                  &  United-States      &  <=50K             \\\\\n",
       "\\end{tabular}\n"
      ],
      "text/markdown": [
       "\n",
       "| <!--/--> | age | workclass | fnlwgt | education | education_num | marital_status | occupation | relationship | race | sex | capital_gain | capital_loss | hours_per_week | native_country | income | \n",
       "|---|---|---|\n",
       "| 26635 | 53                  |  Private            | 270546              |  HS-grad            | 9                   |  Divorced           |  Priv-house-serv    |  Not-in-family      |  White              |  Female             | 0                   | 0                   | 20                  |  United-States      |  <=50K              | \n",
       "| 11957 | 52                  |  Self-emp-not-inc   | 165278              |  HS-grad            | 9                   |  Married-civ-spouse |  Transport-moving   |  Husband            |  White              |  Male               | 0                   | 0                   | 22                  |  United-States      |  <=50K              | \n",
       "| 354 | 46                  |  Local-gov          | 329752              |  11th               | 7                   |  Married-civ-spouse |  Transport-moving   |  Husband            |  White              |  Male               | 0                   | 0                   | 30                  |  United-States      |  <=50K              | \n",
       "\n",
       "\n"
      ],
      "text/plain": [
       "      age workclass         fnlwgt education education_num marital_status     \n",
       "26635 53   Private          270546  HS-grad  9              Divorced          \n",
       "11957 52   Self-emp-not-inc 165278  HS-grad  9              Married-civ-spouse\n",
       "354   46   Local-gov        329752  11th     7              Married-civ-spouse\n",
       "      occupation        relationship   race   sex     capital_gain capital_loss\n",
       "26635  Priv-house-serv   Not-in-family  White  Female 0            0           \n",
       "11957  Transport-moving  Husband        White  Male   0            0           \n",
       "354    Transport-moving  Husband        White  Male   0            0           \n",
       "      hours_per_week native_country income\n",
       "26635 20              United-States  <=50K\n",
       "11957 22              United-States  <=50K\n",
       "354   30              United-States  <=50K"
      ]
     },
     "metadata": {},
     "output_type": "display_data"
    }
   ],
   "source": [
    "head(testing_data,3)"
   ]
  },
  {
   "cell_type": "code",
   "execution_count": 6,
   "metadata": {},
   "outputs": [
    {
     "name": "stdout",
     "output_type": "stream",
     "text": [
      "[1] \"The accuracy on testing data is 85.67%\"\n"
     ]
    }
   ],
   "source": [
    "pred_test <- predict(rf_model, testing_data, type='response')\n",
    "accuracy <- sum(pred_test==testing_data[,\"income\"])/nrow(testing_data)*100\n",
    "print(paste(\"The accuracy on testing data is \", round(accuracy, 2), \"%\", sep=\"\"))"
   ]
  },
  {
   "cell_type": "markdown",
   "metadata": {},
   "source": [
    "## Check the ROC on testing data"
   ]
  },
  {
   "cell_type": "code",
   "execution_count": 9,
   "metadata": {},
   "outputs": [
    {
     "data": {
      "image/png": "[encoded data removed]",
      "text/plain": [
       "Plot with title “AUC= 0.9065”"
      ]
     },
     "metadata": {},
     "output_type": "display_data"
    }
   ],
   "source": [
    "pred_test <- predict(rf_model, testing_data, type='prob')\n",
    "library(ROCR)\n",
    "pred <- prediction(pred_test[,2], testing_data[,\"income\"])\n",
    "perf <- performance(pred,\"tpr\",\"fpr\")\n",
    "\n",
    "auc <- performance(pred,\"auc\")\n",
    "plot(perf,col=\"black\",lty=3, lwd=3, main=paste(\"AUC=\", round(unlist(slot(auc, \"y.values\")),4)))"
   ]
  },
  {
   "cell_type": "markdown",
   "metadata": {},
   "source": [
    "# Speed up RF Training by Parallelization"
   ]
  },
  {
   "cell_type": "code",
   "execution_count": 10,
   "metadata": {},
   "outputs": [
    {
     "name": "stderr",
     "output_type": "stream",
     "text": [
      "Loading required package: foreach\n",
      "Loading required package: iterators\n",
      "Loading required package: snow\n",
      "\n",
      "Attaching package: ‘parallel’\n",
      "\n",
      "The following objects are masked from ‘package:snow’:\n",
      "\n",
      "    clusterApply, clusterApplyLB, clusterCall, clusterEvalQ,\n",
      "    clusterExport, clusterMap, clusterSplit, makeCluster, parApply,\n",
      "    parCapply, parLapply, parRapply, parSapply, splitIndices,\n",
      "    stopCluster\n",
      "\n"
     ]
    },
    {
     "name": "stdout",
     "output_type": "stream",
     "text": [
      "[1] \"Start training RF model with 200 trees using 3 core\"\n",
      "[1] \"Training 200 trees completed.\"\n",
      "7.422 sec elapsed\n"
     ]
    }
   ],
   "source": [
    "library(doSNOW)\n",
    "library(foreach)\n",
    "library(parallel)\n",
    "\n",
    "\n",
    "# Setting number of cores in your machine. \n",
    "num_cores <- detectCores()\n",
    "cl <- makeCluster(num_cores-1)\n",
    "registerDoSNOW(cl)\n",
    "ntrees <- 200\n",
    "\n",
    "tic()\n",
    "print(paste(\"Start training RF model with 200 trees using \", num_cores-1, \" core\", sep=\"\"))\n",
    "\n",
    "rf <- foreach(ntree = rep(round(ntrees/(num_cores-1)), num_cores-1), .combine = combine, .packages = \"randomForest\") %dopar% \n",
    "  randomForest(income~., data=training_data, ntree=ntree, mtry=3, \n",
    "                         importance=TRUE, nodesize=5, do.trace = TRUE)\n",
    "\n",
    "print(\"Training 200 trees completed.\")\n",
    "toc()\n",
    "stopCluster(cl)"
   ]
  },
  {
   "cell_type": "markdown",
   "metadata": {},
   "source": [
    "# Gradient Boosted Decision Trees"
   ]
  },
  {
   "cell_type": "code",
   "execution_count": 11,
   "metadata": {},
   "outputs": [
    {
     "name": "stderr",
     "output_type": "stream",
     "text": [
      "Loading required package: survival\n",
      "Loading required package: lattice\n",
      "Loading required package: splines\n",
      "Loaded gbm 2.1.3\n"
     ]
    }
   ],
   "source": [
    "library(gbm)\n",
    "training_data[,15] <- as.character(training_data[,15])\n",
    "testing_data[,15] <- as.character(testing_data[,15])\n",
    "training_data[training_data[,15]==' <=50K', 15] <- 0\n",
    "training_data[training_data[,15]==' >50K', 15] <- 1\n",
    "testing_data[testing_data[,15]==' <=50K', 15] <- 0\n",
    "testing_data[testing_data[,15]==' >50K', 15] <- 1\n",
    "training_data[,15] <- as.numeric(training_data[,15])\n",
    "testing_data[,15] <- as.numeric(testing_data[,15])\n",
    "ntrees <- 250\n",
    "gbm_model <- gbm(formula = income ~ ., distribution =  \"bernoulli\", data = training_data, \n",
    "                 n.trees = ntrees, interaction.depth = 4, n.minobsinnode = 5, shrinkage = 0.01)"
   ]
  },
  {
   "cell_type": "markdown",
   "metadata": {},
   "source": [
    "## Prediction Tests"
   ]
  },
  {
   "cell_type": "code",
   "execution_count": 12,
   "metadata": {},
   "outputs": [
    {
     "name": "stdout",
     "output_type": "stream",
     "text": [
      "[1] \"The accuracy on testing data is 85.3%\"\n"
     ]
    }
   ],
   "source": [
    "pred_test <- predict(gbm_model, testing_data, n.trees = ntrees, type='response')\n",
    "pred_test[pred_test > 0.5] <- 1\n",
    "pred_test[pred_test <= 0.5] <- 0\n",
    "accuracy <- sum(pred_test==testing_data[,\"income\"])/nrow(testing_data)*100\n",
    "print(paste(\"The accuracy on testing data is \", round(accuracy, 2), \"%\", sep=\"\"))"
   ]
  },
  {
   "cell_type": "markdown",
   "metadata": {},
   "source": [
    "## Check the ROC on testing data"
   ]
  },
  {
   "cell_type": "code",
   "execution_count": 13,
   "metadata": {},
   "outputs": [
    {
     "data": {
      "image/png": "[encoded data removed]",
      "text/plain": [
       "Plot with title “AUC= 0.9036”"
      ]
     },
     "metadata": {},
     "output_type": "display_data"
    }
   ],
   "source": [
    "pred_test <- predict(gbm_model, testing_data, n.trees = ntrees, type='response')\n",
    "library(ROCR)\n",
    "pred <- prediction(pred_test, testing_data[,\"income\"])\n",
    "perf <- performance(pred,\"tpr\",\"fpr\")\n",
    "\n",
    "auc <- performance(pred,\"auc\")\n",
    "plot(perf,col=\"black\",lty=3, lwd=3, main=paste(\"AUC=\", round(unlist(slot(auc, \"y.values\")),4)))"
   ]
  },
  {
   "cell_type": "code",
   "execution_count": null,
   "metadata": {
    "collapsed": true
   },
   "outputs": [],
   "source": []
  }
 ],
 "metadata": {
  "kernelspec": {
   "display_name": "R",
   "language": "R",
   "name": "ir"
  },
  "language_info": {
   "codemirror_mode": "r",
   "file_extension": ".r",
   "mimetype": "text/x-r-source",
   "name": "R",
   "pygments_lexer": "r",
   "version": "3.2.3"
  }
 },
 "nbformat": 4,
 "nbformat_minor": 2
}

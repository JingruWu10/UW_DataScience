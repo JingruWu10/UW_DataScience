{
 "cells": [
  {
   "cell_type": "markdown",
   "metadata": {},
   "source": [
    "# MOSCOW REAL ESTATE PRICES\n",
    "**_Doing to houses & apartments what we did to cars_**\n",
    "### Data Science 410 BB\n",
    "#### University of Washington Professional & Continuing Education\n",
    "#### FINAL PROJECT\n",
    "#### Leo Salemann, 3/10/18"
   ]
  },
  {
   "cell_type": "markdown",
   "metadata": {},
   "source": [
    "# INTRODUCTION\n",
    "_An introduction with a statement of the problem you are addressing and a summary of your conclusions.\n",
    "Is there an introduction with a clear statement of the problem to be addressed? 10%_"
   ]
  },
  {
   "cell_type": "markdown",
   "metadata": {},
   "source": [
    "What is our actual purpose?\n",
    "- Identify key features (like aspiration, fuel-type, body-type).\n",
    "- "
   ]
  },
  {
   "cell_type": "markdown",
   "metadata": {},
   "source": [
    "- Start with the Kaggle Data\n",
    "- Leverage prior data cleanups via Azure ML Studio\n",
    "- Apply techniques from the autos"
   ]
  },
  {
   "cell_type": "markdown",
   "metadata": {
    "collapsed": true
   },
   "source": [
    "Our dataset comes from a [Kaggle competition to predict real Moscow esate prices](https://www.kaggle.com/c/sberbank-russian-housing-market). I first encountered this data in a [team project](https://www.slideshare.net/LeoSalemann/predicting-moscow-real-estate-prices-with-azure-machine-learning) for [UW PCE Big Data Technologies - Introduciton to Data Engineering](https://www.pce.uw.edu/courses/introduction-to-data-engineering). We used [Microsoft Azure Machine Learning Studio](https://gallery.cortanaintelligence.com/Experiment/D-Hawks-Big-Data-Project-Leo-RevS) to look at multiple approaches to feature engineering, and try multiple machine learning models simultaneosly. For this project, we'll extract realestate data from Azure ML Studio, after cleaning but before any Azure ML modeling.  We'll then do our own feature analysis in Jupyter Notebook with R. Let's get started ..."
   ]
  },
  {
   "cell_type": "code",
   "execution_count": null,
   "metadata": {
    "collapsed": true
   },
   "outputs": [],
   "source": []
  },
  {
   "cell_type": "code",
   "execution_count": null,
   "metadata": {
    "collapsed": true
   },
   "outputs": [],
   "source": []
  },
  {
   "cell_type": "markdown",
   "metadata": {},
   "source": [
    "# DATA EXPLORATION\n",
    "_Discussion of your exploration of the dataset supported by charts and summary statistics. Examine several aspects of the dataset. Explain which aspects are important and why._\n",
    "\n",
    "_Has the data been properly prepared in terms of cleaning, normalization, etc? Is this preparation consistent with the data exploration?_\n",
    "\n",
    "_Given the data set and the stated problem, does the data exploration find enlightening relationships in the data? Is the exploration truly in-depth? Are the steps used and inferences drawn clearly explained? A few random histograms and scatter plots are not really good enough, the exploration needs to generate insight._"
   ]
  },
  {
   "cell_type": "markdown",
   "metadata": {
    "collapsed": true
   },
   "source": [
    "The [original kaggle datasets](https://www.kaggle.com/c/sberbank-russian-housing-market/data) consisted of two tables: Real Estate Transactions and Macro Economics. The Real Estate Transactions table includes price, timestamp, year built, property descriptors such as  square footage, number of floors, condition, etc. and neighborhood descriptors such as nearby transportation, industry, population demographics.  "
   ]
  },
  {
   "cell_type": "markdown",
   "metadata": {
    "collapsed": true
   },
   "source": [
    "**_Actually, I didn't use the Macro ecomic data_** The [original kaggle datasets](https://www.kaggle.com/c/sberbank-russian-housing-market/data) consisted of two tables: Real Estate Transactions and Macro Economics. The Real Estate Transactions table includes price, timestamp, year built, property descriptors such as  square footage, number of floors, condition, etc. and neighborhood descriptors such as nearby transportation, industry, population demographics.  The Macro Economics table includes gdb, commodity prices, USD/Ruble exchange rates, etc."
   ]
  },
  {
   "cell_type": "markdown",
   "metadata": {
    "collapsed": true
   },
   "source": [
    "Azure ML Studio Summary\n",
    "1. Start with the original 30,471 rows and 292 columns\n",
    "1. Select 64 columns to work with.\n",
    "1. Set a bunch of numeric data to floating point, integer, category\n",
    "1. Clean missing data\n",
    "1. Apply SQL Transofmation (see below)\n",
    "1. Normalize non-categorical rows\n",
    "\n",
    "\n",
    "Cleaning missing data\n",
    "\n",
    "|Field                         |Set To   |Rows Affected|\n",
    "|------------------------------|---------|-------------|\n",
    "|build_year                    |1979     |13,605       |\n",
    "|life_sq (living space, m$^2$) |30       | 6,383       |\n",
    "|floor (level above ground)    |7        |   167       |\n",
    "|num_room                      |2        | 9,572       |\n",
    "|kitch_sq (kitchen space m$^2$)|6        | 9,572       |\n",
    "|material                      |mode\\*   | 9,672       |\n",
    "|state                         |MICE\\*\\* |0            |\n",
    "|full_sq (total m$^2$)         |mode\\*   |0            |\n",
    "|max_floor (highest, 0=ground) |0        | 9,571       |\n",
    "|metro_min_walk                |median   |    25       |\n",
    "|railroad_station_walk_km      |median   |    25       |\n",
    "|railroad_station_walk_min     |median   |    25       |\n",
    "|metro_km_walk                 |median   |    25       |\n",
    "\n",
    "\n",
    "\n",
    "\n",
    "\\* replace nulls with the mode of the non-null data\n",
    "\n",
    "\\*\\* [Multivariate Imputation using Chaned Equations](https://docs.microsoft.com/en-us/azure/machine-learning/studio-module-reference/clean-missing-data)"
   ]
  },
  {
   "cell_type": "raw",
   "metadata": {},
   "source": [
    "# SQPL Query Script\n",
    "select * from t1\n",
    "where build_year >= 1947 and build_year <= 2019           # Built between 1947-2018\n",
    "and life_sq >= 1 and life_sq <= 100                       # 2-100 sq meters lving space\n",
    "and floor >= 1 and floor <= 32                            # On floor 1-32\n",
    "and num_room >= 1 and num_room <= 6                       # 1-6 rooms\n",
    "and full_sq >=1 and full_sq >= life_sq and full_sq < 5000 # 1-4999 sq meter total space\n",
    "                                                          # Total space >= living space\n",
    "and max_floor >= floor and max_floor <= 30                # 1 to 30 floors\n",
    "and bulvar_ring_km < 40                            # Within 40 km of a Boulevard Ring\n",
    "and bus_terminal_avto_km < 30                      # Within 30 km of bus terminal by car\n",
    "and kitch_sq >= 1 and kitch_sq <= 20               # 1-20 sq. meter kitchen space \n",
    "and metro_km_avto <= 15                    # Within 15 km of metro station by car\n",
    "and metro_km_walk <= 15                    # Within 15 km of metro station on foot\n",
    "and metro_min_avto <= 15                   # Within 15 minutes of metro station by car\n",
    "and metro_min_walk < 200                   # Within 15 minutes of metro station on foot\n",
    "and mkad_km < 20                             # Within 20 km of Moscow Circle Auto Road\n",
    "and public_transport_station_km <= 14        # Within 14 km of public transport\n",
    "and public_transport_station_min_walk < 180  # Within 3 hrs of public transport by foot\n",
    "and railroad_km < 6                          # Within 6 km of a ralilroad\n",
    "and railroad_station_avto_km < 12       # Within 12 km of a railroad station by car\n",
    "and railroad_station_avto_min < 17      # Within 17 minutes of a railroad station by car\n",
    "and railroad_station_walk_km < 20       # Within 12 km of a railroad station on foot \n",
    "and railroad_station_walk_min < 150     # Within 2.5 hrs of a railroad station on foot \n",
    "and sadovoe_km < 60                     # Within 60 km of the Moscow Garden Ring\n",
    "and state < 30                          # Apartment condition better than 30\n",
    "and ttk_km < 35                         # Within 35 km of the Third Transport Ring\n",
    "and zd_vokzaly_avto_km < 50             # Within 50 km of a train station by car\n",
    "and kitch_sq >= 1 and kitch_sq <= 20;   # 1-20 sq meters of kitchen sace."
   ]
  },
  {
   "cell_type": "markdown",
   "metadata": {
    "collapsed": true
   },
   "source": [
    "## Load the data, have a quick look\n",
    "Load direclty from google drive, based on [stackoverflow](https://stackoverflow.com/questions/33135060/read-csv-file-hosted-on-google-drive)"
   ]
  },
  {
   "cell_type": "raw",
   "metadata": {},
   "source": [
    " id = https://drive.google.com/open?id=16NtcMRCVVZGszIvC4VikacdjuGqIsojQ\n",
    "real_estate = read.csv(sprintf(\"https://drive.google.com/drive/folders/15gaX4l_GJFpdhNGCCyFMWBEmbTmpR7gR?usp=sharing\", id))"
   ]
  },
  {
   "cell_type": "markdown",
   "metadata": {},
   "source": [
    "real_estate = read.csv(\"https://drive.google.com/open?id=16NtcMRCVVZGszIvC4VikacdjuGqIsojQ\")"
   ]
  },
  {
   "cell_type": "code",
   "execution_count": 5,
   "metadata": {
    "collapsed": true
   },
   "outputs": [],
   "source": [
    "real_estate = read.csv(\"D-Hawks Big Data Project Leo _RevS_ - 506153734175476c4f62416c57734963.faa6ba63383c4086ba587abf26b85814.v1-default-1643 - Results dataset.csv\")"
   ]
  },
  {
   "cell_type": "code",
   "execution_count": 6,
   "metadata": {},
   "outputs": [
    {
     "data": {
      "text/html": [
       "<ol class=list-inline>\n",
       "\t<li>15693</li>\n",
       "\t<li>64</li>\n",
       "</ol>\n"
      ],
      "text/latex": [
       "\\begin{enumerate*}\n",
       "\\item 15693\n",
       "\\item 64\n",
       "\\end{enumerate*}\n"
      ],
      "text/markdown": [
       "1. 15693\n",
       "2. 64\n",
       "\n",
       "\n"
      ],
      "text/plain": [
       "[1] 15693    64"
      ]
     },
     "metadata": {},
     "output_type": "display_data"
    }
   ],
   "source": [
    "dim(real_estate)"
   ]
  },
  {
   "cell_type": "code",
   "execution_count": 7,
   "metadata": {},
   "outputs": [
    {
     "data": {
      "text/html": [
       "<table>\n",
       "<thead><tr><th scope=col>timestamp</th><th scope=col>full_sq</th><th scope=col>life_sq</th><th scope=col>floor</th><th scope=col>max_floor</th><th scope=col>material</th><th scope=col>build_year</th><th scope=col>num_room</th><th scope=col>kitch_sq</th><th scope=col>state</th><th scope=col>⋯</th><th scope=col>prom_part_2000</th><th scope=col>office_count_2000</th><th scope=col>office_sqm_2000</th><th scope=col>prom_part_3000</th><th scope=col>office_count_3000</th><th scope=col>office_sqm_3000</th><th scope=col>prom_part_5000</th><th scope=col>office_count_5000</th><th scope=col>office_sqm_5000</th><th scope=col>price_doc</th></tr></thead>\n",
       "<tbody>\n",
       "\t<tr><td>4/27/2013 12:00:00 AM</td><td>0.8783374            </td><td>0.6736665            </td><td>0.91747306           </td><td>0.7592367            </td><td>1                    </td><td>0.4119693            </td><td>0.6243916            </td><td>0.82179315           </td><td>3                    </td><td>⋯                    </td><td>0.51623253           </td><td>0.0000000            </td><td>0.0000000            </td><td>0.47965936           </td><td>0.00000000           </td><td>0.00000000           </td><td>0.20769527           </td><td>0.09089031           </td><td>0.16453261           </td><td>10100000             </td></tr>\n",
       "\t<tr><td>5/25/2013 12:00:00 AM</td><td>0.5777170            </td><td>0.5388421            </td><td>0.76476869           </td><td>0.7196359            </td><td>1                    </td><td>0.4340261            </td><td>0.6243916            </td><td>0.70355825           </td><td>3                    </td><td>⋯                    </td><td>0.74657520           </td><td>0.6516770            </td><td>0.5788594            </td><td>0.75641623           </td><td>0.55997402           </td><td>0.66194017           </td><td>0.86518244           </td><td>0.53696149           </td><td>0.55030199           </td><td> 9000000             </td></tr>\n",
       "\t<tr><td>5/27/2013 12:00:00 AM</td><td>0.2802001            </td><td>0.6925319            </td><td>0.85343830           </td><td>0.7592367            </td><td>1                    </td><td>0.4119693            </td><td>0.1074592            </td><td>0.02296599           </td><td>1                    </td><td>⋯                    </td><td>0.07380783           </td><td>0.0000000            </td><td>0.0000000            </td><td>0.05969682           </td><td>0.00000000           </td><td>0.00000000           </td><td>0.08005969           </td><td>0.00000000           </td><td>0.00000000           </td><td> 4457400             </td></tr>\n",
       "\t<tr><td>5/27/2013 12:00:00 AM</td><td>0.9079846            </td><td>0.7585155            </td><td>0.09680687           </td><td>0.7592367            </td><td>6                    </td><td>0.9584512            </td><td>0.8902639            </td><td>0.84805168           </td><td>1                    </td><td>⋯                    </td><td>0.08948447           </td><td>0.0000000            </td><td>0.0000000            </td><td>0.05782190           </td><td>0.00000000           </td><td>0.00000000           </td><td>0.09858108           </td><td>0.00000000           </td><td>0.00000000           </td><td> 7011550             </td></tr>\n",
       "\t<tr><td>5/27/2013 12:00:00 AM</td><td>0.3820799            </td><td>0.4577072            </td><td>0.53190319           </td><td>0.2819902            </td><td>1                    </td><td>0.2324176            </td><td>0.6243916            </td><td>0.57321022           </td><td>3                    </td><td>⋯                    </td><td>0.02187245           </td><td>0.0000000            </td><td>0.0000000            </td><td>0.05844479           </td><td>0.04670926           </td><td>0.02403055           </td><td>0.35947132           </td><td>0.13435499           </td><td>0.09425488           </td><td> 7100000             </td></tr>\n",
       "\t<tr><td>5/28/2013 12:00:00 AM</td><td>0.2082193            </td><td>0.2461976            </td><td>0.89084791           </td><td>0.7196359            </td><td>1                    </td><td>0.4786586            </td><td>0.1074592            </td><td>0.70355825           </td><td>3                    </td><td>⋯                    </td><td>0.79712346           </td><td>0.3817576            </td><td>0.1845655            </td><td>0.79399303           </td><td>0.57875394           </td><td>0.31195466           </td><td>0.58299771           </td><td>0.77972201           </td><td>0.88013669           </td><td> 6450000             </td></tr>\n",
       "</tbody>\n",
       "</table>\n"
      ],
      "text/latex": [
       "\\begin{tabular}{r|llllllllllllllllllllllllllllllllllllllllllllllllllllllllllllllll}\n",
       " timestamp & full\\_sq & life\\_sq & floor & max\\_floor & material & build\\_year & num\\_room & kitch\\_sq & state & ⋯ & prom\\_part\\_2000 & office\\_count\\_2000 & office\\_sqm\\_2000 & prom\\_part\\_3000 & office\\_count\\_3000 & office\\_sqm\\_3000 & prom\\_part\\_5000 & office\\_count\\_5000 & office\\_sqm\\_5000 & price\\_doc\\\\\n",
       "\\hline\n",
       "\t 4/27/2013 12:00:00 AM & 0.8783374             & 0.6736665             & 0.91747306            & 0.7592367             & 1                     & 0.4119693             & 0.6243916             & 0.82179315            & 3                     & ⋯                     & 0.51623253            & 0.0000000             & 0.0000000             & 0.47965936            & 0.00000000            & 0.00000000            & 0.20769527            & 0.09089031            & 0.16453261            & 10100000             \\\\\n",
       "\t 5/25/2013 12:00:00 AM & 0.5777170             & 0.5388421             & 0.76476869            & 0.7196359             & 1                     & 0.4340261             & 0.6243916             & 0.70355825            & 3                     & ⋯                     & 0.74657520            & 0.6516770             & 0.5788594             & 0.75641623            & 0.55997402            & 0.66194017            & 0.86518244            & 0.53696149            & 0.55030199            &  9000000             \\\\\n",
       "\t 5/27/2013 12:00:00 AM & 0.2802001             & 0.6925319             & 0.85343830            & 0.7592367             & 1                     & 0.4119693             & 0.1074592             & 0.02296599            & 1                     & ⋯                     & 0.07380783            & 0.0000000             & 0.0000000             & 0.05969682            & 0.00000000            & 0.00000000            & 0.08005969            & 0.00000000            & 0.00000000            &  4457400             \\\\\n",
       "\t 5/27/2013 12:00:00 AM & 0.9079846             & 0.7585155             & 0.09680687            & 0.7592367             & 6                     & 0.9584512             & 0.8902639             & 0.84805168            & 1                     & ⋯                     & 0.08948447            & 0.0000000             & 0.0000000             & 0.05782190            & 0.00000000            & 0.00000000            & 0.09858108            & 0.00000000            & 0.00000000            &  7011550             \\\\\n",
       "\t 5/27/2013 12:00:00 AM & 0.3820799             & 0.4577072             & 0.53190319            & 0.2819902             & 1                     & 0.2324176             & 0.6243916             & 0.57321022            & 3                     & ⋯                     & 0.02187245            & 0.0000000             & 0.0000000             & 0.05844479            & 0.04670926            & 0.02403055            & 0.35947132            & 0.13435499            & 0.09425488            &  7100000             \\\\\n",
       "\t 5/28/2013 12:00:00 AM & 0.2082193             & 0.2461976             & 0.89084791            & 0.7196359             & 1                     & 0.4786586             & 0.1074592             & 0.70355825            & 3                     & ⋯                     & 0.79712346            & 0.3817576             & 0.1845655             & 0.79399303            & 0.57875394            & 0.31195466            & 0.58299771            & 0.77972201            & 0.88013669            &  6450000             \\\\\n",
       "\\end{tabular}\n"
      ],
      "text/markdown": [
       "\n",
       "timestamp | full_sq | life_sq | floor | max_floor | material | build_year | num_room | kitch_sq | state | ⋯ | prom_part_2000 | office_count_2000 | office_sqm_2000 | prom_part_3000 | office_count_3000 | office_sqm_3000 | prom_part_5000 | office_count_5000 | office_sqm_5000 | price_doc | \n",
       "|---|---|---|---|---|---|\n",
       "| 4/27/2013 12:00:00 AM | 0.8783374             | 0.6736665             | 0.91747306            | 0.7592367             | 1                     | 0.4119693             | 0.6243916             | 0.82179315            | 3                     | ⋯                     | 0.51623253            | 0.0000000             | 0.0000000             | 0.47965936            | 0.00000000            | 0.00000000            | 0.20769527            | 0.09089031            | 0.16453261            | 10100000              | \n",
       "| 5/25/2013 12:00:00 AM | 0.5777170             | 0.5388421             | 0.76476869            | 0.7196359             | 1                     | 0.4340261             | 0.6243916             | 0.70355825            | 3                     | ⋯                     | 0.74657520            | 0.6516770             | 0.5788594             | 0.75641623            | 0.55997402            | 0.66194017            | 0.86518244            | 0.53696149            | 0.55030199            |  9000000              | \n",
       "| 5/27/2013 12:00:00 AM | 0.2802001             | 0.6925319             | 0.85343830            | 0.7592367             | 1                     | 0.4119693             | 0.1074592             | 0.02296599            | 1                     | ⋯                     | 0.07380783            | 0.0000000             | 0.0000000             | 0.05969682            | 0.00000000            | 0.00000000            | 0.08005969            | 0.00000000            | 0.00000000            |  4457400              | \n",
       "| 5/27/2013 12:00:00 AM | 0.9079846             | 0.7585155             | 0.09680687            | 0.7592367             | 6                     | 0.9584512             | 0.8902639             | 0.84805168            | 1                     | ⋯                     | 0.08948447            | 0.0000000             | 0.0000000             | 0.05782190            | 0.00000000            | 0.00000000            | 0.09858108            | 0.00000000            | 0.00000000            |  7011550              | \n",
       "| 5/27/2013 12:00:00 AM | 0.3820799             | 0.4577072             | 0.53190319            | 0.2819902             | 1                     | 0.2324176             | 0.6243916             | 0.57321022            | 3                     | ⋯                     | 0.02187245            | 0.0000000             | 0.0000000             | 0.05844479            | 0.04670926            | 0.02403055            | 0.35947132            | 0.13435499            | 0.09425488            |  7100000              | \n",
       "| 5/28/2013 12:00:00 AM | 0.2082193             | 0.2461976             | 0.89084791            | 0.7196359             | 1                     | 0.4786586             | 0.1074592             | 0.70355825            | 3                     | ⋯                     | 0.79712346            | 0.3817576             | 0.1845655             | 0.79399303            | 0.57875394            | 0.31195466            | 0.58299771            | 0.77972201            | 0.88013669            |  6450000              | \n",
       "\n",
       "\n"
      ],
      "text/plain": [
       "  timestamp             full_sq   life_sq   floor      max_floor material\n",
       "1 4/27/2013 12:00:00 AM 0.8783374 0.6736665 0.91747306 0.7592367 1       \n",
       "2 5/25/2013 12:00:00 AM 0.5777170 0.5388421 0.76476869 0.7196359 1       \n",
       "3 5/27/2013 12:00:00 AM 0.2802001 0.6925319 0.85343830 0.7592367 1       \n",
       "4 5/27/2013 12:00:00 AM 0.9079846 0.7585155 0.09680687 0.7592367 6       \n",
       "5 5/27/2013 12:00:00 AM 0.3820799 0.4577072 0.53190319 0.2819902 1       \n",
       "6 5/28/2013 12:00:00 AM 0.2082193 0.2461976 0.89084791 0.7196359 1       \n",
       "  build_year num_room  kitch_sq   state ⋯ prom_part_2000 office_count_2000\n",
       "1 0.4119693  0.6243916 0.82179315 3     ⋯ 0.51623253     0.0000000        \n",
       "2 0.4340261  0.6243916 0.70355825 3     ⋯ 0.74657520     0.6516770        \n",
       "3 0.4119693  0.1074592 0.02296599 1     ⋯ 0.07380783     0.0000000        \n",
       "4 0.9584512  0.8902639 0.84805168 1     ⋯ 0.08948447     0.0000000        \n",
       "5 0.2324176  0.6243916 0.57321022 3     ⋯ 0.02187245     0.0000000        \n",
       "6 0.4786586  0.1074592 0.70355825 3     ⋯ 0.79712346     0.3817576        \n",
       "  office_sqm_2000 prom_part_3000 office_count_3000 office_sqm_3000\n",
       "1 0.0000000       0.47965936     0.00000000        0.00000000     \n",
       "2 0.5788594       0.75641623     0.55997402        0.66194017     \n",
       "3 0.0000000       0.05969682     0.00000000        0.00000000     \n",
       "4 0.0000000       0.05782190     0.00000000        0.00000000     \n",
       "5 0.0000000       0.05844479     0.04670926        0.02403055     \n",
       "6 0.1845655       0.79399303     0.57875394        0.31195466     \n",
       "  prom_part_5000 office_count_5000 office_sqm_5000 price_doc\n",
       "1 0.20769527     0.09089031        0.16453261      10100000 \n",
       "2 0.86518244     0.53696149        0.55030199       9000000 \n",
       "3 0.08005969     0.00000000        0.00000000       4457400 \n",
       "4 0.09858108     0.00000000        0.00000000       7011550 \n",
       "5 0.35947132     0.13435499        0.09425488       7100000 \n",
       "6 0.58299771     0.77972201        0.88013669       6450000 "
      ]
     },
     "metadata": {},
     "output_type": "display_data"
    }
   ],
   "source": [
    "head(real_estate)"
   ]
  },
  {
   "cell_type": "code",
   "execution_count": null,
   "metadata": {
    "collapsed": true
   },
   "outputs": [],
   "source": [
    "## Density plot of price"
   ]
  },
  {
   "cell_type": "code",
   "execution_count": null,
   "metadata": {
    "collapsed": true
   },
   "outputs": [],
   "source": [
    "## Segment by Time & type (do some forecasting after all?)"
   ]
  },
  {
   "cell_type": "markdown",
   "metadata": {},
   "source": [
    "# CHOICE OF MODELS\n",
    "Explain your choice of models and discuss the model results using text, charts and tables. Models should be within the scope of the course. You may use any combination of R, Python and Azure Machine Learning for your analysis.\n",
    "\n",
    "Have appropriate steps been taken to improve the model? For example, feature engineering, feature selection, dealing with case imbalances, dealing  with data problems?"
   ]
  },
  {
   "cell_type": "markdown",
   "metadata": {},
   "source": [
    "## Use these"
   ]
  },
  {
   "cell_type": "markdown",
   "metadata": {},
   "source": [
    "- **HW01** scatterplot matrices, density plot, density2d"
   ]
  },
  {
   "cell_type": "markdown",
   "metadata": {},
   "source": [
    "- **HW05** Bootstrapping, difference of means (similar to HW4, but easier & better)"
   ]
  },
  {
   "cell_type": "markdown",
   "metadata": {},
   "source": [
    "- **HW07** Regression initial way to find the vars"
   ]
  },
  {
   "cell_type": "markdown",
   "metadata": {},
   "source": [
    "## Drop These"
   ]
  },
  {
   "cell_type": "markdown",
   "metadata": {},
   "source": [
    "- **HW02** faceted histograms, multiple density plots"
   ]
  },
  {
   "cell_type": "markdown",
   "metadata": {},
   "source": [
    "- **HW03** monty hall simulation (_skip?_)"
   ]
  },
  {
   "cell_type": "markdown",
   "metadata": {},
   "source": [
    "## UNIDEN"
   ]
  },
  {
   "cell_type": "markdown",
   "metadata": {},
   "source": [
    "- **HW04** normalizing, historgrams, t-test, ANOVA, Tukey HSD"
   ]
  },
  {
   "cell_type": "markdown",
   "metadata": {},
   "source": [
    "- **HW06** Bayesian. very similar results to HW05, a bit harder to do."
   ]
  },
  {
   "cell_type": "markdown",
   "metadata": {
    "collapsed": true
   },
   "source": [
    "- **HW08** Time Series, Dairy, Forecasting"
   ]
  },
  {
   "cell_type": "markdown",
   "metadata": {
    "collapsed": true
   },
   "source": [
    "Basic Goals\n",
    "- Wrap our Heads around pricing behavior\n",
    "- Figure out which features might be important\n",
    "- Tease things apart a'la autos, fuel, apsiration, body"
   ]
  },
  {
   "cell_type": "code",
   "execution_count": null,
   "metadata": {
    "collapsed": true
   },
   "outputs": [],
   "source": []
  },
  {
   "cell_type": "code",
   "execution_count": null,
   "metadata": {
    "collapsed": true
   },
   "outputs": [],
   "source": []
  },
  {
   "cell_type": "markdown",
   "metadata": {},
   "source": [
    "# ANALYSIS\n",
    "Is the analysis method selected appropriate to the question being addressed?\n"
   ]
  },
  {
   "cell_type": "code",
   "execution_count": null,
   "metadata": {
    "collapsed": true
   },
   "outputs": [],
   "source": []
  },
  {
   "cell_type": "code",
   "execution_count": null,
   "metadata": {
    "collapsed": true
   },
   "outputs": [],
   "source": []
  },
  {
   "cell_type": "code",
   "execution_count": null,
   "metadata": {
    "collapsed": true
   },
   "outputs": [],
   "source": []
  },
  {
   "cell_type": "code",
   "execution_count": null,
   "metadata": {
    "collapsed": true
   },
   "outputs": [],
   "source": []
  },
  {
   "cell_type": "markdown",
   "metadata": {},
   "source": [
    "# CONCLUSION\n",
    "Are there a clear conclusion supported by the evidence and inferences drawn from the exploratory analysis and an appropriate statistical model presented, even if the result is negative? Are the results understandable to a non-technical audience?\n",
    "\n",
    "Are the conclusions and inferences drawn from the model clear, concise and directed at the stated problem?\n",
    "    "
   ]
  },
  {
   "cell_type": "code",
   "execution_count": null,
   "metadata": {
    "collapsed": true
   },
   "outputs": [],
   "source": []
  },
  {
   "cell_type": "code",
   "execution_count": null,
   "metadata": {
    "collapsed": true
   },
   "outputs": [],
   "source": []
  },
  {
   "cell_type": "code",
   "execution_count": null,
   "metadata": {
    "collapsed": true
   },
   "outputs": [],
   "source": []
  },
  {
   "cell_type": "code",
   "execution_count": null,
   "metadata": {
    "collapsed": true
   },
   "outputs": [],
   "source": []
  }
 ],
 "metadata": {
  "kernelspec": {
   "display_name": "R",
   "language": "R",
   "name": "ir"
  },
  "language_info": {
   "codemirror_mode": "r",
   "file_extension": ".r",
   "mimetype": "text/x-r-source",
   "name": "R",
   "pygments_lexer": "r",
   "version": "3.2.3"
  }
 },
 "nbformat": 4,
 "nbformat_minor": 2
}

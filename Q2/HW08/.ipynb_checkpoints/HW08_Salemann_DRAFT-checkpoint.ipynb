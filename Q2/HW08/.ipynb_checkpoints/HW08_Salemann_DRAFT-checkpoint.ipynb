{
 "cells": [
  {
   "cell_type": "markdown",
   "metadata": {},
   "source": [
    "# IT'S ABOUT TIME (AND ICE CREAM)\n",
    "**_Enough with car prices already, I'm hungry_**\n",
    "### Data Science 410 BB\n",
    "#### University of Washington Professional & Continuing Education\n",
    "#### Homework 8: Time Series Analysis\n",
    "#### Leo Salemann, 3/1/18\n"
   ]
  },
  {
   "cell_type": "code",
   "execution_count": null,
   "metadata": {
    "collapsed": true
   },
   "outputs": [],
   "source": []
  }
 ],
 "metadata": {
  "kernelspec": {
   "display_name": "R",
   "language": "R",
   "name": "ir"
  },
  "language_info": {
   "codemirror_mode": "r",
   "file_extension": ".r",
   "mimetype": "text/x-r-source",
   "name": "R",
   "pygments_lexer": "r",
   "version": "3.2.3"
  }
 },
 "nbformat": 4,
 "nbformat_minor": 2
}

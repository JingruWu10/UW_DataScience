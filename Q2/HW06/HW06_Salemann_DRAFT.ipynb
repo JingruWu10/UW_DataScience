{
 "cells": [
  {
   "cell_type": "markdown",
   "metadata": {},
   "source": [
    "# EVEN MORE CAR TALK: BAYESIAN PRICING\n",
    "**_The search for normality and significance_**\n",
    "### Data Science 410 BB\n",
    "#### University of Washington Professional & Continuing Education\n",
    "#### Homework 6: Applying Bayesian modeling to auto price data\n",
    "#### Leo Salemann, 2/14/18\n"
   ]
  },
  {
   "cell_type": "markdown",
   "metadata": {},
   "source": [
    "# Load Data, Setup some Functions"
   ]
  },
  {
   "cell_type": "code",
   "execution_count": 1,
   "metadata": {},
   "outputs": [
    {
     "name": "stderr",
     "output_type": "stream",
     "text": [
      "Warning message in lapply(autos[, numcols], as.numeric):\n",
      "“NAs introduced by coercion”Warning message in lapply(autos[, numcols], as.numeric):\n",
      "“NAs introduced by coercion”Warning message in lapply(autos[, numcols], as.numeric):\n",
      "“NAs introduced by coercion”Warning message in lapply(autos[, numcols], as.numeric):\n",
      "“NAs introduced by coercion”Warning message in lapply(autos[, numcols], as.numeric):\n",
      "“NAs introduced by coercion”"
     ]
    },
    {
     "data": {
      "text/html": [
       "<table>\n",
       "<thead><tr><th scope=col>symboling</th><th scope=col>normalized.losses</th><th scope=col>make</th><th scope=col>fuel.type</th><th scope=col>aspiration</th><th scope=col>num.of.doors</th><th scope=col>body.style</th><th scope=col>drive.wheels</th><th scope=col>engine.location</th><th scope=col>wheel.base</th><th scope=col>⋯</th><th scope=col>engine.size</th><th scope=col>fuel.system</th><th scope=col>bore</th><th scope=col>stroke</th><th scope=col>compression.ratio</th><th scope=col>horsepower</th><th scope=col>peak.rpm</th><th scope=col>city.mpg</th><th scope=col>highway.mpg</th><th scope=col>price</th></tr></thead>\n",
       "<tbody>\n",
       "\t<tr><td>3          </td><td>?          </td><td>alfa-romero</td><td>gas        </td><td>std        </td><td>two        </td><td>convertible</td><td>rwd        </td><td>front      </td><td>88.6       </td><td>⋯          </td><td>130        </td><td>mpfi       </td><td>3.47       </td><td>2.68       </td><td>9          </td><td>111        </td><td>5000       </td><td>21         </td><td>27         </td><td>13495      </td></tr>\n",
       "\t<tr><td>3          </td><td>?          </td><td>alfa-romero</td><td>gas        </td><td>std        </td><td>two        </td><td>convertible</td><td>rwd        </td><td>front      </td><td>88.6       </td><td>⋯          </td><td>130        </td><td>mpfi       </td><td>3.47       </td><td>2.68       </td><td>9          </td><td>111        </td><td>5000       </td><td>21         </td><td>27         </td><td>16500      </td></tr>\n",
       "\t<tr><td>1          </td><td>?          </td><td>alfa-romero</td><td>gas        </td><td>std        </td><td>two        </td><td>hatchback  </td><td>rwd        </td><td>front      </td><td>94.5       </td><td>⋯          </td><td>152        </td><td>mpfi       </td><td>2.68       </td><td>3.47       </td><td>9          </td><td>154        </td><td>5000       </td><td>19         </td><td>26         </td><td>16500      </td></tr>\n",
       "</tbody>\n",
       "</table>\n"
      ],
      "text/latex": [
       "\\begin{tabular}{r|llllllllllllllllllllllllll}\n",
       " symboling & normalized.losses & make & fuel.type & aspiration & num.of.doors & body.style & drive.wheels & engine.location & wheel.base & ⋯ & engine.size & fuel.system & bore & stroke & compression.ratio & horsepower & peak.rpm & city.mpg & highway.mpg & price\\\\\n",
       "\\hline\n",
       "\t 3           & ?           & alfa-romero & gas         & std         & two         & convertible & rwd         & front       & 88.6        & ⋯           & 130         & mpfi        & 3.47        & 2.68        & 9           & 111         & 5000        & 21          & 27          & 13495      \\\\\n",
       "\t 3           & ?           & alfa-romero & gas         & std         & two         & convertible & rwd         & front       & 88.6        & ⋯           & 130         & mpfi        & 3.47        & 2.68        & 9           & 111         & 5000        & 21          & 27          & 16500      \\\\\n",
       "\t 1           & ?           & alfa-romero & gas         & std         & two         & hatchback   & rwd         & front       & 94.5        & ⋯           & 152         & mpfi        & 2.68        & 3.47        & 9           & 154         & 5000        & 19          & 26          & 16500      \\\\\n",
       "\\end{tabular}\n"
      ],
      "text/markdown": [
       "\n",
       "symboling | normalized.losses | make | fuel.type | aspiration | num.of.doors | body.style | drive.wheels | engine.location | wheel.base | ⋯ | engine.size | fuel.system | bore | stroke | compression.ratio | horsepower | peak.rpm | city.mpg | highway.mpg | price | \n",
       "|---|---|---|\n",
       "| 3           | ?           | alfa-romero | gas         | std         | two         | convertible | rwd         | front       | 88.6        | ⋯           | 130         | mpfi        | 3.47        | 2.68        | 9           | 111         | 5000        | 21          | 27          | 13495       | \n",
       "| 3           | ?           | alfa-romero | gas         | std         | two         | convertible | rwd         | front       | 88.6        | ⋯           | 130         | mpfi        | 3.47        | 2.68        | 9           | 111         | 5000        | 21          | 27          | 16500       | \n",
       "| 1           | ?           | alfa-romero | gas         | std         | two         | hatchback   | rwd         | front       | 94.5        | ⋯           | 152         | mpfi        | 2.68        | 3.47        | 9           | 154         | 5000        | 19          | 26          | 16500       | \n",
       "\n",
       "\n"
      ],
      "text/plain": [
       "  symboling normalized.losses make        fuel.type aspiration num.of.doors\n",
       "1 3         ?                 alfa-romero gas       std        two         \n",
       "2 3         ?                 alfa-romero gas       std        two         \n",
       "3 1         ?                 alfa-romero gas       std        two         \n",
       "  body.style  drive.wheels engine.location wheel.base ⋯ engine.size fuel.system\n",
       "1 convertible rwd          front           88.6       ⋯ 130         mpfi       \n",
       "2 convertible rwd          front           88.6       ⋯ 130         mpfi       \n",
       "3 hatchback   rwd          front           94.5       ⋯ 152         mpfi       \n",
       "  bore stroke compression.ratio horsepower peak.rpm city.mpg highway.mpg price\n",
       "1 3.47 2.68   9                 111        5000     21       27          13495\n",
       "2 3.47 2.68   9                 111        5000     21       27          16500\n",
       "3 2.68 3.47   9                 154        5000     19       26          16500"
      ]
     },
     "metadata": {},
     "output_type": "display_data"
    }
   ],
   "source": [
    "read.auto = function(file = '../../../DataScience410/Lecture1/Automobile price data _Raw_.csv'){\n",
    "  ## Read the csv file\n",
    "  autos <- read.csv(file, header = TRUE, \n",
    "                      stringsAsFactors = FALSE)\n",
    "\n",
    "  ## Coerce some character columns to numeric\n",
    "  numcols <- c('price', 'bore', 'stroke', 'horsepower', 'peak.rpm')\n",
    "  autos[, numcols] <- lapply(autos[, numcols], as.numeric)\n",
    "\n",
    "  ## Remove cases or rows with missing values. In this case we keep the \n",
    "  ## rows which do not have nas. \n",
    "  autos[complete.cases(autos), ]\n",
    "}\n",
    "autos = read.auto()\n",
    "\n",
    "head(autos, 3)"
   ]
  },
  {
   "cell_type": "code",
   "execution_count": 2,
   "metadata": {},
   "outputs": [
    {
     "data": {
      "text/html": [
       "<table>\n",
       "<thead><tr><th scope=col>symboling</th><th scope=col>normalized.losses</th><th scope=col>make</th><th scope=col>fuel.type</th><th scope=col>aspiration</th><th scope=col>num.of.doors</th><th scope=col>body.style</th><th scope=col>drive.wheels</th><th scope=col>engine.location</th><th scope=col>wheel.base</th><th scope=col>⋯</th><th scope=col>fuel.system</th><th scope=col>bore</th><th scope=col>stroke</th><th scope=col>compression.ratio</th><th scope=col>horsepower</th><th scope=col>peak.rpm</th><th scope=col>city.mpg</th><th scope=col>highway.mpg</th><th scope=col>price</th><th scope=col>logPrice</th></tr></thead>\n",
       "<tbody>\n",
       "\t<tr><td>3          </td><td>?          </td><td>alfa-romero</td><td>gas        </td><td>std        </td><td>two        </td><td>convertible</td><td>rwd        </td><td>front      </td><td>88.6       </td><td>⋯          </td><td>mpfi       </td><td>3.47       </td><td>2.68       </td><td>9          </td><td>111        </td><td>5000       </td><td>21         </td><td>27         </td><td>13495      </td><td>9.510075   </td></tr>\n",
       "\t<tr><td>3          </td><td>?          </td><td>alfa-romero</td><td>gas        </td><td>std        </td><td>two        </td><td>convertible</td><td>rwd        </td><td>front      </td><td>88.6       </td><td>⋯          </td><td>mpfi       </td><td>3.47       </td><td>2.68       </td><td>9          </td><td>111        </td><td>5000       </td><td>21         </td><td>27         </td><td>16500      </td><td>9.711116   </td></tr>\n",
       "\t<tr><td>1          </td><td>?          </td><td>alfa-romero</td><td>gas        </td><td>std        </td><td>two        </td><td>hatchback  </td><td>rwd        </td><td>front      </td><td>94.5       </td><td>⋯          </td><td>mpfi       </td><td>2.68       </td><td>3.47       </td><td>9          </td><td>154        </td><td>5000       </td><td>19         </td><td>26         </td><td>16500      </td><td>9.711116   </td></tr>\n",
       "</tbody>\n",
       "</table>\n"
      ],
      "text/latex": [
       "\\begin{tabular}{r|lllllllllllllllllllllllllll}\n",
       " symboling & normalized.losses & make & fuel.type & aspiration & num.of.doors & body.style & drive.wheels & engine.location & wheel.base & ⋯ & fuel.system & bore & stroke & compression.ratio & horsepower & peak.rpm & city.mpg & highway.mpg & price & logPrice\\\\\n",
       "\\hline\n",
       "\t 3           & ?           & alfa-romero & gas         & std         & two         & convertible & rwd         & front       & 88.6        & ⋯           & mpfi        & 3.47        & 2.68        & 9           & 111         & 5000        & 21          & 27          & 13495       & 9.510075   \\\\\n",
       "\t 3           & ?           & alfa-romero & gas         & std         & two         & convertible & rwd         & front       & 88.6        & ⋯           & mpfi        & 3.47        & 2.68        & 9           & 111         & 5000        & 21          & 27          & 16500       & 9.711116   \\\\\n",
       "\t 1           & ?           & alfa-romero & gas         & std         & two         & hatchback   & rwd         & front       & 94.5        & ⋯           & mpfi        & 2.68        & 3.47        & 9           & 154         & 5000        & 19          & 26          & 16500       & 9.711116   \\\\\n",
       "\\end{tabular}\n"
      ],
      "text/markdown": [
       "\n",
       "symboling | normalized.losses | make | fuel.type | aspiration | num.of.doors | body.style | drive.wheels | engine.location | wheel.base | ⋯ | fuel.system | bore | stroke | compression.ratio | horsepower | peak.rpm | city.mpg | highway.mpg | price | logPrice | \n",
       "|---|---|---|\n",
       "| 3           | ?           | alfa-romero | gas         | std         | two         | convertible | rwd         | front       | 88.6        | ⋯           | mpfi        | 3.47        | 2.68        | 9           | 111         | 5000        | 21          | 27          | 13495       | 9.510075    | \n",
       "| 3           | ?           | alfa-romero | gas         | std         | two         | convertible | rwd         | front       | 88.6        | ⋯           | mpfi        | 3.47        | 2.68        | 9           | 111         | 5000        | 21          | 27          | 16500       | 9.711116    | \n",
       "| 1           | ?           | alfa-romero | gas         | std         | two         | hatchback   | rwd         | front       | 94.5        | ⋯           | mpfi        | 2.68        | 3.47        | 9           | 154         | 5000        | 19          | 26          | 16500       | 9.711116    | \n",
       "\n",
       "\n"
      ],
      "text/plain": [
       "  symboling normalized.losses make        fuel.type aspiration num.of.doors\n",
       "1 3         ?                 alfa-romero gas       std        two         \n",
       "2 3         ?                 alfa-romero gas       std        two         \n",
       "3 1         ?                 alfa-romero gas       std        two         \n",
       "  body.style  drive.wheels engine.location wheel.base ⋯ fuel.system bore stroke\n",
       "1 convertible rwd          front           88.6       ⋯ mpfi        3.47 2.68  \n",
       "2 convertible rwd          front           88.6       ⋯ mpfi        3.47 2.68  \n",
       "3 hatchback   rwd          front           94.5       ⋯ mpfi        2.68 3.47  \n",
       "  compression.ratio horsepower peak.rpm city.mpg highway.mpg price logPrice\n",
       "1 9                 111        5000     21       27          13495 9.510075\n",
       "2 9                 111        5000     21       27          16500 9.711116\n",
       "3 9                 154        5000     19       26          16500 9.711116"
      ]
     },
     "metadata": {},
     "output_type": "display_data"
    }
   ],
   "source": [
    "autos$logPrice = log(autos$price)\n",
    "head(autos, 3)"
   ]
  },
  {
   "cell_type": "markdown",
   "metadata": {},
   "source": [
    "# Bayesian Estimate, Stratified by Aspiration\n",
    "Compare the difference of the Bayesian estimate of the mean of log of auto price stratified by 1) aspiration and 2) fuel type. Use both numerical and graphical methods for your comparison. \n",
    "\n",
    "- Are these means different within a 95% credible interval? \n",
    "- How do your conclusions compare to the results you obtained using the to the bootstrap resampled distribution of the mean and the t-test on the log price?   \n",
    "- Use a Normal(mean(sample), sigma(sample)) as your prior distribution for both exercises. \n",
    "- Use sigma(sample), the empirical value of the standard deviation, as a fixed parameter in your likelihood for both exercises. "
   ]
  },
  {
   "cell_type": "code",
   "execution_count": 4,
   "metadata": {},
   "outputs": [
    {
     "data": {
      "text/html": [
       "<table>\n",
       "<thead><tr><th scope=col>symboling</th><th scope=col>normalized.losses</th><th scope=col>make</th><th scope=col>fuel.type</th><th scope=col>aspiration</th><th scope=col>num.of.doors</th><th scope=col>body.style</th><th scope=col>drive.wheels</th><th scope=col>engine.location</th><th scope=col>wheel.base</th><th scope=col>⋯</th><th scope=col>fuel.system</th><th scope=col>bore</th><th scope=col>stroke</th><th scope=col>compression.ratio</th><th scope=col>horsepower</th><th scope=col>peak.rpm</th><th scope=col>city.mpg</th><th scope=col>highway.mpg</th><th scope=col>price</th><th scope=col>logPrice</th></tr></thead>\n",
       "<tbody>\n",
       "\t<tr><td>3          </td><td>?          </td><td>alfa-romero</td><td>gas        </td><td>std        </td><td>two        </td><td>convertible</td><td>rwd        </td><td>front      </td><td>88.6       </td><td>⋯          </td><td>mpfi       </td><td>3.47       </td><td>2.68       </td><td>9          </td><td>111        </td><td>5000       </td><td>21         </td><td>27         </td><td>13495      </td><td>9.510075   </td></tr>\n",
       "\t<tr><td>3          </td><td>?          </td><td>alfa-romero</td><td>gas        </td><td>std        </td><td>two        </td><td>convertible</td><td>rwd        </td><td>front      </td><td>88.6       </td><td>⋯          </td><td>mpfi       </td><td>3.47       </td><td>2.68       </td><td>9          </td><td>111        </td><td>5000       </td><td>21         </td><td>27         </td><td>16500      </td><td>9.711116   </td></tr>\n",
       "\t<tr><td>1          </td><td>?          </td><td>alfa-romero</td><td>gas        </td><td>std        </td><td>two        </td><td>hatchback  </td><td>rwd        </td><td>front      </td><td>94.5       </td><td>⋯          </td><td>mpfi       </td><td>2.68       </td><td>3.47       </td><td>9          </td><td>154        </td><td>5000       </td><td>19         </td><td>26         </td><td>16500      </td><td>9.711116   </td></tr>\n",
       "</tbody>\n",
       "</table>\n"
      ],
      "text/latex": [
       "\\begin{tabular}{r|lllllllllllllllllllllllllll}\n",
       " symboling & normalized.losses & make & fuel.type & aspiration & num.of.doors & body.style & drive.wheels & engine.location & wheel.base & ⋯ & fuel.system & bore & stroke & compression.ratio & horsepower & peak.rpm & city.mpg & highway.mpg & price & logPrice\\\\\n",
       "\\hline\n",
       "\t 3           & ?           & alfa-romero & gas         & std         & two         & convertible & rwd         & front       & 88.6        & ⋯           & mpfi        & 3.47        & 2.68        & 9           & 111         & 5000        & 21          & 27          & 13495       & 9.510075   \\\\\n",
       "\t 3           & ?           & alfa-romero & gas         & std         & two         & convertible & rwd         & front       & 88.6        & ⋯           & mpfi        & 3.47        & 2.68        & 9           & 111         & 5000        & 21          & 27          & 16500       & 9.711116   \\\\\n",
       "\t 1           & ?           & alfa-romero & gas         & std         & two         & hatchback   & rwd         & front       & 94.5        & ⋯           & mpfi        & 2.68        & 3.47        & 9           & 154         & 5000        & 19          & 26          & 16500       & 9.711116   \\\\\n",
       "\\end{tabular}\n"
      ],
      "text/markdown": [
       "\n",
       "symboling | normalized.losses | make | fuel.type | aspiration | num.of.doors | body.style | drive.wheels | engine.location | wheel.base | ⋯ | fuel.system | bore | stroke | compression.ratio | horsepower | peak.rpm | city.mpg | highway.mpg | price | logPrice | \n",
       "|---|---|---|\n",
       "| 3           | ?           | alfa-romero | gas         | std         | two         | convertible | rwd         | front       | 88.6        | ⋯           | mpfi        | 3.47        | 2.68        | 9           | 111         | 5000        | 21          | 27          | 13495       | 9.510075    | \n",
       "| 3           | ?           | alfa-romero | gas         | std         | two         | convertible | rwd         | front       | 88.6        | ⋯           | mpfi        | 3.47        | 2.68        | 9           | 111         | 5000        | 21          | 27          | 16500       | 9.711116    | \n",
       "| 1           | ?           | alfa-romero | gas         | std         | two         | hatchback   | rwd         | front       | 94.5        | ⋯           | mpfi        | 2.68        | 3.47        | 9           | 154         | 5000        | 19          | 26          | 16500       | 9.711116    | \n",
       "\n",
       "\n"
      ],
      "text/plain": [
       "  symboling normalized.losses make        fuel.type aspiration num.of.doors\n",
       "1 3         ?                 alfa-romero gas       std        two         \n",
       "2 3         ?                 alfa-romero gas       std        two         \n",
       "3 1         ?                 alfa-romero gas       std        two         \n",
       "  body.style  drive.wheels engine.location wheel.base ⋯ fuel.system bore stroke\n",
       "1 convertible rwd          front           88.6       ⋯ mpfi        3.47 2.68  \n",
       "2 convertible rwd          front           88.6       ⋯ mpfi        3.47 2.68  \n",
       "3 hatchback   rwd          front           94.5       ⋯ mpfi        2.68 3.47  \n",
       "  compression.ratio horsepower peak.rpm city.mpg highway.mpg price logPrice\n",
       "1 9                 111        5000     21       27          13495 9.510075\n",
       "2 9                 111        5000     21       27          16500 9.711116\n",
       "3 9                 154        5000     19       26          16500 9.711116"
      ]
     },
     "metadata": {},
     "output_type": "display_data"
    },
    {
     "data": {
      "text/html": [
       "<table>\n",
       "<thead><tr><th></th><th scope=col>symboling</th><th scope=col>normalized.losses</th><th scope=col>make</th><th scope=col>fuel.type</th><th scope=col>aspiration</th><th scope=col>num.of.doors</th><th scope=col>body.style</th><th scope=col>drive.wheels</th><th scope=col>engine.location</th><th scope=col>wheel.base</th><th scope=col>⋯</th><th scope=col>fuel.system</th><th scope=col>bore</th><th scope=col>stroke</th><th scope=col>compression.ratio</th><th scope=col>horsepower</th><th scope=col>peak.rpm</th><th scope=col>city.mpg</th><th scope=col>highway.mpg</th><th scope=col>price</th><th scope=col>logPrice</th></tr></thead>\n",
       "<tbody>\n",
       "\t<tr><th scope=row>9</th><td>1        </td><td>158      </td><td>audi     </td><td>gas      </td><td>turbo    </td><td>four     </td><td>sedan    </td><td>fwd      </td><td>front    </td><td>105.8    </td><td>⋯        </td><td>mpfi     </td><td>3.13     </td><td>3.40     </td><td>8.3      </td><td>140      </td><td>5500     </td><td>17       </td><td>20       </td><td>23875    </td><td>10.080587</td></tr>\n",
       "\t<tr><th scope=row>24</th><td>1        </td><td>118      </td><td>dodge    </td><td>gas      </td><td>turbo    </td><td>two      </td><td>hatchback</td><td>fwd      </td><td>front    </td><td> 93.7    </td><td>⋯        </td><td>mpfi     </td><td>3.03     </td><td>3.39     </td><td>7.6      </td><td>102      </td><td>5500     </td><td>24       </td><td>30       </td><td> 7957    </td><td> 8.981807</td></tr>\n",
       "\t<tr><th scope=row>28</th><td>1        </td><td>148      </td><td>dodge    </td><td>gas      </td><td>turbo    </td><td>?        </td><td>sedan    </td><td>fwd      </td><td>front    </td><td> 93.7    </td><td>⋯        </td><td>mpfi     </td><td>3.03     </td><td>3.39     </td><td>7.6      </td><td>102      </td><td>5500     </td><td>24       </td><td>30       </td><td> 8558    </td><td> 9.054622</td></tr>\n",
       "</tbody>\n",
       "</table>\n"
      ],
      "text/latex": [
       "\\begin{tabular}{r|lllllllllllllllllllllllllll}\n",
       "  & symboling & normalized.losses & make & fuel.type & aspiration & num.of.doors & body.style & drive.wheels & engine.location & wheel.base & ⋯ & fuel.system & bore & stroke & compression.ratio & horsepower & peak.rpm & city.mpg & highway.mpg & price & logPrice\\\\\n",
       "\\hline\n",
       "\t9 & 1         & 158       & audi      & gas       & turbo     & four      & sedan     & fwd       & front     & 105.8     & ⋯         & mpfi      & 3.13      & 3.40      & 8.3       & 140       & 5500      & 17        & 20        & 23875     & 10.080587\\\\\n",
       "\t24 & 1         & 118       & dodge     & gas       & turbo     & two       & hatchback & fwd       & front     &  93.7     & ⋯         & mpfi      & 3.03      & 3.39      & 7.6       & 102       & 5500      & 24        & 30        &  7957     &  8.981807\\\\\n",
       "\t28 & 1         & 148       & dodge     & gas       & turbo     & ?         & sedan     & fwd       & front     &  93.7     & ⋯         & mpfi      & 3.03      & 3.39      & 7.6       & 102       & 5500      & 24        & 30        &  8558     &  9.054622\\\\\n",
       "\\end{tabular}\n"
      ],
      "text/markdown": [
       "\n",
       "| <!--/--> | symboling | normalized.losses | make | fuel.type | aspiration | num.of.doors | body.style | drive.wheels | engine.location | wheel.base | ⋯ | fuel.system | bore | stroke | compression.ratio | horsepower | peak.rpm | city.mpg | highway.mpg | price | logPrice | \n",
       "|---|---|---|\n",
       "| 9 | 1         | 158       | audi      | gas       | turbo     | four      | sedan     | fwd       | front     | 105.8     | ⋯         | mpfi      | 3.13      | 3.40      | 8.3       | 140       | 5500      | 17        | 20        | 23875     | 10.080587 | \n",
       "| 24 | 1         | 118       | dodge     | gas       | turbo     | two       | hatchback | fwd       | front     |  93.7     | ⋯         | mpfi      | 3.03      | 3.39      | 7.6       | 102       | 5500      | 24        | 30        |  7957     |  8.981807 | \n",
       "| 28 | 1         | 148       | dodge     | gas       | turbo     | ?         | sedan     | fwd       | front     |  93.7     | ⋯         | mpfi      | 3.03      | 3.39      | 7.6       | 102       | 5500      | 24        | 30        |  8558     |  9.054622 | \n",
       "\n",
       "\n"
      ],
      "text/plain": [
       "   symboling normalized.losses make  fuel.type aspiration num.of.doors\n",
       "9  1         158               audi  gas       turbo      four        \n",
       "24 1         118               dodge gas       turbo      two         \n",
       "28 1         148               dodge gas       turbo      ?           \n",
       "   body.style drive.wheels engine.location wheel.base ⋯ fuel.system bore stroke\n",
       "9  sedan      fwd          front           105.8      ⋯ mpfi        3.13 3.40  \n",
       "24 hatchback  fwd          front            93.7      ⋯ mpfi        3.03 3.39  \n",
       "28 sedan      fwd          front            93.7      ⋯ mpfi        3.03 3.39  \n",
       "   compression.ratio horsepower peak.rpm city.mpg highway.mpg price logPrice \n",
       "9  8.3               140        5500     17       20          23875 10.080587\n",
       "24 7.6               102        5500     24       30           7957  8.981807\n",
       "28 7.6               102        5500     24       30           8558  9.054622"
      ]
     },
     "metadata": {},
     "output_type": "display_data"
    }
   ],
   "source": [
    "autos.std = autos[autos$aspiration == 'std',]\n",
    "autos.turbo = autos[autos$aspiration == 'turbo',]\n",
    "\n",
    "head(autos.std, 3)\n",
    "head(autos.turbo, 3)"
   ]
  },
  {
   "cell_type": "markdown",
   "metadata": {},
   "source": [
    "## Set up the Prior Distribution\n",
    "### THIS WAS DONE AT THE END OF INTRO TO BAYES\n",
    "### SEE THE GALTON FAMILY STUFF\n",
    "\n",
    "Normal(mean(sample), sigma(sample))\n",
    "\n",
    "Use a Normal likelihood function with fixed standard deviation. Use the sample standard deviation, which can be for all cars or it will usually be better to compute this for the subset. \n"
   ]
  },
  {
   "cell_type": "markdown",
   "metadata": {},
   "source": [
    "### Here's what worked in IntroducitonToBayes\n",
    "It used a uniform distribution. From the Text:\n",
    "\n",
    "_Let's test a prior distribution for our one model parameter $p$, $P(p)$. We don't know a lot about these drivers at this point, so we will start with a Uniform distribution._\n",
    "\n",
    "_The code in the cell below computes and plots the uniform prior distribution. Execute this code and examine the results._\n",
    "\n",
    "Seems we just need a different equattion for pp or something"
   ]
  },
  {
   "cell_type": "code",
   "execution_count": 2,
   "metadata": {},
   "outputs": [
    {
     "name": "stderr",
     "output_type": "stream",
     "text": [
      "Loading required package: repr\n"
     ]
    },
    {
     "data": {
      "image/png": "[encoded data removed]",
      "text/plain": [
       "plot without title"
      ]
     },
     "metadata": {},
     "output_type": "display_data"
    }
   ],
   "source": [
    "require(repr)\n",
    "options(repr.plot.width=6, repr.plot.height=5) ## Set the plot area\n",
    "\n",
    "N = 100\n",
    "p = seq(0.01, 0.99, length = N) \n",
    "pp = rep(1/N, length = N)\n",
    "plot(p, pp, typ = 'l', lwd = 2, col = 'blue')"
   ]
  },
  {
   "cell_type": "code",
   "execution_count": null,
   "metadata": {
    "collapsed": true
   },
   "outputs": [],
   "source": []
  },
  {
   "cell_type": "code",
   "execution_count": null,
   "metadata": {
    "collapsed": true
   },
   "outputs": [],
   "source": []
  },
  {
   "cell_type": "code",
   "execution_count": null,
   "metadata": {
    "collapsed": true
   },
   "outputs": [],
   "source": [
    "require(graphics)\n",
    "\n",
    "dnorm(0) == 1/sqrt(2*pi)\n",
    "dnorm(1) == exp(-1/2)/sqrt(2*pi)\n",
    "dnorm(1) == 1/sqrt(2*pi*exp(1))\n",
    "\n",
    "## Using \"log = TRUE\" for an extended range :\n",
    "par(mfrow = c(2,1))\n",
    "plot(function(x) dnorm(x, log = TRUE), -60, 50,\n",
    "     main = \"log { Normal density }\")\n",
    "curve(log(dnorm(x)), add = TRUE, col = \"red\", lwd = 2)\n",
    "mtext(\"dnorm(x, log=TRUE)\", adj = 0)\n",
    "mtext(\"log(dnorm(x))\", col = \"red\", adj = 1)\n",
    "\n"
   ]
  },
  {
   "cell_type": "code",
   "execution_count": 19,
   "metadata": {
    "collapsed": true
   },
   "outputs": [],
   "source": [
    "mean.std = mean(autos.std$logPrice)\n",
    "sd.std = sd(autos.std$logPrice)\n",
    "\n",
    "mean.turbo = mean(autos.std$logPrice)\n",
    "sd.turbo= sd(autos.turbo$logPrice)\n",
    "\n",
    "# prior.std = dnorm(quantile(autos.std$logPrice) mean.std, sd.std)\n",
    "prior.std = rnorm(nrow(autos.std), mean.std, sd.std)\n",
    "prior.tubo = dnorm(quantile(autos.turbo$logPrice), mean.turbo, sd.turbo)\n",
    "\n",
    "# prior.std"
   ]
  },
  {
   "cell_type": "code",
   "execution_count": 12,
   "metadata": {},
   "outputs": [
    {
     "data": {
      "text/html": [
       "0.514013348382733"
      ],
      "text/latex": [
       "0.514013348382733"
      ],
      "text/markdown": [
       "0.514013348382733"
      ],
      "text/plain": [
       "[1] 0.5140133"
      ]
     },
     "metadata": {},
     "output_type": "display_data"
    },
    {
     "data": {
      "text/html": [
       "9.28706379970281"
      ],
      "text/latex": [
       "9.28706379970281"
      ],
      "text/markdown": [
       "9.28706379970281"
      ],
      "text/plain": [
       "[1] 9.287064"
      ]
     },
     "metadata": {},
     "output_type": "display_data"
    }
   ],
   "source": [
    "sd.std\n",
    "mean.std"
   ]
  },
  {
   "cell_type": "code",
   "execution_count": 20,
   "metadata": {},
   "outputs": [
    {
     "data": {
      "text/html": [
       "<ol class=list-inline>\n",
       "\t<li>9.93384295612341</li>\n",
       "\t<li>9.61847489823578</li>\n",
       "\t<li>9.52522980425797</li>\n",
       "\t<li>9.68301123782784</li>\n",
       "\t<li>9.17072476327864</li>\n",
       "\t<li>9.10636349351399</li>\n",
       "\t<li>8.95330473932712</li>\n",
       "\t<li>8.63807454080237</li>\n",
       "\t<li>8.41471375795956</li>\n",
       "\t<li>8.34435102860436</li>\n",
       "\t<li>8.86409225781273</li>\n",
       "\t<li>8.45538159031845</li>\n",
       "\t<li>9.44392904471575</li>\n",
       "\t<li>10.0545731935547</li>\n",
       "\t<li>9.30183851906064</li>\n",
       "\t<li>8.99771965781278</li>\n",
       "\t<li>9.51958824710102</li>\n",
       "\t<li>9.59623667146269</li>\n",
       "\t<li>9.85512281729808</li>\n",
       "\t<li>8.28072300331529</li>\n",
       "\t<li>9.26205096646751</li>\n",
       "\t<li>9.79670845473707</li>\n",
       "\t<li>8.9509306048614</li>\n",
       "\t<li>9.04905197870668</li>\n",
       "\t<li>8.75725372804088</li>\n",
       "\t<li>8.91044112603046</li>\n",
       "\t<li>9.58126051641943</li>\n",
       "\t<li>8.99770388388243</li>\n",
       "\t<li>8.64016533398588</li>\n",
       "\t<li>8.96253145289053</li>\n",
       "\t<li>9.11194622267871</li>\n",
       "\t<li>9.5175980166311</li>\n",
       "\t<li>9.78527346632698</li>\n",
       "\t<li>8.85510873110443</li>\n",
       "\t<li>9.82095270568356</li>\n",
       "\t<li>9.27115020456078</li>\n",
       "\t<li>9.10801374945005</li>\n",
       "\t<li>9.24601421072079</li>\n",
       "\t<li>8.13300348347244</li>\n",
       "\t<li>9.6981760595828</li>\n",
       "\t<li>8.0148702623168</li>\n",
       "\t<li>9.94941144364032</li>\n",
       "\t<li>9.54290454387616</li>\n",
       "\t<li>10.0248280415952</li>\n",
       "\t<li>8.94757734721359</li>\n",
       "\t<li>8.76415899863867</li>\n",
       "\t<li>9.1778582042311</li>\n",
       "\t<li>8.96008179946707</li>\n",
       "\t<li>9.4559961327876</li>\n",
       "\t<li>8.87127943654658</li>\n",
       "\t<li>9.66674712472444</li>\n",
       "\t<li>9.20180306464325</li>\n",
       "\t<li>9.31347544866767</li>\n",
       "\t<li>9.38927012960934</li>\n",
       "\t<li>9.37109548950414</li>\n",
       "\t<li>9.22115680388293</li>\n",
       "\t<li>10.6358561377565</li>\n",
       "\t<li>10.3074493543925</li>\n",
       "\t<li>10.1427853981536</li>\n",
       "\t<li>8.76387822723153</li>\n",
       "\t<li>8.88997472801022</li>\n",
       "\t<li>9.00069061529223</li>\n",
       "\t<li>10.1188796928686</li>\n",
       "\t<li>9.23057643138597</li>\n",
       "\t<li>9.16265323448027</li>\n",
       "\t<li>9.72578643102925</li>\n",
       "\t<li>8.80285497549355</li>\n",
       "\t<li>8.62047583372018</li>\n",
       "\t<li>9.00849337649562</li>\n",
       "\t<li>9.33011832284615</li>\n",
       "\t<li>9.00132944215758</li>\n",
       "\t<li>8.72887699497966</li>\n",
       "\t<li>8.69198537188404</li>\n",
       "\t<li>9.17719860639352</li>\n",
       "\t<li>10.1892241832009</li>\n",
       "\t<li>9.58540810241324</li>\n",
       "\t<li>10.49574867123</li>\n",
       "\t<li>9.60491543718442</li>\n",
       "\t<li>9.17596510985836</li>\n",
       "\t<li>9.42296434121456</li>\n",
       "\t<li>9.440627648817</li>\n",
       "\t<li>8.63659753080748</li>\n",
       "\t<li>8.61850195908112</li>\n",
       "\t<li>9.41737356600899</li>\n",
       "\t<li>9.41420667709511</li>\n",
       "\t<li>9.12004073178176</li>\n",
       "\t<li>9.64675497063827</li>\n",
       "\t<li>9.91882626197764</li>\n",
       "\t<li>10.0457767941119</li>\n",
       "\t<li>10.2065413530132</li>\n",
       "\t<li>8.77887255018772</li>\n",
       "\t<li>9.42921124691001</li>\n",
       "\t<li>8.81331845098486</li>\n",
       "\t<li>9.2326526372623</li>\n",
       "\t<li>9.17957771961072</li>\n",
       "\t<li>9.23567766652358</li>\n",
       "\t<li>8.76967146390222</li>\n",
       "\t<li>9.11959035333834</li>\n",
       "\t<li>9.46242283100386</li>\n",
       "\t<li>8.77196837635622</li>\n",
       "\t<li>9.07051495054687</li>\n",
       "\t<li>9.61690082713998</li>\n",
       "\t<li>9.80373300336472</li>\n",
       "\t<li>9.12121482402217</li>\n",
       "\t<li>8.99747797214824</li>\n",
       "\t<li>9.44904184884247</li>\n",
       "\t<li>8.19351673127141</li>\n",
       "\t<li>9.56434289133217</li>\n",
       "\t<li>8.85422639871742</li>\n",
       "\t<li>8.85605707007653</li>\n",
       "\t<li>9.15276782239252</li>\n",
       "\t<li>10.0350747274938</li>\n",
       "\t<li>8.97082088828872</li>\n",
       "\t<li>9.63777838308708</li>\n",
       "\t<li>9.31078587378979</li>\n",
       "\t<li>8.92401643687587</li>\n",
       "\t<li>9.15923912344378</li>\n",
       "\t<li>8.80392274097595</li>\n",
       "\t<li>9.9582196110691</li>\n",
       "\t<li>9.18178659441391</li>\n",
       "\t<li>8.61826148234186</li>\n",
       "\t<li>8.91499811464009</li>\n",
       "\t<li>9.58508946025897</li>\n",
       "\t<li>9.6662269412299</li>\n",
       "\t<li>10.1636644409924</li>\n",
       "\t<li>10.2434665772795</li>\n",
       "\t<li>8.67235007564119</li>\n",
       "\t<li>9.27746582597013</li>\n",
       "\t<li>9.64105401224305</li>\n",
       "\t<li>9.76239281300047</li>\n",
       "\t<li>10.0298232722158</li>\n",
       "\t<li>10.1378996233942</li>\n",
       "\t<li>9.52908943697837</li>\n",
       "\t<li>8.32991995807091</li>\n",
       "\t<li>9.51340524593853</li>\n",
       "\t<li>8.82879362511064</li>\n",
       "\t<li>9.99115204406054</li>\n",
       "\t<li>8.92512742196695</li>\n",
       "\t<li>8.2867540410965</li>\n",
       "\t<li>9.39178507747846</li>\n",
       "\t<li>8.82793777631987</li>\n",
       "\t<li>9.48268783969531</li>\n",
       "\t<li>9.07430556812281</li>\n",
       "\t<li>9.24978135550003</li>\n",
       "\t<li>9.26574139388229</li>\n",
       "\t<li>9.62183491505771</li>\n",
       "\t<li>9.49512619249056</li>\n",
       "\t<li>8.99082969919512</li>\n",
       "\t<li>9.61915768496941</li>\n",
       "\t<li>10.3641254325877</li>\n",
       "\t<li>9.94464589458211</li>\n",
       "\t<li>8.92086331549104</li>\n",
       "\t<li>10.9828435595407</li>\n",
       "\t<li>8.81127595799745</li>\n",
       "\t<li>8.92985571168458</li>\n",
       "\t<li>9.02751266267264</li>\n",
       "\t<li>8.97054965887415</li>\n",
       "\t<li>8.96300957001264</li>\n",
       "\t<li>9.15102654710981</li>\n",
       "</ol>\n"
      ],
      "text/latex": [
       "\\begin{enumerate*}\n",
       "\\item 9.93384295612341\n",
       "\\item 9.61847489823578\n",
       "\\item 9.52522980425797\n",
       "\\item 9.68301123782784\n",
       "\\item 9.17072476327864\n",
       "\\item 9.10636349351399\n",
       "\\item 8.95330473932712\n",
       "\\item 8.63807454080237\n",
       "\\item 8.41471375795956\n",
       "\\item 8.34435102860436\n",
       "\\item 8.86409225781273\n",
       "\\item 8.45538159031845\n",
       "\\item 9.44392904471575\n",
       "\\item 10.0545731935547\n",
       "\\item 9.30183851906064\n",
       "\\item 8.99771965781278\n",
       "\\item 9.51958824710102\n",
       "\\item 9.59623667146269\n",
       "\\item 9.85512281729808\n",
       "\\item 8.28072300331529\n",
       "\\item 9.26205096646751\n",
       "\\item 9.79670845473707\n",
       "\\item 8.9509306048614\n",
       "\\item 9.04905197870668\n",
       "\\item 8.75725372804088\n",
       "\\item 8.91044112603046\n",
       "\\item 9.58126051641943\n",
       "\\item 8.99770388388243\n",
       "\\item 8.64016533398588\n",
       "\\item 8.96253145289053\n",
       "\\item 9.11194622267871\n",
       "\\item 9.5175980166311\n",
       "\\item 9.78527346632698\n",
       "\\item 8.85510873110443\n",
       "\\item 9.82095270568356\n",
       "\\item 9.27115020456078\n",
       "\\item 9.10801374945005\n",
       "\\item 9.24601421072079\n",
       "\\item 8.13300348347244\n",
       "\\item 9.6981760595828\n",
       "\\item 8.0148702623168\n",
       "\\item 9.94941144364032\n",
       "\\item 9.54290454387616\n",
       "\\item 10.0248280415952\n",
       "\\item 8.94757734721359\n",
       "\\item 8.76415899863867\n",
       "\\item 9.1778582042311\n",
       "\\item 8.96008179946707\n",
       "\\item 9.4559961327876\n",
       "\\item 8.87127943654658\n",
       "\\item 9.66674712472444\n",
       "\\item 9.20180306464325\n",
       "\\item 9.31347544866767\n",
       "\\item 9.38927012960934\n",
       "\\item 9.37109548950414\n",
       "\\item 9.22115680388293\n",
       "\\item 10.6358561377565\n",
       "\\item 10.3074493543925\n",
       "\\item 10.1427853981536\n",
       "\\item 8.76387822723153\n",
       "\\item 8.88997472801022\n",
       "\\item 9.00069061529223\n",
       "\\item 10.1188796928686\n",
       "\\item 9.23057643138597\n",
       "\\item 9.16265323448027\n",
       "\\item 9.72578643102925\n",
       "\\item 8.80285497549355\n",
       "\\item 8.62047583372018\n",
       "\\item 9.00849337649562\n",
       "\\item 9.33011832284615\n",
       "\\item 9.00132944215758\n",
       "\\item 8.72887699497966\n",
       "\\item 8.69198537188404\n",
       "\\item 9.17719860639352\n",
       "\\item 10.1892241832009\n",
       "\\item 9.58540810241324\n",
       "\\item 10.49574867123\n",
       "\\item 9.60491543718442\n",
       "\\item 9.17596510985836\n",
       "\\item 9.42296434121456\n",
       "\\item 9.440627648817\n",
       "\\item 8.63659753080748\n",
       "\\item 8.61850195908112\n",
       "\\item 9.41737356600899\n",
       "\\item 9.41420667709511\n",
       "\\item 9.12004073178176\n",
       "\\item 9.64675497063827\n",
       "\\item 9.91882626197764\n",
       "\\item 10.0457767941119\n",
       "\\item 10.2065413530132\n",
       "\\item 8.77887255018772\n",
       "\\item 9.42921124691001\n",
       "\\item 8.81331845098486\n",
       "\\item 9.2326526372623\n",
       "\\item 9.17957771961072\n",
       "\\item 9.23567766652358\n",
       "\\item 8.76967146390222\n",
       "\\item 9.11959035333834\n",
       "\\item 9.46242283100386\n",
       "\\item 8.77196837635622\n",
       "\\item 9.07051495054687\n",
       "\\item 9.61690082713998\n",
       "\\item 9.80373300336472\n",
       "\\item 9.12121482402217\n",
       "\\item 8.99747797214824\n",
       "\\item 9.44904184884247\n",
       "\\item 8.19351673127141\n",
       "\\item 9.56434289133217\n",
       "\\item 8.85422639871742\n",
       "\\item 8.85605707007653\n",
       "\\item 9.15276782239252\n",
       "\\item 10.0350747274938\n",
       "\\item 8.97082088828872\n",
       "\\item 9.63777838308708\n",
       "\\item 9.31078587378979\n",
       "\\item 8.92401643687587\n",
       "\\item 9.15923912344378\n",
       "\\item 8.80392274097595\n",
       "\\item 9.9582196110691\n",
       "\\item 9.18178659441391\n",
       "\\item 8.61826148234186\n",
       "\\item 8.91499811464009\n",
       "\\item 9.58508946025897\n",
       "\\item 9.6662269412299\n",
       "\\item 10.1636644409924\n",
       "\\item 10.2434665772795\n",
       "\\item 8.67235007564119\n",
       "\\item 9.27746582597013\n",
       "\\item 9.64105401224305\n",
       "\\item 9.76239281300047\n",
       "\\item 10.0298232722158\n",
       "\\item 10.1378996233942\n",
       "\\item 9.52908943697837\n",
       "\\item 8.32991995807091\n",
       "\\item 9.51340524593853\n",
       "\\item 8.82879362511064\n",
       "\\item 9.99115204406054\n",
       "\\item 8.92512742196695\n",
       "\\item 8.2867540410965\n",
       "\\item 9.39178507747846\n",
       "\\item 8.82793777631987\n",
       "\\item 9.48268783969531\n",
       "\\item 9.07430556812281\n",
       "\\item 9.24978135550003\n",
       "\\item 9.26574139388229\n",
       "\\item 9.62183491505771\n",
       "\\item 9.49512619249056\n",
       "\\item 8.99082969919512\n",
       "\\item 9.61915768496941\n",
       "\\item 10.3641254325877\n",
       "\\item 9.94464589458211\n",
       "\\item 8.92086331549104\n",
       "\\item 10.9828435595407\n",
       "\\item 8.81127595799745\n",
       "\\item 8.92985571168458\n",
       "\\item 9.02751266267264\n",
       "\\item 8.97054965887415\n",
       "\\item 8.96300957001264\n",
       "\\item 9.15102654710981\n",
       "\\end{enumerate*}\n"
      ],
      "text/markdown": [
       "1. 9.93384295612341\n",
       "2. 9.61847489823578\n",
       "3. 9.52522980425797\n",
       "4. 9.68301123782784\n",
       "5. 9.17072476327864\n",
       "6. 9.10636349351399\n",
       "7. 8.95330473932712\n",
       "8. 8.63807454080237\n",
       "9. 8.41471375795956\n",
       "10. 8.34435102860436\n",
       "11. 8.86409225781273\n",
       "12. 8.45538159031845\n",
       "13. 9.44392904471575\n",
       "14. 10.0545731935547\n",
       "15. 9.30183851906064\n",
       "16. 8.99771965781278\n",
       "17. 9.51958824710102\n",
       "18. 9.59623667146269\n",
       "19. 9.85512281729808\n",
       "20. 8.28072300331529\n",
       "21. 9.26205096646751\n",
       "22. 9.79670845473707\n",
       "23. 8.9509306048614\n",
       "24. 9.04905197870668\n",
       "25. 8.75725372804088\n",
       "26. 8.91044112603046\n",
       "27. 9.58126051641943\n",
       "28. 8.99770388388243\n",
       "29. 8.64016533398588\n",
       "30. 8.96253145289053\n",
       "31. 9.11194622267871\n",
       "32. 9.5175980166311\n",
       "33. 9.78527346632698\n",
       "34. 8.85510873110443\n",
       "35. 9.82095270568356\n",
       "36. 9.27115020456078\n",
       "37. 9.10801374945005\n",
       "38. 9.24601421072079\n",
       "39. 8.13300348347244\n",
       "40. 9.6981760595828\n",
       "41. 8.0148702623168\n",
       "42. 9.94941144364032\n",
       "43. 9.54290454387616\n",
       "44. 10.0248280415952\n",
       "45. 8.94757734721359\n",
       "46. 8.76415899863867\n",
       "47. 9.1778582042311\n",
       "48. 8.96008179946707\n",
       "49. 9.4559961327876\n",
       "50. 8.87127943654658\n",
       "51. 9.66674712472444\n",
       "52. 9.20180306464325\n",
       "53. 9.31347544866767\n",
       "54. 9.38927012960934\n",
       "55. 9.37109548950414\n",
       "56. 9.22115680388293\n",
       "57. 10.6358561377565\n",
       "58. 10.3074493543925\n",
       "59. 10.1427853981536\n",
       "60. 8.76387822723153\n",
       "61. 8.88997472801022\n",
       "62. 9.00069061529223\n",
       "63. 10.1188796928686\n",
       "64. 9.23057643138597\n",
       "65. 9.16265323448027\n",
       "66. 9.72578643102925\n",
       "67. 8.80285497549355\n",
       "68. 8.62047583372018\n",
       "69. 9.00849337649562\n",
       "70. 9.33011832284615\n",
       "71. 9.00132944215758\n",
       "72. 8.72887699497966\n",
       "73. 8.69198537188404\n",
       "74. 9.17719860639352\n",
       "75. 10.1892241832009\n",
       "76. 9.58540810241324\n",
       "77. 10.49574867123\n",
       "78. 9.60491543718442\n",
       "79. 9.17596510985836\n",
       "80. 9.42296434121456\n",
       "81. 9.440627648817\n",
       "82. 8.63659753080748\n",
       "83. 8.61850195908112\n",
       "84. 9.41737356600899\n",
       "85. 9.41420667709511\n",
       "86. 9.12004073178176\n",
       "87. 9.64675497063827\n",
       "88. 9.91882626197764\n",
       "89. 10.0457767941119\n",
       "90. 10.2065413530132\n",
       "91. 8.77887255018772\n",
       "92. 9.42921124691001\n",
       "93. 8.81331845098486\n",
       "94. 9.2326526372623\n",
       "95. 9.17957771961072\n",
       "96. 9.23567766652358\n",
       "97. 8.76967146390222\n",
       "98. 9.11959035333834\n",
       "99. 9.46242283100386\n",
       "100. 8.77196837635622\n",
       "101. 9.07051495054687\n",
       "102. 9.61690082713998\n",
       "103. 9.80373300336472\n",
       "104. 9.12121482402217\n",
       "105. 8.99747797214824\n",
       "106. 9.44904184884247\n",
       "107. 8.19351673127141\n",
       "108. 9.56434289133217\n",
       "109. 8.85422639871742\n",
       "110. 8.85605707007653\n",
       "111. 9.15276782239252\n",
       "112. 10.0350747274938\n",
       "113. 8.97082088828872\n",
       "114. 9.63777838308708\n",
       "115. 9.31078587378979\n",
       "116. 8.92401643687587\n",
       "117. 9.15923912344378\n",
       "118. 8.80392274097595\n",
       "119. 9.9582196110691\n",
       "120. 9.18178659441391\n",
       "121. 8.61826148234186\n",
       "122. 8.91499811464009\n",
       "123. 9.58508946025897\n",
       "124. 9.6662269412299\n",
       "125. 10.1636644409924\n",
       "126. 10.2434665772795\n",
       "127. 8.67235007564119\n",
       "128. 9.27746582597013\n",
       "129. 9.64105401224305\n",
       "130. 9.76239281300047\n",
       "131. 10.0298232722158\n",
       "132. 10.1378996233942\n",
       "133. 9.52908943697837\n",
       "134. 8.32991995807091\n",
       "135. 9.51340524593853\n",
       "136. 8.82879362511064\n",
       "137. 9.99115204406054\n",
       "138. 8.92512742196695\n",
       "139. 8.2867540410965\n",
       "140. 9.39178507747846\n",
       "141. 8.82793777631987\n",
       "142. 9.48268783969531\n",
       "143. 9.07430556812281\n",
       "144. 9.24978135550003\n",
       "145. 9.26574139388229\n",
       "146. 9.62183491505771\n",
       "147. 9.49512619249056\n",
       "148. 8.99082969919512\n",
       "149. 9.61915768496941\n",
       "150. 10.3641254325877\n",
       "151. 9.94464589458211\n",
       "152. 8.92086331549104\n",
       "153. 10.9828435595407\n",
       "154. 8.81127595799745\n",
       "155. 8.92985571168458\n",
       "156. 9.02751266267264\n",
       "157. 8.97054965887415\n",
       "158. 8.96300957001264\n",
       "159. 9.15102654710981\n",
       "\n",
       "\n"
      ],
      "text/plain": [
       "  [1]  9.933843  9.618475  9.525230  9.683011  9.170725  9.106363  8.953305\n",
       "  [8]  8.638075  8.414714  8.344351  8.864092  8.455382  9.443929 10.054573\n",
       " [15]  9.301839  8.997720  9.519588  9.596237  9.855123  8.280723  9.262051\n",
       " [22]  9.796708  8.950931  9.049052  8.757254  8.910441  9.581261  8.997704\n",
       " [29]  8.640165  8.962531  9.111946  9.517598  9.785273  8.855109  9.820953\n",
       " [36]  9.271150  9.108014  9.246014  8.133003  9.698176  8.014870  9.949411\n",
       " [43]  9.542905 10.024828  8.947577  8.764159  9.177858  8.960082  9.455996\n",
       " [50]  8.871279  9.666747  9.201803  9.313475  9.389270  9.371095  9.221157\n",
       " [57] 10.635856 10.307449 10.142785  8.763878  8.889975  9.000691 10.118880\n",
       " [64]  9.230576  9.162653  9.725786  8.802855  8.620476  9.008493  9.330118\n",
       " [71]  9.001329  8.728877  8.691985  9.177199 10.189224  9.585408 10.495749\n",
       " [78]  9.604915  9.175965  9.422964  9.440628  8.636598  8.618502  9.417374\n",
       " [85]  9.414207  9.120041  9.646755  9.918826 10.045777 10.206541  8.778873\n",
       " [92]  9.429211  8.813318  9.232653  9.179578  9.235678  8.769671  9.119590\n",
       " [99]  9.462423  8.771968  9.070515  9.616901  9.803733  9.121215  8.997478\n",
       "[106]  9.449042  8.193517  9.564343  8.854226  8.856057  9.152768 10.035075\n",
       "[113]  8.970821  9.637778  9.310786  8.924016  9.159239  8.803923  9.958220\n",
       "[120]  9.181787  8.618261  8.914998  9.585089  9.666227 10.163664 10.243467\n",
       "[127]  8.672350  9.277466  9.641054  9.762393 10.029823 10.137900  9.529089\n",
       "[134]  8.329920  9.513405  8.828794  9.991152  8.925127  8.286754  9.391785\n",
       "[141]  8.827938  9.482688  9.074306  9.249781  9.265741  9.621835  9.495126\n",
       "[148]  8.990830  9.619158 10.364125  9.944646  8.920863 10.982844  8.811276\n",
       "[155]  8.929856  9.027513  8.970550  8.963010  9.151027"
      ]
     },
     "metadata": {},
     "output_type": "display_data"
    }
   ],
   "source": [
    "prior.std"
   ]
  },
  {
   "cell_type": "code",
   "execution_count": 15,
   "metadata": {},
   "outputs": [
    {
     "ename": "ERROR",
     "evalue": "Error in xy.coords(x, y, xlabel, ylabel, log): 'x' and 'y' lengths differ\n",
     "output_type": "error",
     "traceback": [
      "Error in xy.coords(x, y, xlabel, ylabel, log): 'x' and 'y' lengths differ\nTraceback:\n",
      "1. plot(xseq, densities, col = \"darkgreen\", xlab = \"\", ylab = \"Density\", \n .     type = \"l\", lwd = 2, cex = 2, main = \"PDF of Standard Normal\", \n .     cex.axis = 0.8)",
      "2. plot.default(xseq, densities, col = \"darkgreen\", xlab = \"\", ylab = \"Density\", \n .     type = \"l\", lwd = 2, cex = 2, main = \"PDF of Standard Normal\", \n .     cex.axis = 0.8)",
      "3. xy.coords(x, y, xlabel, ylabel, log)",
      "4. stop(\"'x' and 'y' lengths differ\")"
     ]
    }
   ],
   "source": [
    "# from https://www.r-bloggers.com/normal-distribution-functions/\n",
    "\n",
    "xseq<-seq(mean.std - 3*sd.std,\n",
    "          mean.std + 3*sd.std,\n",
    "          .01)\n",
    "densities<-prior.std\n",
    "\n",
    "plot(xseq, densities, col=\"darkgreen\",xlab=\"\", ylab=\"Density\", type=\"l\",lwd=2, cex=2, \n",
    "     main=\"PDF of Standard Normal\", cex.axis=.8)"
   ]
  },
  {
   "cell_type": "code",
   "execution_count": 10,
   "metadata": {},
   "outputs": [
    {
     "data": {
      "image/png": "[encoded data removed]",
      "text/plain": [
       "Plot with title “PDF of Standard Normal”"
      ]
     },
     "metadata": {},
     "output_type": "display_data"
    }
   ],
   "source": [
    "# from https://www.r-bloggers.com/normal-distribution-functions/\n",
    "\n",
    "xseq<-seq(-4,4,.01)\n",
    "densities<-dnorm(xseq, 0,1)\n",
    "\n",
    "plot(xseq, densities, col=\"darkgreen\",xlab=\"\", ylab=\"Density\", type=\"l\",lwd=2, cex=2, \n",
    "     main=\"PDF of Standard Normal\", cex.axis=.8)"
   ]
  },
  {
   "cell_type": "code",
   "execution_count": null,
   "metadata": {
    "collapsed": true
   },
   "outputs": [],
   "source": []
  },
  {
   "cell_type": "code",
   "execution_count": null,
   "metadata": {
    "collapsed": true
   },
   "outputs": [],
   "source": []
  },
  {
   "cell_type": "code",
   "execution_count": null,
   "metadata": {
    "collapsed": true
   },
   "outputs": [],
   "source": []
  },
  {
   "cell_type": "code",
   "execution_count": null,
   "metadata": {
    "collapsed": true
   },
   "outputs": [],
   "source": []
  },
  {
   "cell_type": "code",
   "execution_count": null,
   "metadata": {
    "collapsed": true
   },
   "outputs": [],
   "source": [
    "plot(function(x) dnorm(x, log = TRUE), -1. 1)"
   ]
  },
  {
   "cell_type": "code",
   "execution_count": null,
   "metadata": {
    "collapsed": true
   },
   "outputs": [],
   "source": [
    "require(repr)\n",
    "options(repr.plot.width=6, repr.plot.height=5) ## Set the plot area\n",
    "\n",
    "N = nrow(prior.std)\n",
    "p = seq(0.01, 0.99, length = N) \n",
    "pp = prior.std\n",
    "plot(p, pp, typ = 'l', lwd = 2, col = 'blue')"
   ]
  },
  {
   "cell_type": "code",
   "execution_count": null,
   "metadata": {
    "collapsed": true
   },
   "outputs": [],
   "source": [
    "require(repr)\n",
    "options(repr.plot.width=6, repr.plot.height=5) ## Set the plot area\n",
    "\n",
    "N = 100\n",
    "p = seq(0.01, 0.99, length = N) \n",
    "pp = rep(1/N, length = N)\n",
    "plot(p, pp, typ = 'l', lwd = 2, col = 'blue')"
   ]
  },
  {
   "cell_type": "code",
   "execution_count": null,
   "metadata": {
    "collapsed": true
   },
   "outputs": [],
   "source": []
  },
  {
   "cell_type": "code",
   "execution_count": null,
   "metadata": {
    "collapsed": true
   },
   "outputs": [],
   "source": [
    "## "
   ]
  },
  {
   "cell_type": "code",
   "execution_count": null,
   "metadata": {
    "collapsed": true
   },
   "outputs": [],
   "source": []
  },
  {
   "cell_type": "code",
   "execution_count": null,
   "metadata": {
    "collapsed": true
   },
   "outputs": [],
   "source": []
  },
  {
   "cell_type": "code",
   "execution_count": null,
   "metadata": {
    "collapsed": true
   },
   "outputs": [],
   "source": []
  },
  {
   "cell_type": "code",
   "execution_count": null,
   "metadata": {
    "collapsed": true
   },
   "outputs": [],
   "source": []
  },
  {
   "cell_type": "markdown",
   "metadata": {},
   "source": [
    "# Bayesian Estimate, Stratified by Fuel Type\n",
    "Compare the difference of the Bayesian estimate of the mean of log of auto price stratified by 1) aspiration and 2) fuel type. Use both numerical and graphical methods for your comparison. \n",
    "\n",
    "- Are these means different within a 95% credible interval? \n",
    "- How do your conclusions compare to the results you obtained using the to the bootstrap resampled distribution of the mean and the t-test on the log price?\n",
    "- Use a Normal(mean(sample), sigma(sample)) as your prior distribution for both exercises. \n",
    "- Use sigma(sample), the empirical value of the standard deviation, as a fixed parameter in your likelihood for both exercises.  "
   ]
  },
  {
   "cell_type": "code",
   "execution_count": null,
   "metadata": {
    "collapsed": true
   },
   "outputs": [],
   "source": [
    "autos.gas = auto.price[auto.price$fuel.type == 'gas',]\n",
    "autos.diesel = auto.price[auto.price$fuel.type == 'diesel',]"
   ]
  },
  {
   "cell_type": "code",
   "execution_count": null,
   "metadata": {
    "collapsed": true
   },
   "outputs": [],
   "source": []
  },
  {
   "cell_type": "code",
   "execution_count": null,
   "metadata": {
    "collapsed": true
   },
   "outputs": [],
   "source": []
  },
  {
   "cell_type": "markdown",
   "metadata": {},
   "source": [
    "# Bayesian Estimate, Stratified by Body Style\n",
    "- Compare the differences of the Bayesian estimate of the distribution of the log price of the autos grouped by body style. You will need to do this pair wise; e.g. between each possible pairing of body styles. Use both numerical and graphical methods for your comparison. \n",
    "- Which pairs of means are different within a 95% credible interval? \n",
    "- How do your conclusions compare to the results you obtained from the bootstrap method, ANOVA and Tukey’s HSD analysis you previously performed? \n",
    "- Notice that the posterior is closer to the likelihood for groups with more data values. \n",
    "\n",
    "- Use a Normal(mean(sample), sigma(sample)) as your prior distribution for both exercises. Use sigma(sample), the empirical value of the standard deviation, as a fixed parameter in your likelihood for both exercises.  "
   ]
  },
  {
   "cell_type": "code",
   "execution_count": null,
   "metadata": {
    "collapsed": true
   },
   "outputs": [],
   "source": []
  },
  {
   "cell_type": "code",
   "execution_count": null,
   "metadata": {
    "collapsed": true
   },
   "outputs": [],
   "source": []
  },
  {
   "cell_type": "code",
   "execution_count": null,
   "metadata": {
    "collapsed": true
   },
   "outputs": [],
   "source": []
  },
  {
   "cell_type": "markdown",
   "metadata": {},
   "source": [
    "# vvvvvvvvvvvvvvvvv JUNK vvvvvvvvvvvvvvvvvvvvvvvv"
   ]
  },
  {
   "cell_type": "code",
   "execution_count": null,
   "metadata": {
    "collapsed": true
   },
   "outputs": [],
   "source": [
    "t = 1/3\n",
    "print(t)\n",
    "print(format(round(t, 2), nsmall=2))\n",
    "paste(format(round(t, 2), nsmall=2))"
   ]
  },
  {
   "cell_type": "code",
   "execution_count": null,
   "metadata": {
    "collapsed": true
   },
   "outputs": [],
   "source": [
    "plot.hist <- function(a, maxs, mins, cols = 'difference of means', \n",
    "                      nbins = 80, p = 0.05, digits = 3, ...) {\n",
    "    \n",
    "  breaks = seq(maxs, mins, length.out = (nbins + 1))\n",
    "  \n",
    "  m     = mean(a)\n",
    "  ci_lo = quantile(a, probs = p/2)\n",
    "  ci_hi = quantile(a, probs = (1 - p/2)) \n",
    "    \n",
    "  p_m     = format(round(m,     digits), nsmall=digits)\n",
    "  p_ci_lo = format(round(ci_lo, digits), nsmall=digits)\n",
    "  p_ci_hi = format(round(ci_hi, digits), nsmall=digits)\n",
    "\n",
    "  hist(a, breaks = breaks, \n",
    "       main = paste('Histogram of', cols, '\\n',\n",
    "                    'mean=', p_m, '; confidence interval =[', p_ci_lo, ', ', p_ci_hi, ']'), \n",
    "       xlab = cols)\n",
    "  abline(v = m, lwd = 4, col = 'red')\n",
    "  abline(v = 0, lwd = 4, col = 'blue')\n",
    "  abline(v = ci_lo, lty = 3, col = 'red', lwd = 3)  \n",
    "  abline(v = ci_hi, lty = 3, col = 'red', lwd = 3)\n",
    "}\n",
    "\n",
    "plot.t <- function(a, b, cols = c('pop_A', 'pop_B'), nbins = 80, \n",
    "                   p_cutoff = 0.05, format_digits = 2){\n",
    "  maxs = max(c(max(a), max(b)))\n",
    "  mins = min(c(min(a), min(b)))\n",
    "  par(mfrow = c(2, 1))\n",
    "  plot.hist(a, maxs, mins, cols = cols[1], nbins, p_cutoff, format_digits)\n",
    "  plot.hist(b, maxs, mins, cols = cols[2], nbins, p_cutoff, format_digits)\n",
    "  par(mfrow = c(1, 1))\n",
    "}\n"
   ]
  },
  {
   "cell_type": "code",
   "execution_count": null,
   "metadata": {
    "collapsed": true
   },
   "outputs": [],
   "source": [
    "## Bootstrap the difference in means of sons and daughters\n",
    "plot.diff <- function(a, cols = 'difference of means', nbins = 80, \n",
    "                      pval = 0.05, print_digits = 2){\n",
    "  maxs = max(a)\n",
    "  mins = min(a)\n",
    "  plot.hist(a, maxs, mins, cols = cols[1], p_cutoff = pval, \n",
    "            format_digits = print_digits)\n",
    "}"
   ]
  },
  {
   "cell_type": "code",
   "execution_count": null,
   "metadata": {
    "collapsed": true
   },
   "outputs": [],
   "source": [
    "library(resample)\n",
    "library(simpleboot)"
   ]
  },
  {
   "cell_type": "markdown",
   "metadata": {},
   "source": [
    "# Bootstrapped Means, Aspiration and Fuel\n",
    "Compare the difference of the bootstrap resampled mean of the log price of autos grouped by 1) aspiration and 2) fuel type. Use both numerical and graphical methods for your comparison. Are these means different within a 95% confidence interval? How do your conclusions compare to the results you obtained using the t-test last week?"
   ]
  },
  {
   "cell_type": "markdown",
   "metadata": {},
   "source": [
    "## Graphical Approach"
   ]
  },
  {
   "cell_type": "markdown",
   "metadata": {},
   "source": [
    "## Dfference of means, bootstrapped gas vs. diesel\n",
    "### [TODO] get some better labelling on the graph"
   ]
  },
  {
   "cell_type": "code",
   "execution_count": null,
   "metadata": {
    "collapsed": true,
    "scrolled": false
   },
   "outputs": [],
   "source": [
    "require(repr)\n",
    "options(repr.plot.width=6, repr.plot.height=2)\n",
    "\n",
    "## Bootstrap the mean of the gas vs. diesel, plot individual histograms\n",
    "mean.boot.gas = one.boot(log(autos.gas$price), mean, R = 100000)\n",
    "mean.boot.diesel = one.boot(log(autos.diesel$price), mean, R = 100000)\n",
    "options(repr.plot.width=6, repr.plot.height=8)\n",
    "plot.t(mean.boot.gas$t, mean.boot.diesel$t, nbins = 80, cols = c('gas', 'diesel'), format_digits = 3)\n",
    "\n",
    "\n",
    "# Plot the difference\n",
    "options(repr.plot.width=6, repr.plot.height=3)\n",
    "two.boot.mean = two.boot(log(autos.gas$price), log(autos.diesel$price), mean, R = 100000)\n",
    "plot.diff(two.boot.mean$t)"
   ]
  },
  {
   "cell_type": "markdown",
   "metadata": {},
   "source": [
    "### Conclusions, Graphical Analysis\n",
    "- Histograms exhibit some overlap, but the mean of one does not fall within the 95% conficence interval of the mean of the other.\n",
    "- Mean log(price) is 0.2 less for gas cars vs. diesel.  Both sides of the 95% confidence level are to the left of zero.\n",
    "- Fuel type has a significant impact on price"
   ]
  },
  {
   "cell_type": "markdown",
   "metadata": {},
   "source": [
    "## Numerical Approach\n",
    "Just by comparing the numerical values of the confidence intervals of the bootstrap distribution of the mean. The other method is to plot the histogram of the bootstrap distribution showing the mean and the confidence intervals."
   ]
  },
  {
   "cell_type": "code",
   "execution_count": null,
   "metadata": {
    "collapsed": true
   },
   "outputs": [],
   "source": [
    "mean.boot.gas$t0\n",
    "mean(mean.boot.gas$t)"
   ]
  },
  {
   "cell_type": "code",
   "execution_count": null,
   "metadata": {
    "collapsed": true
   },
   "outputs": [],
   "source": [
    "mean(mean.boot.gas$t)\n",
    "quantile(mean.boot.gas$t, 0.05)\n",
    "quantile(mean.boot.gas$t, 0.95)"
   ]
  },
  {
   "cell_type": "code",
   "execution_count": null,
   "metadata": {
    "collapsed": true
   },
   "outputs": [],
   "source": []
  },
  {
   "cell_type": "markdown",
   "metadata": {},
   "source": [
    "## Dfference of means, bootstrapped standard vs. turbo\n",
    "### [TODO] get some better labelling on the graph"
   ]
  },
  {
   "cell_type": "code",
   "execution_count": null,
   "metadata": {
    "collapsed": true
   },
   "outputs": [],
   "source": [
    "autos.std = auto.price[auto.price$aspiration == 'std',]\n",
    "autos.turbo = auto.price[auto.price$aspiration == 'turbo',]"
   ]
  },
  {
   "cell_type": "code",
   "execution_count": null,
   "metadata": {
    "collapsed": true
   },
   "outputs": [],
   "source": [
    "require(repr)\n",
    "options(repr.plot.width=6, repr.plot.height=2)\n",
    "\n",
    "## Bootstrap the mean of the gas vs. diesel, plot individual histograms\n",
    "mean.boot.std = one.boot(log(autos.std$price), mean, R = 100000)\n",
    "mean.boot.turbo = one.boot(log(autos.turbo$price), mean, R = 100000)\n",
    "options(repr.plot.width=6, repr.plot.height=8)\n",
    "plot.t(mean.boot.std$t, mean.boot.turbo$t, nbins = 80, cols = c('std', 'turbo'))\n",
    "\n",
    "# Plot the difference\n",
    "options(repr.plot.width=6, repr.plot.height=3)\n",
    "two.boot.mean = two.boot(log(autos.std$price), log(autos.turbo$price), mean, R = 100000)\n",
    "plot.diff(two.boot.mean$t)"
   ]
  },
  {
   "cell_type": "markdown",
   "metadata": {},
   "source": [
    "### Conclusions, Graphical Analysis\n",
    "- Individual histograms are widely separated.\n",
    "- Difference histogram, shows a mean and 95% confidence interval far from zero.\n",
    "- Mean log(price) of standard fuel cars is about 0.35 less than turbo\n",
    "- Fuel aspiration has a significant impact on price"
   ]
  },
  {
   "cell_type": "markdown",
   "metadata": {},
   "source": [
    "## Numerical Approach\n",
    "Just by comparing the numerical values of the confidence intervals of the bootstrap distribution of the mean. The other method is to plot the histogram of the bootstrap distribution showing the mean and the confidence intervals."
   ]
  },
  {
   "cell_type": "code",
   "execution_count": null,
   "metadata": {
    "collapsed": true
   },
   "outputs": [],
   "source": []
  },
  {
   "cell_type": "code",
   "execution_count": null,
   "metadata": {
    "collapsed": true
   },
   "outputs": [],
   "source": []
  },
  {
   "cell_type": "code",
   "execution_count": null,
   "metadata": {
    "collapsed": true
   },
   "outputs": [],
   "source": []
  },
  {
   "cell_type": "markdown",
   "metadata": {},
   "source": [
    "## Conclusion\n",
    "Are these means different within a 95% confidence interval? How do your conclusions compare to the results you obtained using the t-test last week?"
   ]
  },
  {
   "cell_type": "code",
   "execution_count": null,
   "metadata": {
    "collapsed": true
   },
   "outputs": [],
   "source": []
  },
  {
   "cell_type": "code",
   "execution_count": null,
   "metadata": {
    "collapsed": true
   },
   "outputs": [],
   "source": []
  },
  {
   "cell_type": "code",
   "execution_count": null,
   "metadata": {
    "collapsed": true
   },
   "outputs": [],
   "source": []
  },
  {
   "cell_type": "markdown",
   "metadata": {},
   "source": [
    "# Bootstrapped Means, Body Style\n",
    "Compare the differences of the bootstrap resampled mean of the log price of the autos grouped by body style. You will need to do this pair wise; e.g. between each possible pairing of body styles. Use both numerical and graphical methods for your comparison. Which pairs of means are different within a 95% confidence interval? How do your conclusions compare to the results you obtained from the ANOVA and Tukey’s HSD analysis you performed last week?"
   ]
  },
  {
   "cell_type": "markdown",
   "metadata": {},
   "source": [
    "## Graphical Approach"
   ]
  },
  {
   "cell_type": "markdown",
   "metadata": {},
   "source": [
    "### Gather up the groupings"
   ]
  },
  {
   "cell_type": "code",
   "execution_count": null,
   "metadata": {
    "collapsed": true
   },
   "outputs": [],
   "source": [
    "autos.sedan     = auto.price[auto.price$body.style == 'sedan',]\n",
    "autos.hatchback = auto.price[auto.price$body.style == 'hatchback',]\n",
    "autos.wagon     = auto.price[auto.price$body.style == 'wagon',]"
   ]
  },
  {
   "cell_type": "code",
   "execution_count": null,
   "metadata": {
    "collapsed": true
   },
   "outputs": [],
   "source": [
    "## Bootstrap the mean of the gas vs. diesel, plot individual histograms\n",
    "mean.boot.sedan     = one.boot(log(autos.sedan$price), mean, R = 100000)\n",
    "mean.boot.hatchback = one.boot(log(autos.hatchback$price), mean, R = 100000)\n",
    "mean.boot.wagon     = one.boot(log(autos.wagon$price), mean, R = 100000)"
   ]
  },
  {
   "cell_type": "markdown",
   "metadata": {
    "collapsed": true
   },
   "source": [
    "#### Sedan vs. Hatchback"
   ]
  },
  {
   "cell_type": "code",
   "execution_count": null,
   "metadata": {
    "collapsed": true
   },
   "outputs": [],
   "source": [
    "options(repr.plot.width=6, repr.plot.height=8)\n",
    "plot.t(mean.boot.sedan$t, mean.boot.hatchback$t, nbins = 80, cols = c('sedan', 'hatchback'))\n",
    "\n",
    "# Plot the difference\n",
    "options(repr.plot.width=6, repr.plot.height=3)\n",
    "two.boot.mean = two.boot(log(autos.sedan$price), log(autos.hatchback$price), mean, R = 100000)\n",
    "plot.diff(two.boot.mean$t)"
   ]
  },
  {
   "cell_type": "code",
   "execution_count": null,
   "metadata": {
    "collapsed": true
   },
   "outputs": [],
   "source": []
  },
  {
   "cell_type": "code",
   "execution_count": null,
   "metadata": {
    "collapsed": true
   },
   "outputs": [],
   "source": []
  },
  {
   "cell_type": "markdown",
   "metadata": {},
   "source": [
    "#### Wagon vs. Hatchback"
   ]
  },
  {
   "cell_type": "code",
   "execution_count": null,
   "metadata": {
    "collapsed": true
   },
   "outputs": [],
   "source": [
    "options(repr.plot.width=6, repr.plot.height=8)\n",
    "plot.t(mean.boot.wagon$t, mean.boot.hatchback$t, nbins = 80, cols = c('wagon', 'hatchback'))\n",
    "\n",
    "# Plot the difference\n",
    "options(repr.plot.width=6, repr.plot.height=3)\n",
    "two.boot.mean = two.boot(log(autos.wagon$price), log(autos.hatchback$price), mean, R = 100000)\n",
    "plot.diff(two.boot.mean$t)"
   ]
  },
  {
   "cell_type": "code",
   "execution_count": null,
   "metadata": {
    "collapsed": true
   },
   "outputs": [],
   "source": []
  },
  {
   "cell_type": "code",
   "execution_count": null,
   "metadata": {
    "collapsed": true
   },
   "outputs": [],
   "source": []
  },
  {
   "cell_type": "code",
   "execution_count": null,
   "metadata": {
    "collapsed": true
   },
   "outputs": [],
   "source": []
  },
  {
   "cell_type": "markdown",
   "metadata": {},
   "source": [
    "#### Wagon vs. Sedan"
   ]
  },
  {
   "cell_type": "code",
   "execution_count": null,
   "metadata": {
    "collapsed": true
   },
   "outputs": [],
   "source": [
    "options(repr.plot.width=6, repr.plot.height=8)\n",
    "plot.t(mean.boot.wagon$t, mean.boot.sedan$t, nbins = 80, cols = c('wagon', 'sedan'))\n",
    "\n",
    "# Plot the difference\n",
    "options(repr.plot.width=6, repr.plot.height=3)\n",
    "two.boot.mean = two.boot(log(autos.wagon$price), log(autos.sedan$price), mean, R = 100000)\n",
    "plot.diff(two.boot.mean$t)"
   ]
  },
  {
   "cell_type": "markdown",
   "metadata": {},
   "source": [
    "## Compare to ANOVA/TukeyHSD"
   ]
  },
  {
   "cell_type": "markdown",
   "metadata": {},
   "source": [
    "### Brief digression back to ANOVA"
   ]
  },
  {
   "cell_type": "code",
   "execution_count": null,
   "metadata": {
    "collapsed": true
   },
   "outputs": [],
   "source": [
    "autos.body.style = auto.price[auto.price$body.style %in% c(\"hatchback\",\"sedan\", \"wagon\"),]\n",
    "autos.body.style.aov = aov(log(price) ~ body.style, data = autos.body.style)\n",
    "autos.body.style.hsd = TukeyHSD(autos.body.style.aov)"
   ]
  },
  {
   "cell_type": "code",
   "execution_count": null,
   "metadata": {
    "collapsed": true,
    "scrolled": false
   },
   "outputs": [],
   "source": [
    "options(repr.plot.width=8, repr.plot.height=3)\n",
    "par (las=2)\n",
    "par(mar=c(5,10,3,1))\n",
    "plot(autos.body.style.hsd)"
   ]
  },
  {
   "cell_type": "markdown",
   "metadata": {},
   "source": [
    "### Conclusion, Bootstrap vs. ANOVA, Graphical Approach\n",
    " - TukeyHSD says ...\n",
    "   - Sedan/Hatchback well-differentiated\n",
    "   - Wagon/Hatchback almost/not-quite differentiated\n",
    "   - Wagon/Sedan not at all differentiated\n",
    " - Bootsrap says ... \n",
    "   - Sedan/Hatchback well-differentiated\n",
    "   - Wagon/Hatchback well-differentiated\n",
    "   - Wagon/Sedan not at all differentiated\n",
    "   \n",
    "Bootstratpping found differentiaont where TukeyHSD didn't. Seems that you can use TukeyHSD to find the \"near-misses\" (e.g., Wagon vs. Hatchback) then verify them with Bootstratp"
   ]
  },
  {
   "cell_type": "markdown",
   "metadata": {},
   "source": [
    "## Numerical Approach\n",
    "Just by comparing the numerical values of the confidence intervals of the bootstrap distribution of the mean. The other method is to plot the histogram of the bootstrap distribution showing the mean and the confidence intervals."
   ]
  },
  {
   "cell_type": "code",
   "execution_count": null,
   "metadata": {
    "collapsed": true
   },
   "outputs": [],
   "source": []
  },
  {
   "cell_type": "code",
   "execution_count": null,
   "metadata": {
    "collapsed": true
   },
   "outputs": [],
   "source": []
  },
  {
   "cell_type": "code",
   "execution_count": null,
   "metadata": {
    "collapsed": true
   },
   "outputs": [],
   "source": []
  },
  {
   "cell_type": "markdown",
   "metadata": {},
   "source": [
    "## Conclusion\n",
    "Which pairs of means are different within a 95% confidence interval? How do your conclusions compare to the results you obtained from the ANOVA and Tukey’s HSD analysis you performed last week?"
   ]
  },
  {
   "cell_type": "code",
   "execution_count": null,
   "metadata": {
    "collapsed": true
   },
   "outputs": [],
   "source": []
  },
  {
   "cell_type": "code",
   "execution_count": null,
   "metadata": {
    "collapsed": true
   },
   "outputs": [],
   "source": []
  },
  {
   "cell_type": "code",
   "execution_count": null,
   "metadata": {
    "collapsed": true
   },
   "outputs": [],
   "source": []
  },
  {
   "cell_type": "markdown",
   "metadata": {},
   "source": [
    "# vvvvvvvvvvvvvv JUNK vvvvvvvvvv"
   ]
  },
  {
   "cell_type": "markdown",
   "metadata": {},
   "source": [
    "## Normalize Pricing values\n",
    "Get everything ranging from zero to one.\n",
    "normit function from  [stack overlow](https://stackoverflow.com/questions/5665599/range-standardization-0-to-1-in-r)"
   ]
  },
  {
   "cell_type": "code",
   "execution_count": null,
   "metadata": {
    "collapsed": true
   },
   "outputs": [],
   "source": [
    "prices = auto.price$price\n",
    "prices.log = log(auto.price$price)\n",
    "\n",
    "normit = function(x){(x-min(x))/(max(x)-min(x))}\n",
    "\n",
    "prices.norm = normit(prices)\n",
    "prices.log.norm = normit(prices.log)\n",
    "\n",
    "head(prices.norm)\n",
    "head(prices.log.norm)"
   ]
  },
  {
   "cell_type": "markdown",
   "metadata": {
    "collapsed": true
   },
   "source": [
    "# Compare and test Normality: A Graphical Approach"
   ]
  },
  {
   "cell_type": "markdown",
   "metadata": {},
   "source": [
    "## Start with paired Q-Q plots  "
   ]
  },
  {
   "cell_type": "code",
   "execution_count": null,
   "metadata": {
    "collapsed": true
   },
   "outputs": [],
   "source": [
    "options(repr.plot.width=5, repr.plot.height=3)\n",
    "\n",
    "# Visual test of normality\n",
    "par(mfrow = c(1, 2))\n",
    "qqnorm(prices.norm, main = 'Q-Q plot of Price')\n",
    "qqnorm(prices.log.norm, main = 'Q-Q plot of log(Price)')\n",
    "par(mfrow = c(1, 1))"
   ]
  },
  {
   "cell_type": "markdown",
   "metadata": {},
   "source": [
    "Log(Price) appears to be closer to normal (e.g. a move of a straight line) than regular prce."
   ]
  },
  {
   "cell_type": "markdown",
   "metadata": {},
   "source": [
    "## A closer look with individual plots"
   ]
  },
  {
   "cell_type": "code",
   "execution_count": null,
   "metadata": {
    "collapsed": true
   },
   "outputs": [],
   "source": [
    "options(repr.plot.width=5, repr.plot.height=5)\n",
    "\n",
    "# Visual test of normality\n",
    "qqnorm(prices.norm, main = 'Q-Q plot of Price')\n",
    "abline(a = 0.0, b = 1.0, lty = 2, col = 'blue')"
   ]
  },
  {
   "cell_type": "code",
   "execution_count": null,
   "metadata": {
    "collapsed": true
   },
   "outputs": [],
   "source": [
    "options(repr.plot.width=5, repr.plot.height=5)\n",
    "\n",
    "# Visual test of normality\n",
    "qqnorm(prices.log.norm, main = 'Q-Q plot of log(Price)')\n",
    "abline(a = 0.0, b = 1.0, lty = 2, col = 'blue')"
   ]
  },
  {
   "cell_type": "markdown",
   "metadata": {},
   "source": [
    "There's a tiny patch between the 0.4 and 0.6 quantiles where log(Price) matches a normal distribution; regular Price doesn't come close."
   ]
  },
  {
   "cell_type": "markdown",
   "metadata": {
    "collapsed": true
   },
   "source": [
    "# Compare and test Normality: Formal tests though K-S Statistics"
   ]
  },
  {
   "cell_type": "code",
   "execution_count": null,
   "metadata": {
    "collapsed": true
   },
   "outputs": [],
   "source": [
    "normal.distro = rnorm(948) ## Our standard Normal for comparison.\n",
    "ks.test(prices.norm, normal.distro, alternative = \"two.sided\") \n",
    "ks.test(prices.log.norm, normal.distro, alternative = \"two.sided\") "
   ]
  },
  {
   "cell_type": "markdown",
   "metadata": {},
   "source": [
    "\n",
    "Analyticlally, the p-values are the same; can't tell the difference.\n"
   ]
  },
  {
   "cell_type": "markdown",
   "metadata": {},
   "source": [
    "## Conclusion, Normality Tests\n",
    "Both are terrible, but log of price is just-slightly more similar to a normal distributon."
   ]
  },
  {
   "cell_type": "markdown",
   "metadata": {},
   "source": [
    "# Testing Significance of log(Price) based on fuel, aspiration, drive train"
   ]
  },
  {
   "cell_type": "markdown",
   "metadata": {},
   "source": [
    "## Significance by Fuel Type: Are Diesel Cars More Expensive than Gas?"
   ]
  },
  {
   "cell_type": "markdown",
   "metadata": {},
   "source": [
    "Start with a plot function that we'll be using over and over again."
   ]
  },
  {
   "cell_type": "code",
   "execution_count": null,
   "metadata": {
    "collapsed": true
   },
   "outputs": [],
   "source": [
    "plot.t <- function(a, b, cols = c('pop_A', 'pop_B'), nbins = 20){\n",
    "  maxs = max(c(max(a), max(b)))\n",
    "  mins = min(c(min(a), min(b)))\n",
    "  breaks = seq(maxs, mins, length.out = (nbins + 1))\n",
    "  par(mfrow = c(2, 1))\n",
    "  hist(a, breaks = breaks, main = paste('Histogram of', cols[1]), xlab = cols[1])\n",
    "  abline(v = mean(a), lwd = 4, col = 'red')\n",
    "  hist(b, breaks = breaks, main = paste('Histogram of', cols[2]), xlab = cols[2])\n",
    "  abline(v = mean(b), lwd = 4, col = 'red')\n",
    "  par(mfrow = c(1, 1))\n",
    "}"
   ]
  },
  {
   "cell_type": "code",
   "execution_count": null,
   "metadata": {
    "collapsed": true
   },
   "outputs": [],
   "source": [
    "table(auto.price$fuel.type)"
   ]
  },
  {
   "cell_type": "code",
   "execution_count": null,
   "metadata": {
    "collapsed": true
   },
   "outputs": [],
   "source": [
    "autos.gas = auto.price[auto.price$fuel.type == 'gas',]\n",
    "autos.diesel = auto.price[auto.price$fuel.type == 'diesel',]\n",
    "autos.gas.log.prices = log(autos.gas$price)\n",
    "autos.diesel.log.prices = log(autos.diesel$price)"
   ]
  },
  {
   "cell_type": "code",
   "execution_count": null,
   "metadata": {
    "collapsed": true
   },
   "outputs": [],
   "source": [
    "plot.t(autos.gas.log.prices, autos.diesel.log.prices, \n",
    "       cols = c('log(Gas Auto Price)', 'log(Diesel Auto Price)'))\n",
    "\n",
    "t.test(autos.gas.log.prices, autos.diesel.log.prices, alternative = \"two.sided\")"
   ]
  },
  {
   "cell_type": "markdown",
   "metadata": {},
   "source": [
    "* Histograms appear to have significant overlap, with means fairly close together.\n",
    "\n",
    "* P-value indicates we'd obtain the observed difference (or larger) in 5.6% of samples due to random sample error. \n",
    "\n",
    "* The 95% confidence interval straddles zero. \n",
    "\n",
    "* All the above suggests diesel autos *are not* reliably more expensive than gas autos."
   ]
  },
  {
   "cell_type": "markdown",
   "metadata": {},
   "source": [
    "## Aspiration: Are Turbos more expensive? "
   ]
  },
  {
   "cell_type": "code",
   "execution_count": null,
   "metadata": {
    "collapsed": true
   },
   "outputs": [],
   "source": [
    "head(auto.price, 3)"
   ]
  },
  {
   "cell_type": "code",
   "execution_count": null,
   "metadata": {
    "collapsed": true
   },
   "outputs": [],
   "source": [
    "table(auto.price$aspiration)"
   ]
  },
  {
   "cell_type": "code",
   "execution_count": null,
   "metadata": {
    "collapsed": true
   },
   "outputs": [],
   "source": [
    "autos.std = auto.price[auto.price$aspiration == 'std',]\n",
    "autos.turbo = auto.price[auto.price$aspiration == 'turbo',]\n",
    "autos.std.log.prices = log(autos.std$price)\n",
    "autos.turbo.log.prices = log(autos.turbo$price)"
   ]
  },
  {
   "cell_type": "code",
   "execution_count": null,
   "metadata": {
    "collapsed": true
   },
   "outputs": [],
   "source": [
    "plot.t(autos.std.log.prices, autos.turbo.log.prices, \n",
    "       cols = c('log(Auto Prices), std Aspiration', 'log(Auto Prices), Turbo'))\n",
    "\n",
    "t.test(autos.std.log.prices, autos.turbo.log.prices, alternative = \"two.sided\")"
   ]
  },
  {
   "cell_type": "markdown",
   "metadata": {},
   "source": [
    "* Histograms appear to have somewhat divergent shapes with a fairly big gap between means.\n",
    "\n",
    "* P-value is infinitessimal, indicating it would be highly unlikely that any observed price difference is due to random sampling error.\n",
    "\n",
    "* Both sides of the 95% confidence interval is on the same side of zero\n",
    "\n",
    "* All the above suggests a turbo charger is usually going to have a signtificant impact on price."
   ]
  },
  {
   "cell_type": "markdown",
   "metadata": {},
   "source": [
    "## Drive Train: Is Front-Wheel Drive cheaper than Rear Wheeel?"
   ]
  },
  {
   "cell_type": "code",
   "execution_count": null,
   "metadata": {
    "collapsed": true
   },
   "outputs": [],
   "source": [
    "head(auto.price, 3)"
   ]
  },
  {
   "cell_type": "code",
   "execution_count": null,
   "metadata": {
    "collapsed": true
   },
   "outputs": [],
   "source": [
    "table(auto.price$drive.wheels)"
   ]
  },
  {
   "cell_type": "code",
   "execution_count": null,
   "metadata": {
    "collapsed": true
   },
   "outputs": [],
   "source": [
    "autos.fwd = auto.price[auto.price$drive.wheels == 'fwd',]\n",
    "autos.rwd = auto.price[auto.price$drive.wheels == 'rwd',]\n",
    "autos.fwd.log.prices = log(autos.fwd$price)\n",
    "autos.rwd.log.prices = log(autos.rwd$price)"
   ]
  },
  {
   "cell_type": "code",
   "execution_count": null,
   "metadata": {
    "collapsed": true
   },
   "outputs": [],
   "source": [
    "plot.t(autos.fwd.log.prices, autos.rwd.log.prices, \n",
    "       cols = c('log of Auto Prices, FWD', 'log of Auto Prices, RWD'))\n",
    "\n",
    "t.test(autos.fwd.log.prices, autos.rwd.log.prices, alternative = \"two.sided\")"
   ]
  },
  {
   "cell_type": "markdown",
   "metadata": {},
   "source": [
    "* Histograms appear to have higlly divergent shapes with a major gap between means.\n",
    "\n",
    "* P-value is infinitessimal, indicating it would be highly unlikely that any observed price difference is due to random sampling error.\n",
    "\n",
    "* Both sides of the 95% confidence interval is on the same side of zero\n",
    "\n",
    "* All the above indicates you're practically guaranteed to save money by picking front-wheel drive."
   ]
  },
  {
   "cell_type": "markdown",
   "metadata": {},
   "source": [
    "# Pricing and Body Style"
   ]
  },
  {
   "cell_type": "markdown",
   "metadata": {},
   "source": [
    "## Price by body style, ANOVA"
   ]
  },
  {
   "cell_type": "code",
   "execution_count": null,
   "metadata": {
    "collapsed": true
   },
   "outputs": [],
   "source": [
    "head(auto.price, 4)"
   ]
  },
  {
   "cell_type": "code",
   "execution_count": null,
   "metadata": {
    "collapsed": true
   },
   "outputs": [],
   "source": [
    "table (auto.price$body.style)"
   ]
  },
  {
   "cell_type": "markdown",
   "metadata": {},
   "source": [
    "Drop convertibles and hardtops, since there aren't very many of them."
   ]
  },
  {
   "cell_type": "code",
   "execution_count": null,
   "metadata": {
    "collapsed": true
   },
   "outputs": [],
   "source": [
    "autos.body.style = auto.price[auto.price$body.style %in% c(\"hatchback\",\"sedan\", \"wagon\"),]\n",
    "table (autos.body.style$body.style)"
   ]
  },
  {
   "cell_type": "code",
   "execution_count": null,
   "metadata": {
    "collapsed": true
   },
   "outputs": [],
   "source": [
    "autos.body.style.aov = aov(log(price) ~ body.style, data = autos.body.style)\n",
    "summary(autos.body.style.aov)"
   ]
  },
  {
   "cell_type": "markdown",
   "metadata": {},
   "source": [
    "P-value indicates at least two body styles have a significant price difference."
   ]
  },
  {
   "cell_type": "code",
   "execution_count": null,
   "metadata": {
    "collapsed": true
   },
   "outputs": [],
   "source": [
    "print(autos.body.style.aov)"
   ]
  },
  {
   "cell_type": "code",
   "execution_count": null,
   "metadata": {
    "collapsed": true
   },
   "outputs": [],
   "source": [
    "options(repr.plot.width=4, repr.plot.height=6)\n",
    "boxplot(log(autos.body.style$price) ~ autos.body.style$body.style)"
   ]
  },
  {
   "cell_type": "markdown",
   "metadata": {},
   "source": [
    "* Sedan and Wagon appear very similar\n",
    "* Greatest difference appears to be between hatchback and wagon"
   ]
  },
  {
   "cell_type": "markdown",
   "metadata": {},
   "source": [
    "## Price by body style, Tukey HSD"
   ]
  },
  {
   "cell_type": "code",
   "execution_count": null,
   "metadata": {
    "collapsed": true
   },
   "outputs": [],
   "source": [
    "autos.body.style.hsd = TukeyHSD(autos.body.style.aov)\n",
    "autos.body.style.hsd"
   ]
  },
  {
   "cell_type": "markdown",
   "metadata": {},
   "source": [
    "* P-values indicate a signtificant price (okay, log(price) difference betwen sedans & hatchbacks.\n",
    "* Wagons & Hatchbacks fall just-short of the 5% p-value threshold.\n",
    "* Wagon vs.  Sedan body style is not a good price indicator."
   ]
  },
  {
   "cell_type": "markdown",
   "metadata": {},
   "source": [
    "las parameter setting from [stack overvlow](https://stackoverflow.com/questions/1828742/rotating-axis-labels-in-r)\n",
    "\n",
    "mar parameter from [r-bloggers](https://www.r-bloggers.com/setting-graph-margins-in-r-using-the-par-function-and-lots-of-cow-milk/)"
   ]
  },
  {
   "cell_type": "markdown",
   "metadata": {},
   "source": [
    "Tukey HSD validates the \"hunch\" we got from ANOVA\n",
    "* There's a singificant difference between sedans and hatchbacks. \n",
    "* Wagons vs. Hatchback almost makes the cut, but not quite.\n",
    "* Wagan vs. Sedan does not have a significant impact on price."
   ]
  }
 ],
 "metadata": {
  "kernelspec": {
   "display_name": "R",
   "language": "R",
   "name": "ir"
  },
  "language_info": {
   "codemirror_mode": "r",
   "file_extension": ".r",
   "mimetype": "text/x-r-source",
   "name": "R",
   "pygments_lexer": "r",
   "version": "3.2.3"
  }
 },
 "nbformat": 4,
 "nbformat_minor": 2
}

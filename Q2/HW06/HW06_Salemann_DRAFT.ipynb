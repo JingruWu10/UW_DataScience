{
 "cells": [
  {
   "cell_type": "markdown",
   "metadata": {},
   "source": [
    "# EVEN MORE CAR TALK: BAYESIAN PRICING\n",
    "**_The search for normality and significance_**\n",
    "### Data Science 410 BB\n",
    "#### University of Washington Professional & Continuing Education\n",
    "#### Homework 6: Applying Bayesian modeling to auto price data\n",
    "#### Leo Salemann, 2/14/18\n"
   ]
  },
  {
   "cell_type": "markdown",
   "metadata": {},
   "source": [
    "# Load Data, Setup some Functions"
   ]
  },
  {
   "cell_type": "code",
   "execution_count": null,
   "metadata": {
    "collapsed": true
   },
   "outputs": [],
   "source": [
    "read.auto = function(file = '../../../DataScience410/Lecture1/Automobile price data _Raw_.csv'){\n",
    "  ## Read the csv file\n",
    "  auto.price <- read.csv(file, header = TRUE, \n",
    "                      stringsAsFactors = FALSE)\n",
    "\n",
    "  ## Coerce some character columns to numeric\n",
    "  numcols <- c('price', 'bore', 'stroke', 'horsepower', 'peak.rpm')\n",
    "  auto.price[, numcols] <- lapply(auto.price[, numcols], as.numeric)\n",
    "\n",
    "  ## Remove cases or rows with missing values. In this case we keep the \n",
    "  ## rows which do not have nas. \n",
    "  auto.price[complete.cases(auto.price), ]\n",
    "}\n",
    "auto.price = read.auto()"
   ]
  },
  {
   "cell_type": "markdown",
   "metadata": {},
   "source": [
    "# Bayesian Estimate, Stratified by Aspiration\n",
    "Compare the difference of the Bayesian estimate of the mean of log of auto price stratified by 1) aspiration and 2) fuel type. Use both numerical and graphical methods for your comparison. Are these means different within a 95% credible interval? How do your conclusions compare to the results you obtained using the to the bootstrap resampled distribution of the mean and the t-test on the log price?  \n",
    "\n",
    "- Compare the differences of the Bayesian estimate of the distribution of the log price of the autos grouped by body style. You will need to do this pair wise; e.g. between each possible pairing of body styles. Use both numerical and graphical methods for your comparison. Which pairs of means are different within a 95% credible interval? How do your conclusions compare to the results you obtained from the bootstrap method, ANOVA and Tukey’s HSD analysis you previously performed? Notice that the posterior is closer to the likelihood for groups with more data values. \n",
    "\n",
    "- Use a Normal(mean(sample), sigma(sample)) as your prior distribution for both exercises. Use sigma(sample), the empirical value of the standard deviation, as a fixed parameter in your likelihood for both exercises. "
   ]
  },
  {
   "cell_type": "code",
   "execution_count": null,
   "metadata": {
    "collapsed": true
   },
   "outputs": [],
   "source": []
  },
  {
   "cell_type": "code",
   "execution_count": null,
   "metadata": {
    "collapsed": true
   },
   "outputs": [],
   "source": []
  },
  {
   "cell_type": "code",
   "execution_count": null,
   "metadata": {
    "collapsed": true
   },
   "outputs": [],
   "source": []
  },
  {
   "cell_type": "markdown",
   "metadata": {},
   "source": [
    "# Bayesian Estimate, Stratified by Fuel Type\n",
    "Compare the difference of the Bayesian estimate of the mean of log of auto price stratified by 1) aspiration and 2) fuel type. Use both numerical and graphical methods for your comparison. Are these means different within a 95% credible interval? How do your conclusions compare to the results you obtained using the to the bootstrap resampled distribution of the mean and the t-test on the log price?  \n",
    "\n",
    "- Use a Normal(mean(sample), sigma(sample)) as your prior distribution for both exercises. Use sigma(sample), the empirical value of the standard deviation, as a fixed parameter in your likelihood for both exercises.  "
   ]
  },
  {
   "cell_type": "code",
   "execution_count": null,
   "metadata": {
    "collapsed": true
   },
   "outputs": [],
   "source": []
  },
  {
   "cell_type": "code",
   "execution_count": null,
   "metadata": {
    "collapsed": true
   },
   "outputs": [],
   "source": []
  },
  {
   "cell_type": "code",
   "execution_count": null,
   "metadata": {
    "collapsed": true
   },
   "outputs": [],
   "source": []
  },
  {
   "cell_type": "markdown",
   "metadata": {},
   "source": [
    "# Bayesian Estimate, Stratified by Body Style\n",
    "- Compare the differences of the Bayesian estimate of the distribution of the log price of the autos grouped by body style. You will need to do this pair wise; e.g. between each possible pairing of body styles. Use both numerical and graphical methods for your comparison. Which pairs of means are different within a 95% credible interval? How do your conclusions compare to the results you obtained from the bootstrap method, ANOVA and Tukey’s HSD analysis you previously performed? Notice that the posterior is closer to the likelihood for groups with more data values. \n",
    "\n",
    "- Use a Normal(mean(sample), sigma(sample)) as your prior distribution for both exercises. Use sigma(sample), the empirical value of the standard deviation, as a fixed parameter in your likelihood for both exercises.  "
   ]
  },
  {
   "cell_type": "code",
   "execution_count": null,
   "metadata": {
    "collapsed": true
   },
   "outputs": [],
   "source": []
  },
  {
   "cell_type": "code",
   "execution_count": null,
   "metadata": {
    "collapsed": true
   },
   "outputs": [],
   "source": []
  },
  {
   "cell_type": "code",
   "execution_count": null,
   "metadata": {
    "collapsed": true
   },
   "outputs": [],
   "source": []
  },
  {
   "cell_type": "markdown",
   "metadata": {},
   "source": [
    "# vvvvvvvvvvvvvvvvv JUNK vvvvvvvvvvvvvvvvvvvvvvvv"
   ]
  },
  {
   "cell_type": "code",
   "execution_count": null,
   "metadata": {
    "collapsed": true
   },
   "outputs": [],
   "source": [
    "t = 1/3\n",
    "print(t)\n",
    "print(format(round(t, 2), nsmall=2))\n",
    "paste(format(round(t, 2), nsmall=2))"
   ]
  },
  {
   "cell_type": "code",
   "execution_count": null,
   "metadata": {
    "collapsed": true
   },
   "outputs": [],
   "source": [
    "plot.hist <- function(a, maxs, mins, cols = 'difference of means', \n",
    "                      nbins = 80, p = 0.05, digits = 3, ...) {\n",
    "    \n",
    "  breaks = seq(maxs, mins, length.out = (nbins + 1))\n",
    "  \n",
    "  m     = mean(a)\n",
    "  ci_lo = quantile(a, probs = p/2)\n",
    "  ci_hi = quantile(a, probs = (1 - p/2)) \n",
    "    \n",
    "  p_m     = format(round(m,     digits), nsmall=digits)\n",
    "  p_ci_lo = format(round(ci_lo, digits), nsmall=digits)\n",
    "  p_ci_hi = format(round(ci_hi, digits), nsmall=digits)\n",
    "\n",
    "  hist(a, breaks = breaks, \n",
    "       main = paste('Histogram of', cols, '\\n',\n",
    "                    'mean=', p_m, '; confidence interval =[', p_ci_lo, ', ', p_ci_hi, ']'), \n",
    "       xlab = cols)\n",
    "  abline(v = m, lwd = 4, col = 'red')\n",
    "  abline(v = 0, lwd = 4, col = 'blue')\n",
    "  abline(v = ci_lo, lty = 3, col = 'red', lwd = 3)  \n",
    "  abline(v = ci_hi, lty = 3, col = 'red', lwd = 3)\n",
    "}\n",
    "\n",
    "plot.t <- function(a, b, cols = c('pop_A', 'pop_B'), nbins = 80, \n",
    "                   p_cutoff = 0.05, format_digits = 2){\n",
    "  maxs = max(c(max(a), max(b)))\n",
    "  mins = min(c(min(a), min(b)))\n",
    "  par(mfrow = c(2, 1))\n",
    "  plot.hist(a, maxs, mins, cols = cols[1], nbins, p_cutoff, format_digits)\n",
    "  plot.hist(b, maxs, mins, cols = cols[2], nbins, p_cutoff, format_digits)\n",
    "  par(mfrow = c(1, 1))\n",
    "}\n"
   ]
  },
  {
   "cell_type": "code",
   "execution_count": null,
   "metadata": {
    "collapsed": true
   },
   "outputs": [],
   "source": [
    "## Bootstrap the difference in means of sons and daughters\n",
    "plot.diff <- function(a, cols = 'difference of means', nbins = 80, \n",
    "                      pval = 0.05, print_digits = 2){\n",
    "  maxs = max(a)\n",
    "  mins = min(a)\n",
    "  plot.hist(a, maxs, mins, cols = cols[1], p_cutoff = pval, \n",
    "            format_digits = print_digits)\n",
    "}"
   ]
  },
  {
   "cell_type": "code",
   "execution_count": null,
   "metadata": {
    "collapsed": true
   },
   "outputs": [],
   "source": [
    "library(resample)\n",
    "library(simpleboot)"
   ]
  },
  {
   "cell_type": "markdown",
   "metadata": {},
   "source": [
    "# Bootstrapped Means, Aspiration and Fuel\n",
    "Compare the difference of the bootstrap resampled mean of the log price of autos grouped by 1) aspiration and 2) fuel type. Use both numerical and graphical methods for your comparison. Are these means different within a 95% confidence interval? How do your conclusions compare to the results you obtained using the t-test last week?"
   ]
  },
  {
   "cell_type": "markdown",
   "metadata": {},
   "source": [
    "## Graphical Approach"
   ]
  },
  {
   "cell_type": "markdown",
   "metadata": {},
   "source": [
    "## Dfference of means, bootstrapped gas vs. diesel\n",
    "### [TODO] get some better labelling on the graph"
   ]
  },
  {
   "cell_type": "code",
   "execution_count": null,
   "metadata": {
    "collapsed": true
   },
   "outputs": [],
   "source": [
    "autos.gas = auto.price[auto.price$fuel.type == 'gas',]\n",
    "autos.diesel = auto.price[auto.price$fuel.type == 'diesel',]"
   ]
  },
  {
   "cell_type": "code",
   "execution_count": null,
   "metadata": {
    "collapsed": true,
    "scrolled": false
   },
   "outputs": [],
   "source": [
    "require(repr)\n",
    "options(repr.plot.width=6, repr.plot.height=2)\n",
    "\n",
    "## Bootstrap the mean of the gas vs. diesel, plot individual histograms\n",
    "mean.boot.gas = one.boot(log(autos.gas$price), mean, R = 100000)\n",
    "mean.boot.diesel = one.boot(log(autos.diesel$price), mean, R = 100000)\n",
    "options(repr.plot.width=6, repr.plot.height=8)\n",
    "plot.t(mean.boot.gas$t, mean.boot.diesel$t, nbins = 80, cols = c('gas', 'diesel'), format_digits = 3)\n",
    "\n",
    "\n",
    "# Plot the difference\n",
    "options(repr.plot.width=6, repr.plot.height=3)\n",
    "two.boot.mean = two.boot(log(autos.gas$price), log(autos.diesel$price), mean, R = 100000)\n",
    "plot.diff(two.boot.mean$t)"
   ]
  },
  {
   "cell_type": "markdown",
   "metadata": {},
   "source": [
    "### Conclusions, Graphical Analysis\n",
    "- Histograms exhibit some overlap, but the mean of one does not fall within the 95% conficence interval of the mean of the other.\n",
    "- Mean log(price) is 0.2 less for gas cars vs. diesel.  Both sides of the 95% confidence level are to the left of zero.\n",
    "- Fuel type has a significant impact on price"
   ]
  },
  {
   "cell_type": "markdown",
   "metadata": {},
   "source": [
    "## Numerical Approach\n",
    "Just by comparing the numerical values of the confidence intervals of the bootstrap distribution of the mean. The other method is to plot the histogram of the bootstrap distribution showing the mean and the confidence intervals."
   ]
  },
  {
   "cell_type": "code",
   "execution_count": null,
   "metadata": {
    "collapsed": true
   },
   "outputs": [],
   "source": [
    "mean.boot.gas$t0\n",
    "mean(mean.boot.gas$t)"
   ]
  },
  {
   "cell_type": "code",
   "execution_count": null,
   "metadata": {
    "collapsed": true
   },
   "outputs": [],
   "source": [
    "mean(mean.boot.gas$t)\n",
    "quantile(mean.boot.gas$t, 0.05)\n",
    "quantile(mean.boot.gas$t, 0.95)"
   ]
  },
  {
   "cell_type": "code",
   "execution_count": null,
   "metadata": {
    "collapsed": true
   },
   "outputs": [],
   "source": []
  },
  {
   "cell_type": "markdown",
   "metadata": {},
   "source": [
    "## Dfference of means, bootstrapped standard vs. turbo\n",
    "### [TODO] get some better labelling on the graph"
   ]
  },
  {
   "cell_type": "code",
   "execution_count": null,
   "metadata": {
    "collapsed": true
   },
   "outputs": [],
   "source": [
    "autos.std = auto.price[auto.price$aspiration == 'std',]\n",
    "autos.turbo = auto.price[auto.price$aspiration == 'turbo',]"
   ]
  },
  {
   "cell_type": "code",
   "execution_count": null,
   "metadata": {
    "collapsed": true
   },
   "outputs": [],
   "source": [
    "require(repr)\n",
    "options(repr.plot.width=6, repr.plot.height=2)\n",
    "\n",
    "## Bootstrap the mean of the gas vs. diesel, plot individual histograms\n",
    "mean.boot.std = one.boot(log(autos.std$price), mean, R = 100000)\n",
    "mean.boot.turbo = one.boot(log(autos.turbo$price), mean, R = 100000)\n",
    "options(repr.plot.width=6, repr.plot.height=8)\n",
    "plot.t(mean.boot.std$t, mean.boot.turbo$t, nbins = 80, cols = c('std', 'turbo'))\n",
    "\n",
    "# Plot the difference\n",
    "options(repr.plot.width=6, repr.plot.height=3)\n",
    "two.boot.mean = two.boot(log(autos.std$price), log(autos.turbo$price), mean, R = 100000)\n",
    "plot.diff(two.boot.mean$t)"
   ]
  },
  {
   "cell_type": "markdown",
   "metadata": {},
   "source": [
    "### Conclusions, Graphical Analysis\n",
    "- Individual histograms are widely separated.\n",
    "- Difference histogram, shows a mean and 95% confidence interval far from zero.\n",
    "- Mean log(price) of standard fuel cars is about 0.35 less than turbo\n",
    "- Fuel aspiration has a significant impact on price"
   ]
  },
  {
   "cell_type": "markdown",
   "metadata": {},
   "source": [
    "## Numerical Approach\n",
    "Just by comparing the numerical values of the confidence intervals of the bootstrap distribution of the mean. The other method is to plot the histogram of the bootstrap distribution showing the mean and the confidence intervals."
   ]
  },
  {
   "cell_type": "code",
   "execution_count": null,
   "metadata": {
    "collapsed": true
   },
   "outputs": [],
   "source": []
  },
  {
   "cell_type": "code",
   "execution_count": null,
   "metadata": {
    "collapsed": true
   },
   "outputs": [],
   "source": []
  },
  {
   "cell_type": "code",
   "execution_count": null,
   "metadata": {
    "collapsed": true
   },
   "outputs": [],
   "source": []
  },
  {
   "cell_type": "markdown",
   "metadata": {},
   "source": [
    "## Conclusion\n",
    "Are these means different within a 95% confidence interval? How do your conclusions compare to the results you obtained using the t-test last week?"
   ]
  },
  {
   "cell_type": "code",
   "execution_count": null,
   "metadata": {
    "collapsed": true
   },
   "outputs": [],
   "source": []
  },
  {
   "cell_type": "code",
   "execution_count": null,
   "metadata": {
    "collapsed": true
   },
   "outputs": [],
   "source": []
  },
  {
   "cell_type": "code",
   "execution_count": null,
   "metadata": {
    "collapsed": true
   },
   "outputs": [],
   "source": []
  },
  {
   "cell_type": "markdown",
   "metadata": {},
   "source": [
    "# Bootstrapped Means, Body Style\n",
    "Compare the differences of the bootstrap resampled mean of the log price of the autos grouped by body style. You will need to do this pair wise; e.g. between each possible pairing of body styles. Use both numerical and graphical methods for your comparison. Which pairs of means are different within a 95% confidence interval? How do your conclusions compare to the results you obtained from the ANOVA and Tukey’s HSD analysis you performed last week?"
   ]
  },
  {
   "cell_type": "markdown",
   "metadata": {},
   "source": [
    "## Graphical Approach"
   ]
  },
  {
   "cell_type": "markdown",
   "metadata": {},
   "source": [
    "### Gather up the groupings"
   ]
  },
  {
   "cell_type": "code",
   "execution_count": null,
   "metadata": {
    "collapsed": true
   },
   "outputs": [],
   "source": [
    "autos.sedan     = auto.price[auto.price$body.style == 'sedan',]\n",
    "autos.hatchback = auto.price[auto.price$body.style == 'hatchback',]\n",
    "autos.wagon     = auto.price[auto.price$body.style == 'wagon',]"
   ]
  },
  {
   "cell_type": "code",
   "execution_count": null,
   "metadata": {
    "collapsed": true
   },
   "outputs": [],
   "source": [
    "## Bootstrap the mean of the gas vs. diesel, plot individual histograms\n",
    "mean.boot.sedan     = one.boot(log(autos.sedan$price), mean, R = 100000)\n",
    "mean.boot.hatchback = one.boot(log(autos.hatchback$price), mean, R = 100000)\n",
    "mean.boot.wagon     = one.boot(log(autos.wagon$price), mean, R = 100000)"
   ]
  },
  {
   "cell_type": "markdown",
   "metadata": {
    "collapsed": true
   },
   "source": [
    "#### Sedan vs. Hatchback"
   ]
  },
  {
   "cell_type": "code",
   "execution_count": null,
   "metadata": {
    "collapsed": true
   },
   "outputs": [],
   "source": [
    "options(repr.plot.width=6, repr.plot.height=8)\n",
    "plot.t(mean.boot.sedan$t, mean.boot.hatchback$t, nbins = 80, cols = c('sedan', 'hatchback'))\n",
    "\n",
    "# Plot the difference\n",
    "options(repr.plot.width=6, repr.plot.height=3)\n",
    "two.boot.mean = two.boot(log(autos.sedan$price), log(autos.hatchback$price), mean, R = 100000)\n",
    "plot.diff(two.boot.mean$t)"
   ]
  },
  {
   "cell_type": "code",
   "execution_count": null,
   "metadata": {
    "collapsed": true
   },
   "outputs": [],
   "source": []
  },
  {
   "cell_type": "code",
   "execution_count": null,
   "metadata": {
    "collapsed": true
   },
   "outputs": [],
   "source": []
  },
  {
   "cell_type": "markdown",
   "metadata": {},
   "source": [
    "#### Wagon vs. Hatchback"
   ]
  },
  {
   "cell_type": "code",
   "execution_count": null,
   "metadata": {
    "collapsed": true
   },
   "outputs": [],
   "source": [
    "options(repr.plot.width=6, repr.plot.height=8)\n",
    "plot.t(mean.boot.wagon$t, mean.boot.hatchback$t, nbins = 80, cols = c('wagon', 'hatchback'))\n",
    "\n",
    "# Plot the difference\n",
    "options(repr.plot.width=6, repr.plot.height=3)\n",
    "two.boot.mean = two.boot(log(autos.wagon$price), log(autos.hatchback$price), mean, R = 100000)\n",
    "plot.diff(two.boot.mean$t)"
   ]
  },
  {
   "cell_type": "code",
   "execution_count": null,
   "metadata": {
    "collapsed": true
   },
   "outputs": [],
   "source": []
  },
  {
   "cell_type": "code",
   "execution_count": null,
   "metadata": {
    "collapsed": true
   },
   "outputs": [],
   "source": []
  },
  {
   "cell_type": "code",
   "execution_count": null,
   "metadata": {
    "collapsed": true
   },
   "outputs": [],
   "source": []
  },
  {
   "cell_type": "markdown",
   "metadata": {},
   "source": [
    "#### Wagon vs. Sedan"
   ]
  },
  {
   "cell_type": "code",
   "execution_count": null,
   "metadata": {
    "collapsed": true
   },
   "outputs": [],
   "source": [
    "options(repr.plot.width=6, repr.plot.height=8)\n",
    "plot.t(mean.boot.wagon$t, mean.boot.sedan$t, nbins = 80, cols = c('wagon', 'sedan'))\n",
    "\n",
    "# Plot the difference\n",
    "options(repr.plot.width=6, repr.plot.height=3)\n",
    "two.boot.mean = two.boot(log(autos.wagon$price), log(autos.sedan$price), mean, R = 100000)\n",
    "plot.diff(two.boot.mean$t)"
   ]
  },
  {
   "cell_type": "markdown",
   "metadata": {},
   "source": [
    "## Compare to ANOVA/TukeyHSD"
   ]
  },
  {
   "cell_type": "markdown",
   "metadata": {},
   "source": [
    "### Brief digression back to ANOVA"
   ]
  },
  {
   "cell_type": "code",
   "execution_count": null,
   "metadata": {
    "collapsed": true
   },
   "outputs": [],
   "source": [
    "autos.body.style = auto.price[auto.price$body.style %in% c(\"hatchback\",\"sedan\", \"wagon\"),]\n",
    "autos.body.style.aov = aov(log(price) ~ body.style, data = autos.body.style)\n",
    "autos.body.style.hsd = TukeyHSD(autos.body.style.aov)"
   ]
  },
  {
   "cell_type": "code",
   "execution_count": null,
   "metadata": {
    "collapsed": true,
    "scrolled": false
   },
   "outputs": [],
   "source": [
    "options(repr.plot.width=8, repr.plot.height=3)\n",
    "par (las=2)\n",
    "par(mar=c(5,10,3,1))\n",
    "plot(autos.body.style.hsd)"
   ]
  },
  {
   "cell_type": "markdown",
   "metadata": {},
   "source": [
    "### Conclusion, Bootstrap vs. ANOVA, Graphical Approach\n",
    " - TukeyHSD says ...\n",
    "   - Sedan/Hatchback well-differentiated\n",
    "   - Wagon/Hatchback almost/not-quite differentiated\n",
    "   - Wagon/Sedan not at all differentiated\n",
    " - Bootsrap says ... \n",
    "   - Sedan/Hatchback well-differentiated\n",
    "   - Wagon/Hatchback well-differentiated\n",
    "   - Wagon/Sedan not at all differentiated\n",
    "   \n",
    "Bootstratpping found differentiaont where TukeyHSD didn't. Seems that you can use TukeyHSD to find the \"near-misses\" (e.g., Wagon vs. Hatchback) then verify them with Bootstratp"
   ]
  },
  {
   "cell_type": "markdown",
   "metadata": {},
   "source": [
    "## Numerical Approach\n",
    "Just by comparing the numerical values of the confidence intervals of the bootstrap distribution of the mean. The other method is to plot the histogram of the bootstrap distribution showing the mean and the confidence intervals."
   ]
  },
  {
   "cell_type": "code",
   "execution_count": null,
   "metadata": {
    "collapsed": true
   },
   "outputs": [],
   "source": []
  },
  {
   "cell_type": "code",
   "execution_count": null,
   "metadata": {
    "collapsed": true
   },
   "outputs": [],
   "source": []
  },
  {
   "cell_type": "code",
   "execution_count": null,
   "metadata": {
    "collapsed": true
   },
   "outputs": [],
   "source": []
  },
  {
   "cell_type": "markdown",
   "metadata": {},
   "source": [
    "## Conclusion\n",
    "Which pairs of means are different within a 95% confidence interval? How do your conclusions compare to the results you obtained from the ANOVA and Tukey’s HSD analysis you performed last week?"
   ]
  },
  {
   "cell_type": "code",
   "execution_count": null,
   "metadata": {
    "collapsed": true
   },
   "outputs": [],
   "source": []
  },
  {
   "cell_type": "code",
   "execution_count": null,
   "metadata": {
    "collapsed": true
   },
   "outputs": [],
   "source": []
  },
  {
   "cell_type": "code",
   "execution_count": null,
   "metadata": {
    "collapsed": true
   },
   "outputs": [],
   "source": []
  },
  {
   "cell_type": "markdown",
   "metadata": {},
   "source": [
    "# vvvvvvvvvvvvvv JUNK vvvvvvvvvv"
   ]
  },
  {
   "cell_type": "markdown",
   "metadata": {},
   "source": [
    "## Normalize Pricing values\n",
    "Get everything ranging from zero to one.\n",
    "normit function from  [stack overlow](https://stackoverflow.com/questions/5665599/range-standardization-0-to-1-in-r)"
   ]
  },
  {
   "cell_type": "code",
   "execution_count": null,
   "metadata": {
    "collapsed": true
   },
   "outputs": [],
   "source": [
    "prices = auto.price$price\n",
    "prices.log = log(auto.price$price)\n",
    "\n",
    "normit = function(x){(x-min(x))/(max(x)-min(x))}\n",
    "\n",
    "prices.norm = normit(prices)\n",
    "prices.log.norm = normit(prices.log)\n",
    "\n",
    "head(prices.norm)\n",
    "head(prices.log.norm)"
   ]
  },
  {
   "cell_type": "markdown",
   "metadata": {
    "collapsed": true
   },
   "source": [
    "# Compare and test Normality: A Graphical Approach"
   ]
  },
  {
   "cell_type": "markdown",
   "metadata": {},
   "source": [
    "## Start with paired Q-Q plots  "
   ]
  },
  {
   "cell_type": "code",
   "execution_count": null,
   "metadata": {
    "collapsed": true
   },
   "outputs": [],
   "source": [
    "options(repr.plot.width=5, repr.plot.height=3)\n",
    "\n",
    "# Visual test of normality\n",
    "par(mfrow = c(1, 2))\n",
    "qqnorm(prices.norm, main = 'Q-Q plot of Price')\n",
    "qqnorm(prices.log.norm, main = 'Q-Q plot of log(Price)')\n",
    "par(mfrow = c(1, 1))"
   ]
  },
  {
   "cell_type": "markdown",
   "metadata": {},
   "source": [
    "Log(Price) appears to be closer to normal (e.g. a move of a straight line) than regular prce."
   ]
  },
  {
   "cell_type": "markdown",
   "metadata": {},
   "source": [
    "## A closer look with individual plots"
   ]
  },
  {
   "cell_type": "code",
   "execution_count": null,
   "metadata": {
    "collapsed": true
   },
   "outputs": [],
   "source": [
    "options(repr.plot.width=5, repr.plot.height=5)\n",
    "\n",
    "# Visual test of normality\n",
    "qqnorm(prices.norm, main = 'Q-Q plot of Price')\n",
    "abline(a = 0.0, b = 1.0, lty = 2, col = 'blue')"
   ]
  },
  {
   "cell_type": "code",
   "execution_count": null,
   "metadata": {
    "collapsed": true
   },
   "outputs": [],
   "source": [
    "options(repr.plot.width=5, repr.plot.height=5)\n",
    "\n",
    "# Visual test of normality\n",
    "qqnorm(prices.log.norm, main = 'Q-Q plot of log(Price)')\n",
    "abline(a = 0.0, b = 1.0, lty = 2, col = 'blue')"
   ]
  },
  {
   "cell_type": "markdown",
   "metadata": {},
   "source": [
    "There's a tiny patch between the 0.4 and 0.6 quantiles where log(Price) matches a normal distribution; regular Price doesn't come close."
   ]
  },
  {
   "cell_type": "markdown",
   "metadata": {
    "collapsed": true
   },
   "source": [
    "# Compare and test Normality: Formal tests though K-S Statistics"
   ]
  },
  {
   "cell_type": "code",
   "execution_count": null,
   "metadata": {
    "collapsed": true
   },
   "outputs": [],
   "source": [
    "normal.distro = rnorm(948) ## Our standard Normal for comparison.\n",
    "ks.test(prices.norm, normal.distro, alternative = \"two.sided\") \n",
    "ks.test(prices.log.norm, normal.distro, alternative = \"two.sided\") "
   ]
  },
  {
   "cell_type": "markdown",
   "metadata": {},
   "source": [
    "\n",
    "Analyticlally, the p-values are the same; can't tell the difference.\n"
   ]
  },
  {
   "cell_type": "markdown",
   "metadata": {},
   "source": [
    "## Conclusion, Normality Tests\n",
    "Both are terrible, but log of price is just-slightly more similar to a normal distributon."
   ]
  },
  {
   "cell_type": "markdown",
   "metadata": {},
   "source": [
    "# Testing Significance of log(Price) based on fuel, aspiration, drive train"
   ]
  },
  {
   "cell_type": "markdown",
   "metadata": {},
   "source": [
    "## Significance by Fuel Type: Are Diesel Cars More Expensive than Gas?"
   ]
  },
  {
   "cell_type": "markdown",
   "metadata": {},
   "source": [
    "Start with a plot function that we'll be using over and over again."
   ]
  },
  {
   "cell_type": "code",
   "execution_count": null,
   "metadata": {
    "collapsed": true
   },
   "outputs": [],
   "source": [
    "plot.t <- function(a, b, cols = c('pop_A', 'pop_B'), nbins = 20){\n",
    "  maxs = max(c(max(a), max(b)))\n",
    "  mins = min(c(min(a), min(b)))\n",
    "  breaks = seq(maxs, mins, length.out = (nbins + 1))\n",
    "  par(mfrow = c(2, 1))\n",
    "  hist(a, breaks = breaks, main = paste('Histogram of', cols[1]), xlab = cols[1])\n",
    "  abline(v = mean(a), lwd = 4, col = 'red')\n",
    "  hist(b, breaks = breaks, main = paste('Histogram of', cols[2]), xlab = cols[2])\n",
    "  abline(v = mean(b), lwd = 4, col = 'red')\n",
    "  par(mfrow = c(1, 1))\n",
    "}"
   ]
  },
  {
   "cell_type": "code",
   "execution_count": null,
   "metadata": {
    "collapsed": true
   },
   "outputs": [],
   "source": [
    "table(auto.price$fuel.type)"
   ]
  },
  {
   "cell_type": "code",
   "execution_count": null,
   "metadata": {
    "collapsed": true
   },
   "outputs": [],
   "source": [
    "autos.gas = auto.price[auto.price$fuel.type == 'gas',]\n",
    "autos.diesel = auto.price[auto.price$fuel.type == 'diesel',]\n",
    "autos.gas.log.prices = log(autos.gas$price)\n",
    "autos.diesel.log.prices = log(autos.diesel$price)"
   ]
  },
  {
   "cell_type": "code",
   "execution_count": null,
   "metadata": {
    "collapsed": true
   },
   "outputs": [],
   "source": [
    "plot.t(autos.gas.log.prices, autos.diesel.log.prices, \n",
    "       cols = c('log(Gas Auto Price)', 'log(Diesel Auto Price)'))\n",
    "\n",
    "t.test(autos.gas.log.prices, autos.diesel.log.prices, alternative = \"two.sided\")"
   ]
  },
  {
   "cell_type": "markdown",
   "metadata": {},
   "source": [
    "* Histograms appear to have significant overlap, with means fairly close together.\n",
    "\n",
    "* P-value indicates we'd obtain the observed difference (or larger) in 5.6% of samples due to random sample error. \n",
    "\n",
    "* The 95% confidence interval straddles zero. \n",
    "\n",
    "* All the above suggests diesel autos *are not* reliably more expensive than gas autos."
   ]
  },
  {
   "cell_type": "markdown",
   "metadata": {},
   "source": [
    "## Aspiration: Are Turbos more expensive? "
   ]
  },
  {
   "cell_type": "code",
   "execution_count": null,
   "metadata": {
    "collapsed": true
   },
   "outputs": [],
   "source": [
    "head(auto.price, 3)"
   ]
  },
  {
   "cell_type": "code",
   "execution_count": null,
   "metadata": {
    "collapsed": true
   },
   "outputs": [],
   "source": [
    "table(auto.price$aspiration)"
   ]
  },
  {
   "cell_type": "code",
   "execution_count": null,
   "metadata": {
    "collapsed": true
   },
   "outputs": [],
   "source": [
    "autos.std = auto.price[auto.price$aspiration == 'std',]\n",
    "autos.turbo = auto.price[auto.price$aspiration == 'turbo',]\n",
    "autos.std.log.prices = log(autos.std$price)\n",
    "autos.turbo.log.prices = log(autos.turbo$price)"
   ]
  },
  {
   "cell_type": "code",
   "execution_count": null,
   "metadata": {
    "collapsed": true
   },
   "outputs": [],
   "source": [
    "plot.t(autos.std.log.prices, autos.turbo.log.prices, \n",
    "       cols = c('log(Auto Prices), std Aspiration', 'log(Auto Prices), Turbo'))\n",
    "\n",
    "t.test(autos.std.log.prices, autos.turbo.log.prices, alternative = \"two.sided\")"
   ]
  },
  {
   "cell_type": "markdown",
   "metadata": {},
   "source": [
    "* Histograms appear to have somewhat divergent shapes with a fairly big gap between means.\n",
    "\n",
    "* P-value is infinitessimal, indicating it would be highly unlikely that any observed price difference is due to random sampling error.\n",
    "\n",
    "* Both sides of the 95% confidence interval is on the same side of zero\n",
    "\n",
    "* All the above suggests a turbo charger is usually going to have a signtificant impact on price."
   ]
  },
  {
   "cell_type": "markdown",
   "metadata": {},
   "source": [
    "## Drive Train: Is Front-Wheel Drive cheaper than Rear Wheeel?"
   ]
  },
  {
   "cell_type": "code",
   "execution_count": null,
   "metadata": {
    "collapsed": true
   },
   "outputs": [],
   "source": [
    "head(auto.price, 3)"
   ]
  },
  {
   "cell_type": "code",
   "execution_count": null,
   "metadata": {
    "collapsed": true
   },
   "outputs": [],
   "source": [
    "table(auto.price$drive.wheels)"
   ]
  },
  {
   "cell_type": "code",
   "execution_count": null,
   "metadata": {
    "collapsed": true
   },
   "outputs": [],
   "source": [
    "autos.fwd = auto.price[auto.price$drive.wheels == 'fwd',]\n",
    "autos.rwd = auto.price[auto.price$drive.wheels == 'rwd',]\n",
    "autos.fwd.log.prices = log(autos.fwd$price)\n",
    "autos.rwd.log.prices = log(autos.rwd$price)"
   ]
  },
  {
   "cell_type": "code",
   "execution_count": null,
   "metadata": {
    "collapsed": true
   },
   "outputs": [],
   "source": [
    "plot.t(autos.fwd.log.prices, autos.rwd.log.prices, \n",
    "       cols = c('log of Auto Prices, FWD', 'log of Auto Prices, RWD'))\n",
    "\n",
    "t.test(autos.fwd.log.prices, autos.rwd.log.prices, alternative = \"two.sided\")"
   ]
  },
  {
   "cell_type": "markdown",
   "metadata": {},
   "source": [
    "* Histograms appear to have higlly divergent shapes with a major gap between means.\n",
    "\n",
    "* P-value is infinitessimal, indicating it would be highly unlikely that any observed price difference is due to random sampling error.\n",
    "\n",
    "* Both sides of the 95% confidence interval is on the same side of zero\n",
    "\n",
    "* All the above indicates you're practically guaranteed to save money by picking front-wheel drive."
   ]
  },
  {
   "cell_type": "markdown",
   "metadata": {},
   "source": [
    "# Pricing and Body Style"
   ]
  },
  {
   "cell_type": "markdown",
   "metadata": {},
   "source": [
    "## Price by body style, ANOVA"
   ]
  },
  {
   "cell_type": "code",
   "execution_count": null,
   "metadata": {
    "collapsed": true
   },
   "outputs": [],
   "source": [
    "head(auto.price, 4)"
   ]
  },
  {
   "cell_type": "code",
   "execution_count": null,
   "metadata": {
    "collapsed": true
   },
   "outputs": [],
   "source": [
    "table (auto.price$body.style)"
   ]
  },
  {
   "cell_type": "markdown",
   "metadata": {},
   "source": [
    "Drop convertibles and hardtops, since there aren't very many of them."
   ]
  },
  {
   "cell_type": "code",
   "execution_count": null,
   "metadata": {
    "collapsed": true
   },
   "outputs": [],
   "source": [
    "autos.body.style = auto.price[auto.price$body.style %in% c(\"hatchback\",\"sedan\", \"wagon\"),]\n",
    "table (autos.body.style$body.style)"
   ]
  },
  {
   "cell_type": "code",
   "execution_count": null,
   "metadata": {
    "collapsed": true
   },
   "outputs": [],
   "source": [
    "autos.body.style.aov = aov(log(price) ~ body.style, data = autos.body.style)\n",
    "summary(autos.body.style.aov)"
   ]
  },
  {
   "cell_type": "markdown",
   "metadata": {},
   "source": [
    "P-value indicates at least two body styles have a significant price difference."
   ]
  },
  {
   "cell_type": "code",
   "execution_count": null,
   "metadata": {
    "collapsed": true
   },
   "outputs": [],
   "source": [
    "print(autos.body.style.aov)"
   ]
  },
  {
   "cell_type": "code",
   "execution_count": null,
   "metadata": {
    "collapsed": true
   },
   "outputs": [],
   "source": [
    "options(repr.plot.width=4, repr.plot.height=6)\n",
    "boxplot(log(autos.body.style$price) ~ autos.body.style$body.style)"
   ]
  },
  {
   "cell_type": "markdown",
   "metadata": {},
   "source": [
    "* Sedan and Wagon appear very similar\n",
    "* Greatest difference appears to be between hatchback and wagon"
   ]
  },
  {
   "cell_type": "markdown",
   "metadata": {},
   "source": [
    "## Price by body style, Tukey HSD"
   ]
  },
  {
   "cell_type": "code",
   "execution_count": null,
   "metadata": {
    "collapsed": true
   },
   "outputs": [],
   "source": [
    "autos.body.style.hsd = TukeyHSD(autos.body.style.aov)\n",
    "autos.body.style.hsd"
   ]
  },
  {
   "cell_type": "markdown",
   "metadata": {},
   "source": [
    "* P-values indicate a signtificant price (okay, log(price) difference betwen sedans & hatchbacks.\n",
    "* Wagons & Hatchbacks fall just-short of the 5% p-value threshold.\n",
    "* Wagon vs.  Sedan body style is not a good price indicator."
   ]
  },
  {
   "cell_type": "markdown",
   "metadata": {},
   "source": [
    "las parameter setting from [stack overvlow](https://stackoverflow.com/questions/1828742/rotating-axis-labels-in-r)\n",
    "\n",
    "mar parameter from [r-bloggers](https://www.r-bloggers.com/setting-graph-margins-in-r-using-the-par-function-and-lots-of-cow-milk/)"
   ]
  },
  {
   "cell_type": "markdown",
   "metadata": {},
   "source": [
    "Tukey HSD validates the \"hunch\" we got from ANOVA\n",
    "* There's a singificant difference between sedans and hatchbacks. \n",
    "* Wagons vs. Hatchback almost makes the cut, but not quite.\n",
    "* Wagan vs. Sedan does not have a significant impact on price."
   ]
  }
 ],
 "metadata": {
  "kernelspec": {
   "display_name": "R",
   "language": "R",
   "name": "ir"
  },
  "language_info": {
   "codemirror_mode": "r",
   "file_extension": ".r",
   "mimetype": "text/x-r-source",
   "name": "R",
   "pygments_lexer": "r",
   "version": "3.2.3"
  }
 },
 "nbformat": 4,
 "nbformat_minor": 2
}

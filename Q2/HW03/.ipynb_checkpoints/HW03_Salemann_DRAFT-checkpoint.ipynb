{
 "cells": [
  {
   "cell_type": "markdown",
   "metadata": {},
   "source": [
    "# Data Science 410 BB\n",
    "## University of Washington Professional & Continuing Education\n",
    "\n",
    "### Homework 3: Simulating the Monty Hall Problem\n",
    "### Leo Salemann\n",
    "### 1/25/18\n"
   ]
  },
  {
   "cell_type": "markdown",
   "metadata": {},
   "source": [
    "# Simulating the Monty Hall Problem\n",
    "### in waaayyy too many funcitons & for-loops"
   ]
  },
  {
   "cell_type": "markdown",
   "metadata": {},
   "source": [
    "## Settle in; it's going to be a long read ...\n",
    "This is a highly-componentized simulation, with lots of parts tradually comiong together.\n",
    "- **Simulate prizes for door 1**  (1 in 3 chance of a car, else a goat)\n",
    "- **Simulate prizes for door 2**  (assume no car in door 1, so 50/50 chance of getting a car)\n",
    "- Once doors 1 & 2 are set, door 3 is a no brainer\n",
    "- ** Load up the game matrix (nx7) **\n",
    "  - One row per game\n",
    "  - First 3 colums represent doors, holding \"car\" or \"goat\"\n",
    "      - Output of simualting door 1, door 2, and deriving door 3\n",
    "  - Col 4 holds contestant's first move (col-number for the door they picked)\n",
    "  - Col 5 holds Monty's move (col-number for door he picked)\n",
    "  - Col 6 holds contestant's secind move (same as first, or switched to unpicked door)\n",
    "  - Col 7 holds 1 if contestant won a car; 0 if not.\n",
    "- **Simulate Contestant's first move** (simple 1 in 3 chance)\n",
    "- **Simulate Monty's move** (depends on contestant's move, and cars location)\n",
    "- \n"
   ]
  },
  {
   "cell_type": "markdown",
   "metadata": {},
   "source": [
    "## Overview, Door-based\n",
    "- Start by simulating move1 (picking door 1 vs. door 2 vs. door 3)\n",
    "  - Uniform distribution 1 in 3 chance\n",
    "- Associate prizes to door\n",
    "  - Start with car, 1 in 3 chance\n",
    "  - Goat 1 and Goat 2 become determinestic\n",
    "- Simulate Monty's Move\n",
    "  - Start by running the Door & Prize sims\n",
    "  - Iterate over Door outpus\n",
    "    - If contestent picked the car, flip a coin and open one of the two remaining doors.\n",
    "    - If contestant picked a goat, find the door with the other goat and pick it."
   ]
  },
  {
   "cell_type": "markdown",
   "metadata": {},
   "source": [
    "## Simulate Prizes"
   ]
  },
  {
   "cell_type": "code",
   "execution_count": 2,
   "metadata": {},
   "outputs": [
    {
     "data": {
      "text/plain": [
       "\n",
       " car goat \n",
       " 321  678 "
      ]
     },
     "metadata": {},
     "output_type": "display_data"
    }
   ],
   "source": [
    "# Door 1 has a 1 in 3 chance of holding a car\n",
    "\n",
    "sim.door1.prizes = function(n){\n",
    "  # n = number of trials (times the game is played)\n",
    "  prize = runif(n)                    # Uniform distribution\n",
    "  ifelse(prize <= 1/3, 'car', 'goat') # 1 in 3 chance of car, else goat\n",
    "}\n",
    "\n",
    "table(sim.door1.prizes(999))"
   ]
  },
  {
   "cell_type": "code",
   "execution_count": 3,
   "metadata": {},
   "outputs": [
    {
     "data": {
      "text/plain": [
       "\n",
       " car goat \n",
       " 517  483 "
      ]
     },
     "metadata": {},
     "output_type": "display_data"
    }
   ],
   "source": [
    "# Assuming door 1 had a goat, Door 2 has a 1 in 2 chance of holding a car\n",
    "sim.door2.prizes = function(n){\n",
    "  # n = number of trials (times the game is played)\n",
    "  prize = runif(n)                    # Uniform distribution\n",
    "  ifelse(prize <= 1/2, 'car', 'goat') # 1 in 3 chance of car, else goat\n",
    "}\n",
    "\n",
    "table(sim.door2.prizes(1000))"
   ]
  },
  {
   "cell_type": "markdown",
   "metadata": {},
   "source": [
    "## Simulate Doors\n",
    "Create an nx7 (n-rows, 7 columns) matrix where first three columns are the three doors, column 4 is contestants first move (the door they picked), column 5 is Monty's move (door he picked) and column 6 is contestants final door selection (may or may not be the same as column 4). Last column indicates win (1) or loss (0)"
   ]
  },
  {
   "cell_type": "markdown",
   "metadata": {},
   "source": [
    "## Load doors with prizes\n",
    "- First door has a 1 in 3 chance of getting a car\n",
    "- If First door got a car, other two doors will get goats\n",
    "- If first door got a goat, door 2 had a 1 i 2 chance of gettng a car\n",
    "- If no doors have a car yet, 3rd door gets a car\n"
   ]
  },
  {
   "cell_type": "code",
   "execution_count": 4,
   "metadata": {},
   "outputs": [
    {
     "data": {
      "text/html": [
       "<table>\n",
       "<tbody>\n",
       "\t<tr><td>car </td><td>goat</td><td>goat</td><td>0   </td><td>0   </td><td>0   </td><td>0   </td></tr>\n",
       "\t<tr><td>car </td><td>goat</td><td>goat</td><td>0   </td><td>0   </td><td>0   </td><td>0   </td></tr>\n",
       "\t<tr><td>car </td><td>goat</td><td>goat</td><td>0   </td><td>0   </td><td>0   </td><td>0   </td></tr>\n",
       "\t<tr><td>goat</td><td>goat</td><td>car </td><td>0   </td><td>0   </td><td>0   </td><td>0   </td></tr>\n",
       "\t<tr><td>car </td><td>goat</td><td>goat</td><td>0   </td><td>0   </td><td>0   </td><td>0   </td></tr>\n",
       "\t<tr><td>goat</td><td>car </td><td>goat</td><td>0   </td><td>0   </td><td>0   </td><td>0   </td></tr>\n",
       "\t<tr><td>goat</td><td>goat</td><td>car </td><td>0   </td><td>0   </td><td>0   </td><td>0   </td></tr>\n",
       "\t<tr><td>goat</td><td>car </td><td>goat</td><td>0   </td><td>0   </td><td>0   </td><td>0   </td></tr>\n",
       "\t<tr><td>goat</td><td>goat</td><td>car </td><td>0   </td><td>0   </td><td>0   </td><td>0   </td></tr>\n",
       "\t<tr><td>goat</td><td>goat</td><td>car </td><td>0   </td><td>0   </td><td>0   </td><td>0   </td></tr>\n",
       "\t<tr><td>car </td><td>goat</td><td>goat</td><td>0   </td><td>0   </td><td>0   </td><td>0   </td></tr>\n",
       "\t<tr><td>goat</td><td>goat</td><td>car </td><td>0   </td><td>0   </td><td>0   </td><td>0   </td></tr>\n",
       "\t<tr><td>car </td><td>goat</td><td>goat</td><td>0   </td><td>0   </td><td>0   </td><td>0   </td></tr>\n",
       "\t<tr><td>goat</td><td>car </td><td>goat</td><td>0   </td><td>0   </td><td>0   </td><td>0   </td></tr>\n",
       "\t<tr><td>car </td><td>goat</td><td>goat</td><td>0   </td><td>0   </td><td>0   </td><td>0   </td></tr>\n",
       "\t<tr><td>goat</td><td>car </td><td>goat</td><td>0   </td><td>0   </td><td>0   </td><td>0   </td></tr>\n",
       "\t<tr><td>car </td><td>goat</td><td>goat</td><td>0   </td><td>0   </td><td>0   </td><td>0   </td></tr>\n",
       "\t<tr><td>goat</td><td>car </td><td>goat</td><td>0   </td><td>0   </td><td>0   </td><td>0   </td></tr>\n",
       "\t<tr><td>goat</td><td>car </td><td>goat</td><td>0   </td><td>0   </td><td>0   </td><td>0   </td></tr>\n",
       "</tbody>\n",
       "</table>\n"
      ],
      "text/latex": [
       "\\begin{tabular}{lllllll}\n",
       "\t car  & goat & goat & 0    & 0    & 0    & 0   \\\\\n",
       "\t car  & goat & goat & 0    & 0    & 0    & 0   \\\\\n",
       "\t car  & goat & goat & 0    & 0    & 0    & 0   \\\\\n",
       "\t goat & goat & car  & 0    & 0    & 0    & 0   \\\\\n",
       "\t car  & goat & goat & 0    & 0    & 0    & 0   \\\\\n",
       "\t goat & car  & goat & 0    & 0    & 0    & 0   \\\\\n",
       "\t goat & goat & car  & 0    & 0    & 0    & 0   \\\\\n",
       "\t goat & car  & goat & 0    & 0    & 0    & 0   \\\\\n",
       "\t goat & goat & car  & 0    & 0    & 0    & 0   \\\\\n",
       "\t goat & goat & car  & 0    & 0    & 0    & 0   \\\\\n",
       "\t car  & goat & goat & 0    & 0    & 0    & 0   \\\\\n",
       "\t goat & goat & car  & 0    & 0    & 0    & 0   \\\\\n",
       "\t car  & goat & goat & 0    & 0    & 0    & 0   \\\\\n",
       "\t goat & car  & goat & 0    & 0    & 0    & 0   \\\\\n",
       "\t car  & goat & goat & 0    & 0    & 0    & 0   \\\\\n",
       "\t goat & car  & goat & 0    & 0    & 0    & 0   \\\\\n",
       "\t car  & goat & goat & 0    & 0    & 0    & 0   \\\\\n",
       "\t goat & car  & goat & 0    & 0    & 0    & 0   \\\\\n",
       "\t goat & car  & goat & 0    & 0    & 0    & 0   \\\\\n",
       "\\end{tabular}\n"
      ],
      "text/markdown": [
       "\n",
       "| car  | goat | goat | 0    | 0    | 0    | 0    | \n",
       "| car  | goat | goat | 0    | 0    | 0    | 0    | \n",
       "| car  | goat | goat | 0    | 0    | 0    | 0    | \n",
       "| goat | goat | car  | 0    | 0    | 0    | 0    | \n",
       "| car  | goat | goat | 0    | 0    | 0    | 0    | \n",
       "| goat | car  | goat | 0    | 0    | 0    | 0    | \n",
       "| goat | goat | car  | 0    | 0    | 0    | 0    | \n",
       "| goat | car  | goat | 0    | 0    | 0    | 0    | \n",
       "| goat | goat | car  | 0    | 0    | 0    | 0    | \n",
       "| goat | goat | car  | 0    | 0    | 0    | 0    | \n",
       "| car  | goat | goat | 0    | 0    | 0    | 0    | \n",
       "| goat | goat | car  | 0    | 0    | 0    | 0    | \n",
       "| car  | goat | goat | 0    | 0    | 0    | 0    | \n",
       "| goat | car  | goat | 0    | 0    | 0    | 0    | \n",
       "| car  | goat | goat | 0    | 0    | 0    | 0    | \n",
       "| goat | car  | goat | 0    | 0    | 0    | 0    | \n",
       "| car  | goat | goat | 0    | 0    | 0    | 0    | \n",
       "| goat | car  | goat | 0    | 0    | 0    | 0    | \n",
       "| goat | car  | goat | 0    | 0    | 0    | 0    | \n",
       "\n",
       "\n"
      ],
      "text/plain": [
       "      [,1] [,2] [,3] [,4] [,5] [,6] [,7]\n",
       " [1,] car  goat goat 0    0    0    0   \n",
       " [2,] car  goat goat 0    0    0    0   \n",
       " [3,] car  goat goat 0    0    0    0   \n",
       " [4,] goat goat car  0    0    0    0   \n",
       " [5,] car  goat goat 0    0    0    0   \n",
       " [6,] goat car  goat 0    0    0    0   \n",
       " [7,] goat goat car  0    0    0    0   \n",
       " [8,] goat car  goat 0    0    0    0   \n",
       " [9,] goat goat car  0    0    0    0   \n",
       "[10,] goat goat car  0    0    0    0   \n",
       "[11,] car  goat goat 0    0    0    0   \n",
       "[12,] goat goat car  0    0    0    0   \n",
       "[13,] car  goat goat 0    0    0    0   \n",
       "[14,] goat car  goat 0    0    0    0   \n",
       "[15,] car  goat goat 0    0    0    0   \n",
       "[16,] goat car  goat 0    0    0    0   \n",
       "[17,] car  goat goat 0    0    0    0   \n",
       "[18,] goat car  goat 0    0    0    0   \n",
       "[19,] goat car  goat 0    0    0    0   "
      ]
     },
     "metadata": {},
     "output_type": "display_data"
    }
   ],
   "source": [
    "sim.doors = function(n){\n",
    "    # Get the doors\n",
    "    doors.mat = matrix(0, n, 7) # Build an n-row/7-column matrx\n",
    "    \n",
    "    # Get the prizes\n",
    "    door1.prizes = sim.door1.prizes(n) # Prizes for door 1\n",
    "    door2.prizes = sim.door2.prizes(n) # Prizes for door 2 (depends on door 1)\n",
    "    \n",
    "    # Iterate over doors & assign prizes\n",
    "    a = 1\n",
    "    for (row in 1:n){\n",
    "        doors.mat[row,1] = door1.prizes[row]\n",
    "        if(doors.mat[row,1] == 'car'){  # Did door 1 get a car?\n",
    "            doors.mat[row,2] = 'goat'      #    Yes, put goats in the other doors.\n",
    "            doors.mat[row,3] = 'goat'\n",
    "        } else {                           #    No, flip a coin to load door2, then 3\n",
    "            doors.mat[row,2] = door2.prizes[row]\n",
    "            if(doors.mat[row,2] == 'car'){\n",
    "                doors.mat[row,3] = 'goat'\n",
    "            } else {\n",
    "                doors.mat[row,3] = 'car'\n",
    "            }\n",
    "        }        \n",
    "    }\n",
    "    doors.mat\n",
    "}\n",
    "\n",
    "sim.doors(19)"
   ]
  },
  {
   "cell_type": "markdown",
   "metadata": {},
   "source": [
    "# Simulate Contestant's First Move\n",
    "Contestant's move is modeled by an integer ranging from 1 to 3, indicating which door s/he picked."
   ]
  },
  {
   "cell_type": "code",
   "execution_count": 5,
   "metadata": {},
   "outputs": [
    {
     "data": {
      "text/html": [
       "<table>\n",
       "<tbody>\n",
       "\t<tr><td>goat</td><td>car </td><td>goat</td><td>1   </td><td>0   </td><td>0   </td><td>0   </td></tr>\n",
       "\t<tr><td>goat</td><td>goat</td><td>car </td><td>1   </td><td>0   </td><td>0   </td><td>0   </td></tr>\n",
       "\t<tr><td>car </td><td>goat</td><td>goat</td><td>2   </td><td>0   </td><td>0   </td><td>0   </td></tr>\n",
       "\t<tr><td>goat</td><td>goat</td><td>car </td><td>2   </td><td>0   </td><td>0   </td><td>0   </td></tr>\n",
       "\t<tr><td>goat</td><td>car </td><td>goat</td><td>3   </td><td>0   </td><td>0   </td><td>0   </td></tr>\n",
       "\t<tr><td>car </td><td>goat</td><td>goat</td><td>3   </td><td>0   </td><td>0   </td><td>0   </td></tr>\n",
       "\t<tr><td>goat</td><td>car </td><td>goat</td><td>2   </td><td>0   </td><td>0   </td><td>0   </td></tr>\n",
       "\t<tr><td>car </td><td>goat</td><td>goat</td><td>3   </td><td>0   </td><td>0   </td><td>0   </td></tr>\n",
       "\t<tr><td>car </td><td>goat</td><td>goat</td><td>3   </td><td>0   </td><td>0   </td><td>0   </td></tr>\n",
       "</tbody>\n",
       "</table>\n"
      ],
      "text/latex": [
       "\\begin{tabular}{lllllll}\n",
       "\t goat & car  & goat & 1    & 0    & 0    & 0   \\\\\n",
       "\t goat & goat & car  & 1    & 0    & 0    & 0   \\\\\n",
       "\t car  & goat & goat & 2    & 0    & 0    & 0   \\\\\n",
       "\t goat & goat & car  & 2    & 0    & 0    & 0   \\\\\n",
       "\t goat & car  & goat & 3    & 0    & 0    & 0   \\\\\n",
       "\t car  & goat & goat & 3    & 0    & 0    & 0   \\\\\n",
       "\t goat & car  & goat & 2    & 0    & 0    & 0   \\\\\n",
       "\t car  & goat & goat & 3    & 0    & 0    & 0   \\\\\n",
       "\t car  & goat & goat & 3    & 0    & 0    & 0   \\\\\n",
       "\\end{tabular}\n"
      ],
      "text/markdown": [
       "\n",
       "| goat | car  | goat | 1    | 0    | 0    | 0    | \n",
       "| goat | goat | car  | 1    | 0    | 0    | 0    | \n",
       "| car  | goat | goat | 2    | 0    | 0    | 0    | \n",
       "| goat | goat | car  | 2    | 0    | 0    | 0    | \n",
       "| goat | car  | goat | 3    | 0    | 0    | 0    | \n",
       "| car  | goat | goat | 3    | 0    | 0    | 0    | \n",
       "| goat | car  | goat | 2    | 0    | 0    | 0    | \n",
       "| car  | goat | goat | 3    | 0    | 0    | 0    | \n",
       "| car  | goat | goat | 3    | 0    | 0    | 0    | \n",
       "\n",
       "\n"
      ],
      "text/plain": [
       "      [,1] [,2] [,3] [,4] [,5] [,6] [,7]\n",
       " [1,] goat car  goat 1    0    0    0   \n",
       " [2,] goat goat car  1    0    0    0   \n",
       " [3,] car  goat goat 2    0    0    0   \n",
       " [4,] goat goat car  2    0    0    0   \n",
       " [5,] goat car  goat 3    0    0    0   \n",
       " [6,] car  goat goat 3    0    0    0   \n",
       " [7,] goat car  goat 2    0    0    0   \n",
       " [8,] car  goat goat 3    0    0    0   \n",
       " [9,] car  goat goat 3    0    0    0   "
      ]
     },
     "metadata": {},
     "output_type": "display_data"
    }
   ],
   "source": [
    "sim.move1 = function(n){\n",
    "  doors = sim.doors(n)      # Get the doors and prizes\n",
    "  move1 = runif(n)\n",
    "  for (game in 1:n){\n",
    "      if (move1[game] <= 1/3){\n",
    "          doors[game, 4] = 1\n",
    "      } else if(move1[game] <= 2/3) {\n",
    "          doors[game, 4] = 2\n",
    "      } else{\n",
    "          doors[game, 4] = 3\n",
    "      }\n",
    "  }\n",
    "  doors\n",
    "}\n",
    "\n",
    "sim.move1(9)"
   ]
  },
  {
   "cell_type": "markdown",
   "metadata": {},
   "source": [
    "## Simulate Monty's Move\n",
    "Monty's move is deterministic, but depends on the Contestant's first move.\n",
    " - If Contestant picked the car, Monty will \"flip a coin\" and pick one of the remaining two doors at random.\n",
    " - If Contestant picked a goat, Monty has only one choice - pick the goat.\n",
    " "
   ]
  },
  {
   "cell_type": "code",
   "execution_count": 6,
   "metadata": {},
   "outputs": [
    {
     "data": {
      "text/html": [
       "<table>\n",
       "<tbody>\n",
       "\t<tr><td>goat</td><td>goat</td><td>car </td><td>1   </td><td>2   </td><td>0   </td><td>0   </td></tr>\n",
       "\t<tr><td>car </td><td>goat</td><td>goat</td><td>3   </td><td>2   </td><td>0   </td><td>0   </td></tr>\n",
       "\t<tr><td>goat</td><td>goat</td><td>car </td><td>1   </td><td>2   </td><td>0   </td><td>0   </td></tr>\n",
       "\t<tr><td>goat</td><td>car </td><td>goat</td><td>2   </td><td>3   </td><td>0   </td><td>0   </td></tr>\n",
       "\t<tr><td>goat</td><td>car </td><td>goat</td><td>2   </td><td>1   </td><td>0   </td><td>0   </td></tr>\n",
       "\t<tr><td>goat</td><td>goat</td><td>car </td><td>3   </td><td>2   </td><td>0   </td><td>0   </td></tr>\n",
       "\t<tr><td>car </td><td>goat</td><td>goat</td><td>3   </td><td>2   </td><td>0   </td><td>0   </td></tr>\n",
       "\t<tr><td>car </td><td>goat</td><td>goat</td><td>1   </td><td>3   </td><td>0   </td><td>0   </td></tr>\n",
       "\t<tr><td>goat</td><td>car </td><td>goat</td><td>3   </td><td>1   </td><td>0   </td><td>0   </td></tr>\n",
       "\t<tr><td>car </td><td>goat</td><td>goat</td><td>1   </td><td>2   </td><td>0   </td><td>0   </td></tr>\n",
       "\t<tr><td>goat</td><td>car </td><td>goat</td><td>1   </td><td>3   </td><td>0   </td><td>0   </td></tr>\n",
       "\t<tr><td>car </td><td>goat</td><td>goat</td><td>3   </td><td>2   </td><td>0   </td><td>0   </td></tr>\n",
       "\t<tr><td>goat</td><td>car </td><td>goat</td><td>2   </td><td>1   </td><td>0   </td><td>0   </td></tr>\n",
       "\t<tr><td>goat</td><td>goat</td><td>car </td><td>2   </td><td>1   </td><td>0   </td><td>0   </td></tr>\n",
       "\t<tr><td>goat</td><td>goat</td><td>car </td><td>1   </td><td>2   </td><td>0   </td><td>0   </td></tr>\n",
       "\t<tr><td>car </td><td>goat</td><td>goat</td><td>2   </td><td>3   </td><td>0   </td><td>0   </td></tr>\n",
       "\t<tr><td>goat</td><td>car </td><td>goat</td><td>1   </td><td>3   </td><td>0   </td><td>0   </td></tr>\n",
       "\t<tr><td>car </td><td>goat</td><td>goat</td><td>3   </td><td>2   </td><td>0   </td><td>0   </td></tr>\n",
       "\t<tr><td>car </td><td>goat</td><td>goat</td><td>3   </td><td>2   </td><td>0   </td><td>0   </td></tr>\n",
       "</tbody>\n",
       "</table>\n"
      ],
      "text/latex": [
       "\\begin{tabular}{lllllll}\n",
       "\t goat & goat & car  & 1    & 2    & 0    & 0   \\\\\n",
       "\t car  & goat & goat & 3    & 2    & 0    & 0   \\\\\n",
       "\t goat & goat & car  & 1    & 2    & 0    & 0   \\\\\n",
       "\t goat & car  & goat & 2    & 3    & 0    & 0   \\\\\n",
       "\t goat & car  & goat & 2    & 1    & 0    & 0   \\\\\n",
       "\t goat & goat & car  & 3    & 2    & 0    & 0   \\\\\n",
       "\t car  & goat & goat & 3    & 2    & 0    & 0   \\\\\n",
       "\t car  & goat & goat & 1    & 3    & 0    & 0   \\\\\n",
       "\t goat & car  & goat & 3    & 1    & 0    & 0   \\\\\n",
       "\t car  & goat & goat & 1    & 2    & 0    & 0   \\\\\n",
       "\t goat & car  & goat & 1    & 3    & 0    & 0   \\\\\n",
       "\t car  & goat & goat & 3    & 2    & 0    & 0   \\\\\n",
       "\t goat & car  & goat & 2    & 1    & 0    & 0   \\\\\n",
       "\t goat & goat & car  & 2    & 1    & 0    & 0   \\\\\n",
       "\t goat & goat & car  & 1    & 2    & 0    & 0   \\\\\n",
       "\t car  & goat & goat & 2    & 3    & 0    & 0   \\\\\n",
       "\t goat & car  & goat & 1    & 3    & 0    & 0   \\\\\n",
       "\t car  & goat & goat & 3    & 2    & 0    & 0   \\\\\n",
       "\t car  & goat & goat & 3    & 2    & 0    & 0   \\\\\n",
       "\\end{tabular}\n"
      ],
      "text/markdown": [
       "\n",
       "| goat | goat | car  | 1    | 2    | 0    | 0    | \n",
       "| car  | goat | goat | 3    | 2    | 0    | 0    | \n",
       "| goat | goat | car  | 1    | 2    | 0    | 0    | \n",
       "| goat | car  | goat | 2    | 3    | 0    | 0    | \n",
       "| goat | car  | goat | 2    | 1    | 0    | 0    | \n",
       "| goat | goat | car  | 3    | 2    | 0    | 0    | \n",
       "| car  | goat | goat | 3    | 2    | 0    | 0    | \n",
       "| car  | goat | goat | 1    | 3    | 0    | 0    | \n",
       "| goat | car  | goat | 3    | 1    | 0    | 0    | \n",
       "| car  | goat | goat | 1    | 2    | 0    | 0    | \n",
       "| goat | car  | goat | 1    | 3    | 0    | 0    | \n",
       "| car  | goat | goat | 3    | 2    | 0    | 0    | \n",
       "| goat | car  | goat | 2    | 1    | 0    | 0    | \n",
       "| goat | goat | car  | 2    | 1    | 0    | 0    | \n",
       "| goat | goat | car  | 1    | 2    | 0    | 0    | \n",
       "| car  | goat | goat | 2    | 3    | 0    | 0    | \n",
       "| goat | car  | goat | 1    | 3    | 0    | 0    | \n",
       "| car  | goat | goat | 3    | 2    | 0    | 0    | \n",
       "| car  | goat | goat | 3    | 2    | 0    | 0    | \n",
       "\n",
       "\n"
      ],
      "text/plain": [
       "      [,1] [,2] [,3] [,4] [,5] [,6] [,7]\n",
       " [1,] goat goat car  1    2    0    0   \n",
       " [2,] car  goat goat 3    2    0    0   \n",
       " [3,] goat goat car  1    2    0    0   \n",
       " [4,] goat car  goat 2    3    0    0   \n",
       " [5,] goat car  goat 2    1    0    0   \n",
       " [6,] goat goat car  3    2    0    0   \n",
       " [7,] car  goat goat 3    2    0    0   \n",
       " [8,] car  goat goat 1    3    0    0   \n",
       " [9,] goat car  goat 3    1    0    0   \n",
       "[10,] car  goat goat 1    2    0    0   \n",
       "[11,] goat car  goat 1    3    0    0   \n",
       "[12,] car  goat goat 3    2    0    0   \n",
       "[13,] goat car  goat 2    1    0    0   \n",
       "[14,] goat goat car  2    1    0    0   \n",
       "[15,] goat goat car  1    2    0    0   \n",
       "[16,] car  goat goat 2    3    0    0   \n",
       "[17,] goat car  goat 1    3    0    0   \n",
       "[18,] car  goat goat 3    2    0    0   \n",
       "[19,] car  goat goat 3    2    0    0   "
      ]
     },
     "metadata": {},
     "output_type": "display_data"
    },
    {
     "data": {
      "text/plain": [
       "\n",
       "   0    1    2    3  car goat \n",
       " 198   64   67   67   99  198 "
      ]
     },
     "metadata": {},
     "output_type": "display_data"
    }
   ],
   "source": [
    "sim.monty = function(n){\n",
    "    monty = runif(n)          # Need to initialize monty somehow\n",
    "    doors = sim.move1(n)      # Get the doors, prizes, contestants 1st move\n",
    "       \n",
    "     for (game in 1:n){\n",
    "          contestant_door = as.numeric(doors[game,4])\n",
    "          contestant_prize = doors[game,contestant_door]\n",
    "        if(contestant_prize == 'car'){      # Did contestant pick the car?\n",
    "            monty_doors = NULL\n",
    "             for (door in 1:3){                    #  Yes, flip a coin, pick one of the other doors\n",
    "                if (door != contestant_door){\n",
    "                  if (is.null(monty_doors)) {\n",
    "                      monty_doors = door\n",
    "                  } else {\n",
    "                      monty_doors = c(monty_doors, door) # build the list of available doors\n",
    "                  }\n",
    "                }\n",
    "            }\n",
    "            if (runif(1) > 0.5) {                    # flip a coin\n",
    "                doors[game,5] = monty_doors[1]\n",
    "            } else {\n",
    "                doors[game,5] = monty_doors[2]\n",
    "             }\n",
    "        } else {                                  #  No, find other goat door and pick it.\n",
    "            for (door in 1:3){\n",
    "                if (door != contestant_door){\n",
    "                  if (doors[game,door] != 'car')  \n",
    "                      doors[game,5] = door\n",
    "                }\n",
    "            }\n",
    "        }\n",
    "     }\n",
    "    doors\n",
    "}\n",
    "\n",
    "sim.monty(19)\n",
    "table(sim.monty(99))"
   ]
  },
  {
   "cell_type": "markdown",
   "metadata": {},
   "source": [
    "## Simulate Contestant Switching Doors"
   ]
  },
  {
   "cell_type": "code",
   "execution_count": 7,
   "metadata": {},
   "outputs": [
    {
     "data": {
      "text/html": [
       "<table>\n",
       "<tbody>\n",
       "\t<tr><td>goat</td><td>car </td><td>goat</td><td>2   </td><td>1   </td><td>3   </td><td>0   </td></tr>\n",
       "\t<tr><td>goat</td><td>car </td><td>goat</td><td>3   </td><td>1   </td><td>2   </td><td>0   </td></tr>\n",
       "\t<tr><td>car </td><td>goat</td><td>goat</td><td>1   </td><td>3   </td><td>2   </td><td>0   </td></tr>\n",
       "\t<tr><td>goat</td><td>goat</td><td>car </td><td>2   </td><td>1   </td><td>3   </td><td>0   </td></tr>\n",
       "\t<tr><td>goat</td><td>car </td><td>goat</td><td>3   </td><td>1   </td><td>2   </td><td>0   </td></tr>\n",
       "\t<tr><td>car </td><td>goat</td><td>goat</td><td>3   </td><td>2   </td><td>1   </td><td>0   </td></tr>\n",
       "\t<tr><td>goat</td><td>car </td><td>goat</td><td>1   </td><td>3   </td><td>2   </td><td>0   </td></tr>\n",
       "\t<tr><td>goat</td><td>goat</td><td>car </td><td>3   </td><td>2   </td><td>1   </td><td>0   </td></tr>\n",
       "\t<tr><td>goat</td><td>car </td><td>goat</td><td>2   </td><td>3   </td><td>1   </td><td>0   </td></tr>\n",
       "\t<tr><td>goat</td><td>car </td><td>goat</td><td>1   </td><td>3   </td><td>2   </td><td>0   </td></tr>\n",
       "\t<tr><td>goat</td><td>car </td><td>goat</td><td>2   </td><td>3   </td><td>1   </td><td>0   </td></tr>\n",
       "\t<tr><td>car </td><td>goat</td><td>goat</td><td>3   </td><td>2   </td><td>1   </td><td>0   </td></tr>\n",
       "\t<tr><td>goat</td><td>goat</td><td>car </td><td>1   </td><td>2   </td><td>3   </td><td>0   </td></tr>\n",
       "\t<tr><td>goat</td><td>car </td><td>goat</td><td>1   </td><td>3   </td><td>2   </td><td>0   </td></tr>\n",
       "\t<tr><td>car </td><td>goat</td><td>goat</td><td>3   </td><td>2   </td><td>1   </td><td>0   </td></tr>\n",
       "\t<tr><td>car </td><td>goat</td><td>goat</td><td>3   </td><td>2   </td><td>1   </td><td>0   </td></tr>\n",
       "\t<tr><td>goat</td><td>goat</td><td>car </td><td>2   </td><td>1   </td><td>3   </td><td>0   </td></tr>\n",
       "\t<tr><td>goat</td><td>goat</td><td>car </td><td>2   </td><td>1   </td><td>3   </td><td>0   </td></tr>\n",
       "\t<tr><td>car </td><td>goat</td><td>goat</td><td>2   </td><td>3   </td><td>1   </td><td>0   </td></tr>\n",
       "</tbody>\n",
       "</table>\n"
      ],
      "text/latex": [
       "\\begin{tabular}{lllllll}\n",
       "\t goat & car  & goat & 2    & 1    & 3    & 0   \\\\\n",
       "\t goat & car  & goat & 3    & 1    & 2    & 0   \\\\\n",
       "\t car  & goat & goat & 1    & 3    & 2    & 0   \\\\\n",
       "\t goat & goat & car  & 2    & 1    & 3    & 0   \\\\\n",
       "\t goat & car  & goat & 3    & 1    & 2    & 0   \\\\\n",
       "\t car  & goat & goat & 3    & 2    & 1    & 0   \\\\\n",
       "\t goat & car  & goat & 1    & 3    & 2    & 0   \\\\\n",
       "\t goat & goat & car  & 3    & 2    & 1    & 0   \\\\\n",
       "\t goat & car  & goat & 2    & 3    & 1    & 0   \\\\\n",
       "\t goat & car  & goat & 1    & 3    & 2    & 0   \\\\\n",
       "\t goat & car  & goat & 2    & 3    & 1    & 0   \\\\\n",
       "\t car  & goat & goat & 3    & 2    & 1    & 0   \\\\\n",
       "\t goat & goat & car  & 1    & 2    & 3    & 0   \\\\\n",
       "\t goat & car  & goat & 1    & 3    & 2    & 0   \\\\\n",
       "\t car  & goat & goat & 3    & 2    & 1    & 0   \\\\\n",
       "\t car  & goat & goat & 3    & 2    & 1    & 0   \\\\\n",
       "\t goat & goat & car  & 2    & 1    & 3    & 0   \\\\\n",
       "\t goat & goat & car  & 2    & 1    & 3    & 0   \\\\\n",
       "\t car  & goat & goat & 2    & 3    & 1    & 0   \\\\\n",
       "\\end{tabular}\n"
      ],
      "text/markdown": [
       "\n",
       "| goat | car  | goat | 2    | 1    | 3    | 0    | \n",
       "| goat | car  | goat | 3    | 1    | 2    | 0    | \n",
       "| car  | goat | goat | 1    | 3    | 2    | 0    | \n",
       "| goat | goat | car  | 2    | 1    | 3    | 0    | \n",
       "| goat | car  | goat | 3    | 1    | 2    | 0    | \n",
       "| car  | goat | goat | 3    | 2    | 1    | 0    | \n",
       "| goat | car  | goat | 1    | 3    | 2    | 0    | \n",
       "| goat | goat | car  | 3    | 2    | 1    | 0    | \n",
       "| goat | car  | goat | 2    | 3    | 1    | 0    | \n",
       "| goat | car  | goat | 1    | 3    | 2    | 0    | \n",
       "| goat | car  | goat | 2    | 3    | 1    | 0    | \n",
       "| car  | goat | goat | 3    | 2    | 1    | 0    | \n",
       "| goat | goat | car  | 1    | 2    | 3    | 0    | \n",
       "| goat | car  | goat | 1    | 3    | 2    | 0    | \n",
       "| car  | goat | goat | 3    | 2    | 1    | 0    | \n",
       "| car  | goat | goat | 3    | 2    | 1    | 0    | \n",
       "| goat | goat | car  | 2    | 1    | 3    | 0    | \n",
       "| goat | goat | car  | 2    | 1    | 3    | 0    | \n",
       "| car  | goat | goat | 2    | 3    | 1    | 0    | \n",
       "\n",
       "\n"
      ],
      "text/plain": [
       "      [,1] [,2] [,3] [,4] [,5] [,6] [,7]\n",
       " [1,] goat car  goat 2    1    3    0   \n",
       " [2,] goat car  goat 3    1    2    0   \n",
       " [3,] car  goat goat 1    3    2    0   \n",
       " [4,] goat goat car  2    1    3    0   \n",
       " [5,] goat car  goat 3    1    2    0   \n",
       " [6,] car  goat goat 3    2    1    0   \n",
       " [7,] goat car  goat 1    3    2    0   \n",
       " [8,] goat goat car  3    2    1    0   \n",
       " [9,] goat car  goat 2    3    1    0   \n",
       "[10,] goat car  goat 1    3    2    0   \n",
       "[11,] goat car  goat 2    3    1    0   \n",
       "[12,] car  goat goat 3    2    1    0   \n",
       "[13,] goat goat car  1    2    3    0   \n",
       "[14,] goat car  goat 1    3    2    0   \n",
       "[15,] car  goat goat 3    2    1    0   \n",
       "[16,] car  goat goat 3    2    1    0   \n",
       "[17,] goat goat car  2    1    3    0   \n",
       "[18,] goat goat car  2    1    3    0   \n",
       "[19,] car  goat goat 2    3    1    0   "
      ]
     },
     "metadata": {},
     "output_type": "display_data"
    }
   ],
   "source": [
    "sim.switch.doors = function(n){\n",
    "    doors = sim.monty(n)\n",
    "    for (game in 1:n){\n",
    "        possible_doors = c(1, 1, 1)        # 1 means a possible door\n",
    "        contestants_door = doors[game, 4]\n",
    "        montys_door = doors[game, 5]\n",
    "        possible_doors[as.numeric(contestants_door)] = 0 # zero out contestant's first door\n",
    "        possible_doors[as.numeric(montys_door)] = 0     # zero out Monty's door\n",
    "\n",
    "        for (d in 1:3){\n",
    "            if(possible_doors[d] == 1){\n",
    "               doors[game,6] = d                       # Find the door that's still one\n",
    "            }\n",
    "        }\n",
    "    }\n",
    "    doors\n",
    "}\n",
    "\n",
    "sim.switch.doors(19)"
   ]
  },
  {
   "cell_type": "markdown",
   "metadata": {},
   "source": [
    "## Simulate Contestant \"Holding Fast\"\n",
    "Where \"Hold Fast\" means sticking to the door the contesntent picked in first move."
   ]
  },
  {
   "cell_type": "code",
   "execution_count": 8,
   "metadata": {},
   "outputs": [
    {
     "data": {
      "text/html": [
       "<table>\n",
       "<tbody>\n",
       "\t<tr><td>car </td><td>goat</td><td>goat</td><td>1   </td><td>3   </td><td>1   </td><td>0   </td></tr>\n",
       "\t<tr><td>goat</td><td>car </td><td>goat</td><td>3   </td><td>1   </td><td>3   </td><td>0   </td></tr>\n",
       "\t<tr><td>goat</td><td>car </td><td>goat</td><td>3   </td><td>1   </td><td>3   </td><td>0   </td></tr>\n",
       "\t<tr><td>car </td><td>goat</td><td>goat</td><td>3   </td><td>2   </td><td>3   </td><td>0   </td></tr>\n",
       "\t<tr><td>goat</td><td>car </td><td>goat</td><td>2   </td><td>3   </td><td>2   </td><td>0   </td></tr>\n",
       "\t<tr><td>car </td><td>goat</td><td>goat</td><td>1   </td><td>2   </td><td>1   </td><td>0   </td></tr>\n",
       "\t<tr><td>goat</td><td>goat</td><td>car </td><td>3   </td><td>2   </td><td>3   </td><td>0   </td></tr>\n",
       "\t<tr><td>goat</td><td>car </td><td>goat</td><td>1   </td><td>3   </td><td>1   </td><td>0   </td></tr>\n",
       "\t<tr><td>car </td><td>goat</td><td>goat</td><td>3   </td><td>2   </td><td>3   </td><td>0   </td></tr>\n",
       "\t<tr><td>goat</td><td>goat</td><td>car </td><td>1   </td><td>2   </td><td>1   </td><td>0   </td></tr>\n",
       "\t<tr><td>goat</td><td>car </td><td>goat</td><td>3   </td><td>1   </td><td>3   </td><td>0   </td></tr>\n",
       "\t<tr><td>goat</td><td>car </td><td>goat</td><td>1   </td><td>3   </td><td>1   </td><td>0   </td></tr>\n",
       "\t<tr><td>goat</td><td>car </td><td>goat</td><td>2   </td><td>3   </td><td>2   </td><td>0   </td></tr>\n",
       "\t<tr><td>goat</td><td>goat</td><td>car </td><td>2   </td><td>1   </td><td>2   </td><td>0   </td></tr>\n",
       "\t<tr><td>goat</td><td>goat</td><td>car </td><td>1   </td><td>2   </td><td>1   </td><td>0   </td></tr>\n",
       "\t<tr><td>goat</td><td>goat</td><td>car </td><td>2   </td><td>1   </td><td>2   </td><td>0   </td></tr>\n",
       "\t<tr><td>goat</td><td>goat</td><td>car </td><td>1   </td><td>2   </td><td>1   </td><td>0   </td></tr>\n",
       "\t<tr><td>goat</td><td>car </td><td>goat</td><td>1   </td><td>3   </td><td>1   </td><td>0   </td></tr>\n",
       "\t<tr><td>goat</td><td>goat</td><td>car </td><td>1   </td><td>2   </td><td>1   </td><td>0   </td></tr>\n",
       "</tbody>\n",
       "</table>\n"
      ],
      "text/latex": [
       "\\begin{tabular}{lllllll}\n",
       "\t car  & goat & goat & 1    & 3    & 1    & 0   \\\\\n",
       "\t goat & car  & goat & 3    & 1    & 3    & 0   \\\\\n",
       "\t goat & car  & goat & 3    & 1    & 3    & 0   \\\\\n",
       "\t car  & goat & goat & 3    & 2    & 3    & 0   \\\\\n",
       "\t goat & car  & goat & 2    & 3    & 2    & 0   \\\\\n",
       "\t car  & goat & goat & 1    & 2    & 1    & 0   \\\\\n",
       "\t goat & goat & car  & 3    & 2    & 3    & 0   \\\\\n",
       "\t goat & car  & goat & 1    & 3    & 1    & 0   \\\\\n",
       "\t car  & goat & goat & 3    & 2    & 3    & 0   \\\\\n",
       "\t goat & goat & car  & 1    & 2    & 1    & 0   \\\\\n",
       "\t goat & car  & goat & 3    & 1    & 3    & 0   \\\\\n",
       "\t goat & car  & goat & 1    & 3    & 1    & 0   \\\\\n",
       "\t goat & car  & goat & 2    & 3    & 2    & 0   \\\\\n",
       "\t goat & goat & car  & 2    & 1    & 2    & 0   \\\\\n",
       "\t goat & goat & car  & 1    & 2    & 1    & 0   \\\\\n",
       "\t goat & goat & car  & 2    & 1    & 2    & 0   \\\\\n",
       "\t goat & goat & car  & 1    & 2    & 1    & 0   \\\\\n",
       "\t goat & car  & goat & 1    & 3    & 1    & 0   \\\\\n",
       "\t goat & goat & car  & 1    & 2    & 1    & 0   \\\\\n",
       "\\end{tabular}\n"
      ],
      "text/markdown": [
       "\n",
       "| car  | goat | goat | 1    | 3    | 1    | 0    | \n",
       "| goat | car  | goat | 3    | 1    | 3    | 0    | \n",
       "| goat | car  | goat | 3    | 1    | 3    | 0    | \n",
       "| car  | goat | goat | 3    | 2    | 3    | 0    | \n",
       "| goat | car  | goat | 2    | 3    | 2    | 0    | \n",
       "| car  | goat | goat | 1    | 2    | 1    | 0    | \n",
       "| goat | goat | car  | 3    | 2    | 3    | 0    | \n",
       "| goat | car  | goat | 1    | 3    | 1    | 0    | \n",
       "| car  | goat | goat | 3    | 2    | 3    | 0    | \n",
       "| goat | goat | car  | 1    | 2    | 1    | 0    | \n",
       "| goat | car  | goat | 3    | 1    | 3    | 0    | \n",
       "| goat | car  | goat | 1    | 3    | 1    | 0    | \n",
       "| goat | car  | goat | 2    | 3    | 2    | 0    | \n",
       "| goat | goat | car  | 2    | 1    | 2    | 0    | \n",
       "| goat | goat | car  | 1    | 2    | 1    | 0    | \n",
       "| goat | goat | car  | 2    | 1    | 2    | 0    | \n",
       "| goat | goat | car  | 1    | 2    | 1    | 0    | \n",
       "| goat | car  | goat | 1    | 3    | 1    | 0    | \n",
       "| goat | goat | car  | 1    | 2    | 1    | 0    | \n",
       "\n",
       "\n"
      ],
      "text/plain": [
       "      [,1] [,2] [,3] [,4] [,5] [,6] [,7]\n",
       " [1,] car  goat goat 1    3    1    0   \n",
       " [2,] goat car  goat 3    1    3    0   \n",
       " [3,] goat car  goat 3    1    3    0   \n",
       " [4,] car  goat goat 3    2    3    0   \n",
       " [5,] goat car  goat 2    3    2    0   \n",
       " [6,] car  goat goat 1    2    1    0   \n",
       " [7,] goat goat car  3    2    3    0   \n",
       " [8,] goat car  goat 1    3    1    0   \n",
       " [9,] car  goat goat 3    2    3    0   \n",
       "[10,] goat goat car  1    2    1    0   \n",
       "[11,] goat car  goat 3    1    3    0   \n",
       "[12,] goat car  goat 1    3    1    0   \n",
       "[13,] goat car  goat 2    3    2    0   \n",
       "[14,] goat goat car  2    1    2    0   \n",
       "[15,] goat goat car  1    2    1    0   \n",
       "[16,] goat goat car  2    1    2    0   \n",
       "[17,] goat goat car  1    2    1    0   \n",
       "[18,] goat car  goat 1    3    1    0   \n",
       "[19,] goat goat car  1    2    1    0   "
      ]
     },
     "metadata": {},
     "output_type": "display_data"
    }
   ],
   "source": [
    "sim.keep.doors = function(n){\n",
    "    doors = sim.monty(n)\n",
    "    for (game in 1:n){\n",
    "        doors[game,6] = doors[game,4]\n",
    "    }\n",
    "    doors\n",
    "}\n",
    "\n",
    "sim.keep.doors(19)"
   ]
  },
  {
   "cell_type": "markdown",
   "metadata": {},
   "source": [
    "## Compute win or loss\n",
    "Set the final column based on whether or not contestant won the car"
   ]
  },
  {
   "cell_type": "code",
   "execution_count": 30,
   "metadata": {},
   "outputs": [
    {
     "data": {
      "text/html": [
       "<table>\n",
       "<tbody>\n",
       "\t<tr><td>goat</td><td>goat</td><td>car </td><td>3   </td><td>1   </td><td>3   </td><td>1   </td></tr>\n",
       "\t<tr><td>car </td><td>goat</td><td>goat</td><td>2   </td><td>3   </td><td>2   </td><td>0   </td></tr>\n",
       "\t<tr><td>goat</td><td>car </td><td>goat</td><td>1   </td><td>3   </td><td>1   </td><td>0   </td></tr>\n",
       "\t<tr><td>goat</td><td>car </td><td>goat</td><td>1   </td><td>3   </td><td>1   </td><td>0   </td></tr>\n",
       "\t<tr><td>goat</td><td>goat</td><td>car </td><td>3   </td><td>2   </td><td>3   </td><td>1   </td></tr>\n",
       "</tbody>\n",
       "</table>\n"
      ],
      "text/latex": [
       "\\begin{tabular}{lllllll}\n",
       "\t goat & goat & car  & 3    & 1    & 3    & 1   \\\\\n",
       "\t car  & goat & goat & 2    & 3    & 2    & 0   \\\\\n",
       "\t goat & car  & goat & 1    & 3    & 1    & 0   \\\\\n",
       "\t goat & car  & goat & 1    & 3    & 1    & 0   \\\\\n",
       "\t goat & goat & car  & 3    & 2    & 3    & 1   \\\\\n",
       "\\end{tabular}\n"
      ],
      "text/markdown": [
       "\n",
       "| goat | goat | car  | 3    | 1    | 3    | 1    | \n",
       "| car  | goat | goat | 2    | 3    | 2    | 0    | \n",
       "| goat | car  | goat | 1    | 3    | 1    | 0    | \n",
       "| goat | car  | goat | 1    | 3    | 1    | 0    | \n",
       "| goat | goat | car  | 3    | 2    | 3    | 1    | \n",
       "\n",
       "\n"
      ],
      "text/plain": [
       "     [,1] [,2] [,3] [,4] [,5] [,6] [,7]\n",
       "[1,] goat goat car  3    1    3    1   \n",
       "[2,] car  goat goat 2    3    2    0   \n",
       "[3,] goat car  goat 1    3    1    0   \n",
       "[4,] goat car  goat 1    3    1    0   \n",
       "[5,] goat goat car  3    2    3    1   "
      ]
     },
     "metadata": {},
     "output_type": "display_data"
    },
    {
     "data": {
      "text/html": [
       "<table>\n",
       "<tbody>\n",
       "\t<tr><td>goat</td><td>car </td><td>goat</td><td>3   </td><td>1   </td><td>2   </td><td>1   </td></tr>\n",
       "\t<tr><td>goat</td><td>goat</td><td>car </td><td>2   </td><td>1   </td><td>3   </td><td>1   </td></tr>\n",
       "\t<tr><td>car </td><td>goat</td><td>goat</td><td>3   </td><td>2   </td><td>1   </td><td>1   </td></tr>\n",
       "\t<tr><td>car </td><td>goat</td><td>goat</td><td>3   </td><td>2   </td><td>1   </td><td>1   </td></tr>\n",
       "\t<tr><td>car </td><td>goat</td><td>goat</td><td>1   </td><td>2   </td><td>3   </td><td>0   </td></tr>\n",
       "</tbody>\n",
       "</table>\n"
      ],
      "text/latex": [
       "\\begin{tabular}{lllllll}\n",
       "\t goat & car  & goat & 3    & 1    & 2    & 1   \\\\\n",
       "\t goat & goat & car  & 2    & 1    & 3    & 1   \\\\\n",
       "\t car  & goat & goat & 3    & 2    & 1    & 1   \\\\\n",
       "\t car  & goat & goat & 3    & 2    & 1    & 1   \\\\\n",
       "\t car  & goat & goat & 1    & 2    & 3    & 0   \\\\\n",
       "\\end{tabular}\n"
      ],
      "text/markdown": [
       "\n",
       "| goat | car  | goat | 3    | 1    | 2    | 1    | \n",
       "| goat | goat | car  | 2    | 1    | 3    | 1    | \n",
       "| car  | goat | goat | 3    | 2    | 1    | 1    | \n",
       "| car  | goat | goat | 3    | 2    | 1    | 1    | \n",
       "| car  | goat | goat | 1    | 2    | 3    | 0    | \n",
       "\n",
       "\n"
      ],
      "text/plain": [
       "     [,1] [,2] [,3] [,4] [,5] [,6] [,7]\n",
       "[1,] goat car  goat 3    1    2    1   \n",
       "[2,] goat goat car  2    1    3    1   \n",
       "[3,] car  goat goat 3    2    1    1   \n",
       "[4,] car  goat goat 3    2    1    1   \n",
       "[5,] car  goat goat 1    2    3    0   "
      ]
     },
     "metadata": {},
     "output_type": "display_data"
    }
   ],
   "source": [
    "sim.game = function(door.mat){\n",
    "    \n",
    "    for (game in 1:nrow(door.mat)){\n",
    "        contestant_door = as.numeric(door.mat[game,6])\n",
    "        if(door.mat[game,contestant_door] == 'car'){\n",
    "            door.mat[game,7] = as.numeric(1) #win\n",
    "        } else {\n",
    "            door.mat[game,7] = as.numeric(0) #loss\n",
    "        }\n",
    "    }\n",
    "    door.mat\n",
    "}\n",
    "\n",
    "games = 5\n",
    "sim.game(sim.keep.doors(games))\n",
    "sim.game(sim.switch.doors(games))"
   ]
  },
  {
   "cell_type": "markdown",
   "metadata": {},
   "source": [
    "# Plot the results\n",
    "- Run 3 game \"batches\" (9 games, 99 games, 999)\n",
    "  - Each run has 2 cases \"hold-fast\" and \"switch\"\n",
    "- Compute mean & variance\n",
    "- Display Mean, Variance, Histogram"
   ]
  },
  {
   "cell_type": "code",
   "execution_count": 27,
   "metadata": {},
   "outputs": [
    {
     "data": {
      "image/png": "[encoded data removed]",
      "text/plain": [
       "Plot with title “999 games  contestant switches doors.\n",
       " mean =  0.67 var=  0.22 \n",
       "”"
      ]
     },
     "metadata": {},
     "output_type": "display_data"
    }
   ],
   "source": [
    "par(mfrow = c(3,2))\n",
    "games = c(9, 99, 999)\n",
    "for (game in games) {\n",
    "    \n",
    "    # Hold-fast case: Contestant keeps the first door they pick.\n",
    "    results = sim.game(sim.keep.doors(game))\n",
    "    \n",
    "    wins = as.numeric(results[,as.numeric(c(7))])\n",
    "    wins.mean = format(round(mean(wins), 2), nsmall = 2)\n",
    "    wins.var  = format(round(var(wins), 2), nsmall = 2)\n",
    "    \n",
    "    title = paste( as.character(game), 'games, ',\n",
    "                  'contestant keeps origininal door. \\n',\n",
    "                  'mean = ', as.character(wins.mean), \n",
    "                  'var= ',   as.character(wins.var),'\\n')                 \n",
    "    hist(wins, main=title)  \n",
    "    \n",
    "    # Switch case: Contestant keeps the first door they pick.\n",
    "    results = sim.game(sim.switch.doors(game))\n",
    "    \n",
    "    wins = as.numeric(results[,as.numeric(c(7))])\n",
    "    wins.mean = format(round(mean(wins), 2), nsmall = 2)\n",
    "    wins.var  = format(round(var(wins), 2), nsmall = 2)\n",
    "    \n",
    "    title = paste(as.character(game), 'games ',\n",
    "                  'contestant switches doors.\\n',\n",
    "                  'mean = ', as.character(wins.mean), \n",
    "                  'var= ',   as.character(wins.var),'\\n')   \n",
    "    hist(wins, main=title)\n",
    "\n",
    "}\n",
    "par(mfrow = c(1,1))"
   ]
  },
  {
   "cell_type": "markdown",
   "metadata": {},
   "source": [
    "## Conclusion: \n",
    "**Switching doors won't guarantee your car, but will shift the odds to your favor.**"
   ]
  },
  {
   "cell_type": "code",
   "execution_count": null,
   "metadata": {
    "collapsed": true
   },
   "outputs": [],
   "source": []
  }
 ],
 "metadata": {
  "kernelspec": {
   "display_name": "R",
   "language": "R",
   "name": "ir"
  },
  "language_info": {
   "codemirror_mode": "r",
   "file_extension": ".r",
   "mimetype": "text/x-r-source",
   "name": "R",
   "pygments_lexer": "r",
   "version": "3.2.3"
  }
 },
 "nbformat": 4,
 "nbformat_minor": 2
}

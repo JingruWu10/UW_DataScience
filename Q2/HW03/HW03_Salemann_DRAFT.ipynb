{
 "cells": [
  {
   "cell_type": "markdown",
   "metadata": {},
   "source": [
    "# Data Science 410 BB\n",
    "## University of Washington Professional & Continuing Education\n",
    "\n",
    "### Homework 3: Simulating the Mony Hall Problem\n",
    "### Leo Salemann\n",
    "### 1/25/18\n"
   ]
  },
  {
   "cell_type": "markdown",
   "metadata": {},
   "source": [
    "## Overview, Door-based\n",
    "- Start by simulating move1 (picking door 1 vs. door 2 vs. door 3)\n",
    "  - Uniform distribution 1 in 3 chance\n",
    "- Associate prizes to door\n",
    "  - Start with car, 1 in 3 chance\n",
    "  - Goat 1 and Goat 2 become determinestic\n",
    "- Simulate Monty's Move\n",
    "  - Start by running the Door & Prize sims\n",
    "  - Iterate over Door outpus\n",
    "    - If contestent picked the car, flip a coin and open one of the two remaining doors.\n",
    "    - If contestant picked a goat, find the door with the other goat and pick it."
   ]
  },
  {
   "cell_type": "code",
   "execution_count": 2,
   "metadata": {
    "collapsed": true
   },
   "outputs": [],
   "source": [
    "# TODO: Use Bernoulli distros for coin-flipping"
   ]
  },
  {
   "cell_type": "markdown",
   "metadata": {},
   "source": [
    "## Simulate Prizes"
   ]
  },
  {
   "cell_type": "code",
   "execution_count": 3,
   "metadata": {},
   "outputs": [
    {
     "data": {
      "text/plain": [
       "\n",
       " car goat \n",
       " 357  642 "
      ]
     },
     "metadata": {},
     "output_type": "display_data"
    }
   ],
   "source": [
    "# Door 1 has a 1 in 3 chance of holding a car\n",
    "\n",
    "sim.door1.prizes = function(n){\n",
    "  # n = number of trials (times the game is played)\n",
    "  prize = runif(n)                    # Uniform distribution\n",
    "  ifelse(prize <= 1/3, 'car', 'goat') # 1 in 3 chance of car, else goat\n",
    "}\n",
    "\n",
    "table(sim.door1.prizes(999))"
   ]
  },
  {
   "cell_type": "code",
   "execution_count": 4,
   "metadata": {},
   "outputs": [
    {
     "data": {
      "text/plain": [
       "\n",
       " car goat \n",
       " 491  509 "
      ]
     },
     "metadata": {},
     "output_type": "display_data"
    }
   ],
   "source": [
    "# Assuming door 1 had a goat, Door 2 has a 1 in 2 chance of holding a car\n",
    "sim.door2.prizes = function(n){\n",
    "  # n = number of trials (times the game is played)\n",
    "  prize = runif(n)                    # Uniform distribution\n",
    "  ifelse(prize <= 1/2, 'car', 'goat') # 1 in 3 chance of car, else goat\n",
    "}\n",
    "\n",
    "table(sim.door2.prizes(1000))"
   ]
  },
  {
   "cell_type": "markdown",
   "metadata": {},
   "source": [
    "## Simulate Doors\n",
    "Create an nx7 (n-rows, 7 columns) matrix where first three columns are the three doors, column 4 is contestants first move (the door they picked), column 5 is Monty's move (door he picked) and column 6 is contestants final door selection (may or may not be the same as column 4). Last column indicates win (1) or loss (0)"
   ]
  },
  {
   "cell_type": "markdown",
   "metadata": {},
   "source": [
    "## Load doors with prizes\n",
    "- First door has a 1 in 3 chance of getting a car\n",
    "- If First door got a car, other two doors will get goats\n",
    "- If first door got a goat, door 2 had a 1 i 2 chance of gettng a car\n",
    "- If no doors have a car yet, 3rd door gets a car\n"
   ]
  },
  {
   "cell_type": "code",
   "execution_count": 5,
   "metadata": {},
   "outputs": [
    {
     "data": {
      "text/html": [
       "<table>\n",
       "<tbody>\n",
       "\t<tr><td>car </td><td>goat</td><td>goat</td><td>0   </td><td>0   </td><td>0   </td><td>0   </td></tr>\n",
       "\t<tr><td>goat</td><td>goat</td><td>car </td><td>0   </td><td>0   </td><td>0   </td><td>0   </td></tr>\n",
       "\t<tr><td>goat</td><td>goat</td><td>car </td><td>0   </td><td>0   </td><td>0   </td><td>0   </td></tr>\n",
       "\t<tr><td>goat</td><td>car </td><td>goat</td><td>0   </td><td>0   </td><td>0   </td><td>0   </td></tr>\n",
       "\t<tr><td>goat</td><td>car </td><td>goat</td><td>0   </td><td>0   </td><td>0   </td><td>0   </td></tr>\n",
       "\t<tr><td>goat</td><td>car </td><td>goat</td><td>0   </td><td>0   </td><td>0   </td><td>0   </td></tr>\n",
       "\t<tr><td>car </td><td>goat</td><td>goat</td><td>0   </td><td>0   </td><td>0   </td><td>0   </td></tr>\n",
       "\t<tr><td>goat</td><td>car </td><td>goat</td><td>0   </td><td>0   </td><td>0   </td><td>0   </td></tr>\n",
       "\t<tr><td>goat</td><td>car </td><td>goat</td><td>0   </td><td>0   </td><td>0   </td><td>0   </td></tr>\n",
       "\t<tr><td>goat</td><td>goat</td><td>car </td><td>0   </td><td>0   </td><td>0   </td><td>0   </td></tr>\n",
       "\t<tr><td>goat</td><td>goat</td><td>car </td><td>0   </td><td>0   </td><td>0   </td><td>0   </td></tr>\n",
       "\t<tr><td>goat</td><td>goat</td><td>car </td><td>0   </td><td>0   </td><td>0   </td><td>0   </td></tr>\n",
       "\t<tr><td>car </td><td>goat</td><td>goat</td><td>0   </td><td>0   </td><td>0   </td><td>0   </td></tr>\n",
       "\t<tr><td>goat</td><td>goat</td><td>car </td><td>0   </td><td>0   </td><td>0   </td><td>0   </td></tr>\n",
       "\t<tr><td>car </td><td>goat</td><td>goat</td><td>0   </td><td>0   </td><td>0   </td><td>0   </td></tr>\n",
       "\t<tr><td>goat</td><td>car </td><td>goat</td><td>0   </td><td>0   </td><td>0   </td><td>0   </td></tr>\n",
       "\t<tr><td>goat</td><td>goat</td><td>car </td><td>0   </td><td>0   </td><td>0   </td><td>0   </td></tr>\n",
       "\t<tr><td>goat</td><td>car </td><td>goat</td><td>0   </td><td>0   </td><td>0   </td><td>0   </td></tr>\n",
       "\t<tr><td>goat</td><td>goat</td><td>car </td><td>0   </td><td>0   </td><td>0   </td><td>0   </td></tr>\n",
       "</tbody>\n",
       "</table>\n"
      ],
      "text/latex": [
       "\\begin{tabular}{lllllll}\n",
       "\t car  & goat & goat & 0    & 0    & 0    & 0   \\\\\n",
       "\t goat & goat & car  & 0    & 0    & 0    & 0   \\\\\n",
       "\t goat & goat & car  & 0    & 0    & 0    & 0   \\\\\n",
       "\t goat & car  & goat & 0    & 0    & 0    & 0   \\\\\n",
       "\t goat & car  & goat & 0    & 0    & 0    & 0   \\\\\n",
       "\t goat & car  & goat & 0    & 0    & 0    & 0   \\\\\n",
       "\t car  & goat & goat & 0    & 0    & 0    & 0   \\\\\n",
       "\t goat & car  & goat & 0    & 0    & 0    & 0   \\\\\n",
       "\t goat & car  & goat & 0    & 0    & 0    & 0   \\\\\n",
       "\t goat & goat & car  & 0    & 0    & 0    & 0   \\\\\n",
       "\t goat & goat & car  & 0    & 0    & 0    & 0   \\\\\n",
       "\t goat & goat & car  & 0    & 0    & 0    & 0   \\\\\n",
       "\t car  & goat & goat & 0    & 0    & 0    & 0   \\\\\n",
       "\t goat & goat & car  & 0    & 0    & 0    & 0   \\\\\n",
       "\t car  & goat & goat & 0    & 0    & 0    & 0   \\\\\n",
       "\t goat & car  & goat & 0    & 0    & 0    & 0   \\\\\n",
       "\t goat & goat & car  & 0    & 0    & 0    & 0   \\\\\n",
       "\t goat & car  & goat & 0    & 0    & 0    & 0   \\\\\n",
       "\t goat & goat & car  & 0    & 0    & 0    & 0   \\\\\n",
       "\\end{tabular}\n"
      ],
      "text/markdown": [
       "\n",
       "| car  | goat | goat | 0    | 0    | 0    | 0    | \n",
       "| goat | goat | car  | 0    | 0    | 0    | 0    | \n",
       "| goat | goat | car  | 0    | 0    | 0    | 0    | \n",
       "| goat | car  | goat | 0    | 0    | 0    | 0    | \n",
       "| goat | car  | goat | 0    | 0    | 0    | 0    | \n",
       "| goat | car  | goat | 0    | 0    | 0    | 0    | \n",
       "| car  | goat | goat | 0    | 0    | 0    | 0    | \n",
       "| goat | car  | goat | 0    | 0    | 0    | 0    | \n",
       "| goat | car  | goat | 0    | 0    | 0    | 0    | \n",
       "| goat | goat | car  | 0    | 0    | 0    | 0    | \n",
       "| goat | goat | car  | 0    | 0    | 0    | 0    | \n",
       "| goat | goat | car  | 0    | 0    | 0    | 0    | \n",
       "| car  | goat | goat | 0    | 0    | 0    | 0    | \n",
       "| goat | goat | car  | 0    | 0    | 0    | 0    | \n",
       "| car  | goat | goat | 0    | 0    | 0    | 0    | \n",
       "| goat | car  | goat | 0    | 0    | 0    | 0    | \n",
       "| goat | goat | car  | 0    | 0    | 0    | 0    | \n",
       "| goat | car  | goat | 0    | 0    | 0    | 0    | \n",
       "| goat | goat | car  | 0    | 0    | 0    | 0    | \n",
       "\n",
       "\n"
      ],
      "text/plain": [
       "      [,1] [,2] [,3] [,4] [,5] [,6] [,7]\n",
       " [1,] car  goat goat 0    0    0    0   \n",
       " [2,] goat goat car  0    0    0    0   \n",
       " [3,] goat goat car  0    0    0    0   \n",
       " [4,] goat car  goat 0    0    0    0   \n",
       " [5,] goat car  goat 0    0    0    0   \n",
       " [6,] goat car  goat 0    0    0    0   \n",
       " [7,] car  goat goat 0    0    0    0   \n",
       " [8,] goat car  goat 0    0    0    0   \n",
       " [9,] goat car  goat 0    0    0    0   \n",
       "[10,] goat goat car  0    0    0    0   \n",
       "[11,] goat goat car  0    0    0    0   \n",
       "[12,] goat goat car  0    0    0    0   \n",
       "[13,] car  goat goat 0    0    0    0   \n",
       "[14,] goat goat car  0    0    0    0   \n",
       "[15,] car  goat goat 0    0    0    0   \n",
       "[16,] goat car  goat 0    0    0    0   \n",
       "[17,] goat goat car  0    0    0    0   \n",
       "[18,] goat car  goat 0    0    0    0   \n",
       "[19,] goat goat car  0    0    0    0   "
      ]
     },
     "metadata": {},
     "output_type": "display_data"
    }
   ],
   "source": [
    "sim.doors = function(n){\n",
    "    # Get the doors\n",
    "    doors.mat = matrix(0, n, 7) # Build an n-row/7-column matrx\n",
    "    \n",
    "    # Get the prizes\n",
    "    door1.prizes = sim.door1.prizes(n) # Prizes for door 1\n",
    "    door2.prizes = sim.door2.prizes(n) # Prizes for door 2 (depends on door 1)\n",
    "    \n",
    "    # Iterate over doors & assign prizes\n",
    "    a = 1\n",
    "    for (row in 1:n){\n",
    "        doors.mat[row,1] = door1.prizes[row]\n",
    "        if(doors.mat[row,1] == 'car'){  # Did door 1 get a car?\n",
    "            doors.mat[row,2] = 'goat'      #    Yes, put goats in the other doors.\n",
    "            doors.mat[row,3] = 'goat'\n",
    "        } else {                           #    No, flip a coin to load door2, then 3\n",
    "            doors.mat[row,2] = door2.prizes[row]\n",
    "            if(doors.mat[row,2] == 'car'){\n",
    "                doors.mat[row,3] = 'goat'\n",
    "            } else {\n",
    "                doors.mat[row,3] = 'car'\n",
    "            }\n",
    "        }        \n",
    "    }\n",
    "    doors.mat\n",
    "}\n",
    "\n",
    "sim.doors(19)"
   ]
  },
  {
   "cell_type": "markdown",
   "metadata": {},
   "source": [
    "# Simulate Contestant's First Move\n",
    "Contestant's move is modeled by an integer ranging from 1 to 3, indicating which door s/he picked."
   ]
  },
  {
   "cell_type": "code",
   "execution_count": 6,
   "metadata": {},
   "outputs": [
    {
     "data": {
      "text/html": [
       "<table>\n",
       "<tbody>\n",
       "\t<tr><td>car </td><td>goat</td><td>goat</td><td>2   </td><td>0   </td><td>0   </td><td>0   </td></tr>\n",
       "\t<tr><td>goat</td><td>goat</td><td>car </td><td>3   </td><td>0   </td><td>0   </td><td>0   </td></tr>\n",
       "\t<tr><td>goat</td><td>goat</td><td>car </td><td>3   </td><td>0   </td><td>0   </td><td>0   </td></tr>\n",
       "\t<tr><td>car </td><td>goat</td><td>goat</td><td>3   </td><td>0   </td><td>0   </td><td>0   </td></tr>\n",
       "\t<tr><td>car </td><td>goat</td><td>goat</td><td>2   </td><td>0   </td><td>0   </td><td>0   </td></tr>\n",
       "\t<tr><td>goat</td><td>goat</td><td>car </td><td>3   </td><td>0   </td><td>0   </td><td>0   </td></tr>\n",
       "\t<tr><td>car </td><td>goat</td><td>goat</td><td>3   </td><td>0   </td><td>0   </td><td>0   </td></tr>\n",
       "\t<tr><td>goat</td><td>car </td><td>goat</td><td>2   </td><td>0   </td><td>0   </td><td>0   </td></tr>\n",
       "\t<tr><td>car </td><td>goat</td><td>goat</td><td>2   </td><td>0   </td><td>0   </td><td>0   </td></tr>\n",
       "</tbody>\n",
       "</table>\n"
      ],
      "text/latex": [
       "\\begin{tabular}{lllllll}\n",
       "\t car  & goat & goat & 2    & 0    & 0    & 0   \\\\\n",
       "\t goat & goat & car  & 3    & 0    & 0    & 0   \\\\\n",
       "\t goat & goat & car  & 3    & 0    & 0    & 0   \\\\\n",
       "\t car  & goat & goat & 3    & 0    & 0    & 0   \\\\\n",
       "\t car  & goat & goat & 2    & 0    & 0    & 0   \\\\\n",
       "\t goat & goat & car  & 3    & 0    & 0    & 0   \\\\\n",
       "\t car  & goat & goat & 3    & 0    & 0    & 0   \\\\\n",
       "\t goat & car  & goat & 2    & 0    & 0    & 0   \\\\\n",
       "\t car  & goat & goat & 2    & 0    & 0    & 0   \\\\\n",
       "\\end{tabular}\n"
      ],
      "text/markdown": [
       "\n",
       "| car  | goat | goat | 2    | 0    | 0    | 0    | \n",
       "| goat | goat | car  | 3    | 0    | 0    | 0    | \n",
       "| goat | goat | car  | 3    | 0    | 0    | 0    | \n",
       "| car  | goat | goat | 3    | 0    | 0    | 0    | \n",
       "| car  | goat | goat | 2    | 0    | 0    | 0    | \n",
       "| goat | goat | car  | 3    | 0    | 0    | 0    | \n",
       "| car  | goat | goat | 3    | 0    | 0    | 0    | \n",
       "| goat | car  | goat | 2    | 0    | 0    | 0    | \n",
       "| car  | goat | goat | 2    | 0    | 0    | 0    | \n",
       "\n",
       "\n"
      ],
      "text/plain": [
       "      [,1] [,2] [,3] [,4] [,5] [,6] [,7]\n",
       " [1,] car  goat goat 2    0    0    0   \n",
       " [2,] goat goat car  3    0    0    0   \n",
       " [3,] goat goat car  3    0    0    0   \n",
       " [4,] car  goat goat 3    0    0    0   \n",
       " [5,] car  goat goat 2    0    0    0   \n",
       " [6,] goat goat car  3    0    0    0   \n",
       " [7,] car  goat goat 3    0    0    0   \n",
       " [8,] goat car  goat 2    0    0    0   \n",
       " [9,] car  goat goat 2    0    0    0   "
      ]
     },
     "metadata": {},
     "output_type": "display_data"
    }
   ],
   "source": [
    "sim.move1 = function(n){\n",
    "  doors = sim.doors(n)      # Get the doors and prizes\n",
    "  move1 = runif(n)\n",
    "  for (game in 1:n){\n",
    "      if (move1[game] <= 1/3){\n",
    "          doors[game, 4] = 1\n",
    "      } else if(move1[game] <= 2/3) {\n",
    "          doors[game, 4] = 2\n",
    "      } else{\n",
    "          doors[game, 4] = 3\n",
    "      }\n",
    "  }\n",
    "  doors\n",
    "}\n",
    "\n",
    "sim.move1(9)"
   ]
  },
  {
   "cell_type": "markdown",
   "metadata": {},
   "source": [
    "## Simulate Monty's Move\n",
    "Monty's move is deterministic, but depends on the Contestant's first move.\n",
    " - If Contestant picked the car, Monty will \"flip a coin\" and pick one of the remaining two doors at random.\n",
    " - If Contestant picked a goat, Monty has only one choice - pick the goat.\n",
    " "
   ]
  },
  {
   "cell_type": "code",
   "execution_count": 7,
   "metadata": {},
   "outputs": [
    {
     "data": {
      "text/html": [
       "<table>\n",
       "<tbody>\n",
       "\t<tr><td>goat</td><td>goat</td><td>car </td><td>2   </td><td>1   </td><td>0   </td><td>0   </td></tr>\n",
       "\t<tr><td>goat</td><td>car </td><td>goat</td><td>2   </td><td>1   </td><td>0   </td><td>0   </td></tr>\n",
       "\t<tr><td>goat</td><td>car </td><td>goat</td><td>3   </td><td>1   </td><td>0   </td><td>0   </td></tr>\n",
       "\t<tr><td>car </td><td>goat</td><td>goat</td><td>1   </td><td>2   </td><td>0   </td><td>0   </td></tr>\n",
       "\t<tr><td>goat</td><td>goat</td><td>car </td><td>2   </td><td>1   </td><td>0   </td><td>0   </td></tr>\n",
       "\t<tr><td>goat</td><td>goat</td><td>car </td><td>2   </td><td>1   </td><td>0   </td><td>0   </td></tr>\n",
       "\t<tr><td>goat</td><td>car </td><td>goat</td><td>2   </td><td>1   </td><td>0   </td><td>0   </td></tr>\n",
       "\t<tr><td>car </td><td>goat</td><td>goat</td><td>2   </td><td>3   </td><td>0   </td><td>0   </td></tr>\n",
       "\t<tr><td>car </td><td>goat</td><td>goat</td><td>1   </td><td>3   </td><td>0   </td><td>0   </td></tr>\n",
       "\t<tr><td>goat</td><td>goat</td><td>car </td><td>3   </td><td>2   </td><td>0   </td><td>0   </td></tr>\n",
       "\t<tr><td>car </td><td>goat</td><td>goat</td><td>1   </td><td>3   </td><td>0   </td><td>0   </td></tr>\n",
       "\t<tr><td>car </td><td>goat</td><td>goat</td><td>2   </td><td>3   </td><td>0   </td><td>0   </td></tr>\n",
       "\t<tr><td>car </td><td>goat</td><td>goat</td><td>2   </td><td>3   </td><td>0   </td><td>0   </td></tr>\n",
       "\t<tr><td>goat</td><td>car </td><td>goat</td><td>2   </td><td>1   </td><td>0   </td><td>0   </td></tr>\n",
       "\t<tr><td>goat</td><td>car </td><td>goat</td><td>3   </td><td>1   </td><td>0   </td><td>0   </td></tr>\n",
       "\t<tr><td>car </td><td>goat</td><td>goat</td><td>3   </td><td>2   </td><td>0   </td><td>0   </td></tr>\n",
       "\t<tr><td>goat</td><td>car </td><td>goat</td><td>1   </td><td>3   </td><td>0   </td><td>0   </td></tr>\n",
       "\t<tr><td>goat</td><td>car </td><td>goat</td><td>2   </td><td>3   </td><td>0   </td><td>0   </td></tr>\n",
       "\t<tr><td>goat</td><td>goat</td><td>car </td><td>2   </td><td>1   </td><td>0   </td><td>0   </td></tr>\n",
       "</tbody>\n",
       "</table>\n"
      ],
      "text/latex": [
       "\\begin{tabular}{lllllll}\n",
       "\t goat & goat & car  & 2    & 1    & 0    & 0   \\\\\n",
       "\t goat & car  & goat & 2    & 1    & 0    & 0   \\\\\n",
       "\t goat & car  & goat & 3    & 1    & 0    & 0   \\\\\n",
       "\t car  & goat & goat & 1    & 2    & 0    & 0   \\\\\n",
       "\t goat & goat & car  & 2    & 1    & 0    & 0   \\\\\n",
       "\t goat & goat & car  & 2    & 1    & 0    & 0   \\\\\n",
       "\t goat & car  & goat & 2    & 1    & 0    & 0   \\\\\n",
       "\t car  & goat & goat & 2    & 3    & 0    & 0   \\\\\n",
       "\t car  & goat & goat & 1    & 3    & 0    & 0   \\\\\n",
       "\t goat & goat & car  & 3    & 2    & 0    & 0   \\\\\n",
       "\t car  & goat & goat & 1    & 3    & 0    & 0   \\\\\n",
       "\t car  & goat & goat & 2    & 3    & 0    & 0   \\\\\n",
       "\t car  & goat & goat & 2    & 3    & 0    & 0   \\\\\n",
       "\t goat & car  & goat & 2    & 1    & 0    & 0   \\\\\n",
       "\t goat & car  & goat & 3    & 1    & 0    & 0   \\\\\n",
       "\t car  & goat & goat & 3    & 2    & 0    & 0   \\\\\n",
       "\t goat & car  & goat & 1    & 3    & 0    & 0   \\\\\n",
       "\t goat & car  & goat & 2    & 3    & 0    & 0   \\\\\n",
       "\t goat & goat & car  & 2    & 1    & 0    & 0   \\\\\n",
       "\\end{tabular}\n"
      ],
      "text/markdown": [
       "\n",
       "| goat | goat | car  | 2    | 1    | 0    | 0    | \n",
       "| goat | car  | goat | 2    | 1    | 0    | 0    | \n",
       "| goat | car  | goat | 3    | 1    | 0    | 0    | \n",
       "| car  | goat | goat | 1    | 2    | 0    | 0    | \n",
       "| goat | goat | car  | 2    | 1    | 0    | 0    | \n",
       "| goat | goat | car  | 2    | 1    | 0    | 0    | \n",
       "| goat | car  | goat | 2    | 1    | 0    | 0    | \n",
       "| car  | goat | goat | 2    | 3    | 0    | 0    | \n",
       "| car  | goat | goat | 1    | 3    | 0    | 0    | \n",
       "| goat | goat | car  | 3    | 2    | 0    | 0    | \n",
       "| car  | goat | goat | 1    | 3    | 0    | 0    | \n",
       "| car  | goat | goat | 2    | 3    | 0    | 0    | \n",
       "| car  | goat | goat | 2    | 3    | 0    | 0    | \n",
       "| goat | car  | goat | 2    | 1    | 0    | 0    | \n",
       "| goat | car  | goat | 3    | 1    | 0    | 0    | \n",
       "| car  | goat | goat | 3    | 2    | 0    | 0    | \n",
       "| goat | car  | goat | 1    | 3    | 0    | 0    | \n",
       "| goat | car  | goat | 2    | 3    | 0    | 0    | \n",
       "| goat | goat | car  | 2    | 1    | 0    | 0    | \n",
       "\n",
       "\n"
      ],
      "text/plain": [
       "      [,1] [,2] [,3] [,4] [,5] [,6] [,7]\n",
       " [1,] goat goat car  2    1    0    0   \n",
       " [2,] goat car  goat 2    1    0    0   \n",
       " [3,] goat car  goat 3    1    0    0   \n",
       " [4,] car  goat goat 1    2    0    0   \n",
       " [5,] goat goat car  2    1    0    0   \n",
       " [6,] goat goat car  2    1    0    0   \n",
       " [7,] goat car  goat 2    1    0    0   \n",
       " [8,] car  goat goat 2    3    0    0   \n",
       " [9,] car  goat goat 1    3    0    0   \n",
       "[10,] goat goat car  3    2    0    0   \n",
       "[11,] car  goat goat 1    3    0    0   \n",
       "[12,] car  goat goat 2    3    0    0   \n",
       "[13,] car  goat goat 2    3    0    0   \n",
       "[14,] goat car  goat 2    1    0    0   \n",
       "[15,] goat car  goat 3    1    0    0   \n",
       "[16,] car  goat goat 3    2    0    0   \n",
       "[17,] goat car  goat 1    3    0    0   \n",
       "[18,] goat car  goat 2    3    0    0   \n",
       "[19,] goat goat car  2    1    0    0   "
      ]
     },
     "metadata": {},
     "output_type": "display_data"
    },
    {
     "data": {
      "text/plain": [
       "\n",
       "   0    1    2    3  car goat \n",
       " 198   53   76   69   99  198 "
      ]
     },
     "metadata": {},
     "output_type": "display_data"
    }
   ],
   "source": [
    "sim.monty = function(n){\n",
    "    monty = runif(n)          # Need to initialize monty somehow\n",
    "    doors = sim.move1(n)      # Get the doors, prizes, contestants 1st move\n",
    "       \n",
    "     for (game in 1:n){\n",
    "          contestant_door = as.numeric(doors[game,4])\n",
    "          contestant_prize = doors[game,contestant_door]\n",
    "        if(contestant_prize == 'car'){      # Did contestant pick the car?\n",
    "            monty_doors = NULL\n",
    "             for (door in 1:3){                    #  Yes, flip a coin, pick one of the other doors\n",
    "                if (door != contestant_door){\n",
    "                  if (is.null(monty_doors)) {\n",
    "                      monty_doors = door\n",
    "                  } else {\n",
    "                      monty_doors = c(monty_doors, door) # build the list of available doors\n",
    "                  }\n",
    "                }\n",
    "            }\n",
    "            if (runif(1) > 0.5) {                    # flip a coin\n",
    "                doors[game,5] = monty_doors[1]\n",
    "            } else {\n",
    "                doors[game,5] = monty_doors[2]\n",
    "             }\n",
    "        } else {                                  #  No, find other goat door and pick it.\n",
    "            for (door in 1:3){\n",
    "                if (door != contestant_door){\n",
    "                  if (doors[game,door] != 'car')  \n",
    "                      doors[game,5] = door\n",
    "                }\n",
    "            }\n",
    "        }\n",
    "     }\n",
    "    doors\n",
    "}\n",
    "\n",
    "sim.monty(19)\n",
    "table(sim.monty(99))"
   ]
  },
  {
   "cell_type": "markdown",
   "metadata": {},
   "source": [
    "## Simulate Contestant Switching Doors"
   ]
  },
  {
   "cell_type": "code",
   "execution_count": 8,
   "metadata": {},
   "outputs": [
    {
     "data": {
      "text/html": [
       "<table>\n",
       "<tbody>\n",
       "\t<tr><td>goat</td><td>goat</td><td>car </td><td>3   </td><td>2   </td><td>1   </td><td>0   </td></tr>\n",
       "\t<tr><td>car </td><td>goat</td><td>goat</td><td>3   </td><td>2   </td><td>1   </td><td>0   </td></tr>\n",
       "\t<tr><td>goat</td><td>car </td><td>goat</td><td>3   </td><td>1   </td><td>2   </td><td>0   </td></tr>\n",
       "\t<tr><td>goat</td><td>car </td><td>goat</td><td>1   </td><td>3   </td><td>2   </td><td>0   </td></tr>\n",
       "\t<tr><td>goat</td><td>goat</td><td>car </td><td>1   </td><td>2   </td><td>3   </td><td>0   </td></tr>\n",
       "\t<tr><td>car </td><td>goat</td><td>goat</td><td>1   </td><td>2   </td><td>3   </td><td>0   </td></tr>\n",
       "\t<tr><td>car </td><td>goat</td><td>goat</td><td>1   </td><td>3   </td><td>2   </td><td>0   </td></tr>\n",
       "\t<tr><td>goat</td><td>car </td><td>goat</td><td>1   </td><td>3   </td><td>2   </td><td>0   </td></tr>\n",
       "\t<tr><td>car </td><td>goat</td><td>goat</td><td>3   </td><td>2   </td><td>1   </td><td>0   </td></tr>\n",
       "\t<tr><td>car </td><td>goat</td><td>goat</td><td>2   </td><td>3   </td><td>1   </td><td>0   </td></tr>\n",
       "\t<tr><td>goat</td><td>car </td><td>goat</td><td>2   </td><td>3   </td><td>1   </td><td>0   </td></tr>\n",
       "\t<tr><td>car </td><td>goat</td><td>goat</td><td>3   </td><td>2   </td><td>1   </td><td>0   </td></tr>\n",
       "\t<tr><td>goat</td><td>goat</td><td>car </td><td>1   </td><td>2   </td><td>3   </td><td>0   </td></tr>\n",
       "\t<tr><td>goat</td><td>goat</td><td>car </td><td>3   </td><td>2   </td><td>1   </td><td>0   </td></tr>\n",
       "\t<tr><td>goat</td><td>car </td><td>goat</td><td>3   </td><td>1   </td><td>2   </td><td>0   </td></tr>\n",
       "\t<tr><td>car </td><td>goat</td><td>goat</td><td>1   </td><td>2   </td><td>3   </td><td>0   </td></tr>\n",
       "\t<tr><td>goat</td><td>car </td><td>goat</td><td>3   </td><td>1   </td><td>2   </td><td>0   </td></tr>\n",
       "\t<tr><td>car </td><td>goat</td><td>goat</td><td>3   </td><td>2   </td><td>1   </td><td>0   </td></tr>\n",
       "\t<tr><td>goat</td><td>car </td><td>goat</td><td>1   </td><td>3   </td><td>2   </td><td>0   </td></tr>\n",
       "</tbody>\n",
       "</table>\n"
      ],
      "text/latex": [
       "\\begin{tabular}{lllllll}\n",
       "\t goat & goat & car  & 3    & 2    & 1    & 0   \\\\\n",
       "\t car  & goat & goat & 3    & 2    & 1    & 0   \\\\\n",
       "\t goat & car  & goat & 3    & 1    & 2    & 0   \\\\\n",
       "\t goat & car  & goat & 1    & 3    & 2    & 0   \\\\\n",
       "\t goat & goat & car  & 1    & 2    & 3    & 0   \\\\\n",
       "\t car  & goat & goat & 1    & 2    & 3    & 0   \\\\\n",
       "\t car  & goat & goat & 1    & 3    & 2    & 0   \\\\\n",
       "\t goat & car  & goat & 1    & 3    & 2    & 0   \\\\\n",
       "\t car  & goat & goat & 3    & 2    & 1    & 0   \\\\\n",
       "\t car  & goat & goat & 2    & 3    & 1    & 0   \\\\\n",
       "\t goat & car  & goat & 2    & 3    & 1    & 0   \\\\\n",
       "\t car  & goat & goat & 3    & 2    & 1    & 0   \\\\\n",
       "\t goat & goat & car  & 1    & 2    & 3    & 0   \\\\\n",
       "\t goat & goat & car  & 3    & 2    & 1    & 0   \\\\\n",
       "\t goat & car  & goat & 3    & 1    & 2    & 0   \\\\\n",
       "\t car  & goat & goat & 1    & 2    & 3    & 0   \\\\\n",
       "\t goat & car  & goat & 3    & 1    & 2    & 0   \\\\\n",
       "\t car  & goat & goat & 3    & 2    & 1    & 0   \\\\\n",
       "\t goat & car  & goat & 1    & 3    & 2    & 0   \\\\\n",
       "\\end{tabular}\n"
      ],
      "text/markdown": [
       "\n",
       "| goat | goat | car  | 3    | 2    | 1    | 0    | \n",
       "| car  | goat | goat | 3    | 2    | 1    | 0    | \n",
       "| goat | car  | goat | 3    | 1    | 2    | 0    | \n",
       "| goat | car  | goat | 1    | 3    | 2    | 0    | \n",
       "| goat | goat | car  | 1    | 2    | 3    | 0    | \n",
       "| car  | goat | goat | 1    | 2    | 3    | 0    | \n",
       "| car  | goat | goat | 1    | 3    | 2    | 0    | \n",
       "| goat | car  | goat | 1    | 3    | 2    | 0    | \n",
       "| car  | goat | goat | 3    | 2    | 1    | 0    | \n",
       "| car  | goat | goat | 2    | 3    | 1    | 0    | \n",
       "| goat | car  | goat | 2    | 3    | 1    | 0    | \n",
       "| car  | goat | goat | 3    | 2    | 1    | 0    | \n",
       "| goat | goat | car  | 1    | 2    | 3    | 0    | \n",
       "| goat | goat | car  | 3    | 2    | 1    | 0    | \n",
       "| goat | car  | goat | 3    | 1    | 2    | 0    | \n",
       "| car  | goat | goat | 1    | 2    | 3    | 0    | \n",
       "| goat | car  | goat | 3    | 1    | 2    | 0    | \n",
       "| car  | goat | goat | 3    | 2    | 1    | 0    | \n",
       "| goat | car  | goat | 1    | 3    | 2    | 0    | \n",
       "\n",
       "\n"
      ],
      "text/plain": [
       "      [,1] [,2] [,3] [,4] [,5] [,6] [,7]\n",
       " [1,] goat goat car  3    2    1    0   \n",
       " [2,] car  goat goat 3    2    1    0   \n",
       " [3,] goat car  goat 3    1    2    0   \n",
       " [4,] goat car  goat 1    3    2    0   \n",
       " [5,] goat goat car  1    2    3    0   \n",
       " [6,] car  goat goat 1    2    3    0   \n",
       " [7,] car  goat goat 1    3    2    0   \n",
       " [8,] goat car  goat 1    3    2    0   \n",
       " [9,] car  goat goat 3    2    1    0   \n",
       "[10,] car  goat goat 2    3    1    0   \n",
       "[11,] goat car  goat 2    3    1    0   \n",
       "[12,] car  goat goat 3    2    1    0   \n",
       "[13,] goat goat car  1    2    3    0   \n",
       "[14,] goat goat car  3    2    1    0   \n",
       "[15,] goat car  goat 3    1    2    0   \n",
       "[16,] car  goat goat 1    2    3    0   \n",
       "[17,] goat car  goat 3    1    2    0   \n",
       "[18,] car  goat goat 3    2    1    0   \n",
       "[19,] goat car  goat 1    3    2    0   "
      ]
     },
     "metadata": {},
     "output_type": "display_data"
    }
   ],
   "source": [
    "sim.switch.doors = function(n){\n",
    "    doors = sim.monty(n)\n",
    "    for (game in 1:n){\n",
    "        possible_doors = c(1, 1, 1)        # 1 means a possible door\n",
    "        contestants_door = doors[game, 4]\n",
    "        montys_door = doors[game, 5]\n",
    "        possible_doors[as.numeric(contestants_door)] = 0 # zero out contestant's first door\n",
    "        possible_doors[as.numeric(montys_door)] = 0     # zero out Monty's door\n",
    "\n",
    "        for (d in 1:3){\n",
    "            if(possible_doors[d] == 1){\n",
    "               doors[game,6] = d                       # Find the door that's still one\n",
    "            }\n",
    "        }\n",
    "    }\n",
    "    doors\n",
    "}\n",
    "\n",
    "sim.switch.doors(19)"
   ]
  },
  {
   "cell_type": "markdown",
   "metadata": {},
   "source": [
    "## Simulate Contestant \"Holding Fast\"\n",
    "Where \"Hold Fast\" means sticking to the door the contesntent picked in first move."
   ]
  },
  {
   "cell_type": "code",
   "execution_count": 9,
   "metadata": {},
   "outputs": [
    {
     "data": {
      "text/html": [
       "<table>\n",
       "<tbody>\n",
       "\t<tr><td>goat</td><td>car </td><td>goat</td><td>1   </td><td>3   </td><td>1   </td><td>0   </td></tr>\n",
       "\t<tr><td>car </td><td>goat</td><td>goat</td><td>1   </td><td>2   </td><td>1   </td><td>0   </td></tr>\n",
       "\t<tr><td>car </td><td>goat</td><td>goat</td><td>1   </td><td>2   </td><td>1   </td><td>0   </td></tr>\n",
       "\t<tr><td>car </td><td>goat</td><td>goat</td><td>1   </td><td>2   </td><td>1   </td><td>0   </td></tr>\n",
       "\t<tr><td>goat</td><td>car </td><td>goat</td><td>2   </td><td>3   </td><td>2   </td><td>0   </td></tr>\n",
       "\t<tr><td>car </td><td>goat</td><td>goat</td><td>3   </td><td>2   </td><td>3   </td><td>0   </td></tr>\n",
       "\t<tr><td>car </td><td>goat</td><td>goat</td><td>1   </td><td>2   </td><td>1   </td><td>0   </td></tr>\n",
       "\t<tr><td>goat</td><td>car </td><td>goat</td><td>2   </td><td>3   </td><td>2   </td><td>0   </td></tr>\n",
       "\t<tr><td>car </td><td>goat</td><td>goat</td><td>3   </td><td>2   </td><td>3   </td><td>0   </td></tr>\n",
       "\t<tr><td>goat</td><td>car </td><td>goat</td><td>2   </td><td>1   </td><td>2   </td><td>0   </td></tr>\n",
       "\t<tr><td>car </td><td>goat</td><td>goat</td><td>1   </td><td>2   </td><td>1   </td><td>0   </td></tr>\n",
       "\t<tr><td>car </td><td>goat</td><td>goat</td><td>3   </td><td>2   </td><td>3   </td><td>0   </td></tr>\n",
       "\t<tr><td>goat</td><td>car </td><td>goat</td><td>2   </td><td>3   </td><td>2   </td><td>0   </td></tr>\n",
       "\t<tr><td>goat</td><td>goat</td><td>car </td><td>3   </td><td>1   </td><td>3   </td><td>0   </td></tr>\n",
       "\t<tr><td>goat</td><td>car </td><td>goat</td><td>2   </td><td>1   </td><td>2   </td><td>0   </td></tr>\n",
       "\t<tr><td>goat</td><td>car </td><td>goat</td><td>2   </td><td>3   </td><td>2   </td><td>0   </td></tr>\n",
       "\t<tr><td>car </td><td>goat</td><td>goat</td><td>2   </td><td>3   </td><td>2   </td><td>0   </td></tr>\n",
       "\t<tr><td>goat</td><td>car </td><td>goat</td><td>3   </td><td>1   </td><td>3   </td><td>0   </td></tr>\n",
       "\t<tr><td>car </td><td>goat</td><td>goat</td><td>3   </td><td>2   </td><td>3   </td><td>0   </td></tr>\n",
       "</tbody>\n",
       "</table>\n"
      ],
      "text/latex": [
       "\\begin{tabular}{lllllll}\n",
       "\t goat & car  & goat & 1    & 3    & 1    & 0   \\\\\n",
       "\t car  & goat & goat & 1    & 2    & 1    & 0   \\\\\n",
       "\t car  & goat & goat & 1    & 2    & 1    & 0   \\\\\n",
       "\t car  & goat & goat & 1    & 2    & 1    & 0   \\\\\n",
       "\t goat & car  & goat & 2    & 3    & 2    & 0   \\\\\n",
       "\t car  & goat & goat & 3    & 2    & 3    & 0   \\\\\n",
       "\t car  & goat & goat & 1    & 2    & 1    & 0   \\\\\n",
       "\t goat & car  & goat & 2    & 3    & 2    & 0   \\\\\n",
       "\t car  & goat & goat & 3    & 2    & 3    & 0   \\\\\n",
       "\t goat & car  & goat & 2    & 1    & 2    & 0   \\\\\n",
       "\t car  & goat & goat & 1    & 2    & 1    & 0   \\\\\n",
       "\t car  & goat & goat & 3    & 2    & 3    & 0   \\\\\n",
       "\t goat & car  & goat & 2    & 3    & 2    & 0   \\\\\n",
       "\t goat & goat & car  & 3    & 1    & 3    & 0   \\\\\n",
       "\t goat & car  & goat & 2    & 1    & 2    & 0   \\\\\n",
       "\t goat & car  & goat & 2    & 3    & 2    & 0   \\\\\n",
       "\t car  & goat & goat & 2    & 3    & 2    & 0   \\\\\n",
       "\t goat & car  & goat & 3    & 1    & 3    & 0   \\\\\n",
       "\t car  & goat & goat & 3    & 2    & 3    & 0   \\\\\n",
       "\\end{tabular}\n"
      ],
      "text/markdown": [
       "\n",
       "| goat | car  | goat | 1    | 3    | 1    | 0    | \n",
       "| car  | goat | goat | 1    | 2    | 1    | 0    | \n",
       "| car  | goat | goat | 1    | 2    | 1    | 0    | \n",
       "| car  | goat | goat | 1    | 2    | 1    | 0    | \n",
       "| goat | car  | goat | 2    | 3    | 2    | 0    | \n",
       "| car  | goat | goat | 3    | 2    | 3    | 0    | \n",
       "| car  | goat | goat | 1    | 2    | 1    | 0    | \n",
       "| goat | car  | goat | 2    | 3    | 2    | 0    | \n",
       "| car  | goat | goat | 3    | 2    | 3    | 0    | \n",
       "| goat | car  | goat | 2    | 1    | 2    | 0    | \n",
       "| car  | goat | goat | 1    | 2    | 1    | 0    | \n",
       "| car  | goat | goat | 3    | 2    | 3    | 0    | \n",
       "| goat | car  | goat | 2    | 3    | 2    | 0    | \n",
       "| goat | goat | car  | 3    | 1    | 3    | 0    | \n",
       "| goat | car  | goat | 2    | 1    | 2    | 0    | \n",
       "| goat | car  | goat | 2    | 3    | 2    | 0    | \n",
       "| car  | goat | goat | 2    | 3    | 2    | 0    | \n",
       "| goat | car  | goat | 3    | 1    | 3    | 0    | \n",
       "| car  | goat | goat | 3    | 2    | 3    | 0    | \n",
       "\n",
       "\n"
      ],
      "text/plain": [
       "      [,1] [,2] [,3] [,4] [,5] [,6] [,7]\n",
       " [1,] goat car  goat 1    3    1    0   \n",
       " [2,] car  goat goat 1    2    1    0   \n",
       " [3,] car  goat goat 1    2    1    0   \n",
       " [4,] car  goat goat 1    2    1    0   \n",
       " [5,] goat car  goat 2    3    2    0   \n",
       " [6,] car  goat goat 3    2    3    0   \n",
       " [7,] car  goat goat 1    2    1    0   \n",
       " [8,] goat car  goat 2    3    2    0   \n",
       " [9,] car  goat goat 3    2    3    0   \n",
       "[10,] goat car  goat 2    1    2    0   \n",
       "[11,] car  goat goat 1    2    1    0   \n",
       "[12,] car  goat goat 3    2    3    0   \n",
       "[13,] goat car  goat 2    3    2    0   \n",
       "[14,] goat goat car  3    1    3    0   \n",
       "[15,] goat car  goat 2    1    2    0   \n",
       "[16,] goat car  goat 2    3    2    0   \n",
       "[17,] car  goat goat 2    3    2    0   \n",
       "[18,] goat car  goat 3    1    3    0   \n",
       "[19,] car  goat goat 3    2    3    0   "
      ]
     },
     "metadata": {},
     "output_type": "display_data"
    }
   ],
   "source": [
    "sim.keep.doors = function(n){\n",
    "    doors = sim.monty(n)\n",
    "    for (game in 1:n){\n",
    "        doors[game,6] = doors[game,4]\n",
    "    }\n",
    "    doors\n",
    "}\n",
    "\n",
    "sim.keep.doors(19)"
   ]
  },
  {
   "cell_type": "markdown",
   "metadata": {},
   "source": [
    "## Compute win or loss\n",
    "Set the final column based on whether or not contestant won the car"
   ]
  },
  {
   "cell_type": "code",
   "execution_count": 24,
   "metadata": {},
   "outputs": [
    {
     "data": {
      "text/html": [
       "<table>\n",
       "<tbody>\n",
       "\t<tr><td>goat</td><td>goat</td><td>car </td><td>1   </td><td>2   </td><td>1   </td><td>0   </td></tr>\n",
       "\t<tr><td>goat</td><td>car </td><td>goat</td><td>2   </td><td>3   </td><td>2   </td><td>1   </td></tr>\n",
       "\t<tr><td>goat</td><td>goat</td><td>car </td><td>3   </td><td>1   </td><td>3   </td><td>1   </td></tr>\n",
       "\t<tr><td>goat</td><td>car </td><td>goat</td><td>1   </td><td>3   </td><td>1   </td><td>0   </td></tr>\n",
       "\t<tr><td>goat</td><td>goat</td><td>car </td><td>2   </td><td>1   </td><td>2   </td><td>0   </td></tr>\n",
       "</tbody>\n",
       "</table>\n"
      ],
      "text/latex": [
       "\\begin{tabular}{lllllll}\n",
       "\t goat & goat & car  & 1    & 2    & 1    & 0   \\\\\n",
       "\t goat & car  & goat & 2    & 3    & 2    & 1   \\\\\n",
       "\t goat & goat & car  & 3    & 1    & 3    & 1   \\\\\n",
       "\t goat & car  & goat & 1    & 3    & 1    & 0   \\\\\n",
       "\t goat & goat & car  & 2    & 1    & 2    & 0   \\\\\n",
       "\\end{tabular}\n"
      ],
      "text/markdown": [
       "\n",
       "| goat | goat | car  | 1    | 2    | 1    | 0    | \n",
       "| goat | car  | goat | 2    | 3    | 2    | 1    | \n",
       "| goat | goat | car  | 3    | 1    | 3    | 1    | \n",
       "| goat | car  | goat | 1    | 3    | 1    | 0    | \n",
       "| goat | goat | car  | 2    | 1    | 2    | 0    | \n",
       "\n",
       "\n"
      ],
      "text/plain": [
       "     [,1] [,2] [,3] [,4] [,5] [,6] [,7]\n",
       "[1,] goat goat car  1    2    1    0   \n",
       "[2,] goat car  goat 2    3    2    1   \n",
       "[3,] goat goat car  3    1    3    1   \n",
       "[4,] goat car  goat 1    3    1    0   \n",
       "[5,] goat goat car  2    1    2    0   "
      ]
     },
     "metadata": {},
     "output_type": "display_data"
    },
    {
     "data": {
      "text/html": [
       "<table>\n",
       "<tbody>\n",
       "\t<tr><td>goat</td><td>goat</td><td>car </td><td>3   </td><td>1   </td><td>2   </td><td>0   </td></tr>\n",
       "\t<tr><td>car </td><td>goat</td><td>goat</td><td>2   </td><td>3   </td><td>1   </td><td>1   </td></tr>\n",
       "\t<tr><td>car </td><td>goat</td><td>goat</td><td>3   </td><td>2   </td><td>1   </td><td>1   </td></tr>\n",
       "\t<tr><td>car </td><td>goat</td><td>goat</td><td>1   </td><td>2   </td><td>3   </td><td>0   </td></tr>\n",
       "\t<tr><td>car </td><td>goat</td><td>goat</td><td>3   </td><td>2   </td><td>1   </td><td>1   </td></tr>\n",
       "</tbody>\n",
       "</table>\n"
      ],
      "text/latex": [
       "\\begin{tabular}{lllllll}\n",
       "\t goat & goat & car  & 3    & 1    & 2    & 0   \\\\\n",
       "\t car  & goat & goat & 2    & 3    & 1    & 1   \\\\\n",
       "\t car  & goat & goat & 3    & 2    & 1    & 1   \\\\\n",
       "\t car  & goat & goat & 1    & 2    & 3    & 0   \\\\\n",
       "\t car  & goat & goat & 3    & 2    & 1    & 1   \\\\\n",
       "\\end{tabular}\n"
      ],
      "text/markdown": [
       "\n",
       "| goat | goat | car  | 3    | 1    | 2    | 0    | \n",
       "| car  | goat | goat | 2    | 3    | 1    | 1    | \n",
       "| car  | goat | goat | 3    | 2    | 1    | 1    | \n",
       "| car  | goat | goat | 1    | 2    | 3    | 0    | \n",
       "| car  | goat | goat | 3    | 2    | 1    | 1    | \n",
       "\n",
       "\n"
      ],
      "text/plain": [
       "     [,1] [,2] [,3] [,4] [,5] [,6] [,7]\n",
       "[1,] goat goat car  3    1    2    0   \n",
       "[2,] car  goat goat 2    3    1    1   \n",
       "[3,] car  goat goat 3    2    1    1   \n",
       "[4,] car  goat goat 1    2    3    0   \n",
       "[5,] car  goat goat 3    2    1    1   "
      ]
     },
     "metadata": {},
     "output_type": "display_data"
    },
    {
     "data": {
      "text/plain": [
       "\n",
       "   0    1    2    3  car goat \n",
       "  66  133   90  107   99  198 "
      ]
     },
     "metadata": {},
     "output_type": "display_data"
    },
    {
     "data": {
      "text/plain": [
       "\n",
       "   0    1    2    3  car goat \n",
       "  36  162   99   99   99  198 "
      ]
     },
     "metadata": {},
     "output_type": "display_data"
    }
   ],
   "source": [
    "sim.game = function(door.mat){\n",
    "    \n",
    "    for (game in 1:nrow(door.mat)){\n",
    "        contestant_door = as.numeric(door.mat[game,6])\n",
    "        if(door.mat[game,contestant_door] == 'car'){\n",
    "            door.mat[game,7] = as.numeric(1) #win\n",
    "        } else {\n",
    "            door.mat[game,7] = as.numeric(0) #loss\n",
    "        }\n",
    "    }\n",
    "    door.mat\n",
    "}\n",
    "\n",
    "games = 5\n",
    "sim.game(sim.keep.doors(games))\n",
    "sim.game(sim.switch.doors(games))\n",
    "\n",
    "games = 99\n",
    "table(sim.game(sim.keep.doors(games)))\n",
    "table(sim.game(sim.switch.doors(games)))"
   ]
  },
  {
   "cell_type": "code",
   "execution_count": 26,
   "metadata": {},
   "outputs": [
    {
     "data": {
      "text/html": [
       "<ol class=list-inline>\n",
       "\t<li>0</li>\n",
       "\t<li>0</li>\n",
       "\t<li>1</li>\n",
       "\t<li>1</li>\n",
       "\t<li>0</li>\n",
       "\t<li>0</li>\n",
       "\t<li>0</li>\n",
       "\t<li>1</li>\n",
       "\t<li>0</li>\n",
       "\t<li>1</li>\n",
       "\t<li>0</li>\n",
       "\t<li>1</li>\n",
       "\t<li>0</li>\n",
       "\t<li>1</li>\n",
       "\t<li>1</li>\n",
       "\t<li>1</li>\n",
       "\t<li>1</li>\n",
       "\t<li>1</li>\n",
       "\t<li>1</li>\n",
       "\t<li>1</li>\n",
       "\t<li>1</li>\n",
       "\t<li>1</li>\n",
       "\t<li>1</li>\n",
       "\t<li>1</li>\n",
       "\t<li>1</li>\n",
       "\t<li>1</li>\n",
       "\t<li>0</li>\n",
       "\t<li>0</li>\n",
       "\t<li>0</li>\n",
       "\t<li>1</li>\n",
       "\t<li>0</li>\n",
       "\t<li>1</li>\n",
       "\t<li>0</li>\n",
       "\t<li>0</li>\n",
       "\t<li>1</li>\n",
       "\t<li>1</li>\n",
       "\t<li>1</li>\n",
       "\t<li>1</li>\n",
       "\t<li>1</li>\n",
       "\t<li>0</li>\n",
       "\t<li>1</li>\n",
       "\t<li>1</li>\n",
       "\t<li>1</li>\n",
       "\t<li>0</li>\n",
       "\t<li>1</li>\n",
       "\t<li>0</li>\n",
       "\t<li>1</li>\n",
       "\t<li>1</li>\n",
       "\t<li>1</li>\n",
       "\t<li>0</li>\n",
       "\t<li>1</li>\n",
       "\t<li>1</li>\n",
       "\t<li>1</li>\n",
       "\t<li>1</li>\n",
       "\t<li>1</li>\n",
       "\t<li>1</li>\n",
       "\t<li>0</li>\n",
       "\t<li>1</li>\n",
       "\t<li>1</li>\n",
       "\t<li>1</li>\n",
       "\t<li>1</li>\n",
       "\t<li>1</li>\n",
       "\t<li>1</li>\n",
       "\t<li>1</li>\n",
       "\t<li>1</li>\n",
       "\t<li>0</li>\n",
       "\t<li>0</li>\n",
       "\t<li>1</li>\n",
       "\t<li>1</li>\n",
       "\t<li>1</li>\n",
       "\t<li>1</li>\n",
       "\t<li>1</li>\n",
       "\t<li>0</li>\n",
       "\t<li>1</li>\n",
       "\t<li>1</li>\n",
       "\t<li>0</li>\n",
       "\t<li>1</li>\n",
       "\t<li>1</li>\n",
       "\t<li>1</li>\n",
       "\t<li>1</li>\n",
       "\t<li>1</li>\n",
       "\t<li>0</li>\n",
       "\t<li>1</li>\n",
       "\t<li>0</li>\n",
       "\t<li>1</li>\n",
       "\t<li>0</li>\n",
       "\t<li>0</li>\n",
       "\t<li>1</li>\n",
       "\t<li>0</li>\n",
       "\t<li>1</li>\n",
       "\t<li>0</li>\n",
       "\t<li>1</li>\n",
       "\t<li>0</li>\n",
       "\t<li>1</li>\n",
       "\t<li>1</li>\n",
       "\t<li>1</li>\n",
       "\t<li>1</li>\n",
       "\t<li>0</li>\n",
       "\t<li>1</li>\n",
       "</ol>\n"
      ],
      "text/latex": [
       "\\begin{enumerate*}\n",
       "\\item 0\n",
       "\\item 0\n",
       "\\item 1\n",
       "\\item 1\n",
       "\\item 0\n",
       "\\item 0\n",
       "\\item 0\n",
       "\\item 1\n",
       "\\item 0\n",
       "\\item 1\n",
       "\\item 0\n",
       "\\item 1\n",
       "\\item 0\n",
       "\\item 1\n",
       "\\item 1\n",
       "\\item 1\n",
       "\\item 1\n",
       "\\item 1\n",
       "\\item 1\n",
       "\\item 1\n",
       "\\item 1\n",
       "\\item 1\n",
       "\\item 1\n",
       "\\item 1\n",
       "\\item 1\n",
       "\\item 1\n",
       "\\item 0\n",
       "\\item 0\n",
       "\\item 0\n",
       "\\item 1\n",
       "\\item 0\n",
       "\\item 1\n",
       "\\item 0\n",
       "\\item 0\n",
       "\\item 1\n",
       "\\item 1\n",
       "\\item 1\n",
       "\\item 1\n",
       "\\item 1\n",
       "\\item 0\n",
       "\\item 1\n",
       "\\item 1\n",
       "\\item 1\n",
       "\\item 0\n",
       "\\item 1\n",
       "\\item 0\n",
       "\\item 1\n",
       "\\item 1\n",
       "\\item 1\n",
       "\\item 0\n",
       "\\item 1\n",
       "\\item 1\n",
       "\\item 1\n",
       "\\item 1\n",
       "\\item 1\n",
       "\\item 1\n",
       "\\item 0\n",
       "\\item 1\n",
       "\\item 1\n",
       "\\item 1\n",
       "\\item 1\n",
       "\\item 1\n",
       "\\item 1\n",
       "\\item 1\n",
       "\\item 1\n",
       "\\item 0\n",
       "\\item 0\n",
       "\\item 1\n",
       "\\item 1\n",
       "\\item 1\n",
       "\\item 1\n",
       "\\item 1\n",
       "\\item 0\n",
       "\\item 1\n",
       "\\item 1\n",
       "\\item 0\n",
       "\\item 1\n",
       "\\item 1\n",
       "\\item 1\n",
       "\\item 1\n",
       "\\item 1\n",
       "\\item 0\n",
       "\\item 1\n",
       "\\item 0\n",
       "\\item 1\n",
       "\\item 0\n",
       "\\item 0\n",
       "\\item 1\n",
       "\\item 0\n",
       "\\item 1\n",
       "\\item 0\n",
       "\\item 1\n",
       "\\item 0\n",
       "\\item 1\n",
       "\\item 1\n",
       "\\item 1\n",
       "\\item 1\n",
       "\\item 0\n",
       "\\item 1\n",
       "\\end{enumerate*}\n"
      ],
      "text/markdown": [
       "1. 0\n",
       "2. 0\n",
       "3. 1\n",
       "4. 1\n",
       "5. 0\n",
       "6. 0\n",
       "7. 0\n",
       "8. 1\n",
       "9. 0\n",
       "10. 1\n",
       "11. 0\n",
       "12. 1\n",
       "13. 0\n",
       "14. 1\n",
       "15. 1\n",
       "16. 1\n",
       "17. 1\n",
       "18. 1\n",
       "19. 1\n",
       "20. 1\n",
       "21. 1\n",
       "22. 1\n",
       "23. 1\n",
       "24. 1\n",
       "25. 1\n",
       "26. 1\n",
       "27. 0\n",
       "28. 0\n",
       "29. 0\n",
       "30. 1\n",
       "31. 0\n",
       "32. 1\n",
       "33. 0\n",
       "34. 0\n",
       "35. 1\n",
       "36. 1\n",
       "37. 1\n",
       "38. 1\n",
       "39. 1\n",
       "40. 0\n",
       "41. 1\n",
       "42. 1\n",
       "43. 1\n",
       "44. 0\n",
       "45. 1\n",
       "46. 0\n",
       "47. 1\n",
       "48. 1\n",
       "49. 1\n",
       "50. 0\n",
       "51. 1\n",
       "52. 1\n",
       "53. 1\n",
       "54. 1\n",
       "55. 1\n",
       "56. 1\n",
       "57. 0\n",
       "58. 1\n",
       "59. 1\n",
       "60. 1\n",
       "61. 1\n",
       "62. 1\n",
       "63. 1\n",
       "64. 1\n",
       "65. 1\n",
       "66. 0\n",
       "67. 0\n",
       "68. 1\n",
       "69. 1\n",
       "70. 1\n",
       "71. 1\n",
       "72. 1\n",
       "73. 0\n",
       "74. 1\n",
       "75. 1\n",
       "76. 0\n",
       "77. 1\n",
       "78. 1\n",
       "79. 1\n",
       "80. 1\n",
       "81. 1\n",
       "82. 0\n",
       "83. 1\n",
       "84. 0\n",
       "85. 1\n",
       "86. 0\n",
       "87. 0\n",
       "88. 1\n",
       "89. 0\n",
       "90. 1\n",
       "91. 0\n",
       "92. 1\n",
       "93. 0\n",
       "94. 1\n",
       "95. 1\n",
       "96. 1\n",
       "97. 1\n",
       "98. 0\n",
       "99. 1\n",
       "\n",
       "\n"
      ],
      "text/plain": [
       " [1] 0 0 1 1 0 0 0 1 0 1 0 1 0 1 1 1 1 1 1 1 1 1 1 1 1 1 0 0 0 1 0 1 0 0 1 1 1 1\n",
       "[39] 1 0 1 1 1 0 1 0 1 1 1 0 1 1 1 1 1 1 0 1 1 1 1 1 1 1 1 0 0 1 1 1 1 1 0 1 1 0\n",
       "[77] 1 1 1 1 1 0 1 0 1 0 0 1 0 1 0 1 0 1 1 1 1 0 1"
      ]
     },
     "metadata": {},
     "output_type": "display_data"
    },
    {
     "data": {
      "image/png": "[encoded data removed]",
      "text/plain": [
       "Plot with title “Histogram of wins”"
      ]
     },
     "metadata": {},
     "output_type": "display_data"
    }
   ],
   "source": [
    "results = sim.game(sim.switch.doors(games))\n",
    "wins = as.numeric(results[,as.numeric(c(7))])\n",
    "wins\n",
    "hist(wins)"
   ]
  },
  {
   "cell_type": "code",
   "execution_count": 35,
   "metadata": {},
   "outputs": [
    {
     "data": {
      "image/png": "[encoded data removed]",
      "text/plain": [
       "Plot with title “Histogram of Loss(0)/Win(1) \n",
       " of  999 games \n",
       " where contestant holds”"
      ]
     },
     "metadata": {},
     "output_type": "display_data"
    }
   ],
   "source": [
    "par(mfrow = c(3,2))\n",
    "games = c(9, 99, 999)\n",
    "for (game in games) {\n",
    "    results = sim.game(sim.switch.doors(game))\n",
    "    wins = as.numeric(results[,as.numeric(c(7))])\n",
    "    title = paste('Histogram of Loss(0)/Win(1) \\n',\n",
    "                  'of ', as.character(game), 'games \\n',\n",
    "                  'where contestant switches')\n",
    "    hist(wins, main=title)\n",
    "    \n",
    "    results = sim.game(sim.keep.doors(game))\n",
    "    wins = as.numeric(results[,as.numeric(c(7))])\n",
    "    title = paste('Histogram of Loss(0)/Win(1) \\n',\n",
    "                  'of ', as.character(game), 'games \\n',\n",
    "                  'where contestant holds')\n",
    "    hist(wins, main=title)  \n",
    "}\n",
    "par(mfrow = c(1,1))"
   ]
  },
  {
   "cell_type": "code",
   "execution_count": 43,
   "metadata": {},
   "outputs": [
    {
     "ename": "ERROR",
     "evalue": "Error in `[<-`(`*tmp*`, game, 1, value = 9): subscript out of bounds\n",
     "output_type": "error",
     "traceback": [
      "Error in `[<-`(`*tmp*`, game, 1, value = 9): subscript out of bounds\nTraceback:\n"
     ]
    }
   ],
   "source": [
    "games = c(9, 99, 999)\n",
    "results.mat = matrix(0, 3, 2) # Three runs, two columns\n",
    "\n",
    "for (game in games) {\n",
    "    results = sim.game(sim.switch.doors(game))\n",
    "    wins = as.numeric(results[,as.numeric(c(7))])\n",
    "    results.mat[game,1] = game\n",
    "    results.mat[game,2] = mean(wins)\n",
    "\n",
    "    results = sim.game(sim.keep.doors(game))\n",
    "    wins = as.numeric(results[,as.numeric(c(7))])\n",
    "    results.mat[game,1] = game\n",
    "    results.mat[game,2] = mean(wins)\n",
    "}\n",
    "\n",
    "results.mat"
   ]
  },
  {
   "cell_type": "code",
   "execution_count": 46,
   "metadata": {},
   "outputs": [
    {
     "data": {
      "text/html": [
       "<table>\n",
       "<tbody>\n",
       "\t<tr><td>  9      </td><td>1.0000000</td><td>0.2222222</td></tr>\n",
       "\t<tr><td> 99      </td><td>0.5858586</td><td>0.2929293</td></tr>\n",
       "\t<tr><td>999      </td><td>0.6766767</td><td>0.3533534</td></tr>\n",
       "</tbody>\n",
       "</table>\n"
      ],
      "text/latex": [
       "\\begin{tabular}{lll}\n",
       "\t   9       & 1.0000000 & 0.2222222\\\\\n",
       "\t  99       & 0.5858586 & 0.2929293\\\\\n",
       "\t 999       & 0.6766767 & 0.3533534\\\\\n",
       "\\end{tabular}\n"
      ],
      "text/markdown": [
       "\n",
       "|   9       | 1.0000000 | 0.2222222 | \n",
       "|  99       | 0.5858586 | 0.2929293 | \n",
       "| 999       | 0.6766767 | 0.3533534 | \n",
       "\n",
       "\n"
      ],
      "text/plain": [
       "     [,1] [,2]      [,3]     \n",
       "[1,]   9  1.0000000 0.2222222\n",
       "[2,]  99  0.5858586 0.2929293\n",
       "[3,] 999  0.6766767 0.3533534"
      ]
     },
     "metadata": {},
     "output_type": "display_data"
    }
   ],
   "source": [
    "games = c(9, 99, 999)\n",
    "results.mat = matrix(0, 3, 3) # Three runs, two columns\n",
    "\n",
    "for (row in 1:3) {\n",
    "    game = games[row]\n",
    "    results.mat[row,1] = game\n",
    "    \n",
    "    results = sim.game(sim.switch.doors(game))\n",
    "    wins = as.numeric(results[,as.numeric(c(7))])\n",
    "    results.mat[row,2] = mean(wins)\n",
    "\n",
    "    results = sim.game(sim.keep.doors(game))\n",
    "    wins = as.numeric(results[,as.numeric(c(7))])\n",
    "    results.mat[row,3] = mean(wins)\n",
    "}\n",
    "\n",
    "results.mat"
   ]
  },
  {
   "cell_type": "code",
   "execution_count": null,
   "metadata": {
    "collapsed": true
   },
   "outputs": [],
   "source": []
  },
  {
   "cell_type": "code",
   "execution_count": null,
   "metadata": {
    "collapsed": true
   },
   "outputs": [],
   "source": []
  }
 ],
 "metadata": {
  "kernelspec": {
   "display_name": "R",
   "language": "R",
   "name": "ir"
  },
  "language_info": {
   "codemirror_mode": "r",
   "file_extension": ".r",
   "mimetype": "text/x-r-source",
   "name": "R",
   "pygments_lexer": "r",
   "version": "3.2.3"
  }
 },
 "nbformat": 4,
 "nbformat_minor": 2
}

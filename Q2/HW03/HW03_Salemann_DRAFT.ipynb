{
 "cells": [
  {
   "cell_type": "markdown",
   "metadata": {},
   "source": [
    "# Data Science 410 BB\n",
    "## University of Washington Professional & Continuing Education\n",
    "\n",
    "### Homework 3: Simulating the Mony Hall Problem\n",
    "### Leo Salemann\n",
    "### 1/25/18\n"
   ]
  },
  {
   "cell_type": "markdown",
   "metadata": {},
   "source": [
    "## Overview, Door-based\n",
    "- Start by simulating move1 (picking door 1 vs. door 2 vs. door 3)\n",
    "  - Uniform distribution 1 in 3 chance\n",
    "- Associate prizes to door\n",
    "  - Start with car, 1 in 3 chance\n",
    "  - Goat 1 and Goat 2 become determinestic\n",
    "- Simulate Monty's Move\n",
    "  - Start by running the Door & Prize sims\n",
    "  - Iterate over Door outpus\n",
    "    - If contestent picked the car, flip a coin and open one of the two remaining doors.\n",
    "    - If contestant picked a goat, find the door with the other goat and pick it."
   ]
  },
  {
   "cell_type": "markdown",
   "metadata": {},
   "source": [
    "## Simulate Prizes"
   ]
  },
  {
   "cell_type": "code",
   "execution_count": 9,
   "metadata": {},
   "outputs": [
    {
     "data": {
      "text/plain": [
       "\n",
       " car goat \n",
       "   3    6 "
      ]
     },
     "metadata": {},
     "output_type": "display_data"
    }
   ],
   "source": [
    "# Model 3 equal changes enumerating the two goats separately (Goat 1 & Goat 2)\n",
    "\n",
    "sim.prizes = function(n){\n",
    "  # n = number of trials (times the game is played)\n",
    "  prize = runif(n)                    # Uniform distribution\n",
    "  ifelse(prize <= 1/3, 'car', 'goat') # 1 in 3 chance of car, else goat\n",
    "}\n",
    "\n",
    "table(sim.prizes(9))"
   ]
  },
  {
   "cell_type": "code",
   "execution_count": 10,
   "metadata": {},
   "outputs": [
    {
     "data": {
      "text/html": [
       "<ol class=list-inline>\n",
       "\t<li>'goat'</li>\n",
       "\t<li>'goat'</li>\n",
       "\t<li>'goat'</li>\n",
       "\t<li>'goat'</li>\n",
       "\t<li>'goat'</li>\n",
       "\t<li>'goat'</li>\n",
       "\t<li>'car'</li>\n",
       "\t<li>'goat'</li>\n",
       "\t<li>'car'</li>\n",
       "</ol>\n"
      ],
      "text/latex": [
       "\\begin{enumerate*}\n",
       "\\item 'goat'\n",
       "\\item 'goat'\n",
       "\\item 'goat'\n",
       "\\item 'goat'\n",
       "\\item 'goat'\n",
       "\\item 'goat'\n",
       "\\item 'car'\n",
       "\\item 'goat'\n",
       "\\item 'car'\n",
       "\\end{enumerate*}\n"
      ],
      "text/markdown": [
       "1. 'goat'\n",
       "2. 'goat'\n",
       "3. 'goat'\n",
       "4. 'goat'\n",
       "5. 'goat'\n",
       "6. 'goat'\n",
       "7. 'car'\n",
       "8. 'goat'\n",
       "9. 'car'\n",
       "\n",
       "\n"
      ],
      "text/plain": [
       "[1] \"goat\" \"goat\" \"goat\" \"goat\" \"goat\" \"goat\" \"car\"  \"goat\" \"car\" "
      ]
     },
     "metadata": {},
     "output_type": "display_data"
    },
    {
     "data": {
      "text/html": [
       "'goat'"
      ],
      "text/latex": [
       "'goat'"
      ],
      "text/markdown": [
       "'goat'"
      ],
      "text/plain": [
       "[1] \"goat\""
      ]
     },
     "metadata": {},
     "output_type": "display_data"
    }
   ],
   "source": [
    "sim.prizes(9)\n",
    "sim.prizes(9)[1]"
   ]
  },
  {
   "cell_type": "code",
   "execution_count": 11,
   "metadata": {},
   "outputs": [
    {
     "data": {
      "text/html": [
       "<ol class=list-inline>\n",
       "\t<li>'goat'</li>\n",
       "\t<li>'goat'</li>\n",
       "\t<li>'car'</li>\n",
       "\t<li>'goat'</li>\n",
       "\t<li>'goat'</li>\n",
       "\t<li>'goat'</li>\n",
       "\t<li>'goat'</li>\n",
       "\t<li>'goat'</li>\n",
       "\t<li>'goat'</li>\n",
       "</ol>\n"
      ],
      "text/latex": [
       "\\begin{enumerate*}\n",
       "\\item 'goat'\n",
       "\\item 'goat'\n",
       "\\item 'car'\n",
       "\\item 'goat'\n",
       "\\item 'goat'\n",
       "\\item 'goat'\n",
       "\\item 'goat'\n",
       "\\item 'goat'\n",
       "\\item 'goat'\n",
       "\\end{enumerate*}\n"
      ],
      "text/markdown": [
       "1. 'goat'\n",
       "2. 'goat'\n",
       "3. 'car'\n",
       "4. 'goat'\n",
       "5. 'goat'\n",
       "6. 'goat'\n",
       "7. 'goat'\n",
       "8. 'goat'\n",
       "9. 'goat'\n",
       "\n",
       "\n"
      ],
      "text/plain": [
       "[1] \"goat\" \"goat\" \"car\"  \"goat\" \"goat\" \"goat\" \"goat\" \"goat\" \"goat\""
      ]
     },
     "metadata": {},
     "output_type": "display_data"
    },
    {
     "data": {
      "text/html": [
       "'goat'"
      ],
      "text/latex": [
       "'goat'"
      ],
      "text/markdown": [
       "'goat'"
      ],
      "text/plain": [
       "[1] \"goat\""
      ]
     },
     "metadata": {},
     "output_type": "display_data"
    }
   ],
   "source": [
    "prizes = sim.prizes(9)\n",
    "prizes\n",
    "prizes[1]"
   ]
  },
  {
   "cell_type": "code",
   "execution_count": 70,
   "metadata": {},
   "outputs": [
    {
     "data": {
      "text/plain": [
       "\n",
       " car goat \n",
       " 321  678 "
      ]
     },
     "metadata": {},
     "output_type": "display_data"
    }
   ],
   "source": [
    "# Door 1 has a 1 in 3 chance of holding a car\n",
    "\n",
    "sim.door1.prizes = function(n){\n",
    "  # n = number of trials (times the game is played)\n",
    "  prize = runif(n)                    # Uniform distribution\n",
    "  ifelse(prize <= 1/3, 'car', 'goat') # 1 in 3 chance of car, else goat\n",
    "}\n",
    "\n",
    "table(sim.door1.prizes(999))"
   ]
  },
  {
   "cell_type": "code",
   "execution_count": 72,
   "metadata": {},
   "outputs": [
    {
     "data": {
      "text/plain": [
       "\n",
       " car goat \n",
       " 517  483 "
      ]
     },
     "metadata": {},
     "output_type": "display_data"
    }
   ],
   "source": [
    "# Assuming door 1 had a goat, Door 2 has a 1 in 2 chance of holding a car\n",
    "sim.door2.prizes = function(n){\n",
    "  # n = number of trials (times the game is played)\n",
    "  prize = runif(n)                    # Uniform distribution\n",
    "  ifelse(prize <= 1/2, 'car', 'goat') # 1 in 3 chance of car, else goat\n",
    "}\n",
    "\n",
    "table(sim.door2.prizes(1000))"
   ]
  },
  {
   "cell_type": "markdown",
   "metadata": {},
   "source": [
    "## Simulate Doors\n",
    "Create an nx3 (n-rows, 3 columns) matrix where column indicates door number, and each row is a different trial (different playing of the game). Each cell in the matrix is set to 'car' or 'goat' using a uniform distribution, where the chance of a door containing a car is 1 in 3. "
   ]
  },
  {
   "cell_type": "code",
   "execution_count": 17,
   "metadata": {
    "collapsed": true
   },
   "outputs": [],
   "source": [
    "sim.doors = function(n){\n",
    "    # Get the doors\n",
    "    doors.mat = matrix(0, n, 6) # Build an n-row/3-column matrx\n",
    "    \n",
    "    # Get the prizes\n",
    "    prizes = sim.prizes(n*3)\n",
    "    \n",
    "    # Iterate over doors & assign prizes\n",
    "    a = 1\n",
    "    for (row in 1:n){\n",
    "        for (col in 1:3){\n",
    "            doors.mat[row,col] = prizes[a]\n",
    "            a = a +1\n",
    "        }\n",
    "    }\n",
    "    doors.mat\n",
    "}"
   ]
  },
  {
   "cell_type": "code",
   "execution_count": 18,
   "metadata": {},
   "outputs": [
    {
     "data": {
      "text/html": [
       "<table>\n",
       "<tbody>\n",
       "\t<tr><td>goat</td><td>goat</td><td>goat</td><td>0   </td><td>0   </td><td>0   </td></tr>\n",
       "\t<tr><td>car </td><td>goat</td><td>goat</td><td>0   </td><td>0   </td><td>0   </td></tr>\n",
       "\t<tr><td>goat</td><td>goat</td><td>goat</td><td>0   </td><td>0   </td><td>0   </td></tr>\n",
       "</tbody>\n",
       "</table>\n"
      ],
      "text/latex": [
       "\\begin{tabular}{llllll}\n",
       "\t goat & goat & goat & 0    & 0    & 0   \\\\\n",
       "\t car  & goat & goat & 0    & 0    & 0   \\\\\n",
       "\t goat & goat & goat & 0    & 0    & 0   \\\\\n",
       "\\end{tabular}\n"
      ],
      "text/markdown": [
       "\n",
       "| goat | goat | goat | 0    | 0    | 0    | \n",
       "| car  | goat | goat | 0    | 0    | 0    | \n",
       "| goat | goat | goat | 0    | 0    | 0    | \n",
       "\n",
       "\n"
      ],
      "text/plain": [
       "     [,1] [,2] [,3] [,4] [,5] [,6]\n",
       "[1,] goat goat goat 0    0    0   \n",
       "[2,] car  goat goat 0    0    0   \n",
       "[3,] goat goat goat 0    0    0   "
      ]
     },
     "metadata": {},
     "output_type": "display_data"
    }
   ],
   "source": [
    "sim.doors(3)"
   ]
  },
  {
   "cell_type": "markdown",
   "metadata": {},
   "source": [
    "## Load doors with prizes\n",
    "- First door has a 1 in 3 chance of getting a car\n",
    "- If First door got a car, other two doors will get goats\n",
    "- If first door got a goat, door 2 had a 1 i 2 chance of gettng a car\n",
    "- If no doors have a car yet, 3rd door gets a car\n"
   ]
  },
  {
   "cell_type": "code",
   "execution_count": 76,
   "metadata": {},
   "outputs": [
    {
     "data": {
      "text/html": [
       "<table>\n",
       "<tbody>\n",
       "\t<tr><td>car </td><td>goat</td><td>goat</td><td>0   </td><td>0   </td><td>0   </td></tr>\n",
       "\t<tr><td>goat</td><td>goat</td><td>car </td><td>0   </td><td>0   </td><td>0   </td></tr>\n",
       "\t<tr><td>goat</td><td>car </td><td>goat</td><td>0   </td><td>0   </td><td>0   </td></tr>\n",
       "\t<tr><td>car </td><td>goat</td><td>goat</td><td>0   </td><td>0   </td><td>0   </td></tr>\n",
       "\t<tr><td>goat</td><td>goat</td><td>car </td><td>0   </td><td>0   </td><td>0   </td></tr>\n",
       "\t<tr><td>goat</td><td>goat</td><td>car </td><td>0   </td><td>0   </td><td>0   </td></tr>\n",
       "\t<tr><td>goat</td><td>goat</td><td>car </td><td>0   </td><td>0   </td><td>0   </td></tr>\n",
       "\t<tr><td>goat</td><td>goat</td><td>car </td><td>0   </td><td>0   </td><td>0   </td></tr>\n",
       "\t<tr><td>car </td><td>goat</td><td>goat</td><td>0   </td><td>0   </td><td>0   </td></tr>\n",
       "\t<tr><td>car </td><td>goat</td><td>goat</td><td>0   </td><td>0   </td><td>0   </td></tr>\n",
       "\t<tr><td>goat</td><td>car </td><td>goat</td><td>0   </td><td>0   </td><td>0   </td></tr>\n",
       "\t<tr><td>car </td><td>goat</td><td>goat</td><td>0   </td><td>0   </td><td>0   </td></tr>\n",
       "\t<tr><td>goat</td><td>goat</td><td>car </td><td>0   </td><td>0   </td><td>0   </td></tr>\n",
       "\t<tr><td>goat</td><td>goat</td><td>car </td><td>0   </td><td>0   </td><td>0   </td></tr>\n",
       "\t<tr><td>goat</td><td>goat</td><td>car </td><td>0   </td><td>0   </td><td>0   </td></tr>\n",
       "\t<tr><td>goat</td><td>car </td><td>goat</td><td>0   </td><td>0   </td><td>0   </td></tr>\n",
       "\t<tr><td>goat</td><td>car </td><td>goat</td><td>0   </td><td>0   </td><td>0   </td></tr>\n",
       "\t<tr><td>car </td><td>goat</td><td>goat</td><td>0   </td><td>0   </td><td>0   </td></tr>\n",
       "\t<tr><td>goat</td><td>goat</td><td>car </td><td>0   </td><td>0   </td><td>0   </td></tr>\n",
       "</tbody>\n",
       "</table>\n"
      ],
      "text/latex": [
       "\\begin{tabular}{llllll}\n",
       "\t car  & goat & goat & 0    & 0    & 0   \\\\\n",
       "\t goat & goat & car  & 0    & 0    & 0   \\\\\n",
       "\t goat & car  & goat & 0    & 0    & 0   \\\\\n",
       "\t car  & goat & goat & 0    & 0    & 0   \\\\\n",
       "\t goat & goat & car  & 0    & 0    & 0   \\\\\n",
       "\t goat & goat & car  & 0    & 0    & 0   \\\\\n",
       "\t goat & goat & car  & 0    & 0    & 0   \\\\\n",
       "\t goat & goat & car  & 0    & 0    & 0   \\\\\n",
       "\t car  & goat & goat & 0    & 0    & 0   \\\\\n",
       "\t car  & goat & goat & 0    & 0    & 0   \\\\\n",
       "\t goat & car  & goat & 0    & 0    & 0   \\\\\n",
       "\t car  & goat & goat & 0    & 0    & 0   \\\\\n",
       "\t goat & goat & car  & 0    & 0    & 0   \\\\\n",
       "\t goat & goat & car  & 0    & 0    & 0   \\\\\n",
       "\t goat & goat & car  & 0    & 0    & 0   \\\\\n",
       "\t goat & car  & goat & 0    & 0    & 0   \\\\\n",
       "\t goat & car  & goat & 0    & 0    & 0   \\\\\n",
       "\t car  & goat & goat & 0    & 0    & 0   \\\\\n",
       "\t goat & goat & car  & 0    & 0    & 0   \\\\\n",
       "\\end{tabular}\n"
      ],
      "text/markdown": [
       "\n",
       "| car  | goat | goat | 0    | 0    | 0    | \n",
       "| goat | goat | car  | 0    | 0    | 0    | \n",
       "| goat | car  | goat | 0    | 0    | 0    | \n",
       "| car  | goat | goat | 0    | 0    | 0    | \n",
       "| goat | goat | car  | 0    | 0    | 0    | \n",
       "| goat | goat | car  | 0    | 0    | 0    | \n",
       "| goat | goat | car  | 0    | 0    | 0    | \n",
       "| goat | goat | car  | 0    | 0    | 0    | \n",
       "| car  | goat | goat | 0    | 0    | 0    | \n",
       "| car  | goat | goat | 0    | 0    | 0    | \n",
       "| goat | car  | goat | 0    | 0    | 0    | \n",
       "| car  | goat | goat | 0    | 0    | 0    | \n",
       "| goat | goat | car  | 0    | 0    | 0    | \n",
       "| goat | goat | car  | 0    | 0    | 0    | \n",
       "| goat | goat | car  | 0    | 0    | 0    | \n",
       "| goat | car  | goat | 0    | 0    | 0    | \n",
       "| goat | car  | goat | 0    | 0    | 0    | \n",
       "| car  | goat | goat | 0    | 0    | 0    | \n",
       "| goat | goat | car  | 0    | 0    | 0    | \n",
       "\n",
       "\n"
      ],
      "text/plain": [
       "      [,1] [,2] [,3] [,4] [,5] [,6]\n",
       " [1,] car  goat goat 0    0    0   \n",
       " [2,] goat goat car  0    0    0   \n",
       " [3,] goat car  goat 0    0    0   \n",
       " [4,] car  goat goat 0    0    0   \n",
       " [5,] goat goat car  0    0    0   \n",
       " [6,] goat goat car  0    0    0   \n",
       " [7,] goat goat car  0    0    0   \n",
       " [8,] goat goat car  0    0    0   \n",
       " [9,] car  goat goat 0    0    0   \n",
       "[10,] car  goat goat 0    0    0   \n",
       "[11,] goat car  goat 0    0    0   \n",
       "[12,] car  goat goat 0    0    0   \n",
       "[13,] goat goat car  0    0    0   \n",
       "[14,] goat goat car  0    0    0   \n",
       "[15,] goat goat car  0    0    0   \n",
       "[16,] goat car  goat 0    0    0   \n",
       "[17,] goat car  goat 0    0    0   \n",
       "[18,] car  goat goat 0    0    0   \n",
       "[19,] goat goat car  0    0    0   "
      ]
     },
     "metadata": {},
     "output_type": "display_data"
    }
   ],
   "source": [
    "sim.doors = function(n){\n",
    "    # Get the doors\n",
    "    doors.mat = matrix(0, n, 6) # Build an n-row/3-column matrx\n",
    "    \n",
    "    # Get the prizes\n",
    "    door1.prizes = sim.door1.prizes(n) # Prizes for door 1\n",
    "    door2.prizes = sim.door2.prizes(n) # Prizes for door 2 (depends on door 1)\n",
    "    \n",
    "    # Iterate over doors & assign prizes\n",
    "    a = 1\n",
    "    for (row in 1:n){\n",
    "        doors.mat[row,1] = door1.prizes[row]\n",
    "        if(doors.mat[row,1] == 'car'){  # Did door 1 get a car?\n",
    "            doors.mat[row,2] = 'goat'      #    Yes, put goats in the other doors.\n",
    "            doors.mat[row,3] = 'goat'\n",
    "        } else {                           #    No, flip a coin to load door2, then 3\n",
    "            doors.mat[row,2] = door2.prizes[row]\n",
    "            if(doors.mat[row,2] == 'car'){\n",
    "                doors.mat[row,3] = 'goat'\n",
    "            } else {\n",
    "                doors.mat[row,3] = 'car'\n",
    "            }\n",
    "        }        \n",
    "    }\n",
    "    doors.mat\n",
    "}\n",
    "\n",
    "sim.doors(19)"
   ]
  },
  {
   "cell_type": "markdown",
   "metadata": {},
   "source": [
    "# Simulate Contestant's First Move\n",
    "Contestant's move is modeled by an integer ranging from 1 to 3, indicating which door s/he picked."
   ]
  },
  {
   "cell_type": "code",
   "execution_count": 19,
   "metadata": {},
   "outputs": [
    {
     "data": {
      "text/html": [
       "<ol class=list-inline>\n",
       "\t<li>3</li>\n",
       "\t<li>3</li>\n",
       "\t<li>1</li>\n",
       "\t<li>2</li>\n",
       "\t<li>3</li>\n",
       "\t<li>3</li>\n",
       "\t<li>3</li>\n",
       "\t<li>2</li>\n",
       "\t<li>1</li>\n",
       "</ol>\n"
      ],
      "text/latex": [
       "\\begin{enumerate*}\n",
       "\\item 3\n",
       "\\item 3\n",
       "\\item 1\n",
       "\\item 2\n",
       "\\item 3\n",
       "\\item 3\n",
       "\\item 3\n",
       "\\item 2\n",
       "\\item 1\n",
       "\\end{enumerate*}\n"
      ],
      "text/markdown": [
       "1. 3\n",
       "2. 3\n",
       "3. 1\n",
       "4. 2\n",
       "5. 3\n",
       "6. 3\n",
       "7. 3\n",
       "8. 2\n",
       "9. 1\n",
       "\n",
       "\n"
      ],
      "text/plain": [
       "[1] 3 3 1 2 3 3 3 2 1"
      ]
     },
     "metadata": {},
     "output_type": "display_data"
    },
    {
     "data": {
      "text/plain": [
       "\n",
       "1 2 3 \n",
       "2 2 5 "
      ]
     },
     "metadata": {},
     "output_type": "display_data"
    }
   ],
   "source": [
    "sim.move1 = function(n){\n",
    "  # n = number of trials (times the game is played)\n",
    "  door = runif(n)                     # Uniform distribution\n",
    "  ifelse(door <= 1/3, 1,             # 1 in 3 chance for each door\n",
    "         ifelse(door <= 2/3, 2, 3))\n",
    "}\n",
    "\n",
    "sim.move1(9)\n",
    "table(sim.move1(9))"
   ]
  },
  {
   "cell_type": "code",
   "execution_count": 22,
   "metadata": {},
   "outputs": [
    {
     "data": {
      "text/html": [
       "<table>\n",
       "<tbody>\n",
       "\t<tr><td>car </td><td>car </td><td>car </td><td>1   </td><td>0   </td><td>0   </td></tr>\n",
       "\t<tr><td>car </td><td>car </td><td>goat</td><td>3   </td><td>0   </td><td>0   </td></tr>\n",
       "\t<tr><td>goat</td><td>goat</td><td>goat</td><td>1   </td><td>0   </td><td>0   </td></tr>\n",
       "\t<tr><td>car </td><td>goat</td><td>goat</td><td>1   </td><td>0   </td><td>0   </td></tr>\n",
       "\t<tr><td>car </td><td>car </td><td>goat</td><td>2   </td><td>0   </td><td>0   </td></tr>\n",
       "\t<tr><td>car </td><td>goat</td><td>goat</td><td>1   </td><td>0   </td><td>0   </td></tr>\n",
       "\t<tr><td>goat</td><td>car </td><td>goat</td><td>1   </td><td>0   </td><td>0   </td></tr>\n",
       "\t<tr><td>goat</td><td>car </td><td>car </td><td>1   </td><td>0   </td><td>0   </td></tr>\n",
       "\t<tr><td>goat</td><td>goat</td><td>car </td><td>1   </td><td>0   </td><td>0   </td></tr>\n",
       "</tbody>\n",
       "</table>\n"
      ],
      "text/latex": [
       "\\begin{tabular}{llllll}\n",
       "\t car  & car  & car  & 1    & 0    & 0   \\\\\n",
       "\t car  & car  & goat & 3    & 0    & 0   \\\\\n",
       "\t goat & goat & goat & 1    & 0    & 0   \\\\\n",
       "\t car  & goat & goat & 1    & 0    & 0   \\\\\n",
       "\t car  & car  & goat & 2    & 0    & 0   \\\\\n",
       "\t car  & goat & goat & 1    & 0    & 0   \\\\\n",
       "\t goat & car  & goat & 1    & 0    & 0   \\\\\n",
       "\t goat & car  & car  & 1    & 0    & 0   \\\\\n",
       "\t goat & goat & car  & 1    & 0    & 0   \\\\\n",
       "\\end{tabular}\n"
      ],
      "text/markdown": [
       "\n",
       "| car  | car  | car  | 1    | 0    | 0    | \n",
       "| car  | car  | goat | 3    | 0    | 0    | \n",
       "| goat | goat | goat | 1    | 0    | 0    | \n",
       "| car  | goat | goat | 1    | 0    | 0    | \n",
       "| car  | car  | goat | 2    | 0    | 0    | \n",
       "| car  | goat | goat | 1    | 0    | 0    | \n",
       "| goat | car  | goat | 1    | 0    | 0    | \n",
       "| goat | car  | car  | 1    | 0    | 0    | \n",
       "| goat | goat | car  | 1    | 0    | 0    | \n",
       "\n",
       "\n"
      ],
      "text/plain": [
       "      [,1] [,2] [,3] [,4] [,5] [,6]\n",
       " [1,] car  car  car  1    0    0   \n",
       " [2,] car  car  goat 3    0    0   \n",
       " [3,] goat goat goat 1    0    0   \n",
       " [4,] car  goat goat 1    0    0   \n",
       " [5,] car  car  goat 2    0    0   \n",
       " [6,] car  goat goat 1    0    0   \n",
       " [7,] goat car  goat 1    0    0   \n",
       " [8,] goat car  car  1    0    0   \n",
       " [9,] goat goat car  1    0    0   "
      ]
     },
     "metadata": {},
     "output_type": "display_data"
    }
   ],
   "source": [
    "sim.move1a = function(n){\n",
    "  doors = sim.doors(n)      # Get the doors and prizes\n",
    "  move1 = runif(n)\n",
    "  for (game in 1:n){\n",
    "      if (move1[game] <= 1/3){\n",
    "          doors[game, 4] = 1\n",
    "      } else if(move1[game] <= 2/3) {\n",
    "          doors[game, 4] = 2\n",
    "      } else{\n",
    "          doors[game, 4] = 3\n",
    "      }\n",
    "  }\n",
    "  doors\n",
    "}\n",
    "\n",
    "sim.move1a(9)"
   ]
  },
  {
   "cell_type": "markdown",
   "metadata": {},
   "source": [
    "## Simulate Monty's Move\n",
    "Monty's move is deterministic, but depends on the Contestant's first move.\n",
    " - If Contestant picked the car, Monty will \"flip a coin\" and pick one of the remaining two doors at random.\n",
    " - If Contestant picked a goat, Monty has only one choice - pick the goat.\n",
    " "
   ]
  },
  {
   "cell_type": "code",
   "execution_count": 7,
   "metadata": {},
   "outputs": [
    {
     "data": {
      "text/html": [
       "<ol class=list-inline>\n",
       "\t<li>'goat'</li>\n",
       "\t<li>'3'</li>\n",
       "\t<li>'3'</li>\n",
       "\t<li>'3'</li>\n",
       "\t<li>'3'</li>\n",
       "\t<li>'goat'</li>\n",
       "\t<li>'3'</li>\n",
       "\t<li>'2'</li>\n",
       "\t<li>'0.271281332010403'</li>\n",
       "</ol>\n"
      ],
      "text/latex": [
       "\\begin{enumerate*}\n",
       "\\item 'goat'\n",
       "\\item '3'\n",
       "\\item '3'\n",
       "\\item '3'\n",
       "\\item '3'\n",
       "\\item 'goat'\n",
       "\\item '3'\n",
       "\\item '2'\n",
       "\\item '0.271281332010403'\n",
       "\\end{enumerate*}\n"
      ],
      "text/markdown": [
       "1. 'goat'\n",
       "2. '3'\n",
       "3. '3'\n",
       "4. '3'\n",
       "5. '3'\n",
       "6. 'goat'\n",
       "7. '3'\n",
       "8. '2'\n",
       "9. '0.271281332010403'\n",
       "\n",
       "\n"
      ],
      "text/plain": [
       "[1] \"goat\"              \"3\"                 \"3\"                \n",
       "[4] \"3\"                 \"3\"                 \"goat\"             \n",
       "[7] \"3\"                 \"2\"                 \"0.271281332010403\""
      ]
     },
     "metadata": {},
     "output_type": "display_data"
    },
    {
     "data": {
      "text/plain": [
       "\n",
       "0.157455384964123 0.218163132900372 0.218960331287235 0.429365501040593 \n",
       "                1                 1                 1                 1 \n",
       "0.534157324116677 0.760031261015683 0.906414390308782                 1 \n",
       "                1                 1                 1                11 \n",
       "                2                 3               car              goat \n",
       "               20                24                25                12 "
      ]
     },
     "metadata": {},
     "output_type": "display_data"
    }
   ],
   "source": [
    "sim.monty = function(n){\n",
    "    monty = runif(n)          # Need to initialize monty somehow\n",
    "    doors = sim.doors(n)      # Get the doors and prizes\n",
    "    move1.door = sim.move1(n) # Get ID of door contestant picked\n",
    "       \n",
    "    for (game in 1:n){\n",
    "        contestant_door = move1.door[game]\n",
    "        contestant_prize = doors[game,contestant_door]\n",
    "        if(contestant_prize == 'car'){      # Did contestant pick the car?\n",
    "            monty[game] = doors[contestant_door]  #  Yes, flip a coin, pick one of the other doors\n",
    "        } else {                                  #  No, find other goat door and pick it.\n",
    "            for (door in 1:3){\n",
    "                if (door != contestant_door){\n",
    "                  if (doors[game,door] != 'car')  \n",
    "                      monty[game] = door\n",
    "                }\n",
    "            }\n",
    "        }\n",
    "    }\n",
    "    monty\n",
    "}\n",
    "\n",
    "sim.monty(9)\n",
    "table(sim.monty(99))"
   ]
  },
  {
   "cell_type": "code",
   "execution_count": 46,
   "metadata": {},
   "outputs": [
    {
     "data": {
      "text/plain": [
       "NULL"
      ]
     },
     "metadata": {},
     "output_type": "display_data"
    }
   ],
   "source": [
    "B = NULL\n",
    "B"
   ]
  },
  {
   "cell_type": "code",
   "execution_count": 28,
   "metadata": {},
   "outputs": [
    {
     "data": {
      "text/html": [
       "1"
      ],
      "text/latex": [
       "1"
      ],
      "text/markdown": [
       "1"
      ],
      "text/plain": [
       "[1] 1"
      ]
     },
     "metadata": {},
     "output_type": "display_data"
    }
   ],
   "source": [
    "A = c(1)\n",
    "A"
   ]
  },
  {
   "cell_type": "code",
   "execution_count": 29,
   "metadata": {},
   "outputs": [
    {
     "data": {
      "text/html": [
       "<ol class=list-inline>\n",
       "\t<li>1</li>\n",
       "\t<li>2</li>\n",
       "</ol>\n"
      ],
      "text/latex": [
       "\\begin{enumerate*}\n",
       "\\item 1\n",
       "\\item 2\n",
       "\\end{enumerate*}\n"
      ],
      "text/markdown": [
       "1. 1\n",
       "2. 2\n",
       "\n",
       "\n"
      ],
      "text/plain": [
       "[1] 1 2"
      ]
     },
     "metadata": {},
     "output_type": "display_data"
    }
   ],
   "source": [
    "A = c(A, 2)\n",
    "A"
   ]
  },
  {
   "cell_type": "code",
   "execution_count": 30,
   "metadata": {},
   "outputs": [
    {
     "data": {
      "text/html": [
       "1"
      ],
      "text/latex": [
       "1"
      ],
      "text/markdown": [
       "1"
      ],
      "text/plain": [
       "[1] 1"
      ]
     },
     "metadata": {},
     "output_type": "display_data"
    },
    {
     "data": {
      "text/html": [
       "2"
      ],
      "text/latex": [
       "2"
      ],
      "text/markdown": [
       "2"
      ],
      "text/plain": [
       "[1] 2"
      ]
     },
     "metadata": {},
     "output_type": "display_data"
    }
   ],
   "source": [
    "A[1]\n",
    "A[2]"
   ]
  },
  {
   "cell_type": "code",
   "execution_count": 40,
   "metadata": {},
   "outputs": [
    {
     "data": {
      "text/html": [
       "0.345211594831198"
      ],
      "text/latex": [
       "0.345211594831198"
      ],
      "text/markdown": [
       "0.345211594831198"
      ],
      "text/plain": [
       "[1] 0.3452116"
      ]
     },
     "metadata": {},
     "output_type": "display_data"
    }
   ],
   "source": [
    "runif(1)"
   ]
  },
  {
   "cell_type": "code",
   "execution_count": 62,
   "metadata": {},
   "outputs": [
    {
     "data": {
      "text/html": [
       "<table>\n",
       "<tbody>\n",
       "\t<tr><td>goat</td><td>goat</td><td>car </td><td>1   </td><td>2   </td><td>0   </td></tr>\n",
       "\t<tr><td>goat</td><td>car </td><td>car </td><td>2   </td><td>0   </td><td>0   </td></tr>\n",
       "\t<tr><td>goat</td><td>car </td><td>goat</td><td>1   </td><td>3   </td><td>0   </td></tr>\n",
       "\t<tr><td>goat</td><td>car </td><td>goat</td><td>1   </td><td>3   </td><td>0   </td></tr>\n",
       "\t<tr><td>goat</td><td>goat</td><td>goat</td><td>3   </td><td>2   </td><td>0   </td></tr>\n",
       "\t<tr><td>goat</td><td>goat</td><td>car </td><td>2   </td><td>1   </td><td>0   </td></tr>\n",
       "\t<tr><td>goat</td><td>goat</td><td>goat</td><td>2   </td><td>3   </td><td>0   </td></tr>\n",
       "\t<tr><td>car </td><td>goat</td><td>goat</td><td>2   </td><td>3   </td><td>0   </td></tr>\n",
       "\t<tr><td>goat</td><td>goat</td><td>car </td><td>3   </td><td>0   </td><td>0   </td></tr>\n",
       "</tbody>\n",
       "</table>\n"
      ],
      "text/latex": [
       "\\begin{tabular}{llllll}\n",
       "\t goat & goat & car  & 1    & 2    & 0   \\\\\n",
       "\t goat & car  & car  & 2    & 0    & 0   \\\\\n",
       "\t goat & car  & goat & 1    & 3    & 0   \\\\\n",
       "\t goat & car  & goat & 1    & 3    & 0   \\\\\n",
       "\t goat & goat & goat & 3    & 2    & 0   \\\\\n",
       "\t goat & goat & car  & 2    & 1    & 0   \\\\\n",
       "\t goat & goat & goat & 2    & 3    & 0   \\\\\n",
       "\t car  & goat & goat & 2    & 3    & 0   \\\\\n",
       "\t goat & goat & car  & 3    & 0    & 0   \\\\\n",
       "\\end{tabular}\n"
      ],
      "text/markdown": [
       "\n",
       "| goat | goat | car  | 1    | 2    | 0    | \n",
       "| goat | car  | car  | 2    | 0    | 0    | \n",
       "| goat | car  | goat | 1    | 3    | 0    | \n",
       "| goat | car  | goat | 1    | 3    | 0    | \n",
       "| goat | goat | goat | 3    | 2    | 0    | \n",
       "| goat | goat | car  | 2    | 1    | 0    | \n",
       "| goat | goat | goat | 2    | 3    | 0    | \n",
       "| car  | goat | goat | 2    | 3    | 0    | \n",
       "| goat | goat | car  | 3    | 0    | 0    | \n",
       "\n",
       "\n"
      ],
      "text/plain": [
       "      [,1] [,2] [,3] [,4] [,5] [,6]\n",
       " [1,] goat goat car  1    2    0   \n",
       " [2,] goat car  car  2    0    0   \n",
       " [3,] goat car  goat 1    3    0   \n",
       " [4,] goat car  goat 1    3    0   \n",
       " [5,] goat goat goat 3    2    0   \n",
       " [6,] goat goat car  2    1    0   \n",
       " [7,] goat goat goat 2    3    0   \n",
       " [8,] car  goat goat 2    3    0   \n",
       " [9,] goat goat car  3    0    0   "
      ]
     },
     "metadata": {},
     "output_type": "display_data"
    }
   ],
   "source": [
    "sim.monty = function(n){\n",
    "    monty = runif(n)          # Need to initialize monty somehow\n",
    "    doors = sim.move1a(n)      # Get the doors, prizes, contestants 1st move\n",
    "       \n",
    "     for (game in 1:n){\n",
    "          contestant_door = as.numeric(doors[game,4])\n",
    "          contestant_prize = doors[game,contestant_door]\n",
    "        if(contestant_prize == 'car'){      # Did contestant pick the car?\n",
    "            monty_doors = NULL\n",
    "#             for (door in 1:3){                    #  Yes, flip a coin, pick one of the other doors\n",
    "#                 if (door != contestant_door){\n",
    "#                   if (monty_doors == NULL) {\n",
    "#                       monty_doors = door\n",
    "#                   } else {\n",
    "#                       monty_doors = c(monty_doors, door) # build the list of available doors\n",
    "#                   }\n",
    "#                 }\n",
    "#             }\n",
    "#             if (runif(1) > 0.5) {                    # flip a coin\n",
    "#                 doors[game,5] = mony_doors[1]\n",
    "#             } else {\n",
    "#                 doors[game,5] = mony_doors[2]\n",
    "#             }\n",
    "        } else {                                  #  No, find other goat door and pick it.\n",
    "            for (door in 1:3){\n",
    "                if (door != contestant_door){\n",
    "                  if (doors[game,door] != 'car')  \n",
    "                      doors[game,5] = door\n",
    "                }\n",
    "            }\n",
    "        }\n",
    "     }\n",
    "    doors\n",
    "    # contestant_door\n",
    "}\n",
    "\n",
    "sim.monty(9)\n",
    "# table(sim.monty(99))"
   ]
  },
  {
   "cell_type": "markdown",
   "metadata": {},
   "source": [
    "# ^^^^^^^^^^ GOOD STUFF ^^^^^^^^^^"
   ]
  },
  {
   "cell_type": "markdown",
   "metadata": {},
   "source": [
    "## Simulate Car Location\n",
    "Make a random assortment of labels, which can be door1, door2, door 3"
   ]
  },
  {
   "cell_type": "code",
   "execution_count": 30,
   "metadata": {},
   "outputs": [
    {
     "data": {
      "text/plain": [
       "\n",
       "door1 door2 door3 \n",
       "   30    37    33 "
      ]
     },
     "metadata": {},
     "output_type": "display_data"
    }
   ],
   "source": [
    "# Model 3 equal changes enumerating the two goats separately (Goat 1 & Goat 2)\n",
    "\n",
    "sim.car = function(n){\n",
    "  move1 = runif(n) # Probabilities of bread choice \n",
    "  ifelse(move1 <= 1/3, 'door1', \n",
    "         ifelse(move1 <= 2/3, 'door2', 'door3'))\n",
    "}\n",
    "\n",
    "table(sim.car(100))"
   ]
  },
  {
   "cell_type": "code",
   "execution_count": null,
   "metadata": {
    "collapsed": true
   },
   "outputs": [],
   "source": []
  },
  {
   "cell_type": "markdown",
   "metadata": {},
   "source": [
    "## Simulate First Move (Contenstant picks a door)\n",
    "The Contestant's first move is entirely random, like rolling a 3-sided die (flipping a 3-sided \"coin\")."
   ]
  },
  {
   "cell_type": "code",
   "execution_count": 28,
   "metadata": {},
   "outputs": [
    {
     "data": {
      "text/plain": [
       "\n",
       "door1 door2 door3 \n",
       "   35    33    32 "
      ]
     },
     "metadata": {},
     "output_type": "display_data"
    }
   ],
   "source": [
    "# Model 3 equal changes enumerating the two goats separately (Goat 1 & Goat 2)\n",
    "\n",
    "sim.move1door = function(n){\n",
    "  move1 = runif(n) # Probabilities of bread choice \n",
    "  ifelse(move1 <= 1/3, 'door1', \n",
    "         ifelse(move1 <= 2/3, 'door2', 'door3'))\n",
    "}\n",
    "\n",
    "table(sim.move1door(100))"
   ]
  },
  {
   "cell_type": "code",
   "execution_count": null,
   "metadata": {
    "collapsed": true
   },
   "outputs": [],
   "source": [
    "# Run some tests\n",
    "table(sim.move1(10))\n",
    "table(sim.move1(100))\n",
    "table(sim.move1(1000))\n",
    "table(sim.move1(10000))\n",
    "table(sim.move1(100000))"
   ]
  },
  {
   "cell_type": "markdown",
   "metadata": {},
   "source": [
    "## Simulate First Move (Contenstant picks a prize)\n",
    "The Contestant's first move is entirely random, like rolling a 3-sided die (flipping a 3-sided \"coin\")."
   ]
  },
  {
   "cell_type": "code",
   "execution_count": 29,
   "metadata": {},
   "outputs": [
    {
     "data": {
      "text/plain": [
       "\n",
       "  car goat1 goat2 \n",
       "   34    35    31 "
      ]
     },
     "metadata": {},
     "output_type": "display_data"
    }
   ],
   "source": [
    "# Model 3 equal changes enumerating the two goats separately (Goat 1 & Goat 2)\n",
    "\n",
    "sim.move1prize = function(n){\n",
    "  move1 = runif(n) # Probabilities of bread choice \n",
    "  ifelse(move1 <= 1/3, 'car', \n",
    "         ifelse(move1 <= 2/3, 'goat1', 'goat2'))\n",
    "}\n",
    "\n",
    "table(sim.move1prize(100))"
   ]
  },
  {
   "cell_type": "markdown",
   "metadata": {},
   "source": [
    "## Associate Prizes to Doors"
   ]
  },
  {
   "cell_type": "code",
   "execution_count": null,
   "metadata": {
    "collapsed": true
   },
   "outputs": [],
   "source": [
    "sim.prizes = function(n){\n",
    "    doors.mat = matrix(0, n, 3) # Build an n-row/3-column matrx\n",
    "    \n",
    "    # Assign door labelling\n",
    "    # Get the car location\n",
    "    \n",
    "    \n",
    "    # Get the doors\n",
    "    # Iterate over doors\n",
    "    # Assign car (1 in 3 chance, uniform distro)\n",
    "    # Assign goat 1 determinestic)\n",
    "    # Assign goat 2 dtermineistic\n",
    "}"
   ]
  },
  {
   "cell_type": "code",
   "execution_count": null,
   "metadata": {
    "collapsed": true
   },
   "outputs": [],
   "source": [
    "    i = 1\n",
    "    for (a in arrivals) {\n",
    "        demand.mat[i, ] = t(matrix(table(sim.move1(a)))) # Add one realization to matrix\n",
    "        i = i + 1\n",
    "    }"
   ]
  },
  {
   "cell_type": "code",
   "execution_count": null,
   "metadata": {
    "collapsed": true
   },
   "outputs": [],
   "source": []
  },
  {
   "cell_type": "code",
   "execution_count": null,
   "metadata": {
    "collapsed": true
   },
   "outputs": [],
   "source": []
  },
  {
   "cell_type": "code",
   "execution_count": null,
   "metadata": {
    "collapsed": true
   },
   "outputs": [],
   "source": []
  },
  {
   "cell_type": "markdown",
   "metadata": {},
   "source": [
    "# ========================================================================"
   ]
  },
  {
   "cell_type": "markdown",
   "metadata": {},
   "source": [
    "## Overview, Prize-based\n",
    "- Start by simulating move 1 (picking the car, goat 1, or goat 2)\n",
    "- Associate prizes with doors somehow"
   ]
  },
  {
   "cell_type": "markdown",
   "metadata": {
    "collapsed": true
   },
   "source": [
    "## Realizations of Distribution\n",
    "Probalby uniform, like rolling a dice."
   ]
  },
  {
   "cell_type": "code",
   "execution_count": null,
   "metadata": {
    "collapsed": true
   },
   "outputs": [],
   "source": []
  },
  {
   "cell_type": "markdown",
   "metadata": {},
   "source": [
    "## Simulate Contenstant's Move\n",
    "The Contestant's first move is entirely random, like rolling a 3-sided die (flipping a 3-sided \"coin\")."
   ]
  },
  {
   "cell_type": "code",
   "execution_count": 5,
   "metadata": {
    "collapsed": true
   },
   "outputs": [],
   "source": [
    "sim.move1 = function(n){\n",
    "  move1 = runif(n)         # Uniform distribution, like rolling dice.\n",
    "  ifelse(move1 <= 1/3, 'car', 'goat') # 1/3 chance of car, else goat.\n",
    "}"
   ]
  },
  {
   "cell_type": "code",
   "execution_count": 14,
   "metadata": {
    "collapsed": true
   },
   "outputs": [],
   "source": [
    "# Model 3 equal changes enumerating the two goats separately (Goat 1 & Goat 2)\n",
    "\n",
    "sim.move1 = function(n){\n",
    "  move1 = runif(n) # Probabilities of bread choice \n",
    "  ifelse(move1 <= 1/3, 'car', \n",
    "         ifelse(move1 <= 2/3, 'goat1', 'goat2'))\n",
    "}"
   ]
  },
  {
   "cell_type": "code",
   "execution_count": 15,
   "metadata": {},
   "outputs": [
    {
     "data": {
      "text/plain": [
       "\n",
       "  car goat1 goat2 \n",
       "    2     3     5 "
      ]
     },
     "metadata": {},
     "output_type": "display_data"
    },
    {
     "data": {
      "text/plain": [
       "\n",
       "  car goat1 goat2 \n",
       "   32    35    33 "
      ]
     },
     "metadata": {},
     "output_type": "display_data"
    },
    {
     "data": {
      "text/plain": [
       "\n",
       "  car goat1 goat2 \n",
       "  349   334   317 "
      ]
     },
     "metadata": {},
     "output_type": "display_data"
    },
    {
     "data": {
      "text/plain": [
       "\n",
       "  car goat1 goat2 \n",
       " 3378  3321  3301 "
      ]
     },
     "metadata": {},
     "output_type": "display_data"
    },
    {
     "data": {
      "text/plain": [
       "\n",
       "  car goat1 goat2 \n",
       "33371 33283 33346 "
      ]
     },
     "metadata": {},
     "output_type": "display_data"
    }
   ],
   "source": [
    "# Run some tests\n",
    "table(sim.move1(10))\n",
    "table(sim.move1(100))\n",
    "table(sim.move1(1000))\n",
    "table(sim.move1(10000))\n",
    "table(sim.move1(100000))"
   ]
  },
  {
   "cell_type": "code",
   "execution_count": 19,
   "metadata": {},
   "outputs": [
    {
     "data": {
      "text/html": [
       "<ol class=list-inline>\n",
       "\t<li>'goat1'</li>\n",
       "\t<li>'car'</li>\n",
       "\t<li>'car'</li>\n",
       "\t<li>'goat1'</li>\n",
       "\t<li>'car'</li>\n",
       "\t<li>'car'</li>\n",
       "\t<li>'car'</li>\n",
       "\t<li>'car'</li>\n",
       "\t<li>'goat1'</li>\n",
       "\t<li>'goat2'</li>\n",
       "</ol>\n"
      ],
      "text/latex": [
       "\\begin{enumerate*}\n",
       "\\item 'goat1'\n",
       "\\item 'car'\n",
       "\\item 'car'\n",
       "\\item 'goat1'\n",
       "\\item 'car'\n",
       "\\item 'car'\n",
       "\\item 'car'\n",
       "\\item 'car'\n",
       "\\item 'goat1'\n",
       "\\item 'goat2'\n",
       "\\end{enumerate*}\n"
      ],
      "text/markdown": [
       "1. 'goat1'\n",
       "2. 'car'\n",
       "3. 'car'\n",
       "4. 'goat1'\n",
       "5. 'car'\n",
       "6. 'car'\n",
       "7. 'car'\n",
       "8. 'car'\n",
       "9. 'goat1'\n",
       "10. 'goat2'\n",
       "\n",
       "\n"
      ],
      "text/plain": [
       " [1] \"goat1\" \"car\"   \"car\"   \"goat1\" \"car\"   \"car\"   \"car\"   \"car\"   \"goat1\"\n",
       "[10] \"goat2\""
      ]
     },
     "metadata": {},
     "output_type": "display_data"
    }
   ],
   "source": [
    "sim.move1(10)"
   ]
  },
  {
   "cell_type": "code",
   "execution_count": 20,
   "metadata": {},
   "outputs": [
    {
     "data": {
      "text/html": [
       "<ol class=list-inline>\n",
       "\t<li>'car'</li>\n",
       "\t<li>'goat2'</li>\n",
       "\t<li>'car'</li>\n",
       "\t<li>'goat1'</li>\n",
       "\t<li>'goat2'</li>\n",
       "\t<li>'goat1'</li>\n",
       "\t<li>'car'</li>\n",
       "\t<li>'car'</li>\n",
       "\t<li>'goat1'</li>\n",
       "\t<li>'goat2'</li>\n",
       "\t<li>'goat1'</li>\n",
       "\t<li>'goat2'</li>\n",
       "\t<li>'goat1'</li>\n",
       "\t<li>'goat1'</li>\n",
       "\t<li>'car'</li>\n",
       "\t<li>'goat2'</li>\n",
       "\t<li>'goat1'</li>\n",
       "\t<li>'goat2'</li>\n",
       "\t<li>'car'</li>\n",
       "\t<li>'car'</li>\n",
       "\t<li>'goat2'</li>\n",
       "\t<li>'goat1'</li>\n",
       "\t<li>'car'</li>\n",
       "\t<li>'goat2'</li>\n",
       "\t<li>'car'</li>\n",
       "\t<li>'goat2'</li>\n",
       "\t<li>'goat1'</li>\n",
       "\t<li>'goat1'</li>\n",
       "\t<li>'goat2'</li>\n",
       "\t<li>'car'</li>\n",
       "\t<li>'goat2'</li>\n",
       "\t<li>'car'</li>\n",
       "\t<li>'goat2'</li>\n",
       "\t<li>'car'</li>\n",
       "\t<li>'goat2'</li>\n",
       "\t<li>'goat2'</li>\n",
       "\t<li>'goat1'</li>\n",
       "\t<li>'goat1'</li>\n",
       "\t<li>'goat1'</li>\n",
       "\t<li>'car'</li>\n",
       "\t<li>'goat1'</li>\n",
       "\t<li>'goat2'</li>\n",
       "\t<li>'car'</li>\n",
       "\t<li>'goat2'</li>\n",
       "\t<li>'goat2'</li>\n",
       "\t<li>'car'</li>\n",
       "\t<li>'car'</li>\n",
       "\t<li>'car'</li>\n",
       "\t<li>'car'</li>\n",
       "\t<li>'car'</li>\n",
       "\t<li>'goat1'</li>\n",
       "\t<li>'car'</li>\n",
       "\t<li>'goat2'</li>\n",
       "\t<li>'car'</li>\n",
       "\t<li>'goat2'</li>\n",
       "\t<li>'car'</li>\n",
       "\t<li>'goat2'</li>\n",
       "\t<li>'goat1'</li>\n",
       "\t<li>'goat2'</li>\n",
       "\t<li>'goat1'</li>\n",
       "\t<li>'goat2'</li>\n",
       "\t<li>'goat1'</li>\n",
       "\t<li>'goat2'</li>\n",
       "\t<li>'car'</li>\n",
       "\t<li>'car'</li>\n",
       "\t<li>'goat2'</li>\n",
       "\t<li>'goat2'</li>\n",
       "\t<li>'goat2'</li>\n",
       "\t<li>'goat1'</li>\n",
       "\t<li>'goat1'</li>\n",
       "\t<li>'goat1'</li>\n",
       "\t<li>'goat2'</li>\n",
       "\t<li>'car'</li>\n",
       "\t<li>'goat1'</li>\n",
       "\t<li>'car'</li>\n",
       "\t<li>'goat2'</li>\n",
       "\t<li>'goat1'</li>\n",
       "\t<li>'goat2'</li>\n",
       "\t<li>'car'</li>\n",
       "\t<li>'goat2'</li>\n",
       "\t<li>'goat2'</li>\n",
       "\t<li>'car'</li>\n",
       "\t<li>'car'</li>\n",
       "\t<li>'goat1'</li>\n",
       "\t<li>'goat1'</li>\n",
       "\t<li>'goat1'</li>\n",
       "\t<li>'goat2'</li>\n",
       "\t<li>'car'</li>\n",
       "\t<li>'car'</li>\n",
       "\t<li>'goat1'</li>\n",
       "\t<li>'goat2'</li>\n",
       "\t<li>'goat1'</li>\n",
       "\t<li>'car'</li>\n",
       "\t<li>'car'</li>\n",
       "\t<li>'car'</li>\n",
       "\t<li>'goat1'</li>\n",
       "\t<li>'goat1'</li>\n",
       "\t<li>'car'</li>\n",
       "\t<li>'car'</li>\n",
       "\t<li>'goat2'</li>\n",
       "</ol>\n"
      ],
      "text/latex": [
       "\\begin{enumerate*}\n",
       "\\item 'car'\n",
       "\\item 'goat2'\n",
       "\\item 'car'\n",
       "\\item 'goat1'\n",
       "\\item 'goat2'\n",
       "\\item 'goat1'\n",
       "\\item 'car'\n",
       "\\item 'car'\n",
       "\\item 'goat1'\n",
       "\\item 'goat2'\n",
       "\\item 'goat1'\n",
       "\\item 'goat2'\n",
       "\\item 'goat1'\n",
       "\\item 'goat1'\n",
       "\\item 'car'\n",
       "\\item 'goat2'\n",
       "\\item 'goat1'\n",
       "\\item 'goat2'\n",
       "\\item 'car'\n",
       "\\item 'car'\n",
       "\\item 'goat2'\n",
       "\\item 'goat1'\n",
       "\\item 'car'\n",
       "\\item 'goat2'\n",
       "\\item 'car'\n",
       "\\item 'goat2'\n",
       "\\item 'goat1'\n",
       "\\item 'goat1'\n",
       "\\item 'goat2'\n",
       "\\item 'car'\n",
       "\\item 'goat2'\n",
       "\\item 'car'\n",
       "\\item 'goat2'\n",
       "\\item 'car'\n",
       "\\item 'goat2'\n",
       "\\item 'goat2'\n",
       "\\item 'goat1'\n",
       "\\item 'goat1'\n",
       "\\item 'goat1'\n",
       "\\item 'car'\n",
       "\\item 'goat1'\n",
       "\\item 'goat2'\n",
       "\\item 'car'\n",
       "\\item 'goat2'\n",
       "\\item 'goat2'\n",
       "\\item 'car'\n",
       "\\item 'car'\n",
       "\\item 'car'\n",
       "\\item 'car'\n",
       "\\item 'car'\n",
       "\\item 'goat1'\n",
       "\\item 'car'\n",
       "\\item 'goat2'\n",
       "\\item 'car'\n",
       "\\item 'goat2'\n",
       "\\item 'car'\n",
       "\\item 'goat2'\n",
       "\\item 'goat1'\n",
       "\\item 'goat2'\n",
       "\\item 'goat1'\n",
       "\\item 'goat2'\n",
       "\\item 'goat1'\n",
       "\\item 'goat2'\n",
       "\\item 'car'\n",
       "\\item 'car'\n",
       "\\item 'goat2'\n",
       "\\item 'goat2'\n",
       "\\item 'goat2'\n",
       "\\item 'goat1'\n",
       "\\item 'goat1'\n",
       "\\item 'goat1'\n",
       "\\item 'goat2'\n",
       "\\item 'car'\n",
       "\\item 'goat1'\n",
       "\\item 'car'\n",
       "\\item 'goat2'\n",
       "\\item 'goat1'\n",
       "\\item 'goat2'\n",
       "\\item 'car'\n",
       "\\item 'goat2'\n",
       "\\item 'goat2'\n",
       "\\item 'car'\n",
       "\\item 'car'\n",
       "\\item 'goat1'\n",
       "\\item 'goat1'\n",
       "\\item 'goat1'\n",
       "\\item 'goat2'\n",
       "\\item 'car'\n",
       "\\item 'car'\n",
       "\\item 'goat1'\n",
       "\\item 'goat2'\n",
       "\\item 'goat1'\n",
       "\\item 'car'\n",
       "\\item 'car'\n",
       "\\item 'car'\n",
       "\\item 'goat1'\n",
       "\\item 'goat1'\n",
       "\\item 'car'\n",
       "\\item 'car'\n",
       "\\item 'goat2'\n",
       "\\end{enumerate*}\n"
      ],
      "text/markdown": [
       "1. 'car'\n",
       "2. 'goat2'\n",
       "3. 'car'\n",
       "4. 'goat1'\n",
       "5. 'goat2'\n",
       "6. 'goat1'\n",
       "7. 'car'\n",
       "8. 'car'\n",
       "9. 'goat1'\n",
       "10. 'goat2'\n",
       "11. 'goat1'\n",
       "12. 'goat2'\n",
       "13. 'goat1'\n",
       "14. 'goat1'\n",
       "15. 'car'\n",
       "16. 'goat2'\n",
       "17. 'goat1'\n",
       "18. 'goat2'\n",
       "19. 'car'\n",
       "20. 'car'\n",
       "21. 'goat2'\n",
       "22. 'goat1'\n",
       "23. 'car'\n",
       "24. 'goat2'\n",
       "25. 'car'\n",
       "26. 'goat2'\n",
       "27. 'goat1'\n",
       "28. 'goat1'\n",
       "29. 'goat2'\n",
       "30. 'car'\n",
       "31. 'goat2'\n",
       "32. 'car'\n",
       "33. 'goat2'\n",
       "34. 'car'\n",
       "35. 'goat2'\n",
       "36. 'goat2'\n",
       "37. 'goat1'\n",
       "38. 'goat1'\n",
       "39. 'goat1'\n",
       "40. 'car'\n",
       "41. 'goat1'\n",
       "42. 'goat2'\n",
       "43. 'car'\n",
       "44. 'goat2'\n",
       "45. 'goat2'\n",
       "46. 'car'\n",
       "47. 'car'\n",
       "48. 'car'\n",
       "49. 'car'\n",
       "50. 'car'\n",
       "51. 'goat1'\n",
       "52. 'car'\n",
       "53. 'goat2'\n",
       "54. 'car'\n",
       "55. 'goat2'\n",
       "56. 'car'\n",
       "57. 'goat2'\n",
       "58. 'goat1'\n",
       "59. 'goat2'\n",
       "60. 'goat1'\n",
       "61. 'goat2'\n",
       "62. 'goat1'\n",
       "63. 'goat2'\n",
       "64. 'car'\n",
       "65. 'car'\n",
       "66. 'goat2'\n",
       "67. 'goat2'\n",
       "68. 'goat2'\n",
       "69. 'goat1'\n",
       "70. 'goat1'\n",
       "71. 'goat1'\n",
       "72. 'goat2'\n",
       "73. 'car'\n",
       "74. 'goat1'\n",
       "75. 'car'\n",
       "76. 'goat2'\n",
       "77. 'goat1'\n",
       "78. 'goat2'\n",
       "79. 'car'\n",
       "80. 'goat2'\n",
       "81. 'goat2'\n",
       "82. 'car'\n",
       "83. 'car'\n",
       "84. 'goat1'\n",
       "85. 'goat1'\n",
       "86. 'goat1'\n",
       "87. 'goat2'\n",
       "88. 'car'\n",
       "89. 'car'\n",
       "90. 'goat1'\n",
       "91. 'goat2'\n",
       "92. 'goat1'\n",
       "93. 'car'\n",
       "94. 'car'\n",
       "95. 'car'\n",
       "96. 'goat1'\n",
       "97. 'goat1'\n",
       "98. 'car'\n",
       "99. 'car'\n",
       "100. 'goat2'\n",
       "\n",
       "\n"
      ],
      "text/plain": [
       "  [1] \"car\"   \"goat2\" \"car\"   \"goat1\" \"goat2\" \"goat1\" \"car\"   \"car\"   \"goat1\"\n",
       " [10] \"goat2\" \"goat1\" \"goat2\" \"goat1\" \"goat1\" \"car\"   \"goat2\" \"goat1\" \"goat2\"\n",
       " [19] \"car\"   \"car\"   \"goat2\" \"goat1\" \"car\"   \"goat2\" \"car\"   \"goat2\" \"goat1\"\n",
       " [28] \"goat1\" \"goat2\" \"car\"   \"goat2\" \"car\"   \"goat2\" \"car\"   \"goat2\" \"goat2\"\n",
       " [37] \"goat1\" \"goat1\" \"goat1\" \"car\"   \"goat1\" \"goat2\" \"car\"   \"goat2\" \"goat2\"\n",
       " [46] \"car\"   \"car\"   \"car\"   \"car\"   \"car\"   \"goat1\" \"car\"   \"goat2\" \"car\"  \n",
       " [55] \"goat2\" \"car\"   \"goat2\" \"goat1\" \"goat2\" \"goat1\" \"goat2\" \"goat1\" \"goat2\"\n",
       " [64] \"car\"   \"car\"   \"goat2\" \"goat2\" \"goat2\" \"goat1\" \"goat1\" \"goat1\" \"goat2\"\n",
       " [73] \"car\"   \"goat1\" \"car\"   \"goat2\" \"goat1\" \"goat2\" \"car\"   \"goat2\" \"goat2\"\n",
       " [82] \"car\"   \"car\"   \"goat1\" \"goat1\" \"goat1\" \"goat2\" \"car\"   \"car\"   \"goat1\"\n",
       " [91] \"goat2\" \"goat1\" \"car\"   \"car\"   \"car\"   \"goat1\" \"goat1\" \"car\"   \"car\"  \n",
       "[100] \"goat2\""
      ]
     },
     "metadata": {},
     "output_type": "display_data"
    }
   ],
   "source": [
    "sim.move1(100)"
   ]
  },
  {
   "cell_type": "markdown",
   "metadata": {},
   "source": [
    "## Simulate the Three Doors\n",
    "Genrate a 3-column table, representing possible 3-door configuraitons. Use 1 for car; 0 for goat."
   ]
  },
  {
   "cell_type": "code",
   "execution_count": 21,
   "metadata": {},
   "outputs": [
    {
     "data": {
      "text/html": [
       "<table>\n",
       "<thead><tr><th scope=col>Car</th><th scope=col>Goat 1</th><th scope=col>Goat 2</th></tr></thead>\n",
       "<tbody>\n",
       "\t<tr><td>27</td><td>35</td><td>24</td></tr>\n",
       "\t<tr><td>35</td><td>25</td><td>27</td></tr>\n",
       "\t<tr><td>33</td><td>35</td><td>39</td></tr>\n",
       "\t<tr><td>35</td><td>33</td><td>31</td></tr>\n",
       "\t<tr><td>27</td><td>37</td><td>38</td></tr>\n",
       "\t<tr><td>32</td><td>33</td><td>36</td></tr>\n",
       "\t<tr><td>37</td><td>34</td><td>37</td></tr>\n",
       "\t<tr><td>22</td><td>32</td><td>31</td></tr>\n",
       "\t<tr><td>40</td><td>38</td><td>45</td></tr>\n",
       "\t<tr><td>33</td><td>35</td><td>29</td></tr>\n",
       "</tbody>\n",
       "</table>\n"
      ],
      "text/latex": [
       "\\begin{tabular}{r|lll}\n",
       " Car & Goat 1 & Goat 2\\\\\n",
       "\\hline\n",
       "\t 27 & 35 & 24\\\\\n",
       "\t 35 & 25 & 27\\\\\n",
       "\t 33 & 35 & 39\\\\\n",
       "\t 35 & 33 & 31\\\\\n",
       "\t 27 & 37 & 38\\\\\n",
       "\t 32 & 33 & 36\\\\\n",
       "\t 37 & 34 & 37\\\\\n",
       "\t 22 & 32 & 31\\\\\n",
       "\t 40 & 38 & 45\\\\\n",
       "\t 33 & 35 & 29\\\\\n",
       "\\end{tabular}\n"
      ],
      "text/markdown": [
       "\n",
       "Car | Goat 1 | Goat 2 | \n",
       "|---|---|---|---|---|---|---|---|---|---|\n",
       "| 27 | 35 | 24 | \n",
       "| 35 | 25 | 27 | \n",
       "| 33 | 35 | 39 | \n",
       "| 35 | 33 | 31 | \n",
       "| 27 | 37 | 38 | \n",
       "| 32 | 33 | 36 | \n",
       "| 37 | 34 | 37 | \n",
       "| 22 | 32 | 31 | \n",
       "| 40 | 38 | 45 | \n",
       "| 33 | 35 | 29 | \n",
       "\n",
       "\n"
      ],
      "text/plain": [
       "   Car Goat 1 Goat 2\n",
       "1  27  35     24    \n",
       "2  35  25     27    \n",
       "3  33  35     39    \n",
       "4  35  33     31    \n",
       "5  27  37     38    \n",
       "6  32  33     36    \n",
       "7  37  34     37    \n",
       "8  22  32     31    \n",
       "9  40  38     45    \n",
       "10 33  35     29    "
      ]
     },
     "metadata": {},
     "output_type": "display_data"
    }
   ],
   "source": [
    "# TODO: fix the demand varname\n",
    "# TODO: replact rpois with runif \n",
    "\n",
    "sim.doors = function(lambda, n){\n",
    "    arrivals = rpois(n, lambda)  # Compute realizations of arrivals (based on poisson distro)\n",
    "    demand.mat = matrix(0, n, 3) # Initalize an nx3 matrix (n rows, 3 bread types per row), all with zeros\n",
    "    i = 1\n",
    "    for (a in arrivals) {\n",
    "        demand.mat[i, ] = t(matrix(table(sim.move1(a)))) # Add one realization to matrix\n",
    "        i = i + 1\n",
    "    }  \n",
    "    demand = data.frame(demand.mat)\n",
    "    names(demand) = c('Car', 'Goat 1', 'Goat 2')\n",
    "    demand\n",
    "}   \n",
    "sim.doors(100, 10)"
   ]
  },
  {
   "cell_type": "code",
   "execution_count": 10,
   "metadata": {},
   "outputs": [
    {
     "ename": "ERROR",
     "evalue": "Error in doors.mat[i, ] = t(matrix(table(sim.move1(a)))): replacement has length zero\n",
     "output_type": "error",
     "traceback": [
      "Error in doors.mat[i, ] = t(matrix(table(sim.move1(a)))): replacement has length zero\nTraceback:\n",
      "1. sim.doors(10)"
     ]
    }
   ],
   "source": [
    "sim.doors(10)"
   ]
  },
  {
   "cell_type": "code",
   "execution_count": 17,
   "metadata": {
    "collapsed": true
   },
   "outputs": [],
   "source": [
    "sim.doors = function(n){\n",
    "    move1s = runif(n)\n",
    "    doors.mat = matrix(0,n,3)  ## Initalize an nx3 matrix all with zeros\n",
    "    \n",
    "    i = 1\n",
    "    for (a in move1s) {\n",
    "        doors.mat[i, ] = t(matrix(table(sim.move1(a)))) # Add one realization to matrix\n",
    "        i = i + 1\n",
    "    }\n",
    "}"
   ]
  },
  {
   "cell_type": "code",
   "execution_count": 18,
   "metadata": {},
   "outputs": [
    {
     "ename": "ERROR",
     "evalue": "Error in doors.mat[i, ] = t(matrix(table(sim.move1(a)))): replacement has length zero\n",
     "output_type": "error",
     "traceback": [
      "Error in doors.mat[i, ] = t(matrix(table(sim.move1(a)))): replacement has length zero\nTraceback:\n",
      "1. sim.doors(10)"
     ]
    }
   ],
   "source": [
    "sim.doors(10)"
   ]
  },
  {
   "cell_type": "code",
   "execution_count": null,
   "metadata": {
    "collapsed": true
   },
   "outputs": [],
   "source": []
  },
  {
   "cell_type": "markdown",
   "metadata": {},
   "source": [
    "## Simulate Monty's Move\n",
    "Monty's move is deterministic, but depends on the Contestant's first move.\n",
    " - If Contestant picked the car, Monty will \"flip a coin\" and pick one of the remaining two doors at random.\n",
    " - If Contestant picked a goat, Monty has only one choice - pick the goat.\n",
    " "
   ]
  },
  {
   "cell_type": "code",
   "execution_count": null,
   "metadata": {
    "collapsed": true
   },
   "outputs": [],
   "source": [
    "# TODO: fix the demand varname\n",
    "# TODO: replact rpois with runif \n",
    "\n",
    "sim.monty = function(lambda, n){\n",
    "    arrivals = rpois(n, lambda)  # Compute realizations of arrivals (based on poisson distro)\n",
    "    demand.mat = matrix(0, n, 3) # Initalize an nx3 matrix (n rows, 3 bread types per row), all with zeros\n",
    "    i = 1\n",
    "    for (a in arrivals) {\n",
    "        demand.mat[i, ] = t(matrix(table(sim.move1(a)))) # Add one realization to matrix\n",
    "        i = i + 1\n",
    "    }  \n",
    "    demand = data.frame(demand.mat)\n",
    "    names(demand) = c('Door 1', 'Door 2', 'Door 3')\n",
    "    demand\n",
    "}   \n",
    "sim.doors(100, 10)"
   ]
  },
  {
   "cell_type": "code",
   "execution_count": null,
   "metadata": {
    "collapsed": true
   },
   "outputs": [],
   "source": [
    "sim.Move2 = function(n){\n",
    "    # start by simulating move 1\n",
    "    # Did contestant pick the car?\n",
    "    # Yes, flip coin, pick one of 2 remg doors\n",
    "    # No, pick the only door without a car.\n",
    "}"
   ]
  },
  {
   "cell_type": "code",
   "execution_count": null,
   "metadata": {
    "collapsed": true
   },
   "outputs": [],
   "source": [
    "## Simulate Contestant's Next Move\n",
    "Maybe yes; Maybe no"
   ]
  }
 ],
 "metadata": {
  "kernelspec": {
   "display_name": "R",
   "language": "R",
   "name": "ir"
  },
  "language_info": {
   "codemirror_mode": "r",
   "file_extension": ".r",
   "mimetype": "text/x-r-source",
   "name": "R",
   "pygments_lexer": "r",
   "version": "3.2.3"
  }
 },
 "nbformat": 4,
 "nbformat_minor": 2
}

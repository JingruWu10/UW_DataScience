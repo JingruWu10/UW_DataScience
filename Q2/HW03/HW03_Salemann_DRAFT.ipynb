{
 "cells": [
  {
   "cell_type": "markdown",
   "metadata": {},
   "source": [
    "# Data Science 410 BB\n",
    "## University of Washington Professional & Continuing Education\n",
    "\n",
    "### Homework 3: Simulating the Mony Hall Problem\n",
    "### Leo Salemann\n",
    "### 1/25/18\n"
   ]
  },
  {
   "cell_type": "markdown",
   "metadata": {},
   "source": [
    "## Overview, Door-based\n",
    "- Start by simulating move1 (picking door 1 vs. door 2 vs. door 3)\n",
    "  - Uniform distribution 1 in 3 chance\n",
    "- Associate prizes to door\n",
    "  - Start with car, 1 in 3 chance\n",
    "  - Goat 1 and Goat 2 become determinestic\n",
    "- Simulate Monty's Move\n",
    "  - Start by running the Door & Prize sims\n",
    "  - Iterate over Door outpus\n",
    "    - If contestent picked the car, flip a coin and open one of the two remaining doors.\n",
    "    - If contestant picked a goat, find the door with the other goat and pick it."
   ]
  },
  {
   "cell_type": "markdown",
   "metadata": {},
   "source": [
    "## Simulate Prizes"
   ]
  },
  {
   "cell_type": "markdown",
   "metadata": {},
   "source": [
    "# Model 3 equal changes enumerating the two goats separately (Goat 1 & Goat 2)\n",
    "\n",
    "sim.prizes = function(n){\n",
    "  # n = number of trials (times the game is played)\n",
    "  prize = runif(n)                    # Uniform distribution\n",
    "  ifelse(prize <= 1/3, 'car', 'goat') # 1 in 3 chance of car, else goat\n",
    "}\n",
    "\n",
    "table(sim.prizes(9))"
   ]
  },
  {
   "cell_type": "markdown",
   "metadata": {},
   "source": [
    "sim.prizes(9)\n",
    "sim.prizes(9)[1]"
   ]
  },
  {
   "cell_type": "markdown",
   "metadata": {},
   "source": [
    "prizes = sim.prizes(9)\n",
    "prizes\n",
    "prizes[1]"
   ]
  },
  {
   "cell_type": "code",
   "execution_count": 1,
   "metadata": {},
   "outputs": [
    {
     "data": {
      "text/plain": [
       "\n",
       " car goat \n",
       " 309  690 "
      ]
     },
     "metadata": {},
     "output_type": "display_data"
    }
   ],
   "source": [
    "# Door 1 has a 1 in 3 chance of holding a car\n",
    "\n",
    "sim.door1.prizes = function(n){\n",
    "  # n = number of trials (times the game is played)\n",
    "  prize = runif(n)                    # Uniform distribution\n",
    "  ifelse(prize <= 1/3, 'car', 'goat') # 1 in 3 chance of car, else goat\n",
    "}\n",
    "\n",
    "table(sim.door1.prizes(999))"
   ]
  },
  {
   "cell_type": "code",
   "execution_count": 2,
   "metadata": {},
   "outputs": [
    {
     "data": {
      "text/plain": [
       "\n",
       " car goat \n",
       " 510  490 "
      ]
     },
     "metadata": {},
     "output_type": "display_data"
    }
   ],
   "source": [
    "# Assuming door 1 had a goat, Door 2 has a 1 in 2 chance of holding a car\n",
    "sim.door2.prizes = function(n){\n",
    "  # n = number of trials (times the game is played)\n",
    "  prize = runif(n)                    # Uniform distribution\n",
    "  ifelse(prize <= 1/2, 'car', 'goat') # 1 in 3 chance of car, else goat\n",
    "}\n",
    "\n",
    "table(sim.door2.prizes(1000))"
   ]
  },
  {
   "cell_type": "markdown",
   "metadata": {},
   "source": [
    "## Simulate Doors\n",
    "Create an nx3 (n-rows, 3 columns) matrix where column indicates door number, and each row is a different trial (different playing of the game). Each cell in the matrix is set to 'car' or 'goat' using a uniform distribution, where the chance of a door containing a car is 1 in 3. "
   ]
  },
  {
   "cell_type": "markdown",
   "metadata": {
    "collapsed": true
   },
   "source": [
    "sim.doors = function(n){\n",
    "    # Get the doors\n",
    "    doors.mat = matrix(0, n, 6) # Build an n-row/3-column matrx\n",
    "    \n",
    "    # Get the prizes\n",
    "    prizes = sim.prizes(n*3)\n",
    "    \n",
    "    # Iterate over doors & assign prizes\n",
    "    a = 1\n",
    "    for (row in 1:n){\n",
    "        for (col in 1:3){\n",
    "            doors.mat[row,col] = prizes[a]\n",
    "            a = a +1\n",
    "        }\n",
    "    }\n",
    "    doors.mat\n",
    "}"
   ]
  },
  {
   "cell_type": "markdown",
   "metadata": {},
   "source": [
    "sim.doors(3)"
   ]
  },
  {
   "cell_type": "markdown",
   "metadata": {},
   "source": [
    "## Load doors with prizes\n",
    "- First door has a 1 in 3 chance of getting a car\n",
    "- If First door got a car, other two doors will get goats\n",
    "- If first door got a goat, door 2 had a 1 i 2 chance of gettng a car\n",
    "- If no doors have a car yet, 3rd door gets a car\n"
   ]
  },
  {
   "cell_type": "code",
   "execution_count": 3,
   "metadata": {},
   "outputs": [
    {
     "data": {
      "text/html": [
       "<table>\n",
       "<tbody>\n",
       "\t<tr><td>goat</td><td>goat</td><td>car </td><td>0   </td><td>0   </td><td>0   </td></tr>\n",
       "\t<tr><td>goat</td><td>goat</td><td>car </td><td>0   </td><td>0   </td><td>0   </td></tr>\n",
       "\t<tr><td>goat</td><td>goat</td><td>car </td><td>0   </td><td>0   </td><td>0   </td></tr>\n",
       "\t<tr><td>goat</td><td>car </td><td>goat</td><td>0   </td><td>0   </td><td>0   </td></tr>\n",
       "\t<tr><td>car </td><td>goat</td><td>goat</td><td>0   </td><td>0   </td><td>0   </td></tr>\n",
       "\t<tr><td>car </td><td>goat</td><td>goat</td><td>0   </td><td>0   </td><td>0   </td></tr>\n",
       "\t<tr><td>car </td><td>goat</td><td>goat</td><td>0   </td><td>0   </td><td>0   </td></tr>\n",
       "\t<tr><td>car </td><td>goat</td><td>goat</td><td>0   </td><td>0   </td><td>0   </td></tr>\n",
       "\t<tr><td>goat</td><td>car </td><td>goat</td><td>0   </td><td>0   </td><td>0   </td></tr>\n",
       "\t<tr><td>goat</td><td>car </td><td>goat</td><td>0   </td><td>0   </td><td>0   </td></tr>\n",
       "\t<tr><td>car </td><td>goat</td><td>goat</td><td>0   </td><td>0   </td><td>0   </td></tr>\n",
       "\t<tr><td>goat</td><td>car </td><td>goat</td><td>0   </td><td>0   </td><td>0   </td></tr>\n",
       "\t<tr><td>car </td><td>goat</td><td>goat</td><td>0   </td><td>0   </td><td>0   </td></tr>\n",
       "\t<tr><td>goat</td><td>goat</td><td>car </td><td>0   </td><td>0   </td><td>0   </td></tr>\n",
       "\t<tr><td>goat</td><td>car </td><td>goat</td><td>0   </td><td>0   </td><td>0   </td></tr>\n",
       "\t<tr><td>goat</td><td>goat</td><td>car </td><td>0   </td><td>0   </td><td>0   </td></tr>\n",
       "\t<tr><td>goat</td><td>car </td><td>goat</td><td>0   </td><td>0   </td><td>0   </td></tr>\n",
       "\t<tr><td>car </td><td>goat</td><td>goat</td><td>0   </td><td>0   </td><td>0   </td></tr>\n",
       "\t<tr><td>car </td><td>goat</td><td>goat</td><td>0   </td><td>0   </td><td>0   </td></tr>\n",
       "</tbody>\n",
       "</table>\n"
      ],
      "text/latex": [
       "\\begin{tabular}{llllll}\n",
       "\t goat & goat & car  & 0    & 0    & 0   \\\\\n",
       "\t goat & goat & car  & 0    & 0    & 0   \\\\\n",
       "\t goat & goat & car  & 0    & 0    & 0   \\\\\n",
       "\t goat & car  & goat & 0    & 0    & 0   \\\\\n",
       "\t car  & goat & goat & 0    & 0    & 0   \\\\\n",
       "\t car  & goat & goat & 0    & 0    & 0   \\\\\n",
       "\t car  & goat & goat & 0    & 0    & 0   \\\\\n",
       "\t car  & goat & goat & 0    & 0    & 0   \\\\\n",
       "\t goat & car  & goat & 0    & 0    & 0   \\\\\n",
       "\t goat & car  & goat & 0    & 0    & 0   \\\\\n",
       "\t car  & goat & goat & 0    & 0    & 0   \\\\\n",
       "\t goat & car  & goat & 0    & 0    & 0   \\\\\n",
       "\t car  & goat & goat & 0    & 0    & 0   \\\\\n",
       "\t goat & goat & car  & 0    & 0    & 0   \\\\\n",
       "\t goat & car  & goat & 0    & 0    & 0   \\\\\n",
       "\t goat & goat & car  & 0    & 0    & 0   \\\\\n",
       "\t goat & car  & goat & 0    & 0    & 0   \\\\\n",
       "\t car  & goat & goat & 0    & 0    & 0   \\\\\n",
       "\t car  & goat & goat & 0    & 0    & 0   \\\\\n",
       "\\end{tabular}\n"
      ],
      "text/markdown": [
       "\n",
       "| goat | goat | car  | 0    | 0    | 0    | \n",
       "| goat | goat | car  | 0    | 0    | 0    | \n",
       "| goat | goat | car  | 0    | 0    | 0    | \n",
       "| goat | car  | goat | 0    | 0    | 0    | \n",
       "| car  | goat | goat | 0    | 0    | 0    | \n",
       "| car  | goat | goat | 0    | 0    | 0    | \n",
       "| car  | goat | goat | 0    | 0    | 0    | \n",
       "| car  | goat | goat | 0    | 0    | 0    | \n",
       "| goat | car  | goat | 0    | 0    | 0    | \n",
       "| goat | car  | goat | 0    | 0    | 0    | \n",
       "| car  | goat | goat | 0    | 0    | 0    | \n",
       "| goat | car  | goat | 0    | 0    | 0    | \n",
       "| car  | goat | goat | 0    | 0    | 0    | \n",
       "| goat | goat | car  | 0    | 0    | 0    | \n",
       "| goat | car  | goat | 0    | 0    | 0    | \n",
       "| goat | goat | car  | 0    | 0    | 0    | \n",
       "| goat | car  | goat | 0    | 0    | 0    | \n",
       "| car  | goat | goat | 0    | 0    | 0    | \n",
       "| car  | goat | goat | 0    | 0    | 0    | \n",
       "\n",
       "\n"
      ],
      "text/plain": [
       "      [,1] [,2] [,3] [,4] [,5] [,6]\n",
       " [1,] goat goat car  0    0    0   \n",
       " [2,] goat goat car  0    0    0   \n",
       " [3,] goat goat car  0    0    0   \n",
       " [4,] goat car  goat 0    0    0   \n",
       " [5,] car  goat goat 0    0    0   \n",
       " [6,] car  goat goat 0    0    0   \n",
       " [7,] car  goat goat 0    0    0   \n",
       " [8,] car  goat goat 0    0    0   \n",
       " [9,] goat car  goat 0    0    0   \n",
       "[10,] goat car  goat 0    0    0   \n",
       "[11,] car  goat goat 0    0    0   \n",
       "[12,] goat car  goat 0    0    0   \n",
       "[13,] car  goat goat 0    0    0   \n",
       "[14,] goat goat car  0    0    0   \n",
       "[15,] goat car  goat 0    0    0   \n",
       "[16,] goat goat car  0    0    0   \n",
       "[17,] goat car  goat 0    0    0   \n",
       "[18,] car  goat goat 0    0    0   \n",
       "[19,] car  goat goat 0    0    0   "
      ]
     },
     "metadata": {},
     "output_type": "display_data"
    }
   ],
   "source": [
    "sim.doors = function(n){\n",
    "    # Get the doors\n",
    "    doors.mat = matrix(0, n, 6) # Build an n-row/3-column matrx\n",
    "    \n",
    "    # Get the prizes\n",
    "    door1.prizes = sim.door1.prizes(n) # Prizes for door 1\n",
    "    door2.prizes = sim.door2.prizes(n) # Prizes for door 2 (depends on door 1)\n",
    "    \n",
    "    # Iterate over doors & assign prizes\n",
    "    a = 1\n",
    "    for (row in 1:n){\n",
    "        doors.mat[row,1] = door1.prizes[row]\n",
    "        if(doors.mat[row,1] == 'car'){  # Did door 1 get a car?\n",
    "            doors.mat[row,2] = 'goat'      #    Yes, put goats in the other doors.\n",
    "            doors.mat[row,3] = 'goat'\n",
    "        } else {                           #    No, flip a coin to load door2, then 3\n",
    "            doors.mat[row,2] = door2.prizes[row]\n",
    "            if(doors.mat[row,2] == 'car'){\n",
    "                doors.mat[row,3] = 'goat'\n",
    "            } else {\n",
    "                doors.mat[row,3] = 'car'\n",
    "            }\n",
    "        }        \n",
    "    }\n",
    "    doors.mat\n",
    "}\n",
    "\n",
    "sim.doors(19)"
   ]
  },
  {
   "cell_type": "markdown",
   "metadata": {},
   "source": [
    "# Simulate Contestant's First Move\n",
    "Contestant's move is modeled by an integer ranging from 1 to 3, indicating which door s/he picked."
   ]
  },
  {
   "cell_type": "markdown",
   "metadata": {},
   "source": [
    "sim.move1 = function(n){\n",
    "  # n = number of trials (times the game is played)\n",
    "  door = runif(n)                     # Uniform distribution\n",
    "  ifelse(door <= 1/3, 1,             # 1 in 3 chance for each door\n",
    "         ifelse(door <= 2/3, 2, 3))\n",
    "}\n",
    "\n",
    "sim.move1(9)\n",
    "table(sim.move1(9))"
   ]
  },
  {
   "cell_type": "code",
   "execution_count": 5,
   "metadata": {},
   "outputs": [
    {
     "data": {
      "text/html": [
       "<table>\n",
       "<tbody>\n",
       "\t<tr><td>car </td><td>goat</td><td>goat</td><td>3   </td><td>0   </td><td>0   </td></tr>\n",
       "\t<tr><td>goat</td><td>car </td><td>goat</td><td>3   </td><td>0   </td><td>0   </td></tr>\n",
       "\t<tr><td>goat</td><td>car </td><td>goat</td><td>1   </td><td>0   </td><td>0   </td></tr>\n",
       "\t<tr><td>car </td><td>goat</td><td>goat</td><td>1   </td><td>0   </td><td>0   </td></tr>\n",
       "\t<tr><td>car </td><td>goat</td><td>goat</td><td>3   </td><td>0   </td><td>0   </td></tr>\n",
       "\t<tr><td>goat</td><td>goat</td><td>car </td><td>1   </td><td>0   </td><td>0   </td></tr>\n",
       "\t<tr><td>goat</td><td>car </td><td>goat</td><td>3   </td><td>0   </td><td>0   </td></tr>\n",
       "\t<tr><td>car </td><td>goat</td><td>goat</td><td>1   </td><td>0   </td><td>0   </td></tr>\n",
       "\t<tr><td>car </td><td>goat</td><td>goat</td><td>1   </td><td>0   </td><td>0   </td></tr>\n",
       "</tbody>\n",
       "</table>\n"
      ],
      "text/latex": [
       "\\begin{tabular}{llllll}\n",
       "\t car  & goat & goat & 3    & 0    & 0   \\\\\n",
       "\t goat & car  & goat & 3    & 0    & 0   \\\\\n",
       "\t goat & car  & goat & 1    & 0    & 0   \\\\\n",
       "\t car  & goat & goat & 1    & 0    & 0   \\\\\n",
       "\t car  & goat & goat & 3    & 0    & 0   \\\\\n",
       "\t goat & goat & car  & 1    & 0    & 0   \\\\\n",
       "\t goat & car  & goat & 3    & 0    & 0   \\\\\n",
       "\t car  & goat & goat & 1    & 0    & 0   \\\\\n",
       "\t car  & goat & goat & 1    & 0    & 0   \\\\\n",
       "\\end{tabular}\n"
      ],
      "text/markdown": [
       "\n",
       "| car  | goat | goat | 3    | 0    | 0    | \n",
       "| goat | car  | goat | 3    | 0    | 0    | \n",
       "| goat | car  | goat | 1    | 0    | 0    | \n",
       "| car  | goat | goat | 1    | 0    | 0    | \n",
       "| car  | goat | goat | 3    | 0    | 0    | \n",
       "| goat | goat | car  | 1    | 0    | 0    | \n",
       "| goat | car  | goat | 3    | 0    | 0    | \n",
       "| car  | goat | goat | 1    | 0    | 0    | \n",
       "| car  | goat | goat | 1    | 0    | 0    | \n",
       "\n",
       "\n"
      ],
      "text/plain": [
       "      [,1] [,2] [,3] [,4] [,5] [,6]\n",
       " [1,] car  goat goat 3    0    0   \n",
       " [2,] goat car  goat 3    0    0   \n",
       " [3,] goat car  goat 1    0    0   \n",
       " [4,] car  goat goat 1    0    0   \n",
       " [5,] car  goat goat 3    0    0   \n",
       " [6,] goat goat car  1    0    0   \n",
       " [7,] goat car  goat 3    0    0   \n",
       " [8,] car  goat goat 1    0    0   \n",
       " [9,] car  goat goat 1    0    0   "
      ]
     },
     "metadata": {},
     "output_type": "display_data"
    }
   ],
   "source": [
    "sim.move1 = function(n){\n",
    "  doors = sim.doors(n)      # Get the doors and prizes\n",
    "  move1 = runif(n)\n",
    "  for (game in 1:n){\n",
    "      if (move1[game] <= 1/3){\n",
    "          doors[game, 4] = 1\n",
    "      } else if(move1[game] <= 2/3) {\n",
    "          doors[game, 4] = 2\n",
    "      } else{\n",
    "          doors[game, 4] = 3\n",
    "      }\n",
    "  }\n",
    "  doors\n",
    "}\n",
    "\n",
    "sim.move1(9)"
   ]
  },
  {
   "cell_type": "markdown",
   "metadata": {},
   "source": [
    "## Simulate Monty's Move\n",
    "Monty's move is deterministic, but depends on the Contestant's first move.\n",
    " - If Contestant picked the car, Monty will \"flip a coin\" and pick one of the remaining two doors at random.\n",
    " - If Contestant picked a goat, Monty has only one choice - pick the goat.\n",
    " "
   ]
  },
  {
   "cell_type": "markdown",
   "metadata": {},
   "source": [
    "sim.monty = function(n){\n",
    "    monty = runif(n)          # Need to initialize monty somehow\n",
    "    doors = sim.doors(n)      # Get the doors and prizes\n",
    "    move1.door = sim.move1(n) # Get ID of door contestant picked\n",
    "       \n",
    "    for (game in 1:n){\n",
    "        contestant_door = move1.door[game]\n",
    "        contestant_prize = doors[game,contestant_door]\n",
    "        if(contestant_prize == 'car'){      # Did contestant pick the car?\n",
    "            monty[game] = doors[contestant_door]  #  Yes, flip a coin, pick one of the other doors\n",
    "        } else {                                  #  No, find other goat door and pick it.\n",
    "            for (door in 1:3){\n",
    "                if (door != contestant_door){\n",
    "                  if (doors[game,door] != 'car')  \n",
    "                      monty[game] = door\n",
    "                }\n",
    "            }\n",
    "        }\n",
    "    }\n",
    "    monty\n",
    "}\n",
    "\n",
    "sim.monty(9)\n",
    "table(sim.monty(99))"
   ]
  },
  {
   "cell_type": "markdown",
   "metadata": {},
   "source": [
    "B = NULL\n",
    "B"
   ]
  },
  {
   "cell_type": "markdown",
   "metadata": {},
   "source": [
    "A = c(1)\n",
    "A"
   ]
  },
  {
   "cell_type": "markdown",
   "metadata": {},
   "source": [
    "A = c(A, 2)\n",
    "A"
   ]
  },
  {
   "cell_type": "markdown",
   "metadata": {},
   "source": [
    "A[1]\n",
    "A[2]"
   ]
  },
  {
   "cell_type": "markdown",
   "metadata": {},
   "source": [
    "runif(1)"
   ]
  },
  {
   "cell_type": "code",
   "execution_count": 11,
   "metadata": {},
   "outputs": [
    {
     "data": {
      "text/html": [
       "<table>\n",
       "<tbody>\n",
       "\t<tr><td>goat</td><td>goat</td><td>car </td><td>3   </td><td>1   </td><td>0   </td></tr>\n",
       "\t<tr><td>goat</td><td>goat</td><td>car </td><td>2   </td><td>1   </td><td>0   </td></tr>\n",
       "\t<tr><td>car </td><td>goat</td><td>goat</td><td>2   </td><td>3   </td><td>0   </td></tr>\n",
       "\t<tr><td>goat</td><td>goat</td><td>car </td><td>3   </td><td>2   </td><td>0   </td></tr>\n",
       "\t<tr><td>goat</td><td>car </td><td>goat</td><td>3   </td><td>1   </td><td>0   </td></tr>\n",
       "\t<tr><td>goat</td><td>goat</td><td>car </td><td>3   </td><td>1   </td><td>0   </td></tr>\n",
       "\t<tr><td>goat</td><td>car </td><td>goat</td><td>1   </td><td>3   </td><td>0   </td></tr>\n",
       "\t<tr><td>car </td><td>goat</td><td>goat</td><td>3   </td><td>2   </td><td>0   </td></tr>\n",
       "\t<tr><td>car </td><td>goat</td><td>goat</td><td>2   </td><td>3   </td><td>0   </td></tr>\n",
       "\t<tr><td>goat</td><td>goat</td><td>car </td><td>3   </td><td>2   </td><td>0   </td></tr>\n",
       "\t<tr><td>goat</td><td>car </td><td>goat</td><td>1   </td><td>3   </td><td>0   </td></tr>\n",
       "\t<tr><td>goat</td><td>goat</td><td>car </td><td>3   </td><td>1   </td><td>0   </td></tr>\n",
       "\t<tr><td>car </td><td>goat</td><td>goat</td><td>2   </td><td>3   </td><td>0   </td></tr>\n",
       "\t<tr><td>car </td><td>goat</td><td>goat</td><td>3   </td><td>2   </td><td>0   </td></tr>\n",
       "\t<tr><td>car </td><td>goat</td><td>goat</td><td>1   </td><td>3   </td><td>0   </td></tr>\n",
       "\t<tr><td>goat</td><td>goat</td><td>car </td><td>1   </td><td>2   </td><td>0   </td></tr>\n",
       "\t<tr><td>car </td><td>goat</td><td>goat</td><td>3   </td><td>2   </td><td>0   </td></tr>\n",
       "\t<tr><td>car </td><td>goat</td><td>goat</td><td>1   </td><td>2   </td><td>0   </td></tr>\n",
       "\t<tr><td>car </td><td>goat</td><td>goat</td><td>3   </td><td>2   </td><td>0   </td></tr>\n",
       "</tbody>\n",
       "</table>\n"
      ],
      "text/latex": [
       "\\begin{tabular}{llllll}\n",
       "\t goat & goat & car  & 3    & 1    & 0   \\\\\n",
       "\t goat & goat & car  & 2    & 1    & 0   \\\\\n",
       "\t car  & goat & goat & 2    & 3    & 0   \\\\\n",
       "\t goat & goat & car  & 3    & 2    & 0   \\\\\n",
       "\t goat & car  & goat & 3    & 1    & 0   \\\\\n",
       "\t goat & goat & car  & 3    & 1    & 0   \\\\\n",
       "\t goat & car  & goat & 1    & 3    & 0   \\\\\n",
       "\t car  & goat & goat & 3    & 2    & 0   \\\\\n",
       "\t car  & goat & goat & 2    & 3    & 0   \\\\\n",
       "\t goat & goat & car  & 3    & 2    & 0   \\\\\n",
       "\t goat & car  & goat & 1    & 3    & 0   \\\\\n",
       "\t goat & goat & car  & 3    & 1    & 0   \\\\\n",
       "\t car  & goat & goat & 2    & 3    & 0   \\\\\n",
       "\t car  & goat & goat & 3    & 2    & 0   \\\\\n",
       "\t car  & goat & goat & 1    & 3    & 0   \\\\\n",
       "\t goat & goat & car  & 1    & 2    & 0   \\\\\n",
       "\t car  & goat & goat & 3    & 2    & 0   \\\\\n",
       "\t car  & goat & goat & 1    & 2    & 0   \\\\\n",
       "\t car  & goat & goat & 3    & 2    & 0   \\\\\n",
       "\\end{tabular}\n"
      ],
      "text/markdown": [
       "\n",
       "| goat | goat | car  | 3    | 1    | 0    | \n",
       "| goat | goat | car  | 2    | 1    | 0    | \n",
       "| car  | goat | goat | 2    | 3    | 0    | \n",
       "| goat | goat | car  | 3    | 2    | 0    | \n",
       "| goat | car  | goat | 3    | 1    | 0    | \n",
       "| goat | goat | car  | 3    | 1    | 0    | \n",
       "| goat | car  | goat | 1    | 3    | 0    | \n",
       "| car  | goat | goat | 3    | 2    | 0    | \n",
       "| car  | goat | goat | 2    | 3    | 0    | \n",
       "| goat | goat | car  | 3    | 2    | 0    | \n",
       "| goat | car  | goat | 1    | 3    | 0    | \n",
       "| goat | goat | car  | 3    | 1    | 0    | \n",
       "| car  | goat | goat | 2    | 3    | 0    | \n",
       "| car  | goat | goat | 3    | 2    | 0    | \n",
       "| car  | goat | goat | 1    | 3    | 0    | \n",
       "| goat | goat | car  | 1    | 2    | 0    | \n",
       "| car  | goat | goat | 3    | 2    | 0    | \n",
       "| car  | goat | goat | 1    | 2    | 0    | \n",
       "| car  | goat | goat | 3    | 2    | 0    | \n",
       "\n",
       "\n"
      ],
      "text/plain": [
       "      [,1] [,2] [,3] [,4] [,5] [,6]\n",
       " [1,] goat goat car  3    1    0   \n",
       " [2,] goat goat car  2    1    0   \n",
       " [3,] car  goat goat 2    3    0   \n",
       " [4,] goat goat car  3    2    0   \n",
       " [5,] goat car  goat 3    1    0   \n",
       " [6,] goat goat car  3    1    0   \n",
       " [7,] goat car  goat 1    3    0   \n",
       " [8,] car  goat goat 3    2    0   \n",
       " [9,] car  goat goat 2    3    0   \n",
       "[10,] goat goat car  3    2    0   \n",
       "[11,] goat car  goat 1    3    0   \n",
       "[12,] goat goat car  3    1    0   \n",
       "[13,] car  goat goat 2    3    0   \n",
       "[14,] car  goat goat 3    2    0   \n",
       "[15,] car  goat goat 1    3    0   \n",
       "[16,] goat goat car  1    2    0   \n",
       "[17,] car  goat goat 3    2    0   \n",
       "[18,] car  goat goat 1    2    0   \n",
       "[19,] car  goat goat 3    2    0   "
      ]
     },
     "metadata": {},
     "output_type": "display_data"
    },
    {
     "data": {
      "text/plain": [
       "\n",
       "   0    1    2    3  car goat \n",
       "  99   63   66   69   99  198 "
      ]
     },
     "metadata": {},
     "output_type": "display_data"
    }
   ],
   "source": [
    "sim.monty = function(n){\n",
    "    monty = runif(n)          # Need to initialize monty somehow\n",
    "    doors = sim.move1(n)      # Get the doors, prizes, contestants 1st move\n",
    "       \n",
    "     for (game in 1:n){\n",
    "          contestant_door = as.numeric(doors[game,4])\n",
    "          contestant_prize = doors[game,contestant_door]\n",
    "        if(contestant_prize == 'car'){      # Did contestant pick the car?\n",
    "            monty_doors = NULL\n",
    "             for (door in 1:3){                    #  Yes, flip a coin, pick one of the other doors\n",
    "                if (door != contestant_door){\n",
    "                  if (is.null(monty_doors)) {\n",
    "                      monty_doors = door\n",
    "                  } else {\n",
    "                      monty_doors = c(monty_doors, door) # build the list of available doors\n",
    "                  }\n",
    "                }\n",
    "            }\n",
    "            if (runif(1) > 0.5) {                    # flip a coin\n",
    "                doors[game,5] = monty_doors[1]\n",
    "            } else {\n",
    "                doors[game,5] = monty_doors[2]\n",
    "             }\n",
    "        } else {                                  #  No, find other goat door and pick it.\n",
    "            for (door in 1:3){\n",
    "                if (door != contestant_door){\n",
    "                  if (doors[game,door] != 'car')  \n",
    "                      doors[game,5] = door\n",
    "                }\n",
    "            }\n",
    "        }\n",
    "     }\n",
    "    doors\n",
    "    # contestant_door\n",
    "}\n",
    "\n",
    "sim.monty(19)\n",
    "table(sim.monty(99))"
   ]
  },
  {
   "cell_type": "markdown",
   "metadata": {},
   "source": [
    "# ^^^^^^^^^^ GOOD STUFF ^^^^^^^^^^"
   ]
  },
  {
   "cell_type": "markdown",
   "metadata": {},
   "source": [
    "## Simulate Car Location\n",
    "Make a random assortment of labels, which can be door1, door2, door 3"
   ]
  },
  {
   "cell_type": "code",
   "execution_count": null,
   "metadata": {},
   "outputs": [],
   "source": [
    "# Model 3 equal changes enumerating the two goats separately (Goat 1 & Goat 2)\n",
    "\n",
    "sim.car = function(n){\n",
    "  move1 = runif(n) # Probabilities of bread choice \n",
    "  ifelse(move1 <= 1/3, 'door1', \n",
    "         ifelse(move1 <= 2/3, 'door2', 'door3'))\n",
    "}\n",
    "\n",
    "table(sim.car(100))"
   ]
  },
  {
   "cell_type": "code",
   "execution_count": null,
   "metadata": {
    "collapsed": true
   },
   "outputs": [],
   "source": []
  },
  {
   "cell_type": "markdown",
   "metadata": {},
   "source": [
    "## Simulate First Move (Contenstant picks a door)\n",
    "The Contestant's first move is entirely random, like rolling a 3-sided die (flipping a 3-sided \"coin\")."
   ]
  },
  {
   "cell_type": "code",
   "execution_count": null,
   "metadata": {},
   "outputs": [],
   "source": [
    "# Model 3 equal changes enumerating the two goats separately (Goat 1 & Goat 2)\n",
    "\n",
    "sim.move1door = function(n){\n",
    "  move1 = runif(n) # Probabilities of bread choice \n",
    "  ifelse(move1 <= 1/3, 'door1', \n",
    "         ifelse(move1 <= 2/3, 'door2', 'door3'))\n",
    "}\n",
    "\n",
    "table(sim.move1door(100))"
   ]
  },
  {
   "cell_type": "code",
   "execution_count": null,
   "metadata": {
    "collapsed": true
   },
   "outputs": [],
   "source": [
    "# Run some tests\n",
    "table(sim.move1(10))\n",
    "table(sim.move1(100))\n",
    "table(sim.move1(1000))\n",
    "table(sim.move1(10000))\n",
    "table(sim.move1(100000))"
   ]
  },
  {
   "cell_type": "markdown",
   "metadata": {},
   "source": [
    "## Simulate First Move (Contenstant picks a prize)\n",
    "The Contestant's first move is entirely random, like rolling a 3-sided die (flipping a 3-sided \"coin\")."
   ]
  },
  {
   "cell_type": "code",
   "execution_count": null,
   "metadata": {},
   "outputs": [],
   "source": [
    "# Model 3 equal changes enumerating the two goats separately (Goat 1 & Goat 2)\n",
    "\n",
    "sim.move1prize = function(n){\n",
    "  move1 = runif(n) # Probabilities of bread choice \n",
    "  ifelse(move1 <= 1/3, 'car', \n",
    "         ifelse(move1 <= 2/3, 'goat1', 'goat2'))\n",
    "}\n",
    "\n",
    "table(sim.move1prize(100))"
   ]
  },
  {
   "cell_type": "markdown",
   "metadata": {},
   "source": [
    "## Associate Prizes to Doors"
   ]
  },
  {
   "cell_type": "code",
   "execution_count": null,
   "metadata": {
    "collapsed": true
   },
   "outputs": [],
   "source": [
    "sim.prizes = function(n){\n",
    "    doors.mat = matrix(0, n, 3) # Build an n-row/3-column matrx\n",
    "    \n",
    "    # Assign door labelling\n",
    "    # Get the car location\n",
    "    \n",
    "    \n",
    "    # Get the doors\n",
    "    # Iterate over doors\n",
    "    # Assign car (1 in 3 chance, uniform distro)\n",
    "    # Assign goat 1 determinestic)\n",
    "    # Assign goat 2 dtermineistic\n",
    "}"
   ]
  },
  {
   "cell_type": "code",
   "execution_count": null,
   "metadata": {
    "collapsed": true
   },
   "outputs": [],
   "source": [
    "    i = 1\n",
    "    for (a in arrivals) {\n",
    "        demand.mat[i, ] = t(matrix(table(sim.move1(a)))) # Add one realization to matrix\n",
    "        i = i + 1\n",
    "    }"
   ]
  },
  {
   "cell_type": "code",
   "execution_count": null,
   "metadata": {
    "collapsed": true
   },
   "outputs": [],
   "source": []
  },
  {
   "cell_type": "code",
   "execution_count": null,
   "metadata": {
    "collapsed": true
   },
   "outputs": [],
   "source": []
  },
  {
   "cell_type": "code",
   "execution_count": null,
   "metadata": {
    "collapsed": true
   },
   "outputs": [],
   "source": []
  },
  {
   "cell_type": "markdown",
   "metadata": {},
   "source": [
    "# ========================================================================"
   ]
  },
  {
   "cell_type": "markdown",
   "metadata": {},
   "source": [
    "## Overview, Prize-based\n",
    "- Start by simulating move 1 (picking the car, goat 1, or goat 2)\n",
    "- Associate prizes with doors somehow"
   ]
  },
  {
   "cell_type": "markdown",
   "metadata": {
    "collapsed": true
   },
   "source": [
    "## Realizations of Distribution\n",
    "Probalby uniform, like rolling a dice."
   ]
  },
  {
   "cell_type": "code",
   "execution_count": null,
   "metadata": {
    "collapsed": true
   },
   "outputs": [],
   "source": []
  },
  {
   "cell_type": "markdown",
   "metadata": {},
   "source": [
    "## Simulate Contenstant's Move\n",
    "The Contestant's first move is entirely random, like rolling a 3-sided die (flipping a 3-sided \"coin\")."
   ]
  },
  {
   "cell_type": "code",
   "execution_count": null,
   "metadata": {
    "collapsed": true
   },
   "outputs": [],
   "source": [
    "sim.move1 = function(n){\n",
    "  move1 = runif(n)         # Uniform distribution, like rolling dice.\n",
    "  ifelse(move1 <= 1/3, 'car', 'goat') # 1/3 chance of car, else goat.\n",
    "}"
   ]
  },
  {
   "cell_type": "code",
   "execution_count": null,
   "metadata": {
    "collapsed": true
   },
   "outputs": [],
   "source": [
    "# Model 3 equal changes enumerating the two goats separately (Goat 1 & Goat 2)\n",
    "\n",
    "sim.move1 = function(n){\n",
    "  move1 = runif(n) # Probabilities of bread choice \n",
    "  ifelse(move1 <= 1/3, 'car', \n",
    "         ifelse(move1 <= 2/3, 'goat1', 'goat2'))\n",
    "}"
   ]
  },
  {
   "cell_type": "code",
   "execution_count": null,
   "metadata": {},
   "outputs": [],
   "source": [
    "# Run some tests\n",
    "table(sim.move1(10))\n",
    "table(sim.move1(100))\n",
    "table(sim.move1(1000))\n",
    "table(sim.move1(10000))\n",
    "table(sim.move1(100000))"
   ]
  },
  {
   "cell_type": "code",
   "execution_count": null,
   "metadata": {},
   "outputs": [],
   "source": [
    "sim.move1(10)"
   ]
  },
  {
   "cell_type": "code",
   "execution_count": null,
   "metadata": {},
   "outputs": [],
   "source": [
    "sim.move1(100)"
   ]
  },
  {
   "cell_type": "markdown",
   "metadata": {},
   "source": [
    "## Simulate the Three Doors\n",
    "Genrate a 3-column table, representing possible 3-door configuraitons. Use 1 for car; 0 for goat."
   ]
  },
  {
   "cell_type": "code",
   "execution_count": null,
   "metadata": {},
   "outputs": [],
   "source": [
    "# TODO: fix the demand varname\n",
    "# TODO: replact rpois with runif \n",
    "\n",
    "sim.doors = function(lambda, n){\n",
    "    arrivals = rpois(n, lambda)  # Compute realizations of arrivals (based on poisson distro)\n",
    "    demand.mat = matrix(0, n, 3) # Initalize an nx3 matrix (n rows, 3 bread types per row), all with zeros\n",
    "    i = 1\n",
    "    for (a in arrivals) {\n",
    "        demand.mat[i, ] = t(matrix(table(sim.move1(a)))) # Add one realization to matrix\n",
    "        i = i + 1\n",
    "    }  \n",
    "    demand = data.frame(demand.mat)\n",
    "    names(demand) = c('Car', 'Goat 1', 'Goat 2')\n",
    "    demand\n",
    "}   \n",
    "sim.doors(100, 10)"
   ]
  },
  {
   "cell_type": "code",
   "execution_count": null,
   "metadata": {},
   "outputs": [],
   "source": [
    "sim.doors(10)"
   ]
  },
  {
   "cell_type": "code",
   "execution_count": null,
   "metadata": {
    "collapsed": true
   },
   "outputs": [],
   "source": [
    "sim.doors = function(n){\n",
    "    move1s = runif(n)\n",
    "    doors.mat = matrix(0,n,3)  ## Initalize an nx3 matrix all with zeros\n",
    "    \n",
    "    i = 1\n",
    "    for (a in move1s) {\n",
    "        doors.mat[i, ] = t(matrix(table(sim.move1(a)))) # Add one realization to matrix\n",
    "        i = i + 1\n",
    "    }\n",
    "}"
   ]
  },
  {
   "cell_type": "code",
   "execution_count": null,
   "metadata": {},
   "outputs": [],
   "source": [
    "sim.doors(10)"
   ]
  },
  {
   "cell_type": "code",
   "execution_count": null,
   "metadata": {
    "collapsed": true
   },
   "outputs": [],
   "source": []
  },
  {
   "cell_type": "markdown",
   "metadata": {},
   "source": [
    "## Simulate Monty's Move\n",
    "Monty's move is deterministic, but depends on the Contestant's first move.\n",
    " - If Contestant picked the car, Monty will \"flip a coin\" and pick one of the remaining two doors at random.\n",
    " - If Contestant picked a goat, Monty has only one choice - pick the goat.\n",
    " "
   ]
  },
  {
   "cell_type": "code",
   "execution_count": null,
   "metadata": {
    "collapsed": true
   },
   "outputs": [],
   "source": [
    "# TODO: fix the demand varname\n",
    "# TODO: replact rpois with runif \n",
    "\n",
    "sim.monty = function(lambda, n){\n",
    "    arrivals = rpois(n, lambda)  # Compute realizations of arrivals (based on poisson distro)\n",
    "    demand.mat = matrix(0, n, 3) # Initalize an nx3 matrix (n rows, 3 bread types per row), all with zeros\n",
    "    i = 1\n",
    "    for (a in arrivals) {\n",
    "        demand.mat[i, ] = t(matrix(table(sim.move1(a)))) # Add one realization to matrix\n",
    "        i = i + 1\n",
    "    }  \n",
    "    demand = data.frame(demand.mat)\n",
    "    names(demand) = c('Door 1', 'Door 2', 'Door 3')\n",
    "    demand\n",
    "}   \n",
    "sim.doors(100, 10)"
   ]
  },
  {
   "cell_type": "code",
   "execution_count": null,
   "metadata": {
    "collapsed": true
   },
   "outputs": [],
   "source": [
    "sim.Move2 = function(n){\n",
    "    # start by simulating move 1\n",
    "    # Did contestant pick the car?\n",
    "    # Yes, flip coin, pick one of 2 remg doors\n",
    "    # No, pick the only door without a car.\n",
    "}"
   ]
  },
  {
   "cell_type": "code",
   "execution_count": null,
   "metadata": {
    "collapsed": true
   },
   "outputs": [],
   "source": [
    "## Simulate Contestant's Next Move\n",
    "Maybe yes; Maybe no"
   ]
  }
 ],
 "metadata": {
  "kernelspec": {
   "display_name": "R",
   "language": "R",
   "name": "ir"
  },
  "language_info": {
   "codemirror_mode": "r",
   "file_extension": ".r",
   "mimetype": "text/x-r-source",
   "name": "R",
   "pygments_lexer": "r",
   "version": "3.2.3"
  }
 },
 "nbformat": 4,
 "nbformat_minor": 2
}

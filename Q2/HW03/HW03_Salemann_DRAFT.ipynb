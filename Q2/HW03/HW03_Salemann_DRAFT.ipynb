{
 "cells": [
  {
   "cell_type": "markdown",
   "metadata": {},
   "source": [
    "# Data Science 410 BB\n",
    "## University of Washington Professional & Continuing Education\n",
    "\n",
    "### Homework 3: Simulating the Mony Hall Problem\n",
    "### Leo Salemann\n",
    "### 1/25/18\n"
   ]
  },
  {
   "cell_type": "markdown",
   "metadata": {},
   "source": [
    "## Overview, Door-based\n",
    "- Start by simulating move1 (picking door 1 vs. door 2 vs. door 3)\n",
    "  - Uniform distribution 1 in 3 chance\n",
    "- Associate prizes to door\n",
    "  - Start with car, 1 in 3 chance\n",
    "  - Goat 1 and Goat 2 become determinestic\n",
    "- Simulate Monty's Move\n",
    "  - Start by running the Door & Prize sims\n",
    "  - Iterate over Door outpus\n",
    "    - If contestent picked the car, flip a coin and open one of the two remaining doors.\n",
    "    - If contestant picked a goat, find the door with the other goat and pick it."
   ]
  },
  {
   "cell_type": "markdown",
   "metadata": {},
   "source": [
    "## Simulate Prizes"
   ]
  },
  {
   "cell_type": "code",
   "execution_count": 89,
   "metadata": {},
   "outputs": [
    {
     "data": {
      "text/plain": [
       "\n",
       " car goat \n",
       "   3    6 "
      ]
     },
     "metadata": {},
     "output_type": "display_data"
    }
   ],
   "source": [
    "# Model 3 equal changes enumerating the two goats separately (Goat 1 & Goat 2)\n",
    "\n",
    "sim.prizes = function(n){\n",
    "  # n = number of trials (times the game is played)\n",
    "  prize = runif(n)                    # Uniform distribution\n",
    "  ifelse(prize <= 1/3, 'car', 'goat') # 1 in 3 chance of car, else goat\n",
    "}\n",
    "\n",
    "table(sim.prizes(9))"
   ]
  },
  {
   "cell_type": "code",
   "execution_count": 90,
   "metadata": {},
   "outputs": [
    {
     "data": {
      "text/html": [
       "<ol class=list-inline>\n",
       "\t<li>'car'</li>\n",
       "\t<li>'car'</li>\n",
       "\t<li>'goat'</li>\n",
       "\t<li>'car'</li>\n",
       "\t<li>'goat'</li>\n",
       "\t<li>'goat'</li>\n",
       "\t<li>'goat'</li>\n",
       "\t<li>'car'</li>\n",
       "\t<li>'car'</li>\n",
       "</ol>\n"
      ],
      "text/latex": [
       "\\begin{enumerate*}\n",
       "\\item 'car'\n",
       "\\item 'car'\n",
       "\\item 'goat'\n",
       "\\item 'car'\n",
       "\\item 'goat'\n",
       "\\item 'goat'\n",
       "\\item 'goat'\n",
       "\\item 'car'\n",
       "\\item 'car'\n",
       "\\end{enumerate*}\n"
      ],
      "text/markdown": [
       "1. 'car'\n",
       "2. 'car'\n",
       "3. 'goat'\n",
       "4. 'car'\n",
       "5. 'goat'\n",
       "6. 'goat'\n",
       "7. 'goat'\n",
       "8. 'car'\n",
       "9. 'car'\n",
       "\n",
       "\n"
      ],
      "text/plain": [
       "[1] \"car\"  \"car\"  \"goat\" \"car\"  \"goat\" \"goat\" \"goat\" \"car\"  \"car\" "
      ]
     },
     "metadata": {},
     "output_type": "display_data"
    },
    {
     "data": {
      "text/html": [
       "'car'"
      ],
      "text/latex": [
       "'car'"
      ],
      "text/markdown": [
       "'car'"
      ],
      "text/plain": [
       "[1] \"car\""
      ]
     },
     "metadata": {},
     "output_type": "display_data"
    }
   ],
   "source": [
    "sim.prizes(9)\n",
    "sim.prizes(9)[1]"
   ]
  },
  {
   "cell_type": "code",
   "execution_count": 80,
   "metadata": {},
   "outputs": [
    {
     "data": {
      "text/html": [
       "<ol class=list-inline>\n",
       "\t<li>'goat'</li>\n",
       "\t<li>'goat'</li>\n",
       "\t<li>'goat'</li>\n",
       "\t<li>'car'</li>\n",
       "\t<li>'car'</li>\n",
       "\t<li>'car'</li>\n",
       "\t<li>'car'</li>\n",
       "\t<li>'car'</li>\n",
       "\t<li>'goat'</li>\n",
       "</ol>\n"
      ],
      "text/latex": [
       "\\begin{enumerate*}\n",
       "\\item 'goat'\n",
       "\\item 'goat'\n",
       "\\item 'goat'\n",
       "\\item 'car'\n",
       "\\item 'car'\n",
       "\\item 'car'\n",
       "\\item 'car'\n",
       "\\item 'car'\n",
       "\\item 'goat'\n",
       "\\end{enumerate*}\n"
      ],
      "text/markdown": [
       "1. 'goat'\n",
       "2. 'goat'\n",
       "3. 'goat'\n",
       "4. 'car'\n",
       "5. 'car'\n",
       "6. 'car'\n",
       "7. 'car'\n",
       "8. 'car'\n",
       "9. 'goat'\n",
       "\n",
       "\n"
      ],
      "text/plain": [
       "[1] \"goat\" \"goat\" \"goat\" \"car\"  \"car\"  \"car\"  \"car\"  \"car\"  \"goat\""
      ]
     },
     "metadata": {},
     "output_type": "display_data"
    },
    {
     "data": {
      "text/html": [
       "'goat'"
      ],
      "text/latex": [
       "'goat'"
      ],
      "text/markdown": [
       "'goat'"
      ],
      "text/plain": [
       "[1] \"goat\""
      ]
     },
     "metadata": {},
     "output_type": "display_data"
    }
   ],
   "source": [
    "prizes = sim.prizes(9)\n",
    "prizes\n",
    "prizes[1]"
   ]
  },
  {
   "cell_type": "markdown",
   "metadata": {},
   "source": [
    " ## Learn about Matrices"
   ]
  },
  {
   "cell_type": "code",
   "execution_count": 81,
   "metadata": {},
   "outputs": [
    {
     "data": {
      "text/html": [
       "<table>\n",
       "<tbody>\n",
       "\t<tr><td>0</td><td>0</td><td>0</td></tr>\n",
       "\t<tr><td>0</td><td>0</td><td>0</td></tr>\n",
       "\t<tr><td>0</td><td>0</td><td>0</td></tr>\n",
       "\t<tr><td>0</td><td>0</td><td>0</td></tr>\n",
       "\t<tr><td>0</td><td>0</td><td>0</td></tr>\n",
       "\t<tr><td>0</td><td>0</td><td>0</td></tr>\n",
       "\t<tr><td>0</td><td>0</td><td>0</td></tr>\n",
       "\t<tr><td>0</td><td>0</td><td>0</td></tr>\n",
       "\t<tr><td>0</td><td>0</td><td>0</td></tr>\n",
       "\t<tr><td>0</td><td>0</td><td>0</td></tr>\n",
       "</tbody>\n",
       "</table>\n"
      ],
      "text/latex": [
       "\\begin{tabular}{lll}\n",
       "\t 0 & 0 & 0\\\\\n",
       "\t 0 & 0 & 0\\\\\n",
       "\t 0 & 0 & 0\\\\\n",
       "\t 0 & 0 & 0\\\\\n",
       "\t 0 & 0 & 0\\\\\n",
       "\t 0 & 0 & 0\\\\\n",
       "\t 0 & 0 & 0\\\\\n",
       "\t 0 & 0 & 0\\\\\n",
       "\t 0 & 0 & 0\\\\\n",
       "\t 0 & 0 & 0\\\\\n",
       "\\end{tabular}\n"
      ],
      "text/markdown": [
       "\n",
       "| 0 | 0 | 0 | \n",
       "| 0 | 0 | 0 | \n",
       "| 0 | 0 | 0 | \n",
       "| 0 | 0 | 0 | \n",
       "| 0 | 0 | 0 | \n",
       "| 0 | 0 | 0 | \n",
       "| 0 | 0 | 0 | \n",
       "| 0 | 0 | 0 | \n",
       "| 0 | 0 | 0 | \n",
       "| 0 | 0 | 0 | \n",
       "\n",
       "\n"
      ],
      "text/plain": [
       "      [,1] [,2] [,3]\n",
       " [1,] 0    0    0   \n",
       " [2,] 0    0    0   \n",
       " [3,] 0    0    0   \n",
       " [4,] 0    0    0   \n",
       " [5,] 0    0    0   \n",
       " [6,] 0    0    0   \n",
       " [7,] 0    0    0   \n",
       " [8,] 0    0    0   \n",
       " [9,] 0    0    0   \n",
       "[10,] 0    0    0   "
      ]
     },
     "metadata": {},
     "output_type": "display_data"
    }
   ],
   "source": [
    "test.mat = matrix(0, 10, 3)\n",
    "\n",
    "test.mat"
   ]
  },
  {
   "cell_type": "code",
   "execution_count": 82,
   "metadata": {},
   "outputs": [
    {
     "data": {
      "text/html": [
       "<table>\n",
       "<tbody>\n",
       "\t<tr><td> 0</td><td> 1</td><td> 2</td></tr>\n",
       "\t<tr><td> 3</td><td> 4</td><td> 5</td></tr>\n",
       "\t<tr><td> 6</td><td> 7</td><td> 8</td></tr>\n",
       "\t<tr><td> 9</td><td>10</td><td>11</td></tr>\n",
       "\t<tr><td>12</td><td>13</td><td>14</td></tr>\n",
       "\t<tr><td>15</td><td>16</td><td>17</td></tr>\n",
       "\t<tr><td>18</td><td>19</td><td>20</td></tr>\n",
       "\t<tr><td>21</td><td>22</td><td>23</td></tr>\n",
       "\t<tr><td>24</td><td>25</td><td>26</td></tr>\n",
       "\t<tr><td>27</td><td>28</td><td>29</td></tr>\n",
       "</tbody>\n",
       "</table>\n"
      ],
      "text/latex": [
       "\\begin{tabular}{lll}\n",
       "\t  0 &  1 &  2\\\\\n",
       "\t  3 &  4 &  5\\\\\n",
       "\t  6 &  7 &  8\\\\\n",
       "\t  9 & 10 & 11\\\\\n",
       "\t 12 & 13 & 14\\\\\n",
       "\t 15 & 16 & 17\\\\\n",
       "\t 18 & 19 & 20\\\\\n",
       "\t 21 & 22 & 23\\\\\n",
       "\t 24 & 25 & 26\\\\\n",
       "\t 27 & 28 & 29\\\\\n",
       "\\end{tabular}\n"
      ],
      "text/markdown": [
       "\n",
       "|  0 |  1 |  2 | \n",
       "|  3 |  4 |  5 | \n",
       "|  6 |  7 |  8 | \n",
       "|  9 | 10 | 11 | \n",
       "| 12 | 13 | 14 | \n",
       "| 15 | 16 | 17 | \n",
       "| 18 | 19 | 20 | \n",
       "| 21 | 22 | 23 | \n",
       "| 24 | 25 | 26 | \n",
       "| 27 | 28 | 29 | \n",
       "\n",
       "\n"
      ],
      "text/plain": [
       "      [,1] [,2] [,3]\n",
       " [1,]  0    1    2  \n",
       " [2,]  3    4    5  \n",
       " [3,]  6    7    8  \n",
       " [4,]  9   10   11  \n",
       " [5,] 12   13   14  \n",
       " [6,] 15   16   17  \n",
       " [7,] 18   19   20  \n",
       " [8,] 21   22   23  \n",
       " [9,] 24   25   26  \n",
       "[10,] 27   28   29  "
      ]
     },
     "metadata": {},
     "output_type": "display_data"
    }
   ],
   "source": [
    "test.mat = matrix(0, 10, 3)\n",
    "\n",
    "a = 0\n",
    "for (row in 1:10){\n",
    "    for (col in 1:3){\n",
    "        test.mat[row,col] = a\n",
    "        a = a +1\n",
    "    }\n",
    "}\n",
    "\n",
    "test.mat"
   ]
  },
  {
   "cell_type": "markdown",
   "metadata": {},
   "source": [
    "## Simulate Doors\n",
    "Create an nx3 (n-rows, 3 columns) matrix where column indicates door number, and each row is a different trial (different playing of the game). Each cell in the matrix is set to 'car' or 'goat' using a uniform distribution, where the chance of a door containing a car is 1 in 3. "
   ]
  },
  {
   "cell_type": "code",
   "execution_count": 101,
   "metadata": {
    "collapsed": true
   },
   "outputs": [],
   "source": [
    "sim.doors = function(n){\n",
    "    # Get the doors\n",
    "    doors.mat = matrix(0, n, 3) # Build an n-row/3-column matrx\n",
    "    \n",
    "    # Get the prizes\n",
    "    prizes = sim.prizes(n*3)\n",
    "    \n",
    "    # Iterate over doors & assign prizes\n",
    "    a = 1\n",
    "    for (row in 1:n){\n",
    "        for (col in 1:3){\n",
    "            doors.mat[row,col] = prizes[a]\n",
    "            a = a +1\n",
    "        }\n",
    "    }\n",
    "    doors.mat\n",
    "}"
   ]
  },
  {
   "cell_type": "code",
   "execution_count": 105,
   "metadata": {},
   "outputs": [
    {
     "data": {
      "text/html": [
       "<table>\n",
       "<tbody>\n",
       "\t<tr><td>car </td><td>goat</td><td>goat</td></tr>\n",
       "\t<tr><td>goat</td><td>car </td><td>goat</td></tr>\n",
       "\t<tr><td>goat</td><td>goat</td><td>car </td></tr>\n",
       "</tbody>\n",
       "</table>\n"
      ],
      "text/latex": [
       "\\begin{tabular}{lll}\n",
       "\t car  & goat & goat\\\\\n",
       "\t goat & car  & goat\\\\\n",
       "\t goat & goat & car \\\\\n",
       "\\end{tabular}\n"
      ],
      "text/markdown": [
       "\n",
       "| car  | goat | goat | \n",
       "| goat | car  | goat | \n",
       "| goat | goat | car  | \n",
       "\n",
       "\n"
      ],
      "text/plain": [
       "     [,1] [,2] [,3]\n",
       "[1,] car  goat goat\n",
       "[2,] goat car  goat\n",
       "[3,] goat goat car "
      ]
     },
     "metadata": {},
     "output_type": "display_data"
    }
   ],
   "source": [
    "sim.doors(3)"
   ]
  },
  {
   "cell_type": "code",
   "execution_count": 94,
   "metadata": {},
   "outputs": [
    {
     "data": {
      "text/html": [
       "<table>\n",
       "<tbody>\n",
       "\t<tr><td>0</td><td>0</td><td>0</td></tr>\n",
       "\t<tr><td>0</td><td>0</td><td>0</td></tr>\n",
       "\t<tr><td>0</td><td>0</td><td>0</td></tr>\n",
       "\t<tr><td>0</td><td>0</td><td>0</td></tr>\n",
       "\t<tr><td>0</td><td>0</td><td>0</td></tr>\n",
       "\t<tr><td>0</td><td>0</td><td>0</td></tr>\n",
       "\t<tr><td>0</td><td>0</td><td>0</td></tr>\n",
       "\t<tr><td>0</td><td>0</td><td>0</td></tr>\n",
       "\t<tr><td>0</td><td>0</td><td>0</td></tr>\n",
       "\t<tr><td>0</td><td>0</td><td>0</td></tr>\n",
       "</tbody>\n",
       "</table>\n"
      ],
      "text/latex": [
       "\\begin{tabular}{lll}\n",
       "\t 0 & 0 & 0\\\\\n",
       "\t 0 & 0 & 0\\\\\n",
       "\t 0 & 0 & 0\\\\\n",
       "\t 0 & 0 & 0\\\\\n",
       "\t 0 & 0 & 0\\\\\n",
       "\t 0 & 0 & 0\\\\\n",
       "\t 0 & 0 & 0\\\\\n",
       "\t 0 & 0 & 0\\\\\n",
       "\t 0 & 0 & 0\\\\\n",
       "\t 0 & 0 & 0\\\\\n",
       "\\end{tabular}\n"
      ],
      "text/markdown": [
       "\n",
       "| 0 | 0 | 0 | \n",
       "| 0 | 0 | 0 | \n",
       "| 0 | 0 | 0 | \n",
       "| 0 | 0 | 0 | \n",
       "| 0 | 0 | 0 | \n",
       "| 0 | 0 | 0 | \n",
       "| 0 | 0 | 0 | \n",
       "| 0 | 0 | 0 | \n",
       "| 0 | 0 | 0 | \n",
       "| 0 | 0 | 0 | \n",
       "\n",
       "\n"
      ],
      "text/plain": [
       "      [,1] [,2] [,3]\n",
       " [1,] 0    0    0   \n",
       " [2,] 0    0    0   \n",
       " [3,] 0    0    0   \n",
       " [4,] 0    0    0   \n",
       " [5,] 0    0    0   \n",
       " [6,] 0    0    0   \n",
       " [7,] 0    0    0   \n",
       " [8,] 0    0    0   \n",
       " [9,] 0    0    0   \n",
       "[10,] 0    0    0   "
      ]
     },
     "metadata": {},
     "output_type": "display_data"
    },
    {
     "data": {
      "text/html": [
       "<ol class=list-inline>\n",
       "\t<li>'car'</li>\n",
       "\t<li>'goat'</li>\n",
       "\t<li>'goat'</li>\n",
       "\t<li>'goat'</li>\n",
       "\t<li>'goat'</li>\n",
       "\t<li>'car'</li>\n",
       "\t<li>'goat'</li>\n",
       "\t<li>'goat'</li>\n",
       "\t<li>'goat'</li>\n",
       "\t<li>'car'</li>\n",
       "\t<li>'goat'</li>\n",
       "\t<li>'car'</li>\n",
       "\t<li>'goat'</li>\n",
       "\t<li>'goat'</li>\n",
       "\t<li>'goat'</li>\n",
       "\t<li>'car'</li>\n",
       "\t<li>'car'</li>\n",
       "\t<li>'goat'</li>\n",
       "\t<li>'goat'</li>\n",
       "\t<li>'goat'</li>\n",
       "\t<li>'car'</li>\n",
       "\t<li>'car'</li>\n",
       "\t<li>'goat'</li>\n",
       "\t<li>'car'</li>\n",
       "\t<li>'goat'</li>\n",
       "\t<li>'car'</li>\n",
       "\t<li>'goat'</li>\n",
       "\t<li>'goat'</li>\n",
       "\t<li>'goat'</li>\n",
       "\t<li>'goat'</li>\n",
       "</ol>\n"
      ],
      "text/latex": [
       "\\begin{enumerate*}\n",
       "\\item 'car'\n",
       "\\item 'goat'\n",
       "\\item 'goat'\n",
       "\\item 'goat'\n",
       "\\item 'goat'\n",
       "\\item 'car'\n",
       "\\item 'goat'\n",
       "\\item 'goat'\n",
       "\\item 'goat'\n",
       "\\item 'car'\n",
       "\\item 'goat'\n",
       "\\item 'car'\n",
       "\\item 'goat'\n",
       "\\item 'goat'\n",
       "\\item 'goat'\n",
       "\\item 'car'\n",
       "\\item 'car'\n",
       "\\item 'goat'\n",
       "\\item 'goat'\n",
       "\\item 'goat'\n",
       "\\item 'car'\n",
       "\\item 'car'\n",
       "\\item 'goat'\n",
       "\\item 'car'\n",
       "\\item 'goat'\n",
       "\\item 'car'\n",
       "\\item 'goat'\n",
       "\\item 'goat'\n",
       "\\item 'goat'\n",
       "\\item 'goat'\n",
       "\\end{enumerate*}\n"
      ],
      "text/markdown": [
       "1. 'car'\n",
       "2. 'goat'\n",
       "3. 'goat'\n",
       "4. 'goat'\n",
       "5. 'goat'\n",
       "6. 'car'\n",
       "7. 'goat'\n",
       "8. 'goat'\n",
       "9. 'goat'\n",
       "10. 'car'\n",
       "11. 'goat'\n",
       "12. 'car'\n",
       "13. 'goat'\n",
       "14. 'goat'\n",
       "15. 'goat'\n",
       "16. 'car'\n",
       "17. 'car'\n",
       "18. 'goat'\n",
       "19. 'goat'\n",
       "20. 'goat'\n",
       "21. 'car'\n",
       "22. 'car'\n",
       "23. 'goat'\n",
       "24. 'car'\n",
       "25. 'goat'\n",
       "26. 'car'\n",
       "27. 'goat'\n",
       "28. 'goat'\n",
       "29. 'goat'\n",
       "30. 'goat'\n",
       "\n",
       "\n"
      ],
      "text/plain": [
       " [1] \"car\"  \"goat\" \"goat\" \"goat\" \"goat\" \"car\"  \"goat\" \"goat\" \"goat\" \"car\" \n",
       "[11] \"goat\" \"car\"  \"goat\" \"goat\" \"goat\" \"car\"  \"car\"  \"goat\" \"goat\" \"goat\"\n",
       "[21] \"car\"  \"car\"  \"goat\" \"car\"  \"goat\" \"car\"  \"goat\" \"goat\" \"goat\" \"goat\""
      ]
     },
     "metadata": {},
     "output_type": "display_data"
    },
    {
     "data": {
      "text/html": [
       "<table>\n",
       "<tbody>\n",
       "\t<tr><td>car </td><td>goat</td><td>goat</td></tr>\n",
       "\t<tr><td>goat</td><td>goat</td><td>car </td></tr>\n",
       "\t<tr><td>goat</td><td>goat</td><td>goat</td></tr>\n",
       "\t<tr><td>car </td><td>goat</td><td>car </td></tr>\n",
       "\t<tr><td>goat</td><td>goat</td><td>goat</td></tr>\n",
       "\t<tr><td>car </td><td>car </td><td>goat</td></tr>\n",
       "\t<tr><td>goat</td><td>goat</td><td>car </td></tr>\n",
       "\t<tr><td>car </td><td>goat</td><td>car </td></tr>\n",
       "\t<tr><td>goat</td><td>car </td><td>goat</td></tr>\n",
       "\t<tr><td>goat</td><td>goat</td><td>goat</td></tr>\n",
       "</tbody>\n",
       "</table>\n"
      ],
      "text/latex": [
       "\\begin{tabular}{lll}\n",
       "\t car  & goat & goat\\\\\n",
       "\t goat & goat & car \\\\\n",
       "\t goat & goat & goat\\\\\n",
       "\t car  & goat & car \\\\\n",
       "\t goat & goat & goat\\\\\n",
       "\t car  & car  & goat\\\\\n",
       "\t goat & goat & car \\\\\n",
       "\t car  & goat & car \\\\\n",
       "\t goat & car  & goat\\\\\n",
       "\t goat & goat & goat\\\\\n",
       "\\end{tabular}\n"
      ],
      "text/markdown": [
       "\n",
       "| car  | goat | goat | \n",
       "| goat | goat | car  | \n",
       "| goat | goat | goat | \n",
       "| car  | goat | car  | \n",
       "| goat | goat | goat | \n",
       "| car  | car  | goat | \n",
       "| goat | goat | car  | \n",
       "| car  | goat | car  | \n",
       "| goat | car  | goat | \n",
       "| goat | goat | goat | \n",
       "\n",
       "\n"
      ],
      "text/plain": [
       "      [,1] [,2] [,3]\n",
       " [1,] car  goat goat\n",
       " [2,] goat goat car \n",
       " [3,] goat goat goat\n",
       " [4,] car  goat car \n",
       " [5,] goat goat goat\n",
       " [6,] car  car  goat\n",
       " [7,] goat goat car \n",
       " [8,] car  goat car \n",
       " [9,] goat car  goat\n",
       "[10,] goat goat goat"
      ]
     },
     "metadata": {},
     "output_type": "display_data"
    }
   ],
   "source": [
    "n = 10\n",
    "doors.mat = matrix(0, n, 3)\n",
    "doors.mat\n",
    "prizes = sim.prizes(n*3)\n",
    "prizes\n",
    "\n",
    "a = 1\n",
    "for (row in 1:n){\n",
    "    for (col in 1:3){\n",
    "        doors.mat[row,col] = prizes[a]\n",
    "        a = a +1\n",
    "    }\n",
    "}\n",
    "doors.mat"
   ]
  },
  {
   "cell_type": "code",
   "execution_count": 92,
   "metadata": {},
   "outputs": [
    {
     "data": {
      "text/plain": [
       "NULL"
      ]
     },
     "metadata": {},
     "output_type": "display_data"
    }
   ],
   "source": [
    "doors = sim.doors(10)\n",
    "doors"
   ]
  },
  {
   "cell_type": "markdown",
   "metadata": {},
   "source": [
    "# ==============================================="
   ]
  },
  {
   "cell_type": "markdown",
   "metadata": {},
   "source": [
    "## Simulate Car Location\n",
    "Make a random assortment of labels, which can be door1, door2, door 3"
   ]
  },
  {
   "cell_type": "code",
   "execution_count": 30,
   "metadata": {},
   "outputs": [
    {
     "data": {
      "text/plain": [
       "\n",
       "door1 door2 door3 \n",
       "   30    37    33 "
      ]
     },
     "metadata": {},
     "output_type": "display_data"
    }
   ],
   "source": [
    "# Model 3 equal changes enumerating the two goats separately (Goat 1 & Goat 2)\n",
    "\n",
    "sim.car = function(n){\n",
    "  move1 = runif(n) # Probabilities of bread choice \n",
    "  ifelse(move1 <= 1/3, 'door1', \n",
    "         ifelse(move1 <= 2/3, 'door2', 'door3'))\n",
    "}\n",
    "\n",
    "table(sim.car(100))"
   ]
  },
  {
   "cell_type": "code",
   "execution_count": null,
   "metadata": {
    "collapsed": true
   },
   "outputs": [],
   "source": []
  },
  {
   "cell_type": "markdown",
   "metadata": {},
   "source": [
    "## Simulate First Move (Contenstant picks a door)\n",
    "The Contestant's first move is entirely random, like rolling a 3-sided die (flipping a 3-sided \"coin\")."
   ]
  },
  {
   "cell_type": "code",
   "execution_count": 28,
   "metadata": {},
   "outputs": [
    {
     "data": {
      "text/plain": [
       "\n",
       "door1 door2 door3 \n",
       "   35    33    32 "
      ]
     },
     "metadata": {},
     "output_type": "display_data"
    }
   ],
   "source": [
    "# Model 3 equal changes enumerating the two goats separately (Goat 1 & Goat 2)\n",
    "\n",
    "sim.move1door = function(n){\n",
    "  move1 = runif(n) # Probabilities of bread choice \n",
    "  ifelse(move1 <= 1/3, 'door1', \n",
    "         ifelse(move1 <= 2/3, 'door2', 'door3'))\n",
    "}\n",
    "\n",
    "table(sim.move1door(100))"
   ]
  },
  {
   "cell_type": "code",
   "execution_count": null,
   "metadata": {},
   "outputs": [],
   "source": [
    "# Run some tests\n",
    "table(sim.move1(10))\n",
    "table(sim.move1(100))\n",
    "table(sim.move1(1000))\n",
    "table(sim.move1(10000))\n",
    "table(sim.move1(100000))"
   ]
  },
  {
   "cell_type": "markdown",
   "metadata": {},
   "source": [
    "## Simulate First Move (Contenstant picks a prize)\n",
    "The Contestant's first move is entirely random, like rolling a 3-sided die (flipping a 3-sided \"coin\")."
   ]
  },
  {
   "cell_type": "code",
   "execution_count": 29,
   "metadata": {},
   "outputs": [
    {
     "data": {
      "text/plain": [
       "\n",
       "  car goat1 goat2 \n",
       "   34    35    31 "
      ]
     },
     "metadata": {},
     "output_type": "display_data"
    }
   ],
   "source": [
    "# Model 3 equal changes enumerating the two goats separately (Goat 1 & Goat 2)\n",
    "\n",
    "sim.move1prize = function(n){\n",
    "  move1 = runif(n) # Probabilities of bread choice \n",
    "  ifelse(move1 <= 1/3, 'car', \n",
    "         ifelse(move1 <= 2/3, 'goat1', 'goat2'))\n",
    "}\n",
    "\n",
    "table(sim.move1prize(100))"
   ]
  },
  {
   "cell_type": "markdown",
   "metadata": {},
   "source": [
    "## Associate Prizes to Doors"
   ]
  },
  {
   "cell_type": "code",
   "execution_count": null,
   "metadata": {
    "collapsed": true
   },
   "outputs": [],
   "source": [
    "sim.prizes = function(n){\n",
    "    doors.mat = matrix(0, n, 3) # Build an n-row/3-column matrx\n",
    "    \n",
    "    # Assign door labelling\n",
    "    # Get the car location\n",
    "    \n",
    "    \n",
    "    # Get the doors\n",
    "    # Iterate over doors\n",
    "    # Assign car (1 in 3 chance, uniform distro)\n",
    "    # Assign goat 1 determinestic)\n",
    "    # Assign goat 2 dtermineistic\n",
    "}"
   ]
  },
  {
   "cell_type": "code",
   "execution_count": null,
   "metadata": {
    "collapsed": true
   },
   "outputs": [],
   "source": [
    "    i = 1\n",
    "    for (a in arrivals) {\n",
    "        demand.mat[i, ] = t(matrix(table(sim.move1(a)))) # Add one realization to matrix\n",
    "        i = i + 1\n",
    "    }"
   ]
  },
  {
   "cell_type": "markdown",
   "metadata": {},
   "source": [
    "## Simulate Monty's Move\n",
    "Monty's move is deterministic, but depends on the Contestant's first move.\n",
    " - If Contestant picked the car, Monty will \"flip a coin\" and pick one of the remaining two doors at random.\n",
    " - If Contestant picked a goat, Monty has only one choice - pick the goat.\n",
    " "
   ]
  },
  {
   "cell_type": "code",
   "execution_count": null,
   "metadata": {
    "collapsed": true
   },
   "outputs": [],
   "source": [
    "sim.monty = function(n){\n",
    "    # Begin by simulating the contestants first move.\n",
    "    # Which door did they pick? Does it have a car?\n",
    "    #   Nx3 matrix would be helpful, where column indicates door ...\n",
    "    #   ... and cell value is 'goat' or 'car'\n",
    "    #   Need an integer or label modeling what customer picked.\n",
    "    # Contestant picked a goat. Find other goat-door and pick it\n",
    "    #    don't need to worry about goat1 vs. goat 2 here.\n",
    "}"
   ]
  },
  {
   "cell_type": "code",
   "execution_count": null,
   "metadata": {
    "collapsed": true
   },
   "outputs": [],
   "source": []
  },
  {
   "cell_type": "code",
   "execution_count": null,
   "metadata": {
    "collapsed": true
   },
   "outputs": [],
   "source": []
  },
  {
   "cell_type": "code",
   "execution_count": null,
   "metadata": {
    "collapsed": true
   },
   "outputs": [],
   "source": []
  },
  {
   "cell_type": "markdown",
   "metadata": {},
   "source": [
    "# ========================================================================"
   ]
  },
  {
   "cell_type": "markdown",
   "metadata": {},
   "source": [
    "## Overview, Prize-based\n",
    "- Start by simulating move 1 (picking the car, goat 1, or goat 2)\n",
    "- Associate prizes with doors somehow"
   ]
  },
  {
   "cell_type": "markdown",
   "metadata": {
    "collapsed": true
   },
   "source": [
    "## Realizations of Distribution\n",
    "Probalby uniform, like rolling a dice."
   ]
  },
  {
   "cell_type": "code",
   "execution_count": null,
   "metadata": {
    "collapsed": true
   },
   "outputs": [],
   "source": []
  },
  {
   "cell_type": "markdown",
   "metadata": {},
   "source": [
    "## Simulate Contenstant's Move\n",
    "The Contestant's first move is entirely random, like rolling a 3-sided die (flipping a 3-sided \"coin\")."
   ]
  },
  {
   "cell_type": "code",
   "execution_count": 5,
   "metadata": {},
   "outputs": [],
   "source": [
    "sim.move1 = function(n){\n",
    "  move1 = runif(n)         # Uniform distribution, like rolling dice.\n",
    "  ifelse(move1 <= 1/3, 'car', 'goat') # 1/3 chance of car, else goat.\n",
    "}"
   ]
  },
  {
   "cell_type": "code",
   "execution_count": 14,
   "metadata": {},
   "outputs": [],
   "source": [
    "# Model 3 equal changes enumerating the two goats separately (Goat 1 & Goat 2)\n",
    "\n",
    "sim.move1 = function(n){\n",
    "  move1 = runif(n) # Probabilities of bread choice \n",
    "  ifelse(move1 <= 1/3, 'car', \n",
    "         ifelse(move1 <= 2/3, 'goat1', 'goat2'))\n",
    "}"
   ]
  },
  {
   "cell_type": "code",
   "execution_count": 15,
   "metadata": {},
   "outputs": [
    {
     "data": {
      "text/plain": [
       "\n",
       "  car goat1 goat2 \n",
       "    2     3     5 "
      ]
     },
     "metadata": {},
     "output_type": "display_data"
    },
    {
     "data": {
      "text/plain": [
       "\n",
       "  car goat1 goat2 \n",
       "   32    35    33 "
      ]
     },
     "metadata": {},
     "output_type": "display_data"
    },
    {
     "data": {
      "text/plain": [
       "\n",
       "  car goat1 goat2 \n",
       "  349   334   317 "
      ]
     },
     "metadata": {},
     "output_type": "display_data"
    },
    {
     "data": {
      "text/plain": [
       "\n",
       "  car goat1 goat2 \n",
       " 3378  3321  3301 "
      ]
     },
     "metadata": {},
     "output_type": "display_data"
    },
    {
     "data": {
      "text/plain": [
       "\n",
       "  car goat1 goat2 \n",
       "33371 33283 33346 "
      ]
     },
     "metadata": {},
     "output_type": "display_data"
    }
   ],
   "source": [
    "# Run some tests\n",
    "table(sim.move1(10))\n",
    "table(sim.move1(100))\n",
    "table(sim.move1(1000))\n",
    "table(sim.move1(10000))\n",
    "table(sim.move1(100000))"
   ]
  },
  {
   "cell_type": "code",
   "execution_count": 19,
   "metadata": {},
   "outputs": [
    {
     "data": {
      "text/html": [
       "<ol class=list-inline>\n",
       "\t<li>'goat1'</li>\n",
       "\t<li>'car'</li>\n",
       "\t<li>'car'</li>\n",
       "\t<li>'goat1'</li>\n",
       "\t<li>'car'</li>\n",
       "\t<li>'car'</li>\n",
       "\t<li>'car'</li>\n",
       "\t<li>'car'</li>\n",
       "\t<li>'goat1'</li>\n",
       "\t<li>'goat2'</li>\n",
       "</ol>\n"
      ],
      "text/latex": [
       "\\begin{enumerate*}\n",
       "\\item 'goat1'\n",
       "\\item 'car'\n",
       "\\item 'car'\n",
       "\\item 'goat1'\n",
       "\\item 'car'\n",
       "\\item 'car'\n",
       "\\item 'car'\n",
       "\\item 'car'\n",
       "\\item 'goat1'\n",
       "\\item 'goat2'\n",
       "\\end{enumerate*}\n"
      ],
      "text/markdown": [
       "1. 'goat1'\n",
       "2. 'car'\n",
       "3. 'car'\n",
       "4. 'goat1'\n",
       "5. 'car'\n",
       "6. 'car'\n",
       "7. 'car'\n",
       "8. 'car'\n",
       "9. 'goat1'\n",
       "10. 'goat2'\n",
       "\n",
       "\n"
      ],
      "text/plain": [
       " [1] \"goat1\" \"car\"   \"car\"   \"goat1\" \"car\"   \"car\"   \"car\"   \"car\"   \"goat1\"\n",
       "[10] \"goat2\""
      ]
     },
     "metadata": {},
     "output_type": "display_data"
    }
   ],
   "source": [
    "sim.move1(10)"
   ]
  },
  {
   "cell_type": "code",
   "execution_count": 20,
   "metadata": {},
   "outputs": [
    {
     "data": {
      "text/html": [
       "<ol class=list-inline>\n",
       "\t<li>'car'</li>\n",
       "\t<li>'goat2'</li>\n",
       "\t<li>'car'</li>\n",
       "\t<li>'goat1'</li>\n",
       "\t<li>'goat2'</li>\n",
       "\t<li>'goat1'</li>\n",
       "\t<li>'car'</li>\n",
       "\t<li>'car'</li>\n",
       "\t<li>'goat1'</li>\n",
       "\t<li>'goat2'</li>\n",
       "\t<li>'goat1'</li>\n",
       "\t<li>'goat2'</li>\n",
       "\t<li>'goat1'</li>\n",
       "\t<li>'goat1'</li>\n",
       "\t<li>'car'</li>\n",
       "\t<li>'goat2'</li>\n",
       "\t<li>'goat1'</li>\n",
       "\t<li>'goat2'</li>\n",
       "\t<li>'car'</li>\n",
       "\t<li>'car'</li>\n",
       "\t<li>'goat2'</li>\n",
       "\t<li>'goat1'</li>\n",
       "\t<li>'car'</li>\n",
       "\t<li>'goat2'</li>\n",
       "\t<li>'car'</li>\n",
       "\t<li>'goat2'</li>\n",
       "\t<li>'goat1'</li>\n",
       "\t<li>'goat1'</li>\n",
       "\t<li>'goat2'</li>\n",
       "\t<li>'car'</li>\n",
       "\t<li>'goat2'</li>\n",
       "\t<li>'car'</li>\n",
       "\t<li>'goat2'</li>\n",
       "\t<li>'car'</li>\n",
       "\t<li>'goat2'</li>\n",
       "\t<li>'goat2'</li>\n",
       "\t<li>'goat1'</li>\n",
       "\t<li>'goat1'</li>\n",
       "\t<li>'goat1'</li>\n",
       "\t<li>'car'</li>\n",
       "\t<li>'goat1'</li>\n",
       "\t<li>'goat2'</li>\n",
       "\t<li>'car'</li>\n",
       "\t<li>'goat2'</li>\n",
       "\t<li>'goat2'</li>\n",
       "\t<li>'car'</li>\n",
       "\t<li>'car'</li>\n",
       "\t<li>'car'</li>\n",
       "\t<li>'car'</li>\n",
       "\t<li>'car'</li>\n",
       "\t<li>'goat1'</li>\n",
       "\t<li>'car'</li>\n",
       "\t<li>'goat2'</li>\n",
       "\t<li>'car'</li>\n",
       "\t<li>'goat2'</li>\n",
       "\t<li>'car'</li>\n",
       "\t<li>'goat2'</li>\n",
       "\t<li>'goat1'</li>\n",
       "\t<li>'goat2'</li>\n",
       "\t<li>'goat1'</li>\n",
       "\t<li>'goat2'</li>\n",
       "\t<li>'goat1'</li>\n",
       "\t<li>'goat2'</li>\n",
       "\t<li>'car'</li>\n",
       "\t<li>'car'</li>\n",
       "\t<li>'goat2'</li>\n",
       "\t<li>'goat2'</li>\n",
       "\t<li>'goat2'</li>\n",
       "\t<li>'goat1'</li>\n",
       "\t<li>'goat1'</li>\n",
       "\t<li>'goat1'</li>\n",
       "\t<li>'goat2'</li>\n",
       "\t<li>'car'</li>\n",
       "\t<li>'goat1'</li>\n",
       "\t<li>'car'</li>\n",
       "\t<li>'goat2'</li>\n",
       "\t<li>'goat1'</li>\n",
       "\t<li>'goat2'</li>\n",
       "\t<li>'car'</li>\n",
       "\t<li>'goat2'</li>\n",
       "\t<li>'goat2'</li>\n",
       "\t<li>'car'</li>\n",
       "\t<li>'car'</li>\n",
       "\t<li>'goat1'</li>\n",
       "\t<li>'goat1'</li>\n",
       "\t<li>'goat1'</li>\n",
       "\t<li>'goat2'</li>\n",
       "\t<li>'car'</li>\n",
       "\t<li>'car'</li>\n",
       "\t<li>'goat1'</li>\n",
       "\t<li>'goat2'</li>\n",
       "\t<li>'goat1'</li>\n",
       "\t<li>'car'</li>\n",
       "\t<li>'car'</li>\n",
       "\t<li>'car'</li>\n",
       "\t<li>'goat1'</li>\n",
       "\t<li>'goat1'</li>\n",
       "\t<li>'car'</li>\n",
       "\t<li>'car'</li>\n",
       "\t<li>'goat2'</li>\n",
       "</ol>\n"
      ],
      "text/latex": [
       "\\begin{enumerate*}\n",
       "\\item 'car'\n",
       "\\item 'goat2'\n",
       "\\item 'car'\n",
       "\\item 'goat1'\n",
       "\\item 'goat2'\n",
       "\\item 'goat1'\n",
       "\\item 'car'\n",
       "\\item 'car'\n",
       "\\item 'goat1'\n",
       "\\item 'goat2'\n",
       "\\item 'goat1'\n",
       "\\item 'goat2'\n",
       "\\item 'goat1'\n",
       "\\item 'goat1'\n",
       "\\item 'car'\n",
       "\\item 'goat2'\n",
       "\\item 'goat1'\n",
       "\\item 'goat2'\n",
       "\\item 'car'\n",
       "\\item 'car'\n",
       "\\item 'goat2'\n",
       "\\item 'goat1'\n",
       "\\item 'car'\n",
       "\\item 'goat2'\n",
       "\\item 'car'\n",
       "\\item 'goat2'\n",
       "\\item 'goat1'\n",
       "\\item 'goat1'\n",
       "\\item 'goat2'\n",
       "\\item 'car'\n",
       "\\item 'goat2'\n",
       "\\item 'car'\n",
       "\\item 'goat2'\n",
       "\\item 'car'\n",
       "\\item 'goat2'\n",
       "\\item 'goat2'\n",
       "\\item 'goat1'\n",
       "\\item 'goat1'\n",
       "\\item 'goat1'\n",
       "\\item 'car'\n",
       "\\item 'goat1'\n",
       "\\item 'goat2'\n",
       "\\item 'car'\n",
       "\\item 'goat2'\n",
       "\\item 'goat2'\n",
       "\\item 'car'\n",
       "\\item 'car'\n",
       "\\item 'car'\n",
       "\\item 'car'\n",
       "\\item 'car'\n",
       "\\item 'goat1'\n",
       "\\item 'car'\n",
       "\\item 'goat2'\n",
       "\\item 'car'\n",
       "\\item 'goat2'\n",
       "\\item 'car'\n",
       "\\item 'goat2'\n",
       "\\item 'goat1'\n",
       "\\item 'goat2'\n",
       "\\item 'goat1'\n",
       "\\item 'goat2'\n",
       "\\item 'goat1'\n",
       "\\item 'goat2'\n",
       "\\item 'car'\n",
       "\\item 'car'\n",
       "\\item 'goat2'\n",
       "\\item 'goat2'\n",
       "\\item 'goat2'\n",
       "\\item 'goat1'\n",
       "\\item 'goat1'\n",
       "\\item 'goat1'\n",
       "\\item 'goat2'\n",
       "\\item 'car'\n",
       "\\item 'goat1'\n",
       "\\item 'car'\n",
       "\\item 'goat2'\n",
       "\\item 'goat1'\n",
       "\\item 'goat2'\n",
       "\\item 'car'\n",
       "\\item 'goat2'\n",
       "\\item 'goat2'\n",
       "\\item 'car'\n",
       "\\item 'car'\n",
       "\\item 'goat1'\n",
       "\\item 'goat1'\n",
       "\\item 'goat1'\n",
       "\\item 'goat2'\n",
       "\\item 'car'\n",
       "\\item 'car'\n",
       "\\item 'goat1'\n",
       "\\item 'goat2'\n",
       "\\item 'goat1'\n",
       "\\item 'car'\n",
       "\\item 'car'\n",
       "\\item 'car'\n",
       "\\item 'goat1'\n",
       "\\item 'goat1'\n",
       "\\item 'car'\n",
       "\\item 'car'\n",
       "\\item 'goat2'\n",
       "\\end{enumerate*}\n"
      ],
      "text/markdown": [
       "1. 'car'\n",
       "2. 'goat2'\n",
       "3. 'car'\n",
       "4. 'goat1'\n",
       "5. 'goat2'\n",
       "6. 'goat1'\n",
       "7. 'car'\n",
       "8. 'car'\n",
       "9. 'goat1'\n",
       "10. 'goat2'\n",
       "11. 'goat1'\n",
       "12. 'goat2'\n",
       "13. 'goat1'\n",
       "14. 'goat1'\n",
       "15. 'car'\n",
       "16. 'goat2'\n",
       "17. 'goat1'\n",
       "18. 'goat2'\n",
       "19. 'car'\n",
       "20. 'car'\n",
       "21. 'goat2'\n",
       "22. 'goat1'\n",
       "23. 'car'\n",
       "24. 'goat2'\n",
       "25. 'car'\n",
       "26. 'goat2'\n",
       "27. 'goat1'\n",
       "28. 'goat1'\n",
       "29. 'goat2'\n",
       "30. 'car'\n",
       "31. 'goat2'\n",
       "32. 'car'\n",
       "33. 'goat2'\n",
       "34. 'car'\n",
       "35. 'goat2'\n",
       "36. 'goat2'\n",
       "37. 'goat1'\n",
       "38. 'goat1'\n",
       "39. 'goat1'\n",
       "40. 'car'\n",
       "41. 'goat1'\n",
       "42. 'goat2'\n",
       "43. 'car'\n",
       "44. 'goat2'\n",
       "45. 'goat2'\n",
       "46. 'car'\n",
       "47. 'car'\n",
       "48. 'car'\n",
       "49. 'car'\n",
       "50. 'car'\n",
       "51. 'goat1'\n",
       "52. 'car'\n",
       "53. 'goat2'\n",
       "54. 'car'\n",
       "55. 'goat2'\n",
       "56. 'car'\n",
       "57. 'goat2'\n",
       "58. 'goat1'\n",
       "59. 'goat2'\n",
       "60. 'goat1'\n",
       "61. 'goat2'\n",
       "62. 'goat1'\n",
       "63. 'goat2'\n",
       "64. 'car'\n",
       "65. 'car'\n",
       "66. 'goat2'\n",
       "67. 'goat2'\n",
       "68. 'goat2'\n",
       "69. 'goat1'\n",
       "70. 'goat1'\n",
       "71. 'goat1'\n",
       "72. 'goat2'\n",
       "73. 'car'\n",
       "74. 'goat1'\n",
       "75. 'car'\n",
       "76. 'goat2'\n",
       "77. 'goat1'\n",
       "78. 'goat2'\n",
       "79. 'car'\n",
       "80. 'goat2'\n",
       "81. 'goat2'\n",
       "82. 'car'\n",
       "83. 'car'\n",
       "84. 'goat1'\n",
       "85. 'goat1'\n",
       "86. 'goat1'\n",
       "87. 'goat2'\n",
       "88. 'car'\n",
       "89. 'car'\n",
       "90. 'goat1'\n",
       "91. 'goat2'\n",
       "92. 'goat1'\n",
       "93. 'car'\n",
       "94. 'car'\n",
       "95. 'car'\n",
       "96. 'goat1'\n",
       "97. 'goat1'\n",
       "98. 'car'\n",
       "99. 'car'\n",
       "100. 'goat2'\n",
       "\n",
       "\n"
      ],
      "text/plain": [
       "  [1] \"car\"   \"goat2\" \"car\"   \"goat1\" \"goat2\" \"goat1\" \"car\"   \"car\"   \"goat1\"\n",
       " [10] \"goat2\" \"goat1\" \"goat2\" \"goat1\" \"goat1\" \"car\"   \"goat2\" \"goat1\" \"goat2\"\n",
       " [19] \"car\"   \"car\"   \"goat2\" \"goat1\" \"car\"   \"goat2\" \"car\"   \"goat2\" \"goat1\"\n",
       " [28] \"goat1\" \"goat2\" \"car\"   \"goat2\" \"car\"   \"goat2\" \"car\"   \"goat2\" \"goat2\"\n",
       " [37] \"goat1\" \"goat1\" \"goat1\" \"car\"   \"goat1\" \"goat2\" \"car\"   \"goat2\" \"goat2\"\n",
       " [46] \"car\"   \"car\"   \"car\"   \"car\"   \"car\"   \"goat1\" \"car\"   \"goat2\" \"car\"  \n",
       " [55] \"goat2\" \"car\"   \"goat2\" \"goat1\" \"goat2\" \"goat1\" \"goat2\" \"goat1\" \"goat2\"\n",
       " [64] \"car\"   \"car\"   \"goat2\" \"goat2\" \"goat2\" \"goat1\" \"goat1\" \"goat1\" \"goat2\"\n",
       " [73] \"car\"   \"goat1\" \"car\"   \"goat2\" \"goat1\" \"goat2\" \"car\"   \"goat2\" \"goat2\"\n",
       " [82] \"car\"   \"car\"   \"goat1\" \"goat1\" \"goat1\" \"goat2\" \"car\"   \"car\"   \"goat1\"\n",
       " [91] \"goat2\" \"goat1\" \"car\"   \"car\"   \"car\"   \"goat1\" \"goat1\" \"car\"   \"car\"  \n",
       "[100] \"goat2\""
      ]
     },
     "metadata": {},
     "output_type": "display_data"
    }
   ],
   "source": [
    "sim.move1(100)"
   ]
  },
  {
   "cell_type": "markdown",
   "metadata": {},
   "source": [
    "## Simulate the Three Doors\n",
    "Genrate a 3-column table, representing possible 3-door configuraitons. Use 1 for car; 0 for goat."
   ]
  },
  {
   "cell_type": "code",
   "execution_count": 21,
   "metadata": {},
   "outputs": [
    {
     "data": {
      "text/html": [
       "<table>\n",
       "<thead><tr><th scope=col>Car</th><th scope=col>Goat 1</th><th scope=col>Goat 2</th></tr></thead>\n",
       "<tbody>\n",
       "\t<tr><td>27</td><td>35</td><td>24</td></tr>\n",
       "\t<tr><td>35</td><td>25</td><td>27</td></tr>\n",
       "\t<tr><td>33</td><td>35</td><td>39</td></tr>\n",
       "\t<tr><td>35</td><td>33</td><td>31</td></tr>\n",
       "\t<tr><td>27</td><td>37</td><td>38</td></tr>\n",
       "\t<tr><td>32</td><td>33</td><td>36</td></tr>\n",
       "\t<tr><td>37</td><td>34</td><td>37</td></tr>\n",
       "\t<tr><td>22</td><td>32</td><td>31</td></tr>\n",
       "\t<tr><td>40</td><td>38</td><td>45</td></tr>\n",
       "\t<tr><td>33</td><td>35</td><td>29</td></tr>\n",
       "</tbody>\n",
       "</table>\n"
      ],
      "text/latex": [
       "\\begin{tabular}{r|lll}\n",
       " Car & Goat 1 & Goat 2\\\\\n",
       "\\hline\n",
       "\t 27 & 35 & 24\\\\\n",
       "\t 35 & 25 & 27\\\\\n",
       "\t 33 & 35 & 39\\\\\n",
       "\t 35 & 33 & 31\\\\\n",
       "\t 27 & 37 & 38\\\\\n",
       "\t 32 & 33 & 36\\\\\n",
       "\t 37 & 34 & 37\\\\\n",
       "\t 22 & 32 & 31\\\\\n",
       "\t 40 & 38 & 45\\\\\n",
       "\t 33 & 35 & 29\\\\\n",
       "\\end{tabular}\n"
      ],
      "text/markdown": [
       "\n",
       "Car | Goat 1 | Goat 2 | \n",
       "|---|---|---|---|---|---|---|---|---|---|\n",
       "| 27 | 35 | 24 | \n",
       "| 35 | 25 | 27 | \n",
       "| 33 | 35 | 39 | \n",
       "| 35 | 33 | 31 | \n",
       "| 27 | 37 | 38 | \n",
       "| 32 | 33 | 36 | \n",
       "| 37 | 34 | 37 | \n",
       "| 22 | 32 | 31 | \n",
       "| 40 | 38 | 45 | \n",
       "| 33 | 35 | 29 | \n",
       "\n",
       "\n"
      ],
      "text/plain": [
       "   Car Goat 1 Goat 2\n",
       "1  27  35     24    \n",
       "2  35  25     27    \n",
       "3  33  35     39    \n",
       "4  35  33     31    \n",
       "5  27  37     38    \n",
       "6  32  33     36    \n",
       "7  37  34     37    \n",
       "8  22  32     31    \n",
       "9  40  38     45    \n",
       "10 33  35     29    "
      ]
     },
     "metadata": {},
     "output_type": "display_data"
    }
   ],
   "source": [
    "# TODO: fix the demand varname\n",
    "# TODO: replact rpois with runif \n",
    "\n",
    "sim.doors = function(lambda, n){\n",
    "    arrivals = rpois(n, lambda)  # Compute realizations of arrivals (based on poisson distro)\n",
    "    demand.mat = matrix(0, n, 3) # Initalize an nx3 matrix (n rows, 3 bread types per row), all with zeros\n",
    "    i = 1\n",
    "    for (a in arrivals) {\n",
    "        demand.mat[i, ] = t(matrix(table(sim.move1(a)))) # Add one realization to matrix\n",
    "        i = i + 1\n",
    "    }  \n",
    "    demand = data.frame(demand.mat)\n",
    "    names(demand) = c('Car', 'Goat 1', 'Goat 2')\n",
    "    demand\n",
    "}   \n",
    "sim.doors(100, 10)"
   ]
  },
  {
   "cell_type": "code",
   "execution_count": 10,
   "metadata": {},
   "outputs": [
    {
     "ename": "ERROR",
     "evalue": "Error in doors.mat[i, ] = t(matrix(table(sim.move1(a)))): replacement has length zero\n",
     "output_type": "error",
     "traceback": [
      "Error in doors.mat[i, ] = t(matrix(table(sim.move1(a)))): replacement has length zero\nTraceback:\n",
      "1. sim.doors(10)"
     ]
    }
   ],
   "source": [
    "sim.doors(10)"
   ]
  },
  {
   "cell_type": "code",
   "execution_count": 17,
   "metadata": {
    "collapsed": true
   },
   "outputs": [],
   "source": [
    "sim.doors = function(n){\n",
    "    move1s = runif(n)\n",
    "    doors.mat = matrix(0,n,3)  ## Initalize an nx3 matrix all with zeros\n",
    "    \n",
    "    i = 1\n",
    "    for (a in move1s) {\n",
    "        doors.mat[i, ] = t(matrix(table(sim.move1(a)))) # Add one realization to matrix\n",
    "        i = i + 1\n",
    "    }\n",
    "}"
   ]
  },
  {
   "cell_type": "code",
   "execution_count": 18,
   "metadata": {},
   "outputs": [
    {
     "ename": "ERROR",
     "evalue": "Error in doors.mat[i, ] = t(matrix(table(sim.move1(a)))): replacement has length zero\n",
     "output_type": "error",
     "traceback": [
      "Error in doors.mat[i, ] = t(matrix(table(sim.move1(a)))): replacement has length zero\nTraceback:\n",
      "1. sim.doors(10)"
     ]
    }
   ],
   "source": [
    "sim.doors(10)"
   ]
  },
  {
   "cell_type": "code",
   "execution_count": null,
   "metadata": {
    "collapsed": true
   },
   "outputs": [],
   "source": []
  },
  {
   "cell_type": "markdown",
   "metadata": {},
   "source": [
    "## Simulate Monty's Move\n",
    "Monty's move is deterministic, but depends on the Contestant's first move.\n",
    " - If Contestant picked the car, Monty will \"flip a coin\" and pick one of the remaining two doors at random.\n",
    " - If Contestant picked a goat, Monty has only one choice - pick the goat.\n",
    " "
   ]
  },
  {
   "cell_type": "code",
   "execution_count": null,
   "metadata": {},
   "outputs": [],
   "source": [
    "# TODO: fix the demand varname\n",
    "# TODO: replact rpois with runif \n",
    "\n",
    "sim.monty = function(lambda, n){\n",
    "    arrivals = rpois(n, lambda)  # Compute realizations of arrivals (based on poisson distro)\n",
    "    demand.mat = matrix(0, n, 3) # Initalize an nx3 matrix (n rows, 3 bread types per row), all with zeros\n",
    "    i = 1\n",
    "    for (a in arrivals) {\n",
    "        demand.mat[i, ] = t(matrix(table(sim.move1(a)))) # Add one realization to matrix\n",
    "        i = i + 1\n",
    "    }  \n",
    "    demand = data.frame(demand.mat)\n",
    "    names(demand) = c('Door 1', 'Door 2', 'Door 3')\n",
    "    demand\n",
    "}   \n",
    "sim.doors(100, 10)"
   ]
  },
  {
   "cell_type": "code",
   "execution_count": null,
   "metadata": {
    "collapsed": true
   },
   "outputs": [],
   "source": [
    "sim.Move2 = function(n){\n",
    "    # start by simulating move 1\n",
    "    # Did contestant pick the car?\n",
    "    # Yes, flip coin, pick one of 2 remg doors\n",
    "    # No, pick the only door without a car.\n",
    "}"
   ]
  },
  {
   "cell_type": "code",
   "execution_count": null,
   "metadata": {
    "collapsed": true
   },
   "outputs": [],
   "source": [
    "## Simulate Contestant's Next Move\n",
    "Maybe yes; Maybe no"
   ]
  }
 ],
 "metadata": {
  "kernelspec": {
   "display_name": "R",
   "language": "R",
   "name": "ir"
  },
  "language_info": {
   "codemirror_mode": "r",
   "file_extension": ".r",
   "mimetype": "text/x-r-source",
   "name": "R",
   "pygments_lexer": "r",
   "version": "3.2.3"
  }
 },
 "nbformat": 4,
 "nbformat_minor": 2
}

{
 "cells": [
  {
   "cell_type": "markdown",
   "metadata": {},
   "source": [
    "# CAR TALK: SLICING AND DICING OF PRICING\n",
    "**_The search for normality and significance_**\n",
    "### Data Science 410 BB\n",
    "#### University of Washington Professional & Continuing Education\n",
    "#### Homework 4: Hypothesis Testing\n",
    "#### Leo Salemann, 2/1/18\n"
   ]
  },
  {
   "cell_type": "markdown",
   "metadata": {},
   "source": [
    "# Load & Inspect Data"
   ]
  },
  {
   "cell_type": "code",
   "execution_count": null,
   "metadata": {},
   "outputs": [],
   "source": [
    "read.auto = function(file = '../../../DataScience410/Lecture1/Automobile price data _Raw_.csv'){\n",
    "  ## Read the csv file\n",
    "  auto.price <- read.csv(file, header = TRUE, \n",
    "                      stringsAsFactors = FALSE)\n",
    "\n",
    "  ## Coerce some character columns to numeric\n",
    "  numcols <- c('price', 'bore', 'stroke', 'horsepower', 'peak.rpm')\n",
    "  auto.price[, numcols] <- lapply(auto.price[, numcols], as.numeric)\n",
    "\n",
    "  ## Remove cases or rows with missing values. In this case we keep the \n",
    "  ## rows which do not have nas. \n",
    "  auto.price[complete.cases(auto.price), ]\n",
    "}\n",
    "auto.price = read.auto()\n",
    "str(auto.price)"
   ]
  },
  {
   "cell_type": "markdown",
   "metadata": {},
   "source": [
    "## Normalize Pricing values\n",
    "Get everything ranging from zero to one.\n",
    "normit function from  [stack overlow](https://stackoverflow.com/questions/5665599/range-standardization-0-to-1-in-r)"
   ]
  },
  {
   "cell_type": "code",
   "execution_count": null,
   "metadata": {},
   "outputs": [],
   "source": [
    "prices = auto.price$price\n",
    "prices.log = log(auto.price$price)\n",
    "\n",
    "normit = function(x){(x-min(x))/(max(x)-min(x))}\n",
    "\n",
    "prices.norm = normit(prices)\n",
    "prices.log.norm = normit(prices.log)\n",
    "\n",
    "head(prices.norm)\n",
    "head(prices.log.norm)"
   ]
  },
  {
   "cell_type": "markdown",
   "metadata": {
    "collapsed": true
   },
   "source": [
    "# Compare and test Normality: A Graphical Approach"
   ]
  },
  {
   "cell_type": "markdown",
   "metadata": {},
   "source": [
    "## Start with paired Q-Q plots  "
   ]
  },
  {
   "cell_type": "code",
   "execution_count": null,
   "metadata": {},
   "outputs": [],
   "source": [
    "options(repr.plot.width=5, repr.plot.height=3)\n",
    "\n",
    "# Visual test of normality\n",
    "par(mfrow = c(1, 2))\n",
    "qqnorm(prices.norm, main = 'Q-Q plot of Price')\n",
    "qqnorm(prices.log.norm, main = 'Q-Q plot of log(Price)')\n",
    "par(mfrow = c(1, 1))"
   ]
  },
  {
   "cell_type": "markdown",
   "metadata": {},
   "source": [
    "Log(Price) appears to be closer to normal (e.g. a move of a straight line) than regular prce."
   ]
  },
  {
   "cell_type": "markdown",
   "metadata": {},
   "source": [
    "## A closer look with individual plots"
   ]
  },
  {
   "cell_type": "code",
   "execution_count": null,
   "metadata": {},
   "outputs": [],
   "source": [
    "options(repr.plot.width=5, repr.plot.height=5)\n",
    "\n",
    "# Visual test of normality\n",
    "qqnorm(prices.norm, main = 'Q-Q plot of Price')\n",
    "abline(a = 0.0, b = 1.0, lty = 2, col = 'blue')"
   ]
  },
  {
   "cell_type": "code",
   "execution_count": null,
   "metadata": {},
   "outputs": [],
   "source": [
    "options(repr.plot.width=5, repr.plot.height=5)\n",
    "\n",
    "# Visual test of normality\n",
    "qqnorm(prices.log.norm, main = 'Q-Q plot of log(Price)')\n",
    "abline(a = 0.0, b = 1.0, lty = 2, col = 'blue')"
   ]
  },
  {
   "cell_type": "markdown",
   "metadata": {},
   "source": [
    "There's a tiny patch between the 0.4 and 0.6 quantiles where log(Price) matches a normal distribution; regular Price doesn't come close."
   ]
  },
  {
   "cell_type": "markdown",
   "metadata": {
    "collapsed": true
   },
   "source": [
    "# Compare and test Normality: Formal tests though K-S Statistics"
   ]
  },
  {
   "cell_type": "code",
   "execution_count": null,
   "metadata": {},
   "outputs": [],
   "source": [
    "normal.distro = rnorm(948) ## Our standard Normal for comparison.\n",
    "ks.test(prices.norm, normal.distro, alternative = \"two.sided\") \n",
    "ks.test(prices.log.norm, normal.distro, alternative = \"two.sided\") "
   ]
  },
  {
   "cell_type": "markdown",
   "metadata": {},
   "source": [
    "\n",
    "Analyticlally, the p-values are the same; can't tell the difference.\n"
   ]
  },
  {
   "cell_type": "markdown",
   "metadata": {},
   "source": [
    "## Conclusion, Normality Tests\n",
    "Both are terrible, but log of price is just-slightly more similar to a normal distributon."
   ]
  },
  {
   "cell_type": "markdown",
   "metadata": {},
   "source": [
    "# Testing Significance of log(Price) based on fuel, aspiration, drive train"
   ]
  },
  {
   "cell_type": "markdown",
   "metadata": {},
   "source": [
    "## Significance by Fuel Type: Are Diesel Cars More Expensive than Gas?"
   ]
  },
  {
   "cell_type": "markdown",
   "metadata": {},
   "source": [
    "Start with a plot function that we'll be using over and over again."
   ]
  },
  {
   "cell_type": "code",
   "execution_count": null,
   "metadata": {
    "collapsed": true
   },
   "outputs": [],
   "source": [
    "plot.t <- function(a, b, cols = c('pop_A', 'pop_B'), nbins = 20){\n",
    "  maxs = max(c(max(a), max(b)))\n",
    "  mins = min(c(min(a), min(b)))\n",
    "  breaks = seq(maxs, mins, length.out = (nbins + 1))\n",
    "  par(mfrow = c(2, 1))\n",
    "  hist(a, breaks = breaks, main = paste('Histogram of', cols[1]), xlab = cols[1])\n",
    "  abline(v = mean(a), lwd = 4, col = 'red')\n",
    "  hist(b, breaks = breaks, main = paste('Histogram of', cols[2]), xlab = cols[2])\n",
    "  abline(v = mean(b), lwd = 4, col = 'red')\n",
    "  par(mfrow = c(1, 1))\n",
    "}"
   ]
  },
  {
   "cell_type": "code",
   "execution_count": null,
   "metadata": {},
   "outputs": [],
   "source": [
    "table(auto.price$fuel.type)"
   ]
  },
  {
   "cell_type": "code",
   "execution_count": null,
   "metadata": {
    "collapsed": true
   },
   "outputs": [],
   "source": [
    "autos.gas = auto.price[auto.price$fuel.type == 'gas',]\n",
    "autos.diesel = auto.price[auto.price$fuel.type == 'diesel',]\n",
    "autos.gas.log.prices = log(autos.gas$price)\n",
    "autos.diesel.log.prices = log(autos.diesel$price)"
   ]
  },
  {
   "cell_type": "code",
   "execution_count": null,
   "metadata": {},
   "outputs": [],
   "source": [
    "plot.t(autos.gas.log.prices, autos.diesel.log.prices, \n",
    "       cols = c('log(Gas Auto Price)', 'log(Diesel Auto Price)'))\n",
    "\n",
    "t.test(autos.gas.log.prices, autos.diesel.log.prices, alternative = \"two.sided\")"
   ]
  },
  {
   "cell_type": "markdown",
   "metadata": {},
   "source": [
    "* Histograms appear to have significant overlap, with means fairly close together.\n",
    "\n",
    "* P-value indicates we'd obtain the observed difference (or larger) in 5.6% of samples due to random sample error. \n",
    "\n",
    "* The 95% confidence interval straddles zero. \n",
    "\n",
    "* All the above suggests diesel autos *are not* reliably more expensive than gas autos."
   ]
  },
  {
   "cell_type": "markdown",
   "metadata": {},
   "source": [
    "## Aspiration: Are Turbos more expensive? "
   ]
  },
  {
   "cell_type": "code",
   "execution_count": null,
   "metadata": {},
   "outputs": [],
   "source": [
    "head(auto.price, 3)"
   ]
  },
  {
   "cell_type": "code",
   "execution_count": null,
   "metadata": {},
   "outputs": [],
   "source": [
    "table(auto.price$aspiration)"
   ]
  },
  {
   "cell_type": "code",
   "execution_count": null,
   "metadata": {
    "collapsed": true
   },
   "outputs": [],
   "source": [
    "autos.std = auto.price[auto.price$aspiration == 'std',]\n",
    "autos.turbo = auto.price[auto.price$aspiration == 'turbo',]\n",
    "autos.std.log.prices = log(autos.std$price)\n",
    "autos.turbo.log.prices = log(autos.turbo$price)"
   ]
  },
  {
   "cell_type": "code",
   "execution_count": null,
   "metadata": {},
   "outputs": [],
   "source": [
    "plot.t(autos.std.log.prices, autos.turbo.log.prices, \n",
    "       cols = c('log(Auto Prices), std Aspiration', 'log(Auto Prices), Turbo'))\n",
    "\n",
    "t.test(autos.std.log.prices, autos.turbo.log.prices, alternative = \"two.sided\")"
   ]
  },
  {
   "cell_type": "markdown",
   "metadata": {},
   "source": [
    "* Histograms appear to have somewhat divergent shapes with a fairly big gap between means.\n",
    "\n",
    "* P-value is infinitessimal, indicating it would be highly unlikely that any observed price difference is due to random sampling error.\n",
    "\n",
    "* Both sides of the 95% confidence interval is on the same side of zero\n",
    "\n",
    "* All the above suggests a turbo charger is usually going to have a signtificant impact on price."
   ]
  },
  {
   "cell_type": "markdown",
   "metadata": {},
   "source": [
    "## Drive Train: Is Front-Wheel Drive cheaper than Rear Wheeel?"
   ]
  },
  {
   "cell_type": "code",
   "execution_count": null,
   "metadata": {},
   "outputs": [],
   "source": [
    "head(auto.price, 3)"
   ]
  },
  {
   "cell_type": "code",
   "execution_count": null,
   "metadata": {},
   "outputs": [],
   "source": [
    "table(auto.price$drive.wheels)"
   ]
  },
  {
   "cell_type": "code",
   "execution_count": null,
   "metadata": {
    "collapsed": true
   },
   "outputs": [],
   "source": [
    "autos.fwd = auto.price[auto.price$drive.wheels == 'fwd',]\n",
    "autos.rwd = auto.price[auto.price$drive.wheels == 'rwd',]\n",
    "autos.fwd.log.prices = log(autos.fwd$price)\n",
    "autos.rwd.log.prices = log(autos.rwd$price)"
   ]
  },
  {
   "cell_type": "code",
   "execution_count": null,
   "metadata": {},
   "outputs": [],
   "source": [
    "plot.t(autos.fwd.log.prices, autos.rwd.log.prices, \n",
    "       cols = c('log of Auto Prices, FWD', 'log of Auto Prices, RWD'))\n",
    "\n",
    "t.test(autos.fwd.log.prices, autos.rwd.log.prices, alternative = \"two.sided\")"
   ]
  },
  {
   "cell_type": "markdown",
   "metadata": {},
   "source": [
    "* Histograms appear to have higlly divergent shapes with a major gap between means.\n",
    "\n",
    "* P-value is infinitessimal, indicating it would be highly unlikely that any observed price difference is due to random sampling error.\n",
    "\n",
    "* Both sides of the 95% confidence interval is on the same side of zero\n",
    "\n",
    "* All the above indicates you're practically guaranteed to save money by picking front-wheel drive."
   ]
  },
  {
   "cell_type": "markdown",
   "metadata": {},
   "source": [
    "# Pricing and Body Style"
   ]
  },
  {
   "cell_type": "markdown",
   "metadata": {},
   "source": [
    "## Price by body style, ANOVA"
   ]
  },
  {
   "cell_type": "code",
   "execution_count": null,
   "metadata": {},
   "outputs": [],
   "source": [
    "head(auto.price, 4)"
   ]
  },
  {
   "cell_type": "code",
   "execution_count": null,
   "metadata": {},
   "outputs": [],
   "source": [
    "table (auto.price$body.style)"
   ]
  },
  {
   "cell_type": "markdown",
   "metadata": {},
   "source": [
    "Drop convertibles and hardtops, since there aren't very many of them."
   ]
  },
  {
   "cell_type": "code",
   "execution_count": null,
   "metadata": {},
   "outputs": [],
   "source": [
    "autos.body.style = auto.price[auto.price$body.style %in% c(\"hatchback\",\"sedan\", \"wagon\"),]\n",
    "table (autos.body.style$body.style)"
   ]
  },
  {
   "cell_type": "code",
   "execution_count": null,
   "metadata": {},
   "outputs": [],
   "source": [
    "autos.body.style.aov = aov(log(price) ~ body.style, data = autos.body.style)\n",
    "summary(autos.body.style.aov)"
   ]
  },
  {
   "cell_type": "markdown",
   "metadata": {},
   "source": [
    "P-value indicates at least two body styles have a significant price difference."
   ]
  },
  {
   "cell_type": "code",
   "execution_count": null,
   "metadata": {},
   "outputs": [],
   "source": [
    "print(autos.body.style.aov)"
   ]
  },
  {
   "cell_type": "code",
   "execution_count": null,
   "metadata": {},
   "outputs": [],
   "source": [
    "options(repr.plot.width=4, repr.plot.height=6)\n",
    "boxplot(log(autos.body.style$price) ~ autos.body.style$body.style)"
   ]
  },
  {
   "cell_type": "markdown",
   "metadata": {},
   "source": [
    "* Sedan and Wagon appear very similar\n",
    "* Greatest difference appears to be between hatchback and wagon"
   ]
  },
  {
   "cell_type": "markdown",
   "metadata": {},
   "source": [
    "## Price by body style, Tukey HSD"
   ]
  },
  {
   "cell_type": "code",
   "execution_count": null,
   "metadata": {},
   "outputs": [],
   "source": [
    "autos.body.style.hsd = TukeyHSD(autos.body.style.aov)\n",
    "autos.body.style.hsd"
   ]
  },
  {
   "cell_type": "markdown",
   "metadata": {},
   "source": [
    "* P-values indicate a signtificant price (okay, log(price) difference betwen sedans & hatchbacks.\n",
    "* Wagons & Hatchbacks fall just-short of the 5% p-value threshold.\n",
    "* Wagon vs.  Sedan body style is not a good price indicator."
   ]
  },
  {
   "cell_type": "markdown",
   "metadata": {},
   "source": [
    "las parameter setting from [stack overvlow](https://stackoverflow.com/questions/1828742/rotating-axis-labels-in-r)\n",
    "\n",
    "mar parameter from [r-bloggers](https://www.r-bloggers.com/setting-graph-margins-in-r-using-the-par-function-and-lots-of-cow-milk/)"
   ]
  },
  {
   "cell_type": "code",
   "execution_count": null,
   "metadata": {
    "scrolled": false
   },
   "outputs": [],
   "source": [
    "options(repr.plot.width=8, repr.plot.height=3)\n",
    "par (las=2)\n",
    "par(mar=c(5,10,3,1))\n",
    "plot(autos.body.style.hsd)"
   ]
  },
  {
   "cell_type": "markdown",
   "metadata": {},
   "source": [
    "Tukey HSD validates the \"hunch\" we got from ANOVA\n",
    "* There's a singificant difference between sedans and hatchbacks. \n",
    "* Wagons vs. Hatchback almost makes the cut, but not quite.\n",
    "* Wagan vs. Sedan does not have a significant impact on price."
   ]
  }
 ],
 "metadata": {
  "kernelspec": {
   "display_name": "R",
   "language": "R",
   "name": "ir"
  },
  "language_info": {
   "codemirror_mode": "r",
   "file_extension": ".r",
   "mimetype": "text/x-r-source",
   "name": "R",
   "pygments_lexer": "r",
   "version": "3.2.3"
  }
 },
 "nbformat": 4,
 "nbformat_minor": 2
}

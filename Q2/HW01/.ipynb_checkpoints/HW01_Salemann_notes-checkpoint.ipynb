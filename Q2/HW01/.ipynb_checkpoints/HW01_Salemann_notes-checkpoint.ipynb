{
 "cells": [
  {
   "cell_type": "markdown",
   "metadata": {},
   "source": [
    "# Data Science 410 BB\n",
    "## Univerity of Washington Professional & Continuing Education\n",
    "\n",
    "### Homework N: title\n",
    "### Leo Salemann\n",
    "### date\n"
   ]
  },
  {
   "cell_type": "markdown",
   "metadata": {
    "collapsed": true
   },
   "source": [
    "What's the big reveal?\n",
    "- Things tend to cluster around overall height.\n",
    "  - Heating Load v. Wall.Area\n",
    "  - Heating Load v. Surface Area\n",
    "  - Heating Load v. Relative cmpacness \n",
    "      - (looks like flipside of sfc area)\n",
    "  \n",
    "How did we figure it out?\n",
    "- basic data checks\n",
    "- pairs plot, colorize on realtive height\n",
    "- \"Zoom in\" to key params\n",
    "\n",
    "Other stuff\n",
    "- Heating Load v. Surface Area, splits on height & glazing\n",
    "  - color based on glazing\n",
    "  - size or shape based on height\n",
    "  - The countoured dot plot brings ths out too\n",
    "    - suggests a 3rd cluster: Higest heat laod, medum sfc area\n",
    "- Violin plot, heating v. Roof Area\n",
    "  - culsters based on ehight (1 short, 3 tall)\n",
    "- Violin plot Load vs. Sfc Area\n",
    "  - follows the dot plot, basicaly. \n",
    "  \n",
    "- Density Plot, two humps.\n",
    "  - but just the slightes dent/bump on the right-side one.\n",
    "  \n",
    "  \n",
    "- More ideas ...\n",
    "  - Can use Glazing.Area.Distribution for clean integers.\n",
    "  - The ultimate mega-plot\n",
    "    - 5 shapes (Glazing.Area.Distro)\n",
    "    - 4 colors (Glazing.Area)\n",
    "    - 2 sizes (Height)\n",
    "  - Also keep stepping thru the class notebook\n",
    "\n",
    "- Glazing Area ... \n",
    "  - Area: 0, 0.1, 0.25, 0.4\n",
    "  - Area.Disribution 0, 1, 2, 3, 4, 5\n",
    "- How do we tell a story? ....\n",
    "  - Find the \"load\" vars\n",
    "    - Do the denisty plot (2 humps)\n",
    "  - Pairs plot, colors, size or shape, look for patterns\n",
    "  - Pick out the Heting Load vs. Sfc Area, \n",
    "    - or Relative Comapctness\n",
    "    - or Wall ARea\n",
    "  - Do contoured dot plots ... find 3 clusters\n",
    "  - Move on to violin plots ...\n",
    "    - can pick out the 3 clusters\n",
    "    - everthing has a \"low skinny tail\" (one outliner?)\n",
    "      - Maybe violin + box plot\n",
    "\n",
    "  "
   ]
  },
  {
   "cell_type": "code",
   "execution_count": null,
   "metadata": {
    "collapsed": true
   },
   "outputs": [],
   "source": []
  }
 ],
 "metadata": {
  "kernelspec": {
   "display_name": "R",
   "language": "R",
   "name": "ir"
  },
  "language_info": {
   "codemirror_mode": "r",
   "file_extension": ".r",
   "mimetype": "text/x-r-source",
   "name": "R",
   "pygments_lexer": "r",
   "version": "3.2.3"
  }
 },
 "nbformat": 4,
 "nbformat_minor": 2
}
